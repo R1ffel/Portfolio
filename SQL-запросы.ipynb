{
 "cells": [
  {
   "cell_type": "markdown",
   "metadata": {},
   "source": [
    "# SQL-запросы"
   ]
  },
  {
   "cell_type": "markdown",
   "metadata": {},
   "source": [
    "Проанализируем базу данных в сервисе для чтения книг по подписке.\n",
    "\n",
    "В базе данных есть информация о книгах, издательствах, авторах, а также пользовательские обзоры книг."
   ]
  },
  {
   "cell_type": "markdown",
   "metadata": {},
   "source": [
    "Описание данных:\n",
    "- Таблица `books` (Содержит данные о книгах):\n",
    "    - `book_id` — идентификатор книги;\n",
    "    - `author_id` — идентификатор автора;\n",
    "    - `title` — название книги;\n",
    "    - `num_pages` — количество страниц;\n",
    "    - `publication_date` — дата публикации книги;\n",
    "    - `publisher_id` — идентификатор издателя.\n",
    "- Таблица `authors` (Содержит данные об авторах):\n",
    "    - `author_id` — идентификатор автора;\n",
    "    - `author` — имя автора.\n",
    "- Таблица `publishers` (Содержит данные об издательствах):\n",
    "    - `publisher_id` — идентификатор издательства;\n",
    "    - `publisher` — название издательства;\n",
    "- Таблица `ratings` (Содержит данные о пользовательских оценках книг):\n",
    "    - `rating_id` — идентификатор оценки;\n",
    "    - `book_id` — идентификатор книги;\n",
    "    - `username` — имя пользователя, оставившего оценку;\n",
    "    - `rating` — оценка книги.\n",
    "- Таблица `reviews` (Содержит данные о пользовательских обзорах):\n",
    "    - `review_id` — идентификатор обзора;\n",
    "    - `book_id` — идентификатор книги;\n",
    "    - `username` — имя автора обзора;\n",
    "    - `text` — текст обзора."
   ]
  },
  {
   "cell_type": "markdown",
   "metadata": {},
   "source": [
    "## Подключение к базе данных"
   ]
  },
  {
   "cell_type": "markdown",
   "metadata": {},
   "source": [
    "Загрузим необходимые библиотеки."
   ]
  },
  {
   "cell_type": "code",
   "execution_count": 1,
   "metadata": {},
   "outputs": [],
   "source": [
    "import pandas as pd\n",
    "from sqlalchemy import text, create_engine"
   ]
  },
  {
   "cell_type": "markdown",
   "metadata": {},
   "source": [
    "Подключимся к базе данных."
   ]
  },
  {
   "cell_type": "code",
   "execution_count": 2,
   "metadata": {},
   "outputs": [],
   "source": [
    "# устанавливаем параметры\n",
    "db_config = {'user': 'praktikum_student', # имя пользователя\n",
    "'pwd': 'Sdf4$2;d-d30pp', # пароль\n",
    "'host': 'rc1b-wcoijxj3yxfsf3fs.mdb.yandexcloud.net',\n",
    "'port': 6432, # порт подключения\n",
    "'db': 'data-analyst-final-project-db'} # название базы данных\n",
    "connection_string = 'postgresql://{user}:{pwd}@{host}:{port}/{db}'.format(**db_config)\n",
    "# сохраняем коннектор\n",
    "engine = create_engine(connection_string, connect_args={'sslmode':'require'})"
   ]
  },
  {
   "cell_type": "markdown",
   "metadata": {},
   "source": [
    "## Исследование таблиц"
   ]
  },
  {
   "cell_type": "markdown",
   "metadata": {},
   "source": [
    "Для начала созданим функцию для выполнения и отоброжения запросов."
   ]
  },
  {
   "cell_type": "code",
   "execution_count": 3,
   "metadata": {},
   "outputs": [],
   "source": [
    "def show_sql(query):\n",
    "    con=engine.connect()      \n",
    "    return pd.io.sql.read_sql(sql=text(query), con = con)"
   ]
  },
  {
   "cell_type": "markdown",
   "metadata": {},
   "source": [
    "Теперь познакомимся со всеми таблицами в базе данных."
   ]
  },
  {
   "cell_type": "markdown",
   "metadata": {},
   "source": [
    "Выведем первые 5 строк из таблицы books."
   ]
  },
  {
   "cell_type": "code",
   "execution_count": 4,
   "metadata": {},
   "outputs": [
    {
     "data": {
      "text/html": [
       "<div>\n",
       "<style scoped>\n",
       "    .dataframe tbody tr th:only-of-type {\n",
       "        vertical-align: middle;\n",
       "    }\n",
       "\n",
       "    .dataframe tbody tr th {\n",
       "        vertical-align: top;\n",
       "    }\n",
       "\n",
       "    .dataframe thead th {\n",
       "        text-align: right;\n",
       "    }\n",
       "</style>\n",
       "<table border=\"1\" class=\"dataframe\">\n",
       "  <thead>\n",
       "    <tr style=\"text-align: right;\">\n",
       "      <th></th>\n",
       "      <th>book_id</th>\n",
       "      <th>author_id</th>\n",
       "      <th>title</th>\n",
       "      <th>num_pages</th>\n",
       "      <th>publication_date</th>\n",
       "      <th>publisher_id</th>\n",
       "    </tr>\n",
       "  </thead>\n",
       "  <tbody>\n",
       "    <tr>\n",
       "      <th>0</th>\n",
       "      <td>1</td>\n",
       "      <td>546</td>\n",
       "      <td>'Salem's Lot</td>\n",
       "      <td>594</td>\n",
       "      <td>2005-11-01</td>\n",
       "      <td>93</td>\n",
       "    </tr>\n",
       "    <tr>\n",
       "      <th>1</th>\n",
       "      <td>2</td>\n",
       "      <td>465</td>\n",
       "      <td>1 000 Places to See Before You Die</td>\n",
       "      <td>992</td>\n",
       "      <td>2003-05-22</td>\n",
       "      <td>336</td>\n",
       "    </tr>\n",
       "    <tr>\n",
       "      <th>2</th>\n",
       "      <td>3</td>\n",
       "      <td>407</td>\n",
       "      <td>13 Little Blue Envelopes (Little Blue Envelope...</td>\n",
       "      <td>322</td>\n",
       "      <td>2010-12-21</td>\n",
       "      <td>135</td>\n",
       "    </tr>\n",
       "    <tr>\n",
       "      <th>3</th>\n",
       "      <td>4</td>\n",
       "      <td>82</td>\n",
       "      <td>1491: New Revelations of the Americas Before C...</td>\n",
       "      <td>541</td>\n",
       "      <td>2006-10-10</td>\n",
       "      <td>309</td>\n",
       "    </tr>\n",
       "    <tr>\n",
       "      <th>4</th>\n",
       "      <td>5</td>\n",
       "      <td>125</td>\n",
       "      <td>1776</td>\n",
       "      <td>386</td>\n",
       "      <td>2006-07-04</td>\n",
       "      <td>268</td>\n",
       "    </tr>\n",
       "  </tbody>\n",
       "</table>\n",
       "</div>"
      ],
      "text/plain": [
       "   book_id  author_id                                              title  \\\n",
       "0        1        546                                       'Salem's Lot   \n",
       "1        2        465                 1 000 Places to See Before You Die   \n",
       "2        3        407  13 Little Blue Envelopes (Little Blue Envelope...   \n",
       "3        4         82  1491: New Revelations of the Americas Before C...   \n",
       "4        5        125                                               1776   \n",
       "\n",
       "   num_pages publication_date  publisher_id  \n",
       "0        594       2005-11-01            93  \n",
       "1        992       2003-05-22           336  \n",
       "2        322       2010-12-21           135  \n",
       "3        541       2006-10-10           309  \n",
       "4        386       2006-07-04           268  "
      ]
     },
     "execution_count": 4,
     "metadata": {},
     "output_type": "execute_result"
    }
   ],
   "source": [
    "query = '''\n",
    "SELECT *\n",
    "FROM books\n",
    "LIMIT 5\n",
    "'''\n",
    "\n",
    "show_sql(query)"
   ]
  },
  {
   "cell_type": "markdown",
   "metadata": {},
   "source": [
    "Выведем первые 5 строк из таблицы authors."
   ]
  },
  {
   "cell_type": "code",
   "execution_count": 5,
   "metadata": {},
   "outputs": [
    {
     "data": {
      "text/html": [
       "<div>\n",
       "<style scoped>\n",
       "    .dataframe tbody tr th:only-of-type {\n",
       "        vertical-align: middle;\n",
       "    }\n",
       "\n",
       "    .dataframe tbody tr th {\n",
       "        vertical-align: top;\n",
       "    }\n",
       "\n",
       "    .dataframe thead th {\n",
       "        text-align: right;\n",
       "    }\n",
       "</style>\n",
       "<table border=\"1\" class=\"dataframe\">\n",
       "  <thead>\n",
       "    <tr style=\"text-align: right;\">\n",
       "      <th></th>\n",
       "      <th>author_id</th>\n",
       "      <th>author</th>\n",
       "    </tr>\n",
       "  </thead>\n",
       "  <tbody>\n",
       "    <tr>\n",
       "      <th>0</th>\n",
       "      <td>1</td>\n",
       "      <td>A.S. Byatt</td>\n",
       "    </tr>\n",
       "    <tr>\n",
       "      <th>1</th>\n",
       "      <td>2</td>\n",
       "      <td>Aesop/Laura Harris/Laura Gibbs</td>\n",
       "    </tr>\n",
       "    <tr>\n",
       "      <th>2</th>\n",
       "      <td>3</td>\n",
       "      <td>Agatha Christie</td>\n",
       "    </tr>\n",
       "    <tr>\n",
       "      <th>3</th>\n",
       "      <td>4</td>\n",
       "      <td>Alan Brennert</td>\n",
       "    </tr>\n",
       "    <tr>\n",
       "      <th>4</th>\n",
       "      <td>5</td>\n",
       "      <td>Alan Moore/David   Lloyd</td>\n",
       "    </tr>\n",
       "  </tbody>\n",
       "</table>\n",
       "</div>"
      ],
      "text/plain": [
       "   author_id                          author\n",
       "0          1                      A.S. Byatt\n",
       "1          2  Aesop/Laura Harris/Laura Gibbs\n",
       "2          3                 Agatha Christie\n",
       "3          4                   Alan Brennert\n",
       "4          5        Alan Moore/David   Lloyd"
      ]
     },
     "execution_count": 5,
     "metadata": {},
     "output_type": "execute_result"
    }
   ],
   "source": [
    "query = '''\n",
    "SELECT *\n",
    "FROM authors\n",
    "LIMIT 5\n",
    "'''\n",
    "\n",
    "show_sql(query)"
   ]
  },
  {
   "cell_type": "markdown",
   "metadata": {},
   "source": [
    "Выведем первые 5 строк из таблицы publishers."
   ]
  },
  {
   "cell_type": "code",
   "execution_count": 6,
   "metadata": {},
   "outputs": [
    {
     "data": {
      "text/html": [
       "<div>\n",
       "<style scoped>\n",
       "    .dataframe tbody tr th:only-of-type {\n",
       "        vertical-align: middle;\n",
       "    }\n",
       "\n",
       "    .dataframe tbody tr th {\n",
       "        vertical-align: top;\n",
       "    }\n",
       "\n",
       "    .dataframe thead th {\n",
       "        text-align: right;\n",
       "    }\n",
       "</style>\n",
       "<table border=\"1\" class=\"dataframe\">\n",
       "  <thead>\n",
       "    <tr style=\"text-align: right;\">\n",
       "      <th></th>\n",
       "      <th>publisher_id</th>\n",
       "      <th>publisher</th>\n",
       "    </tr>\n",
       "  </thead>\n",
       "  <tbody>\n",
       "    <tr>\n",
       "      <th>0</th>\n",
       "      <td>1</td>\n",
       "      <td>Ace</td>\n",
       "    </tr>\n",
       "    <tr>\n",
       "      <th>1</th>\n",
       "      <td>2</td>\n",
       "      <td>Ace Book</td>\n",
       "    </tr>\n",
       "    <tr>\n",
       "      <th>2</th>\n",
       "      <td>3</td>\n",
       "      <td>Ace Books</td>\n",
       "    </tr>\n",
       "    <tr>\n",
       "      <th>3</th>\n",
       "      <td>4</td>\n",
       "      <td>Ace Hardcover</td>\n",
       "    </tr>\n",
       "    <tr>\n",
       "      <th>4</th>\n",
       "      <td>5</td>\n",
       "      <td>Addison Wesley Publishing Company</td>\n",
       "    </tr>\n",
       "  </tbody>\n",
       "</table>\n",
       "</div>"
      ],
      "text/plain": [
       "   publisher_id                          publisher\n",
       "0             1                                Ace\n",
       "1             2                           Ace Book\n",
       "2             3                          Ace Books\n",
       "3             4                      Ace Hardcover\n",
       "4             5  Addison Wesley Publishing Company"
      ]
     },
     "execution_count": 6,
     "metadata": {},
     "output_type": "execute_result"
    }
   ],
   "source": [
    "query = '''\n",
    "SELECT *\n",
    "FROM publishers\n",
    "LIMIT 5\n",
    "'''\n",
    "\n",
    "show_sql(query)"
   ]
  },
  {
   "cell_type": "markdown",
   "metadata": {},
   "source": [
    "Выведем первые 5 строк из таблицы ratings."
   ]
  },
  {
   "cell_type": "code",
   "execution_count": 7,
   "metadata": {},
   "outputs": [
    {
     "data": {
      "text/html": [
       "<div>\n",
       "<style scoped>\n",
       "    .dataframe tbody tr th:only-of-type {\n",
       "        vertical-align: middle;\n",
       "    }\n",
       "\n",
       "    .dataframe tbody tr th {\n",
       "        vertical-align: top;\n",
       "    }\n",
       "\n",
       "    .dataframe thead th {\n",
       "        text-align: right;\n",
       "    }\n",
       "</style>\n",
       "<table border=\"1\" class=\"dataframe\">\n",
       "  <thead>\n",
       "    <tr style=\"text-align: right;\">\n",
       "      <th></th>\n",
       "      <th>rating_id</th>\n",
       "      <th>book_id</th>\n",
       "      <th>username</th>\n",
       "      <th>rating</th>\n",
       "    </tr>\n",
       "  </thead>\n",
       "  <tbody>\n",
       "    <tr>\n",
       "      <th>0</th>\n",
       "      <td>1</td>\n",
       "      <td>1</td>\n",
       "      <td>ryanfranco</td>\n",
       "      <td>4</td>\n",
       "    </tr>\n",
       "    <tr>\n",
       "      <th>1</th>\n",
       "      <td>2</td>\n",
       "      <td>1</td>\n",
       "      <td>grantpatricia</td>\n",
       "      <td>2</td>\n",
       "    </tr>\n",
       "    <tr>\n",
       "      <th>2</th>\n",
       "      <td>3</td>\n",
       "      <td>1</td>\n",
       "      <td>brandtandrea</td>\n",
       "      <td>5</td>\n",
       "    </tr>\n",
       "    <tr>\n",
       "      <th>3</th>\n",
       "      <td>4</td>\n",
       "      <td>2</td>\n",
       "      <td>lorichen</td>\n",
       "      <td>3</td>\n",
       "    </tr>\n",
       "    <tr>\n",
       "      <th>4</th>\n",
       "      <td>5</td>\n",
       "      <td>2</td>\n",
       "      <td>mariokeller</td>\n",
       "      <td>2</td>\n",
       "    </tr>\n",
       "  </tbody>\n",
       "</table>\n",
       "</div>"
      ],
      "text/plain": [
       "   rating_id  book_id       username  rating\n",
       "0          1        1     ryanfranco       4\n",
       "1          2        1  grantpatricia       2\n",
       "2          3        1   brandtandrea       5\n",
       "3          4        2       lorichen       3\n",
       "4          5        2    mariokeller       2"
      ]
     },
     "execution_count": 7,
     "metadata": {},
     "output_type": "execute_result"
    }
   ],
   "source": [
    "query = '''\n",
    "SELECT *\n",
    "FROM ratings\n",
    "LIMIT 5\n",
    "'''\n",
    "\n",
    "show_sql(query)"
   ]
  },
  {
   "cell_type": "markdown",
   "metadata": {},
   "source": [
    "Выведем первые 5 строк из таблицы reviews."
   ]
  },
  {
   "cell_type": "code",
   "execution_count": 8,
   "metadata": {},
   "outputs": [
    {
     "data": {
      "text/html": [
       "<div>\n",
       "<style scoped>\n",
       "    .dataframe tbody tr th:only-of-type {\n",
       "        vertical-align: middle;\n",
       "    }\n",
       "\n",
       "    .dataframe tbody tr th {\n",
       "        vertical-align: top;\n",
       "    }\n",
       "\n",
       "    .dataframe thead th {\n",
       "        text-align: right;\n",
       "    }\n",
       "</style>\n",
       "<table border=\"1\" class=\"dataframe\">\n",
       "  <thead>\n",
       "    <tr style=\"text-align: right;\">\n",
       "      <th></th>\n",
       "      <th>review_id</th>\n",
       "      <th>book_id</th>\n",
       "      <th>username</th>\n",
       "      <th>text</th>\n",
       "    </tr>\n",
       "  </thead>\n",
       "  <tbody>\n",
       "    <tr>\n",
       "      <th>0</th>\n",
       "      <td>1</td>\n",
       "      <td>1</td>\n",
       "      <td>brandtandrea</td>\n",
       "      <td>Mention society tell send professor analysis. ...</td>\n",
       "    </tr>\n",
       "    <tr>\n",
       "      <th>1</th>\n",
       "      <td>2</td>\n",
       "      <td>1</td>\n",
       "      <td>ryanfranco</td>\n",
       "      <td>Foot glass pretty audience hit themselves. Amo...</td>\n",
       "    </tr>\n",
       "    <tr>\n",
       "      <th>2</th>\n",
       "      <td>3</td>\n",
       "      <td>2</td>\n",
       "      <td>lorichen</td>\n",
       "      <td>Listen treat keep worry. Miss husband tax but ...</td>\n",
       "    </tr>\n",
       "    <tr>\n",
       "      <th>3</th>\n",
       "      <td>4</td>\n",
       "      <td>3</td>\n",
       "      <td>johnsonamanda</td>\n",
       "      <td>Finally month interesting blue could nature cu...</td>\n",
       "    </tr>\n",
       "    <tr>\n",
       "      <th>4</th>\n",
       "      <td>5</td>\n",
       "      <td>3</td>\n",
       "      <td>scotttamara</td>\n",
       "      <td>Nation purpose heavy give wait song will. List...</td>\n",
       "    </tr>\n",
       "  </tbody>\n",
       "</table>\n",
       "</div>"
      ],
      "text/plain": [
       "   review_id  book_id       username  \\\n",
       "0          1        1   brandtandrea   \n",
       "1          2        1     ryanfranco   \n",
       "2          3        2       lorichen   \n",
       "3          4        3  johnsonamanda   \n",
       "4          5        3    scotttamara   \n",
       "\n",
       "                                                text  \n",
       "0  Mention society tell send professor analysis. ...  \n",
       "1  Foot glass pretty audience hit themselves. Amo...  \n",
       "2  Listen treat keep worry. Miss husband tax but ...  \n",
       "3  Finally month interesting blue could nature cu...  \n",
       "4  Nation purpose heavy give wait song will. List...  "
      ]
     },
     "execution_count": 8,
     "metadata": {},
     "output_type": "execute_result"
    }
   ],
   "source": [
    "query = '''\n",
    "SELECT *\n",
    "FROM reviews\n",
    "LIMIT 5\n",
    "'''\n",
    "\n",
    "show_sql(query)"
   ]
  },
  {
   "cell_type": "markdown",
   "metadata": {},
   "source": [
    "С таблицами познакомились, переходим к запросам."
   ]
  },
  {
   "cell_type": "markdown",
   "metadata": {},
   "source": [
    "## Запросы"
   ]
  },
  {
   "cell_type": "markdown",
   "metadata": {},
   "source": [
    "Посчитаем, сколько книг вышло после 1 января 2000 года."
   ]
  },
  {
   "cell_type": "code",
   "execution_count": 9,
   "metadata": {},
   "outputs": [
    {
     "data": {
      "text/html": [
       "<div>\n",
       "<style scoped>\n",
       "    .dataframe tbody tr th:only-of-type {\n",
       "        vertical-align: middle;\n",
       "    }\n",
       "\n",
       "    .dataframe tbody tr th {\n",
       "        vertical-align: top;\n",
       "    }\n",
       "\n",
       "    .dataframe thead th {\n",
       "        text-align: right;\n",
       "    }\n",
       "</style>\n",
       "<table border=\"1\" class=\"dataframe\">\n",
       "  <thead>\n",
       "    <tr style=\"text-align: right;\">\n",
       "      <th></th>\n",
       "      <th>total</th>\n",
       "    </tr>\n",
       "  </thead>\n",
       "  <tbody>\n",
       "    <tr>\n",
       "      <th>0</th>\n",
       "      <td>819</td>\n",
       "    </tr>\n",
       "  </tbody>\n",
       "</table>\n",
       "</div>"
      ],
      "text/plain": [
       "   total\n",
       "0    819"
      ]
     },
     "execution_count": 9,
     "metadata": {},
     "output_type": "execute_result"
    }
   ],
   "source": [
    "query = '''\n",
    "SELECT COUNT(book_id) AS total\n",
    "FROM books\n",
    "WHERE publication_date > DATE('2000-01-01')\n",
    "LIMIT 5\n",
    "'''\n",
    "\n",
    "show_sql(query)"
   ]
  },
  {
   "cell_type": "markdown",
   "metadata": {},
   "source": [
    "После 1 января 2000 года вышло 819 книг.\n",
    "\n",
    "Для каждой книги посчитаем количество обзоров и среднюю оценку."
   ]
  },
  {
   "cell_type": "code",
   "execution_count": 10,
   "metadata": {},
   "outputs": [
    {
     "data": {
      "text/html": [
       "<div>\n",
       "<style scoped>\n",
       "    .dataframe tbody tr th:only-of-type {\n",
       "        vertical-align: middle;\n",
       "    }\n",
       "\n",
       "    .dataframe tbody tr th {\n",
       "        vertical-align: top;\n",
       "    }\n",
       "\n",
       "    .dataframe thead th {\n",
       "        text-align: right;\n",
       "    }\n",
       "</style>\n",
       "<table border=\"1\" class=\"dataframe\">\n",
       "  <thead>\n",
       "    <tr style=\"text-align: right;\">\n",
       "      <th></th>\n",
       "      <th>title</th>\n",
       "      <th>total_reviews</th>\n",
       "      <th>average_rating</th>\n",
       "    </tr>\n",
       "  </thead>\n",
       "  <tbody>\n",
       "    <tr>\n",
       "      <th>0</th>\n",
       "      <td>'Salem's Lot</td>\n",
       "      <td>2</td>\n",
       "      <td>3.67</td>\n",
       "    </tr>\n",
       "    <tr>\n",
       "      <th>1</th>\n",
       "      <td>1 000 Places to See Before You Die</td>\n",
       "      <td>1</td>\n",
       "      <td>2.50</td>\n",
       "    </tr>\n",
       "    <tr>\n",
       "      <th>2</th>\n",
       "      <td>13 Little Blue Envelopes (Little Blue Envelope...</td>\n",
       "      <td>3</td>\n",
       "      <td>4.67</td>\n",
       "    </tr>\n",
       "    <tr>\n",
       "      <th>3</th>\n",
       "      <td>1491: New Revelations of the Americas Before C...</td>\n",
       "      <td>2</td>\n",
       "      <td>4.50</td>\n",
       "    </tr>\n",
       "    <tr>\n",
       "      <th>4</th>\n",
       "      <td>1776</td>\n",
       "      <td>4</td>\n",
       "      <td>4.00</td>\n",
       "    </tr>\n",
       "    <tr>\n",
       "      <th>...</th>\n",
       "      <td>...</td>\n",
       "      <td>...</td>\n",
       "      <td>...</td>\n",
       "    </tr>\n",
       "    <tr>\n",
       "      <th>995</th>\n",
       "      <td>Wyrd Sisters (Discworld  #6; Witches #2)</td>\n",
       "      <td>3</td>\n",
       "      <td>3.67</td>\n",
       "    </tr>\n",
       "    <tr>\n",
       "      <th>996</th>\n",
       "      <td>Xenocide (Ender's Saga  #3)</td>\n",
       "      <td>3</td>\n",
       "      <td>3.40</td>\n",
       "    </tr>\n",
       "    <tr>\n",
       "      <th>997</th>\n",
       "      <td>Year of Wonders</td>\n",
       "      <td>4</td>\n",
       "      <td>3.20</td>\n",
       "    </tr>\n",
       "    <tr>\n",
       "      <th>998</th>\n",
       "      <td>You Suck (A Love Story  #2)</td>\n",
       "      <td>2</td>\n",
       "      <td>4.50</td>\n",
       "    </tr>\n",
       "    <tr>\n",
       "      <th>999</th>\n",
       "      <td>Zen and the Art of Motorcycle Maintenance: An ...</td>\n",
       "      <td>4</td>\n",
       "      <td>3.83</td>\n",
       "    </tr>\n",
       "  </tbody>\n",
       "</table>\n",
       "<p>1000 rows × 3 columns</p>\n",
       "</div>"
      ],
      "text/plain": [
       "                                                 title  total_reviews  \\\n",
       "0                                         'Salem's Lot              2   \n",
       "1                   1 000 Places to See Before You Die              1   \n",
       "2    13 Little Blue Envelopes (Little Blue Envelope...              3   \n",
       "3    1491: New Revelations of the Americas Before C...              2   \n",
       "4                                                 1776              4   \n",
       "..                                                 ...            ...   \n",
       "995           Wyrd Sisters (Discworld  #6; Witches #2)              3   \n",
       "996                        Xenocide (Ender's Saga  #3)              3   \n",
       "997                                    Year of Wonders              4   \n",
       "998                        You Suck (A Love Story  #2)              2   \n",
       "999  Zen and the Art of Motorcycle Maintenance: An ...              4   \n",
       "\n",
       "     average_rating  \n",
       "0              3.67  \n",
       "1              2.50  \n",
       "2              4.67  \n",
       "3              4.50  \n",
       "4              4.00  \n",
       "..              ...  \n",
       "995            3.67  \n",
       "996            3.40  \n",
       "997            3.20  \n",
       "998            4.50  \n",
       "999            3.83  \n",
       "\n",
       "[1000 rows x 3 columns]"
      ]
     },
     "execution_count": 10,
     "metadata": {},
     "output_type": "execute_result"
    }
   ],
   "source": [
    "query = '''\n",
    "SELECT b.title,\n",
    "    ta.total_reviews,\n",
    "    ta.average_rating\n",
    "FROM (\n",
    "    SELECT rat.book_id AS book_id,\n",
    "        COUNT(DISTINCT rev.review_id) AS total_reviews,\n",
    "        ROUND(AVG(rat.rating), 2) AS average_rating\n",
    "    FROM ratings AS rat\n",
    "    FULL JOIN reviews AS rev ON rat.book_id = rev.book_id\n",
    "    GROUP BY rat.book_id) AS ta\n",
    "JOIN books AS b ON b.book_id = ta.book_id\n",
    "'''\n",
    "\n",
    "show_sql(query)"
   ]
  },
  {
   "cell_type": "markdown",
   "metadata": {},
   "source": [
    "Посчитали количество обзоров и среднюю оценку для каждой книги.\n",
    "\n",
    "Определим издательство, которое выпустило наибольшее число книг толще 50 страниц — так мы исключим из анализа брошюры."
   ]
  },
  {
   "cell_type": "code",
   "execution_count": 11,
   "metadata": {},
   "outputs": [
    {
     "data": {
      "text/html": [
       "<div>\n",
       "<style scoped>\n",
       "    .dataframe tbody tr th:only-of-type {\n",
       "        vertical-align: middle;\n",
       "    }\n",
       "\n",
       "    .dataframe tbody tr th {\n",
       "        vertical-align: top;\n",
       "    }\n",
       "\n",
       "    .dataframe thead th {\n",
       "        text-align: right;\n",
       "    }\n",
       "</style>\n",
       "<table border=\"1\" class=\"dataframe\">\n",
       "  <thead>\n",
       "    <tr style=\"text-align: right;\">\n",
       "      <th></th>\n",
       "      <th>publisher</th>\n",
       "      <th>total_books</th>\n",
       "    </tr>\n",
       "  </thead>\n",
       "  <tbody>\n",
       "    <tr>\n",
       "      <th>0</th>\n",
       "      <td>Penguin Books</td>\n",
       "      <td>42</td>\n",
       "    </tr>\n",
       "  </tbody>\n",
       "</table>\n",
       "</div>"
      ],
      "text/plain": [
       "       publisher  total_books\n",
       "0  Penguin Books           42"
      ]
     },
     "execution_count": 11,
     "metadata": {},
     "output_type": "execute_result"
    }
   ],
   "source": [
    "query = '''\n",
    "SELECT p.publisher,\n",
    "    tb.total_books\n",
    "FROM (\n",
    "    SELECT publisher_id,\n",
    "        COUNT(book_id) AS total_books\n",
    "    FROM books\n",
    "    WHERE num_pages > 50\n",
    "    GROUP BY publisher_id\n",
    "    ORDER BY total_books DESC\n",
    "    LIMIT 1) AS tb\n",
    "JOIN publishers AS p ON tb.publisher_id = p.publisher_id\n",
    "'''\n",
    "\n",
    "show_sql(query)"
   ]
  },
  {
   "cell_type": "markdown",
   "metadata": {},
   "source": [
    "Издательство Penguin Books выпустило 42 книги толще 50 страниц.\n",
    "\n",
    "Определим автора с самой высокой средней оценкой книг — будем учитывать только книги с 50 и более оценками."
   ]
  },
  {
   "cell_type": "code",
   "execution_count": 12,
   "metadata": {},
   "outputs": [
    {
     "data": {
      "text/html": [
       "<div>\n",
       "<style scoped>\n",
       "    .dataframe tbody tr th:only-of-type {\n",
       "        vertical-align: middle;\n",
       "    }\n",
       "\n",
       "    .dataframe tbody tr th {\n",
       "        vertical-align: top;\n",
       "    }\n",
       "\n",
       "    .dataframe thead th {\n",
       "        text-align: right;\n",
       "    }\n",
       "</style>\n",
       "<table border=\"1\" class=\"dataframe\">\n",
       "  <thead>\n",
       "    <tr style=\"text-align: right;\">\n",
       "      <th></th>\n",
       "      <th>author</th>\n",
       "      <th>average_rating</th>\n",
       "    </tr>\n",
       "  </thead>\n",
       "  <tbody>\n",
       "    <tr>\n",
       "      <th>0</th>\n",
       "      <td>J.K. Rowling/Mary GrandPré</td>\n",
       "      <td>4.29</td>\n",
       "    </tr>\n",
       "  </tbody>\n",
       "</table>\n",
       "</div>"
      ],
      "text/plain": [
       "                       author  average_rating\n",
       "0  J.K. Rowling/Mary GrandPré            4.29"
      ]
     },
     "execution_count": 12,
     "metadata": {},
     "output_type": "execute_result"
    }
   ],
   "source": [
    "query = '''\n",
    "SELECT a.author,\n",
    "    ROUND(ar.average_rating, 2) AS average_rating\n",
    "FROM (\n",
    "    SELECT author_id,\n",
    "        AVG(r.rating) AS average_rating\n",
    "    FROM books AS b\n",
    "    JOIN ratings AS r ON b.book_id = r.book_id\n",
    "    WHERE b.book_id in (\n",
    "        SELECT book_id\n",
    "        FROM ratings\n",
    "        GROUP BY book_id\n",
    "        HAVING COUNT(rating_id) >= 50)\n",
    "    GROUP BY author_id\n",
    "    ORDER BY average_rating DESC\n",
    "    LIMIT 1) AS ar\n",
    "JOIN authors AS a ON a.author_id = ar.author_id\n",
    "'''\n",
    "\n",
    "show_sql(query)"
   ]
  },
  {
   "cell_type": "markdown",
   "metadata": {},
   "source": [
    "У автора J.K. Rowling/Mary GrandPré самая высокая средняя оценка книг с учетом книг только с 50 и более оценками - 4.29\n",
    "\n",
    "Посчитаем среднее количество обзоров от пользователей, которые поставили больше 48 оценок."
   ]
  },
  {
   "cell_type": "code",
   "execution_count": 13,
   "metadata": {},
   "outputs": [
    {
     "data": {
      "text/html": [
       "<div>\n",
       "<style scoped>\n",
       "    .dataframe tbody tr th:only-of-type {\n",
       "        vertical-align: middle;\n",
       "    }\n",
       "\n",
       "    .dataframe tbody tr th {\n",
       "        vertical-align: top;\n",
       "    }\n",
       "\n",
       "    .dataframe thead th {\n",
       "        text-align: right;\n",
       "    }\n",
       "</style>\n",
       "<table border=\"1\" class=\"dataframe\">\n",
       "  <thead>\n",
       "    <tr style=\"text-align: right;\">\n",
       "      <th></th>\n",
       "      <th>average_reviews</th>\n",
       "    </tr>\n",
       "  </thead>\n",
       "  <tbody>\n",
       "    <tr>\n",
       "      <th>0</th>\n",
       "      <td>24.0</td>\n",
       "    </tr>\n",
       "  </tbody>\n",
       "</table>\n",
       "</div>"
      ],
      "text/plain": [
       "   average_reviews\n",
       "0             24.0"
      ]
     },
     "execution_count": 13,
     "metadata": {},
     "output_type": "execute_result"
    }
   ],
   "source": [
    "query = '''\n",
    "SELECT AVG(total_reviews) AS average_reviews\n",
    "FROM (\n",
    "    SELECT rat.username,\n",
    "        COUNT(DISTINCT review_id) AS total_reviews\n",
    "    FROM ratings AS rat\n",
    "    JOIN reviews AS rev ON rat.username = rev.username\n",
    "    GROUP BY rat.username\n",
    "    HAVING COUNT(DISTINCT rat.rating_id) > 48) AS tr\n",
    "'''\n",
    "\n",
    "show_sql(query)"
   ]
  },
  {
   "cell_type": "markdown",
   "metadata": {},
   "source": [
    "В среднем 24 обзора от пользователей, которые поставили больше 48 оценок."
   ]
  },
  {
   "cell_type": "markdown",
   "metadata": {},
   "source": [
    "## Вывод"
   ]
  },
  {
   "cell_type": "markdown",
   "metadata": {},
   "source": [
    "- После 1 января 2000 года вышло 819 книг;\n",
    "- Посчитали количество обзоров и среднюю оценку для каждой книги;\n",
    "- Издательство Penguin Books выпустило 42 книги толще 50 страниц;\n",
    "- У автора J.K. Rowling/Mary GrandPré самая высокая средняя оценка книг с учетом книг только с 50 и более оценками - 4.29;\n",
    "- В среднем 24 обзора от пользователей, которые поставили больше 48 оценок."
   ]
  },
  {
   "cell_type": "code",
   "execution_count": null,
   "metadata": {},
   "outputs": [],
   "source": []
  }
 ],
 "metadata": {
  "ExecuteTimeLog": [
   {
    "duration": 517,
    "start_time": "2025-07-06T17:47:53.724Z"
   },
   {
    "duration": 11026,
    "start_time": "2025-07-06T17:48:31.655Z"
   },
   {
    "duration": 4,
    "start_time": "2025-07-06T17:49:03.510Z"
   },
   {
    "duration": 155,
    "start_time": "2025-07-06T17:49:05.883Z"
   },
   {
    "duration": 91,
    "start_time": "2025-07-06T17:49:09.565Z"
   },
   {
    "duration": 92,
    "start_time": "2025-07-06T17:49:13.684Z"
   },
   {
    "duration": 122,
    "start_time": "2025-07-06T17:53:55.027Z"
   },
   {
    "duration": 134,
    "start_time": "2025-07-06T17:53:57.896Z"
   },
   {
    "duration": 62,
    "start_time": "2025-07-06T17:54:11.586Z"
   },
   {
    "duration": 125,
    "start_time": "2025-07-06T17:54:14.136Z"
   },
   {
    "duration": 40,
    "start_time": "2025-07-06T17:54:27.064Z"
   },
   {
    "duration": 122,
    "start_time": "2025-07-06T17:54:32.296Z"
   },
   {
    "duration": 51,
    "start_time": "2025-07-06T17:54:34.776Z"
   },
   {
    "duration": 54,
    "start_time": "2025-07-06T17:55:11.487Z"
   },
   {
    "duration": 52,
    "start_time": "2025-07-06T17:55:20.519Z"
   },
   {
    "duration": 52,
    "start_time": "2025-07-06T17:55:25.567Z"
   },
   {
    "duration": 52,
    "start_time": "2025-07-06T17:56:10.385Z"
   },
   {
    "duration": 58,
    "start_time": "2025-07-06T17:57:41.421Z"
   },
   {
    "duration": 61,
    "start_time": "2025-07-06T17:59:48.405Z"
   },
   {
    "duration": 72,
    "start_time": "2025-07-06T18:02:09.734Z"
   },
   {
    "duration": 60,
    "start_time": "2025-07-06T18:02:23.952Z"
   },
   {
    "duration": 120,
    "start_time": "2025-07-06T18:02:36.822Z"
   },
   {
    "duration": 146,
    "start_time": "2025-07-06T18:02:44.436Z"
   },
   {
    "duration": 62,
    "start_time": "2025-07-06T18:03:10.950Z"
   },
   {
    "duration": 73,
    "start_time": "2025-07-06T18:05:59.970Z"
   },
   {
    "duration": 76,
    "start_time": "2025-07-06T18:06:14.792Z"
   },
   {
    "duration": 90,
    "start_time": "2025-07-06T18:06:39.328Z"
   },
   {
    "duration": 86,
    "start_time": "2025-07-06T18:06:42.760Z"
   },
   {
    "duration": 52,
    "start_time": "2025-07-06T18:15:17.764Z"
   },
   {
    "duration": 51,
    "start_time": "2025-07-06T18:15:22.245Z"
   },
   {
    "duration": 73,
    "start_time": "2025-07-06T18:16:57.986Z"
   },
   {
    "duration": 44,
    "start_time": "2025-07-06T18:17:06.157Z"
   },
   {
    "duration": 55,
    "start_time": "2025-07-06T18:21:17.660Z"
   },
   {
    "duration": 83,
    "start_time": "2025-07-06T18:23:53.533Z"
   },
   {
    "duration": 72,
    "start_time": "2025-07-06T18:24:48.381Z"
   },
   {
    "duration": 68,
    "start_time": "2025-07-06T18:25:42.861Z"
   },
   {
    "duration": 70,
    "start_time": "2025-07-06T18:25:57.064Z"
   },
   {
    "duration": 69,
    "start_time": "2025-07-06T18:26:08.717Z"
   },
   {
    "duration": 71,
    "start_time": "2025-07-06T18:26:12.813Z"
   },
   {
    "duration": 67,
    "start_time": "2025-07-06T18:26:20.839Z"
   },
   {
    "duration": 159,
    "start_time": "2025-07-06T18:26:46.390Z"
   },
   {
    "duration": 77,
    "start_time": "2025-07-06T18:26:49.944Z"
   },
   {
    "duration": 56,
    "start_time": "2025-07-06T18:27:20.813Z"
   },
   {
    "duration": 89,
    "start_time": "2025-07-06T18:28:57.920Z"
   },
   {
    "duration": 446,
    "start_time": "2025-07-06T18:29:15.264Z"
   },
   {
    "duration": 576,
    "start_time": "2025-07-06T18:39:24.325Z"
   },
   {
    "duration": 11104,
    "start_time": "2025-07-06T18:39:24.903Z"
   },
   {
    "duration": 208,
    "start_time": "2025-07-06T18:39:36.009Z"
   },
   {
    "duration": 148,
    "start_time": "2025-07-06T18:39:36.219Z"
   },
   {
    "duration": 52,
    "start_time": "2025-07-06T18:39:36.369Z"
   },
   {
    "duration": 57,
    "start_time": "2025-07-06T18:39:36.422Z"
   },
   {
    "duration": 99,
    "start_time": "2025-07-06T18:39:36.480Z"
   },
   {
    "duration": 88,
    "start_time": "2025-07-06T19:06:41.533Z"
   },
   {
    "duration": 152,
    "start_time": "2025-07-06T19:06:45.295Z"
   },
   {
    "duration": 55,
    "start_time": "2025-07-06T19:14:39.625Z"
   },
   {
    "duration": 52,
    "start_time": "2025-07-06T19:14:39.952Z"
   },
   {
    "duration": 53,
    "start_time": "2025-07-06T19:14:40.256Z"
   },
   {
    "duration": 52,
    "start_time": "2025-07-06T19:14:40.608Z"
   },
   {
    "duration": 55,
    "start_time": "2025-07-06T19:14:40.970Z"
   },
   {
    "duration": 4,
    "start_time": "2025-07-06T19:19:18.006Z"
   },
   {
    "duration": 52,
    "start_time": "2025-07-06T19:19:30.481Z"
   },
   {
    "duration": 49,
    "start_time": "2025-07-06T19:19:41.847Z"
   },
   {
    "duration": 54,
    "start_time": "2025-07-06T19:19:45.303Z"
   },
   {
    "duration": 51,
    "start_time": "2025-07-06T19:19:47.792Z"
   },
   {
    "duration": 54,
    "start_time": "2025-07-06T19:19:50.989Z"
   },
   {
    "duration": 532,
    "start_time": "2025-07-06T19:20:41.294Z"
   },
   {
    "duration": 11217,
    "start_time": "2025-07-06T19:20:41.828Z"
   },
   {
    "duration": 3,
    "start_time": "2025-07-06T19:20:53.047Z"
   },
   {
    "duration": 240,
    "start_time": "2025-07-06T19:20:53.052Z"
   },
   {
    "duration": 52,
    "start_time": "2025-07-06T19:20:53.294Z"
   },
   {
    "duration": 55,
    "start_time": "2025-07-06T19:20:53.348Z"
   },
   {
    "duration": 52,
    "start_time": "2025-07-06T19:20:53.405Z"
   },
   {
    "duration": 52,
    "start_time": "2025-07-06T19:20:53.459Z"
   },
   {
    "duration": 51,
    "start_time": "2025-07-06T19:20:53.513Z"
   },
   {
    "duration": 87,
    "start_time": "2025-07-06T19:20:53.565Z"
   },
   {
    "duration": 52,
    "start_time": "2025-07-06T19:20:53.654Z"
   },
   {
    "duration": 62,
    "start_time": "2025-07-06T19:20:53.708Z"
   },
   {
    "duration": 76,
    "start_time": "2025-07-06T19:20:53.772Z"
   },
   {
    "duration": 153,
    "start_time": "2025-07-06T19:21:21.696Z"
   },
   {
    "duration": 3,
    "start_time": "2025-07-06T19:22:31.890Z"
   },
   {
    "duration": 54,
    "start_time": "2025-07-06T19:22:34.023Z"
   },
   {
    "duration": 55,
    "start_time": "2025-07-06T19:22:36.416Z"
   },
   {
    "duration": 54,
    "start_time": "2025-07-06T19:22:37.202Z"
   },
   {
    "duration": 52,
    "start_time": "2025-07-06T19:22:37.569Z"
   },
   {
    "duration": 52,
    "start_time": "2025-07-06T19:22:38.584Z"
   },
   {
    "duration": 50,
    "start_time": "2025-07-06T19:22:40.151Z"
   },
   {
    "duration": 86,
    "start_time": "2025-07-06T19:22:40.696Z"
   },
   {
    "duration": 89,
    "start_time": "2025-07-06T19:22:47.634Z"
   },
   {
    "duration": 86,
    "start_time": "2025-07-06T19:22:59.600Z"
   },
   {
    "duration": 3,
    "start_time": "2025-07-06T19:23:09.574Z"
   },
   {
    "duration": 577,
    "start_time": "2025-07-06T19:23:14.561Z"
   },
   {
    "duration": 10170,
    "start_time": "2025-07-06T19:23:15.140Z"
   },
   {
    "duration": 3,
    "start_time": "2025-07-06T19:23:25.312Z"
   },
   {
    "duration": 237,
    "start_time": "2025-07-06T19:23:25.318Z"
   },
   {
    "duration": 54,
    "start_time": "2025-07-06T19:23:25.558Z"
   },
   {
    "duration": 55,
    "start_time": "2025-07-06T19:23:25.614Z"
   },
   {
    "duration": 102,
    "start_time": "2025-07-06T19:23:25.671Z"
   },
   {
    "duration": 54,
    "start_time": "2025-07-06T19:23:25.776Z"
   },
   {
    "duration": 53,
    "start_time": "2025-07-06T19:23:25.832Z"
   },
   {
    "duration": 91,
    "start_time": "2025-07-06T19:23:25.887Z"
   },
   {
    "duration": 54,
    "start_time": "2025-07-06T19:23:25.980Z"
   },
   {
    "duration": 84,
    "start_time": "2025-07-06T19:23:26.036Z"
   },
   {
    "duration": 78,
    "start_time": "2025-07-06T19:23:26.122Z"
   },
   {
    "duration": 85,
    "start_time": "2025-07-06T19:23:40.182Z"
   },
   {
    "duration": 582,
    "start_time": "2025-07-06T19:23:52.346Z"
   },
   {
    "duration": 10456,
    "start_time": "2025-07-06T19:23:52.930Z"
   },
   {
    "duration": 4,
    "start_time": "2025-07-06T19:24:03.388Z"
   },
   {
    "duration": 236,
    "start_time": "2025-07-06T19:24:03.394Z"
   },
   {
    "duration": 54,
    "start_time": "2025-07-06T19:24:03.633Z"
   },
   {
    "duration": 93,
    "start_time": "2025-07-06T19:24:03.688Z"
   },
   {
    "duration": 55,
    "start_time": "2025-07-06T19:24:03.783Z"
   },
   {
    "duration": 55,
    "start_time": "2025-07-06T19:24:03.840Z"
   },
   {
    "duration": 53,
    "start_time": "2025-07-06T19:24:03.897Z"
   },
   {
    "duration": 90,
    "start_time": "2025-07-06T19:24:03.952Z"
   },
   {
    "duration": 101,
    "start_time": "2025-07-06T19:24:04.045Z"
   },
   {
    "duration": 59,
    "start_time": "2025-07-06T19:24:04.148Z"
   },
   {
    "duration": 79,
    "start_time": "2025-07-06T19:24:04.208Z"
   },
   {
    "duration": 546,
    "start_time": "2025-07-06T19:25:46.258Z"
   },
   {
    "duration": 9670,
    "start_time": "2025-07-06T19:25:46.806Z"
   },
   {
    "duration": 3,
    "start_time": "2025-07-06T19:25:56.477Z"
   },
   {
    "duration": 232,
    "start_time": "2025-07-06T19:25:56.482Z"
   },
   {
    "duration": 51,
    "start_time": "2025-07-06T19:25:56.717Z"
   },
   {
    "duration": 54,
    "start_time": "2025-07-06T19:25:56.770Z"
   },
   {
    "duration": 52,
    "start_time": "2025-07-06T19:25:56.826Z"
   },
   {
    "duration": 54,
    "start_time": "2025-07-06T19:25:56.880Z"
   },
   {
    "duration": 51,
    "start_time": "2025-07-06T19:25:56.936Z"
   },
   {
    "duration": 86,
    "start_time": "2025-07-06T19:25:56.989Z"
   },
   {
    "duration": 54,
    "start_time": "2025-07-06T19:25:57.077Z"
   },
   {
    "duration": 55,
    "start_time": "2025-07-06T19:25:57.133Z"
   },
   {
    "duration": 77,
    "start_time": "2025-07-06T19:25:57.190Z"
   },
   {
    "duration": 2806,
    "start_time": "2025-07-06T20:53:14.370Z"
   },
   {
    "duration": 9196,
    "start_time": "2025-07-06T20:53:17.179Z"
   },
   {
    "duration": 4,
    "start_time": "2025-07-06T20:53:26.378Z"
   },
   {
    "duration": 301,
    "start_time": "2025-07-06T20:53:26.383Z"
   },
   {
    "duration": 95,
    "start_time": "2025-07-06T20:53:26.687Z"
   },
   {
    "duration": 98,
    "start_time": "2025-07-06T20:53:26.784Z"
   },
   {
    "duration": 98,
    "start_time": "2025-07-06T20:53:26.885Z"
   },
   {
    "duration": 92,
    "start_time": "2025-07-06T20:53:26.986Z"
   },
   {
    "duration": 101,
    "start_time": "2025-07-06T20:53:27.080Z"
   },
   {
    "duration": 190,
    "start_time": "2025-07-06T20:53:27.183Z"
   },
   {
    "duration": 97,
    "start_time": "2025-07-06T20:53:27.375Z"
   },
   {
    "duration": 102,
    "start_time": "2025-07-06T20:53:27.474Z"
   },
   {
    "duration": 95,
    "start_time": "2025-07-06T20:53:27.577Z"
   },
   {
    "duration": 27,
    "start_time": "2025-07-06T21:39:23.199Z"
   },
   {
    "duration": 22,
    "start_time": "2025-07-06T21:39:27.445Z"
   },
   {
    "duration": 37,
    "start_time": "2025-07-06T21:40:08.674Z"
   },
   {
    "duration": 45,
    "start_time": "2025-07-06T21:40:17.308Z"
   },
   {
    "duration": 39,
    "start_time": "2025-07-06T21:40:23.178Z"
   },
   {
    "duration": 47,
    "start_time": "2025-07-06T21:40:30.274Z"
   },
   {
    "duration": 36,
    "start_time": "2025-07-06T21:40:52.737Z"
   },
   {
    "duration": 500,
    "start_time": "2025-07-07T05:22:57.833Z"
   },
   {
    "duration": 8918,
    "start_time": "2025-07-07T05:22:58.335Z"
   },
   {
    "duration": 3,
    "start_time": "2025-07-07T05:23:07.254Z"
   },
   {
    "duration": 70,
    "start_time": "2025-07-07T05:23:07.259Z"
   },
   {
    "duration": 11,
    "start_time": "2025-07-07T05:23:07.331Z"
   },
   {
    "duration": 12,
    "start_time": "2025-07-07T05:23:07.344Z"
   },
   {
    "duration": 14,
    "start_time": "2025-07-07T05:23:07.358Z"
   },
   {
    "duration": 16,
    "start_time": "2025-07-07T05:23:07.374Z"
   },
   {
    "duration": 10,
    "start_time": "2025-07-07T05:23:07.392Z"
   },
   {
    "duration": 38,
    "start_time": "2025-07-07T05:23:07.404Z"
   },
   {
    "duration": 10,
    "start_time": "2025-07-07T05:23:07.444Z"
   },
   {
    "duration": 17,
    "start_time": "2025-07-07T05:23:07.456Z"
   },
   {
    "duration": 36,
    "start_time": "2025-07-07T05:23:07.475Z"
   },
   {
    "duration": 546,
    "start_time": "2025-07-07T05:25:55.359Z"
   },
   {
    "duration": 8193,
    "start_time": "2025-07-07T05:25:55.907Z"
   },
   {
    "duration": 3,
    "start_time": "2025-07-07T05:26:04.102Z"
   },
   {
    "duration": 77,
    "start_time": "2025-07-07T05:26:04.106Z"
   },
   {
    "duration": 10,
    "start_time": "2025-07-07T05:26:04.185Z"
   },
   {
    "duration": 15,
    "start_time": "2025-07-07T05:26:04.197Z"
   },
   {
    "duration": 34,
    "start_time": "2025-07-07T05:26:04.213Z"
   },
   {
    "duration": 21,
    "start_time": "2025-07-07T05:26:04.249Z"
   },
   {
    "duration": 12,
    "start_time": "2025-07-07T05:26:04.272Z"
   },
   {
    "duration": 25,
    "start_time": "2025-07-07T05:26:04.285Z"
   },
   {
    "duration": 10,
    "start_time": "2025-07-07T05:26:04.311Z"
   },
   {
    "duration": 42,
    "start_time": "2025-07-07T05:26:04.323Z"
   },
   {
    "duration": 38,
    "start_time": "2025-07-07T05:26:04.367Z"
   },
   {
    "duration": 92,
    "start_time": "2025-07-07T09:11:34.127Z"
   },
   {
    "duration": 536,
    "start_time": "2025-07-07T09:11:39.796Z"
   },
   {
    "duration": 13680,
    "start_time": "2025-07-07T09:11:40.334Z"
   },
   {
    "duration": 3,
    "start_time": "2025-07-07T09:11:54.015Z"
   },
   {
    "duration": 234,
    "start_time": "2025-07-07T09:11:54.020Z"
   },
   {
    "duration": 52,
    "start_time": "2025-07-07T09:11:54.256Z"
   },
   {
    "duration": 52,
    "start_time": "2025-07-07T09:11:54.310Z"
   },
   {
    "duration": 111,
    "start_time": "2025-07-07T09:11:54.364Z"
   },
   {
    "duration": 53,
    "start_time": "2025-07-07T09:11:54.477Z"
   },
   {
    "duration": 50,
    "start_time": "2025-07-07T09:11:54.532Z"
   },
   {
    "duration": 87,
    "start_time": "2025-07-07T09:11:54.584Z"
   },
   {
    "duration": 95,
    "start_time": "2025-07-07T09:12:10.196Z"
   },
   {
    "duration": 90,
    "start_time": "2025-07-07T09:13:47.090Z"
   },
   {
    "duration": 82,
    "start_time": "2025-07-07T09:13:57.531Z"
   },
   {
    "duration": 87,
    "start_time": "2025-07-07T09:14:12.864Z"
   },
   {
    "duration": 82,
    "start_time": "2025-07-07T09:16:36.956Z"
   },
   {
    "duration": 55,
    "start_time": "2025-07-07T09:29:34.376Z"
   },
   {
    "duration": 54,
    "start_time": "2025-07-07T09:31:25.470Z"
   },
   {
    "duration": 549,
    "start_time": "2025-07-07T09:35:06.045Z"
   },
   {
    "duration": 10623,
    "start_time": "2025-07-07T09:35:06.596Z"
   },
   {
    "duration": 3,
    "start_time": "2025-07-07T09:35:17.221Z"
   },
   {
    "duration": 242,
    "start_time": "2025-07-07T09:35:17.227Z"
   },
   {
    "duration": 55,
    "start_time": "2025-07-07T09:35:17.472Z"
   },
   {
    "duration": 55,
    "start_time": "2025-07-07T09:35:17.528Z"
   },
   {
    "duration": 56,
    "start_time": "2025-07-07T09:35:17.584Z"
   },
   {
    "duration": 54,
    "start_time": "2025-07-07T09:35:17.642Z"
   },
   {
    "duration": 52,
    "start_time": "2025-07-07T09:35:17.698Z"
   },
   {
    "duration": 91,
    "start_time": "2025-07-07T09:35:17.752Z"
   },
   {
    "duration": 117,
    "start_time": "2025-07-07T09:35:17.845Z"
   },
   {
    "duration": 61,
    "start_time": "2025-07-07T09:35:17.964Z"
   },
   {
    "duration": 88,
    "start_time": "2025-07-07T09:35:18.027Z"
   },
   {
    "duration": 93,
    "start_time": "2025-07-07T09:36:48.404Z"
   },
   {
    "duration": 554,
    "start_time": "2025-07-07T09:38:16.559Z"
   },
   {
    "duration": 11056,
    "start_time": "2025-07-07T09:38:17.115Z"
   },
   {
    "duration": 5,
    "start_time": "2025-07-07T09:38:28.174Z"
   },
   {
    "duration": 236,
    "start_time": "2025-07-07T09:38:28.180Z"
   },
   {
    "duration": 58,
    "start_time": "2025-07-07T09:38:28.418Z"
   },
   {
    "duration": 54,
    "start_time": "2025-07-07T09:38:28.478Z"
   },
   {
    "duration": 59,
    "start_time": "2025-07-07T09:38:28.534Z"
   },
   {
    "duration": 55,
    "start_time": "2025-07-07T09:38:28.595Z"
   },
   {
    "duration": 58,
    "start_time": "2025-07-07T09:38:28.652Z"
   },
   {
    "duration": 103,
    "start_time": "2025-07-07T09:38:28.712Z"
   },
   {
    "duration": 61,
    "start_time": "2025-07-07T09:38:28.817Z"
   },
   {
    "duration": 58,
    "start_time": "2025-07-07T09:38:28.880Z"
   },
   {
    "duration": 89,
    "start_time": "2025-07-07T09:38:28.940Z"
   },
   {
    "duration": 93,
    "start_time": "2025-07-07T09:38:37.142Z"
   },
   {
    "duration": 554,
    "start_time": "2025-07-07T09:38:41.971Z"
   },
   {
    "duration": 10647,
    "start_time": "2025-07-07T09:38:42.528Z"
   },
   {
    "duration": 4,
    "start_time": "2025-07-07T09:38:53.176Z"
   },
   {
    "duration": 276,
    "start_time": "2025-07-07T09:38:53.182Z"
   },
   {
    "duration": 55,
    "start_time": "2025-07-07T09:38:53.460Z"
   },
   {
    "duration": 55,
    "start_time": "2025-07-07T09:38:53.516Z"
   },
   {
    "duration": 55,
    "start_time": "2025-07-07T09:38:53.573Z"
   },
   {
    "duration": 56,
    "start_time": "2025-07-07T09:38:53.630Z"
   },
   {
    "duration": 53,
    "start_time": "2025-07-07T09:38:53.689Z"
   },
   {
    "duration": 109,
    "start_time": "2025-07-07T09:38:53.744Z"
   },
   {
    "duration": 60,
    "start_time": "2025-07-07T09:38:53.856Z"
   },
   {
    "duration": 108,
    "start_time": "2025-07-07T09:38:53.917Z"
   },
   {
    "duration": 113,
    "start_time": "2025-07-07T09:38:54.026Z"
   },
   {
    "duration": 558,
    "start_time": "2025-07-07T18:33:16.304Z"
   },
   {
    "duration": 10449,
    "start_time": "2025-07-07T18:33:16.864Z"
   },
   {
    "duration": 3,
    "start_time": "2025-07-07T18:33:27.315Z"
   },
   {
    "duration": 253,
    "start_time": "2025-07-07T18:33:27.319Z"
   },
   {
    "duration": 52,
    "start_time": "2025-07-07T18:33:27.575Z"
   },
   {
    "duration": 53,
    "start_time": "2025-07-07T18:33:27.629Z"
   },
   {
    "duration": 59,
    "start_time": "2025-07-07T18:33:27.684Z"
   },
   {
    "duration": 57,
    "start_time": "2025-07-07T18:33:27.747Z"
   },
   {
    "duration": 53,
    "start_time": "2025-07-07T18:33:27.806Z"
   },
   {
    "duration": 91,
    "start_time": "2025-07-07T18:33:27.862Z"
   },
   {
    "duration": 53,
    "start_time": "2025-07-07T18:33:27.955Z"
   },
   {
    "duration": 57,
    "start_time": "2025-07-07T18:33:28.009Z"
   },
   {
    "duration": 91,
    "start_time": "2025-07-07T18:33:28.068Z"
   }
  ],
  "kernelspec": {
   "display_name": "Python 3 (ipykernel)",
   "language": "python",
   "name": "python3"
  },
  "language_info": {
   "codemirror_mode": {
    "name": "ipython",
    "version": 3
   },
   "file_extension": ".py",
   "mimetype": "text/x-python",
   "name": "python",
   "nbconvert_exporter": "python",
   "pygments_lexer": "ipython3",
   "version": "3.9.5"
  },
  "toc": {
   "base_numbering": 1,
   "nav_menu": {},
   "number_sections": true,
   "sideBar": true,
   "skip_h1_title": true,
   "title_cell": "Table of Contents",
   "title_sidebar": "Contents",
   "toc_cell": false,
   "toc_position": {},
   "toc_section_display": true,
   "toc_window_display": false
  }
 },
 "nbformat": 4,
 "nbformat_minor": 2
}
