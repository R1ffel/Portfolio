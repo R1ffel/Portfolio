{
 "cells": [
  {
   "cell_type": "markdown",
   "metadata": {},
   "source": [
    "# Анализ оттока клиентов в банке"
   ]
  },
  {
   "cell_type": "markdown",
   "metadata": {},
   "source": [
    "Проанализируем клиентов регионального банка и выделим сегменты клиентов, которые склонны уходить из банка. \n",
    "\n",
    "Датасет содержит данные о клиентах банка «Метанпром». Банк располагается в Ярославле и областных городах: Ростов Великий и Рыбинск.\n",
    "\n",
    "Презентация - https://disk.yandex.ru/i/YcSz60vYY7E_tw\n",
    "\n",
    "Описание столбцов:\n",
    "- `USERID` — идентификатор пользователя,\n",
    "- `score` — баллы кредитного скоринга,\n",
    "- `city` — город,\n",
    "- `gender` — пол,\n",
    "- `age` — возраст,\n",
    "- `equity` — количество баллов собственности\n",
    "- `balance` — баланс на счёте,\n",
    "- `products` — количество продуктов, которыми пользуется клиент,\n",
    "- `credit_card` — есть ли кредитная карта,\n",
    "- `last_activity` — активный клиент,\n",
    "- `EST_SALARY` — оценочный доход клиента,\n",
    "- `сhurn` — признак оттока."
   ]
  },
  {
   "cell_type": "markdown",
   "metadata": {},
   "source": [
    "## Загрузка данных"
   ]
  },
  {
   "cell_type": "markdown",
   "metadata": {},
   "source": [
    "Импортируем библиотеки и откроем файл с данными."
   ]
  },
  {
   "cell_type": "code",
   "execution_count": 1,
   "metadata": {},
   "outputs": [],
   "source": [
    "import pandas as pd\n",
    "import matplotlib.pyplot as plt\n",
    "import seaborn as sns\n",
    "from scipy import stats as st"
   ]
  },
  {
   "cell_type": "code",
   "execution_count": 2,
   "metadata": {},
   "outputs": [
    {
     "data": {
      "text/html": [
       "<div>\n",
       "<style scoped>\n",
       "    .dataframe tbody tr th:only-of-type {\n",
       "        vertical-align: middle;\n",
       "    }\n",
       "\n",
       "    .dataframe tbody tr th {\n",
       "        vertical-align: top;\n",
       "    }\n",
       "\n",
       "    .dataframe thead th {\n",
       "        text-align: right;\n",
       "    }\n",
       "</style>\n",
       "<table border=\"1\" class=\"dataframe\">\n",
       "  <thead>\n",
       "    <tr style=\"text-align: right;\">\n",
       "      <th></th>\n",
       "      <th>USERID</th>\n",
       "      <th>score</th>\n",
       "      <th>city</th>\n",
       "      <th>gender</th>\n",
       "      <th>age</th>\n",
       "      <th>equity</th>\n",
       "      <th>balance</th>\n",
       "      <th>products</th>\n",
       "      <th>credit_card</th>\n",
       "      <th>last_activity</th>\n",
       "      <th>EST_SALARY</th>\n",
       "      <th>churn</th>\n",
       "    </tr>\n",
       "  </thead>\n",
       "  <tbody>\n",
       "    <tr>\n",
       "      <th>0</th>\n",
       "      <td>183012</td>\n",
       "      <td>850.0</td>\n",
       "      <td>Рыбинск</td>\n",
       "      <td>Ж</td>\n",
       "      <td>25.0</td>\n",
       "      <td>1</td>\n",
       "      <td>59214.82</td>\n",
       "      <td>2</td>\n",
       "      <td>0</td>\n",
       "      <td>1</td>\n",
       "      <td>75719.14</td>\n",
       "      <td>1</td>\n",
       "    </tr>\n",
       "    <tr>\n",
       "      <th>1</th>\n",
       "      <td>146556</td>\n",
       "      <td>861.0</td>\n",
       "      <td>Рыбинск</td>\n",
       "      <td>Ж</td>\n",
       "      <td>37.0</td>\n",
       "      <td>5</td>\n",
       "      <td>850594.33</td>\n",
       "      <td>3</td>\n",
       "      <td>1</td>\n",
       "      <td>0</td>\n",
       "      <td>86621.77</td>\n",
       "      <td>0</td>\n",
       "    </tr>\n",
       "    <tr>\n",
       "      <th>2</th>\n",
       "      <td>120722</td>\n",
       "      <td>892.0</td>\n",
       "      <td>Рыбинск</td>\n",
       "      <td>Ж</td>\n",
       "      <td>30.0</td>\n",
       "      <td>0</td>\n",
       "      <td>NaN</td>\n",
       "      <td>1</td>\n",
       "      <td>1</td>\n",
       "      <td>1</td>\n",
       "      <td>107683.34</td>\n",
       "      <td>0</td>\n",
       "    </tr>\n",
       "    <tr>\n",
       "      <th>3</th>\n",
       "      <td>225363</td>\n",
       "      <td>866.0</td>\n",
       "      <td>Ярославль</td>\n",
       "      <td>Ж</td>\n",
       "      <td>51.0</td>\n",
       "      <td>5</td>\n",
       "      <td>1524746.26</td>\n",
       "      <td>2</td>\n",
       "      <td>0</td>\n",
       "      <td>1</td>\n",
       "      <td>174423.53</td>\n",
       "      <td>1</td>\n",
       "    </tr>\n",
       "    <tr>\n",
       "      <th>4</th>\n",
       "      <td>157978</td>\n",
       "      <td>730.0</td>\n",
       "      <td>Ярославль</td>\n",
       "      <td>М</td>\n",
       "      <td>34.0</td>\n",
       "      <td>5</td>\n",
       "      <td>174.00</td>\n",
       "      <td>1</td>\n",
       "      <td>1</td>\n",
       "      <td>0</td>\n",
       "      <td>67353.16</td>\n",
       "      <td>1</td>\n",
       "    </tr>\n",
       "  </tbody>\n",
       "</table>\n",
       "</div>"
      ],
      "text/plain": [
       "   USERID  score       city gender   age  equity     balance  products  \\\n",
       "0  183012  850.0    Рыбинск      Ж  25.0       1    59214.82         2   \n",
       "1  146556  861.0    Рыбинск      Ж  37.0       5   850594.33         3   \n",
       "2  120722  892.0    Рыбинск      Ж  30.0       0         NaN         1   \n",
       "3  225363  866.0  Ярославль      Ж  51.0       5  1524746.26         2   \n",
       "4  157978  730.0  Ярославль      М  34.0       5      174.00         1   \n",
       "\n",
       "   credit_card  last_activity  EST_SALARY  churn  \n",
       "0            0              1    75719.14      1  \n",
       "1            1              0    86621.77      0  \n",
       "2            1              1   107683.34      0  \n",
       "3            0              1   174423.53      1  \n",
       "4            1              0    67353.16      1  "
      ]
     },
     "execution_count": 2,
     "metadata": {},
     "output_type": "execute_result"
    }
   ],
   "source": [
    "data = pd.read_csv('/datasets/bank_scrooge.csv')\n",
    "data.head()"
   ]
  },
  {
   "cell_type": "markdown",
   "metadata": {},
   "source": [
    "Посмотрим основную информацию о данных."
   ]
  },
  {
   "cell_type": "code",
   "execution_count": 3,
   "metadata": {},
   "outputs": [
    {
     "name": "stdout",
     "output_type": "stream",
     "text": [
      "<class 'pandas.core.frame.DataFrame'>\n",
      "RangeIndex: 10000 entries, 0 to 9999\n",
      "Data columns (total 12 columns):\n",
      " #   Column         Non-Null Count  Dtype  \n",
      "---  ------         --------------  -----  \n",
      " 0   USERID         10000 non-null  int64  \n",
      " 1   score          10000 non-null  float64\n",
      " 2   city           10000 non-null  object \n",
      " 3   gender         10000 non-null  object \n",
      " 4   age            9974 non-null   float64\n",
      " 5   equity         10000 non-null  int64  \n",
      " 6   balance        7705 non-null   float64\n",
      " 7   products       10000 non-null  int64  \n",
      " 8   credit_card    10000 non-null  int64  \n",
      " 9   last_activity  10000 non-null  int64  \n",
      " 10  EST_SALARY     10000 non-null  float64\n",
      " 11  churn          10000 non-null  int64  \n",
      "dtypes: float64(4), int64(6), object(2)\n",
      "memory usage: 937.6+ KB\n"
     ]
    }
   ],
   "source": [
    "data.info()"
   ]
  },
  {
   "cell_type": "markdown",
   "metadata": {},
   "source": [
    "Названия двух столбцов указаны в верхнем регистре, в данных есть пропуски. У столбца age тип данных float."
   ]
  },
  {
   "cell_type": "markdown",
   "metadata": {},
   "source": [
    "## Предобработка данных"
   ]
  },
  {
   "cell_type": "markdown",
   "metadata": {},
   "source": [
    "Здесь исправим типы данных, проверим пропуски и дубликаты и обработаем их."
   ]
  },
  {
   "cell_type": "markdown",
   "metadata": {},
   "source": [
    "Сначала приведем названия столбцов к нижнему регистру."
   ]
  },
  {
   "cell_type": "code",
   "execution_count": 4,
   "metadata": {},
   "outputs": [
    {
     "data": {
      "text/plain": [
       "Index(['userid', 'score', 'city', 'gender', 'age', 'equity', 'balance',\n",
       "       'products', 'credit_card', 'last_activity', 'est_salary', 'churn'],\n",
       "      dtype='object')"
      ]
     },
     "execution_count": 4,
     "metadata": {},
     "output_type": "execute_result"
    }
   ],
   "source": [
    "data.columns = data.columns.str.lower()\n",
    "data.columns"
   ]
  },
  {
   "cell_type": "markdown",
   "metadata": {},
   "source": [
    "Теперь проверим дубликаты."
   ]
  },
  {
   "cell_type": "code",
   "execution_count": 5,
   "metadata": {},
   "outputs": [
    {
     "name": "stdout",
     "output_type": "stream",
     "text": [
      "Полных дубликатов - 0\n",
      "Дубликатов по столбцу userid - 73\n",
      "Дубликатов по столбцам userid и city - 0\n"
     ]
    }
   ],
   "source": [
    "print(f'Полных дубликатов - {data.duplicated().sum()}')\n",
    "print(f'Дубликатов по столбцу userid - {data[\"userid\"].duplicated().sum()}')\n",
    "print(f'Дубликатов по столбцам userid и city - {data[[\"userid\", \"city\"]].duplicated().sum()}')"
   ]
  },
  {
   "cell_type": "markdown",
   "metadata": {},
   "source": [
    "Полных дубликатов нет. Есть дубликаты по столбцу userid, однако дубликатов по столбцам userid и city нет. В одном городе нет людей с одинаковыми userid.\n",
    "\n",
    "Теперь перейдем к пропускам. У нас есть пропуски в столбцах balance и age. Проверим корреляцию этих столбцов другими."
   ]
  },
  {
   "cell_type": "code",
   "execution_count": 6,
   "metadata": {},
   "outputs": [
    {
     "data": {
      "image/png": "[encoded data removed]",
      "text/plain": [
       "<Figure size 360x360 with 2 Axes>"
      ]
     },
     "metadata": {
      "needs_background": "light"
     },
     "output_type": "display_data"
    }
   ],
   "source": [
    "plt.figure(figsize=(5,5))\n",
    "sns.heatmap(round(data[['score', 'age', 'balance', 'est_salary', 'churn']].corr()[['balance', 'age']], 2), annot=True)\n",
    "plt.title('Матрица корреляции')\n",
    "plt.show()"
   ]
  },
  {
   "cell_type": "code",
   "execution_count": 7,
   "metadata": {},
   "outputs": [
    {
     "name": "stdout",
     "output_type": "stream",
     "text": [
      "Процент пропусков в столбце balance - 22.95%\n",
      "Процент пропусков в столбце age - 0.26%\n"
     ]
    }
   ],
   "source": [
    "print(f'Процент пропусков в столбце balance - {data[\"balance\"].isna().mean() * 100}%')\n",
    "print(f'Процент пропусков в столбце age - {data[\"age\"].isna().mean() * 100}%')"
   ]
  },
  {
   "cell_type": "markdown",
   "metadata": {},
   "source": [
    "У столбцов balance и age нет высокой корреляции с другими столбцами. Заполнить пропуски по другим данным не получится. Удалим пропуски в столбце age, их очень мало. Пропуски в столбце balance трогать не будем."
   ]
  },
  {
   "cell_type": "code",
   "execution_count": 8,
   "metadata": {},
   "outputs": [
    {
     "name": "stdout",
     "output_type": "stream",
     "text": [
      "<class 'pandas.core.frame.DataFrame'>\n",
      "Int64Index: 9974 entries, 0 to 9999\n",
      "Data columns (total 12 columns):\n",
      " #   Column         Non-Null Count  Dtype  \n",
      "---  ------         --------------  -----  \n",
      " 0   userid         9974 non-null   int64  \n",
      " 1   score          9974 non-null   float64\n",
      " 2   city           9974 non-null   object \n",
      " 3   gender         9974 non-null   object \n",
      " 4   age            9974 non-null   int64  \n",
      " 5   equity         9974 non-null   int64  \n",
      " 6   balance        7695 non-null   float64\n",
      " 7   products       9974 non-null   int64  \n",
      " 8   credit_card    9974 non-null   int64  \n",
      " 9   last_activity  9974 non-null   int64  \n",
      " 10  est_salary     9974 non-null   float64\n",
      " 11  churn          9974 non-null   int64  \n",
      "dtypes: float64(3), int64(7), object(2)\n",
      "memory usage: 1013.0+ KB\n"
     ]
    }
   ],
   "source": [
    "data = data.dropna(subset=['age'])\n",
    "data['age'] = data['age'].astype('int')\n",
    "data.info()"
   ]
  },
  {
   "cell_type": "markdown",
   "metadata": {},
   "source": [
    "Привели названия столбцов к нижнему регистру, проверили дубликаты, заполнили пропуски и изменили тип данных столбца age на int."
   ]
  },
  {
   "cell_type": "markdown",
   "metadata": {},
   "source": [
    "## Исследовательский анализ данных"
   ]
  },
  {
   "cell_type": "markdown",
   "metadata": {},
   "source": [
    "Посмотрим на распределения данных и на распределение данных в разрезе оттока. Для этого напишем функции для визуализации числовых и не числовых столбцов."
   ]
  },
  {
   "cell_type": "code",
   "execution_count": 9,
   "metadata": {},
   "outputs": [],
   "source": [
    "def plot_distribution_numeric(data, column):\n",
    "    plt.figure(figsize=(15,5))\n",
    "    ax1 = plt.subplot(1,2,1)\n",
    "    sns.boxplot(y=data[column], ax=ax1)\n",
    "    plt.title(f'Распределение {column}')\n",
    "    plt.xlabel('')\n",
    "    plt.ylabel(column)\n",
    "    ax2 = plt.subplot(1,2,2)\n",
    "    sns.histplot(data, hue='churn', x=column, stat='density', common_norm=False, ax=ax2)\n",
    "    plt.title(f'Распределение частоты {column} по оттоку')\n",
    "    plt.xlabel(column)\n",
    "    plt.ylabel('Частота')\n",
    "    plt.show()\n",
    "    \n",
    "def plot_distribution_object(data, column):\n",
    "    plt.figure(figsize=(15,5))\n",
    "    sns.histplot(data, hue='churn', x=column, discrete=True, stat='density', common_norm=False)\n",
    "    plt.title(f'Распределение частоты {column} по оттоку')\n",
    "    plt.xlabel(column)\n",
    "    plt.ylabel('Частота')\n",
    "    plt.show()"
   ]
  },
  {
   "cell_type": "code",
   "execution_count": 10,
   "metadata": {},
   "outputs": [
    {
     "data": {
      "image/png": "[encoded data removed]",
      "text/plain": [
       "<Figure size 1080x360 with 2 Axes>"
      ]
     },
     "metadata": {
      "needs_background": "light"
     },
     "output_type": "display_data"
    }
   ],
   "source": [
    "plot_distribution_numeric(data, 'score')"
   ]
  },
  {
   "cell_type": "markdown",
   "metadata": {},
   "source": [
    "Больше всего клиентов с 800-900 баллами кредитного рейтинга. Наибольший отток клиентов с 830-940 баллами."
   ]
  },
  {
   "cell_type": "code",
   "execution_count": 11,
   "metadata": {},
   "outputs": [
    {
     "data": {
      "image/png": "[encoded data removed]",
      "text/plain": [
       "<Figure size 1080x360 with 1 Axes>"
      ]
     },
     "metadata": {
      "needs_background": "light"
     },
     "output_type": "display_data"
    }
   ],
   "source": [
    "plot_distribution_object(data, 'city')"
   ]
  },
  {
   "cell_type": "markdown",
   "metadata": {},
   "source": [
    "Больше всего клиентов из Ярославля. В рыбинске наименьшая отточность, в Ярославле наибольшая. Разница между городами не большая."
   ]
  },
  {
   "cell_type": "code",
   "execution_count": 12,
   "metadata": {},
   "outputs": [
    {
     "data": {
      "image/png": "[encoded data removed]",
      "text/plain": [
       "<Figure size 1080x360 with 1 Axes>"
      ]
     },
     "metadata": {
      "needs_background": "light"
     },
     "output_type": "display_data"
    }
   ],
   "source": [
    "plot_distribution_object(data, 'gender')"
   ]
  },
  {
   "cell_type": "markdown",
   "metadata": {},
   "source": [
    "Мужчин и женщин примерно одинаково. Наибольшая отточность у мужчин."
   ]
  },
  {
   "cell_type": "code",
   "execution_count": 13,
   "metadata": {},
   "outputs": [
    {
     "data": {
      "image/png": "[encoded data removed]",
      "text/plain": [
       "<Figure size 1080x360 with 2 Axes>"
      ]
     },
     "metadata": {
      "needs_background": "light"
     },
     "output_type": "display_data"
    }
   ],
   "source": [
    "plot_distribution_numeric(data, 'age')"
   ]
  },
  {
   "cell_type": "markdown",
   "metadata": {},
   "source": [
    "Больше всего клиентов возрастом от 30 до 50 лет. Наибольшая отточность у 25-35-ти летних и у 50-59-ти летних."
   ]
  },
  {
   "cell_type": "code",
   "execution_count": 14,
   "metadata": {},
   "outputs": [
    {
     "data": {
      "image/png": "[encoded data removed]",
      "text/plain": [
       "<Figure size 1080x360 with 2 Axes>"
      ]
     },
     "metadata": {
      "needs_background": "light"
     },
     "output_type": "display_data"
    }
   ],
   "source": [
    "plot_distribution_numeric(data, 'equity')"
   ]
  },
  {
   "cell_type": "markdown",
   "metadata": {},
   "source": [
    "Больше всего клиентов с 0 и 5 баллами собственности. Наибольшая отточность среди клиетов с 3-9 баллами собственности."
   ]
  },
  {
   "cell_type": "code",
   "execution_count": 15,
   "metadata": {},
   "outputs": [
    {
     "data": {
      "image/png": "[encoded data removed]",
      "text/plain": [
       "<Figure size 1080x360 with 2 Axes>"
      ]
     },
     "metadata": {
      "needs_background": "light"
     },
     "output_type": "display_data"
    }
   ],
   "source": [
    "plot_distribution_numeric(data, 'balance')"
   ]
  },
  {
   "cell_type": "markdown",
   "metadata": {},
   "source": [
    "По графикам ничего не понятно, максимальное значение примерно 120 млн. рублей, а медиана значительно ниже.\n",
    "\n",
    "В целом у кого-то на счете может быть 120 млн. рублей, удалять не будем. Посмотрим на распределение среди людей у которых меньше 3 млн. рублей."
   ]
  },
  {
   "cell_type": "code",
   "execution_count": 16,
   "metadata": {},
   "outputs": [
    {
     "data": {
      "image/png": "[encoded data removed]",
      "text/plain": [
       "<Figure size 1080x360 with 2 Axes>"
      ]
     },
     "metadata": {
      "needs_background": "light"
     },
     "output_type": "display_data"
    }
   ],
   "source": [
    "plot_distribution_numeric(data[data['balance'] < 3*10**6], 'balance')"
   ]
  },
  {
   "cell_type": "markdown",
   "metadata": {},
   "source": [
    "Больше всего клиентов с балансом до 800 тысяч рублей. Наибольшая отточность среди клиентов у которых больше 500 тысяч на балансе."
   ]
  },
  {
   "cell_type": "code",
   "execution_count": 17,
   "metadata": {},
   "outputs": [
    {
     "data": {
      "image/png": "[encoded data removed]",
      "text/plain": [
       "<Figure size 1080x360 with 2 Axes>"
      ]
     },
     "metadata": {
      "needs_background": "light"
     },
     "output_type": "display_data"
    }
   ],
   "source": [
    "plot_distribution_numeric(data, 'products')"
   ]
  },
  {
   "cell_type": "markdown",
   "metadata": {},
   "source": [
    "Больше всего клиентов с 1-2 продуктами. Наибольшая отточность среди клиентов у которых 2-4 продукта. Так же в данных есть клиенты с 0 продуктов, такого быть не может. Посмотрим сколько таких клиентов и удалим их."
   ]
  },
  {
   "cell_type": "code",
   "execution_count": 18,
   "metadata": {},
   "outputs": [
    {
     "name": "stdout",
     "output_type": "stream",
     "text": [
      "Количетсов клиентов с 0 продуктов - 1\n"
     ]
    }
   ],
   "source": [
    "print(f\"Количетсов клиентов с 0 продуктов - {data[data['products'] == 0].shape[0]}\")\n",
    "data = data[data['products'] != 0]"
   ]
  },
  {
   "cell_type": "code",
   "execution_count": 19,
   "metadata": {},
   "outputs": [
    {
     "data": {
      "image/png": "[encoded data removed]",
      "text/plain": [
       "<Figure size 1080x360 with 2 Axes>"
      ]
     },
     "metadata": {
      "needs_background": "light"
     },
     "output_type": "display_data"
    }
   ],
   "source": [
    "plot_distribution_numeric(data, 'credit_card')"
   ]
  },
  {
   "cell_type": "markdown",
   "metadata": {},
   "source": [
    "Больше клиентов с кредитной картой. Наибольшая отточность среди клиентов у которых нет кредитной карты."
   ]
  },
  {
   "cell_type": "code",
   "execution_count": 20,
   "metadata": {},
   "outputs": [
    {
     "data": {
      "image/png": "[encoded data removed]",
      "text/plain": [
       "<Figure size 1080x360 with 2 Axes>"
      ]
     },
     "metadata": {
      "needs_background": "light"
     },
     "output_type": "display_data"
    }
   ],
   "source": [
    "plot_distribution_numeric(data, 'last_activity')"
   ]
  },
  {
   "cell_type": "markdown",
   "metadata": {},
   "source": [
    "Больше активных клиентов. Наибольшая отточность среди активных клиентов."
   ]
  },
  {
   "cell_type": "code",
   "execution_count": 21,
   "metadata": {},
   "outputs": [
    {
     "data": {
      "image/png": "[encoded data removed]",
      "text/plain": [
       "<Figure size 1080x360 with 2 Axes>"
      ]
     },
     "metadata": {
      "needs_background": "light"
     },
     "output_type": "display_data"
    }
   ],
   "source": [
    "plot_distribution_numeric(data, 'est_salary')"
   ]
  },
  {
   "cell_type": "markdown",
   "metadata": {},
   "source": [
    "Больше всего клиентов с оценочным доходом 100-200 тысяч рублей.\n",
    "\n",
    "Построим график с оценочным доходом до 400 тысяч рублей, чтобы лучше видеть распределение частоты."
   ]
  },
  {
   "cell_type": "code",
   "execution_count": 22,
   "metadata": {},
   "outputs": [
    {
     "data": {
      "image/png": "[encoded data removed]",
      "text/plain": [
       "<Figure size 1080x360 with 2 Axes>"
      ]
     },
     "metadata": {
      "needs_background": "light"
     },
     "output_type": "display_data"
    }
   ],
   "source": [
    "plot_distribution_numeric(data[data['est_salary'] <= 400*10**3], 'est_salary')"
   ]
  },
  {
   "cell_type": "markdown",
   "metadata": {},
   "source": [
    "Наибольшая отточность среди клиентов с оценочным доходом 100-220 тысяч рублей."
   ]
  },
  {
   "cell_type": "code",
   "execution_count": 23,
   "metadata": {},
   "outputs": [
    {
     "data": {
      "image/png": "[encoded data removed]",
      "text/plain": [
       "<Figure size 360x360 with 1 Axes>"
      ]
     },
     "metadata": {
      "needs_background": "light"
     },
     "output_type": "display_data"
    }
   ],
   "source": [
    "plt.figure(figsize=(5,5))\n",
    "sns.histplot(data, x='churn', hue='churn')\n",
    "plt.title('Распределение признака оттока')\n",
    "plt.xlabel('Признак оттока')\n",
    "plt.ylabel('Количество')\n",
    "plt.xticks(range(0,2,1))\n",
    "plt.show()"
   ]
  },
  {
   "cell_type": "markdown",
   "metadata": {},
   "source": [
    "Больше всего клиентов которые остались.\n",
    "\n",
    "Теперь составим портрет клиента."
   ]
  },
  {
   "cell_type": "markdown",
   "metadata": {},
   "source": [
    "Типичный клиент - это человек возрастом от 30 до 50 лет из Ярославля с 1-2 продуктами, с балансом до 800 тысяч рублей, с оценочным доходом 100-200 тысяч рублей, с кредитной картой, с 0 или 5 баллами собственности, с 800-900 баллами кредитного рейтинга и является активным клиентом."
   ]
  },
  {
   "cell_type": "markdown",
   "metadata": {},
   "source": [
    "Построим две матрицы корреляций - общую и отдельную для столбца с оттоком."
   ]
  },
  {
   "cell_type": "code",
   "execution_count": 24,
   "metadata": {},
   "outputs": [
    {
     "data": {
      "image/png": "[encoded data removed]",
      "text/plain": [
       "<Figure size 576x1152 with 4 Axes>"
      ]
     },
     "metadata": {
      "needs_background": "light"
     },
     "output_type": "display_data"
    }
   ],
   "source": [
    "# Уберем userid и категориальные данные, кроме столбца churn\n",
    "data_corr = data.drop(['userid', 'city', 'gender', 'equity', 'products', 'credit_card', 'last_activity'], axis=1)\n",
    "\n",
    "plt.figure(figsize=(8,16))\n",
    "ax1=plt.subplot(2,1,1)\n",
    "sns.heatmap(data_corr.corr(), square=True, annot=True, fmt='.1%', ax=ax1)\n",
    "plt.title('Матрица корреляции')\n",
    "ax2=plt.subplot(2,1,2)\n",
    "sns.heatmap(\n",
    "    data_corr.corr().loc[:, ['churn']].drop('churn').sort_values('churn'), annot=True, fmt='.0%',\n",
    "    cmap='vlag', center=0, ax=ax2)\n",
    "plt.title('Корреляция для столбца churn')\n",
    "plt.show()"
   ]
  },
  {
   "cell_type": "markdown",
   "metadata": {},
   "source": [
    "Слабая корреляция между столбцами est_salary и balance. Между остальными столбцами корреляция очень слабая, либо отсутствует."
   ]
  },
  {
   "cell_type": "markdown",
   "metadata": {},
   "source": [
    "Наибольший отток клиентов:\n",
    "- с 830-940 баллами кредитного рейтинга;\n",
    "- у мужчин;\n",
    "- у 25-35-ти летних и у 50-59-ти летних;\n",
    "- с 3-9 баллами собственности;\n",
    "- с более 500 тысяч на балансе;\n",
    "- с 2-4 продуктами;\n",
    "- без кредитной карты;\n",
    "- у активных клиентов;\n",
    "- с оценочным доходом 100-220 тысяч рублей."
   ]
  },
  {
   "cell_type": "markdown",
   "metadata": {},
   "source": [
    "## Сегментация клиентов"
   ]
  },
  {
   "cell_type": "markdown",
   "metadata": {},
   "source": [
    "Найдем процент оттока клиентов по всем данным."
   ]
  },
  {
   "cell_type": "code",
   "execution_count": 25,
   "metadata": {},
   "outputs": [
    {
     "name": "stdout",
     "output_type": "stream",
     "text": [
      "Процент оттока клиентов по всем данным - 18.23%\n"
     ]
    }
   ],
   "source": [
    "print(f'Процент оттока клиентов по всем данным - {round(data[\"churn\"].mean() * 100, 2)}%')"
   ]
  },
  {
   "cell_type": "markdown",
   "metadata": {},
   "source": [
    "Перед сегментацией клиентов проверим по одному признаку в соответствии с выводом выше. Тем самым мы проверим правильно ли сделан вывод и узнаем количество людей и долю оттока в этих группах."
   ]
  },
  {
   "cell_type": "markdown",
   "metadata": {},
   "source": [
    "Проверим клиентов с 830-940 баллами кредитного рейтинга."
   ]
  },
  {
   "cell_type": "code",
   "execution_count": 26,
   "metadata": {},
   "outputs": [
    {
     "data": {
      "text/plain": [
       "clients    5505.00\n",
       "churn         0.23\n",
       "dtype: float64"
      ]
     },
     "execution_count": 26,
     "metadata": {},
     "output_type": "execute_result"
    }
   ],
   "source": [
    "temp = data.query(\"score >= 830 and score <= 940\").agg({'userid': 'count', 'churn': 'mean'})\n",
    "temp.index = ['clients', 'churn']\n",
    "temp.round(2)"
   ]
  },
  {
   "cell_type": "markdown",
   "metadata": {},
   "source": [
    "Процент оттока выше, чем по всем данным.\n",
    "\n",
    "Проверим клиентов мужского пола."
   ]
  },
  {
   "cell_type": "code",
   "execution_count": 27,
   "metadata": {},
   "outputs": [
    {
     "data": {
      "text/plain": [
       "clients    4991.00\n",
       "churn         0.24\n",
       "dtype: float64"
      ]
     },
     "execution_count": 27,
     "metadata": {},
     "output_type": "execute_result"
    }
   ],
   "source": [
    "temp = data.query(\"gender == 'М'\").agg({'userid': 'count', 'churn': 'mean'})\n",
    "temp.index = ['clients', 'churn']\n",
    "temp.round(2)"
   ]
  },
  {
   "cell_type": "markdown",
   "metadata": {},
   "source": [
    "Процент оттока выше, чем по всем данным.\n",
    "\n",
    "Проверим 25-35-ти летних и у 50-59-ти летних клиентов."
   ]
  },
  {
   "cell_type": "code",
   "execution_count": 28,
   "metadata": {},
   "outputs": [
    {
     "data": {
      "text/plain": [
       "clients    4655.00\n",
       "churn         0.24\n",
       "dtype: float64"
      ]
     },
     "execution_count": 28,
     "metadata": {},
     "output_type": "execute_result"
    }
   ],
   "source": [
    "temp = data.query(\"age >= 25 and age <=35 or age >= 50 and age <= 59\").agg({'userid': 'count', 'churn': 'mean'})\n",
    "temp.index = ['clients', 'churn']\n",
    "temp.round(2)"
   ]
  },
  {
   "cell_type": "markdown",
   "metadata": {},
   "source": [
    "Процент оттока выше, чем по всем данным.\n",
    "\n",
    "Проверим клиентов с 3-7 баллами собственности."
   ]
  },
  {
   "cell_type": "code",
   "execution_count": 29,
   "metadata": {},
   "outputs": [
    {
     "data": {
      "text/plain": [
       "clients    5573.00\n",
       "churn         0.26\n",
       "dtype: float64"
      ]
     },
     "execution_count": 29,
     "metadata": {},
     "output_type": "execute_result"
    }
   ],
   "source": [
    "temp = data.query(\"equity >= 3 and equity <=9\").agg({'userid': 'count', 'churn': 'mean'})\n",
    "temp.index = ['clients', 'churn']\n",
    "temp.round(2)"
   ]
  },
  {
   "cell_type": "markdown",
   "metadata": {},
   "source": [
    "Процент оттока выше, чем по всем данным.\n",
    "\n",
    "Проверим клиентов с балансом от 500 тысяч."
   ]
  },
  {
   "cell_type": "code",
   "execution_count": 30,
   "metadata": {},
   "outputs": [
    {
     "data": {
      "text/plain": [
       "clients    4000.0\n",
       "churn         0.3\n",
       "dtype: float64"
      ]
     },
     "execution_count": 30,
     "metadata": {},
     "output_type": "execute_result"
    }
   ],
   "source": [
    "temp = data.query(\"balance >= 500000\").agg({'userid': 'count', 'churn': 'mean'})\n",
    "temp.index = ['clients', 'churn']\n",
    "temp.round(2)"
   ]
  },
  {
   "cell_type": "markdown",
   "metadata": {},
   "source": [
    "Процент оттока значительно выше, чем по всем данным.\n",
    "\n",
    "Проверим клиентов с с 2-4 продуктами."
   ]
  },
  {
   "cell_type": "code",
   "execution_count": 31,
   "metadata": {},
   "outputs": [
    {
     "data": {
      "text/plain": [
       "clients    6631.00\n",
       "churn         0.24\n",
       "dtype: float64"
      ]
     },
     "execution_count": 31,
     "metadata": {},
     "output_type": "execute_result"
    }
   ],
   "source": [
    "temp = data.query(\"products >= 2 and products <= 4\").agg({'userid': 'count', 'churn': 'mean'})\n",
    "temp.index = ['clients', 'churn']\n",
    "temp.round(2)"
   ]
  },
  {
   "cell_type": "markdown",
   "metadata": {},
   "source": [
    "Процент оттока выше, чем по всем данным.\n",
    "\n",
    "Проверим клиентов без кредитной карты."
   ]
  },
  {
   "cell_type": "code",
   "execution_count": 32,
   "metadata": {},
   "outputs": [
    {
     "data": {
      "text/plain": [
       "clients    3189.00\n",
       "churn         0.26\n",
       "dtype: float64"
      ]
     },
     "execution_count": 32,
     "metadata": {},
     "output_type": "execute_result"
    }
   ],
   "source": [
    "temp = data.query(\"credit_card == 0\").agg({'userid': 'count', 'churn': 'mean'})\n",
    "temp.index = ['clients', 'churn']\n",
    "temp.round(2)"
   ]
  },
  {
   "cell_type": "markdown",
   "metadata": {},
   "source": [
    "Процент оттока выше, чем по всем данным.\n",
    "\n",
    "Проверим активных клиентов."
   ]
  },
  {
   "cell_type": "code",
   "execution_count": 33,
   "metadata": {},
   "outputs": [
    {
     "data": {
      "text/plain": [
       "clients    5215.00\n",
       "churn         0.24\n",
       "dtype: float64"
      ]
     },
     "execution_count": 33,
     "metadata": {},
     "output_type": "execute_result"
    }
   ],
   "source": [
    "temp = data.query(\"last_activity == 1\").agg({'userid': 'count', 'churn': 'mean'})\n",
    "temp.index = ['clients', 'churn']\n",
    "temp.round(2)"
   ]
  },
  {
   "cell_type": "markdown",
   "metadata": {},
   "source": [
    "Процент оттока выше, чем по всем данным.\n",
    "\n",
    "Проверим клиентов с оценочным доходом 100-220 тысяч рублей."
   ]
  },
  {
   "cell_type": "code",
   "execution_count": 34,
   "metadata": {},
   "outputs": [
    {
     "data": {
      "text/plain": [
       "clients    4708.0\n",
       "churn         0.2\n",
       "dtype: float64"
      ]
     },
     "execution_count": 34,
     "metadata": {},
     "output_type": "execute_result"
    }
   ],
   "source": [
    "temp = data.query(\"est_salary >= 100000 and est_salary <= 220000\").agg({'userid': 'count', 'churn': 'mean'})\n",
    "temp.index = ['clients', 'churn']\n",
    "temp.round(2)"
   ]
  },
  {
   "cell_type": "markdown",
   "metadata": {},
   "source": [
    "Процент оттока выше, чем по всем данным.\n",
    "\n",
    "Теперь проверим сразу по 2-3 признакам так, чтобы получились группы по 500-2000 человек у которых процент оттока существенно выше, чем по всем данным. Выделим 6 групп."
   ]
  },
  {
   "cell_type": "code",
   "execution_count": 35,
   "metadata": {},
   "outputs": [
    {
     "data": {
      "text/plain": [
       "clients    648.00\n",
       "churn        0.44\n",
       "dtype: float64"
      ]
     },
     "execution_count": 35,
     "metadata": {},
     "output_type": "execute_result"
    }
   ],
   "source": [
    "temp = data.query(\"(gender == 'М') \\\n",
    "           and (age >= 25 and age <=35 or age >= 50 and age <= 59) \\\n",
    "           and (credit_card == 0)\").agg({'userid': 'count', 'churn': 'mean'})\n",
    "temp.index = ['clients', 'churn']\n",
    "temp.round(2)"
   ]
  },
  {
   "cell_type": "markdown",
   "metadata": {},
   "source": [
    "Первая группа мужчины возрастом 25-35 лет и 50-59 лет без кредитных карт. В группе 648 клиентов, процент оттока - 44%."
   ]
  },
  {
   "cell_type": "code",
   "execution_count": 36,
   "metadata": {},
   "outputs": [
    {
     "data": {
      "text/plain": [
       "clients    1014.00\n",
       "churn         0.53\n",
       "dtype: float64"
      ]
     },
     "execution_count": 36,
     "metadata": {},
     "output_type": "execute_result"
    }
   ],
   "source": [
    "temp = data.query(\"(balance >= 500000) \\\n",
    "           and (gender == 'М') \\\n",
    "           and (last_activity == 1)\").agg({'userid': 'count', 'churn': 'mean'})\n",
    "temp.index = ['clients', 'churn']\n",
    "temp.round(2)"
   ]
  },
  {
   "cell_type": "markdown",
   "metadata": {},
   "source": [
    "Вторая группа мужчины с балансом от 500 тыс. рублей, являющиеся активными клиентами. В группе 1014 клиентов, процент оттока - 53%."
   ]
  },
  {
   "cell_type": "code",
   "execution_count": 37,
   "metadata": {},
   "outputs": [
    {
     "data": {
      "text/plain": [
       "clients    1782.0\n",
       "churn         0.4\n",
       "dtype: float64"
      ]
     },
     "execution_count": 37,
     "metadata": {},
     "output_type": "execute_result"
    }
   ],
   "source": [
    "temp = data.query(\"(balance >= 500000) \\\n",
    "           and (age >= 25 and age <=35 or age >= 50 and age <= 59)\").agg({'userid': 'count', 'churn': 'mean'})\n",
    "temp.index = ['clients', 'churn']\n",
    "temp.round(2)"
   ]
  },
  {
   "cell_type": "markdown",
   "metadata": {},
   "source": [
    "Третья группа клиенты возрастом 25-35 лет и 50-59 лет с балансом от 500 тыс. рублей. В группе 1782 клиента, процент оттока - 40%."
   ]
  },
  {
   "cell_type": "code",
   "execution_count": 38,
   "metadata": {},
   "outputs": [
    {
     "data": {
      "text/plain": [
       "clients    1690.00\n",
       "churn         0.51\n",
       "dtype: float64"
      ]
     },
     "execution_count": 38,
     "metadata": {},
     "output_type": "execute_result"
    }
   ],
   "source": [
    "temp = data.query(\"(score >= 830 and score <= 940) \\\n",
    "           and (last_activity == 1) \\\n",
    "           and (equity >= 3 and equity <=9)\").agg({'userid': 'count', 'churn': 'mean'})\n",
    "temp.index = ['clients', 'churn']\n",
    "temp.round(2)"
   ]
  },
  {
   "cell_type": "markdown",
   "metadata": {},
   "source": [
    "Четвертая группа активные клиенты с 830-940 баллов кредитного рейтинга, с 3-7 баллами собственности. В группе 1690 клиентов, процент оттока - 51%."
   ]
  },
  {
   "cell_type": "code",
   "execution_count": 39,
   "metadata": {},
   "outputs": [
    {
     "data": {
      "text/plain": [
       "clients    1772.00\n",
       "churn         0.37\n",
       "dtype: float64"
      ]
     },
     "execution_count": 39,
     "metadata": {},
     "output_type": "execute_result"
    }
   ],
   "source": [
    "temp = data.query(\"(est_salary >= 100000 and est_salary <= 220000) \\\n",
    "           and (score >= 830 and score <= 940) \\\n",
    "           and (products >= 2 and products <= 4)\").agg({'userid': 'count', 'churn': 'mean'})\n",
    "temp.index = ['clients', 'churn']\n",
    "temp.round(2)"
   ]
  },
  {
   "cell_type": "markdown",
   "metadata": {},
   "source": [
    "Пятая группа клиенты с 830-940 баллов кредитного рейтинга, с 2-4 продуктами, с оценочным доходом 100-220 тыс. рублей. В группе 1772 клиента, процент оттока - 37%."
   ]
  },
  {
   "cell_type": "code",
   "execution_count": 40,
   "metadata": {},
   "outputs": [
    {
     "data": {
      "text/plain": [
       "clients    1079.00\n",
       "churn         0.41\n",
       "dtype: float64"
      ]
     },
     "execution_count": 40,
     "metadata": {},
     "output_type": "execute_result"
    }
   ],
   "source": [
    "temp = data.query(\"(products >= 2 and products <= 4) \\\n",
    "           and (gender == 'М') \\\n",
    "           and (credit_card == 0)\").agg({'userid': 'count', 'churn': 'mean'})\n",
    "temp.index = ['clients', 'churn']\n",
    "temp.round(2)"
   ]
  },
  {
   "cell_type": "markdown",
   "metadata": {},
   "source": [
    "Шестая группа мужчины с 2-4 продуктами без кредитной карты. В группе 1079 клиентов, процент оттока - 41%."
   ]
  },
  {
   "cell_type": "markdown",
   "metadata": {},
   "source": [
    "Выделили 6 групп по 500-2000 человек в группе с процентом оттока 37-53%:\n",
    "- Мужчины возрастом 25-35 лет и 50-59 лет без кредитных карт. В группе 648 клиентов, процент оттока - 44%;\n",
    "- Мужчины с балансом от 500 тыс. рублей, являющиеся активными клиентами. В группе 1014 клиентов, процент оттока - 53%;\n",
    "- Клиенты возрастом 25-35 лет и 50-59 лет с балансом от 500 тыс. рублей. В группе 1782 клиента, процент оттока - 40%;\n",
    "- Активные клиенты с 830-940 баллов кредитного рейтинга, с 3-7 баллами собственности. В группе 1690 клиент, процент оттока - 51%;\n",
    "- Клиенты с 830-940 баллов кредитного рейтинга, с 2-4 продуктами, с оценочным доходом 100-220 тыс. рублей. В группе 1772 клиента, процент оттока - 37%;\n",
    "- Мужчины с 2-4 продуктами без кредитной карты. В группе 1079 клиентов, процент оттока - 41%."
   ]
  },
  {
   "cell_type": "markdown",
   "metadata": {},
   "source": [
    "## Проверка гипотез"
   ]
  },
  {
   "cell_type": "markdown",
   "metadata": {},
   "source": [
    "Проверим две статистических гипотезы:\n",
    "- о различии дохода между клиентами, которые ушли и которые остались.\n",
    "- о различии количества продуктов между клиентами, которые ушли и которые остались."
   ]
  },
  {
   "cell_type": "markdown",
   "metadata": {},
   "source": [
    "Для проверки первой гипотезы будем использовать тест Манна-Уитни потому, что метрика численная, есть сильные выбросы в обоих группах, которые не получится исключить без потери ценной информации.\n",
    "\n",
    "Для проверки второй гипотезы будем использовать т-тест потому, что метрика численная и сильных выбросов нет. Будем использовать метод st.ttest_ind для независимых выборок."
   ]
  },
  {
   "cell_type": "markdown",
   "metadata": {},
   "source": [
    "Нулевая гипотеза - доход клиентов, которые ушли и клиентов, которые остались одинаковый. Альтернативная гипотеза - доход клиентов, которые ушли и клиентов, которые остались разный."
   ]
  },
  {
   "cell_type": "code",
   "execution_count": 41,
   "metadata": {},
   "outputs": [
    {
     "data": {
      "text/html": [
       "<div>\n",
       "<style scoped>\n",
       "    .dataframe tbody tr th:only-of-type {\n",
       "        vertical-align: middle;\n",
       "    }\n",
       "\n",
       "    .dataframe tbody tr th {\n",
       "        vertical-align: top;\n",
       "    }\n",
       "\n",
       "    .dataframe thead th {\n",
       "        text-align: right;\n",
       "    }\n",
       "</style>\n",
       "<table border=\"1\" class=\"dataframe\">\n",
       "  <thead>\n",
       "    <tr style=\"text-align: right;\">\n",
       "      <th></th>\n",
       "      <th>mean</th>\n",
       "      <th>50%</th>\n",
       "    </tr>\n",
       "    <tr>\n",
       "      <th>churn</th>\n",
       "      <th></th>\n",
       "      <th></th>\n",
       "    </tr>\n",
       "  </thead>\n",
       "  <tbody>\n",
       "    <tr>\n",
       "      <th>0</th>\n",
       "      <td>147674.6</td>\n",
       "      <td>118227.6</td>\n",
       "    </tr>\n",
       "    <tr>\n",
       "      <th>1</th>\n",
       "      <td>148357.5</td>\n",
       "      <td>125408.9</td>\n",
       "    </tr>\n",
       "  </tbody>\n",
       "</table>\n",
       "</div>"
      ],
      "text/plain": [
       "           mean       50%\n",
       "churn                    \n",
       "0      147674.6  118227.6\n",
       "1      148357.5  125408.9"
      ]
     },
     "execution_count": 41,
     "metadata": {},
     "output_type": "execute_result"
    }
   ],
   "source": [
    "data.groupby('churn')['est_salary'].describe()[['mean', '50%']].round(1)"
   ]
  },
  {
   "cell_type": "code",
   "execution_count": 42,
   "metadata": {},
   "outputs": [
    {
     "name": "stdout",
     "output_type": "stream",
     "text": [
      "p-значение:  0.00016830729188229058\n",
      "Отвергаем нулевую гипотезу в пользу альтернативной\n"
     ]
    }
   ],
   "source": [
    "alpha = 0.05\n",
    "results = st.mannwhitneyu(data.loc[data['churn'] == 0, 'est_salary'], data.loc[data['churn'] == 1, 'est_salary'])\n",
    "print('p-значение: ', results.pvalue)\n",
    "if results.pvalue < alpha:\n",
    "    print('Отвергаем нулевую гипотезу в пользу альтернативной')\n",
    "else:\n",
    "    print('Не получилось отвергнуть нулевую гипотезу') "
   ]
  },
  {
   "cell_type": "markdown",
   "metadata": {},
   "source": [
    "pvalue меньше уровня статистической значимости. Отвергаем нулевую гипотезу в пользу альтернативной."
   ]
  },
  {
   "cell_type": "markdown",
   "metadata": {},
   "source": [
    "Нулевая гипотеза - количество продуктов клиентов, которые ушли и клиентов которые остались одинаковое. Альтернативная гипотеза - количество продуктов клиентов, которые ушли и клиентов, которые остались разное."
   ]
  },
  {
   "cell_type": "code",
   "execution_count": 43,
   "metadata": {},
   "outputs": [
    {
     "data": {
      "text/html": [
       "<div>\n",
       "<style scoped>\n",
       "    .dataframe tbody tr th:only-of-type {\n",
       "        vertical-align: middle;\n",
       "    }\n",
       "\n",
       "    .dataframe tbody tr th {\n",
       "        vertical-align: top;\n",
       "    }\n",
       "\n",
       "    .dataframe thead th {\n",
       "        text-align: right;\n",
       "    }\n",
       "</style>\n",
       "<table border=\"1\" class=\"dataframe\">\n",
       "  <thead>\n",
       "    <tr style=\"text-align: right;\">\n",
       "      <th></th>\n",
       "      <th>churn</th>\n",
       "      <th>mean</th>\n",
       "    </tr>\n",
       "  </thead>\n",
       "  <tbody>\n",
       "    <tr>\n",
       "      <th>0</th>\n",
       "      <td>0</td>\n",
       "      <td>1.76</td>\n",
       "    </tr>\n",
       "    <tr>\n",
       "      <th>1</th>\n",
       "      <td>1</td>\n",
       "      <td>2.38</td>\n",
       "    </tr>\n",
       "  </tbody>\n",
       "</table>\n",
       "</div>"
      ],
      "text/plain": [
       "   churn  mean\n",
       "0      0  1.76\n",
       "1      1  2.38"
      ]
     },
     "execution_count": 43,
     "metadata": {},
     "output_type": "execute_result"
    }
   ],
   "source": [
    "data.groupby('churn')['products'].describe()['mean'].reset_index().round(2)"
   ]
  },
  {
   "cell_type": "code",
   "execution_count": 44,
   "metadata": {},
   "outputs": [
    {
     "name": "stdout",
     "output_type": "stream",
     "text": [
      "p-значение:  2.5178746542447946e-208\n",
      "Отвергаем нулевую гипотезу в пользу альтернативной\n"
     ]
    }
   ],
   "source": [
    "alpha = 0.05\n",
    "results = st.ttest_ind(data.loc[data['churn'] == 0, 'products'], data.loc[data['churn'] == 1, 'products'])\n",
    "print('p-значение: ', results.pvalue)\n",
    "if results.pvalue < alpha:\n",
    "    print('Отвергаем нулевую гипотезу в пользу альтернативной')\n",
    "else:\n",
    "    print('Не получилось отвергнуть нулевую гипотезу') "
   ]
  },
  {
   "cell_type": "markdown",
   "metadata": {},
   "source": [
    "pvalue меньше уровня статистической значимости. Отвергаем нулевую гипотезу в пользу альтернативной."
   ]
  },
  {
   "cell_type": "markdown",
   "metadata": {},
   "source": [
    "Проверили две статистические гипотезы. Обе отвергли в пользу альтернативных гипотез.\n",
    "\n",
    "- Альтернативаня гипотеза 1 - доход клиентов, которые ушли и клиентов, которые остались разный;\n",
    "- Альтернативная гипотеза 2 - количество продуктов клиентов, которые ушли и клиентов, которые остались разное."
   ]
  },
  {
   "cell_type": "markdown",
   "metadata": {},
   "source": [
    "##  Вывод"
   ]
  },
  {
   "cell_type": "markdown",
   "metadata": {},
   "source": [
    "Вывод: \n",
    "- Типичный клиент - это человек возрастом от 30 до 50 лет из Ярославля с 1-2 продуктами, с балансом до 800 тысяч рублей, с оценочным доходом 100-200 тысяч рублей, с кредитной картой, с 0 или 5 баллами собственности, с 800-900 баллами кредитного рейтинга и является активным клиентом;\n",
    "- Наибольший отток клиентов:\n",
    "    - с 830-940 баллами кредитного рейтинга;\n",
    "    - у мужчин;\n",
    "    - у 25-35-ти летних и у 50-59-ти летних;\n",
    "    - с 3-9 баллами собственности;\n",
    "    - с более 500 тысяч на балансе;\n",
    "    - с 2-4 продуктами;\n",
    "    - без кредитной карты;\n",
    "    - у активных клиентов;\n",
    "    - с оценочным доходом 100-220 тысяч рублей.\n",
    "- Процент оттока клиентов по всем данным - 18.23%;\n",
    "- Группы клиентов по 500-2000 человек в группе с процентом оттока существенно выше, чем по всем данным:\n",
    "    - Мужчины возрастом 25-35 лет и 50-59 лет без кредитных карт. В группе 648 клиентов, процент оттока - 44%;\n",
    "    - Мужчины с балансом от 500 тыс. рублей, являющиеся активными клиентами. В группе 1014 клиентов, процент оттока - 53%;\n",
    "    - Клиенты возрастом 25-35 лет и 50-59 лет с балансом от 500 тыс. рублей. В группе 1782 клиента, процент оттока - 40%;\n",
    "    - Активные клиенты с 830-940 баллов кредитного рейтинга, с 3-7 баллами собственности. В группе 1690 клиент, процент оттока - 51%;\n",
    "    - Клиенты с 830-940 баллов кредитного рейтинга, с 2-4 продуктами, с оценочным доходом 100-220 тыс. рублей. В группе 1772 клиента, процент оттока - 37%;\n",
    "    - Мужчины с 2-4 продуктами без кредитной карты. В группе 1079 клиентов, процент оттока - 41%.\n",
    "- Доход клиентов, которые ушли и клиентов, которые остались разный;\n",
    "- Количество продуктов клиентов, которые ушли и клиентов, которые остались разное."
   ]
  },
  {
   "cell_type": "markdown",
   "metadata": {},
   "source": [
    "Для уменьшения оттока рекомендуется:\n",
    "- Узнать причины столь высокого оттока в выделенных группах и устранить их;\n",
    "- Активнее предлагать клиентам кредитные карты банка."
   ]
  },
  {
   "cell_type": "markdown",
   "metadata": {},
   "source": [
    "Презентация - https://disk.yandex.ru/i/YcSz60vYY7E_tw"
   ]
  },
  {
   "cell_type": "code",
   "execution_count": null,
   "metadata": {},
   "outputs": [],
   "source": []
  }
 ],
 "metadata": {
  "ExecuteTimeLog": [
   {
    "duration": 917,
    "start_time": "2025-06-20T10:03:59.532Z"
   },
   {
    "duration": 131,
    "start_time": "2025-06-20T10:04:37.080Z"
   },
   {
    "duration": 15,
    "start_time": "2025-06-20T10:04:52.427Z"
   },
   {
    "duration": 165,
    "start_time": "2025-06-20T10:05:01.651Z"
   },
   {
    "duration": 19,
    "start_time": "2025-06-20T10:05:13.689Z"
   },
   {
    "duration": 945,
    "start_time": "2025-06-26T12:41:05.835Z"
   },
   {
    "duration": 62,
    "start_time": "2025-06-26T12:41:06.789Z"
   },
   {
    "duration": 16,
    "start_time": "2025-06-26T12:41:06.853Z"
   },
   {
    "duration": 81,
    "start_time": "2025-06-26T12:45:22.913Z"
   },
   {
    "duration": 10,
    "start_time": "2025-06-26T12:45:27.871Z"
   },
   {
    "duration": 296,
    "start_time": "2025-06-26T12:45:31.502Z"
   },
   {
    "duration": 6,
    "start_time": "2025-06-26T12:45:33.643Z"
   },
   {
    "duration": 7,
    "start_time": "2025-06-26T12:46:55.939Z"
   },
   {
    "duration": 4,
    "start_time": "2025-06-26T12:47:02.019Z"
   },
   {
    "duration": 15,
    "start_time": "2025-06-26T12:47:58.206Z"
   },
   {
    "duration": 4,
    "start_time": "2025-06-26T12:49:05.870Z"
   },
   {
    "duration": 10,
    "start_time": "2025-06-26T12:49:09.433Z"
   },
   {
    "duration": 14,
    "start_time": "2025-06-26T12:49:14.040Z"
   },
   {
    "duration": 8,
    "start_time": "2025-06-26T12:49:23.134Z"
   },
   {
    "duration": 10,
    "start_time": "2025-06-26T12:49:29.807Z"
   },
   {
    "duration": 7,
    "start_time": "2025-06-26T12:49:39.931Z"
   },
   {
    "duration": 11,
    "start_time": "2025-06-26T12:49:55.422Z"
   },
   {
    "duration": 8,
    "start_time": "2025-06-26T12:50:03.878Z"
   },
   {
    "duration": 3,
    "start_time": "2025-06-26T12:50:12.218Z"
   },
   {
    "duration": 9,
    "start_time": "2025-06-26T12:50:30.969Z"
   },
   {
    "duration": 21,
    "start_time": "2025-06-26T12:50:40.074Z"
   },
   {
    "duration": 11,
    "start_time": "2025-06-26T12:52:06.418Z"
   },
   {
    "duration": 6,
    "start_time": "2025-06-26T12:52:16.903Z"
   },
   {
    "duration": 14,
    "start_time": "2025-06-26T12:52:48.801Z"
   },
   {
    "duration": 12,
    "start_time": "2025-06-26T12:52:51.429Z"
   },
   {
    "duration": 9,
    "start_time": "2025-06-26T12:53:16.294Z"
   },
   {
    "duration": 10,
    "start_time": "2025-06-26T12:53:21.103Z"
   },
   {
    "duration": 28,
    "start_time": "2025-06-26T12:53:24.526Z"
   },
   {
    "duration": 83,
    "start_time": "2025-06-26T12:53:59.534Z"
   },
   {
    "duration": 91,
    "start_time": "2025-06-26T12:54:04.589Z"
   },
   {
    "duration": 80,
    "start_time": "2025-06-26T12:54:07.981Z"
   },
   {
    "duration": 14,
    "start_time": "2025-06-26T12:54:10.443Z"
   },
   {
    "duration": 28,
    "start_time": "2025-06-26T12:54:24.061Z"
   },
   {
    "duration": 14,
    "start_time": "2025-06-26T12:54:47.883Z"
   },
   {
    "duration": 20,
    "start_time": "2025-06-26T12:58:04.670Z"
   },
   {
    "duration": 9,
    "start_time": "2025-06-26T12:58:31.820Z"
   },
   {
    "duration": 19,
    "start_time": "2025-06-26T12:58:38.187Z"
   },
   {
    "duration": 599,
    "start_time": "2025-06-26T12:59:10.969Z"
   },
   {
    "duration": 429,
    "start_time": "2025-06-26T12:59:19.060Z"
   },
   {
    "duration": 947,
    "start_time": "2025-06-26T12:59:26.474Z"
   },
   {
    "duration": 911,
    "start_time": "2025-06-26T12:59:32.532Z"
   },
   {
    "duration": 917,
    "start_time": "2025-06-26T12:59:50.083Z"
   },
   {
    "duration": 1078,
    "start_time": "2025-06-26T12:59:55.864Z"
   },
   {
    "duration": 889,
    "start_time": "2025-06-26T13:00:13.762Z"
   },
   {
    "duration": 6,
    "start_time": "2025-06-26T13:03:05.966Z"
   },
   {
    "duration": 82,
    "start_time": "2025-06-26T13:03:43.677Z"
   },
   {
    "duration": 4,
    "start_time": "2025-06-26T13:03:50.737Z"
   },
   {
    "duration": 8,
    "start_time": "2025-06-26T13:04:48.240Z"
   },
   {
    "duration": 27,
    "start_time": "2025-06-26T13:06:57.356Z"
   },
   {
    "duration": 5,
    "start_time": "2025-06-26T13:07:16.508Z"
   },
   {
    "duration": 13,
    "start_time": "2025-06-26T13:08:18.067Z"
   },
   {
    "duration": 4,
    "start_time": "2025-06-26T13:09:44.705Z"
   },
   {
    "duration": 5,
    "start_time": "2025-06-26T13:11:44.274Z"
   },
   {
    "duration": 1210,
    "start_time": "2025-06-26T13:13:07.084Z"
   },
   {
    "duration": 46,
    "start_time": "2025-06-26T13:13:08.296Z"
   },
   {
    "duration": 14,
    "start_time": "2025-06-26T13:13:08.344Z"
   },
   {
    "duration": 20,
    "start_time": "2025-06-26T13:13:08.360Z"
   },
   {
    "duration": 38,
    "start_time": "2025-06-26T13:13:08.382Z"
   },
   {
    "duration": 932,
    "start_time": "2025-06-26T13:13:08.422Z"
   },
   {
    "duration": 6,
    "start_time": "2025-06-26T13:13:09.356Z"
   },
   {
    "duration": 4,
    "start_time": "2025-06-26T13:13:09.378Z"
   },
   {
    "duration": 22,
    "start_time": "2025-06-26T13:13:09.383Z"
   },
   {
    "duration": 77,
    "start_time": "2025-06-26T13:13:09.407Z"
   },
   {
    "duration": 13,
    "start_time": "2025-06-26T13:13:09.485Z"
   },
   {
    "duration": 18,
    "start_time": "2025-06-26T13:14:49.052Z"
   },
   {
    "duration": 1316,
    "start_time": "2025-06-26T13:14:59.931Z"
   },
   {
    "duration": 8,
    "start_time": "2025-06-26T13:15:10.533Z"
   },
   {
    "duration": 14,
    "start_time": "2025-06-26T13:19:29.876Z"
   },
   {
    "duration": 1210,
    "start_time": "2025-06-26T13:20:35.397Z"
   },
   {
    "duration": 46,
    "start_time": "2025-06-26T13:20:36.609Z"
   },
   {
    "duration": 19,
    "start_time": "2025-06-26T13:20:36.657Z"
   },
   {
    "duration": 5,
    "start_time": "2025-06-26T13:20:36.678Z"
   },
   {
    "duration": 16,
    "start_time": "2025-06-26T13:20:36.685Z"
   },
   {
    "duration": 892,
    "start_time": "2025-06-26T13:20:36.703Z"
   },
   {
    "duration": 5,
    "start_time": "2025-06-26T13:20:37.597Z"
   },
   {
    "duration": 85,
    "start_time": "2025-06-26T13:20:37.604Z"
   },
   {
    "duration": 6,
    "start_time": "2025-06-26T13:20:37.691Z"
   },
   {
    "duration": 7,
    "start_time": "2025-06-26T13:20:37.699Z"
   },
   {
    "duration": 27,
    "start_time": "2025-06-26T13:20:37.707Z"
   },
   {
    "duration": 1337,
    "start_time": "2025-06-28T16:54:26.547Z"
   },
   {
    "duration": 44,
    "start_time": "2025-06-28T16:54:27.886Z"
   },
   {
    "duration": 13,
    "start_time": "2025-06-28T16:54:27.932Z"
   },
   {
    "duration": 12,
    "start_time": "2025-06-28T16:54:27.947Z"
   },
   {
    "duration": 14,
    "start_time": "2025-06-28T16:54:27.960Z"
   },
   {
    "duration": 882,
    "start_time": "2025-06-28T16:54:27.976Z"
   },
   {
    "duration": 5,
    "start_time": "2025-06-28T16:54:28.859Z"
   },
   {
    "duration": 4,
    "start_time": "2025-06-28T16:54:28.865Z"
   },
   {
    "duration": 12,
    "start_time": "2025-06-28T16:54:28.870Z"
   },
   {
    "duration": 6,
    "start_time": "2025-06-28T16:54:28.884Z"
   },
   {
    "duration": 12,
    "start_time": "2025-06-28T16:54:28.891Z"
   },
   {
    "duration": 3,
    "start_time": "2025-06-28T16:59:50.104Z"
   },
   {
    "duration": 108,
    "start_time": "2025-06-28T16:59:51.427Z"
   },
   {
    "duration": 189,
    "start_time": "2025-06-28T16:59:57.888Z"
   },
   {
    "duration": 4,
    "start_time": "2025-06-28T17:00:15.460Z"
   },
   {
    "duration": 4,
    "start_time": "2025-06-28T17:01:06.443Z"
   },
   {
    "duration": 348,
    "start_time": "2025-06-28T17:01:08.346Z"
   },
   {
    "duration": 5,
    "start_time": "2025-06-28T17:01:18.170Z"
   },
   {
    "duration": 4,
    "start_time": "2025-06-28T17:01:28.423Z"
   },
   {
    "duration": 3,
    "start_time": "2025-06-28T17:01:34.627Z"
   },
   {
    "duration": 4,
    "start_time": "2025-06-28T17:01:43.667Z"
   },
   {
    "duration": 4,
    "start_time": "2025-06-28T17:01:51.497Z"
   },
   {
    "duration": 374,
    "start_time": "2025-06-28T17:01:56.921Z"
   },
   {
    "duration": 4,
    "start_time": "2025-06-28T17:02:00.536Z"
   },
   {
    "duration": 325,
    "start_time": "2025-06-28T17:02:02.714Z"
   },
   {
    "duration": 3,
    "start_time": "2025-06-28T17:02:08.738Z"
   },
   {
    "duration": 344,
    "start_time": "2025-06-28T17:02:12.211Z"
   },
   {
    "duration": 4,
    "start_time": "2025-06-28T17:02:18.219Z"
   },
   {
    "duration": 378,
    "start_time": "2025-06-28T17:02:20.770Z"
   },
   {
    "duration": 4,
    "start_time": "2025-06-28T17:02:57.848Z"
   },
   {
    "duration": 339,
    "start_time": "2025-06-28T17:02:58.376Z"
   },
   {
    "duration": 5,
    "start_time": "2025-06-28T17:03:01.702Z"
   },
   {
    "duration": 457,
    "start_time": "2025-06-28T17:03:02.065Z"
   },
   {
    "duration": 46,
    "start_time": "2025-06-28T17:03:12.466Z"
   },
   {
    "duration": 4,
    "start_time": "2025-06-28T17:03:19.239Z"
   },
   {
    "duration": 359,
    "start_time": "2025-06-28T17:03:19.527Z"
   },
   {
    "duration": 4,
    "start_time": "2025-06-28T17:03:24.008Z"
   },
   {
    "duration": 381,
    "start_time": "2025-06-28T17:03:24.841Z"
   },
   {
    "duration": 4,
    "start_time": "2025-06-28T17:03:43.559Z"
   },
   {
    "duration": 366,
    "start_time": "2025-06-28T17:03:43.745Z"
   },
   {
    "duration": 4,
    "start_time": "2025-06-28T17:03:54.905Z"
   },
   {
    "duration": 364,
    "start_time": "2025-06-28T17:03:55.251Z"
   },
   {
    "duration": 4,
    "start_time": "2025-06-28T17:04:09.214Z"
   },
   {
    "duration": 477,
    "start_time": "2025-06-28T17:04:09.522Z"
   },
   {
    "duration": 4,
    "start_time": "2025-06-28T17:04:17.683Z"
   },
   {
    "duration": 365,
    "start_time": "2025-06-28T17:04:19.176Z"
   },
   {
    "duration": 3,
    "start_time": "2025-06-28T17:04:26.089Z"
   },
   {
    "duration": 369,
    "start_time": "2025-06-28T17:04:28.291Z"
   },
   {
    "duration": 295,
    "start_time": "2025-06-28T17:05:26.176Z"
   },
   {
    "duration": 5,
    "start_time": "2025-06-28T17:05:55.186Z"
   },
   {
    "duration": 269,
    "start_time": "2025-06-28T17:05:55.855Z"
   },
   {
    "duration": 4,
    "start_time": "2025-06-28T17:06:12.416Z"
   },
   {
    "duration": 278,
    "start_time": "2025-06-28T17:06:13.588Z"
   },
   {
    "duration": 4,
    "start_time": "2025-06-28T17:06:25.622Z"
   },
   {
    "duration": 302,
    "start_time": "2025-06-28T17:06:26.689Z"
   },
   {
    "duration": 5,
    "start_time": "2025-06-28T17:06:31.863Z"
   },
   {
    "duration": 10,
    "start_time": "2025-06-28T17:06:34.534Z"
   },
   {
    "duration": 3,
    "start_time": "2025-06-28T17:06:56.933Z"
   },
   {
    "duration": 362,
    "start_time": "2025-06-28T17:06:57.236Z"
   },
   {
    "duration": 5,
    "start_time": "2025-06-28T17:08:10.376Z"
   },
   {
    "duration": 16,
    "start_time": "2025-06-28T17:08:11.160Z"
   },
   {
    "duration": 4,
    "start_time": "2025-06-28T17:08:30.567Z"
   },
   {
    "duration": 195,
    "start_time": "2025-06-28T17:08:31.825Z"
   },
   {
    "duration": 9,
    "start_time": "2025-06-28T17:09:47.615Z"
   },
   {
    "duration": 12,
    "start_time": "2025-06-28T17:10:04.195Z"
   },
   {
    "duration": 17,
    "start_time": "2025-06-28T17:10:19.023Z"
   },
   {
    "duration": 19,
    "start_time": "2025-06-28T17:10:23.764Z"
   },
   {
    "duration": 5,
    "start_time": "2025-06-28T17:11:21.441Z"
   },
   {
    "duration": 130,
    "start_time": "2025-06-28T17:11:21.827Z"
   },
   {
    "duration": 4,
    "start_time": "2025-06-28T17:11:31.746Z"
   },
   {
    "duration": 202,
    "start_time": "2025-06-28T17:11:32.034Z"
   },
   {
    "duration": 4,
    "start_time": "2025-06-28T17:11:37.266Z"
   },
   {
    "duration": 122,
    "start_time": "2025-06-28T17:11:38.067Z"
   },
   {
    "duration": 3,
    "start_time": "2025-06-28T17:11:44.061Z"
   },
   {
    "duration": 3,
    "start_time": "2025-06-28T17:11:48.236Z"
   },
   {
    "duration": 200,
    "start_time": "2025-06-28T17:11:48.415Z"
   },
   {
    "duration": 1294,
    "start_time": "2025-06-28T17:12:02.207Z"
   },
   {
    "duration": 1403,
    "start_time": "2025-06-28T17:12:08.555Z"
   },
   {
    "duration": 4,
    "start_time": "2025-06-28T17:12:24.701Z"
   },
   {
    "duration": 370,
    "start_time": "2025-06-28T17:12:25.207Z"
   },
   {
    "duration": 6,
    "start_time": "2025-06-28T17:12:34.576Z"
   },
   {
    "duration": 218,
    "start_time": "2025-06-28T17:12:34.753Z"
   },
   {
    "duration": 4,
    "start_time": "2025-06-28T17:12:40.546Z"
   },
   {
    "duration": 511,
    "start_time": "2025-06-28T17:12:40.929Z"
   },
   {
    "duration": 4,
    "start_time": "2025-06-28T17:12:50.187Z"
   },
   {
    "duration": 394,
    "start_time": "2025-06-28T17:12:50.992Z"
   },
   {
    "duration": 4,
    "start_time": "2025-06-28T17:13:06.256Z"
   },
   {
    "duration": 376,
    "start_time": "2025-06-28T17:13:06.480Z"
   },
   {
    "duration": 4,
    "start_time": "2025-06-28T17:13:15.632Z"
   },
   {
    "duration": 368,
    "start_time": "2025-06-28T17:13:15.904Z"
   },
   {
    "duration": 304,
    "start_time": "2025-06-28T17:13:41.287Z"
   },
   {
    "duration": 200,
    "start_time": "2025-06-28T17:13:46.459Z"
   },
   {
    "duration": 491,
    "start_time": "2025-06-28T17:14:06.735Z"
   },
   {
    "duration": 435,
    "start_time": "2025-06-28T17:14:20.832Z"
   },
   {
    "duration": 6,
    "start_time": "2025-06-28T17:14:38.256Z"
   },
   {
    "duration": 5,
    "start_time": "2025-06-28T17:14:43.354Z"
   },
   {
    "duration": 4,
    "start_time": "2025-06-28T17:14:47.744Z"
   },
   {
    "duration": 497,
    "start_time": "2025-06-28T17:14:48.234Z"
   },
   {
    "duration": 378,
    "start_time": "2025-06-28T17:15:26.398Z"
   },
   {
    "duration": 373,
    "start_time": "2025-06-28T17:15:31.855Z"
   },
   {
    "duration": 1439,
    "start_time": "2025-06-28T17:15:37.838Z"
   },
   {
    "duration": 488,
    "start_time": "2025-06-28T17:15:44.174Z"
   },
   {
    "duration": 6,
    "start_time": "2025-06-28T17:16:15.549Z"
   },
   {
    "duration": 6,
    "start_time": "2025-06-28T17:16:20.813Z"
   },
   {
    "duration": 4,
    "start_time": "2025-06-28T17:16:25.686Z"
   },
   {
    "duration": 1422,
    "start_time": "2025-06-28T17:17:25.221Z"
   },
   {
    "duration": 115,
    "start_time": "2025-06-28T17:18:02.082Z"
   },
   {
    "duration": 1458,
    "start_time": "2025-06-28T17:18:06.661Z"
   },
   {
    "duration": 4,
    "start_time": "2025-06-28T17:18:46.003Z"
   },
   {
    "duration": 1381,
    "start_time": "2025-06-28T17:18:47.483Z"
   },
   {
    "duration": 187,
    "start_time": "2025-06-28T17:18:55.019Z"
   },
   {
    "duration": 200,
    "start_time": "2025-06-28T17:19:42.083Z"
   },
   {
    "duration": 474,
    "start_time": "2025-06-28T17:19:51.434Z"
   },
   {
    "duration": 400,
    "start_time": "2025-06-28T17:19:59.032Z"
   },
   {
    "duration": 5,
    "start_time": "2025-06-28T17:21:21.912Z"
   },
   {
    "duration": 520,
    "start_time": "2025-06-28T17:21:23.181Z"
   },
   {
    "duration": 180,
    "start_time": "2025-06-28T17:21:39.679Z"
   },
   {
    "duration": 367,
    "start_time": "2025-06-28T17:21:58.294Z"
   },
   {
    "duration": 5,
    "start_time": "2025-06-28T17:22:54.004Z"
   },
   {
    "duration": 375,
    "start_time": "2025-06-28T17:22:54.405Z"
   },
   {
    "duration": 10,
    "start_time": "2025-06-28T17:22:56.495Z"
   },
   {
    "duration": 180,
    "start_time": "2025-06-28T17:23:01.350Z"
   },
   {
    "duration": 5,
    "start_time": "2025-06-28T17:23:16.654Z"
   },
   {
    "duration": 165,
    "start_time": "2025-06-28T17:23:18.142Z"
   },
   {
    "duration": 5,
    "start_time": "2025-06-28T17:23:22.094Z"
   },
   {
    "duration": 28,
    "start_time": "2025-06-28T17:23:27.130Z"
   },
   {
    "duration": 5,
    "start_time": "2025-06-28T17:23:33.933Z"
   },
   {
    "duration": 171,
    "start_time": "2025-06-28T17:23:35.211Z"
   },
   {
    "duration": 205,
    "start_time": "2025-06-28T17:23:45.427Z"
   },
   {
    "duration": 287,
    "start_time": "2025-06-28T17:24:01.748Z"
   },
   {
    "duration": 156,
    "start_time": "2025-06-28T17:24:18.532Z"
   },
   {
    "duration": 387,
    "start_time": "2025-06-28T17:24:48.219Z"
   },
   {
    "duration": 309,
    "start_time": "2025-06-28T17:25:08.691Z"
   },
   {
    "duration": 231,
    "start_time": "2025-06-28T17:25:21.506Z"
   },
   {
    "duration": 345,
    "start_time": "2025-06-28T17:25:31.283Z"
   },
   {
    "duration": 20,
    "start_time": "2025-06-28T17:25:45.329Z"
   },
   {
    "duration": 208,
    "start_time": "2025-06-28T17:26:11.537Z"
   },
   {
    "duration": 127,
    "start_time": "2025-06-28T17:27:25.145Z"
   },
   {
    "duration": 259,
    "start_time": "2025-06-28T17:27:29.594Z"
   },
   {
    "duration": 5862,
    "start_time": "2025-06-28T17:28:12.105Z"
   },
   {
    "duration": 4,
    "start_time": "2025-06-28T17:28:49.309Z"
   },
   {
    "duration": 309,
    "start_time": "2025-06-28T17:31:24.532Z"
   },
   {
    "duration": 301,
    "start_time": "2025-06-28T17:31:43.690Z"
   },
   {
    "duration": 323,
    "start_time": "2025-06-28T17:31:48.835Z"
   },
   {
    "duration": 710,
    "start_time": "2025-06-28T17:31:59.636Z"
   },
   {
    "duration": 463,
    "start_time": "2025-06-28T17:32:05.849Z"
   },
   {
    "duration": 482,
    "start_time": "2025-06-28T17:33:10.497Z"
   },
   {
    "duration": 388,
    "start_time": "2025-06-28T17:33:20.480Z"
   },
   {
    "duration": 19,
    "start_time": "2025-06-28T17:34:17.078Z"
   },
   {
    "duration": 285,
    "start_time": "2025-06-28T17:35:06.629Z"
   },
   {
    "duration": 5,
    "start_time": "2025-06-28T17:35:47.126Z"
   },
   {
    "duration": 473,
    "start_time": "2025-06-28T17:35:48.742Z"
   },
   {
    "duration": 171,
    "start_time": "2025-06-28T17:35:49.558Z"
   },
   {
    "duration": 161,
    "start_time": "2025-06-28T17:35:50.039Z"
   },
   {
    "duration": 412,
    "start_time": "2025-06-28T17:35:50.202Z"
   },
   {
    "duration": 199,
    "start_time": "2025-06-28T17:35:50.615Z"
   },
   {
    "duration": 5868,
    "start_time": "2025-06-28T17:35:50.816Z"
   },
   {
    "duration": 5,
    "start_time": "2025-06-28T17:35:56.686Z"
   },
   {
    "duration": 879,
    "start_time": "2025-06-28T17:35:56.692Z"
   },
   {
    "duration": 19,
    "start_time": "2025-06-28T17:35:57.573Z"
   },
   {
    "duration": 212,
    "start_time": "2025-06-28T17:35:57.594Z"
   },
   {
    "duration": 9,
    "start_time": "2025-06-28T17:35:57.808Z"
   },
   {
    "duration": 206,
    "start_time": "2025-06-28T17:36:08.894Z"
   },
   {
    "duration": 198,
    "start_time": "2025-06-28T17:36:18.070Z"
   },
   {
    "duration": 1223,
    "start_time": "2025-06-28T17:38:00.874Z"
   },
   {
    "duration": 44,
    "start_time": "2025-06-28T17:38:02.099Z"
   },
   {
    "duration": 15,
    "start_time": "2025-06-28T17:38:02.145Z"
   },
   {
    "duration": 13,
    "start_time": "2025-06-28T17:38:02.162Z"
   },
   {
    "duration": 20,
    "start_time": "2025-06-28T17:38:02.177Z"
   },
   {
    "duration": 885,
    "start_time": "2025-06-28T17:38:02.199Z"
   },
   {
    "duration": 5,
    "start_time": "2025-06-28T17:38:03.086Z"
   },
   {
    "duration": 16,
    "start_time": "2025-06-28T17:38:03.093Z"
   },
   {
    "duration": 34,
    "start_time": "2025-06-28T17:38:03.110Z"
   },
   {
    "duration": 9,
    "start_time": "2025-06-28T17:38:03.147Z"
   },
   {
    "duration": 14,
    "start_time": "2025-06-28T17:38:03.158Z"
   },
   {
    "duration": 5,
    "start_time": "2025-06-28T17:38:03.174Z"
   },
   {
    "duration": 406,
    "start_time": "2025-06-28T17:38:03.180Z"
   },
   {
    "duration": 186,
    "start_time": "2025-06-28T17:38:03.588Z"
   },
   {
    "duration": 169,
    "start_time": "2025-06-28T17:38:03.775Z"
   },
   {
    "duration": 420,
    "start_time": "2025-06-28T17:38:03.946Z"
   },
   {
    "duration": 283,
    "start_time": "2025-06-28T17:38:04.368Z"
   },
   {
    "duration": 5974,
    "start_time": "2025-06-28T17:38:04.652Z"
   },
   {
    "duration": 4,
    "start_time": "2025-06-28T17:38:10.628Z"
   },
   {
    "duration": 421,
    "start_time": "2025-06-28T17:38:10.634Z"
   },
   {
    "duration": 27,
    "start_time": "2025-06-28T17:38:11.058Z"
   },
   {
    "duration": 220,
    "start_time": "2025-06-28T17:38:11.087Z"
   },
   {
    "duration": 1418,
    "start_time": "2025-07-01T09:54:31.215Z"
   },
   {
    "duration": 57,
    "start_time": "2025-07-01T09:54:32.635Z"
   },
   {
    "duration": 20,
    "start_time": "2025-07-01T09:54:32.694Z"
   },
   {
    "duration": 44,
    "start_time": "2025-07-01T09:54:32.716Z"
   },
   {
    "duration": 26,
    "start_time": "2025-07-01T09:54:32.762Z"
   },
   {
    "duration": 977,
    "start_time": "2025-07-01T09:54:32.790Z"
   },
   {
    "duration": 6,
    "start_time": "2025-07-01T09:54:33.768Z"
   },
   {
    "duration": 13,
    "start_time": "2025-07-01T09:54:33.776Z"
   },
   {
    "duration": 32,
    "start_time": "2025-07-01T09:54:33.790Z"
   },
   {
    "duration": 5,
    "start_time": "2025-07-01T09:54:33.825Z"
   },
   {
    "duration": 25,
    "start_time": "2025-07-01T09:54:33.832Z"
   },
   {
    "duration": 38,
    "start_time": "2025-07-01T09:54:33.859Z"
   },
   {
    "duration": 431,
    "start_time": "2025-07-01T09:54:33.899Z"
   },
   {
    "duration": 176,
    "start_time": "2025-07-01T09:54:34.344Z"
   },
   {
    "duration": 176,
    "start_time": "2025-07-01T09:54:34.521Z"
   },
   {
    "duration": 454,
    "start_time": "2025-07-01T09:54:34.699Z"
   },
   {
    "duration": 317,
    "start_time": "2025-07-01T09:54:35.156Z"
   },
   {
    "duration": 6326,
    "start_time": "2025-07-01T09:54:35.475Z"
   },
   {
    "duration": 5,
    "start_time": "2025-07-01T09:54:41.804Z"
   },
   {
    "duration": 432,
    "start_time": "2025-07-01T09:54:41.810Z"
   },
   {
    "duration": 29,
    "start_time": "2025-07-01T09:54:42.248Z"
   },
   {
    "duration": 211,
    "start_time": "2025-07-01T09:54:42.279Z"
   },
   {
    "duration": 212,
    "start_time": "2025-07-01T09:56:05.393Z"
   },
   {
    "duration": 302,
    "start_time": "2025-07-01T09:57:00.662Z"
   },
   {
    "duration": 203,
    "start_time": "2025-07-01T09:57:14.389Z"
   },
   {
    "duration": 1154,
    "start_time": "2025-07-01T09:57:40.372Z"
   },
   {
    "duration": 0,
    "start_time": "2025-07-01T09:58:39.210Z"
   },
   {
    "duration": 2224,
    "start_time": "2025-07-01T09:58:45.778Z"
   },
   {
    "duration": 5,
    "start_time": "2025-07-01T10:04:16.697Z"
   },
   {
    "duration": 395,
    "start_time": "2025-07-01T10:04:17.610Z"
   },
   {
    "duration": 183,
    "start_time": "2025-07-01T10:05:34.518Z"
   },
   {
    "duration": 5,
    "start_time": "2025-07-01T10:05:47.718Z"
   },
   {
    "duration": 408,
    "start_time": "2025-07-01T10:05:48.262Z"
   },
   {
    "duration": 5,
    "start_time": "2025-07-01T10:07:21.492Z"
   },
   {
    "duration": 401,
    "start_time": "2025-07-01T10:07:23.123Z"
   },
   {
    "duration": 118,
    "start_time": "2025-07-01T10:13:57.170Z"
   },
   {
    "duration": 10,
    "start_time": "2025-07-01T10:18:03.945Z"
   },
   {
    "duration": 402,
    "start_time": "2025-07-01T10:18:04.562Z"
   },
   {
    "duration": 203,
    "start_time": "2025-07-01T10:18:09.025Z"
   },
   {
    "duration": 5,
    "start_time": "2025-07-01T10:18:17.691Z"
   },
   {
    "duration": 398,
    "start_time": "2025-07-01T10:18:35.818Z"
   },
   {
    "duration": 184,
    "start_time": "2025-07-01T10:18:38.986Z"
   },
   {
    "duration": 223,
    "start_time": "2025-07-01T10:22:44.071Z"
   },
   {
    "duration": 444,
    "start_time": "2025-07-01T10:24:08.884Z"
   },
   {
    "duration": 219,
    "start_time": "2025-07-01T10:29:33.394Z"
   },
   {
    "duration": 7352,
    "start_time": "2025-07-01T10:31:46.149Z"
   },
   {
    "duration": 11,
    "start_time": "2025-07-01T10:36:00.363Z"
   },
   {
    "duration": 426,
    "start_time": "2025-07-01T10:37:23.050Z"
   },
   {
    "duration": 5,
    "start_time": "2025-07-01T10:39:13.174Z"
   },
   {
    "duration": 443,
    "start_time": "2025-07-01T10:39:13.870Z"
   },
   {
    "duration": 202,
    "start_time": "2025-07-01T10:39:17.547Z"
   },
   {
    "duration": 183,
    "start_time": "2025-07-01T10:39:17.896Z"
   },
   {
    "duration": 435,
    "start_time": "2025-07-01T10:39:18.232Z"
   },
   {
    "duration": 221,
    "start_time": "2025-07-01T10:39:18.861Z"
   },
   {
    "duration": 7692,
    "start_time": "2025-07-01T10:39:21.366Z"
   },
   {
    "duration": 432,
    "start_time": "2025-07-01T10:39:29.061Z"
   },
   {
    "duration": 215,
    "start_time": "2025-07-01T10:39:36.953Z"
   },
   {
    "duration": 421,
    "start_time": "2025-07-01T10:43:31.176Z"
   },
   {
    "duration": 336,
    "start_time": "2025-07-01T10:43:52.679Z"
   },
   {
    "duration": 301,
    "start_time": "2025-07-01T10:45:30.872Z"
   },
   {
    "duration": 318,
    "start_time": "2025-07-01T10:47:30.746Z"
   },
   {
    "duration": 300,
    "start_time": "2025-07-01T10:48:33.490Z"
   },
   {
    "duration": 771,
    "start_time": "2025-07-01T10:49:02.443Z"
   },
   {
    "duration": 432,
    "start_time": "2025-07-01T10:51:24.070Z"
   },
   {
    "duration": 466,
    "start_time": "2025-07-01T10:51:52.118Z"
   },
   {
    "duration": 162,
    "start_time": "2025-07-01T10:52:49.056Z"
   },
   {
    "duration": 2181,
    "start_time": "2025-07-01T10:53:09.348Z"
   },
   {
    "duration": 167,
    "start_time": "2025-07-01T10:54:07.419Z"
   },
   {
    "duration": 20,
    "start_time": "2025-07-01T10:54:15.826Z"
   },
   {
    "duration": 81,
    "start_time": "2025-07-01T10:54:23.042Z"
   },
   {
    "duration": 218,
    "start_time": "2025-07-01T10:54:26.253Z"
   },
   {
    "duration": 239,
    "start_time": "2025-07-01T10:54:44.016Z"
   },
   {
    "duration": 219,
    "start_time": "2025-07-01T10:55:35.348Z"
   },
   {
    "duration": 203,
    "start_time": "2025-07-01T10:55:42.622Z"
   },
   {
    "duration": 194,
    "start_time": "2025-07-01T10:55:49.102Z"
   },
   {
    "duration": 210,
    "start_time": "2025-07-01T10:57:28.717Z"
   },
   {
    "duration": 28,
    "start_time": "2025-07-01T11:05:17.421Z"
   },
   {
    "duration": 400,
    "start_time": "2025-07-01T11:05:20.710Z"
   },
   {
    "duration": 903,
    "start_time": "2025-07-01T11:05:31.360Z"
   },
   {
    "duration": 919,
    "start_time": "2025-07-01T11:05:54.173Z"
   },
   {
    "duration": 1018,
    "start_time": "2025-07-01T11:06:50.558Z"
   },
   {
    "duration": 1084,
    "start_time": "2025-07-01T11:07:15.933Z"
   },
   {
    "duration": 8,
    "start_time": "2025-07-01T11:07:23.020Z"
   },
   {
    "duration": 14,
    "start_time": "2025-07-01T11:07:34.657Z"
   },
   {
    "duration": 1054,
    "start_time": "2025-07-01T11:07:40.895Z"
   },
   {
    "duration": 1007,
    "start_time": "2025-07-01T11:08:31.916Z"
   },
   {
    "duration": 22,
    "start_time": "2025-07-01T11:08:42.042Z"
   },
   {
    "duration": 21,
    "start_time": "2025-07-01T11:08:51.249Z"
   },
   {
    "duration": 20,
    "start_time": "2025-07-01T11:09:39.157Z"
   },
   {
    "duration": 18,
    "start_time": "2025-07-01T11:09:51.045Z"
   },
   {
    "duration": 8,
    "start_time": "2025-07-01T11:10:00.672Z"
   },
   {
    "duration": 15,
    "start_time": "2025-07-01T11:10:06.942Z"
   },
   {
    "duration": 20,
    "start_time": "2025-07-01T11:10:20.433Z"
   },
   {
    "duration": 20,
    "start_time": "2025-07-01T11:10:30.754Z"
   },
   {
    "duration": 12,
    "start_time": "2025-07-01T11:10:44.662Z"
   },
   {
    "duration": 14,
    "start_time": "2025-07-01T11:10:55.556Z"
   },
   {
    "duration": 22,
    "start_time": "2025-07-01T11:11:05.322Z"
   },
   {
    "duration": 12,
    "start_time": "2025-07-01T11:11:11.809Z"
   },
   {
    "duration": 11,
    "start_time": "2025-07-01T11:11:22.923Z"
   },
   {
    "duration": 16,
    "start_time": "2025-07-01T11:11:26.080Z"
   },
   {
    "duration": 353,
    "start_time": "2025-07-01T11:12:12.384Z"
   },
   {
    "duration": 320,
    "start_time": "2025-07-01T11:12:39.568Z"
   },
   {
    "duration": 319,
    "start_time": "2025-07-01T11:12:46.758Z"
   },
   {
    "duration": 324,
    "start_time": "2025-07-01T11:12:52.752Z"
   },
   {
    "duration": 342,
    "start_time": "2025-07-01T11:12:56.032Z"
   },
   {
    "duration": 1402,
    "start_time": "2025-07-01T11:13:41.600Z"
   },
   {
    "duration": 1450,
    "start_time": "2025-07-01T11:14:04.313Z"
   },
   {
    "duration": 1439,
    "start_time": "2025-07-01T11:14:17.469Z"
   },
   {
    "duration": 1435,
    "start_time": "2025-07-01T11:14:23.064Z"
   },
   {
    "duration": 1433,
    "start_time": "2025-07-01T11:14:31.374Z"
   },
   {
    "duration": 1490,
    "start_time": "2025-07-01T11:15:09.928Z"
   },
   {
    "duration": 1470,
    "start_time": "2025-07-01T11:15:18.685Z"
   },
   {
    "duration": 1485,
    "start_time": "2025-07-01T11:15:24.737Z"
   },
   {
    "duration": 1109,
    "start_time": "2025-07-01T11:15:36.869Z"
   },
   {
    "duration": 1399,
    "start_time": "2025-07-01T11:15:40.860Z"
   },
   {
    "duration": 1440,
    "start_time": "2025-07-01T11:15:44.560Z"
   },
   {
    "duration": 1169,
    "start_time": "2025-07-01T11:18:40.500Z"
   },
   {
    "duration": 47,
    "start_time": "2025-07-01T11:18:41.671Z"
   },
   {
    "duration": 25,
    "start_time": "2025-07-01T11:18:41.719Z"
   },
   {
    "duration": 12,
    "start_time": "2025-07-01T11:18:41.749Z"
   },
   {
    "duration": 13,
    "start_time": "2025-07-01T11:18:41.764Z"
   },
   {
    "duration": 896,
    "start_time": "2025-07-01T11:18:41.779Z"
   },
   {
    "duration": 5,
    "start_time": "2025-07-01T11:18:42.677Z"
   },
   {
    "duration": 8,
    "start_time": "2025-07-01T11:18:42.683Z"
   },
   {
    "duration": 5,
    "start_time": "2025-07-01T11:18:42.693Z"
   },
   {
    "duration": 7,
    "start_time": "2025-07-01T11:18:42.700Z"
   },
   {
    "duration": 34,
    "start_time": "2025-07-01T11:18:42.709Z"
   },
   {
    "duration": 8,
    "start_time": "2025-07-01T11:18:42.752Z"
   },
   {
    "duration": 429,
    "start_time": "2025-07-01T11:18:42.764Z"
   },
   {
    "duration": 189,
    "start_time": "2025-07-01T11:18:43.195Z"
   },
   {
    "duration": 195,
    "start_time": "2025-07-01T11:18:43.385Z"
   },
   {
    "duration": 413,
    "start_time": "2025-07-01T11:18:43.582Z"
   },
   {
    "duration": 430,
    "start_time": "2025-07-01T11:18:43.996Z"
   },
   {
    "duration": 6258,
    "start_time": "2025-07-01T11:18:44.428Z"
   },
   {
    "duration": 427,
    "start_time": "2025-07-01T11:18:50.687Z"
   },
   {
    "duration": 447,
    "start_time": "2025-07-01T11:18:51.116Z"
   },
   {
    "duration": 739,
    "start_time": "2025-07-01T11:18:51.568Z"
   },
   {
    "duration": 313,
    "start_time": "2025-07-01T11:18:52.309Z"
   },
   {
    "duration": 816,
    "start_time": "2025-07-01T11:18:52.624Z"
   },
   {
    "duration": 453,
    "start_time": "2025-07-01T11:18:53.444Z"
   },
   {
    "duration": 219,
    "start_time": "2025-07-01T11:18:53.899Z"
   },
   {
    "duration": 1573,
    "start_time": "2025-07-01T11:18:54.119Z"
   },
   {
    "duration": 1320,
    "start_time": "2025-07-01T15:15:45.026Z"
   },
   {
    "duration": 1341,
    "start_time": "2025-07-01T15:16:21.245Z"
   },
   {
    "duration": 1378,
    "start_time": "2025-07-01T15:17:12.361Z"
   },
   {
    "duration": 1362,
    "start_time": "2025-07-01T15:17:19.689Z"
   },
   {
    "duration": 1432,
    "start_time": "2025-07-01T15:17:26.200Z"
   },
   {
    "duration": 1403,
    "start_time": "2025-07-01T15:17:36.406Z"
   },
   {
    "duration": 1500,
    "start_time": "2025-07-01T15:17:46.462Z"
   },
   {
    "duration": 1424,
    "start_time": "2025-07-01T15:18:35.805Z"
   },
   {
    "duration": 1371,
    "start_time": "2025-07-01T15:18:50.538Z"
   },
   {
    "duration": 1587,
    "start_time": "2025-07-03T08:42:22.332Z"
   },
   {
    "duration": 47,
    "start_time": "2025-07-03T08:42:23.922Z"
   },
   {
    "duration": 14,
    "start_time": "2025-07-03T08:42:23.970Z"
   },
   {
    "duration": 69,
    "start_time": "2025-07-03T08:42:23.986Z"
   },
   {
    "duration": 88,
    "start_time": "2025-07-03T08:42:24.056Z"
   },
   {
    "duration": 937,
    "start_time": "2025-07-03T08:42:24.146Z"
   },
   {
    "duration": 5,
    "start_time": "2025-07-03T08:42:25.085Z"
   },
   {
    "duration": 13,
    "start_time": "2025-07-03T08:42:25.091Z"
   },
   {
    "duration": 5,
    "start_time": "2025-07-03T08:42:25.105Z"
   },
   {
    "duration": 4,
    "start_time": "2025-07-03T08:42:25.113Z"
   },
   {
    "duration": 14,
    "start_time": "2025-07-03T08:42:25.119Z"
   },
   {
    "duration": 6,
    "start_time": "2025-07-03T08:42:25.160Z"
   },
   {
    "duration": 425,
    "start_time": "2025-07-03T08:42:25.168Z"
   },
   {
    "duration": 226,
    "start_time": "2025-07-03T08:42:25.594Z"
   },
   {
    "duration": 198,
    "start_time": "2025-07-03T08:42:25.822Z"
   },
   {
    "duration": 433,
    "start_time": "2025-07-03T08:42:26.022Z"
   },
   {
    "duration": 448,
    "start_time": "2025-07-03T08:42:26.460Z"
   },
   {
    "duration": 6350,
    "start_time": "2025-07-03T08:42:26.910Z"
   },
   {
    "duration": 461,
    "start_time": "2025-07-03T08:42:33.262Z"
   },
   {
    "duration": 437,
    "start_time": "2025-07-03T08:42:33.725Z"
   },
   {
    "duration": 759,
    "start_time": "2025-07-03T08:42:34.164Z"
   },
   {
    "duration": 335,
    "start_time": "2025-07-03T08:42:34.925Z"
   },
   {
    "duration": 835,
    "start_time": "2025-07-03T08:42:35.262Z"
   },
   {
    "duration": 471,
    "start_time": "2025-07-03T08:42:36.099Z"
   },
   {
    "duration": 231,
    "start_time": "2025-07-03T08:42:36.572Z"
   },
   {
    "duration": 1624,
    "start_time": "2025-07-03T08:42:36.805Z"
   },
   {
    "duration": 5,
    "start_time": "2025-07-03T08:54:45.934Z"
   },
   {
    "duration": 4,
    "start_time": "2025-07-03T08:54:50.015Z"
   },
   {
    "duration": 3,
    "start_time": "2025-07-03T08:55:15.816Z"
   },
   {
    "duration": 4,
    "start_time": "2025-07-03T08:55:28.926Z"
   },
   {
    "duration": 4,
    "start_time": "2025-07-03T08:55:56.020Z"
   },
   {
    "duration": 26,
    "start_time": "2025-07-03T08:58:02.296Z"
   },
   {
    "duration": 10,
    "start_time": "2025-07-03T08:58:29.011Z"
   },
   {
    "duration": 8,
    "start_time": "2025-07-03T08:59:17.127Z"
   },
   {
    "duration": 21,
    "start_time": "2025-07-03T08:59:24.405Z"
   },
   {
    "duration": 9,
    "start_time": "2025-07-03T08:59:29.510Z"
   },
   {
    "duration": 113,
    "start_time": "2025-07-03T09:00:29.775Z"
   },
   {
    "duration": 31,
    "start_time": "2025-07-03T09:00:32.931Z"
   },
   {
    "duration": 30,
    "start_time": "2025-07-03T09:01:03.220Z"
   },
   {
    "duration": 106,
    "start_time": "2025-07-03T09:01:13.076Z"
   },
   {
    "duration": 74,
    "start_time": "2025-07-03T09:01:19.393Z"
   },
   {
    "duration": 11,
    "start_time": "2025-07-03T09:02:03.066Z"
   },
   {
    "duration": 10,
    "start_time": "2025-07-03T09:02:23.567Z"
   },
   {
    "duration": 18,
    "start_time": "2025-07-03T09:02:54.008Z"
   },
   {
    "duration": 29,
    "start_time": "2025-07-03T09:03:00.783Z"
   },
   {
    "duration": 29,
    "start_time": "2025-07-03T09:03:05.424Z"
   },
   {
    "duration": 10,
    "start_time": "2025-07-03T09:03:11.338Z"
   },
   {
    "duration": 14,
    "start_time": "2025-07-03T09:03:56.990Z"
   },
   {
    "duration": 10,
    "start_time": "2025-07-03T09:04:49.166Z"
   },
   {
    "duration": 12,
    "start_time": "2025-07-03T09:05:40.567Z"
   },
   {
    "duration": 10,
    "start_time": "2025-07-03T09:05:46.278Z"
   },
   {
    "duration": 9,
    "start_time": "2025-07-03T09:05:49.980Z"
   },
   {
    "duration": 10,
    "start_time": "2025-07-03T09:05:57.081Z"
   },
   {
    "duration": 9,
    "start_time": "2025-07-03T09:06:28.437Z"
   },
   {
    "duration": 10,
    "start_time": "2025-07-03T09:07:05.268Z"
   },
   {
    "duration": 10,
    "start_time": "2025-07-03T09:07:31.428Z"
   },
   {
    "duration": 11,
    "start_time": "2025-07-03T09:07:34.088Z"
   },
   {
    "duration": 11,
    "start_time": "2025-07-03T09:07:36.386Z"
   },
   {
    "duration": 9,
    "start_time": "2025-07-03T09:07:58.546Z"
   },
   {
    "duration": 10,
    "start_time": "2025-07-03T09:08:35.689Z"
   },
   {
    "duration": 1359,
    "start_time": "2025-07-05T12:40:58.135Z"
   },
   {
    "duration": 51,
    "start_time": "2025-07-05T12:40:59.496Z"
   },
   {
    "duration": 11,
    "start_time": "2025-07-05T12:40:59.549Z"
   },
   {
    "duration": 5,
    "start_time": "2025-07-05T12:40:59.562Z"
   },
   {
    "duration": 14,
    "start_time": "2025-07-05T12:40:59.569Z"
   },
   {
    "duration": 926,
    "start_time": "2025-07-05T12:40:59.584Z"
   },
   {
    "duration": 5,
    "start_time": "2025-07-05T12:41:00.512Z"
   },
   {
    "duration": 33,
    "start_time": "2025-07-05T12:41:00.518Z"
   },
   {
    "duration": 34,
    "start_time": "2025-07-05T12:41:00.552Z"
   },
   {
    "duration": 24,
    "start_time": "2025-07-05T12:41:00.589Z"
   },
   {
    "duration": 27,
    "start_time": "2025-07-05T12:41:00.614Z"
   },
   {
    "duration": 5,
    "start_time": "2025-07-05T12:41:00.642Z"
   },
   {
    "duration": 462,
    "start_time": "2025-07-05T12:41:00.648Z"
   },
   {
    "duration": 198,
    "start_time": "2025-07-05T12:41:01.112Z"
   },
   {
    "duration": 166,
    "start_time": "2025-07-05T12:41:01.311Z"
   },
   {
    "duration": 387,
    "start_time": "2025-07-05T12:41:01.478Z"
   },
   {
    "duration": 408,
    "start_time": "2025-07-05T12:41:01.867Z"
   },
   {
    "duration": 5441,
    "start_time": "2025-07-05T12:41:02.278Z"
   },
   {
    "duration": 427,
    "start_time": "2025-07-05T12:41:07.721Z"
   },
   {
    "duration": 432,
    "start_time": "2025-07-05T12:41:08.149Z"
   },
   {
    "duration": 712,
    "start_time": "2025-07-05T12:41:08.583Z"
   },
   {
    "duration": 273,
    "start_time": "2025-07-05T12:41:09.297Z"
   },
   {
    "duration": 712,
    "start_time": "2025-07-05T12:41:09.574Z"
   },
   {
    "duration": 395,
    "start_time": "2025-07-05T12:41:10.288Z"
   },
   {
    "duration": 195,
    "start_time": "2025-07-05T12:41:10.684Z"
   },
   {
    "duration": 1426,
    "start_time": "2025-07-05T12:41:10.881Z"
   },
   {
    "duration": 4,
    "start_time": "2025-07-05T12:41:12.308Z"
   },
   {
    "duration": 19,
    "start_time": "2025-07-05T12:41:12.315Z"
   },
   {
    "duration": 8,
    "start_time": "2025-07-05T12:41:12.335Z"
   },
   {
    "duration": 8,
    "start_time": "2025-07-05T12:41:12.345Z"
   },
   {
    "duration": 10,
    "start_time": "2025-07-05T12:41:12.355Z"
   },
   {
    "duration": 10,
    "start_time": "2025-07-05T12:41:12.368Z"
   },
   {
    "duration": 13,
    "start_time": "2025-07-05T12:41:12.381Z"
   },
   {
    "duration": 8,
    "start_time": "2025-07-05T12:41:12.395Z"
   },
   {
    "duration": 10,
    "start_time": "2025-07-05T12:41:12.404Z"
   },
   {
    "duration": 8,
    "start_time": "2025-07-05T12:41:12.415Z"
   },
   {
    "duration": 12,
    "start_time": "2025-07-05T12:41:32.464Z"
   },
   {
    "duration": 10,
    "start_time": "2025-07-05T12:42:24.783Z"
   },
   {
    "duration": 10,
    "start_time": "2025-07-05T12:42:48.004Z"
   },
   {
    "duration": 17,
    "start_time": "2025-07-05T12:43:44.062Z"
   },
   {
    "duration": 11,
    "start_time": "2025-07-05T12:43:46.772Z"
   },
   {
    "duration": 11,
    "start_time": "2025-07-05T12:43:50.386Z"
   },
   {
    "duration": 10,
    "start_time": "2025-07-05T12:43:52.827Z"
   },
   {
    "duration": 10,
    "start_time": "2025-07-05T12:43:54.752Z"
   },
   {
    "duration": 13,
    "start_time": "2025-07-05T12:44:05.187Z"
   },
   {
    "duration": 11,
    "start_time": "2025-07-05T12:44:16.531Z"
   },
   {
    "duration": 10,
    "start_time": "2025-07-05T12:44:18.403Z"
   },
   {
    "duration": 10,
    "start_time": "2025-07-05T12:44:20.334Z"
   },
   {
    "duration": 11,
    "start_time": "2025-07-05T12:44:21.757Z"
   },
   {
    "duration": 128,
    "start_time": "2025-07-05T12:56:33.820Z"
   },
   {
    "duration": 14,
    "start_time": "2025-07-05T12:56:40.671Z"
   },
   {
    "duration": 10,
    "start_time": "2025-07-05T12:56:47.195Z"
   },
   {
    "duration": 10,
    "start_time": "2025-07-05T12:56:50.909Z"
   },
   {
    "duration": 105,
    "start_time": "2025-07-05T12:57:39.850Z"
   },
   {
    "duration": 11,
    "start_time": "2025-07-05T12:58:00.045Z"
   },
   {
    "duration": 87,
    "start_time": "2025-07-05T12:58:50.625Z"
   },
   {
    "duration": 10,
    "start_time": "2025-07-05T12:58:57.401Z"
   },
   {
    "duration": 10,
    "start_time": "2025-07-05T12:59:20.684Z"
   },
   {
    "duration": 9,
    "start_time": "2025-07-05T12:59:24.997Z"
   },
   {
    "duration": 10,
    "start_time": "2025-07-05T12:59:27.354Z"
   },
   {
    "duration": 9,
    "start_time": "2025-07-05T12:59:30.734Z"
   },
   {
    "duration": 9,
    "start_time": "2025-07-05T12:59:47.213Z"
   },
   {
    "duration": 9,
    "start_time": "2025-07-05T13:00:32.108Z"
   },
   {
    "duration": 9,
    "start_time": "2025-07-05T13:00:51.775Z"
   },
   {
    "duration": 9,
    "start_time": "2025-07-05T13:01:06.291Z"
   },
   {
    "duration": 13,
    "start_time": "2025-07-05T13:01:31.941Z"
   },
   {
    "duration": 10,
    "start_time": "2025-07-05T13:01:47.374Z"
   },
   {
    "duration": 11,
    "start_time": "2025-07-05T13:01:54.781Z"
   },
   {
    "duration": 95,
    "start_time": "2025-07-05T13:02:05.957Z"
   },
   {
    "duration": 8,
    "start_time": "2025-07-05T13:02:10.581Z"
   },
   {
    "duration": 10,
    "start_time": "2025-07-05T13:02:17.102Z"
   },
   {
    "duration": 58,
    "start_time": "2025-07-05T13:02:23.169Z"
   },
   {
    "duration": 95,
    "start_time": "2025-07-05T13:02:26.224Z"
   },
   {
    "duration": 12,
    "start_time": "2025-07-05T13:02:31.139Z"
   },
   {
    "duration": 12,
    "start_time": "2025-07-05T13:02:36.647Z"
   },
   {
    "duration": 8,
    "start_time": "2025-07-05T13:03:55.921Z"
   },
   {
    "duration": 10,
    "start_time": "2025-07-05T13:04:19.602Z"
   },
   {
    "duration": 10,
    "start_time": "2025-07-05T13:04:29.277Z"
   },
   {
    "duration": 9,
    "start_time": "2025-07-05T13:04:34.355Z"
   },
   {
    "duration": 10,
    "start_time": "2025-07-05T13:04:44.213Z"
   },
   {
    "duration": 9,
    "start_time": "2025-07-05T13:05:09.447Z"
   },
   {
    "duration": 9,
    "start_time": "2025-07-05T13:05:28.057Z"
   },
   {
    "duration": 10,
    "start_time": "2025-07-05T13:06:03.996Z"
   },
   {
    "duration": 55,
    "start_time": "2025-07-05T13:06:09.964Z"
   },
   {
    "duration": 9,
    "start_time": "2025-07-05T13:06:52.617Z"
   },
   {
    "duration": 10,
    "start_time": "2025-07-05T13:07:14.013Z"
   },
   {
    "duration": 10,
    "start_time": "2025-07-05T13:07:31.197Z"
   },
   {
    "duration": 10,
    "start_time": "2025-07-05T13:08:11.838Z"
   },
   {
    "duration": 11,
    "start_time": "2025-07-05T13:08:19.577Z"
   },
   {
    "duration": 10,
    "start_time": "2025-07-05T13:08:42.875Z"
   },
   {
    "duration": 10,
    "start_time": "2025-07-05T13:08:43.887Z"
   },
   {
    "duration": 10,
    "start_time": "2025-07-05T13:08:49.361Z"
   },
   {
    "duration": 10,
    "start_time": "2025-07-05T13:08:51.313Z"
   },
   {
    "duration": 10,
    "start_time": "2025-07-05T13:08:52.779Z"
   },
   {
    "duration": 12,
    "start_time": "2025-07-05T13:08:54.240Z"
   },
   {
    "duration": 12,
    "start_time": "2025-07-05T13:09:54.844Z"
   },
   {
    "duration": 88,
    "start_time": "2025-07-05T13:10:02.994Z"
   },
   {
    "duration": 11,
    "start_time": "2025-07-05T13:10:09.746Z"
   },
   {
    "duration": 12,
    "start_time": "2025-07-05T13:10:18.795Z"
   },
   {
    "duration": 11,
    "start_time": "2025-07-05T13:10:25.971Z"
   },
   {
    "duration": 11,
    "start_time": "2025-07-05T13:10:28.941Z"
   },
   {
    "duration": 134,
    "start_time": "2025-07-05T13:12:28.483Z"
   },
   {
    "duration": 96,
    "start_time": "2025-07-05T13:12:32.777Z"
   },
   {
    "duration": 11,
    "start_time": "2025-07-05T13:12:38.425Z"
   },
   {
    "duration": 13,
    "start_time": "2025-07-05T13:12:58.553Z"
   },
   {
    "duration": 14,
    "start_time": "2025-07-05T13:13:04.889Z"
   },
   {
    "duration": 12,
    "start_time": "2025-07-05T13:13:11.780Z"
   },
   {
    "duration": 12,
    "start_time": "2025-07-05T13:13:21.818Z"
   },
   {
    "duration": 15,
    "start_time": "2025-07-05T13:13:29.514Z"
   },
   {
    "duration": 13,
    "start_time": "2025-07-05T13:13:39.893Z"
   },
   {
    "duration": 10,
    "start_time": "2025-07-05T13:13:59.850Z"
   },
   {
    "duration": 11,
    "start_time": "2025-07-05T13:14:05.583Z"
   },
   {
    "duration": 11,
    "start_time": "2025-07-05T13:14:15.784Z"
   },
   {
    "duration": 13,
    "start_time": "2025-07-05T13:14:24.381Z"
   },
   {
    "duration": 14,
    "start_time": "2025-07-05T13:14:31.582Z"
   },
   {
    "duration": 10,
    "start_time": "2025-07-05T13:14:38.334Z"
   },
   {
    "duration": 15,
    "start_time": "2025-07-05T13:15:02.078Z"
   },
   {
    "duration": 10,
    "start_time": "2025-07-05T13:15:04.391Z"
   },
   {
    "duration": 11,
    "start_time": "2025-07-05T13:15:11.488Z"
   },
   {
    "duration": 10,
    "start_time": "2025-07-05T13:15:37.425Z"
   },
   {
    "duration": 11,
    "start_time": "2025-07-05T13:17:36.482Z"
   },
   {
    "duration": 11,
    "start_time": "2025-07-05T13:18:47.392Z"
   },
   {
    "duration": 11,
    "start_time": "2025-07-05T13:18:50.734Z"
   },
   {
    "duration": 10,
    "start_time": "2025-07-05T13:18:54.875Z"
   },
   {
    "duration": 10,
    "start_time": "2025-07-05T13:18:59.148Z"
   },
   {
    "duration": 10,
    "start_time": "2025-07-05T13:19:02.809Z"
   },
   {
    "duration": 11,
    "start_time": "2025-07-05T13:19:06.878Z"
   },
   {
    "duration": 1042,
    "start_time": "2025-07-05T13:48:31.714Z"
   },
   {
    "duration": 53,
    "start_time": "2025-07-05T13:48:32.757Z"
   },
   {
    "duration": 12,
    "start_time": "2025-07-05T13:48:32.811Z"
   },
   {
    "duration": 18,
    "start_time": "2025-07-05T13:48:32.824Z"
   },
   {
    "duration": 21,
    "start_time": "2025-07-05T13:48:32.844Z"
   },
   {
    "duration": 786,
    "start_time": "2025-07-05T13:48:32.866Z"
   },
   {
    "duration": 5,
    "start_time": "2025-07-05T13:48:33.661Z"
   },
   {
    "duration": 20,
    "start_time": "2025-07-05T13:48:33.667Z"
   },
   {
    "duration": 17,
    "start_time": "2025-07-05T13:48:33.689Z"
   },
   {
    "duration": 32,
    "start_time": "2025-07-05T13:48:33.708Z"
   },
   {
    "duration": 26,
    "start_time": "2025-07-05T13:48:33.741Z"
   },
   {
    "duration": 6,
    "start_time": "2025-07-05T13:48:33.768Z"
   },
   {
    "duration": 368,
    "start_time": "2025-07-05T13:48:33.775Z"
   },
   {
    "duration": 191,
    "start_time": "2025-07-05T13:48:34.144Z"
   },
   {
    "duration": 162,
    "start_time": "2025-07-05T13:48:34.336Z"
   },
   {
    "duration": 369,
    "start_time": "2025-07-05T13:48:34.500Z"
   },
   {
    "duration": 374,
    "start_time": "2025-07-05T13:48:34.871Z"
   },
   {
    "duration": 5458,
    "start_time": "2025-07-05T13:48:35.246Z"
   },
   {
    "duration": 379,
    "start_time": "2025-07-05T13:48:40.705Z"
   },
   {
    "duration": 386,
    "start_time": "2025-07-05T13:48:41.086Z"
   },
   {
    "duration": 652,
    "start_time": "2025-07-05T13:48:41.473Z"
   },
   {
    "duration": 279,
    "start_time": "2025-07-05T13:48:42.127Z"
   },
   {
    "duration": 667,
    "start_time": "2025-07-05T13:48:42.407Z"
   },
   {
    "duration": 389,
    "start_time": "2025-07-05T13:48:43.076Z"
   },
   {
    "duration": 189,
    "start_time": "2025-07-05T13:48:43.467Z"
   },
   {
    "duration": 1421,
    "start_time": "2025-07-05T13:48:43.662Z"
   },
   {
    "duration": 4,
    "start_time": "2025-07-05T13:48:45.085Z"
   },
   {
    "duration": 70,
    "start_time": "2025-07-05T13:48:45.093Z"
   },
   {
    "duration": 86,
    "start_time": "2025-07-05T13:48:45.165Z"
   },
   {
    "duration": 139,
    "start_time": "2025-07-05T13:48:45.253Z"
   },
   {
    "duration": 16,
    "start_time": "2025-07-05T13:48:45.394Z"
   },
   {
    "duration": 9,
    "start_time": "2025-07-05T13:48:45.412Z"
   },
   {
    "duration": 12,
    "start_time": "2025-07-05T13:48:45.423Z"
   },
   {
    "duration": 21,
    "start_time": "2025-07-05T13:48:45.437Z"
   },
   {
    "duration": 33,
    "start_time": "2025-07-05T13:48:45.460Z"
   },
   {
    "duration": 15,
    "start_time": "2025-07-05T13:48:45.495Z"
   },
   {
    "duration": 21,
    "start_time": "2025-07-05T13:48:45.512Z"
   },
   {
    "duration": 13,
    "start_time": "2025-07-05T13:48:45.535Z"
   },
   {
    "duration": 10,
    "start_time": "2025-07-05T13:48:45.550Z"
   },
   {
    "duration": 20,
    "start_time": "2025-07-05T13:48:45.562Z"
   },
   {
    "duration": 20,
    "start_time": "2025-07-05T13:48:45.583Z"
   },
   {
    "duration": 16,
    "start_time": "2025-07-05T13:48:45.604Z"
   },
   {
    "duration": 2,
    "start_time": "2025-07-05T15:10:54.788Z"
   },
   {
    "duration": 19,
    "start_time": "2025-07-05T15:16:05.202Z"
   },
   {
    "duration": 10,
    "start_time": "2025-07-05T15:16:24.692Z"
   },
   {
    "duration": 9,
    "start_time": "2025-07-05T15:16:39.135Z"
   },
   {
    "duration": 9,
    "start_time": "2025-07-05T15:16:52.768Z"
   },
   {
    "duration": 17,
    "start_time": "2025-07-05T15:17:23.272Z"
   },
   {
    "duration": 13,
    "start_time": "2025-07-05T15:19:38.013Z"
   },
   {
    "duration": 92,
    "start_time": "2025-07-05T15:21:43.261Z"
   },
   {
    "duration": 17,
    "start_time": "2025-07-05T15:21:45.004Z"
   },
   {
    "duration": 7,
    "start_time": "2025-07-05T15:21:52.509Z"
   },
   {
    "duration": 8,
    "start_time": "2025-07-05T15:25:36.871Z"
   },
   {
    "duration": 6,
    "start_time": "2025-07-05T15:25:59.439Z"
   },
   {
    "duration": 17,
    "start_time": "2025-07-05T15:27:46.266Z"
   },
   {
    "duration": 1154,
    "start_time": "2025-07-05T15:31:47.127Z"
   },
   {
    "duration": 52,
    "start_time": "2025-07-05T15:31:48.283Z"
   },
   {
    "duration": 11,
    "start_time": "2025-07-05T15:31:48.336Z"
   },
   {
    "duration": 4,
    "start_time": "2025-07-05T15:31:48.349Z"
   },
   {
    "duration": 15,
    "start_time": "2025-07-05T15:31:48.354Z"
   },
   {
    "duration": 800,
    "start_time": "2025-07-05T15:31:48.371Z"
   },
   {
    "duration": 4,
    "start_time": "2025-07-05T15:31:49.173Z"
   },
   {
    "duration": 15,
    "start_time": "2025-07-05T15:31:49.178Z"
   },
   {
    "duration": 3,
    "start_time": "2025-07-05T15:31:49.195Z"
   },
   {
    "duration": 4,
    "start_time": "2025-07-05T15:31:49.200Z"
   },
   {
    "duration": 16,
    "start_time": "2025-07-05T15:31:49.206Z"
   },
   {
    "duration": 6,
    "start_time": "2025-07-05T15:31:49.223Z"
   },
   {
    "duration": 379,
    "start_time": "2025-07-05T15:31:49.230Z"
   },
   {
    "duration": 185,
    "start_time": "2025-07-05T15:31:49.610Z"
   },
   {
    "duration": 175,
    "start_time": "2025-07-05T15:31:49.797Z"
   },
   {
    "duration": 399,
    "start_time": "2025-07-05T15:31:49.973Z"
   },
   {
    "duration": 383,
    "start_time": "2025-07-05T15:31:50.374Z"
   },
   {
    "duration": 5410,
    "start_time": "2025-07-05T15:31:50.758Z"
   },
   {
    "duration": 369,
    "start_time": "2025-07-05T15:31:56.170Z"
   },
   {
    "duration": 373,
    "start_time": "2025-07-05T15:31:56.541Z"
   },
   {
    "duration": 700,
    "start_time": "2025-07-05T15:31:56.915Z"
   },
   {
    "duration": 283,
    "start_time": "2025-07-05T15:31:57.617Z"
   },
   {
    "duration": 794,
    "start_time": "2025-07-05T15:31:57.902Z"
   },
   {
    "duration": 392,
    "start_time": "2025-07-05T15:31:58.698Z"
   },
   {
    "duration": 191,
    "start_time": "2025-07-05T15:31:59.091Z"
   },
   {
    "duration": 1402,
    "start_time": "2025-07-05T15:31:59.283Z"
   },
   {
    "duration": 3,
    "start_time": "2025-07-05T15:32:00.687Z"
   },
   {
    "duration": 14,
    "start_time": "2025-07-05T15:32:00.694Z"
   },
   {
    "duration": 9,
    "start_time": "2025-07-05T15:32:00.709Z"
   },
   {
    "duration": 9,
    "start_time": "2025-07-05T15:32:00.719Z"
   },
   {
    "duration": 8,
    "start_time": "2025-07-05T15:32:00.729Z"
   },
   {
    "duration": 24,
    "start_time": "2025-07-05T15:32:00.739Z"
   },
   {
    "duration": 9,
    "start_time": "2025-07-05T15:32:00.765Z"
   },
   {
    "duration": 35,
    "start_time": "2025-07-05T15:32:00.776Z"
   },
   {
    "duration": 9,
    "start_time": "2025-07-05T15:32:00.813Z"
   },
   {
    "duration": 21,
    "start_time": "2025-07-05T15:32:00.823Z"
   },
   {
    "duration": 24,
    "start_time": "2025-07-05T15:32:00.845Z"
   },
   {
    "duration": 21,
    "start_time": "2025-07-05T15:32:00.871Z"
   },
   {
    "duration": 25,
    "start_time": "2025-07-05T15:32:00.894Z"
   },
   {
    "duration": 23,
    "start_time": "2025-07-05T15:32:00.920Z"
   },
   {
    "duration": 21,
    "start_time": "2025-07-05T15:32:00.944Z"
   },
   {
    "duration": 11,
    "start_time": "2025-07-05T15:32:00.967Z"
   },
   {
    "duration": 36,
    "start_time": "2025-07-05T15:32:00.980Z"
   },
   {
    "duration": 13,
    "start_time": "2025-07-05T15:32:01.018Z"
   },
   {
    "duration": 18,
    "start_time": "2025-07-05T15:32:01.032Z"
   },
   {
    "duration": 54,
    "start_time": "2025-07-05T15:32:01.052Z"
   },
   {
    "duration": 353,
    "start_time": "2025-07-05T15:51:54.038Z"
   },
   {
    "duration": 784,
    "start_time": "2025-07-05T15:52:12.941Z"
   },
   {
    "duration": 778,
    "start_time": "2025-07-05T15:52:16.312Z"
   },
   {
    "duration": 318,
    "start_time": "2025-07-05T15:52:34.510Z"
   },
   {
    "duration": 370,
    "start_time": "2025-07-05T15:52:47.646Z"
   },
   {
    "duration": 12,
    "start_time": "2025-07-05T16:16:24.413Z"
   },
   {
    "duration": 16,
    "start_time": "2025-07-05T16:16:27.935Z"
   },
   {
    "duration": 11,
    "start_time": "2025-07-05T16:25:22.694Z"
   },
   {
    "duration": 15,
    "start_time": "2025-07-05T16:25:32.547Z"
   },
   {
    "duration": 12,
    "start_time": "2025-07-05T16:25:44.710Z"
   },
   {
    "duration": 1040,
    "start_time": "2025-07-05T16:33:06.716Z"
   },
   {
    "duration": 45,
    "start_time": "2025-07-05T16:33:07.758Z"
   },
   {
    "duration": 42,
    "start_time": "2025-07-05T16:33:07.804Z"
   },
   {
    "duration": 79,
    "start_time": "2025-07-05T16:33:07.847Z"
   },
   {
    "duration": 19,
    "start_time": "2025-07-05T16:33:07.928Z"
   },
   {
    "duration": 374,
    "start_time": "2025-07-05T16:33:07.949Z"
   },
   {
    "duration": 4,
    "start_time": "2025-07-05T16:33:08.325Z"
   },
   {
    "duration": 6,
    "start_time": "2025-07-05T16:33:08.331Z"
   },
   {
    "duration": 4,
    "start_time": "2025-07-05T16:33:08.338Z"
   },
   {
    "duration": 17,
    "start_time": "2025-07-05T16:33:08.345Z"
   },
   {
    "duration": 12,
    "start_time": "2025-07-05T16:33:08.364Z"
   },
   {
    "duration": 5,
    "start_time": "2025-07-05T16:33:08.378Z"
   },
   {
    "duration": 442,
    "start_time": "2025-07-05T16:33:08.384Z"
   },
   {
    "duration": 175,
    "start_time": "2025-07-05T16:33:08.827Z"
   },
   {
    "duration": 164,
    "start_time": "2025-07-05T16:33:09.003Z"
   },
   {
    "duration": 368,
    "start_time": "2025-07-05T16:33:09.169Z"
   },
   {
    "duration": 368,
    "start_time": "2025-07-05T16:33:09.539Z"
   },
   {
    "duration": 5454,
    "start_time": "2025-07-05T16:33:09.909Z"
   },
   {
    "duration": 375,
    "start_time": "2025-07-05T16:33:15.365Z"
   },
   {
    "duration": 371,
    "start_time": "2025-07-05T16:33:15.742Z"
   },
   {
    "duration": 277,
    "start_time": "2025-07-05T16:33:16.115Z"
   },
   {
    "duration": 638,
    "start_time": "2025-07-05T16:33:16.393Z"
   },
   {
    "duration": 656,
    "start_time": "2025-07-05T16:33:17.033Z"
   },
   {
    "duration": 435,
    "start_time": "2025-07-05T16:33:17.690Z"
   },
   {
    "duration": 188,
    "start_time": "2025-07-05T16:33:18.126Z"
   },
   {
    "duration": 1407,
    "start_time": "2025-07-05T16:33:18.316Z"
   },
   {
    "duration": 4,
    "start_time": "2025-07-05T16:33:19.724Z"
   },
   {
    "duration": 10,
    "start_time": "2025-07-05T16:33:19.730Z"
   },
   {
    "duration": 8,
    "start_time": "2025-07-05T16:33:19.742Z"
   },
   {
    "duration": 145,
    "start_time": "2025-07-05T16:33:19.752Z"
   },
   {
    "duration": 55,
    "start_time": "2025-07-05T16:33:19.898Z"
   },
   {
    "duration": 9,
    "start_time": "2025-07-05T16:33:19.954Z"
   },
   {
    "duration": 9,
    "start_time": "2025-07-05T16:33:19.964Z"
   },
   {
    "duration": 9,
    "start_time": "2025-07-05T16:33:19.974Z"
   },
   {
    "duration": 12,
    "start_time": "2025-07-05T16:33:19.985Z"
   },
   {
    "duration": 8,
    "start_time": "2025-07-05T16:33:19.999Z"
   },
   {
    "duration": 23,
    "start_time": "2025-07-05T16:33:20.008Z"
   },
   {
    "duration": 34,
    "start_time": "2025-07-05T16:33:20.033Z"
   },
   {
    "duration": 12,
    "start_time": "2025-07-05T16:33:20.069Z"
   },
   {
    "duration": 19,
    "start_time": "2025-07-05T16:33:20.083Z"
   },
   {
    "duration": 13,
    "start_time": "2025-07-05T16:33:20.104Z"
   },
   {
    "duration": 10,
    "start_time": "2025-07-05T16:33:20.119Z"
   },
   {
    "duration": 39,
    "start_time": "2025-07-05T16:33:20.130Z"
   },
   {
    "duration": 12,
    "start_time": "2025-07-05T16:33:20.170Z"
   },
   {
    "duration": 6,
    "start_time": "2025-07-05T16:33:20.183Z"
   },
   {
    "duration": 6,
    "start_time": "2025-07-05T16:33:20.190Z"
   },
   {
    "duration": 1266,
    "start_time": "2025-07-05T19:42:34.951Z"
   },
   {
    "duration": 61,
    "start_time": "2025-07-05T19:42:36.219Z"
   },
   {
    "duration": 12,
    "start_time": "2025-07-05T19:42:36.282Z"
   },
   {
    "duration": 82,
    "start_time": "2025-07-05T19:42:36.295Z"
   },
   {
    "duration": 14,
    "start_time": "2025-07-05T19:42:36.381Z"
   },
   {
    "duration": 411,
    "start_time": "2025-07-05T19:42:36.396Z"
   },
   {
    "duration": 5,
    "start_time": "2025-07-05T19:42:36.809Z"
   },
   {
    "duration": 10,
    "start_time": "2025-07-05T19:42:36.816Z"
   },
   {
    "duration": 10,
    "start_time": "2025-07-05T19:42:36.827Z"
   },
   {
    "duration": 16,
    "start_time": "2025-07-05T19:42:36.839Z"
   },
   {
    "duration": 21,
    "start_time": "2025-07-05T19:42:36.860Z"
   },
   {
    "duration": 6,
    "start_time": "2025-07-05T19:42:36.882Z"
   },
   {
    "duration": 445,
    "start_time": "2025-07-05T19:42:36.889Z"
   },
   {
    "duration": 210,
    "start_time": "2025-07-05T19:42:37.338Z"
   },
   {
    "duration": 203,
    "start_time": "2025-07-05T19:42:37.550Z"
   },
   {
    "duration": 432,
    "start_time": "2025-07-05T19:42:37.755Z"
   },
   {
    "duration": 430,
    "start_time": "2025-07-05T19:42:38.189Z"
   },
   {
    "duration": 6628,
    "start_time": "2025-07-05T19:42:38.620Z"
   },
   {
    "duration": 454,
    "start_time": "2025-07-05T19:42:45.249Z"
   },
   {
    "duration": 498,
    "start_time": "2025-07-05T19:42:45.705Z"
   },
   {
    "duration": 348,
    "start_time": "2025-07-05T19:42:46.205Z"
   },
   {
    "duration": 793,
    "start_time": "2025-07-05T19:42:46.559Z"
   },
   {
    "duration": 822,
    "start_time": "2025-07-05T19:42:47.354Z"
   },
   {
    "duration": 445,
    "start_time": "2025-07-05T19:42:48.178Z"
   },
   {
    "duration": 227,
    "start_time": "2025-07-05T19:42:48.625Z"
   },
   {
    "duration": 1643,
    "start_time": "2025-07-05T19:42:48.854Z"
   },
   {
    "duration": 4,
    "start_time": "2025-07-05T19:42:50.499Z"
   },
   {
    "duration": 46,
    "start_time": "2025-07-05T19:42:50.505Z"
   },
   {
    "duration": 22,
    "start_time": "2025-07-05T19:42:50.553Z"
   },
   {
    "duration": 11,
    "start_time": "2025-07-05T19:42:50.578Z"
   },
   {
    "duration": 10,
    "start_time": "2025-07-05T19:42:50.591Z"
   },
   {
    "duration": 9,
    "start_time": "2025-07-05T19:42:50.602Z"
   },
   {
    "duration": 16,
    "start_time": "2025-07-05T19:42:50.613Z"
   },
   {
    "duration": 10,
    "start_time": "2025-07-05T19:42:50.630Z"
   },
   {
    "duration": 12,
    "start_time": "2025-07-05T19:42:50.668Z"
   },
   {
    "duration": 13,
    "start_time": "2025-07-05T19:42:50.681Z"
   },
   {
    "duration": 13,
    "start_time": "2025-07-05T19:42:50.696Z"
   },
   {
    "duration": 61,
    "start_time": "2025-07-05T19:42:50.710Z"
   },
   {
    "duration": 39,
    "start_time": "2025-07-05T19:42:50.773Z"
   },
   {
    "duration": 10,
    "start_time": "2025-07-05T19:42:50.814Z"
   },
   {
    "duration": 10,
    "start_time": "2025-07-05T19:42:50.828Z"
   },
   {
    "duration": 10,
    "start_time": "2025-07-05T19:42:50.840Z"
   },
   {
    "duration": 21,
    "start_time": "2025-07-05T19:42:50.852Z"
   },
   {
    "duration": 15,
    "start_time": "2025-07-05T19:42:50.876Z"
   },
   {
    "duration": 28,
    "start_time": "2025-07-05T19:42:50.893Z"
   },
   {
    "duration": 68,
    "start_time": "2025-07-05T19:42:50.923Z"
   },
   {
    "duration": 1323,
    "start_time": "2025-07-06T06:09:56.181Z"
   },
   {
    "duration": 46,
    "start_time": "2025-07-06T06:09:57.506Z"
   },
   {
    "duration": 66,
    "start_time": "2025-07-06T06:09:57.553Z"
   },
   {
    "duration": 5,
    "start_time": "2025-07-06T06:09:57.621Z"
   },
   {
    "duration": 21,
    "start_time": "2025-07-06T06:09:57.627Z"
   },
   {
    "duration": 434,
    "start_time": "2025-07-06T06:09:57.650Z"
   },
   {
    "duration": 5,
    "start_time": "2025-07-06T06:09:58.085Z"
   },
   {
    "duration": 106,
    "start_time": "2025-07-06T06:09:58.092Z"
   },
   {
    "duration": 14,
    "start_time": "2025-07-06T06:09:58.200Z"
   },
   {
    "duration": 8,
    "start_time": "2025-07-06T06:09:58.218Z"
   },
   {
    "duration": 29,
    "start_time": "2025-07-06T06:09:58.228Z"
   },
   {
    "duration": 20,
    "start_time": "2025-07-06T06:09:58.259Z"
   },
   {
    "duration": 440,
    "start_time": "2025-07-06T06:09:58.280Z"
   },
   {
    "duration": 184,
    "start_time": "2025-07-06T06:09:58.722Z"
   },
   {
    "duration": 173,
    "start_time": "2025-07-06T06:09:58.908Z"
   },
   {
    "duration": 390,
    "start_time": "2025-07-06T06:09:59.083Z"
   },
   {
    "duration": 402,
    "start_time": "2025-07-06T06:09:59.477Z"
   },
   {
    "duration": 5815,
    "start_time": "2025-07-06T06:09:59.881Z"
   },
   {
    "duration": 424,
    "start_time": "2025-07-06T06:10:05.698Z"
   },
   {
    "duration": 406,
    "start_time": "2025-07-06T06:10:06.124Z"
   },
   {
    "duration": 334,
    "start_time": "2025-07-06T06:10:06.531Z"
   },
   {
    "duration": 710,
    "start_time": "2025-07-06T06:10:06.866Z"
   },
   {
    "duration": 712,
    "start_time": "2025-07-06T06:10:07.577Z"
   },
   {
    "duration": 401,
    "start_time": "2025-07-06T06:10:08.290Z"
   },
   {
    "duration": 198,
    "start_time": "2025-07-06T06:10:08.692Z"
   },
   {
    "duration": 1432,
    "start_time": "2025-07-06T06:10:08.891Z"
   },
   {
    "duration": 4,
    "start_time": "2025-07-06T06:10:10.325Z"
   },
   {
    "duration": 114,
    "start_time": "2025-07-06T06:10:10.332Z"
   },
   {
    "duration": 31,
    "start_time": "2025-07-06T06:10:10.447Z"
   },
   {
    "duration": 18,
    "start_time": "2025-07-06T06:10:10.480Z"
   },
   {
    "duration": 19,
    "start_time": "2025-07-06T06:10:10.499Z"
   },
   {
    "duration": 44,
    "start_time": "2025-07-06T06:10:10.520Z"
   },
   {
    "duration": 27,
    "start_time": "2025-07-06T06:10:10.566Z"
   },
   {
    "duration": 48,
    "start_time": "2025-07-06T06:10:10.595Z"
   },
   {
    "duration": 26,
    "start_time": "2025-07-06T06:10:10.645Z"
   },
   {
    "duration": 15,
    "start_time": "2025-07-06T06:10:10.673Z"
   },
   {
    "duration": 11,
    "start_time": "2025-07-06T06:10:10.690Z"
   },
   {
    "duration": 33,
    "start_time": "2025-07-06T06:10:10.703Z"
   },
   {
    "duration": 102,
    "start_time": "2025-07-06T06:10:10.738Z"
   },
   {
    "duration": 47,
    "start_time": "2025-07-06T06:10:10.842Z"
   },
   {
    "duration": 31,
    "start_time": "2025-07-06T06:10:10.890Z"
   },
   {
    "duration": 29,
    "start_time": "2025-07-06T06:10:10.923Z"
   },
   {
    "duration": 20,
    "start_time": "2025-07-06T06:10:10.954Z"
   },
   {
    "duration": 16,
    "start_time": "2025-07-06T06:10:10.976Z"
   },
   {
    "duration": 12,
    "start_time": "2025-07-06T06:10:10.994Z"
   },
   {
    "duration": 20,
    "start_time": "2025-07-06T06:10:11.007Z"
   },
   {
    "duration": 50,
    "start_time": "2025-07-06T08:32:33.375Z"
   },
   {
    "duration": 1426,
    "start_time": "2025-07-06T08:32:37.101Z"
   },
   {
    "duration": 172,
    "start_time": "2025-07-06T08:32:38.529Z"
   },
   {
    "duration": 14,
    "start_time": "2025-07-06T08:32:38.703Z"
   },
   {
    "duration": 4,
    "start_time": "2025-07-06T08:32:39.187Z"
   },
   {
    "duration": 14,
    "start_time": "2025-07-06T08:32:39.581Z"
   },
   {
    "duration": 462,
    "start_time": "2025-07-06T08:32:39.933Z"
   },
   {
    "duration": 5,
    "start_time": "2025-07-06T08:32:42.267Z"
   },
   {
    "duration": 79,
    "start_time": "2025-07-06T08:32:43.682Z"
   },
   {
    "duration": 12,
    "start_time": "2025-07-06T08:32:58.863Z"
   },
   {
    "duration": 9,
    "start_time": "2025-07-06T08:33:08.988Z"
   },
   {
    "duration": 7,
    "start_time": "2025-07-06T08:33:15.538Z"
   },
   {
    "duration": 17,
    "start_time": "2025-07-06T08:34:20.287Z"
   },
   {
    "duration": 6,
    "start_time": "2025-07-06T08:36:23.310Z"
   },
   {
    "duration": 424,
    "start_time": "2025-07-06T08:36:24.344Z"
   },
   {
    "duration": 198,
    "start_time": "2025-07-06T08:36:27.463Z"
   },
   {
    "duration": 169,
    "start_time": "2025-07-06T08:36:30.251Z"
   },
   {
    "duration": 388,
    "start_time": "2025-07-06T08:36:31.966Z"
   },
   {
    "duration": 399,
    "start_time": "2025-07-06T08:36:33.918Z"
   },
   {
    "duration": 5817,
    "start_time": "2025-07-06T08:37:17.693Z"
   },
   {
    "duration": 393,
    "start_time": "2025-07-06T08:37:23.709Z"
   },
   {
    "duration": 417,
    "start_time": "2025-07-06T08:37:26.599Z"
   },
   {
    "duration": 12,
    "start_time": "2025-07-06T08:37:56.221Z"
   },
   {
    "duration": 5,
    "start_time": "2025-07-06T08:40:22.963Z"
   },
   {
    "duration": 10,
    "start_time": "2025-07-06T08:40:39.940Z"
   },
   {
    "duration": 279,
    "start_time": "2025-07-06T08:40:42.836Z"
   },
   {
    "duration": 709,
    "start_time": "2025-07-06T08:41:18.296Z"
   },
   {
    "duration": 299,
    "start_time": "2025-07-06T08:41:21.112Z"
   },
   {
    "duration": 717,
    "start_time": "2025-07-06T08:41:23.047Z"
   },
   {
    "duration": 411,
    "start_time": "2025-07-06T08:41:25.512Z"
   },
   {
    "duration": 197,
    "start_time": "2025-07-06T08:41:30.039Z"
   },
   {
    "duration": 1496,
    "start_time": "2025-07-06T08:41:37.215Z"
   },
   {
    "duration": 10,
    "start_time": "2025-07-06T08:45:40.439Z"
   },
   {
    "duration": 19,
    "start_time": "2025-07-06T08:47:15.494Z"
   },
   {
    "duration": 16,
    "start_time": "2025-07-06T08:51:43.423Z"
   },
   {
    "duration": 626,
    "start_time": "2025-07-06T08:51:51.241Z"
   },
   {
    "duration": 632,
    "start_time": "2025-07-06T08:57:12.808Z"
   },
   {
    "duration": 18,
    "start_time": "2025-07-06T08:58:32.158Z"
   },
   {
    "duration": 12,
    "start_time": "2025-07-06T09:00:37.239Z"
   },
   {
    "duration": 10,
    "start_time": "2025-07-06T09:00:41.918Z"
   },
   {
    "duration": 10,
    "start_time": "2025-07-06T09:00:47.422Z"
   },
   {
    "duration": 11,
    "start_time": "2025-07-06T09:01:28.030Z"
   },
   {
    "duration": 1234,
    "start_time": "2025-07-06T09:02:44.580Z"
   },
   {
    "duration": 44,
    "start_time": "2025-07-06T09:02:45.816Z"
   },
   {
    "duration": 18,
    "start_time": "2025-07-06T09:02:45.862Z"
   },
   {
    "duration": 6,
    "start_time": "2025-07-06T09:02:45.882Z"
   },
   {
    "duration": 18,
    "start_time": "2025-07-06T09:02:45.899Z"
   },
   {
    "duration": 393,
    "start_time": "2025-07-06T09:02:45.919Z"
   },
   {
    "duration": 6,
    "start_time": "2025-07-06T09:02:46.314Z"
   },
   {
    "duration": 19,
    "start_time": "2025-07-06T09:02:46.321Z"
   },
   {
    "duration": 7,
    "start_time": "2025-07-06T09:02:46.342Z"
   },
   {
    "duration": 420,
    "start_time": "2025-07-06T09:02:46.351Z"
   },
   {
    "duration": 194,
    "start_time": "2025-07-06T09:02:46.773Z"
   },
   {
    "duration": 188,
    "start_time": "2025-07-06T09:02:46.969Z"
   },
   {
    "duration": 381,
    "start_time": "2025-07-06T09:02:47.159Z"
   },
   {
    "duration": 380,
    "start_time": "2025-07-06T09:02:47.543Z"
   },
   {
    "duration": 6076,
    "start_time": "2025-07-06T09:02:47.925Z"
   },
   {
    "duration": 441,
    "start_time": "2025-07-06T09:02:54.002Z"
   },
   {
    "duration": 476,
    "start_time": "2025-07-06T09:02:54.445Z"
   },
   {
    "duration": 13,
    "start_time": "2025-07-06T09:02:54.923Z"
   },
   {
    "duration": 325,
    "start_time": "2025-07-06T09:02:54.937Z"
   },
   {
    "duration": 818,
    "start_time": "2025-07-06T09:02:55.263Z"
   },
   {
    "duration": 778,
    "start_time": "2025-07-06T09:02:56.083Z"
   },
   {
    "duration": 458,
    "start_time": "2025-07-06T09:02:56.862Z"
   },
   {
    "duration": 215,
    "start_time": "2025-07-06T09:02:57.321Z"
   },
   {
    "duration": 649,
    "start_time": "2025-07-06T09:02:57.538Z"
   },
   {
    "duration": 3,
    "start_time": "2025-07-06T09:02:58.189Z"
   },
   {
    "duration": 131,
    "start_time": "2025-07-06T09:02:58.198Z"
   },
   {
    "duration": 11,
    "start_time": "2025-07-06T09:02:58.331Z"
   },
   {
    "duration": 33,
    "start_time": "2025-07-06T09:02:58.344Z"
   },
   {
    "duration": 11,
    "start_time": "2025-07-06T09:02:58.379Z"
   },
   {
    "duration": 10,
    "start_time": "2025-07-06T09:02:58.399Z"
   },
   {
    "duration": 13,
    "start_time": "2025-07-06T09:02:58.411Z"
   },
   {
    "duration": 9,
    "start_time": "2025-07-06T09:02:58.426Z"
   },
   {
    "duration": 26,
    "start_time": "2025-07-06T09:02:58.437Z"
   },
   {
    "duration": 22,
    "start_time": "2025-07-06T09:02:58.464Z"
   },
   {
    "duration": 16,
    "start_time": "2025-07-06T09:02:58.488Z"
   },
   {
    "duration": 11,
    "start_time": "2025-07-06T09:02:58.506Z"
   },
   {
    "duration": 22,
    "start_time": "2025-07-06T09:02:58.518Z"
   },
   {
    "duration": 19,
    "start_time": "2025-07-06T09:02:58.541Z"
   },
   {
    "duration": 29,
    "start_time": "2025-07-06T09:02:58.562Z"
   },
   {
    "duration": 32,
    "start_time": "2025-07-06T09:02:58.593Z"
   },
   {
    "duration": 35,
    "start_time": "2025-07-06T09:02:58.629Z"
   },
   {
    "duration": 27,
    "start_time": "2025-07-06T09:02:58.666Z"
   },
   {
    "duration": 8,
    "start_time": "2025-07-06T09:02:58.694Z"
   },
   {
    "duration": 7,
    "start_time": "2025-07-06T09:02:58.704Z"
   },
   {
    "duration": 277,
    "start_time": "2025-07-06T09:07:36.125Z"
   },
   {
    "duration": 245,
    "start_time": "2025-07-06T09:07:44.232Z"
   },
   {
    "duration": 7,
    "start_time": "2025-07-06T09:08:29.967Z"
   },
   {
    "duration": 399,
    "start_time": "2025-07-06T09:08:30.254Z"
   },
   {
    "duration": 210,
    "start_time": "2025-07-06T09:08:42.379Z"
   },
   {
    "duration": 187,
    "start_time": "2025-07-06T09:08:45.839Z"
   },
   {
    "duration": 373,
    "start_time": "2025-07-06T09:08:49.551Z"
   },
   {
    "duration": 318,
    "start_time": "2025-07-06T09:08:54.191Z"
   },
   {
    "duration": 6137,
    "start_time": "2025-07-06T09:09:17.263Z"
   },
   {
    "duration": 438,
    "start_time": "2025-07-06T09:09:23.402Z"
   },
   {
    "duration": 412,
    "start_time": "2025-07-06T09:09:40.801Z"
   },
   {
    "duration": 1201,
    "start_time": "2025-07-06T09:09:59.135Z"
   },
   {
    "duration": 44,
    "start_time": "2025-07-06T09:10:00.338Z"
   },
   {
    "duration": 48,
    "start_time": "2025-07-06T09:10:00.383Z"
   },
   {
    "duration": 37,
    "start_time": "2025-07-06T09:10:00.433Z"
   },
   {
    "duration": 37,
    "start_time": "2025-07-06T09:10:00.472Z"
   },
   {
    "duration": 301,
    "start_time": "2025-07-06T09:10:00.511Z"
   },
   {
    "duration": 5,
    "start_time": "2025-07-06T09:10:00.814Z"
   },
   {
    "duration": 49,
    "start_time": "2025-07-06T09:10:00.821Z"
   },
   {
    "duration": 6,
    "start_time": "2025-07-06T09:10:00.872Z"
   },
   {
    "duration": 421,
    "start_time": "2025-07-06T09:10:00.880Z"
   },
   {
    "duration": 186,
    "start_time": "2025-07-06T09:10:01.302Z"
   },
   {
    "duration": 199,
    "start_time": "2025-07-06T09:10:01.490Z"
   },
   {
    "duration": 403,
    "start_time": "2025-07-06T09:10:01.698Z"
   },
   {
    "duration": 414,
    "start_time": "2025-07-06T09:10:02.103Z"
   },
   {
    "duration": 5962,
    "start_time": "2025-07-06T09:10:05.312Z"
   },
   {
    "duration": 427,
    "start_time": "2025-07-06T09:10:11.275Z"
   },
   {
    "duration": 428,
    "start_time": "2025-07-06T09:10:11.704Z"
   },
   {
    "duration": 111,
    "start_time": "2025-07-06T09:10:22.523Z"
   },
   {
    "duration": 94,
    "start_time": "2025-07-06T09:10:27.086Z"
   },
   {
    "duration": 7,
    "start_time": "2025-07-06T09:10:33.116Z"
   },
   {
    "duration": 7,
    "start_time": "2025-07-06T09:10:39.020Z"
   },
   {
    "duration": 7,
    "start_time": "2025-07-06T09:11:17.195Z"
   },
   {
    "duration": 1181,
    "start_time": "2025-07-06T09:11:25.837Z"
   },
   {
    "duration": 45,
    "start_time": "2025-07-06T09:11:27.020Z"
   },
   {
    "duration": 12,
    "start_time": "2025-07-06T09:11:27.067Z"
   },
   {
    "duration": 4,
    "start_time": "2025-07-06T09:11:27.081Z"
   },
   {
    "duration": 29,
    "start_time": "2025-07-06T09:11:27.087Z"
   },
   {
    "duration": 288,
    "start_time": "2025-07-06T09:11:27.118Z"
   },
   {
    "duration": 4,
    "start_time": "2025-07-06T09:11:27.408Z"
   },
   {
    "duration": 17,
    "start_time": "2025-07-06T09:11:27.414Z"
   },
   {
    "duration": 6,
    "start_time": "2025-07-06T09:11:27.433Z"
   },
   {
    "duration": 421,
    "start_time": "2025-07-06T09:11:27.441Z"
   },
   {
    "duration": 192,
    "start_time": "2025-07-06T09:11:27.864Z"
   },
   {
    "duration": 170,
    "start_time": "2025-07-06T09:11:29.922Z"
   },
   {
    "duration": 391,
    "start_time": "2025-07-06T09:11:30.810Z"
   },
   {
    "duration": 389,
    "start_time": "2025-07-06T09:11:33.073Z"
   },
   {
    "duration": 6060,
    "start_time": "2025-07-06T09:11:33.722Z"
   },
   {
    "duration": 448,
    "start_time": "2025-07-06T09:11:39.783Z"
   },
   {
    "duration": 428,
    "start_time": "2025-07-06T09:11:40.233Z"
   },
   {
    "duration": 6,
    "start_time": "2025-07-06T09:11:43.804Z"
   },
   {
    "duration": 336,
    "start_time": "2025-07-06T09:11:54.676Z"
   },
   {
    "duration": 752,
    "start_time": "2025-07-06T09:11:59.826Z"
   },
   {
    "duration": 750,
    "start_time": "2025-07-06T09:12:08.254Z"
   },
   {
    "duration": 418,
    "start_time": "2025-07-06T09:12:12.755Z"
   },
   {
    "duration": 195,
    "start_time": "2025-07-06T09:12:38.229Z"
   },
   {
    "duration": 667,
    "start_time": "2025-07-06T09:12:40.670Z"
   },
   {
    "duration": 4,
    "start_time": "2025-07-06T09:13:23.442Z"
   },
   {
    "duration": 4,
    "start_time": "2025-07-06T09:13:42.518Z"
   },
   {
    "duration": 11,
    "start_time": "2025-07-06T09:13:54.790Z"
   },
   {
    "duration": 110,
    "start_time": "2025-07-06T09:13:57.616Z"
   },
   {
    "duration": 12,
    "start_time": "2025-07-06T09:14:01.638Z"
   },
   {
    "duration": 10,
    "start_time": "2025-07-06T09:14:03.974Z"
   },
   {
    "duration": 11,
    "start_time": "2025-07-06T09:14:07.605Z"
   },
   {
    "duration": 10,
    "start_time": "2025-07-06T09:14:11.134Z"
   },
   {
    "duration": 10,
    "start_time": "2025-07-06T09:14:15.696Z"
   },
   {
    "duration": 10,
    "start_time": "2025-07-06T09:14:21.943Z"
   },
   {
    "duration": 10,
    "start_time": "2025-07-06T09:14:24.688Z"
   },
   {
    "duration": 12,
    "start_time": "2025-07-06T09:14:28.439Z"
   },
   {
    "duration": 11,
    "start_time": "2025-07-06T09:14:34.102Z"
   },
   {
    "duration": 11,
    "start_time": "2025-07-06T09:14:44.900Z"
   },
   {
    "duration": 12,
    "start_time": "2025-07-06T09:14:51.136Z"
   },
   {
    "duration": 12,
    "start_time": "2025-07-06T09:14:59.128Z"
   },
   {
    "duration": 11,
    "start_time": "2025-07-06T09:15:11.097Z"
   },
   {
    "duration": 14,
    "start_time": "2025-07-06T09:17:42.397Z"
   },
   {
    "duration": 14,
    "start_time": "2025-07-06T09:17:42.732Z"
   },
   {
    "duration": 6,
    "start_time": "2025-07-06T09:17:48.235Z"
   },
   {
    "duration": 8,
    "start_time": "2025-07-06T09:17:48.780Z"
   },
   {
    "duration": 424,
    "start_time": "2025-07-06T09:57:14.635Z"
   },
   {
    "duration": 13,
    "start_time": "2025-07-06T10:19:02.989Z"
   },
   {
    "duration": 19,
    "start_time": "2025-07-06T10:19:08.233Z"
   },
   {
    "duration": 9,
    "start_time": "2025-07-06T10:19:17.762Z"
   },
   {
    "duration": 15,
    "start_time": "2025-07-06T10:19:34.526Z"
   },
   {
    "duration": 17,
    "start_time": "2025-07-06T10:19:53.457Z"
   },
   {
    "duration": 16,
    "start_time": "2025-07-06T10:20:10.886Z"
   },
   {
    "duration": 1196,
    "start_time": "2025-07-06T10:42:24.949Z"
   },
   {
    "duration": 45,
    "start_time": "2025-07-06T10:42:26.147Z"
   },
   {
    "duration": 12,
    "start_time": "2025-07-06T10:42:26.194Z"
   },
   {
    "duration": 5,
    "start_time": "2025-07-06T10:42:26.208Z"
   },
   {
    "duration": 28,
    "start_time": "2025-07-06T10:42:26.214Z"
   },
   {
    "duration": 343,
    "start_time": "2025-07-06T10:42:26.244Z"
   },
   {
    "duration": 13,
    "start_time": "2025-07-06T10:42:26.589Z"
   },
   {
    "duration": 31,
    "start_time": "2025-07-06T10:42:26.603Z"
   },
   {
    "duration": 6,
    "start_time": "2025-07-06T10:42:26.636Z"
   },
   {
    "duration": 420,
    "start_time": "2025-07-06T10:42:26.645Z"
   },
   {
    "duration": 195,
    "start_time": "2025-07-06T10:42:27.067Z"
   },
   {
    "duration": 191,
    "start_time": "2025-07-06T10:42:27.263Z"
   },
   {
    "duration": 413,
    "start_time": "2025-07-06T10:42:27.456Z"
   },
   {
    "duration": 403,
    "start_time": "2025-07-06T10:42:27.870Z"
   },
   {
    "duration": 6186,
    "start_time": "2025-07-06T10:42:28.275Z"
   },
   {
    "duration": 488,
    "start_time": "2025-07-06T10:42:34.463Z"
   },
   {
    "duration": 423,
    "start_time": "2025-07-06T10:42:34.953Z"
   },
   {
    "duration": 7,
    "start_time": "2025-07-06T10:42:35.378Z"
   },
   {
    "duration": 343,
    "start_time": "2025-07-06T10:42:35.386Z"
   },
   {
    "duration": 759,
    "start_time": "2025-07-06T10:42:35.730Z"
   },
   {
    "duration": 740,
    "start_time": "2025-07-06T10:42:36.498Z"
   },
   {
    "duration": 450,
    "start_time": "2025-07-06T10:42:37.240Z"
   },
   {
    "duration": 209,
    "start_time": "2025-07-06T10:42:37.698Z"
   },
   {
    "duration": 657,
    "start_time": "2025-07-06T10:42:37.909Z"
   },
   {
    "duration": 4,
    "start_time": "2025-07-06T10:42:38.568Z"
   },
   {
    "duration": 29,
    "start_time": "2025-07-06T10:42:38.574Z"
   },
   {
    "duration": 126,
    "start_time": "2025-07-06T10:42:38.604Z"
   },
   {
    "duration": 10,
    "start_time": "2025-07-06T10:42:38.734Z"
   },
   {
    "duration": 10,
    "start_time": "2025-07-06T10:42:38.746Z"
   },
   {
    "duration": 95,
    "start_time": "2025-07-06T10:42:38.758Z"
   },
   {
    "duration": 11,
    "start_time": "2025-07-06T10:42:38.855Z"
   },
   {
    "duration": 11,
    "start_time": "2025-07-06T10:42:38.867Z"
   },
   {
    "duration": 10,
    "start_time": "2025-07-06T10:42:38.880Z"
   },
   {
    "duration": 11,
    "start_time": "2025-07-06T10:42:38.891Z"
   },
   {
    "duration": 13,
    "start_time": "2025-07-06T10:42:38.904Z"
   },
   {
    "duration": 12,
    "start_time": "2025-07-06T10:42:38.919Z"
   },
   {
    "duration": 12,
    "start_time": "2025-07-06T10:42:38.933Z"
   },
   {
    "duration": 11,
    "start_time": "2025-07-06T10:42:38.947Z"
   },
   {
    "duration": 44,
    "start_time": "2025-07-06T10:42:38.960Z"
   },
   {
    "duration": 44,
    "start_time": "2025-07-06T10:42:39.006Z"
   },
   {
    "duration": 17,
    "start_time": "2025-07-06T10:42:39.052Z"
   },
   {
    "duration": 14,
    "start_time": "2025-07-06T10:42:39.070Z"
   },
   {
    "duration": 22,
    "start_time": "2025-07-06T10:42:39.086Z"
   },
   {
    "duration": 7,
    "start_time": "2025-07-06T10:42:39.110Z"
   },
   {
    "duration": 1214,
    "start_time": "2025-07-07T18:31:20.876Z"
   },
   {
    "duration": 66,
    "start_time": "2025-07-07T18:31:22.092Z"
   },
   {
    "duration": 15,
    "start_time": "2025-07-07T18:31:22.159Z"
   },
   {
    "duration": 15,
    "start_time": "2025-07-07T18:31:22.176Z"
   },
   {
    "duration": 13,
    "start_time": "2025-07-07T18:31:22.194Z"
   },
   {
    "duration": 352,
    "start_time": "2025-07-07T18:31:22.208Z"
   },
   {
    "duration": 4,
    "start_time": "2025-07-07T18:31:22.562Z"
   },
   {
    "duration": 120,
    "start_time": "2025-07-07T18:31:22.568Z"
   },
   {
    "duration": 6,
    "start_time": "2025-07-07T18:31:22.689Z"
   },
   {
    "duration": 384,
    "start_time": "2025-07-07T18:31:22.696Z"
   },
   {
    "duration": 207,
    "start_time": "2025-07-07T18:31:23.081Z"
   },
   {
    "duration": 182,
    "start_time": "2025-07-07T18:31:23.291Z"
   },
   {
    "duration": 396,
    "start_time": "2025-07-07T18:31:23.475Z"
   },
   {
    "duration": 444,
    "start_time": "2025-07-07T18:31:23.875Z"
   },
   {
    "duration": 6191,
    "start_time": "2025-07-07T18:31:24.321Z"
   },
   {
    "duration": 421,
    "start_time": "2025-07-07T18:31:30.514Z"
   },
   {
    "duration": 452,
    "start_time": "2025-07-07T18:31:30.937Z"
   },
   {
    "duration": 6,
    "start_time": "2025-07-07T18:31:31.390Z"
   },
   {
    "duration": 371,
    "start_time": "2025-07-07T18:31:31.397Z"
   },
   {
    "duration": 698,
    "start_time": "2025-07-07T18:31:31.769Z"
   },
   {
    "duration": 749,
    "start_time": "2025-07-07T18:31:32.469Z"
   },
   {
    "duration": 430,
    "start_time": "2025-07-07T18:31:33.219Z"
   },
   {
    "duration": 235,
    "start_time": "2025-07-07T18:31:33.651Z"
   },
   {
    "duration": 770,
    "start_time": "2025-07-07T18:31:33.888Z"
   },
   {
    "duration": 4,
    "start_time": "2025-07-07T18:31:34.662Z"
   },
   {
    "duration": 28,
    "start_time": "2025-07-07T18:31:34.668Z"
   },
   {
    "duration": 145,
    "start_time": "2025-07-07T18:31:34.698Z"
   },
   {
    "duration": 20,
    "start_time": "2025-07-07T18:31:34.846Z"
   },
   {
    "duration": 10,
    "start_time": "2025-07-07T18:31:34.867Z"
   },
   {
    "duration": 13,
    "start_time": "2025-07-07T18:31:34.879Z"
   },
   {
    "duration": 33,
    "start_time": "2025-07-07T18:31:34.894Z"
   },
   {
    "duration": 15,
    "start_time": "2025-07-07T18:31:34.929Z"
   },
   {
    "duration": 18,
    "start_time": "2025-07-07T18:31:34.947Z"
   },
   {
    "duration": 10,
    "start_time": "2025-07-07T18:31:34.967Z"
   },
   {
    "duration": 17,
    "start_time": "2025-07-07T18:31:34.978Z"
   },
   {
    "duration": 10,
    "start_time": "2025-07-07T18:31:34.996Z"
   },
   {
    "duration": 28,
    "start_time": "2025-07-07T18:31:35.036Z"
   },
   {
    "duration": 12,
    "start_time": "2025-07-07T18:31:35.065Z"
   },
   {
    "duration": 22,
    "start_time": "2025-07-07T18:31:35.078Z"
   },
   {
    "duration": 39,
    "start_time": "2025-07-07T18:31:35.101Z"
   },
   {
    "duration": 22,
    "start_time": "2025-07-07T18:31:35.148Z"
   },
   {
    "duration": 14,
    "start_time": "2025-07-07T18:31:35.171Z"
   },
   {
    "duration": 42,
    "start_time": "2025-07-07T18:31:35.186Z"
   },
   {
    "duration": 10,
    "start_time": "2025-07-07T18:31:35.230Z"
   }
  ],
  "kernelspec": {
   "display_name": "Python 3 (ipykernel)",
   "language": "python",
   "name": "python3"
  },
  "language_info": {
   "codemirror_mode": {
    "name": "ipython",
    "version": 3
   },
   "file_extension": ".py",
   "mimetype": "text/x-python",
   "name": "python",
   "nbconvert_exporter": "python",
   "pygments_lexer": "ipython3",
   "version": "3.9.5"
  },
  "toc": {
   "base_numbering": 1,
   "nav_menu": {},
   "number_sections": true,
   "sideBar": true,
   "skip_h1_title": true,
   "title_cell": "Table of Contents",
   "title_sidebar": "Contents",
   "toc_cell": false,
   "toc_position": {},
   "toc_section_display": true,
   "toc_window_display": false
  }
 },
 "nbformat": 4,
 "nbformat_minor": 2
}
