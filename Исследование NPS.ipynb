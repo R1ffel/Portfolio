{
 "cells": [
  {
   "cell_type": "markdown",
   "id": "c97db0a6",
   "metadata": {},
   "source": [
    "# Исследование текущего уровня NPS"
   ]
  },
  {
   "cell_type": "markdown",
   "id": "19b01e2b",
   "metadata": {},
   "source": [
    "Заказчик этого исследования — большая телекоммуникационная компания, которая оказывает услуги на территории всего СНГ. Перед компанией стоит задача определить текущий уровень потребительской лояльности, или NPS (от англ. Net Promoter Score), среди клиентов из России. \n",
    "\n",
    "Чтобы определить уровень лояльности, клиентам задавали классический вопрос: «Оцените по шкале от 1 до 10 вероятность того, что вы порекомендуете компанию друзьям и знакомым».\n",
    "\n",
    "Исследования показывают, что клиенты-сторонники полезны любому бизнесу. Они чаще других повторно совершают покупки, активнее тестируют обновления и приводят в сервис своих друзей и знакомых."
   ]
  },
  {
   "cell_type": "markdown",
   "id": "458fa0b3",
   "metadata": {},
   "source": [
    "## Подключение к базе"
   ]
  },
  {
   "cell_type": "code",
   "execution_count": 1,
   "id": "fc7efa54",
   "metadata": {},
   "outputs": [],
   "source": [
    "import os\n",
    "import pandas as pd\n",
    "import numpy as np\n",
    "from sqlalchemy import create_engine"
   ]
  },
  {
   "cell_type": "code",
   "execution_count": 2,
   "id": "0017f8e7",
   "metadata": {},
   "outputs": [],
   "source": [
    "path_to_db_local = 'telecomm_csi.db'\n",
    "path_to_db_platform = '/datasets/telecomm_csi.db'\n",
    "path_to_db = None\n",
    "\n",
    "if os.path.exists(path_to_db_local):\n",
    "    path_to_db = path_to_db_local\n",
    "elif os.path.exists(path_to_db_platform):\n",
    "    path_to_db = path_to_db_platform\n",
    "else:\n",
    "    raise Exception('Файл с базой данных SQLite не найден!')\n",
    "\n",
    "if path_to_db:\n",
    "    engine = create_engine(f'sqlite:///{path_to_db}', echo=False)"
   ]
  },
  {
   "cell_type": "markdown",
   "id": "e9ccd1fa",
   "metadata": {},
   "source": [
    "## Выгрузка данных"
   ]
  },
  {
   "cell_type": "code",
   "execution_count": 3,
   "id": "84ebad43",
   "metadata": {},
   "outputs": [],
   "source": [
    "query = \"\"\"\n",
    "SELECT u.user_id AS user_id,\n",
    "       u.lt_day AS lt_day,\n",
    "       CASE\n",
    "           WHEN u.lt_day <= 365 THEN 'Новый клиент'\n",
    "           WHEN u.lt_day > 365 THEN 'Старый клиент'\n",
    "           ELSE 'Не указано'\n",
    "       END AS is_new,\n",
    "       u.age AS age,\n",
    "       CASE\n",
    "           WHEN u.gender_segment = 1 THEN 'Женщина'\n",
    "           WHEN u.gender_segment = 0 THEN 'Мужчина'\n",
    "           ELSE 'Не указано'\n",
    "       END AS gender_segment,\n",
    "       u.os_name AS os_name,\n",
    "       u.cpe_type_name AS cpe_type_name,\n",
    "       l.country AS country,\n",
    "       l.city AS city,\n",
    "       ags.title AS age_segment,\n",
    "       trs.title AS traffic_segment,\n",
    "       lts.title AS lifetime_segment,\n",
    "       u.nps_score AS nps_score,\n",
    "       CASE \n",
    "           WHEN u.nps_score <= 6 AND u.nps_score >= 0 THEN 'Критики'\n",
    "           WHEN u.nps_score <= 8 AND u.nps_score >= 7 THEN 'Нейтралы'\n",
    "           WHEN u.nps_score <= 10 AND u.nps_score >= 9 THEN 'Сторонники'\n",
    "           ELSE 'Не указано'\n",
    "       END AS nps_group\n",
    "FROM user AS u\n",
    "LEFT JOIN location AS l ON u.location_id = l.location_id\n",
    "LEFT JOIN age_segment AS ags ON u.age_gr_id = ags.age_gr_id\n",
    "LEFT JOIN traffic_segment AS trs ON u.tr_gr_id = trs.tr_gr_id\n",
    "LEFT JOIN lifetime_segment AS lts ON u.lt_gr_id = lts.lt_gr_id\n",
    "\"\"\""
   ]
  },
  {
   "cell_type": "code",
   "execution_count": 4,
   "id": "3965faf2",
   "metadata": {},
   "outputs": [
    {
     "data": {
      "text/html": [
       "<div>\n",
       "<style scoped>\n",
       "    .dataframe tbody tr th:only-of-type {\n",
       "        vertical-align: middle;\n",
       "    }\n",
       "\n",
       "    .dataframe tbody tr th {\n",
       "        vertical-align: top;\n",
       "    }\n",
       "\n",
       "    .dataframe thead th {\n",
       "        text-align: right;\n",
       "    }\n",
       "</style>\n",
       "<table border=\"1\" class=\"dataframe\">\n",
       "  <thead>\n",
       "    <tr style=\"text-align: right;\">\n",
       "      <th></th>\n",
       "      <th>user_id</th>\n",
       "      <th>lt_day</th>\n",
       "      <th>is_new</th>\n",
       "      <th>age</th>\n",
       "      <th>gender_segment</th>\n",
       "      <th>os_name</th>\n",
       "      <th>cpe_type_name</th>\n",
       "      <th>country</th>\n",
       "      <th>city</th>\n",
       "      <th>age_segment</th>\n",
       "      <th>traffic_segment</th>\n",
       "      <th>lifetime_segment</th>\n",
       "      <th>nps_score</th>\n",
       "      <th>nps_group</th>\n",
       "    </tr>\n",
       "  </thead>\n",
       "  <tbody>\n",
       "    <tr>\n",
       "      <th>0</th>\n",
       "      <td>A001A2</td>\n",
       "      <td>2320</td>\n",
       "      <td>Старый клиент</td>\n",
       "      <td>45.0</td>\n",
       "      <td>Женщина</td>\n",
       "      <td>ANDROID</td>\n",
       "      <td>SMARTPHONE</td>\n",
       "      <td>Россия</td>\n",
       "      <td>Уфа</td>\n",
       "      <td>05 45-54</td>\n",
       "      <td>04 1-5</td>\n",
       "      <td>08 36+</td>\n",
       "      <td>10</td>\n",
       "      <td>Сторонники</td>\n",
       "    </tr>\n",
       "    <tr>\n",
       "      <th>1</th>\n",
       "      <td>A001WF</td>\n",
       "      <td>2344</td>\n",
       "      <td>Старый клиент</td>\n",
       "      <td>53.0</td>\n",
       "      <td>Мужчина</td>\n",
       "      <td>ANDROID</td>\n",
       "      <td>SMARTPHONE</td>\n",
       "      <td>Россия</td>\n",
       "      <td>Киров</td>\n",
       "      <td>05 45-54</td>\n",
       "      <td>04 1-5</td>\n",
       "      <td>08 36+</td>\n",
       "      <td>10</td>\n",
       "      <td>Сторонники</td>\n",
       "    </tr>\n",
       "    <tr>\n",
       "      <th>2</th>\n",
       "      <td>A003Q7</td>\n",
       "      <td>467</td>\n",
       "      <td>Старый клиент</td>\n",
       "      <td>57.0</td>\n",
       "      <td>Мужчина</td>\n",
       "      <td>ANDROID</td>\n",
       "      <td>SMARTPHONE</td>\n",
       "      <td>Россия</td>\n",
       "      <td>Москва</td>\n",
       "      <td>06 55-64</td>\n",
       "      <td>08 20-25</td>\n",
       "      <td>06 13-24</td>\n",
       "      <td>10</td>\n",
       "      <td>Сторонники</td>\n",
       "    </tr>\n",
       "  </tbody>\n",
       "</table>\n",
       "</div>"
      ],
      "text/plain": [
       "  user_id  lt_day         is_new   age gender_segment  os_name cpe_type_name  \\\n",
       "0  A001A2    2320  Старый клиент  45.0        Женщина  ANDROID    SMARTPHONE   \n",
       "1  A001WF    2344  Старый клиент  53.0        Мужчина  ANDROID    SMARTPHONE   \n",
       "2  A003Q7     467  Старый клиент  57.0        Мужчина  ANDROID    SMARTPHONE   \n",
       "\n",
       "  country    city age_segment traffic_segment lifetime_segment  nps_score  \\\n",
       "0  Россия     Уфа    05 45-54          04 1-5           08 36+         10   \n",
       "1  Россия   Киров    05 45-54          04 1-5           08 36+         10   \n",
       "2  Россия  Москва    06 55-64        08 20-25         06 13-24         10   \n",
       "\n",
       "    nps_group  \n",
       "0  Сторонники  \n",
       "1  Сторонники  \n",
       "2  Сторонники  "
      ]
     },
     "execution_count": 4,
     "metadata": {},
     "output_type": "execute_result"
    }
   ],
   "source": [
    "df = pd.read_sql(query, engine)\n",
    "df.head(3)"
   ]
  },
  {
   "cell_type": "code",
   "execution_count": 5,
   "id": "9db04858",
   "metadata": {},
   "outputs": [],
   "source": [
    "#df.to_csv('telecomm_csi_tableau.csv', index=False)"
   ]
  },
  {
   "cell_type": "markdown",
   "id": "81de2e43",
   "metadata": {},
   "source": [
    "## Анализ данных в Tableau"
   ]
  },
  {
   "cell_type": "markdown",
   "id": "be15e4e4",
   "metadata": {},
   "source": [
    "https://public.tableau.com/app/profile/artem.kudrin/viz/Combinedproject2/sheet11"
   ]
  }
 ],
 "metadata": {
  "ExecuteTimeLog": [
   {
    "duration": 520,
    "start_time": "2024-11-22T14:58:32.690Z"
   },
   {
    "duration": 80,
    "start_time": "2024-11-22T14:58:33.749Z"
   },
   {
    "duration": 3,
    "start_time": "2024-11-22T15:27:59.979Z"
   },
   {
    "duration": 705,
    "start_time": "2024-11-22T15:28:07.440Z"
   },
   {
    "duration": 3,
    "start_time": "2024-11-22T15:28:55.849Z"
   },
   {
    "duration": 616,
    "start_time": "2024-11-22T15:28:56.494Z"
   },
   {
    "duration": 2,
    "start_time": "2024-11-22T15:29:32.299Z"
   },
   {
    "duration": 6429,
    "start_time": "2024-11-22T15:29:33.229Z"
   },
   {
    "duration": 3,
    "start_time": "2024-11-22T15:30:19.308Z"
   },
   {
    "duration": 3,
    "start_time": "2024-11-22T15:30:19.948Z"
   },
   {
    "duration": 4215,
    "start_time": "2024-11-22T15:30:25.425Z"
   },
   {
    "duration": 19,
    "start_time": "2024-11-22T15:30:50.474Z"
   },
   {
    "duration": 30,
    "start_time": "2024-11-22T15:30:53.219Z"
   },
   {
    "duration": 19,
    "start_time": "2024-11-22T15:30:55.690Z"
   },
   {
    "duration": 51,
    "start_time": "2024-11-22T15:31:45.446Z"
   },
   {
    "duration": 7,
    "start_time": "2024-11-22T15:32:07.064Z"
   },
   {
    "duration": 2,
    "start_time": "2024-11-22T15:33:19.890Z"
   },
   {
    "duration": 607,
    "start_time": "2024-11-22T15:33:21.106Z"
   },
   {
    "duration": 2,
    "start_time": "2024-11-22T15:36:34.720Z"
   },
   {
    "duration": 550,
    "start_time": "2024-11-22T15:36:35.531Z"
   },
   {
    "duration": 8,
    "start_time": "2024-11-22T15:37:09.431Z"
   },
   {
    "duration": 3,
    "start_time": "2024-11-22T15:40:47.657Z"
   },
   {
    "duration": 4530,
    "start_time": "2024-11-22T15:40:48.408Z"
   },
   {
    "duration": 3,
    "start_time": "2024-11-22T15:41:33.382Z"
   },
   {
    "duration": 4245,
    "start_time": "2024-11-22T15:41:45.798Z"
   },
   {
    "duration": 5166,
    "start_time": "2024-11-22T15:43:10.738Z"
   },
   {
    "duration": 4033,
    "start_time": "2024-11-22T15:44:28.125Z"
   },
   {
    "duration": 3861,
    "start_time": "2024-11-22T15:46:04.070Z"
   },
   {
    "duration": 10,
    "start_time": "2024-11-24T11:44:37.913Z"
   },
   {
    "duration": 44,
    "start_time": "2024-11-24T11:44:43.406Z"
   },
   {
    "duration": 507,
    "start_time": "2024-11-24T11:44:49.076Z"
   },
   {
    "duration": 95,
    "start_time": "2024-11-24T11:44:49.585Z"
   },
   {
    "duration": 3,
    "start_time": "2024-11-24T11:44:50.799Z"
   },
   {
    "duration": 425,
    "start_time": "2024-11-24T11:44:52.175Z"
   },
   {
    "duration": 3,
    "start_time": "2024-11-24T11:45:20.804Z"
   },
   {
    "duration": 5984,
    "start_time": "2024-11-24T11:45:21.180Z"
   },
   {
    "duration": 5329,
    "start_time": "2024-11-24T11:45:35.907Z"
   }
  ],
  "kernelspec": {
   "display_name": "Python 3 (ipykernel)",
   "language": "python",
   "name": "python3"
  },
  "language_info": {
   "codemirror_mode": {
    "name": "ipython",
    "version": 3
   },
   "file_extension": ".py",
   "mimetype": "text/x-python",
   "name": "python",
   "nbconvert_exporter": "python",
   "pygments_lexer": "ipython3",
   "version": "3.9.19"
  },
  "toc": {
   "base_numbering": 1,
   "nav_menu": {},
   "number_sections": true,
   "sideBar": true,
   "skip_h1_title": true,
   "title_cell": "Table of Contents",
   "title_sidebar": "Contents",
   "toc_cell": false,
   "toc_position": {},
   "toc_section_display": true,
   "toc_window_display": false
  }
 },
 "nbformat": 4,
 "nbformat_minor": 5
}
