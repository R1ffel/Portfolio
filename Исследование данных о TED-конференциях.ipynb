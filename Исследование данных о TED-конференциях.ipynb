{
 "cells": [
  {
   "cell_type": "markdown",
   "id": "1eceee70",
   "metadata": {},
   "source": [
    "# Исследование данных о TED-конференциях"
   ]
  },
  {
   "cell_type": "markdown",
   "id": "097acd56",
   "metadata": {},
   "source": [
    "TED (от англ. technology, education, design — «технологии, образование, дизайн») — некоммерческий фонд, который проводит популярные конференции. На них выступают специалисты из разных областей и читают лекции на актуальные темы. \n",
    "\n",
    "В процессе исследования мы изучим выступления разных категорий по годам и странам, самые популярные темы выступлений, авторов и их область деятельности и состав категорий в 2019 - 2021 годах."
   ]
  },
  {
   "cell_type": "markdown",
   "id": "5bf8da36",
   "metadata": {},
   "source": [
    "https://public.tableau.com/app/profile/artem.kudrin/viz/Project_17318630749580/sheet22"
   ]
  }
 ],
 "metadata": {
  "kernelspec": {
   "display_name": "Python 3 (ipykernel)",
   "language": "python",
   "name": "python3"
  },
  "language_info": {
   "codemirror_mode": {
    "name": "ipython",
    "version": 3
   },
   "file_extension": ".py",
   "mimetype": "text/x-python",
   "name": "python",
   "nbconvert_exporter": "python",
   "pygments_lexer": "ipython3",
   "version": "3.9.19"
  },
  "toc": {
   "base_numbering": 1,
   "nav_menu": {},
   "number_sections": true,
   "sideBar": true,
   "skip_h1_title": false,
   "title_cell": "Table of Contents",
   "title_sidebar": "Contents",
   "toc_cell": false,
   "toc_position": {},
   "toc_section_display": true,
   "toc_window_display": false
  }
 },
 "nbformat": 4,
 "nbformat_minor": 5
}
