{
 "cells": [
  {
   "cell_type": "markdown",
   "metadata": {
    "id": "sIfNaMOxgFyK"
   },
   "source": [
    "## Исследование данных о российском кинопрокате\n",
    "\n"
   ]
  },
  {
   "cell_type": "markdown",
   "metadata": {},
   "source": [
    "В исследовании будет изучен рынок российского кинопроката, будут выявлены текущие тренды. Также будет уделено внимание фильмам, которые получили государственную поддержу и проанализировано: насколько такие фильмы интересны зрителю.\n",
    "\n",
    "Таблица **mkrf_movies** содержит информацию из реестра прокатных удостоверений.\n",
    "- `title` — название фильма;\n",
    "- `puNumber` — номер прокатного удостоверения;\n",
    "- `show_start_date` — дата премьеры фильма;\n",
    "- `type` — тип фильма;\n",
    "- `film_studio` — студия-производитель;\n",
    "- `production_country` — страна-производитель;\n",
    "- `director` — режиссёр;\n",
    "- `producer` — продюсер;\n",
    "- `age_restriction` — возрастная категория;\n",
    "- `refundable_support` — объём возвратных средств государственной поддержки;\n",
    "- `nonrefundable_support` — объём невозвратных средств государственной поддержки;\n",
    "- `financing_source` — источник государственного финансирования;\n",
    "- `budget` — общий бюджет фильма;\n",
    "- `ratings` — рейтинг фильма на КиноПоиске;\n",
    "- `genres` — жанр фильма.\n",
    "\n",
    "Таблица **mkrf_shows** содержит сведения о показах фильмов в российских кинотеатрах.\n",
    "- `puNumber` — номер прокатного удостоверения;\n",
    "- `box_office` — сборы в рублях."
   ]
  },
  {
   "cell_type": "markdown",
   "metadata": {
    "id": "3bSlkCsbgFyL"
   },
   "source": [
    "### Шаг 1. Откройте файлы с данными и объедините их в один датафрейм. \n",
    "\n",
    "Объедините данные таким образом, чтобы все объекты из датасета `mkrf_movies` обязательно вошли в получившийся датафрейм. "
   ]
  },
  {
   "cell_type": "markdown",
   "metadata": {},
   "source": [
    "Для начала откроем файлы с данными и посмотрим общую информацию о данных."
   ]
  },
  {
   "cell_type": "code",
   "execution_count": 1,
   "metadata": {},
   "outputs": [],
   "source": [
    "import pandas as pd\n",
    "import matplotlib.pyplot as plt"
   ]
  },
  {
   "cell_type": "code",
   "execution_count": 2,
   "metadata": {
    "id": "dw87FlzMgFyM"
   },
   "outputs": [
    {
     "data": {
      "text/html": [
       "<div>\n",
       "<style scoped>\n",
       "    .dataframe tbody tr th:only-of-type {\n",
       "        vertical-align: middle;\n",
       "    }\n",
       "\n",
       "    .dataframe tbody tr th {\n",
       "        vertical-align: top;\n",
       "    }\n",
       "\n",
       "    .dataframe thead th {\n",
       "        text-align: right;\n",
       "    }\n",
       "</style>\n",
       "<table border=\"1\" class=\"dataframe\">\n",
       "  <thead>\n",
       "    <tr style=\"text-align: right;\">\n",
       "      <th></th>\n",
       "      <th>title</th>\n",
       "      <th>puNumber</th>\n",
       "      <th>show_start_date</th>\n",
       "      <th>type</th>\n",
       "      <th>film_studio</th>\n",
       "      <th>production_country</th>\n",
       "      <th>director</th>\n",
       "      <th>producer</th>\n",
       "      <th>age_restriction</th>\n",
       "      <th>refundable_support</th>\n",
       "      <th>nonrefundable_support</th>\n",
       "      <th>budget</th>\n",
       "      <th>financing_source</th>\n",
       "      <th>ratings</th>\n",
       "      <th>genres</th>\n",
       "    </tr>\n",
       "  </thead>\n",
       "  <tbody>\n",
       "    <tr>\n",
       "      <th>0</th>\n",
       "      <td>Открытый простор</td>\n",
       "      <td>221048915</td>\n",
       "      <td>2015-11-27T12:00:00.000Z</td>\n",
       "      <td>Художественный</td>\n",
       "      <td>Тачстоун Пикчерз, Кобальт Пикчерз, Бикон Пикче...</td>\n",
       "      <td>США</td>\n",
       "      <td>Кевин Костнер</td>\n",
       "      <td>Дэвид Валдес, Кевин Костнер, Джейк Эбертс</td>\n",
       "      <td>«18+» - запрещено для детей</td>\n",
       "      <td>NaN</td>\n",
       "      <td>NaN</td>\n",
       "      <td>NaN</td>\n",
       "      <td>NaN</td>\n",
       "      <td>7.2</td>\n",
       "      <td>боевик,драма,мелодрама</td>\n",
       "    </tr>\n",
       "    <tr>\n",
       "      <th>1</th>\n",
       "      <td>Особо важное задание</td>\n",
       "      <td>111013716</td>\n",
       "      <td>2016-09-13T12:00:00.000Z</td>\n",
       "      <td>Художественный</td>\n",
       "      <td>Киностудия \"Мосфильм\"</td>\n",
       "      <td>СССР</td>\n",
       "      <td>Е.Матвеев</td>\n",
       "      <td>NaN</td>\n",
       "      <td>«6+» - для детей старше 6 лет</td>\n",
       "      <td>NaN</td>\n",
       "      <td>NaN</td>\n",
       "      <td>NaN</td>\n",
       "      <td>NaN</td>\n",
       "      <td>6.6</td>\n",
       "      <td>драма,военный</td>\n",
       "    </tr>\n",
       "    <tr>\n",
       "      <th>2</th>\n",
       "      <td>Особо опасен</td>\n",
       "      <td>221038416</td>\n",
       "      <td>2016-10-10T12:00:00.000Z</td>\n",
       "      <td>Художественный</td>\n",
       "      <td>Юниверсал Пикчерз, Кикстарт Продакшнз, Марк Пл...</td>\n",
       "      <td>США</td>\n",
       "      <td>Тимур Бекмамбетов</td>\n",
       "      <td>Джим Лемли, Джейсон Нетер, Марк Е.Платт, Яйн Смит</td>\n",
       "      <td>«18+» - запрещено для детей</td>\n",
       "      <td>NaN</td>\n",
       "      <td>NaN</td>\n",
       "      <td>NaN</td>\n",
       "      <td>NaN</td>\n",
       "      <td>6.8</td>\n",
       "      <td>фантастика,боевик,триллер</td>\n",
       "    </tr>\n",
       "    <tr>\n",
       "      <th>3</th>\n",
       "      <td>Особо опасен</td>\n",
       "      <td>221026916</td>\n",
       "      <td>2016-06-10T12:00:00.000Z</td>\n",
       "      <td>Художественный</td>\n",
       "      <td>Юниверсал Пикчерз, Кикстарт Продакшнз, Марк Пл...</td>\n",
       "      <td>США</td>\n",
       "      <td>Тимур Бекмамбетов</td>\n",
       "      <td>Джим Лемли, Джейсон Нетер, Марк Е.Платт, Яйн Смит</td>\n",
       "      <td>«18+» - запрещено для детей</td>\n",
       "      <td>NaN</td>\n",
       "      <td>NaN</td>\n",
       "      <td>NaN</td>\n",
       "      <td>NaN</td>\n",
       "      <td>6.8</td>\n",
       "      <td>фантастика,боевик,триллер</td>\n",
       "    </tr>\n",
       "    <tr>\n",
       "      <th>4</th>\n",
       "      <td>Особо опасен</td>\n",
       "      <td>221030815</td>\n",
       "      <td>2015-07-29T12:00:00.000Z</td>\n",
       "      <td>Художественный</td>\n",
       "      <td>Юниверсал Пикчерз, Кикстарт Продакшнз, Марк Пл...</td>\n",
       "      <td>США</td>\n",
       "      <td>Тимур Бекмамбетов</td>\n",
       "      <td>Джим Лемли, Джейсон Нетер, Марк Е.Платт, Яйн Смит</td>\n",
       "      <td>«18+» - запрещено для детей</td>\n",
       "      <td>NaN</td>\n",
       "      <td>NaN</td>\n",
       "      <td>NaN</td>\n",
       "      <td>NaN</td>\n",
       "      <td>6.8</td>\n",
       "      <td>фантастика,боевик,триллер</td>\n",
       "    </tr>\n",
       "  </tbody>\n",
       "</table>\n",
       "</div>"
      ],
      "text/plain": [
       "                  title   puNumber           show_start_date            type  \\\n",
       "0      Открытый простор  221048915  2015-11-27T12:00:00.000Z  Художественный   \n",
       "1  Особо важное задание  111013716  2016-09-13T12:00:00.000Z  Художественный   \n",
       "2          Особо опасен  221038416  2016-10-10T12:00:00.000Z  Художественный   \n",
       "3          Особо опасен  221026916  2016-06-10T12:00:00.000Z  Художественный   \n",
       "4          Особо опасен  221030815  2015-07-29T12:00:00.000Z  Художественный   \n",
       "\n",
       "                                         film_studio production_country  \\\n",
       "0  Тачстоун Пикчерз, Кобальт Пикчерз, Бикон Пикче...                США   \n",
       "1                              Киностудия \"Мосфильм\"               СССР   \n",
       "2  Юниверсал Пикчерз, Кикстарт Продакшнз, Марк Пл...                США   \n",
       "3  Юниверсал Пикчерз, Кикстарт Продакшнз, Марк Пл...                США   \n",
       "4  Юниверсал Пикчерз, Кикстарт Продакшнз, Марк Пл...                США   \n",
       "\n",
       "            director                                           producer  \\\n",
       "0      Кевин Костнер          Дэвид Валдес, Кевин Костнер, Джейк Эбертс   \n",
       "1          Е.Матвеев                                                NaN   \n",
       "2  Тимур Бекмамбетов  Джим Лемли, Джейсон Нетер, Марк Е.Платт, Яйн Смит   \n",
       "3  Тимур Бекмамбетов  Джим Лемли, Джейсон Нетер, Марк Е.Платт, Яйн Смит   \n",
       "4  Тимур Бекмамбетов  Джим Лемли, Джейсон Нетер, Марк Е.Платт, Яйн Смит   \n",
       "\n",
       "                 age_restriction  refundable_support  nonrefundable_support  \\\n",
       "0    «18+» - запрещено для детей                 NaN                    NaN   \n",
       "1  «6+» - для детей старше 6 лет                 NaN                    NaN   \n",
       "2    «18+» - запрещено для детей                 NaN                    NaN   \n",
       "3    «18+» - запрещено для детей                 NaN                    NaN   \n",
       "4    «18+» - запрещено для детей                 NaN                    NaN   \n",
       "\n",
       "   budget financing_source ratings                     genres  \n",
       "0     NaN              NaN     7.2     боевик,драма,мелодрама  \n",
       "1     NaN              NaN     6.6              драма,военный  \n",
       "2     NaN              NaN     6.8  фантастика,боевик,триллер  \n",
       "3     NaN              NaN     6.8  фантастика,боевик,триллер  \n",
       "4     NaN              NaN     6.8  фантастика,боевик,триллер  "
      ]
     },
     "metadata": {},
     "output_type": "display_data"
    },
    {
     "data": {
      "text/html": [
       "<div>\n",
       "<style scoped>\n",
       "    .dataframe tbody tr th:only-of-type {\n",
       "        vertical-align: middle;\n",
       "    }\n",
       "\n",
       "    .dataframe tbody tr th {\n",
       "        vertical-align: top;\n",
       "    }\n",
       "\n",
       "    .dataframe thead th {\n",
       "        text-align: right;\n",
       "    }\n",
       "</style>\n",
       "<table border=\"1\" class=\"dataframe\">\n",
       "  <thead>\n",
       "    <tr style=\"text-align: right;\">\n",
       "      <th></th>\n",
       "      <th>puNumber</th>\n",
       "      <th>box_office</th>\n",
       "    </tr>\n",
       "  </thead>\n",
       "  <tbody>\n",
       "    <tr>\n",
       "      <th>0</th>\n",
       "      <td>111000113</td>\n",
       "      <td>2450.0</td>\n",
       "    </tr>\n",
       "    <tr>\n",
       "      <th>1</th>\n",
       "      <td>111000115</td>\n",
       "      <td>61040.0</td>\n",
       "    </tr>\n",
       "    <tr>\n",
       "      <th>2</th>\n",
       "      <td>111000116</td>\n",
       "      <td>153030013.4</td>\n",
       "    </tr>\n",
       "  </tbody>\n",
       "</table>\n",
       "</div>"
      ],
      "text/plain": [
       "    puNumber   box_office\n",
       "0  111000113       2450.0\n",
       "1  111000115      61040.0\n",
       "2  111000116  153030013.4"
      ]
     },
     "execution_count": 2,
     "metadata": {},
     "output_type": "execute_result"
    }
   ],
   "source": [
    "try:\n",
    "    mkrf_movies = pd.read_csv('/datasets/mkrf_movies.csv')\n",
    "except:\n",
    "    mkrf_movies = pd.read_csv('https://code.s3.yandex.net/datasets/mkrf_movies.csv')\n",
    "try:\n",
    "    mkrf_show = pd._read_csv('/datasets/mkrf_shows.csv')\n",
    "except:\n",
    "    mkrf_show = pd.read_csv('https://code.s3.yandex.net/datasets/mkrf_shows.csv')\n",
    "display(mkrf_movies.head())\n",
    "mkrf_show.head(3)"
   ]
  },
  {
   "cell_type": "code",
   "execution_count": 3,
   "metadata": {},
   "outputs": [
    {
     "name": "stdout",
     "output_type": "stream",
     "text": [
      "<class 'pandas.core.frame.DataFrame'>\n",
      "RangeIndex: 7486 entries, 0 to 7485\n",
      "Data columns (total 15 columns):\n",
      " #   Column                 Non-Null Count  Dtype  \n",
      "---  ------                 --------------  -----  \n",
      " 0   title                  7486 non-null   object \n",
      " 1   puNumber               7486 non-null   object \n",
      " 2   show_start_date        7486 non-null   object \n",
      " 3   type                   7486 non-null   object \n",
      " 4   film_studio            7468 non-null   object \n",
      " 5   production_country     7484 non-null   object \n",
      " 6   director               7477 non-null   object \n",
      " 7   producer               6918 non-null   object \n",
      " 8   age_restriction        7486 non-null   object \n",
      " 9   refundable_support     332 non-null    float64\n",
      " 10  nonrefundable_support  332 non-null    float64\n",
      " 11  budget                 332 non-null    float64\n",
      " 12  financing_source       332 non-null    object \n",
      " 13  ratings                6519 non-null   object \n",
      " 14  genres                 6510 non-null   object \n",
      "dtypes: float64(3), object(12)\n",
      "memory usage: 877.4+ KB\n",
      "<class 'pandas.core.frame.DataFrame'>\n",
      "RangeIndex: 3158 entries, 0 to 3157\n",
      "Data columns (total 2 columns):\n",
      " #   Column      Non-Null Count  Dtype  \n",
      "---  ------      --------------  -----  \n",
      " 0   puNumber    3158 non-null   int64  \n",
      " 1   box_office  3158 non-null   float64\n",
      "dtypes: float64(1), int64(1)\n",
      "memory usage: 49.5 KB\n"
     ]
    }
   ],
   "source": [
    "mkrf_movies.info()\n",
    "mkrf_show.info()"
   ]
  },
  {
   "cell_type": "markdown",
   "metadata": {},
   "source": [
    "Чтобы объединить таблицы в одну, необходимо, чтобы тип данных столбцов по которым будем объединять был одинаковым. Объединять будем по столбцу *puNumber*. Обратим внимание, что в mkrf_movies тип данных у этого столбца object, а в mkrf_show - int64. Изменим тип данных в первом датафрейме и объединим данные в новый датафрейм."
   ]
  },
  {
   "cell_type": "markdown",
   "metadata": {},
   "source": [
    "В датафрейме mkrf_movies в столбце *puNumber* встречается одна строка со словом 'нет', чтобы изменить тип данных, необходимо сначала изменить значение на '-1'."
   ]
  },
  {
   "cell_type": "code",
   "execution_count": 4,
   "metadata": {},
   "outputs": [],
   "source": [
    "mkrf_movies.loc[mkrf_movies['puNumber'] =='нет', 'puNumber'] = -1\n",
    "mkrf_movies['puNumber'] = mkrf_movies['puNumber'].astype('int')\n",
    "df = mkrf_movies.merge(mkrf_show, on='puNumber', how='left')"
   ]
  },
  {
   "cell_type": "code",
   "execution_count": 5,
   "metadata": {},
   "outputs": [
    {
     "data": {
      "text/html": [
       "<div>\n",
       "<style scoped>\n",
       "    .dataframe tbody tr th:only-of-type {\n",
       "        vertical-align: middle;\n",
       "    }\n",
       "\n",
       "    .dataframe tbody tr th {\n",
       "        vertical-align: top;\n",
       "    }\n",
       "\n",
       "    .dataframe thead th {\n",
       "        text-align: right;\n",
       "    }\n",
       "</style>\n",
       "<table border=\"1\" class=\"dataframe\">\n",
       "  <thead>\n",
       "    <tr style=\"text-align: right;\">\n",
       "      <th></th>\n",
       "      <th>title</th>\n",
       "      <th>puNumber</th>\n",
       "      <th>show_start_date</th>\n",
       "      <th>type</th>\n",
       "      <th>film_studio</th>\n",
       "      <th>production_country</th>\n",
       "      <th>director</th>\n",
       "      <th>producer</th>\n",
       "      <th>age_restriction</th>\n",
       "      <th>refundable_support</th>\n",
       "      <th>nonrefundable_support</th>\n",
       "      <th>budget</th>\n",
       "      <th>financing_source</th>\n",
       "      <th>ratings</th>\n",
       "      <th>genres</th>\n",
       "      <th>box_office</th>\n",
       "    </tr>\n",
       "  </thead>\n",
       "  <tbody>\n",
       "    <tr>\n",
       "      <th>0</th>\n",
       "      <td>Открытый простор</td>\n",
       "      <td>221048915</td>\n",
       "      <td>2015-11-27T12:00:00.000Z</td>\n",
       "      <td>Художественный</td>\n",
       "      <td>Тачстоун Пикчерз, Кобальт Пикчерз, Бикон Пикче...</td>\n",
       "      <td>США</td>\n",
       "      <td>Кевин Костнер</td>\n",
       "      <td>Дэвид Валдес, Кевин Костнер, Джейк Эбертс</td>\n",
       "      <td>«18+» - запрещено для детей</td>\n",
       "      <td>NaN</td>\n",
       "      <td>NaN</td>\n",
       "      <td>NaN</td>\n",
       "      <td>NaN</td>\n",
       "      <td>7.2</td>\n",
       "      <td>боевик,драма,мелодрама</td>\n",
       "      <td>NaN</td>\n",
       "    </tr>\n",
       "    <tr>\n",
       "      <th>1</th>\n",
       "      <td>Особо важное задание</td>\n",
       "      <td>111013716</td>\n",
       "      <td>2016-09-13T12:00:00.000Z</td>\n",
       "      <td>Художественный</td>\n",
       "      <td>Киностудия \"Мосфильм\"</td>\n",
       "      <td>СССР</td>\n",
       "      <td>Е.Матвеев</td>\n",
       "      <td>NaN</td>\n",
       "      <td>«6+» - для детей старше 6 лет</td>\n",
       "      <td>NaN</td>\n",
       "      <td>NaN</td>\n",
       "      <td>NaN</td>\n",
       "      <td>NaN</td>\n",
       "      <td>6.6</td>\n",
       "      <td>драма,военный</td>\n",
       "      <td>NaN</td>\n",
       "    </tr>\n",
       "    <tr>\n",
       "      <th>2</th>\n",
       "      <td>Особо опасен</td>\n",
       "      <td>221038416</td>\n",
       "      <td>2016-10-10T12:00:00.000Z</td>\n",
       "      <td>Художественный</td>\n",
       "      <td>Юниверсал Пикчерз, Кикстарт Продакшнз, Марк Пл...</td>\n",
       "      <td>США</td>\n",
       "      <td>Тимур Бекмамбетов</td>\n",
       "      <td>Джим Лемли, Джейсон Нетер, Марк Е.Платт, Яйн Смит</td>\n",
       "      <td>«18+» - запрещено для детей</td>\n",
       "      <td>NaN</td>\n",
       "      <td>NaN</td>\n",
       "      <td>NaN</td>\n",
       "      <td>NaN</td>\n",
       "      <td>6.8</td>\n",
       "      <td>фантастика,боевик,триллер</td>\n",
       "      <td>NaN</td>\n",
       "    </tr>\n",
       "  </tbody>\n",
       "</table>\n",
       "</div>"
      ],
      "text/plain": [
       "                  title   puNumber           show_start_date            type  \\\n",
       "0      Открытый простор  221048915  2015-11-27T12:00:00.000Z  Художественный   \n",
       "1  Особо важное задание  111013716  2016-09-13T12:00:00.000Z  Художественный   \n",
       "2          Особо опасен  221038416  2016-10-10T12:00:00.000Z  Художественный   \n",
       "\n",
       "                                         film_studio production_country  \\\n",
       "0  Тачстоун Пикчерз, Кобальт Пикчерз, Бикон Пикче...                США   \n",
       "1                              Киностудия \"Мосфильм\"               СССР   \n",
       "2  Юниверсал Пикчерз, Кикстарт Продакшнз, Марк Пл...                США   \n",
       "\n",
       "            director                                           producer  \\\n",
       "0      Кевин Костнер          Дэвид Валдес, Кевин Костнер, Джейк Эбертс   \n",
       "1          Е.Матвеев                                                NaN   \n",
       "2  Тимур Бекмамбетов  Джим Лемли, Джейсон Нетер, Марк Е.Платт, Яйн Смит   \n",
       "\n",
       "                 age_restriction  refundable_support  nonrefundable_support  \\\n",
       "0    «18+» - запрещено для детей                 NaN                    NaN   \n",
       "1  «6+» - для детей старше 6 лет                 NaN                    NaN   \n",
       "2    «18+» - запрещено для детей                 NaN                    NaN   \n",
       "\n",
       "   budget financing_source ratings                     genres  box_office  \n",
       "0     NaN              NaN     7.2     боевик,драма,мелодрама         NaN  \n",
       "1     NaN              NaN     6.6              драма,военный         NaN  \n",
       "2     NaN              NaN     6.8  фантастика,боевик,триллер         NaN  "
      ]
     },
     "execution_count": 5,
     "metadata": {},
     "output_type": "execute_result"
    }
   ],
   "source": [
    "df.head(3)"
   ]
  },
  {
   "cell_type": "code",
   "execution_count": 6,
   "metadata": {},
   "outputs": [
    {
     "name": "stdout",
     "output_type": "stream",
     "text": [
      "<class 'pandas.core.frame.DataFrame'>\n",
      "RangeIndex: 7486 entries, 0 to 7485\n",
      "Data columns (total 16 columns):\n",
      " #   Column                 Non-Null Count  Dtype  \n",
      "---  ------                 --------------  -----  \n",
      " 0   title                  7486 non-null   object \n",
      " 1   puNumber               7486 non-null   int32  \n",
      " 2   show_start_date        7486 non-null   object \n",
      " 3   type                   7486 non-null   object \n",
      " 4   film_studio            7468 non-null   object \n",
      " 5   production_country     7484 non-null   object \n",
      " 6   director               7477 non-null   object \n",
      " 7   producer               6918 non-null   object \n",
      " 8   age_restriction        7486 non-null   object \n",
      " 9   refundable_support     332 non-null    float64\n",
      " 10  nonrefundable_support  332 non-null    float64\n",
      " 11  budget                 332 non-null    float64\n",
      " 12  financing_source       332 non-null    object \n",
      " 13  ratings                6519 non-null   object \n",
      " 14  genres                 6510 non-null   object \n",
      " 15  box_office             3158 non-null   float64\n",
      "dtypes: float64(4), int32(1), object(11)\n",
      "memory usage: 906.6+ KB\n"
     ]
    }
   ],
   "source": [
    "df.info()"
   ]
  },
  {
   "cell_type": "markdown",
   "metadata": {},
   "source": [
    "Мы объединили данные в один датафрейм таким образом, чтобы все объекты из датасета mkrf_movies обязательно вошли в получившийся датафрейм и добавился столбец *box_office*. Судя по общему количеству строк (7486), все строки из mkrf_movies вошли в получившийся датафрейм, в столбце *box_office* 3158 строк, что значит что все данные из mkrf_show тоже вошли в получившийся датафрейм."
   ]
  },
  {
   "cell_type": "markdown",
   "metadata": {
    "id": "KLDGpPG0gFyM"
   },
   "source": [
    "### Шаг 2. Предобработка данных"
   ]
  },
  {
   "cell_type": "markdown",
   "metadata": {
    "id": "ssWwKXsxgFyO"
   },
   "source": [
    "#### Шаг 2.1. Проверьте типы данных\n",
    "\n",
    "- Проверьте типы данных в датафрейме и преобразуйте их там, где это необходимо."
   ]
  },
  {
   "cell_type": "code",
   "execution_count": 7,
   "metadata": {
    "id": "kVGSplJOgFyO"
   },
   "outputs": [
    {
     "name": "stdout",
     "output_type": "stream",
     "text": [
      "<class 'pandas.core.frame.DataFrame'>\n",
      "RangeIndex: 7486 entries, 0 to 7485\n",
      "Data columns (total 16 columns):\n",
      " #   Column                 Non-Null Count  Dtype  \n",
      "---  ------                 --------------  -----  \n",
      " 0   title                  7486 non-null   object \n",
      " 1   puNumber               7486 non-null   int32  \n",
      " 2   show_start_date        7486 non-null   object \n",
      " 3   type                   7486 non-null   object \n",
      " 4   film_studio            7468 non-null   object \n",
      " 5   production_country     7484 non-null   object \n",
      " 6   director               7477 non-null   object \n",
      " 7   producer               6918 non-null   object \n",
      " 8   age_restriction        7486 non-null   object \n",
      " 9   refundable_support     332 non-null    float64\n",
      " 10  nonrefundable_support  332 non-null    float64\n",
      " 11  budget                 332 non-null    float64\n",
      " 12  financing_source       332 non-null    object \n",
      " 13  ratings                6519 non-null   object \n",
      " 14  genres                 6510 non-null   object \n",
      " 15  box_office             3158 non-null   float64\n",
      "dtypes: float64(4), int32(1), object(11)\n",
      "memory usage: 906.6+ KB\n"
     ]
    }
   ],
   "source": [
    "df.info()"
   ]
  },
  {
   "cell_type": "markdown",
   "metadata": {},
   "source": [
    "В столбце *show_start_date* необходимо поменять тип данных на datetime64 для удобства работы с датой.\n",
    "В столбце *ratings* необходимо поменять тип данных на float64 для удобства работы с рейтингом."
   ]
  },
  {
   "cell_type": "code",
   "execution_count": 8,
   "metadata": {},
   "outputs": [],
   "source": [
    "df['show_start_date'] = pd.to_datetime(df['show_start_date'], format='%Y-%m-%dT%H:%M:%S.000Z')"
   ]
  },
  {
   "cell_type": "markdown",
   "metadata": {},
   "source": [
    "В столбце *ratings* некоторые значения указаны в процентах. Минимальное значение в процентах 19%. Уберем значек процента, переведем тип данных во float64 и все значения больше 10 поделим на 10."
   ]
  },
  {
   "cell_type": "code",
   "execution_count": 9,
   "metadata": {},
   "outputs": [
    {
     "data": {
      "text/plain": [
       "3515    1.0\n",
       "4678    1.1\n",
       "1535    1.1\n",
       "4794    1.2\n",
       "4014    1.3\n",
       "1025    1.4\n",
       "5243    1.4\n",
       "1468    1.5\n",
       "1226    1.5\n",
       "3374    1.5\n",
       "515     1.6\n",
       "1473    1.6\n",
       "1472    1.6\n",
       "6830    1.6\n",
       "1691    1.6\n",
       "6505    1.7\n",
       "5135    1.7\n",
       "4346    1.8\n",
       "4323    1.9\n",
       "3431    19%\n",
       "Name: ratings, dtype: object"
      ]
     },
     "metadata": {},
     "output_type": "display_data"
    },
    {
     "data": {
      "text/plain": [
       "5910    94%\n",
       "1053    97%\n",
       "3948    97%\n",
       "3585    97%\n",
       "6616    98%\n",
       "6737    98%\n",
       "1805    99%\n",
       "259     99%\n",
       "1341    99%\n",
       "6882    99%\n",
       "Name: ratings, dtype: object"
      ]
     },
     "execution_count": 9,
     "metadata": {},
     "output_type": "execute_result"
    }
   ],
   "source": [
    "display(df['ratings'].sort_values().head(20))\n",
    "df.loc[df['ratings'].isna() == False, 'ratings'].sort_values().tail(10)"
   ]
  },
  {
   "cell_type": "code",
   "execution_count": 10,
   "metadata": {},
   "outputs": [],
   "source": [
    "df['ratings'] = df['ratings'].str.replace('%', '')\n",
    "df['ratings'] = pd.to_numeric(df['ratings'])\n",
    "df.loc[df['ratings'] > 10, 'ratings'] /= 10"
   ]
  },
  {
   "cell_type": "code",
   "execution_count": 11,
   "metadata": {},
   "outputs": [
    {
     "name": "stdout",
     "output_type": "stream",
     "text": [
      "<class 'pandas.core.frame.DataFrame'>\n",
      "RangeIndex: 7486 entries, 0 to 7485\n",
      "Data columns (total 16 columns):\n",
      " #   Column                 Non-Null Count  Dtype         \n",
      "---  ------                 --------------  -----         \n",
      " 0   title                  7486 non-null   object        \n",
      " 1   puNumber               7486 non-null   int32         \n",
      " 2   show_start_date        7486 non-null   datetime64[ns]\n",
      " 3   type                   7486 non-null   object        \n",
      " 4   film_studio            7468 non-null   object        \n",
      " 5   production_country     7484 non-null   object        \n",
      " 6   director               7477 non-null   object        \n",
      " 7   producer               6918 non-null   object        \n",
      " 8   age_restriction        7486 non-null   object        \n",
      " 9   refundable_support     332 non-null    float64       \n",
      " 10  nonrefundable_support  332 non-null    float64       \n",
      " 11  budget                 332 non-null    float64       \n",
      " 12  financing_source       332 non-null    object        \n",
      " 13  ratings                6519 non-null   float64       \n",
      " 14  genres                 6510 non-null   object        \n",
      " 15  box_office             3158 non-null   float64       \n",
      "dtypes: datetime64[ns](1), float64(5), int32(1), object(9)\n",
      "memory usage: 906.6+ KB\n"
     ]
    }
   ],
   "source": [
    "df.info()"
   ]
  },
  {
   "cell_type": "markdown",
   "metadata": {},
   "source": [
    "Тип данных в столбцах *show_start_date, ratings* изменен. Теперь тип данных во всех столбцах корректен."
   ]
  },
  {
   "cell_type": "markdown",
   "metadata": {
    "id": "i0MOLbF-gFyP"
   },
   "source": [
    "#### Шаг 2.2. Изучите пропуски в датафрейме\n",
    "\n",
    "- Объясните, почему заполнили пропуски определённым образом или почему не стали этого делать."
   ]
  },
  {
   "cell_type": "markdown",
   "metadata": {
    "id": "8MJD_lkngFyP"
   },
   "source": [
    "Для начала изучим пропуски."
   ]
  },
  {
   "cell_type": "code",
   "execution_count": 12,
   "metadata": {},
   "outputs": [
    {
     "data": {
      "text/plain": [
       "title                       0\n",
       "puNumber                    0\n",
       "show_start_date             0\n",
       "type                        0\n",
       "film_studio                18\n",
       "production_country          2\n",
       "director                    9\n",
       "producer                  568\n",
       "age_restriction             0\n",
       "refundable_support       7154\n",
       "nonrefundable_support    7154\n",
       "budget                   7154\n",
       "financing_source         7154\n",
       "ratings                   967\n",
       "genres                    976\n",
       "box_office               4328\n",
       "dtype: int64"
      ]
     },
     "execution_count": 12,
     "metadata": {},
     "output_type": "execute_result"
    }
   ],
   "source": [
    "df.isna().sum()"
   ]
  },
  {
   "cell_type": "code",
   "execution_count": 13,
   "metadata": {},
   "outputs": [
    {
     "data": {
      "text/plain": [
       "329"
      ]
     },
     "execution_count": 13,
     "metadata": {},
     "output_type": "execute_result"
    }
   ],
   "source": [
    "(df['director'] == df['producer']).sum()"
   ]
  },
  {
   "cell_type": "markdown",
   "metadata": {},
   "source": [
    "В столбцах *film_studio, production_country* пропуски заполнить никак нельзя, кроме как 'не указано'.\n",
    "\n",
    "В столбце *director* можно заполнить пропуск значением из столбца *producer*, так как строк с одинаковым значением продюсера и режиссера 98. Если режисер или продюсер не указан, то скорей всего это один и тот же человек.\n",
    "\n",
    "В столбце *producer* можно заполнить пропуск значение из столбца *director*, так как строк с одинаковым значением продюсера и режиссера 98. Если режисер или продюсер не указан, то скорей всего это один и тот же человек.\n",
    "\n",
    "В столбцах *refundable_support, nonrefundable_support, financing_source* пропуски стоят там, где нет государственной поддержки, соответственно можно заполнить первые 2 столбца нулями, а в третьем написать 'нет государственной поддержки'.\n",
    "\n",
    "В столбце *budget* вместо пропусков поставим сумму *refundable_support и nonrefundable_support*. \n",
    "\n",
    "В столбце *genres* пропуски заполнить никак нельзя, кроме как 'не указано'.\n",
    "\n",
    "В столбце *ratings* пропуски заполнять не будем для удобства работы с данными.\n",
    "\n",
    "В столбце *box_office* пропуски появились потому, что в mkrf_movies было больше строк чем в mkrf_show. Для удобства работы с данными, пропуски в этом столбце заполнять не будем."
   ]
  },
  {
   "cell_type": "code",
   "execution_count": 14,
   "metadata": {},
   "outputs": [],
   "source": [
    "df['director'] = df['director'].fillna(df['producer'])\n",
    "df['producer'] = df['producer'].fillna(df['director'])\n",
    "df['refundable_support'] = df['refundable_support'].fillna(0)\n",
    "df['nonrefundable_support'] = df['nonrefundable_support'].fillna(0)\n",
    "df['budget'] = df['budget'].fillna(df['nonrefundable_support'] + df['refundable_support'])\n",
    "df['financing_source'] = df['financing_source'].fillna('нет государственной поддержки')"
   ]
  },
  {
   "cell_type": "code",
   "execution_count": 15,
   "metadata": {},
   "outputs": [],
   "source": [
    "columns = ['film_studio', 'production_country', 'genres']\n",
    "for column in columns:\n",
    "    df[column] = df[column].fillna('не указано')"
   ]
  },
  {
   "cell_type": "code",
   "execution_count": 16,
   "metadata": {},
   "outputs": [
    {
     "data": {
      "text/plain": [
       "title                       0\n",
       "puNumber                    0\n",
       "show_start_date             0\n",
       "type                        0\n",
       "film_studio                 0\n",
       "production_country          0\n",
       "director                    4\n",
       "producer                    4\n",
       "age_restriction             0\n",
       "refundable_support          0\n",
       "nonrefundable_support       0\n",
       "budget                      0\n",
       "financing_source            0\n",
       "ratings                   967\n",
       "genres                      0\n",
       "box_office               4328\n",
       "dtype: int64"
      ]
     },
     "execution_count": 16,
     "metadata": {},
     "output_type": "execute_result"
    }
   ],
   "source": [
    "df.isna().sum()"
   ]
  },
  {
   "cell_type": "markdown",
   "metadata": {},
   "source": [
    "Все пропуски в столбцах *refundable_support, nonrefundable_support, budget, financing_source, film_studio, production_country, genres* заполнены. В столбцах *director* и *producer* осталось по 4 пропуска, это пропуски в строках где не указано ни режиссера, ни продюссера. Заполним такие строки значением 'не указано'."
   ]
  },
  {
   "cell_type": "code",
   "execution_count": 17,
   "metadata": {},
   "outputs": [],
   "source": [
    "df['director'] = df['director'].fillna('не указано')\n",
    "df['producer'] = df['producer'].fillna('не указано')"
   ]
  },
  {
   "cell_type": "code",
   "execution_count": 18,
   "metadata": {},
   "outputs": [
    {
     "data": {
      "text/plain": [
       "title                       0\n",
       "puNumber                    0\n",
       "show_start_date             0\n",
       "type                        0\n",
       "film_studio                 0\n",
       "production_country          0\n",
       "director                    0\n",
       "producer                    0\n",
       "age_restriction             0\n",
       "refundable_support          0\n",
       "nonrefundable_support       0\n",
       "budget                      0\n",
       "financing_source            0\n",
       "ratings                   967\n",
       "genres                      0\n",
       "box_office               4328\n",
       "dtype: int64"
      ]
     },
     "execution_count": 18,
     "metadata": {},
     "output_type": "execute_result"
    }
   ],
   "source": [
    "df.isna().sum()"
   ]
  },
  {
   "cell_type": "markdown",
   "metadata": {},
   "source": [
    "Теперь все пропуски во всех столбцах кроме *box_office и ratings* заполнены."
   ]
  },
  {
   "cell_type": "markdown",
   "metadata": {
    "id": "4c6k1t9ygFyQ"
   },
   "source": [
    "#### Шаг 2.3. Изучите дубликаты в датафрейме\n",
    "- Проверьте, есть ли в данных дубликаты. Опишите причины, которые могли повлиять на появление дублей."
   ]
  },
  {
   "cell_type": "markdown",
   "metadata": {},
   "source": [
    "Для начала проверим количество полных дубликатов."
   ]
  },
  {
   "cell_type": "code",
   "execution_count": 19,
   "metadata": {},
   "outputs": [
    {
     "data": {
      "text/plain": [
       "0"
      ]
     },
     "execution_count": 19,
     "metadata": {},
     "output_type": "execute_result"
    }
   ],
   "source": [
    "df.duplicated().sum()"
   ]
  },
  {
   "cell_type": "markdown",
   "metadata": {},
   "source": [
    "Полных дубликатов нет, но может есть дубликаты в названии фильмов."
   ]
  },
  {
   "cell_type": "code",
   "execution_count": 20,
   "metadata": {
    "scrolled": false
   },
   "outputs": [
    {
     "name": "stdout",
     "output_type": "stream",
     "text": [
      "714\n"
     ]
    },
    {
     "data": {
      "text/html": [
       "<div>\n",
       "<style scoped>\n",
       "    .dataframe tbody tr th:only-of-type {\n",
       "        vertical-align: middle;\n",
       "    }\n",
       "\n",
       "    .dataframe tbody tr th {\n",
       "        vertical-align: top;\n",
       "    }\n",
       "\n",
       "    .dataframe thead th {\n",
       "        text-align: right;\n",
       "    }\n",
       "</style>\n",
       "<table border=\"1\" class=\"dataframe\">\n",
       "  <thead>\n",
       "    <tr style=\"text-align: right;\">\n",
       "      <th></th>\n",
       "      <th>title</th>\n",
       "      <th>puNumber</th>\n",
       "      <th>show_start_date</th>\n",
       "      <th>type</th>\n",
       "      <th>film_studio</th>\n",
       "      <th>production_country</th>\n",
       "      <th>director</th>\n",
       "      <th>producer</th>\n",
       "      <th>age_restriction</th>\n",
       "      <th>refundable_support</th>\n",
       "      <th>nonrefundable_support</th>\n",
       "      <th>budget</th>\n",
       "      <th>financing_source</th>\n",
       "      <th>ratings</th>\n",
       "      <th>genres</th>\n",
       "      <th>box_office</th>\n",
       "    </tr>\n",
       "  </thead>\n",
       "  <tbody>\n",
       "    <tr>\n",
       "      <th>3</th>\n",
       "      <td>Особо опасен</td>\n",
       "      <td>221026916</td>\n",
       "      <td>2016-06-10 12:00:00</td>\n",
       "      <td>Художественный</td>\n",
       "      <td>Юниверсал Пикчерз, Кикстарт Продакшнз, Марк Пл...</td>\n",
       "      <td>США</td>\n",
       "      <td>Тимур Бекмамбетов</td>\n",
       "      <td>Джим Лемли, Джейсон Нетер, Марк Е.Платт, Яйн Смит</td>\n",
       "      <td>«18+» - запрещено для детей</td>\n",
       "      <td>0.0</td>\n",
       "      <td>0.0</td>\n",
       "      <td>0.0</td>\n",
       "      <td>нет государственной поддержки</td>\n",
       "      <td>6.8</td>\n",
       "      <td>фантастика,боевик,триллер</td>\n",
       "      <td>NaN</td>\n",
       "    </tr>\n",
       "    <tr>\n",
       "      <th>4</th>\n",
       "      <td>Особо опасен</td>\n",
       "      <td>221030815</td>\n",
       "      <td>2015-07-29 12:00:00</td>\n",
       "      <td>Художественный</td>\n",
       "      <td>Юниверсал Пикчерз, Кикстарт Продакшнз, Марк Пл...</td>\n",
       "      <td>США</td>\n",
       "      <td>Тимур Бекмамбетов</td>\n",
       "      <td>Джим Лемли, Джейсон Нетер, Марк Е.Платт, Яйн Смит</td>\n",
       "      <td>«18+» - запрещено для детей</td>\n",
       "      <td>0.0</td>\n",
       "      <td>0.0</td>\n",
       "      <td>0.0</td>\n",
       "      <td>нет государственной поддержки</td>\n",
       "      <td>6.8</td>\n",
       "      <td>фантастика,боевик,триллер</td>\n",
       "      <td>NaN</td>\n",
       "    </tr>\n",
       "    <tr>\n",
       "      <th>41</th>\n",
       "      <td>Алекс и Эмма</td>\n",
       "      <td>221004616</td>\n",
       "      <td>2016-02-09 12:00:00</td>\n",
       "      <td>Художественный</td>\n",
       "      <td>Эскейп Артистс, Франчайз Пикчерз, Рейнер-Грэйс...</td>\n",
       "      <td>США</td>\n",
       "      <td>Роб Райнер</td>\n",
       "      <td>Тодд Блэк, Элан Грейсман, Джереми Левен, Роб Р...</td>\n",
       "      <td>«16+» - для детей старше 16 лет</td>\n",
       "      <td>0.0</td>\n",
       "      <td>0.0</td>\n",
       "      <td>0.0</td>\n",
       "      <td>нет государственной поддержки</td>\n",
       "      <td>6.4</td>\n",
       "      <td>мелодрама,комедия</td>\n",
       "      <td>NaN</td>\n",
       "    </tr>\n",
       "  </tbody>\n",
       "</table>\n",
       "</div>"
      ],
      "text/plain": [
       "           title   puNumber     show_start_date            type  \\\n",
       "3   Особо опасен  221026916 2016-06-10 12:00:00  Художественный   \n",
       "4   Особо опасен  221030815 2015-07-29 12:00:00  Художественный   \n",
       "41  Алекс и Эмма  221004616 2016-02-09 12:00:00  Художественный   \n",
       "\n",
       "                                          film_studio production_country  \\\n",
       "3   Юниверсал Пикчерз, Кикстарт Продакшнз, Марк Пл...                США   \n",
       "4   Юниверсал Пикчерз, Кикстарт Продакшнз, Марк Пл...                США   \n",
       "41  Эскейп Артистс, Франчайз Пикчерз, Рейнер-Грэйс...                США   \n",
       "\n",
       "             director                                           producer  \\\n",
       "3   Тимур Бекмамбетов  Джим Лемли, Джейсон Нетер, Марк Е.Платт, Яйн Смит   \n",
       "4   Тимур Бекмамбетов  Джим Лемли, Джейсон Нетер, Марк Е.Платт, Яйн Смит   \n",
       "41         Роб Райнер  Тодд Блэк, Элан Грейсман, Джереми Левен, Роб Р...   \n",
       "\n",
       "                    age_restriction  refundable_support  \\\n",
       "3       «18+» - запрещено для детей                 0.0   \n",
       "4       «18+» - запрещено для детей                 0.0   \n",
       "41  «16+» - для детей старше 16 лет                 0.0   \n",
       "\n",
       "    nonrefundable_support  budget               financing_source  ratings  \\\n",
       "3                     0.0     0.0  нет государственной поддержки      6.8   \n",
       "4                     0.0     0.0  нет государственной поддержки      6.8   \n",
       "41                    0.0     0.0  нет государственной поддержки      6.4   \n",
       "\n",
       "                       genres  box_office  \n",
       "3   фантастика,боевик,триллер         NaN  \n",
       "4   фантастика,боевик,триллер         NaN  \n",
       "41          мелодрама,комедия         NaN  "
      ]
     },
     "execution_count": 20,
     "metadata": {},
     "output_type": "execute_result"
    }
   ],
   "source": [
    "print(df['title'].duplicated().sum())\n",
    "df[df['title'].duplicated()].head(3)"
   ]
  },
  {
   "cell_type": "markdown",
   "metadata": {},
   "source": [
    "714 фильмов с одинаковыми названиями. Посмотрим чем же они отличаются друг от друга."
   ]
  },
  {
   "cell_type": "code",
   "execution_count": 21,
   "metadata": {
    "scrolled": true
   },
   "outputs": [
    {
     "data": {
      "text/html": [
       "<div>\n",
       "<style scoped>\n",
       "    .dataframe tbody tr th:only-of-type {\n",
       "        vertical-align: middle;\n",
       "    }\n",
       "\n",
       "    .dataframe tbody tr th {\n",
       "        vertical-align: top;\n",
       "    }\n",
       "\n",
       "    .dataframe thead th {\n",
       "        text-align: right;\n",
       "    }\n",
       "</style>\n",
       "<table border=\"1\" class=\"dataframe\">\n",
       "  <thead>\n",
       "    <tr style=\"text-align: right;\">\n",
       "      <th></th>\n",
       "      <th>title</th>\n",
       "      <th>puNumber</th>\n",
       "      <th>show_start_date</th>\n",
       "      <th>type</th>\n",
       "      <th>film_studio</th>\n",
       "      <th>production_country</th>\n",
       "      <th>director</th>\n",
       "      <th>producer</th>\n",
       "      <th>age_restriction</th>\n",
       "      <th>refundable_support</th>\n",
       "      <th>nonrefundable_support</th>\n",
       "      <th>budget</th>\n",
       "      <th>financing_source</th>\n",
       "      <th>ratings</th>\n",
       "      <th>genres</th>\n",
       "      <th>box_office</th>\n",
       "    </tr>\n",
       "  </thead>\n",
       "  <tbody>\n",
       "    <tr>\n",
       "      <th>2</th>\n",
       "      <td>Особо опасен</td>\n",
       "      <td>221038416</td>\n",
       "      <td>2016-10-10 12:00:00</td>\n",
       "      <td>Художественный</td>\n",
       "      <td>Юниверсал Пикчерз, Кикстарт Продакшнз, Марк Пл...</td>\n",
       "      <td>США</td>\n",
       "      <td>Тимур Бекмамбетов</td>\n",
       "      <td>Джим Лемли, Джейсон Нетер, Марк Е.Платт, Яйн Смит</td>\n",
       "      <td>«18+» - запрещено для детей</td>\n",
       "      <td>0.0</td>\n",
       "      <td>0.0</td>\n",
       "      <td>0.0</td>\n",
       "      <td>нет государственной поддержки</td>\n",
       "      <td>6.8</td>\n",
       "      <td>фантастика,боевик,триллер</td>\n",
       "      <td>NaN</td>\n",
       "    </tr>\n",
       "    <tr>\n",
       "      <th>3</th>\n",
       "      <td>Особо опасен</td>\n",
       "      <td>221026916</td>\n",
       "      <td>2016-06-10 12:00:00</td>\n",
       "      <td>Художественный</td>\n",
       "      <td>Юниверсал Пикчерз, Кикстарт Продакшнз, Марк Пл...</td>\n",
       "      <td>США</td>\n",
       "      <td>Тимур Бекмамбетов</td>\n",
       "      <td>Джим Лемли, Джейсон Нетер, Марк Е.Платт, Яйн Смит</td>\n",
       "      <td>«18+» - запрещено для детей</td>\n",
       "      <td>0.0</td>\n",
       "      <td>0.0</td>\n",
       "      <td>0.0</td>\n",
       "      <td>нет государственной поддержки</td>\n",
       "      <td>6.8</td>\n",
       "      <td>фантастика,боевик,триллер</td>\n",
       "      <td>NaN</td>\n",
       "    </tr>\n",
       "    <tr>\n",
       "      <th>4</th>\n",
       "      <td>Особо опасен</td>\n",
       "      <td>221030815</td>\n",
       "      <td>2015-07-29 12:00:00</td>\n",
       "      <td>Художественный</td>\n",
       "      <td>Юниверсал Пикчерз, Кикстарт Продакшнз, Марк Пл...</td>\n",
       "      <td>США</td>\n",
       "      <td>Тимур Бекмамбетов</td>\n",
       "      <td>Джим Лемли, Джейсон Нетер, Марк Е.Платт, Яйн Смит</td>\n",
       "      <td>«18+» - запрещено для детей</td>\n",
       "      <td>0.0</td>\n",
       "      <td>0.0</td>\n",
       "      <td>0.0</td>\n",
       "      <td>нет государственной поддержки</td>\n",
       "      <td>6.8</td>\n",
       "      <td>фантастика,боевик,триллер</td>\n",
       "      <td>NaN</td>\n",
       "    </tr>\n",
       "  </tbody>\n",
       "</table>\n",
       "</div>"
      ],
      "text/plain": [
       "          title   puNumber     show_start_date            type  \\\n",
       "2  Особо опасен  221038416 2016-10-10 12:00:00  Художественный   \n",
       "3  Особо опасен  221026916 2016-06-10 12:00:00  Художественный   \n",
       "4  Особо опасен  221030815 2015-07-29 12:00:00  Художественный   \n",
       "\n",
       "                                         film_studio production_country  \\\n",
       "2  Юниверсал Пикчерз, Кикстарт Продакшнз, Марк Пл...                США   \n",
       "3  Юниверсал Пикчерз, Кикстарт Продакшнз, Марк Пл...                США   \n",
       "4  Юниверсал Пикчерз, Кикстарт Продакшнз, Марк Пл...                США   \n",
       "\n",
       "            director                                           producer  \\\n",
       "2  Тимур Бекмамбетов  Джим Лемли, Джейсон Нетер, Марк Е.Платт, Яйн Смит   \n",
       "3  Тимур Бекмамбетов  Джим Лемли, Джейсон Нетер, Марк Е.Платт, Яйн Смит   \n",
       "4  Тимур Бекмамбетов  Джим Лемли, Джейсон Нетер, Марк Е.Платт, Яйн Смит   \n",
       "\n",
       "               age_restriction  refundable_support  nonrefundable_support  \\\n",
       "2  «18+» - запрещено для детей                 0.0                    0.0   \n",
       "3  «18+» - запрещено для детей                 0.0                    0.0   \n",
       "4  «18+» - запрещено для детей                 0.0                    0.0   \n",
       "\n",
       "   budget               financing_source  ratings                     genres  \\\n",
       "2     0.0  нет государственной поддержки      6.8  фантастика,боевик,триллер   \n",
       "3     0.0  нет государственной поддержки      6.8  фантастика,боевик,триллер   \n",
       "4     0.0  нет государственной поддержки      6.8  фантастика,боевик,триллер   \n",
       "\n",
       "   box_office  \n",
       "2         NaN  \n",
       "3         NaN  \n",
       "4         NaN  "
      ]
     },
     "execution_count": 21,
     "metadata": {},
     "output_type": "execute_result"
    }
   ],
   "source": [
    "df[df['title'] == 'Особо опасен']"
   ]
  },
  {
   "cell_type": "markdown",
   "metadata": {},
   "source": [
    "3 фильма \"Особо опасен\". Номер прокатного удостоверения и дата премьеры у всех разные. Это значит, что это три разных фильма, возможно какой-то из них это расширенная версия другого.\n",
    "\n",
    "Посмотрим, есть ли фильмы с одинаковым номером прокатного удостоверения."
   ]
  },
  {
   "cell_type": "code",
   "execution_count": 22,
   "metadata": {},
   "outputs": [
    {
     "data": {
      "text/html": [
       "<div>\n",
       "<style scoped>\n",
       "    .dataframe tbody tr th:only-of-type {\n",
       "        vertical-align: middle;\n",
       "    }\n",
       "\n",
       "    .dataframe tbody tr th {\n",
       "        vertical-align: top;\n",
       "    }\n",
       "\n",
       "    .dataframe thead th {\n",
       "        text-align: right;\n",
       "    }\n",
       "</style>\n",
       "<table border=\"1\" class=\"dataframe\">\n",
       "  <thead>\n",
       "    <tr style=\"text-align: right;\">\n",
       "      <th></th>\n",
       "      <th>title</th>\n",
       "      <th>puNumber</th>\n",
       "      <th>show_start_date</th>\n",
       "      <th>type</th>\n",
       "      <th>film_studio</th>\n",
       "      <th>production_country</th>\n",
       "      <th>director</th>\n",
       "      <th>producer</th>\n",
       "      <th>age_restriction</th>\n",
       "      <th>refundable_support</th>\n",
       "      <th>nonrefundable_support</th>\n",
       "      <th>budget</th>\n",
       "      <th>financing_source</th>\n",
       "      <th>ratings</th>\n",
       "      <th>genres</th>\n",
       "      <th>box_office</th>\n",
       "    </tr>\n",
       "  </thead>\n",
       "  <tbody>\n",
       "    <tr>\n",
       "      <th>4639</th>\n",
       "      <td>Иоанна - женщина на папском престоле /По роман...</td>\n",
       "      <td>221154310</td>\n",
       "      <td>2010-12-17 12:00:00</td>\n",
       "      <td>Художественный</td>\n",
       "      <td>Константин Фильм, А Эр Ди Дегето Фильм, Дюне ...</td>\n",
       "      <td>Германия - Великобритания - Италия - Испания</td>\n",
       "      <td>Зенке Вортманн</td>\n",
       "      <td>Оливер Бербен, Дорис Д.Хайнце, Фарук Элтан</td>\n",
       "      <td>«16+» - для детей старше 16 лет</td>\n",
       "      <td>0.0</td>\n",
       "      <td>0.0</td>\n",
       "      <td>0.0</td>\n",
       "      <td>нет государственной поддержки</td>\n",
       "      <td>7.6</td>\n",
       "      <td>драма,мелодрама,история</td>\n",
       "      <td>NaN</td>\n",
       "    </tr>\n",
       "    <tr>\n",
       "      <th>5068</th>\n",
       "      <td>Анализируй то!</td>\n",
       "      <td>221054410</td>\n",
       "      <td>2010-05-25 12:00:00</td>\n",
       "      <td>Художественный</td>\n",
       "      <td>Уорнер Бразерс, Виллидж Роадшоу Пикчерз, Эн-Пи...</td>\n",
       "      <td>США</td>\n",
       "      <td>Гарольд Реймис</td>\n",
       "      <td>Джейн Розенталь, Паул Уэйнстейн</td>\n",
       "      <td>«12+» - для детей старше 12 лет</td>\n",
       "      <td>0.0</td>\n",
       "      <td>0.0</td>\n",
       "      <td>0.0</td>\n",
       "      <td>нет государственной поддержки</td>\n",
       "      <td>6.8</td>\n",
       "      <td>комедия,криминал</td>\n",
       "      <td>NaN</td>\n",
       "    </tr>\n",
       "  </tbody>\n",
       "</table>\n",
       "</div>"
      ],
      "text/plain": [
       "                                                  title   puNumber  \\\n",
       "4639  Иоанна - женщина на папском престоле /По роман...  221154310   \n",
       "5068                                     Анализируй то!  221054410   \n",
       "\n",
       "         show_start_date            type  \\\n",
       "4639 2010-12-17 12:00:00  Художественный   \n",
       "5068 2010-05-25 12:00:00  Художественный   \n",
       "\n",
       "                                            film_studio  \\\n",
       "4639   Константин Фильм, А Эр Ди Дегето Фильм, Дюне ...   \n",
       "5068  Уорнер Бразерс, Виллидж Роадшоу Пикчерз, Эн-Пи...   \n",
       "\n",
       "                                production_country        director  \\\n",
       "4639  Германия - Великобритания - Италия - Испания  Зенке Вортманн   \n",
       "5068                                           США  Гарольд Реймис   \n",
       "\n",
       "                                        producer  \\\n",
       "4639  Оливер Бербен, Дорис Д.Хайнце, Фарук Элтан   \n",
       "5068             Джейн Розенталь, Паул Уэйнстейн   \n",
       "\n",
       "                      age_restriction  refundable_support  \\\n",
       "4639  «16+» - для детей старше 16 лет                 0.0   \n",
       "5068  «12+» - для детей старше 12 лет                 0.0   \n",
       "\n",
       "      nonrefundable_support  budget               financing_source  ratings  \\\n",
       "4639                    0.0     0.0  нет государственной поддержки      7.6   \n",
       "5068                    0.0     0.0  нет государственной поддержки      6.8   \n",
       "\n",
       "                       genres  box_office  \n",
       "4639  драма,мелодрама,история         NaN  \n",
       "5068         комедия,криминал         NaN  "
      ]
     },
     "execution_count": 22,
     "metadata": {},
     "output_type": "execute_result"
    }
   ],
   "source": [
    "df[df['puNumber'].duplicated()]"
   ]
  },
  {
   "cell_type": "code",
   "execution_count": 23,
   "metadata": {},
   "outputs": [
    {
     "data": {
      "text/html": [
       "<div>\n",
       "<style scoped>\n",
       "    .dataframe tbody tr th:only-of-type {\n",
       "        vertical-align: middle;\n",
       "    }\n",
       "\n",
       "    .dataframe tbody tr th {\n",
       "        vertical-align: top;\n",
       "    }\n",
       "\n",
       "    .dataframe thead th {\n",
       "        text-align: right;\n",
       "    }\n",
       "</style>\n",
       "<table border=\"1\" class=\"dataframe\">\n",
       "  <thead>\n",
       "    <tr style=\"text-align: right;\">\n",
       "      <th></th>\n",
       "      <th>title</th>\n",
       "      <th>puNumber</th>\n",
       "      <th>show_start_date</th>\n",
       "      <th>type</th>\n",
       "      <th>film_studio</th>\n",
       "      <th>production_country</th>\n",
       "      <th>director</th>\n",
       "      <th>producer</th>\n",
       "      <th>age_restriction</th>\n",
       "      <th>refundable_support</th>\n",
       "      <th>nonrefundable_support</th>\n",
       "      <th>budget</th>\n",
       "      <th>financing_source</th>\n",
       "      <th>ratings</th>\n",
       "      <th>genres</th>\n",
       "      <th>box_office</th>\n",
       "    </tr>\n",
       "  </thead>\n",
       "  <tbody>\n",
       "    <tr>\n",
       "      <th>4638</th>\n",
       "      <td>Как жениться и остаться холостым</td>\n",
       "      <td>221154310</td>\n",
       "      <td>2010-12-17 12:00:00</td>\n",
       "      <td>Художественный</td>\n",
       "      <td>Ше Вам, Скрипт Ассосье, Тэ Фэ 1 Фильм Продюксь...</td>\n",
       "      <td>Франция</td>\n",
       "      <td>Эрик Лартиго</td>\n",
       "      <td>Амандин Било, Алан Шаба</td>\n",
       "      <td>«16+» - для детей старше 16 лет</td>\n",
       "      <td>0.0</td>\n",
       "      <td>0.0</td>\n",
       "      <td>0.0</td>\n",
       "      <td>нет государственной поддержки</td>\n",
       "      <td>7.0</td>\n",
       "      <td>мелодрама,комедия</td>\n",
       "      <td>NaN</td>\n",
       "    </tr>\n",
       "    <tr>\n",
       "      <th>4639</th>\n",
       "      <td>Иоанна - женщина на папском престоле /По роман...</td>\n",
       "      <td>221154310</td>\n",
       "      <td>2010-12-17 12:00:00</td>\n",
       "      <td>Художественный</td>\n",
       "      <td>Константин Фильм, А Эр Ди Дегето Фильм, Дюне ...</td>\n",
       "      <td>Германия - Великобритания - Италия - Испания</td>\n",
       "      <td>Зенке Вортманн</td>\n",
       "      <td>Оливер Бербен, Дорис Д.Хайнце, Фарук Элтан</td>\n",
       "      <td>«16+» - для детей старше 16 лет</td>\n",
       "      <td>0.0</td>\n",
       "      <td>0.0</td>\n",
       "      <td>0.0</td>\n",
       "      <td>нет государственной поддержки</td>\n",
       "      <td>7.6</td>\n",
       "      <td>драма,мелодрама,история</td>\n",
       "      <td>NaN</td>\n",
       "    </tr>\n",
       "  </tbody>\n",
       "</table>\n",
       "</div>"
      ],
      "text/plain": [
       "                                                  title   puNumber  \\\n",
       "4638                   Как жениться и остаться холостым  221154310   \n",
       "4639  Иоанна - женщина на папском престоле /По роман...  221154310   \n",
       "\n",
       "         show_start_date            type  \\\n",
       "4638 2010-12-17 12:00:00  Художественный   \n",
       "4639 2010-12-17 12:00:00  Художественный   \n",
       "\n",
       "                                            film_studio  \\\n",
       "4638  Ше Вам, Скрипт Ассосье, Тэ Фэ 1 Фильм Продюксь...   \n",
       "4639   Константин Фильм, А Эр Ди Дегето Фильм, Дюне ...   \n",
       "\n",
       "                                production_country        director  \\\n",
       "4638                                       Франция    Эрик Лартиго   \n",
       "4639  Германия - Великобритания - Италия - Испания  Зенке Вортманн   \n",
       "\n",
       "                                        producer  \\\n",
       "4638                     Амандин Било, Алан Шаба   \n",
       "4639  Оливер Бербен, Дорис Д.Хайнце, Фарук Элтан   \n",
       "\n",
       "                      age_restriction  refundable_support  \\\n",
       "4638  «16+» - для детей старше 16 лет                 0.0   \n",
       "4639  «16+» - для детей старше 16 лет                 0.0   \n",
       "\n",
       "      nonrefundable_support  budget               financing_source  ratings  \\\n",
       "4638                    0.0     0.0  нет государственной поддержки      7.0   \n",
       "4639                    0.0     0.0  нет государственной поддержки      7.6   \n",
       "\n",
       "                       genres  box_office  \n",
       "4638        мелодрама,комедия         NaN  \n",
       "4639  драма,мелодрама,история         NaN  "
      ]
     },
     "metadata": {},
     "output_type": "display_data"
    },
    {
     "data": {
      "text/html": [
       "<div>\n",
       "<style scoped>\n",
       "    .dataframe tbody tr th:only-of-type {\n",
       "        vertical-align: middle;\n",
       "    }\n",
       "\n",
       "    .dataframe tbody tr th {\n",
       "        vertical-align: top;\n",
       "    }\n",
       "\n",
       "    .dataframe thead th {\n",
       "        text-align: right;\n",
       "    }\n",
       "</style>\n",
       "<table border=\"1\" class=\"dataframe\">\n",
       "  <thead>\n",
       "    <tr style=\"text-align: right;\">\n",
       "      <th></th>\n",
       "      <th>title</th>\n",
       "      <th>puNumber</th>\n",
       "      <th>show_start_date</th>\n",
       "      <th>type</th>\n",
       "      <th>film_studio</th>\n",
       "      <th>production_country</th>\n",
       "      <th>director</th>\n",
       "      <th>producer</th>\n",
       "      <th>age_restriction</th>\n",
       "      <th>refundable_support</th>\n",
       "      <th>nonrefundable_support</th>\n",
       "      <th>budget</th>\n",
       "      <th>financing_source</th>\n",
       "      <th>ratings</th>\n",
       "      <th>genres</th>\n",
       "      <th>box_office</th>\n",
       "    </tr>\n",
       "  </thead>\n",
       "  <tbody>\n",
       "    <tr>\n",
       "      <th>5067</th>\n",
       "      <td>Анализируй это!</td>\n",
       "      <td>221054410</td>\n",
       "      <td>2010-05-25 12:00:00</td>\n",
       "      <td>Художественный</td>\n",
       "      <td>Уорнер Бразерс, Вилладж Роудшоу Филмз ЛТД</td>\n",
       "      <td>США-Австралия</td>\n",
       "      <td>ХЭрольд Рэмис</td>\n",
       "      <td>Джейн Розенталь, Пола Уейнстейн</td>\n",
       "      <td>«16+» - для детей старше 16 лет</td>\n",
       "      <td>0.0</td>\n",
       "      <td>0.0</td>\n",
       "      <td>0.0</td>\n",
       "      <td>нет государственной поддержки</td>\n",
       "      <td>7.4</td>\n",
       "      <td>комедия,криминал</td>\n",
       "      <td>NaN</td>\n",
       "    </tr>\n",
       "    <tr>\n",
       "      <th>5068</th>\n",
       "      <td>Анализируй то!</td>\n",
       "      <td>221054410</td>\n",
       "      <td>2010-05-25 12:00:00</td>\n",
       "      <td>Художественный</td>\n",
       "      <td>Уорнер Бразерс, Виллидж Роадшоу Пикчерз, Эн-Пи...</td>\n",
       "      <td>США</td>\n",
       "      <td>Гарольд Реймис</td>\n",
       "      <td>Джейн Розенталь, Паул Уэйнстейн</td>\n",
       "      <td>«12+» - для детей старше 12 лет</td>\n",
       "      <td>0.0</td>\n",
       "      <td>0.0</td>\n",
       "      <td>0.0</td>\n",
       "      <td>нет государственной поддержки</td>\n",
       "      <td>6.8</td>\n",
       "      <td>комедия,криминал</td>\n",
       "      <td>NaN</td>\n",
       "    </tr>\n",
       "  </tbody>\n",
       "</table>\n",
       "</div>"
      ],
      "text/plain": [
       "                title   puNumber     show_start_date            type  \\\n",
       "5067  Анализируй это!  221054410 2010-05-25 12:00:00  Художественный   \n",
       "5068   Анализируй то!  221054410 2010-05-25 12:00:00  Художественный   \n",
       "\n",
       "                                            film_studio production_country  \\\n",
       "5067          Уорнер Бразерс, Вилладж Роудшоу Филмз ЛТД      США-Австралия   \n",
       "5068  Уорнер Бразерс, Виллидж Роадшоу Пикчерз, Эн-Пи...                США   \n",
       "\n",
       "            director                         producer  \\\n",
       "5067   ХЭрольд Рэмис  Джейн Розенталь, Пола Уейнстейн   \n",
       "5068  Гарольд Реймис  Джейн Розенталь, Паул Уэйнстейн   \n",
       "\n",
       "                      age_restriction  refundable_support  \\\n",
       "5067  «16+» - для детей старше 16 лет                 0.0   \n",
       "5068  «12+» - для детей старше 12 лет                 0.0   \n",
       "\n",
       "      nonrefundable_support  budget               financing_source  ratings  \\\n",
       "5067                    0.0     0.0  нет государственной поддержки      7.4   \n",
       "5068                    0.0     0.0  нет государственной поддержки      6.8   \n",
       "\n",
       "                genres  box_office  \n",
       "5067  комедия,криминал         NaN  \n",
       "5068  комедия,криминал         NaN  "
      ]
     },
     "execution_count": 23,
     "metadata": {},
     "output_type": "execute_result"
    }
   ],
   "source": [
    "display(df[df['puNumber'] == 221154310])\n",
    "df[df['puNumber'] == 221054410]"
   ]
  },
  {
   "cell_type": "markdown",
   "metadata": {},
   "source": [
    "У первых дубликатов разное название, жанры и другое, судя по всему это разные фильмы, но странно, что у них одинаковый номер прокатного удостоверения, возможно их показывают вместе.\n",
    "\n",
    "У вторых дубликатов названия отличаются на одну букву, по разному написано имя режиссера, указаны разные страны производства, разные возрастные ограничения и рейтинг, но одинаковая дата премьеры, жанры и другое. Это определенно один и тот же фильм, один из них необходимо удалить, оставим тот который встречается первый потому, что у него есть расширенная версия а второго нет."
   ]
  },
  {
   "cell_type": "code",
   "execution_count": 24,
   "metadata": {},
   "outputs": [
    {
     "data": {
      "text/html": [
       "<div>\n",
       "<style scoped>\n",
       "    .dataframe tbody tr th:only-of-type {\n",
       "        vertical-align: middle;\n",
       "    }\n",
       "\n",
       "    .dataframe tbody tr th {\n",
       "        vertical-align: top;\n",
       "    }\n",
       "\n",
       "    .dataframe thead th {\n",
       "        text-align: right;\n",
       "    }\n",
       "</style>\n",
       "<table border=\"1\" class=\"dataframe\">\n",
       "  <thead>\n",
       "    <tr style=\"text-align: right;\">\n",
       "      <th></th>\n",
       "      <th>title</th>\n",
       "      <th>puNumber</th>\n",
       "      <th>show_start_date</th>\n",
       "      <th>type</th>\n",
       "      <th>film_studio</th>\n",
       "      <th>production_country</th>\n",
       "      <th>director</th>\n",
       "      <th>producer</th>\n",
       "      <th>age_restriction</th>\n",
       "      <th>refundable_support</th>\n",
       "      <th>nonrefundable_support</th>\n",
       "      <th>budget</th>\n",
       "      <th>financing_source</th>\n",
       "      <th>ratings</th>\n",
       "      <th>genres</th>\n",
       "      <th>box_office</th>\n",
       "    </tr>\n",
       "  </thead>\n",
       "  <tbody>\n",
       "    <tr>\n",
       "      <th>4553</th>\n",
       "      <td>Анализируй это!</td>\n",
       "      <td>221147310</td>\n",
       "      <td>2010-12-15 12:00:00</td>\n",
       "      <td>Художественный</td>\n",
       "      <td>Уорнер Бразерс, Вилладж Роудшоу Филмз ЛТД</td>\n",
       "      <td>США-Австралия</td>\n",
       "      <td>ХЭрольд Рэмис</td>\n",
       "      <td>Джейн Розенталь, Пола Уейнстейн</td>\n",
       "      <td>«16+» - для детей старше 16 лет</td>\n",
       "      <td>0.0</td>\n",
       "      <td>0.0</td>\n",
       "      <td>0.0</td>\n",
       "      <td>нет государственной поддержки</td>\n",
       "      <td>7.4</td>\n",
       "      <td>комедия,криминал</td>\n",
       "      <td>NaN</td>\n",
       "    </tr>\n",
       "    <tr>\n",
       "      <th>5067</th>\n",
       "      <td>Анализируй это!</td>\n",
       "      <td>221054410</td>\n",
       "      <td>2010-05-25 12:00:00</td>\n",
       "      <td>Художественный</td>\n",
       "      <td>Уорнер Бразерс, Вилладж Роудшоу Филмз ЛТД</td>\n",
       "      <td>США-Австралия</td>\n",
       "      <td>ХЭрольд Рэмис</td>\n",
       "      <td>Джейн Розенталь, Пола Уейнстейн</td>\n",
       "      <td>«16+» - для детей старше 16 лет</td>\n",
       "      <td>0.0</td>\n",
       "      <td>0.0</td>\n",
       "      <td>0.0</td>\n",
       "      <td>нет государственной поддержки</td>\n",
       "      <td>7.4</td>\n",
       "      <td>комедия,криминал</td>\n",
       "      <td>NaN</td>\n",
       "    </tr>\n",
       "  </tbody>\n",
       "</table>\n",
       "</div>"
      ],
      "text/plain": [
       "                title   puNumber     show_start_date            type  \\\n",
       "4553  Анализируй это!  221147310 2010-12-15 12:00:00  Художественный   \n",
       "5067  Анализируй это!  221054410 2010-05-25 12:00:00  Художественный   \n",
       "\n",
       "                                    film_studio production_country  \\\n",
       "4553  Уорнер Бразерс, Вилладж Роудшоу Филмз ЛТД      США-Австралия   \n",
       "5067  Уорнер Бразерс, Вилладж Роудшоу Филмз ЛТД      США-Австралия   \n",
       "\n",
       "           director                         producer  \\\n",
       "4553  ХЭрольд Рэмис  Джейн Розенталь, Пола Уейнстейн   \n",
       "5067  ХЭрольд Рэмис  Джейн Розенталь, Пола Уейнстейн   \n",
       "\n",
       "                      age_restriction  refundable_support  \\\n",
       "4553  «16+» - для детей старше 16 лет                 0.0   \n",
       "5067  «16+» - для детей старше 16 лет                 0.0   \n",
       "\n",
       "      nonrefundable_support  budget               financing_source  ratings  \\\n",
       "4553                    0.0     0.0  нет государственной поддержки      7.4   \n",
       "5067                    0.0     0.0  нет государственной поддержки      7.4   \n",
       "\n",
       "                genres  box_office  \n",
       "4553  комедия,криминал         NaN  \n",
       "5067  комедия,криминал         NaN  "
      ]
     },
     "metadata": {},
     "output_type": "display_data"
    },
    {
     "data": {
      "text/html": [
       "<div>\n",
       "<style scoped>\n",
       "    .dataframe tbody tr th:only-of-type {\n",
       "        vertical-align: middle;\n",
       "    }\n",
       "\n",
       "    .dataframe tbody tr th {\n",
       "        vertical-align: top;\n",
       "    }\n",
       "\n",
       "    .dataframe thead th {\n",
       "        text-align: right;\n",
       "    }\n",
       "</style>\n",
       "<table border=\"1\" class=\"dataframe\">\n",
       "  <thead>\n",
       "    <tr style=\"text-align: right;\">\n",
       "      <th></th>\n",
       "      <th>title</th>\n",
       "      <th>puNumber</th>\n",
       "      <th>show_start_date</th>\n",
       "      <th>type</th>\n",
       "      <th>film_studio</th>\n",
       "      <th>production_country</th>\n",
       "      <th>director</th>\n",
       "      <th>producer</th>\n",
       "      <th>age_restriction</th>\n",
       "      <th>refundable_support</th>\n",
       "      <th>nonrefundable_support</th>\n",
       "      <th>budget</th>\n",
       "      <th>financing_source</th>\n",
       "      <th>ratings</th>\n",
       "      <th>genres</th>\n",
       "      <th>box_office</th>\n",
       "    </tr>\n",
       "  </thead>\n",
       "  <tbody>\n",
       "    <tr>\n",
       "      <th>5068</th>\n",
       "      <td>Анализируй то!</td>\n",
       "      <td>221054410</td>\n",
       "      <td>2010-05-25 12:00:00</td>\n",
       "      <td>Художественный</td>\n",
       "      <td>Уорнер Бразерс, Виллидж Роадшоу Пикчерз, Эн-Пи...</td>\n",
       "      <td>США</td>\n",
       "      <td>Гарольд Реймис</td>\n",
       "      <td>Джейн Розенталь, Паул Уэйнстейн</td>\n",
       "      <td>«12+» - для детей старше 12 лет</td>\n",
       "      <td>0.0</td>\n",
       "      <td>0.0</td>\n",
       "      <td>0.0</td>\n",
       "      <td>нет государственной поддержки</td>\n",
       "      <td>6.8</td>\n",
       "      <td>комедия,криминал</td>\n",
       "      <td>NaN</td>\n",
       "    </tr>\n",
       "  </tbody>\n",
       "</table>\n",
       "</div>"
      ],
      "text/plain": [
       "               title   puNumber     show_start_date            type  \\\n",
       "5068  Анализируй то!  221054410 2010-05-25 12:00:00  Художественный   \n",
       "\n",
       "                                            film_studio production_country  \\\n",
       "5068  Уорнер Бразерс, Виллидж Роадшоу Пикчерз, Эн-Пи...                США   \n",
       "\n",
       "            director                         producer  \\\n",
       "5068  Гарольд Реймис  Джейн Розенталь, Паул Уэйнстейн   \n",
       "\n",
       "                      age_restriction  refundable_support  \\\n",
       "5068  «12+» - для детей старше 12 лет                 0.0   \n",
       "\n",
       "      nonrefundable_support  budget               financing_source  ratings  \\\n",
       "5068                    0.0     0.0  нет государственной поддержки      6.8   \n",
       "\n",
       "                genres  box_office  \n",
       "5068  комедия,криминал         NaN  "
      ]
     },
     "execution_count": 24,
     "metadata": {},
     "output_type": "execute_result"
    }
   ],
   "source": [
    "display(df[df['title'] == 'Анализируй это!'])\n",
    "df[df['title'] == 'Анализируй то!']"
   ]
  },
  {
   "cell_type": "code",
   "execution_count": 25,
   "metadata": {},
   "outputs": [],
   "source": [
    "df = df.loc[df['title'] != 'Анализируй то!']"
   ]
  },
  {
   "cell_type": "markdown",
   "metadata": {},
   "source": [
    "Как и ожидалось у всех фильмов с одинаковыми названиями разные даты выхода и номер прокатного удостоверения. Это значит, что это разные фильмы, например один является расширенной версией другого. А вот один из двух дубликатов в столбце *puNumber* оказался одним и тем же фильмом."
   ]
  },
  {
   "cell_type": "markdown",
   "metadata": {
    "id": "52fOPrEBgFyQ"
   },
   "source": [
    "#### Шаг 2.4. Изучите категориальные значения\n",
    "\n",
    "- Посмотрите, какая общая проблема встречается почти во всех категориальных столбцах;\n",
    "- Исправьте проблемные значения в поле `type`.\n"
   ]
  },
  {
   "cell_type": "markdown",
   "metadata": {},
   "source": [
    "В столбце *type* необходимо убрать пробелы перед некоторыми значениями.\n",
    "\n",
    "В столбце *production_country*, где указано сразу несколько стран, некоторые страны записаны через запятую, а некоторые через тире, некоторые через пробел, а некоторые нет, также встречаются одинаковые страны, но в разном порядке например 'США - Великобритания' и 'Великобритания - США'.\n",
    "\n",
    "В столбце *age_restriction* всё хорошо.\n",
    "\n",
    "В столбце *financing_source* всё хорошо.\n",
    "\n",
    "В столбце *genres* встречаются одинаковые жанры, записанные в разном порядке."
   ]
  },
  {
   "cell_type": "code",
   "execution_count": 26,
   "metadata": {},
   "outputs": [],
   "source": [
    "df['type'] = df['type'].str.replace(' ', '')\n",
    "df['production_country'] = df['production_country'].str.replace('-', ',')\n",
    "df['production_country'] = df['production_country'].str.replace(' ', '')\n"
   ]
  },
  {
   "cell_type": "markdown",
   "metadata": {},
   "source": [
    "В столбце *type* мы убрали пробелы.\n",
    "\n",
    "В столбце *production_country* мы заменили дефисы на запятые и также убрали пробелы.\n",
    "\n",
    "Тем самым мы избавились от неявных дублей в этих столбцах.\n",
    "\n",
    "В некоторых столбцах, встречаются строки с одинаковым значением, записанным в разных порядках. Первое указанное значение в таких строках является основным, поэтому местами менять их не надо."
   ]
  },
  {
   "cell_type": "markdown",
   "metadata": {
    "id": "XFSN5lrEgFyR"
   },
   "source": [
    "#### Шаг 2.5. Проверьте количественные значения\n",
    "\n",
    "- Проверьте, обнаружились ли в таких столбцах подозрительные данные. Как с такими данными лучше поступить?\n"
   ]
  },
  {
   "cell_type": "markdown",
   "metadata": {},
   "source": [
    "Проверим количественные значения.\n",
    "\n",
    "Обратим внимание на столбцы *budget, refundable_support, nonrefundable_support*. В столбце *budget* общий бюджет фильма, значит он не может быть меньше суммы государственной поддержки."
   ]
  },
  {
   "cell_type": "code",
   "execution_count": 27,
   "metadata": {
    "id": "YbzClBxagFyS"
   },
   "outputs": [
    {
     "name": "stdout",
     "output_type": "stream",
     "text": [
      "17\n"
     ]
    },
    {
     "data": {
      "text/html": [
       "<div>\n",
       "<style scoped>\n",
       "    .dataframe tbody tr th:only-of-type {\n",
       "        vertical-align: middle;\n",
       "    }\n",
       "\n",
       "    .dataframe tbody tr th {\n",
       "        vertical-align: top;\n",
       "    }\n",
       "\n",
       "    .dataframe thead th {\n",
       "        text-align: right;\n",
       "    }\n",
       "</style>\n",
       "<table border=\"1\" class=\"dataframe\">\n",
       "  <thead>\n",
       "    <tr style=\"text-align: right;\">\n",
       "      <th></th>\n",
       "      <th>title</th>\n",
       "      <th>puNumber</th>\n",
       "      <th>show_start_date</th>\n",
       "      <th>type</th>\n",
       "      <th>film_studio</th>\n",
       "      <th>production_country</th>\n",
       "      <th>director</th>\n",
       "      <th>producer</th>\n",
       "      <th>age_restriction</th>\n",
       "      <th>refundable_support</th>\n",
       "      <th>nonrefundable_support</th>\n",
       "      <th>budget</th>\n",
       "      <th>financing_source</th>\n",
       "      <th>ratings</th>\n",
       "      <th>genres</th>\n",
       "      <th>box_office</th>\n",
       "    </tr>\n",
       "  </thead>\n",
       "  <tbody>\n",
       "    <tr>\n",
       "      <th>2053</th>\n",
       "      <td>14+</td>\n",
       "      <td>111023614</td>\n",
       "      <td>2014-12-19 12:00:00</td>\n",
       "      <td>Художественный</td>\n",
       "      <td>ООО Киностудия  \"Сентябрь\"</td>\n",
       "      <td>Россия</td>\n",
       "      <td>А.Зайцев</td>\n",
       "      <td>О.Гранина, А.Зайцев</td>\n",
       "      <td>«16+» - для детей старше 16 лет</td>\n",
       "      <td>0.0</td>\n",
       "      <td>23000000.0</td>\n",
       "      <td>0.0</td>\n",
       "      <td>Министерство культуры, Фонд кино</td>\n",
       "      <td>6.6</td>\n",
       "      <td>мелодрама</td>\n",
       "      <td>10234016.1</td>\n",
       "    </tr>\n",
       "    <tr>\n",
       "      <th>2058</th>\n",
       "      <td>Дуxless 2</td>\n",
       "      <td>111000415</td>\n",
       "      <td>2015-01-26 12:00:00</td>\n",
       "      <td>Художественный</td>\n",
       "      <td>ООО \"Киностудия \"Слово\", ООО \"Арт Пикчерс Студия\"</td>\n",
       "      <td>Россия</td>\n",
       "      <td>Р.Прыгунов</td>\n",
       "      <td>П.Ануров, Ф.Бондарчук, Д.Рудовский</td>\n",
       "      <td>«16+» - для детей старше 16 лет</td>\n",
       "      <td>0.0</td>\n",
       "      <td>75000000.0</td>\n",
       "      <td>0.0</td>\n",
       "      <td>Фонд кино</td>\n",
       "      <td>6.6</td>\n",
       "      <td>драма</td>\n",
       "      <td>446163511.0</td>\n",
       "    </tr>\n",
       "    <tr>\n",
       "      <th>2472</th>\n",
       "      <td>Воин (2015)</td>\n",
       "      <td>111017315</td>\n",
       "      <td>2015-09-28 12:00:00</td>\n",
       "      <td>Художественный</td>\n",
       "      <td>ООО \"Форпост Продакшн\", ООО \"Арт Пикчерс Студия\"</td>\n",
       "      <td>Россия</td>\n",
       "      <td>А.Андрианов</td>\n",
       "      <td>ООО \"Арт Пикчерс Студия\"</td>\n",
       "      <td>«12+» - для детей старше 12 лет</td>\n",
       "      <td>10000000.0</td>\n",
       "      <td>70000000.0</td>\n",
       "      <td>0.0</td>\n",
       "      <td>Фонд кино</td>\n",
       "      <td>7.8</td>\n",
       "      <td>боевик,драма,криминал</td>\n",
       "      <td>196572438.4</td>\n",
       "    </tr>\n",
       "    <tr>\n",
       "      <th>2532</th>\n",
       "      <td>Бармен.</td>\n",
       "      <td>111009615</td>\n",
       "      <td>2015-05-26 12:00:00</td>\n",
       "      <td>Художественный</td>\n",
       "      <td>АО \"ВайТ Медиа\", ООО \"Арт Пикчерс Студия\"</td>\n",
       "      <td>Россия</td>\n",
       "      <td>Д.Штурманова</td>\n",
       "      <td>Т.Вайнштейн</td>\n",
       "      <td>«16+» - для детей старше 16 лет</td>\n",
       "      <td>20000000.0</td>\n",
       "      <td>0.0</td>\n",
       "      <td>0.0</td>\n",
       "      <td>Фонд кино</td>\n",
       "      <td>6.2</td>\n",
       "      <td>комедия,фэнтези</td>\n",
       "      <td>67418974.8</td>\n",
       "    </tr>\n",
       "    <tr>\n",
       "      <th>2615</th>\n",
       "      <td>Савва. Сердце воина</td>\n",
       "      <td>114001715</td>\n",
       "      <td>2015-07-21 12:00:00</td>\n",
       "      <td>Анимационный</td>\n",
       "      <td>ООО \"Глюкоза Продакшн\", ООО \"Арт Пикчерс Студия\"</td>\n",
       "      <td>Россия</td>\n",
       "      <td>М.Фадеев</td>\n",
       "      <td>А.Чистяков</td>\n",
       "      <td>«6+» - для детей старше 6 лет</td>\n",
       "      <td>60000000.0</td>\n",
       "      <td>100000000.0</td>\n",
       "      <td>0.0</td>\n",
       "      <td>Фонд кино</td>\n",
       "      <td>4.6</td>\n",
       "      <td>мультфильм,приключения,фэнтези</td>\n",
       "      <td>184487551.4</td>\n",
       "    </tr>\n",
       "  </tbody>\n",
       "</table>\n",
       "</div>"
      ],
      "text/plain": [
       "                    title   puNumber     show_start_date            type  \\\n",
       "2053                  14+  111023614 2014-12-19 12:00:00  Художественный   \n",
       "2058            Дуxless 2  111000415 2015-01-26 12:00:00  Художественный   \n",
       "2472          Воин (2015)  111017315 2015-09-28 12:00:00  Художественный   \n",
       "2532              Бармен.  111009615 2015-05-26 12:00:00  Художественный   \n",
       "2615  Савва. Сердце воина  114001715 2015-07-21 12:00:00    Анимационный   \n",
       "\n",
       "                                            film_studio production_country  \\\n",
       "2053                         ООО Киностудия  \"Сентябрь\"             Россия   \n",
       "2058  ООО \"Киностудия \"Слово\", ООО \"Арт Пикчерс Студия\"             Россия   \n",
       "2472   ООО \"Форпост Продакшн\", ООО \"Арт Пикчерс Студия\"             Россия   \n",
       "2532          АО \"ВайТ Медиа\", ООО \"Арт Пикчерс Студия\"             Россия   \n",
       "2615   ООО \"Глюкоза Продакшн\", ООО \"Арт Пикчерс Студия\"             Россия   \n",
       "\n",
       "          director                            producer  \\\n",
       "2053      А.Зайцев                 О.Гранина, А.Зайцев   \n",
       "2058    Р.Прыгунов  П.Ануров, Ф.Бондарчук, Д.Рудовский   \n",
       "2472   А.Андрианов            ООО \"Арт Пикчерс Студия\"   \n",
       "2532  Д.Штурманова                         Т.Вайнштейн   \n",
       "2615      М.Фадеев                          А.Чистяков   \n",
       "\n",
       "                      age_restriction  refundable_support  \\\n",
       "2053  «16+» - для детей старше 16 лет                 0.0   \n",
       "2058  «16+» - для детей старше 16 лет                 0.0   \n",
       "2472  «12+» - для детей старше 12 лет          10000000.0   \n",
       "2532  «16+» - для детей старше 16 лет          20000000.0   \n",
       "2615    «6+» - для детей старше 6 лет          60000000.0   \n",
       "\n",
       "      nonrefundable_support  budget                  financing_source  \\\n",
       "2053             23000000.0     0.0  Министерство культуры, Фонд кино   \n",
       "2058             75000000.0     0.0                         Фонд кино   \n",
       "2472             70000000.0     0.0                         Фонд кино   \n",
       "2532                    0.0     0.0                         Фонд кино   \n",
       "2615            100000000.0     0.0                         Фонд кино   \n",
       "\n",
       "      ratings                          genres   box_office  \n",
       "2053      6.6                       мелодрама   10234016.1  \n",
       "2058      6.6                           драма  446163511.0  \n",
       "2472      7.8           боевик,драма,криминал  196572438.4  \n",
       "2532      6.2                 комедия,фэнтези   67418974.8  \n",
       "2615      4.6  мультфильм,приключения,фэнтези  184487551.4  "
      ]
     },
     "execution_count": 27,
     "metadata": {},
     "output_type": "execute_result"
    }
   ],
   "source": [
    "print((df['budget'] < (df['refundable_support'] + df['nonrefundable_support'])).sum())\n",
    "df[df['budget'] < (df['refundable_support'] + df['nonrefundable_support'])].head()"
   ]
  },
  {
   "cell_type": "markdown",
   "metadata": {},
   "source": [
    "Строк, где бюджет меньше суммы государственной поддержки 17. Заменим значение бюджета в этих строках на сумму государственной поддержки."
   ]
  },
  {
   "cell_type": "code",
   "execution_count": 28,
   "metadata": {},
   "outputs": [],
   "source": [
    "df.loc[df['budget'] < (df['refundable_support'] + df['nonrefundable_support']),\n",
    "       'budget'] = df['refundable_support'] + df['nonrefundable_support']"
   ]
  },
  {
   "cell_type": "markdown",
   "metadata": {},
   "source": [
    "В таких строках бюджет был равен 0, возможно имелся ввиду собственный бюджет."
   ]
  },
  {
   "cell_type": "markdown",
   "metadata": {
    "id": "Eu6oWp2CgFyS"
   },
   "source": [
    "#### Шаг 2.6. Добавьте новые столбцы\n",
    "\n",
    "\n",
    "\n"
   ]
  },
  {
   "cell_type": "markdown",
   "metadata": {
    "id": "7GgW-UpAgFyS"
   },
   "source": [
    "- Создайте столбец с информацией о годе проката. Выделите год из даты премьеры фильма."
   ]
  },
  {
   "cell_type": "code",
   "execution_count": 29,
   "metadata": {
    "id": "I-yd1DkWgFyT"
   },
   "outputs": [],
   "source": [
    "df['year'] = df['show_start_date'].dt.year"
   ]
  },
  {
   "cell_type": "code",
   "execution_count": 30,
   "metadata": {},
   "outputs": [
    {
     "data": {
      "text/html": [
       "<div>\n",
       "<style scoped>\n",
       "    .dataframe tbody tr th:only-of-type {\n",
       "        vertical-align: middle;\n",
       "    }\n",
       "\n",
       "    .dataframe tbody tr th {\n",
       "        vertical-align: top;\n",
       "    }\n",
       "\n",
       "    .dataframe thead th {\n",
       "        text-align: right;\n",
       "    }\n",
       "</style>\n",
       "<table border=\"1\" class=\"dataframe\">\n",
       "  <thead>\n",
       "    <tr style=\"text-align: right;\">\n",
       "      <th></th>\n",
       "      <th>title</th>\n",
       "      <th>puNumber</th>\n",
       "      <th>show_start_date</th>\n",
       "      <th>type</th>\n",
       "      <th>film_studio</th>\n",
       "      <th>production_country</th>\n",
       "      <th>director</th>\n",
       "      <th>producer</th>\n",
       "      <th>age_restriction</th>\n",
       "      <th>refundable_support</th>\n",
       "      <th>nonrefundable_support</th>\n",
       "      <th>budget</th>\n",
       "      <th>financing_source</th>\n",
       "      <th>ratings</th>\n",
       "      <th>genres</th>\n",
       "      <th>box_office</th>\n",
       "      <th>year</th>\n",
       "    </tr>\n",
       "  </thead>\n",
       "  <tbody>\n",
       "    <tr>\n",
       "      <th>0</th>\n",
       "      <td>Открытый простор</td>\n",
       "      <td>221048915</td>\n",
       "      <td>2015-11-27 12:00:00</td>\n",
       "      <td>Художественный</td>\n",
       "      <td>Тачстоун Пикчерз, Кобальт Пикчерз, Бикон Пикче...</td>\n",
       "      <td>США</td>\n",
       "      <td>Кевин Костнер</td>\n",
       "      <td>Дэвид Валдес, Кевин Костнер, Джейк Эбертс</td>\n",
       "      <td>«18+» - запрещено для детей</td>\n",
       "      <td>0.0</td>\n",
       "      <td>0.0</td>\n",
       "      <td>0.0</td>\n",
       "      <td>нет государственной поддержки</td>\n",
       "      <td>7.2</td>\n",
       "      <td>боевик,драма,мелодрама</td>\n",
       "      <td>NaN</td>\n",
       "      <td>2015</td>\n",
       "    </tr>\n",
       "    <tr>\n",
       "      <th>1</th>\n",
       "      <td>Особо важное задание</td>\n",
       "      <td>111013716</td>\n",
       "      <td>2016-09-13 12:00:00</td>\n",
       "      <td>Художественный</td>\n",
       "      <td>Киностудия \"Мосфильм\"</td>\n",
       "      <td>СССР</td>\n",
       "      <td>Е.Матвеев</td>\n",
       "      <td>Е.Матвеев</td>\n",
       "      <td>«6+» - для детей старше 6 лет</td>\n",
       "      <td>0.0</td>\n",
       "      <td>0.0</td>\n",
       "      <td>0.0</td>\n",
       "      <td>нет государственной поддержки</td>\n",
       "      <td>6.6</td>\n",
       "      <td>драма,военный</td>\n",
       "      <td>NaN</td>\n",
       "      <td>2016</td>\n",
       "    </tr>\n",
       "    <tr>\n",
       "      <th>2</th>\n",
       "      <td>Особо опасен</td>\n",
       "      <td>221038416</td>\n",
       "      <td>2016-10-10 12:00:00</td>\n",
       "      <td>Художественный</td>\n",
       "      <td>Юниверсал Пикчерз, Кикстарт Продакшнз, Марк Пл...</td>\n",
       "      <td>США</td>\n",
       "      <td>Тимур Бекмамбетов</td>\n",
       "      <td>Джим Лемли, Джейсон Нетер, Марк Е.Платт, Яйн Смит</td>\n",
       "      <td>«18+» - запрещено для детей</td>\n",
       "      <td>0.0</td>\n",
       "      <td>0.0</td>\n",
       "      <td>0.0</td>\n",
       "      <td>нет государственной поддержки</td>\n",
       "      <td>6.8</td>\n",
       "      <td>фантастика,боевик,триллер</td>\n",
       "      <td>NaN</td>\n",
       "      <td>2016</td>\n",
       "    </tr>\n",
       "    <tr>\n",
       "      <th>3</th>\n",
       "      <td>Особо опасен</td>\n",
       "      <td>221026916</td>\n",
       "      <td>2016-06-10 12:00:00</td>\n",
       "      <td>Художественный</td>\n",
       "      <td>Юниверсал Пикчерз, Кикстарт Продакшнз, Марк Пл...</td>\n",
       "      <td>США</td>\n",
       "      <td>Тимур Бекмамбетов</td>\n",
       "      <td>Джим Лемли, Джейсон Нетер, Марк Е.Платт, Яйн Смит</td>\n",
       "      <td>«18+» - запрещено для детей</td>\n",
       "      <td>0.0</td>\n",
       "      <td>0.0</td>\n",
       "      <td>0.0</td>\n",
       "      <td>нет государственной поддержки</td>\n",
       "      <td>6.8</td>\n",
       "      <td>фантастика,боевик,триллер</td>\n",
       "      <td>NaN</td>\n",
       "      <td>2016</td>\n",
       "    </tr>\n",
       "    <tr>\n",
       "      <th>4</th>\n",
       "      <td>Особо опасен</td>\n",
       "      <td>221030815</td>\n",
       "      <td>2015-07-29 12:00:00</td>\n",
       "      <td>Художественный</td>\n",
       "      <td>Юниверсал Пикчерз, Кикстарт Продакшнз, Марк Пл...</td>\n",
       "      <td>США</td>\n",
       "      <td>Тимур Бекмамбетов</td>\n",
       "      <td>Джим Лемли, Джейсон Нетер, Марк Е.Платт, Яйн Смит</td>\n",
       "      <td>«18+» - запрещено для детей</td>\n",
       "      <td>0.0</td>\n",
       "      <td>0.0</td>\n",
       "      <td>0.0</td>\n",
       "      <td>нет государственной поддержки</td>\n",
       "      <td>6.8</td>\n",
       "      <td>фантастика,боевик,триллер</td>\n",
       "      <td>NaN</td>\n",
       "      <td>2015</td>\n",
       "    </tr>\n",
       "  </tbody>\n",
       "</table>\n",
       "</div>"
      ],
      "text/plain": [
       "                  title   puNumber     show_start_date            type  \\\n",
       "0      Открытый простор  221048915 2015-11-27 12:00:00  Художественный   \n",
       "1  Особо важное задание  111013716 2016-09-13 12:00:00  Художественный   \n",
       "2          Особо опасен  221038416 2016-10-10 12:00:00  Художественный   \n",
       "3          Особо опасен  221026916 2016-06-10 12:00:00  Художественный   \n",
       "4          Особо опасен  221030815 2015-07-29 12:00:00  Художественный   \n",
       "\n",
       "                                         film_studio production_country  \\\n",
       "0  Тачстоун Пикчерз, Кобальт Пикчерз, Бикон Пикче...                США   \n",
       "1                              Киностудия \"Мосфильм\"               СССР   \n",
       "2  Юниверсал Пикчерз, Кикстарт Продакшнз, Марк Пл...                США   \n",
       "3  Юниверсал Пикчерз, Кикстарт Продакшнз, Марк Пл...                США   \n",
       "4  Юниверсал Пикчерз, Кикстарт Продакшнз, Марк Пл...                США   \n",
       "\n",
       "            director                                           producer  \\\n",
       "0      Кевин Костнер          Дэвид Валдес, Кевин Костнер, Джейк Эбертс   \n",
       "1          Е.Матвеев                                          Е.Матвеев   \n",
       "2  Тимур Бекмамбетов  Джим Лемли, Джейсон Нетер, Марк Е.Платт, Яйн Смит   \n",
       "3  Тимур Бекмамбетов  Джим Лемли, Джейсон Нетер, Марк Е.Платт, Яйн Смит   \n",
       "4  Тимур Бекмамбетов  Джим Лемли, Джейсон Нетер, Марк Е.Платт, Яйн Смит   \n",
       "\n",
       "                 age_restriction  refundable_support  nonrefundable_support  \\\n",
       "0    «18+» - запрещено для детей                 0.0                    0.0   \n",
       "1  «6+» - для детей старше 6 лет                 0.0                    0.0   \n",
       "2    «18+» - запрещено для детей                 0.0                    0.0   \n",
       "3    «18+» - запрещено для детей                 0.0                    0.0   \n",
       "4    «18+» - запрещено для детей                 0.0                    0.0   \n",
       "\n",
       "   budget               financing_source  ratings                     genres  \\\n",
       "0     0.0  нет государственной поддержки      7.2     боевик,драма,мелодрама   \n",
       "1     0.0  нет государственной поддержки      6.6              драма,военный   \n",
       "2     0.0  нет государственной поддержки      6.8  фантастика,боевик,триллер   \n",
       "3     0.0  нет государственной поддержки      6.8  фантастика,боевик,триллер   \n",
       "4     0.0  нет государственной поддержки      6.8  фантастика,боевик,триллер   \n",
       "\n",
       "   box_office  year  \n",
       "0         NaN  2015  \n",
       "1         NaN  2016  \n",
       "2         NaN  2016  \n",
       "3         NaN  2016  \n",
       "4         NaN  2015  "
      ]
     },
     "execution_count": 30,
     "metadata": {},
     "output_type": "execute_result"
    }
   ],
   "source": [
    "df.head()"
   ]
  },
  {
   "cell_type": "markdown",
   "metadata": {
    "id": "nFTDLDYOgFyT"
   },
   "source": [
    "- Создайте два столбца: с именем и фамилией главного режиссёра и основным жанром фильма. В столбцы войдут первые значения из списка режиссёров и жанров соответственно.\n"
   ]
  },
  {
   "cell_type": "code",
   "execution_count": 31,
   "metadata": {},
   "outputs": [
    {
     "name": "stderr",
     "output_type": "stream",
     "text": [
      "C:\\Users\\User\\AppData\\Local\\Temp\\ipykernel_10668\\2078479220.py:6: SettingWithCopyWarning: \n",
      "A value is trying to be set on a copy of a slice from a DataFrame\n",
      "\n",
      "See the caveats in the documentation: https://pandas.pydata.org/pandas-docs/stable/user_guide/indexing.html#returning-a-view-versus-a-copy\n",
      "  df['head_director'].iloc[i] = item[0]\n",
      "C:\\Users\\User\\AppData\\Local\\Temp\\ipykernel_10668\\2078479220.py:6: FutureWarning: Setting an item of incompatible dtype is deprecated and will raise in a future error of pandas. Value 'Кевин Костнер' has dtype incompatible with int64, please explicitly cast to a compatible dtype first.\n",
      "  df['head_director'].iloc[i] = item[0]\n",
      "C:\\Users\\User\\AppData\\Local\\Temp\\ipykernel_10668\\2078479220.py:10: SettingWithCopyWarning: \n",
      "A value is trying to be set on a copy of a slice from a DataFrame\n",
      "\n",
      "See the caveats in the documentation: https://pandas.pydata.org/pandas-docs/stable/user_guide/indexing.html#returning-a-view-versus-a-copy\n",
      "  df['main_genre'].iloc[i] = item[0]\n",
      "C:\\Users\\User\\AppData\\Local\\Temp\\ipykernel_10668\\2078479220.py:10: FutureWarning: Setting an item of incompatible dtype is deprecated and will raise in a future error of pandas. Value 'боевик' has dtype incompatible with int64, please explicitly cast to a compatible dtype first.\n",
      "  df['main_genre'].iloc[i] = item[0]\n"
     ]
    },
    {
     "data": {
      "text/html": [
       "<div>\n",
       "<style scoped>\n",
       "    .dataframe tbody tr th:only-of-type {\n",
       "        vertical-align: middle;\n",
       "    }\n",
       "\n",
       "    .dataframe tbody tr th {\n",
       "        vertical-align: top;\n",
       "    }\n",
       "\n",
       "    .dataframe thead th {\n",
       "        text-align: right;\n",
       "    }\n",
       "</style>\n",
       "<table border=\"1\" class=\"dataframe\">\n",
       "  <thead>\n",
       "    <tr style=\"text-align: right;\">\n",
       "      <th></th>\n",
       "      <th>title</th>\n",
       "      <th>puNumber</th>\n",
       "      <th>show_start_date</th>\n",
       "      <th>type</th>\n",
       "      <th>film_studio</th>\n",
       "      <th>production_country</th>\n",
       "      <th>director</th>\n",
       "      <th>producer</th>\n",
       "      <th>age_restriction</th>\n",
       "      <th>refundable_support</th>\n",
       "      <th>nonrefundable_support</th>\n",
       "      <th>budget</th>\n",
       "      <th>financing_source</th>\n",
       "      <th>ratings</th>\n",
       "      <th>genres</th>\n",
       "      <th>box_office</th>\n",
       "      <th>year</th>\n",
       "      <th>head_director</th>\n",
       "      <th>main_genre</th>\n",
       "    </tr>\n",
       "  </thead>\n",
       "  <tbody>\n",
       "    <tr>\n",
       "      <th>0</th>\n",
       "      <td>Открытый простор</td>\n",
       "      <td>221048915</td>\n",
       "      <td>2015-11-27 12:00:00</td>\n",
       "      <td>Художественный</td>\n",
       "      <td>Тачстоун Пикчерз, Кобальт Пикчерз, Бикон Пикче...</td>\n",
       "      <td>США</td>\n",
       "      <td>Кевин Костнер</td>\n",
       "      <td>Дэвид Валдес, Кевин Костнер, Джейк Эбертс</td>\n",
       "      <td>«18+» - запрещено для детей</td>\n",
       "      <td>0.0</td>\n",
       "      <td>0.0</td>\n",
       "      <td>0.0</td>\n",
       "      <td>нет государственной поддержки</td>\n",
       "      <td>7.2</td>\n",
       "      <td>боевик,драма,мелодрама</td>\n",
       "      <td>NaN</td>\n",
       "      <td>2015</td>\n",
       "      <td>Кевин Костнер</td>\n",
       "      <td>боевик</td>\n",
       "    </tr>\n",
       "    <tr>\n",
       "      <th>1</th>\n",
       "      <td>Особо важное задание</td>\n",
       "      <td>111013716</td>\n",
       "      <td>2016-09-13 12:00:00</td>\n",
       "      <td>Художественный</td>\n",
       "      <td>Киностудия \"Мосфильм\"</td>\n",
       "      <td>СССР</td>\n",
       "      <td>Е.Матвеев</td>\n",
       "      <td>Е.Матвеев</td>\n",
       "      <td>«6+» - для детей старше 6 лет</td>\n",
       "      <td>0.0</td>\n",
       "      <td>0.0</td>\n",
       "      <td>0.0</td>\n",
       "      <td>нет государственной поддержки</td>\n",
       "      <td>6.6</td>\n",
       "      <td>драма,военный</td>\n",
       "      <td>NaN</td>\n",
       "      <td>2016</td>\n",
       "      <td>Е.Матвеев</td>\n",
       "      <td>драма</td>\n",
       "    </tr>\n",
       "    <tr>\n",
       "      <th>2</th>\n",
       "      <td>Особо опасен</td>\n",
       "      <td>221038416</td>\n",
       "      <td>2016-10-10 12:00:00</td>\n",
       "      <td>Художественный</td>\n",
       "      <td>Юниверсал Пикчерз, Кикстарт Продакшнз, Марк Пл...</td>\n",
       "      <td>США</td>\n",
       "      <td>Тимур Бекмамбетов</td>\n",
       "      <td>Джим Лемли, Джейсон Нетер, Марк Е.Платт, Яйн Смит</td>\n",
       "      <td>«18+» - запрещено для детей</td>\n",
       "      <td>0.0</td>\n",
       "      <td>0.0</td>\n",
       "      <td>0.0</td>\n",
       "      <td>нет государственной поддержки</td>\n",
       "      <td>6.8</td>\n",
       "      <td>фантастика,боевик,триллер</td>\n",
       "      <td>NaN</td>\n",
       "      <td>2016</td>\n",
       "      <td>Тимур Бекмамбетов</td>\n",
       "      <td>фантастика</td>\n",
       "    </tr>\n",
       "    <tr>\n",
       "      <th>3</th>\n",
       "      <td>Особо опасен</td>\n",
       "      <td>221026916</td>\n",
       "      <td>2016-06-10 12:00:00</td>\n",
       "      <td>Художественный</td>\n",
       "      <td>Юниверсал Пикчерз, Кикстарт Продакшнз, Марк Пл...</td>\n",
       "      <td>США</td>\n",
       "      <td>Тимур Бекмамбетов</td>\n",
       "      <td>Джим Лемли, Джейсон Нетер, Марк Е.Платт, Яйн Смит</td>\n",
       "      <td>«18+» - запрещено для детей</td>\n",
       "      <td>0.0</td>\n",
       "      <td>0.0</td>\n",
       "      <td>0.0</td>\n",
       "      <td>нет государственной поддержки</td>\n",
       "      <td>6.8</td>\n",
       "      <td>фантастика,боевик,триллер</td>\n",
       "      <td>NaN</td>\n",
       "      <td>2016</td>\n",
       "      <td>Тимур Бекмамбетов</td>\n",
       "      <td>фантастика</td>\n",
       "    </tr>\n",
       "    <tr>\n",
       "      <th>4</th>\n",
       "      <td>Особо опасен</td>\n",
       "      <td>221030815</td>\n",
       "      <td>2015-07-29 12:00:00</td>\n",
       "      <td>Художественный</td>\n",
       "      <td>Юниверсал Пикчерз, Кикстарт Продакшнз, Марк Пл...</td>\n",
       "      <td>США</td>\n",
       "      <td>Тимур Бекмамбетов</td>\n",
       "      <td>Джим Лемли, Джейсон Нетер, Марк Е.Платт, Яйн Смит</td>\n",
       "      <td>«18+» - запрещено для детей</td>\n",
       "      <td>0.0</td>\n",
       "      <td>0.0</td>\n",
       "      <td>0.0</td>\n",
       "      <td>нет государственной поддержки</td>\n",
       "      <td>6.8</td>\n",
       "      <td>фантастика,боевик,триллер</td>\n",
       "      <td>NaN</td>\n",
       "      <td>2015</td>\n",
       "      <td>Тимур Бекмамбетов</td>\n",
       "      <td>фантастика</td>\n",
       "    </tr>\n",
       "  </tbody>\n",
       "</table>\n",
       "</div>"
      ],
      "text/plain": [
       "                  title   puNumber     show_start_date            type  \\\n",
       "0      Открытый простор  221048915 2015-11-27 12:00:00  Художественный   \n",
       "1  Особо важное задание  111013716 2016-09-13 12:00:00  Художественный   \n",
       "2          Особо опасен  221038416 2016-10-10 12:00:00  Художественный   \n",
       "3          Особо опасен  221026916 2016-06-10 12:00:00  Художественный   \n",
       "4          Особо опасен  221030815 2015-07-29 12:00:00  Художественный   \n",
       "\n",
       "                                         film_studio production_country  \\\n",
       "0  Тачстоун Пикчерз, Кобальт Пикчерз, Бикон Пикче...                США   \n",
       "1                              Киностудия \"Мосфильм\"               СССР   \n",
       "2  Юниверсал Пикчерз, Кикстарт Продакшнз, Марк Пл...                США   \n",
       "3  Юниверсал Пикчерз, Кикстарт Продакшнз, Марк Пл...                США   \n",
       "4  Юниверсал Пикчерз, Кикстарт Продакшнз, Марк Пл...                США   \n",
       "\n",
       "            director                                           producer  \\\n",
       "0      Кевин Костнер          Дэвид Валдес, Кевин Костнер, Джейк Эбертс   \n",
       "1          Е.Матвеев                                          Е.Матвеев   \n",
       "2  Тимур Бекмамбетов  Джим Лемли, Джейсон Нетер, Марк Е.Платт, Яйн Смит   \n",
       "3  Тимур Бекмамбетов  Джим Лемли, Джейсон Нетер, Марк Е.Платт, Яйн Смит   \n",
       "4  Тимур Бекмамбетов  Джим Лемли, Джейсон Нетер, Марк Е.Платт, Яйн Смит   \n",
       "\n",
       "                 age_restriction  refundable_support  nonrefundable_support  \\\n",
       "0    «18+» - запрещено для детей                 0.0                    0.0   \n",
       "1  «6+» - для детей старше 6 лет                 0.0                    0.0   \n",
       "2    «18+» - запрещено для детей                 0.0                    0.0   \n",
       "3    «18+» - запрещено для детей                 0.0                    0.0   \n",
       "4    «18+» - запрещено для детей                 0.0                    0.0   \n",
       "\n",
       "   budget               financing_source  ratings                     genres  \\\n",
       "0     0.0  нет государственной поддержки      7.2     боевик,драма,мелодрама   \n",
       "1     0.0  нет государственной поддержки      6.6              драма,военный   \n",
       "2     0.0  нет государственной поддержки      6.8  фантастика,боевик,триллер   \n",
       "3     0.0  нет государственной поддержки      6.8  фантастика,боевик,триллер   \n",
       "4     0.0  нет государственной поддержки      6.8  фантастика,боевик,триллер   \n",
       "\n",
       "   box_office  year      head_director  main_genre  \n",
       "0         NaN  2015      Кевин Костнер      боевик  \n",
       "1         NaN  2016          Е.Матвеев       драма  \n",
       "2         NaN  2016  Тимур Бекмамбетов  фантастика  \n",
       "3         NaN  2016  Тимур Бекмамбетов  фантастика  \n",
       "4         NaN  2015  Тимур Бекмамбетов  фантастика  "
      ]
     },
     "execution_count": 31,
     "metadata": {},
     "output_type": "execute_result"
    }
   ],
   "source": [
    "df['head_director'] = 0 # создаем новые столбцы \n",
    "df['main_genre'] = 0 \n",
    "\n",
    "i = 0 # счетчик\n",
    "for item in df['director'].str.split(','): # изменяем значения новых столбцов\n",
    "    df['head_director'].iloc[i] = item[0]\n",
    "    i += 1  \n",
    "i = 0 # обнуляем счетчик\n",
    "for item in df['genres'].str.split(','): \n",
    "    df['main_genre'].iloc[i] = item[0]\n",
    "    i += 1\n",
    "    \n",
    "df.head()"
   ]
  },
  {
   "cell_type": "markdown",
   "metadata": {
    "id": "1FsCXHwdgFyU"
   },
   "source": [
    "- Посчитайте, какую долю от общего бюджета фильма составляет государственная поддержка."
   ]
  },
  {
   "cell_type": "code",
   "execution_count": 32,
   "metadata": {
    "id": "LV6qFuZLgFyV"
   },
   "outputs": [
    {
     "data": {
      "text/html": [
       "<div>\n",
       "<style scoped>\n",
       "    .dataframe tbody tr th:only-of-type {\n",
       "        vertical-align: middle;\n",
       "    }\n",
       "\n",
       "    .dataframe tbody tr th {\n",
       "        vertical-align: top;\n",
       "    }\n",
       "\n",
       "    .dataframe thead th {\n",
       "        text-align: right;\n",
       "    }\n",
       "</style>\n",
       "<table border=\"1\" class=\"dataframe\">\n",
       "  <thead>\n",
       "    <tr style=\"text-align: right;\">\n",
       "      <th></th>\n",
       "      <th>title</th>\n",
       "      <th>puNumber</th>\n",
       "      <th>show_start_date</th>\n",
       "      <th>type</th>\n",
       "      <th>film_studio</th>\n",
       "      <th>production_country</th>\n",
       "      <th>director</th>\n",
       "      <th>producer</th>\n",
       "      <th>age_restriction</th>\n",
       "      <th>refundable_support</th>\n",
       "      <th>nonrefundable_support</th>\n",
       "      <th>budget</th>\n",
       "      <th>financing_source</th>\n",
       "      <th>ratings</th>\n",
       "      <th>genres</th>\n",
       "      <th>box_office</th>\n",
       "      <th>year</th>\n",
       "      <th>head_director</th>\n",
       "      <th>main_genre</th>\n",
       "      <th>support_part</th>\n",
       "    </tr>\n",
       "  </thead>\n",
       "  <tbody>\n",
       "    <tr>\n",
       "      <th>1281</th>\n",
       "      <td>Пока еще жива</td>\n",
       "      <td>111005313</td>\n",
       "      <td>2013-10-11 12:00:00</td>\n",
       "      <td>Художественный</td>\n",
       "      <td>АНО содействия развитию кинематографии \"Ангел-...</td>\n",
       "      <td>Россия</td>\n",
       "      <td>А.Атанесян</td>\n",
       "      <td>А.Атанесян, М.Бабаханов, Р.Бутко</td>\n",
       "      <td>«16+» - для детей старше 16 лет</td>\n",
       "      <td>0.0</td>\n",
       "      <td>26500000.0</td>\n",
       "      <td>79411900.0</td>\n",
       "      <td>Министерство культуры</td>\n",
       "      <td>8.1</td>\n",
       "      <td>драма,мелодрама</td>\n",
       "      <td>365353.6</td>\n",
       "      <td>2013</td>\n",
       "      <td>А.Атанесян</td>\n",
       "      <td>драма</td>\n",
       "      <td>0.33</td>\n",
       "    </tr>\n",
       "    <tr>\n",
       "      <th>1448</th>\n",
       "      <td>Бесславные придурки</td>\n",
       "      <td>111003314</td>\n",
       "      <td>2014-03-28 12:00:00</td>\n",
       "      <td>Художественный</td>\n",
       "      <td>ООО \"Компания \"АТК-Студио\"</td>\n",
       "      <td>Россия</td>\n",
       "      <td>А.Якимчук</td>\n",
       "      <td>А.Тютрюмов</td>\n",
       "      <td>«12+» - для детей старше 12 лет</td>\n",
       "      <td>0.0</td>\n",
       "      <td>26000000.0</td>\n",
       "      <td>37142857.0</td>\n",
       "      <td>Министерство культуры</td>\n",
       "      <td>NaN</td>\n",
       "      <td>не указано</td>\n",
       "      <td>28140.0</td>\n",
       "      <td>2014</td>\n",
       "      <td>А.Якимчук</td>\n",
       "      <td>не указано</td>\n",
       "      <td>0.70</td>\n",
       "    </tr>\n",
       "    <tr>\n",
       "      <th>1498</th>\n",
       "      <td>Невидимки</td>\n",
       "      <td>111004213</td>\n",
       "      <td>2013-09-10 12:00:00</td>\n",
       "      <td>Художественный</td>\n",
       "      <td>ООО \"Компания \"РЕАЛ-ДАКОТА\"</td>\n",
       "      <td>Россия</td>\n",
       "      <td>Р.Давлетьяров, С.Комаров</td>\n",
       "      <td>Р.Давлетьяров, А.Котелевский, А.Олейников</td>\n",
       "      <td>«12+» - для детей старше 12 лет</td>\n",
       "      <td>0.0</td>\n",
       "      <td>107847945.0</td>\n",
       "      <td>176023490.0</td>\n",
       "      <td>Фонд кино</td>\n",
       "      <td>5.3</td>\n",
       "      <td>комедия,фантастика</td>\n",
       "      <td>19957031.5</td>\n",
       "      <td>2013</td>\n",
       "      <td>Р.Давлетьяров</td>\n",
       "      <td>комедия</td>\n",
       "      <td>0.61</td>\n",
       "    </tr>\n",
       "    <tr>\n",
       "      <th>1524</th>\n",
       "      <td>БЕРЦЫ</td>\n",
       "      <td>111004314</td>\n",
       "      <td>2014-05-05 12:00:00</td>\n",
       "      <td>Художественный</td>\n",
       "      <td>ООО \"Студия \"Пассажир\"</td>\n",
       "      <td>Россия</td>\n",
       "      <td>Е.Миндадзе (псевдоним Катя Шагалова)</td>\n",
       "      <td>Л.Антонова</td>\n",
       "      <td>«16+» - для детей старше 16 лет</td>\n",
       "      <td>0.0</td>\n",
       "      <td>28000000.0</td>\n",
       "      <td>40574140.0</td>\n",
       "      <td>Министерство культуры</td>\n",
       "      <td>4.2</td>\n",
       "      <td>драма</td>\n",
       "      <td>55917.5</td>\n",
       "      <td>2014</td>\n",
       "      <td>Е.Миндадзе (псевдоним Катя Шагалова)</td>\n",
       "      <td>драма</td>\n",
       "      <td>0.69</td>\n",
       "    </tr>\n",
       "    <tr>\n",
       "      <th>1792</th>\n",
       "      <td>Братья Ч</td>\n",
       "      <td>111004414</td>\n",
       "      <td>2014-04-23 12:00:00</td>\n",
       "      <td>Художественный</td>\n",
       "      <td>ООО \"Студия \"Пассажир\"</td>\n",
       "      <td>Россия</td>\n",
       "      <td>М.Угаров</td>\n",
       "      <td>А.Миндадзе, Л.Антонова</td>\n",
       "      <td>«16+» - для детей старше 16 лет</td>\n",
       "      <td>0.0</td>\n",
       "      <td>25000000.0</td>\n",
       "      <td>40015122.0</td>\n",
       "      <td>Министерство культуры</td>\n",
       "      <td>6.4</td>\n",
       "      <td>драма</td>\n",
       "      <td>232100.0</td>\n",
       "      <td>2014</td>\n",
       "      <td>М.Угаров</td>\n",
       "      <td>драма</td>\n",
       "      <td>0.62</td>\n",
       "    </tr>\n",
       "  </tbody>\n",
       "</table>\n",
       "</div>"
      ],
      "text/plain": [
       "                    title   puNumber     show_start_date            type  \\\n",
       "1281        Пока еще жива  111005313 2013-10-11 12:00:00  Художественный   \n",
       "1448  Бесславные придурки  111003314 2014-03-28 12:00:00  Художественный   \n",
       "1498            Невидимки  111004213 2013-09-10 12:00:00  Художественный   \n",
       "1524                БЕРЦЫ  111004314 2014-05-05 12:00:00  Художественный   \n",
       "1792             Братья Ч  111004414 2014-04-23 12:00:00  Художественный   \n",
       "\n",
       "                                            film_studio production_country  \\\n",
       "1281  АНО содействия развитию кинематографии \"Ангел-...             Россия   \n",
       "1448                         ООО \"Компания \"АТК-Студио\"             Россия   \n",
       "1498                        ООО \"Компания \"РЕАЛ-ДАКОТА\"             Россия   \n",
       "1524                             ООО \"Студия \"Пассажир\"             Россия   \n",
       "1792                             ООО \"Студия \"Пассажир\"             Россия   \n",
       "\n",
       "                                  director  \\\n",
       "1281                            А.Атанесян   \n",
       "1448                             А.Якимчук   \n",
       "1498              Р.Давлетьяров, С.Комаров   \n",
       "1524  Е.Миндадзе (псевдоним Катя Шагалова)   \n",
       "1792                              М.Угаров   \n",
       "\n",
       "                                       producer  \\\n",
       "1281           А.Атанесян, М.Бабаханов, Р.Бутко   \n",
       "1448                                 А.Тютрюмов   \n",
       "1498  Р.Давлетьяров, А.Котелевский, А.Олейников   \n",
       "1524                                 Л.Антонова   \n",
       "1792                     А.Миндадзе, Л.Антонова   \n",
       "\n",
       "                      age_restriction  refundable_support  \\\n",
       "1281  «16+» - для детей старше 16 лет                 0.0   \n",
       "1448  «12+» - для детей старше 12 лет                 0.0   \n",
       "1498  «12+» - для детей старше 12 лет                 0.0   \n",
       "1524  «16+» - для детей старше 16 лет                 0.0   \n",
       "1792  «16+» - для детей старше 16 лет                 0.0   \n",
       "\n",
       "      nonrefundable_support       budget       financing_source  ratings  \\\n",
       "1281             26500000.0   79411900.0  Министерство культуры      8.1   \n",
       "1448             26000000.0   37142857.0  Министерство культуры      NaN   \n",
       "1498            107847945.0  176023490.0              Фонд кино      5.3   \n",
       "1524             28000000.0   40574140.0  Министерство культуры      4.2   \n",
       "1792             25000000.0   40015122.0  Министерство культуры      6.4   \n",
       "\n",
       "                  genres  box_office  year  \\\n",
       "1281     драма,мелодрама    365353.6  2013   \n",
       "1448          не указано     28140.0  2014   \n",
       "1498  комедия,фантастика  19957031.5  2013   \n",
       "1524               драма     55917.5  2014   \n",
       "1792               драма    232100.0  2014   \n",
       "\n",
       "                             head_director  main_genre  support_part  \n",
       "1281                            А.Атанесян       драма          0.33  \n",
       "1448                             А.Якимчук  не указано          0.70  \n",
       "1498                         Р.Давлетьяров     комедия          0.61  \n",
       "1524  Е.Миндадзе (псевдоним Катя Шагалова)       драма          0.69  \n",
       "1792                              М.Угаров       драма          0.62  "
      ]
     },
     "execution_count": 32,
     "metadata": {},
     "output_type": "execute_result"
    }
   ],
   "source": [
    "df['support_part'] = ((df['refundable_support'] + df['nonrefundable_support']) / df['budget']).round(2)\n",
    "df['support_part'] = df['support_part'].fillna(0) # значение NaN получат фильмы с общим бюджетом 0, соответственно и\n",
    "# государственная поддержка у таких фильмов равна 0, поэтому запишем долю равной 0\n",
    "df[df['support_part'] != 0].head()"
   ]
  },
  {
   "cell_type": "markdown",
   "metadata": {},
   "source": [
    "Добавлено 4 новых столбца - *year, head_director, main_genre, support_part*."
   ]
  },
  {
   "cell_type": "markdown",
   "metadata": {
    "id": "6t4EukPLgFyV"
   },
   "source": [
    "### Шаг 3. Проведите исследовательский анализ данных\n"
   ]
  },
  {
   "cell_type": "markdown",
   "metadata": {
    "id": "vAH8WCzugFyV"
   },
   "source": [
    "- Посмотрите, сколько фильмов выходило в прокат каждый год. Обратите внимание, что данные о прокате в кинотеатрах известны не для всех фильмов. Посчитайте, какую долю составляют фильмы с указанной информацией о прокате в кинотеатрах. Проанализируйте, как эта доля менялась по годам. Сделайте вывод о том, какой период полнее всего представлен в данных."
   ]
  },
  {
   "cell_type": "markdown",
   "metadata": {},
   "source": [
    "Посмотрим сколько фильмов выходило в прокат каждый год. Сведения о показах фильмов в российских кинотеатрах содержала таблица mkrf_shows, поэтому надо посчитать количество фильмов на каждый год у которых сборы в рублях известны. "
   ]
  },
  {
   "cell_type": "code",
   "execution_count": 33,
   "metadata": {},
   "outputs": [
    {
     "data": {
      "text/plain": [
       "year\n",
       "2010    105\n",
       "2011    109\n",
       "2012    128\n",
       "2013    184\n",
       "2014    279\n",
       "2015    465\n",
       "2016    526\n",
       "2017    357\n",
       "2018    475\n",
       "2019    530\n",
       "Name: box_office, dtype: int64"
      ]
     },
     "execution_count": 33,
     "metadata": {},
     "output_type": "execute_result"
    }
   ],
   "source": [
    "df.groupby('year')['box_office'].count()"
   ]
  },
  {
   "cell_type": "markdown",
   "metadata": {},
   "source": [
    "В каждом году кроме 2017 количество фильмов, показнных в российских кинотеатрах возрастало по сравнению с предыдущим годом."
   ]
  },
  {
   "cell_type": "markdown",
   "metadata": {},
   "source": [
    "Посчитаем какую долу составляют фильмы с указанной информацией о пракате в кинотеатрах."
   ]
  },
  {
   "cell_type": "code",
   "execution_count": 34,
   "metadata": {
    "id": "ABeV47y7gFyW"
   },
   "outputs": [
    {
     "data": {
      "text/plain": [
       "0.42191048764195055"
      ]
     },
     "execution_count": 34,
     "metadata": {},
     "output_type": "execute_result"
    }
   ],
   "source": [
    "df['box_office'].count() / (df['box_office'].count() + df['box_office'].isna().sum())"
   ]
  },
  {
   "cell_type": "markdown",
   "metadata": {},
   "source": [
    "42% фильмов с указанной информацией, остальные - нет.\n",
    "\n",
    "Посмотрим как эта доля менялась по годам."
   ]
  },
  {
   "cell_type": "code",
   "execution_count": 35,
   "metadata": {},
   "outputs": [
    {
     "name": "stdout",
     "output_type": "stream",
     "text": [
      "Доля фильмов с указанной информацией в 2010 году составила 0.11\n",
      "Доля фильмов с указанной информацией в 2011 году составила 0.18\n",
      "Доля фильмов с указанной информацией в 2012 году составила 0.22\n",
      "Доля фильмов с указанной информацией в 2013 году составила 0.29\n",
      "Доля фильмов с указанной информацией в 2014 году составила 0.35\n",
      "Доля фильмов с указанной информацией в 2015 году составила 0.66\n",
      "Доля фильмов с указанной информацией в 2016 году составила 0.64\n",
      "Доля фильмов с указанной информацией в 2017 году составила 0.71\n",
      "Доля фильмов с указанной информацией в 2018 году составила 0.53\n",
      "Доля фильмов с указанной информацией в 2019 году составила 0.57\n"
     ]
    }
   ],
   "source": [
    "years = [2010, 2011, 2012, 2013, 2014, 2015, 2016, 2017, 2018, 2019]\n",
    "for year in years:\n",
    "    print('Доля фильмов с указанной информацией в', year, 'году составила', \n",
    "          (df.loc[df['year'] == year, 'box_office'].count() / (df['year'] == year).sum()).round(2))"
   ]
  },
  {
   "cell_type": "markdown",
   "metadata": {},
   "source": [
    "Период с 2010 по 2012 полнее всего представлен в данных."
   ]
  },
  {
   "cell_type": "markdown",
   "metadata": {
    "id": "BEOdcIrIgFyW"
   },
   "source": [
    "- Изучите, как менялась динамика проката по годам. В каком году сумма сборов была минимальной? А максимальной?"
   ]
  },
  {
   "cell_type": "markdown",
   "metadata": {},
   "source": [
    "Для изучения динамики суммы сборов по годам построим таблицу и график."
   ]
  },
  {
   "cell_type": "code",
   "execution_count": 36,
   "metadata": {
    "id": "tfEhofYvgFyX"
   },
   "outputs": [
    {
     "data": {
      "text/html": [
       "<div>\n",
       "<style scoped>\n",
       "    .dataframe tbody tr th:only-of-type {\n",
       "        vertical-align: middle;\n",
       "    }\n",
       "\n",
       "    .dataframe tbody tr th {\n",
       "        vertical-align: top;\n",
       "    }\n",
       "\n",
       "    .dataframe thead th {\n",
       "        text-align: right;\n",
       "    }\n",
       "</style>\n",
       "<table border=\"1\" class=\"dataframe\">\n",
       "  <thead>\n",
       "    <tr style=\"text-align: right;\">\n",
       "      <th></th>\n",
       "      <th>box_office</th>\n",
       "    </tr>\n",
       "    <tr>\n",
       "      <th>year</th>\n",
       "      <th></th>\n",
       "    </tr>\n",
       "  </thead>\n",
       "  <tbody>\n",
       "    <tr>\n",
       "      <th>2010</th>\n",
       "      <td>2.428654e+06</td>\n",
       "    </tr>\n",
       "    <tr>\n",
       "      <th>2011</th>\n",
       "      <td>1.410276e+07</td>\n",
       "    </tr>\n",
       "    <tr>\n",
       "      <th>2012</th>\n",
       "      <td>6.955423e+06</td>\n",
       "    </tr>\n",
       "    <tr>\n",
       "      <th>2013</th>\n",
       "      <td>2.979971e+07</td>\n",
       "    </tr>\n",
       "    <tr>\n",
       "      <th>2014</th>\n",
       "      <td>7.444952e+09</td>\n",
       "    </tr>\n",
       "    <tr>\n",
       "      <th>2015</th>\n",
       "      <td>3.949737e+10</td>\n",
       "    </tr>\n",
       "    <tr>\n",
       "      <th>2016</th>\n",
       "      <td>4.786630e+10</td>\n",
       "    </tr>\n",
       "    <tr>\n",
       "      <th>2017</th>\n",
       "      <td>4.856371e+10</td>\n",
       "    </tr>\n",
       "    <tr>\n",
       "      <th>2018</th>\n",
       "      <td>4.966840e+10</td>\n",
       "    </tr>\n",
       "    <tr>\n",
       "      <th>2019</th>\n",
       "      <td>4.842571e+10</td>\n",
       "    </tr>\n",
       "  </tbody>\n",
       "</table>\n",
       "</div>"
      ],
      "text/plain": [
       "        box_office\n",
       "year              \n",
       "2010  2.428654e+06\n",
       "2011  1.410276e+07\n",
       "2012  6.955423e+06\n",
       "2013  2.979971e+07\n",
       "2014  7.444952e+09\n",
       "2015  3.949737e+10\n",
       "2016  4.786630e+10\n",
       "2017  4.856371e+10\n",
       "2018  4.966840e+10\n",
       "2019  4.842571e+10"
      ]
     },
     "metadata": {},
     "output_type": "display_data"
    },
    {
     "data": {
      "image/png": "[encoded data removed]",
      "text/plain": [
       "<Figure size 640x480 with 1 Axes>"
      ]
     },
     "metadata": {},
     "output_type": "display_data"
    }
   ],
   "source": [
    "display(df.pivot_table(index='year', values='box_office', aggfunc='sum').round())\n",
    "(df.pivot_table(index='year', values='box_office', aggfunc='sum').\n",
    " plot(xlabel='Год', ylabel='Сумма сборов в десятках млрд рублей', title='Общая сумма сборов фильмов за год'))\n",
    "plt.show()"
   ]
  },
  {
   "cell_type": "markdown",
   "metadata": {},
   "source": [
    "По графику видна огромная разница в сумме сборов между 2016 - 2019 годами и 2010 - 2013 годами. Сумма сборов была минимальной в 2010 году, а максимальной в 2018 году."
   ]
  },
  {
   "cell_type": "markdown",
   "metadata": {
    "id": "G-7qS-N-gFyY"
   },
   "source": [
    "- С помощью сводной таблицы посчитайте среднюю и медианную сумму сборов для каждого года."
   ]
  },
  {
   "cell_type": "code",
   "execution_count": 37,
   "metadata": {
    "id": "jmp-rgg9gFyY"
   },
   "outputs": [
    {
     "data": {
      "text/html": [
       "<div>\n",
       "<style scoped>\n",
       "    .dataframe tbody tr th:only-of-type {\n",
       "        vertical-align: middle;\n",
       "    }\n",
       "\n",
       "    .dataframe tbody tr th {\n",
       "        vertical-align: top;\n",
       "    }\n",
       "\n",
       "    .dataframe thead tr th {\n",
       "        text-align: left;\n",
       "    }\n",
       "\n",
       "    .dataframe thead tr:last-of-type th {\n",
       "        text-align: right;\n",
       "    }\n",
       "</style>\n",
       "<table border=\"1\" class=\"dataframe\">\n",
       "  <thead>\n",
       "    <tr>\n",
       "      <th></th>\n",
       "      <th>mean</th>\n",
       "      <th>median</th>\n",
       "    </tr>\n",
       "    <tr>\n",
       "      <th></th>\n",
       "      <th>box_office</th>\n",
       "      <th>box_office</th>\n",
       "    </tr>\n",
       "    <tr>\n",
       "      <th>year</th>\n",
       "      <th></th>\n",
       "      <th></th>\n",
       "    </tr>\n",
       "  </thead>\n",
       "  <tbody>\n",
       "    <tr>\n",
       "      <th>2010</th>\n",
       "      <td>23130.0</td>\n",
       "      <td>1700.0</td>\n",
       "    </tr>\n",
       "    <tr>\n",
       "      <th>2011</th>\n",
       "      <td>129383.0</td>\n",
       "      <td>3000.0</td>\n",
       "    </tr>\n",
       "    <tr>\n",
       "      <th>2012</th>\n",
       "      <td>54339.0</td>\n",
       "      <td>5660.0</td>\n",
       "    </tr>\n",
       "    <tr>\n",
       "      <th>2013</th>\n",
       "      <td>161955.0</td>\n",
       "      <td>3522.0</td>\n",
       "    </tr>\n",
       "    <tr>\n",
       "      <th>2014</th>\n",
       "      <td>26684415.0</td>\n",
       "      <td>18160.0</td>\n",
       "    </tr>\n",
       "    <tr>\n",
       "      <th>2015</th>\n",
       "      <td>84940570.0</td>\n",
       "      <td>4920933.0</td>\n",
       "    </tr>\n",
       "    <tr>\n",
       "      <th>2016</th>\n",
       "      <td>91000570.0</td>\n",
       "      <td>3846679.0</td>\n",
       "    </tr>\n",
       "    <tr>\n",
       "      <th>2017</th>\n",
       "      <td>136032793.0</td>\n",
       "      <td>9968340.0</td>\n",
       "    </tr>\n",
       "    <tr>\n",
       "      <th>2018</th>\n",
       "      <td>104565059.0</td>\n",
       "      <td>8891102.0</td>\n",
       "    </tr>\n",
       "    <tr>\n",
       "      <th>2019</th>\n",
       "      <td>91369262.0</td>\n",
       "      <td>4627798.0</td>\n",
       "    </tr>\n",
       "  </tbody>\n",
       "</table>\n",
       "</div>"
      ],
      "text/plain": [
       "             mean     median\n",
       "       box_office box_office\n",
       "year                        \n",
       "2010      23130.0     1700.0\n",
       "2011     129383.0     3000.0\n",
       "2012      54339.0     5660.0\n",
       "2013     161955.0     3522.0\n",
       "2014   26684415.0    18160.0\n",
       "2015   84940570.0  4920933.0\n",
       "2016   91000570.0  3846679.0\n",
       "2017  136032793.0  9968340.0\n",
       "2018  104565059.0  8891102.0\n",
       "2019   91369262.0  4627798.0"
      ]
     },
     "execution_count": 37,
     "metadata": {},
     "output_type": "execute_result"
    }
   ],
   "source": [
    "df.pivot_table(index='year', values='box_office', aggfunc=['mean', 'median']).round()"
   ]
  },
  {
   "cell_type": "markdown",
   "metadata": {},
   "source": [
    "Среднее значение во все года сильно выше медианного значения, это значит, что в каждом году фильмов, которые собрали относительно мало денег с показов больше, чем фильмов, которые собрали много денег с показов."
   ]
  },
  {
   "cell_type": "markdown",
   "metadata": {
    "id": "Ok89WFwJgFyZ"
   },
   "source": [
    "- Определите, влияет ли возрастное ограничение аудитории («6+», «12+», «16+», «18+» и т. д.) на сборы фильма в прокате в период с 2015 по 2019 год? Фильмы с каким возрастным ограничением собрали больше всего денег в прокате? Меняется ли картина в зависимости от года? Если да, предположите, с чем это может быть связано."
   ]
  },
  {
   "cell_type": "code",
   "execution_count": 38,
   "metadata": {
    "id": "jsSbEqfjgFya",
    "scrolled": false
   },
   "outputs": [
    {
     "name": "stdout",
     "output_type": "stream",
     "text": [
      "«0+» - для любой зрительской аудитории\n",
      "Общая сумма сборов с 2015 по 2019 год составила 809077426.0\n"
     ]
    },
    {
     "data": {
      "image/png": "[encoded data removed]",
      "text/plain": [
       "<Figure size 640x480 with 1 Axes>"
      ]
     },
     "metadata": {},
     "output_type": "display_data"
    },
    {
     "name": "stdout",
     "output_type": "stream",
     "text": [
      "«6+» - для детей старше 6 лет\n",
      "Общая сумма сборов с 2015 по 2019 год составила 55798610800.0\n"
     ]
    },
    {
     "data": {
      "image/png": "[encoded data removed]",
      "text/plain": [
       "<Figure size 640x480 with 1 Axes>"
      ]
     },
     "metadata": {},
     "output_type": "display_data"
    },
    {
     "name": "stdout",
     "output_type": "stream",
     "text": [
      "«12+» - для детей старше 12 лет\n",
      "Общая сумма сборов с 2015 по 2019 год составила 60619446628.0\n"
     ]
    },
    {
     "data": {
      "image/png": "[encoded data removed]",
      "text/plain": [
       "<Figure size 640x480 with 1 Axes>"
      ]
     },
     "metadata": {},
     "output_type": "display_data"
    },
    {
     "name": "stdout",
     "output_type": "stream",
     "text": [
      "«16+» - для детей старше 16 лет\n",
      "Общая сумма сборов с 2015 по 2019 год составила 76034733644.0\n"
     ]
    },
    {
     "data": {
      "image/png": "[encoded data removed]",
      "text/plain": [
       "<Figure size 640x480 with 1 Axes>"
      ]
     },
     "metadata": {},
     "output_type": "display_data"
    },
    {
     "name": "stdout",
     "output_type": "stream",
     "text": [
      "«18+» - запрещено для детей\n",
      "Общая сумма сборов с 2015 по 2019 год составила 40759615572.0\n"
     ]
    },
    {
     "data": {
      "image/png": "[encoded data removed]",
      "text/plain": [
       "<Figure size 640x480 with 1 Axes>"
      ]
     },
     "metadata": {},
     "output_type": "display_data"
    }
   ],
   "source": [
    "ages = ['«0+» - для любой зрительской аудитории', '«6+» - для детей старше 6 лет', '«12+» - для детей старше 12 лет',\n",
    "        '«16+» - для детей старше 16 лет', '«18+» - запрещено для детей']\n",
    "years = [2015, 2016, 2017, 2018, 2019]\n",
    "for age in ages:\n",
    "    print(age)\n",
    "    total_box_office = df.loc[(df['age_restriction'] == age) & (df['year'].isin(years)), 'box_office'].sum().round()\n",
    "    print('Общая сумма сборов с 2015 по 2019 год составила', total_box_office)\n",
    "    (df[(df['age_restriction'] == age) & (df['year'].isin(years))].pivot_table(index='year', values='box_office', aggfunc='sum')\n",
    "     .plot(ylim=(0, 20000000000), xlabel='Год', ylabel='Сумма сборов в десятках млрд рублей'))\n",
    "    plt.xticks(range(2015,2020))\n",
    "    plt.show()"
   ]
  },
  {
   "cell_type": "markdown",
   "metadata": {},
   "source": [
    "Возрастное ограничение аудитори сильно влияет на сборы фильма в прокате с 2015 по 2019 год. \n",
    "\n",
    "Фильмы с возрастным ограничением \"16+\" собрали в прокате 76 млрд рублей. А фильмы с возрастным ограничением \"0+\" собрали 809 млн рублей.\n",
    "\n",
    "В 2015 году больше всего собрали фильмы с возрастным ограничением \"12+\", с 2016 по 2018 - \"16+\", а в 2019 - примерно одинаковую сумму денег собрали \"6+\", \"12+\" и \"16+\". Это можно быть с выходом самых ожидаемых фильмов \"16+\" в период с 2016 по 2018 года или тем, что фильмов для \"16+\" стали делать больше в этот период."
   ]
  },
  {
   "cell_type": "markdown",
   "metadata": {
    "id": "l_Kg6Ku4gFya"
   },
   "source": [
    "### Шаг 4. Исследуйте фильмы, которые получили государственную поддержку\n",
    "\n",
    "На этом этапе нет конкретных инструкций и заданий — поищите интересные закономерности в данных. Посмотрите, сколько выделяют средств на поддержку кино. Проверьте, хорошо ли окупаются такие фильмы, какой у них рейтинг."
   ]
  },
  {
   "cell_type": "markdown",
   "metadata": {
    "id": "W9QKpjUdgFyb"
   },
   "source": [
    "Для начала посмотрим сколько в сумме выделяют денег на поддержку фильмов ежегодно. Для этого добавим столбец с общей суммой государственной поддержки."
   ]
  },
  {
   "cell_type": "code",
   "execution_count": 39,
   "metadata": {},
   "outputs": [
    {
     "data": {
      "text/plain": [
       "<AxesSubplot:xlabel='year'>"
      ]
     },
     "execution_count": 39,
     "metadata": {},
     "output_type": "execute_result"
    },
    {
     "data": {
      "image/png": "[encoded data removed]",
      "text/plain": [
       "<Figure size 640x480 with 1 Axes>"
      ]
     },
     "metadata": {},
     "output_type": "display_data"
    }
   ],
   "source": [
    "df['total_support'] = df['refundable_support'] + df['nonrefundable_support']\n",
    "df[df['total_support'] != 0].pivot_table(index='year', values='total_support', aggfunc='sum').plot()"
   ]
  },
  {
   "cell_type": "markdown",
   "metadata": {},
   "source": [
    "Государственную поддержку начали давать с 2013 года. До 2016 года общая сумма государственной поддержки росла.\n",
    "\n",
    "Посмотрим на динамику средней государственной поддержки."
   ]
  },
  {
   "cell_type": "code",
   "execution_count": 40,
   "metadata": {},
   "outputs": [
    {
     "data": {
      "text/plain": [
       "<AxesSubplot:xlabel='year'>"
      ]
     },
     "execution_count": 40,
     "metadata": {},
     "output_type": "execute_result"
    },
    {
     "data": {
      "image/png": "[encoded data removed]",
      "text/plain": [
       "<Figure size 640x480 with 1 Axes>"
      ]
     },
     "metadata": {},
     "output_type": "display_data"
    }
   ],
   "source": [
    "df[df['total_support'] != 0].pivot_table(index='year', values='total_support').plot()"
   ]
  },
  {
   "cell_type": "markdown",
   "metadata": {},
   "source": [
    "Средняя государственная поддержка росла с 2014 по 2017 года.\n",
    "\n",
    "Теперь посмотрим на средний рейтинг фильмов с поддержкой и без неё по годам."
   ]
  },
  {
   "cell_type": "code",
   "execution_count": 41,
   "metadata": {},
   "outputs": [
    {
     "name": "stdout",
     "output_type": "stream",
     "text": [
      "Рейтинг фильмов с поддержкой\n"
     ]
    },
    {
     "data": {
      "image/png": "[encoded data removed]",
      "text/plain": [
       "<Figure size 640x480 with 1 Axes>"
      ]
     },
     "metadata": {},
     "output_type": "display_data"
    },
    {
     "name": "stdout",
     "output_type": "stream",
     "text": [
      "Рейтинг фильмов без поддержки\n"
     ]
    },
    {
     "data": {
      "image/png": "[encoded data removed]",
      "text/plain": [
       "<Figure size 640x480 with 1 Axes>"
      ]
     },
     "metadata": {},
     "output_type": "display_data"
    }
   ],
   "source": [
    "print('Рейтинг фильмов с поддержкой')\n",
    "df[df['total_support'] != 0].pivot_table(index='year', values='ratings').plot(ylim=(5, 7))\n",
    "plt.show()\n",
    "print('Рейтинг фильмов без поддержки')\n",
    "df[df['total_support'] == 0].pivot_table(index='year', values='ratings').plot(xlim=(2013, 2019), ylim=(5, 7))\n",
    "plt.show()"
   ]
  },
  {
   "cell_type": "markdown",
   "metadata": {},
   "source": [
    "В 2013 году фильмы с поддержкой зрителям нравились больше, чем остальные. В 2014 - 2019 года - меньше.\n",
    "\n",
    "Посмотрим, хорошо ли окупаются фильмы с государственной поддержкой."
   ]
  },
  {
   "cell_type": "code",
   "execution_count": 42,
   "metadata": {},
   "outputs": [
    {
     "data": {
      "text/html": [
       "<div>\n",
       "<style scoped>\n",
       "    .dataframe tbody tr th:only-of-type {\n",
       "        vertical-align: middle;\n",
       "    }\n",
       "\n",
       "    .dataframe tbody tr th {\n",
       "        vertical-align: top;\n",
       "    }\n",
       "\n",
       "    .dataframe thead th {\n",
       "        text-align: right;\n",
       "    }\n",
       "</style>\n",
       "<table border=\"1\" class=\"dataframe\">\n",
       "  <thead>\n",
       "    <tr style=\"text-align: right;\">\n",
       "      <th></th>\n",
       "      <th>box_office</th>\n",
       "      <th>nonrefundable_support</th>\n",
       "      <th>total_support</th>\n",
       "    </tr>\n",
       "    <tr>\n",
       "      <th>year</th>\n",
       "      <th></th>\n",
       "      <th></th>\n",
       "      <th></th>\n",
       "    </tr>\n",
       "  </thead>\n",
       "  <tbody>\n",
       "    <tr>\n",
       "      <th>2013</th>\n",
       "      <td>10161193.0</td>\n",
       "      <td>67173972.0</td>\n",
       "      <td>67173972.0</td>\n",
       "    </tr>\n",
       "    <tr>\n",
       "      <th>2014</th>\n",
       "      <td>63588885.0</td>\n",
       "      <td>31312644.0</td>\n",
       "      <td>35750144.0</td>\n",
       "    </tr>\n",
       "    <tr>\n",
       "      <th>2015</th>\n",
       "      <td>69351651.0</td>\n",
       "      <td>36818150.0</td>\n",
       "      <td>43015140.0</td>\n",
       "    </tr>\n",
       "    <tr>\n",
       "      <th>2016</th>\n",
       "      <td>101361797.0</td>\n",
       "      <td>55436975.0</td>\n",
       "      <td>70543532.0</td>\n",
       "    </tr>\n",
       "    <tr>\n",
       "      <th>2017</th>\n",
       "      <td>264103815.0</td>\n",
       "      <td>63195507.0</td>\n",
       "      <td>79076196.0</td>\n",
       "    </tr>\n",
       "    <tr>\n",
       "      <th>2018</th>\n",
       "      <td>170121821.0</td>\n",
       "      <td>50635808.0</td>\n",
       "      <td>60581263.0</td>\n",
       "    </tr>\n",
       "    <tr>\n",
       "      <th>2019</th>\n",
       "      <td>135432905.0</td>\n",
       "      <td>58470588.0</td>\n",
       "      <td>70132353.0</td>\n",
       "    </tr>\n",
       "  </tbody>\n",
       "</table>\n",
       "</div>"
      ],
      "text/plain": [
       "       box_office  nonrefundable_support  total_support\n",
       "year                                                   \n",
       "2013   10161193.0             67173972.0     67173972.0\n",
       "2014   63588885.0             31312644.0     35750144.0\n",
       "2015   69351651.0             36818150.0     43015140.0\n",
       "2016  101361797.0             55436975.0     70543532.0\n",
       "2017  264103815.0             63195507.0     79076196.0\n",
       "2018  170121821.0             50635808.0     60581263.0\n",
       "2019  135432905.0             58470588.0     70132353.0"
      ]
     },
     "execution_count": 42,
     "metadata": {},
     "output_type": "execute_result"
    }
   ],
   "source": [
    "(df[df['nonrefundable_support'] != 0].pivot_table(index='year', values=['nonrefundable_support', 'box_office', 'total_support'])\n",
    " .round())"
   ]
  },
  {
   "cell_type": "markdown",
   "metadata": {},
   "source": [
    "Судя по таблице не окупились фильмы только в 2013 году, в 2014 - 2019 года фильмы окупались в 2-4 раза.\n",
    "\n",
    "Теперь сравним средние суммы сборов фильмов с поддержкой и без неё по годам."
   ]
  },
  {
   "cell_type": "code",
   "execution_count": 43,
   "metadata": {},
   "outputs": [
    {
     "data": {
      "text/html": [
       "<div>\n",
       "<style scoped>\n",
       "    .dataframe tbody tr th:only-of-type {\n",
       "        vertical-align: middle;\n",
       "    }\n",
       "\n",
       "    .dataframe tbody tr th {\n",
       "        vertical-align: top;\n",
       "    }\n",
       "\n",
       "    .dataframe thead th {\n",
       "        text-align: right;\n",
       "    }\n",
       "</style>\n",
       "<table border=\"1\" class=\"dataframe\">\n",
       "  <thead>\n",
       "    <tr style=\"text-align: right;\">\n",
       "      <th></th>\n",
       "      <th>box_office</th>\n",
       "    </tr>\n",
       "    <tr>\n",
       "      <th>year</th>\n",
       "      <th></th>\n",
       "    </tr>\n",
       "  </thead>\n",
       "  <tbody>\n",
       "    <tr>\n",
       "      <th>2013</th>\n",
       "      <td>52073.0</td>\n",
       "    </tr>\n",
       "    <tr>\n",
       "      <th>2014</th>\n",
       "      <td>24439276.0</td>\n",
       "    </tr>\n",
       "    <tr>\n",
       "      <th>2015</th>\n",
       "      <td>88715999.0</td>\n",
       "    </tr>\n",
       "    <tr>\n",
       "      <th>2016</th>\n",
       "      <td>89666506.0</td>\n",
       "    </tr>\n",
       "    <tr>\n",
       "      <th>2017</th>\n",
       "      <td>118549157.0</td>\n",
       "    </tr>\n",
       "    <tr>\n",
       "      <th>2018</th>\n",
       "      <td>94831346.0</td>\n",
       "    </tr>\n",
       "    <tr>\n",
       "      <th>2019</th>\n",
       "      <td>85140599.0</td>\n",
       "    </tr>\n",
       "  </tbody>\n",
       "</table>\n",
       "</div>"
      ],
      "text/plain": [
       "       box_office\n",
       "year             \n",
       "2013      52073.0\n",
       "2014   24439276.0\n",
       "2015   88715999.0\n",
       "2016   89666506.0\n",
       "2017  118549157.0\n",
       "2018   94831346.0\n",
       "2019   85140599.0"
      ]
     },
     "execution_count": 43,
     "metadata": {},
     "output_type": "execute_result"
    }
   ],
   "source": [
    "df[(df['total_support'] == 0) & (df['year'] >= 2013)].pivot_table(index='year', values=['box_office']).round()"
   ]
  },
  {
   "cell_type": "markdown",
   "metadata": {},
   "source": [
    "В 2013 - 2014, 2016 - 2019 годах средняя сумма сборов фильмов с поддержкой выше чем без неё.\n",
    "\n",
    "В 2015 году средняя сумма сборов фильмов без поддержки выше чем с поддержкой."
   ]
  },
  {
   "cell_type": "markdown",
   "metadata": {
    "id": "V2gYwMcPgFyd"
   },
   "source": [
    "### Шаг 5. Напишите общий вывод"
   ]
  },
  {
   "cell_type": "markdown",
   "metadata": {
    "id": "AYRg3dzXgFye"
   },
   "source": [
    "В 2010 - 2016, 2018 - 2019 количество фильмов, показнных в российских кинотеатрах возрастало по сравнению с предыдущим годом.\n",
    "\n",
    "Средняя сумма сборов с 2012 по 2017 года росла и выросла в 2500 раз.\n",
    "\n",
    "В 2015 году наиболее популярными были фильмы с возрастным ограничением \"12+\", с 2016 по 2018 - \"16+\", а в 2019 - одинаково популярными были фильмы со следующими возрастными ограничениями \"6+\", \"12+\" и \"16+\". Фильмы \"0+\" с 2015 по 2019 года были практически не популярны, а фильмы \"18+\" становились популярнее с каждым годом, кроме 2018, в 2019 году они были на 25% менее популярны, чем фильмы со следующими возрастными ограничениями \"6+\", \"12+\" и \"16+\".\n",
    "\n",
    "Фильмы с государственной поддержкой начали появляться в 2013 году. До 2016 года общая сумма государственной поддержки росла. Средняя сумма государственной поддержки тоже росла в период с 2014 по 2017 года. Фильмы с поддержкой нравились зрителям в 2013 году больше, чем без неё, в остальные годы - меньше. Фильмы с поддержкой в 2013 году не окупились, а в 2014 - 2019 года окупались в 2-4 раза. "
   ]
  }
 ],
 "metadata": {
  "ExecuteTimeLog": [
   {
    "duration": 537,
    "start_time": "2021-07-07T10:12:08.634Z"
   },
   {
    "duration": 206,
    "start_time": "2021-07-07T10:12:30.191Z"
   },
   {
    "duration": 227,
    "start_time": "2021-07-07T10:12:33.078Z"
   },
   {
    "duration": 153,
    "start_time": "2021-07-07T10:13:42.146Z"
   },
   {
    "duration": 233,
    "start_time": "2021-07-07T10:30:09.252Z"
   },
   {
    "duration": 19,
    "start_time": "2021-07-07T10:30:15.577Z"
   },
   {
    "duration": 18,
    "start_time": "2021-07-07T10:30:57.348Z"
   },
   {
    "duration": 19,
    "start_time": "2021-07-07T10:31:17.452Z"
   },
   {
    "duration": 21,
    "start_time": "2021-07-07T10:31:32.227Z"
   },
   {
    "duration": 27,
    "start_time": "2021-07-07T10:32:06.588Z"
   },
   {
    "duration": 23,
    "start_time": "2021-07-07T10:32:43.645Z"
   },
   {
    "duration": 24,
    "start_time": "2021-07-07T10:33:06.948Z"
   },
   {
    "duration": 7,
    "start_time": "2021-07-07T10:33:28.558Z"
   },
   {
    "duration": 23,
    "start_time": "2021-07-07T10:33:43.761Z"
   },
   {
    "duration": 28,
    "start_time": "2021-07-07T10:34:13.466Z"
   },
   {
    "duration": 23,
    "start_time": "2021-07-07T10:35:56.187Z"
   },
   {
    "duration": 6,
    "start_time": "2021-07-07T10:36:48.182Z"
   },
   {
    "duration": 14,
    "start_time": "2021-07-07T10:37:49.641Z"
   },
   {
    "duration": 6,
    "start_time": "2021-07-07T10:38:06.694Z"
   },
   {
    "duration": 6,
    "start_time": "2021-07-07T10:38:13.493Z"
   },
   {
    "duration": 19,
    "start_time": "2021-07-07T10:38:44.056Z"
   },
   {
    "duration": 186,
    "start_time": "2021-07-07T10:48:35.618Z"
   },
   {
    "duration": 24,
    "start_time": "2021-07-07T10:48:51.498Z"
   },
   {
    "duration": 20,
    "start_time": "2021-07-07T10:48:59.415Z"
   },
   {
    "duration": 20,
    "start_time": "2021-07-07T10:53:02.195Z"
   },
   {
    "duration": 188,
    "start_time": "2021-07-07T10:54:40.486Z"
   },
   {
    "duration": 115,
    "start_time": "2021-07-07T10:54:52.552Z"
   },
   {
    "duration": 214,
    "start_time": "2021-07-07T10:54:56.354Z"
   },
   {
    "duration": 47,
    "start_time": "2021-07-07T10:54:58.282Z"
   },
   {
    "duration": 217,
    "start_time": "2021-07-07T10:59:16.075Z"
   },
   {
    "duration": 51,
    "start_time": "2021-07-07T10:59:16.243Z"
   },
   {
    "duration": 578,
    "start_time": "2021-07-07T10:59:18.774Z"
   },
   {
    "duration": 161,
    "start_time": "2021-07-07T10:59:21.238Z"
   },
   {
    "duration": 59,
    "start_time": "2021-07-07T10:59:21.453Z"
   },
   {
    "duration": 3,
    "start_time": "2021-07-07T11:02:10.786Z"
   },
   {
    "duration": 13,
    "start_time": "2021-07-07T11:07:07.722Z"
   },
   {
    "duration": 26,
    "start_time": "2021-07-07T11:07:17.958Z"
   },
   {
    "duration": 22,
    "start_time": "2021-07-07T11:08:17.939Z"
   },
   {
    "duration": 212,
    "start_time": "2021-07-07T11:08:19.665Z"
   },
   {
    "duration": 21,
    "start_time": "2021-07-07T11:08:29.945Z"
   },
   {
    "duration": 31,
    "start_time": "2021-07-07T11:08:38.899Z"
   },
   {
    "duration": 23,
    "start_time": "2021-07-07T11:08:54.527Z"
   },
   {
    "duration": 8,
    "start_time": "2021-07-07T11:18:55.974Z"
   },
   {
    "duration": 7,
    "start_time": "2021-07-07T11:19:03.639Z"
   },
   {
    "duration": 7,
    "start_time": "2021-07-07T11:19:06.444Z"
   },
   {
    "duration": 578,
    "start_time": "2021-07-07T12:09:59.576Z"
   },
   {
    "duration": 195,
    "start_time": "2021-07-07T12:10:00.156Z"
   },
   {
    "duration": 115,
    "start_time": "2021-07-07T12:10:00.353Z"
   },
   {
    "duration": 3,
    "start_time": "2021-07-07T12:10:00.470Z"
   },
   {
    "duration": 32,
    "start_time": "2021-07-07T12:10:00.474Z"
   },
   {
    "duration": 23,
    "start_time": "2021-07-07T12:10:00.508Z"
   },
   {
    "duration": 19,
    "start_time": "2021-07-07T12:10:00.533Z"
   },
   {
    "duration": 44,
    "start_time": "2021-07-07T12:10:00.553Z"
   },
   {
    "duration": 7,
    "start_time": "2021-07-07T12:10:00.600Z"
   },
   {
    "duration": 7,
    "start_time": "2021-07-07T12:19:45.761Z"
   },
   {
    "duration": 21,
    "start_time": "2021-07-07T12:21:35.482Z"
   },
   {
    "duration": 21,
    "start_time": "2021-07-07T12:29:23.569Z"
   },
   {
    "duration": 525,
    "start_time": "2021-07-07T12:29:44.542Z"
   },
   {
    "duration": 214,
    "start_time": "2021-07-07T12:29:45.069Z"
   },
   {
    "duration": 92,
    "start_time": "2021-07-07T12:29:45.285Z"
   },
   {
    "duration": 3,
    "start_time": "2021-07-07T12:29:45.379Z"
   },
   {
    "duration": 28,
    "start_time": "2021-07-07T12:29:45.384Z"
   },
   {
    "duration": 23,
    "start_time": "2021-07-07T12:29:45.413Z"
   },
   {
    "duration": 21,
    "start_time": "2021-07-07T12:29:45.437Z"
   },
   {
    "duration": 41,
    "start_time": "2021-07-07T12:29:45.460Z"
   },
   {
    "duration": 7,
    "start_time": "2021-07-07T12:29:45.502Z"
   },
   {
    "duration": 20,
    "start_time": "2021-07-07T12:29:45.511Z"
   },
   {
    "duration": 12,
    "start_time": "2021-07-07T12:34:02.800Z"
   },
   {
    "duration": 7,
    "start_time": "2021-07-07T12:35:10.479Z"
   },
   {
    "duration": 8,
    "start_time": "2021-07-07T12:35:22.440Z"
   },
   {
    "duration": 6,
    "start_time": "2021-07-07T12:35:35.649Z"
   },
   {
    "duration": 6,
    "start_time": "2021-07-07T12:35:43.107Z"
   },
   {
    "duration": 22,
    "start_time": "2021-07-07T12:38:03.029Z"
   },
   {
    "duration": 10,
    "start_time": "2021-07-07T12:38:06.592Z"
   },
   {
    "duration": 563,
    "start_time": "2021-07-07T12:38:46.493Z"
   },
   {
    "duration": 265,
    "start_time": "2021-07-07T12:38:47.058Z"
   },
   {
    "duration": 94,
    "start_time": "2021-07-07T12:38:47.325Z"
   },
   {
    "duration": 3,
    "start_time": "2021-07-07T12:38:47.422Z"
   },
   {
    "duration": 30,
    "start_time": "2021-07-07T12:38:47.427Z"
   },
   {
    "duration": 16,
    "start_time": "2021-07-07T12:38:53.305Z"
   },
   {
    "duration": 10,
    "start_time": "2021-07-07T12:38:53.499Z"
   },
   {
    "duration": 8,
    "start_time": "2021-07-07T12:39:48.161Z"
   },
   {
    "duration": 27,
    "start_time": "2021-07-07T12:41:17.629Z"
   },
   {
    "duration": 17,
    "start_time": "2021-07-07T12:41:17.867Z"
   },
   {
    "duration": 21,
    "start_time": "2021-07-07T12:41:19.310Z"
   },
   {
    "duration": 7,
    "start_time": "2021-07-07T12:41:19.544Z"
   },
   {
    "duration": 20,
    "start_time": "2021-07-07T12:41:20.504Z"
   },
   {
    "duration": 554,
    "start_time": "2021-07-07T12:56:23.696Z"
   },
   {
    "duration": 200,
    "start_time": "2021-07-07T12:56:25.234Z"
   },
   {
    "duration": 119,
    "start_time": "2021-07-07T12:56:25.480Z"
   },
   {
    "duration": 4,
    "start_time": "2021-07-07T12:56:25.762Z"
   },
   {
    "duration": 26,
    "start_time": "2021-07-07T12:56:27.172Z"
   },
   {
    "duration": 12,
    "start_time": "2021-07-07T12:56:29.051Z"
   },
   {
    "duration": 10,
    "start_time": "2021-07-07T12:56:29.291Z"
   },
   {
    "duration": 8,
    "start_time": "2021-07-07T12:56:29.623Z"
   },
   {
    "duration": 28,
    "start_time": "2021-07-07T12:56:32.137Z"
   },
   {
    "duration": 19,
    "start_time": "2021-07-07T12:56:39.785Z"
   },
   {
    "duration": 20,
    "start_time": "2021-07-07T12:56:44.297Z"
   },
   {
    "duration": 7,
    "start_time": "2021-07-07T12:56:45.392Z"
   },
   {
    "duration": 23,
    "start_time": "2021-07-07T12:56:46.615Z"
   },
   {
    "duration": 4,
    "start_time": "2021-07-07T12:57:06.625Z"
   },
   {
    "duration": 32,
    "start_time": "2021-07-07T12:57:36.690Z"
   },
   {
    "duration": 18,
    "start_time": "2021-07-07T12:58:00.149Z"
   },
   {
    "duration": 15,
    "start_time": "2021-07-07T12:59:16.793Z"
   },
   {
    "duration": 7,
    "start_time": "2021-07-07T13:19:22.624Z"
   },
   {
    "duration": 6,
    "start_time": "2021-07-07T14:17:33.527Z"
   },
   {
    "duration": 9,
    "start_time": "2021-07-07T14:17:48.409Z"
   },
   {
    "duration": 8,
    "start_time": "2021-07-07T14:20:13.060Z"
   },
   {
    "duration": 8,
    "start_time": "2021-07-07T14:20:37.957Z"
   },
   {
    "duration": 8,
    "start_time": "2021-07-07T14:20:47.470Z"
   },
   {
    "duration": 9,
    "start_time": "2021-07-07T14:20:54.503Z"
   },
   {
    "duration": 10,
    "start_time": "2021-07-07T14:28:57.763Z"
   },
   {
    "duration": 3,
    "start_time": "2021-07-07T14:30:23.377Z"
   },
   {
    "duration": 3,
    "start_time": "2021-07-07T14:30:36.489Z"
   },
   {
    "duration": 103,
    "start_time": "2021-07-07T14:30:52.351Z"
   },
   {
    "duration": 8,
    "start_time": "2021-07-07T14:30:54.763Z"
   },
   {
    "duration": 8,
    "start_time": "2021-07-07T14:31:29.301Z"
   },
   {
    "duration": 13,
    "start_time": "2021-07-07T14:31:44.516Z"
   },
   {
    "duration": 7,
    "start_time": "2021-07-07T14:33:10.972Z"
   },
   {
    "duration": 11,
    "start_time": "2021-07-07T14:33:27.780Z"
   },
   {
    "duration": 8,
    "start_time": "2021-07-07T14:34:44.588Z"
   },
   {
    "duration": 57,
    "start_time": "2021-07-07T14:35:59.042Z"
   },
   {
    "duration": 3,
    "start_time": "2021-07-07T14:36:28.168Z"
   },
   {
    "duration": 5,
    "start_time": "2021-07-07T14:36:46.254Z"
   },
   {
    "duration": 4,
    "start_time": "2021-07-07T14:36:52.714Z"
   },
   {
    "duration": 3,
    "start_time": "2021-07-07T14:36:56.612Z"
   },
   {
    "duration": 4,
    "start_time": "2021-07-07T14:36:57.049Z"
   },
   {
    "duration": 3,
    "start_time": "2021-07-07T14:39:21.214Z"
   },
   {
    "duration": 7,
    "start_time": "2021-07-07T14:39:52.406Z"
   },
   {
    "duration": 11,
    "start_time": "2021-07-07T14:39:58.576Z"
   },
   {
    "duration": 9,
    "start_time": "2021-07-07T14:40:26.301Z"
   },
   {
    "duration": 10,
    "start_time": "2021-07-07T14:40:31.704Z"
   },
   {
    "duration": 11,
    "start_time": "2021-07-07T14:40:36.249Z"
   },
   {
    "duration": 10,
    "start_time": "2021-07-07T14:40:39.783Z"
   },
   {
    "duration": 9,
    "start_time": "2021-07-07T14:40:48.558Z"
   },
   {
    "duration": 10,
    "start_time": "2021-07-07T14:40:57.143Z"
   },
   {
    "duration": 9,
    "start_time": "2021-07-07T14:41:06.074Z"
   },
   {
    "duration": 4324,
    "start_time": "2021-07-07T14:41:22.004Z"
   },
   {
    "duration": 11,
    "start_time": "2021-07-07T14:41:33.392Z"
   },
   {
    "duration": 9,
    "start_time": "2021-07-07T14:41:39.288Z"
   },
   {
    "duration": 569,
    "start_time": "2021-07-07T14:42:14.387Z"
   },
   {
    "duration": 197,
    "start_time": "2021-07-07T14:42:14.959Z"
   },
   {
    "duration": 84,
    "start_time": "2021-07-07T14:42:16.052Z"
   },
   {
    "duration": 4,
    "start_time": "2021-07-07T14:42:16.900Z"
   },
   {
    "duration": 27,
    "start_time": "2021-07-07T14:42:19.898Z"
   },
   {
    "duration": 12,
    "start_time": "2021-07-07T14:42:21.577Z"
   },
   {
    "duration": 9,
    "start_time": "2021-07-07T14:42:21.813Z"
   },
   {
    "duration": 9,
    "start_time": "2021-07-07T14:42:22.569Z"
   },
   {
    "duration": 29,
    "start_time": "2021-07-07T14:42:25.837Z"
   },
   {
    "duration": 20,
    "start_time": "2021-07-07T14:42:27.003Z"
   },
   {
    "duration": 21,
    "start_time": "2021-07-07T14:42:28.767Z"
   },
   {
    "duration": 7,
    "start_time": "2021-07-07T14:42:29.838Z"
   },
   {
    "duration": 4,
    "start_time": "2021-07-07T14:43:25.493Z"
   },
   {
    "duration": 7,
    "start_time": "2021-07-07T14:43:26.573Z"
   },
   {
    "duration": 10,
    "start_time": "2021-07-07T14:43:31.639Z"
   },
   {
    "duration": 9,
    "start_time": "2021-07-07T14:43:32.046Z"
   },
   {
    "duration": 10,
    "start_time": "2021-07-07T14:43:33.301Z"
   },
   {
    "duration": 12,
    "start_time": "2021-07-07T14:43:33.658Z"
   },
   {
    "duration": 8,
    "start_time": "2021-07-07T14:43:34.552Z"
   },
   {
    "duration": 9,
    "start_time": "2021-07-07T14:43:35.058Z"
   },
   {
    "duration": 12,
    "start_time": "2021-07-07T14:43:35.914Z"
   },
   {
    "duration": 17,
    "start_time": "2021-07-07T14:45:34.368Z"
   },
   {
    "duration": 512,
    "start_time": "2021-07-07T14:51:58.236Z"
   },
   {
    "duration": 223,
    "start_time": "2021-07-07T14:51:58.750Z"
   },
   {
    "duration": 93,
    "start_time": "2021-07-07T14:51:58.977Z"
   },
   {
    "duration": 4,
    "start_time": "2021-07-07T14:51:59.071Z"
   },
   {
    "duration": 37,
    "start_time": "2021-07-07T14:51:59.077Z"
   },
   {
    "duration": 18,
    "start_time": "2021-07-07T14:51:59.116Z"
   },
   {
    "duration": 10,
    "start_time": "2021-07-07T14:51:59.137Z"
   },
   {
    "duration": 8,
    "start_time": "2021-07-07T14:51:59.149Z"
   },
   {
    "duration": 54,
    "start_time": "2021-07-07T14:51:59.158Z"
   },
   {
    "duration": 18,
    "start_time": "2021-07-07T14:51:59.213Z"
   },
   {
    "duration": 22,
    "start_time": "2021-07-07T14:51:59.232Z"
   },
   {
    "duration": 36,
    "start_time": "2021-07-07T14:51:59.255Z"
   },
   {
    "duration": 7,
    "start_time": "2021-07-07T14:51:59.293Z"
   },
   {
    "duration": 10,
    "start_time": "2021-07-07T14:51:59.302Z"
   },
   {
    "duration": 9,
    "start_time": "2021-07-07T14:51:59.313Z"
   },
   {
    "duration": 11,
    "start_time": "2021-07-07T14:51:59.324Z"
   },
   {
    "duration": 8,
    "start_time": "2021-07-07T14:51:59.337Z"
   },
   {
    "duration": 46,
    "start_time": "2021-07-07T14:51:59.347Z"
   },
   {
    "duration": 22,
    "start_time": "2021-07-07T14:51:59.395Z"
   },
   {
    "duration": 24,
    "start_time": "2021-07-07T14:57:32.911Z"
   },
   {
    "duration": 7,
    "start_time": "2021-07-07T14:58:22.070Z"
   },
   {
    "duration": 4,
    "start_time": "2021-07-07T14:59:11.239Z"
   },
   {
    "duration": 25,
    "start_time": "2021-07-07T15:07:22.208Z"
   },
   {
    "duration": 16,
    "start_time": "2021-07-07T15:08:25.560Z"
   },
   {
    "duration": 15,
    "start_time": "2021-07-07T15:08:40.647Z"
   },
   {
    "duration": 14,
    "start_time": "2021-07-07T15:08:46.669Z"
   },
   {
    "duration": 533,
    "start_time": "2021-07-07T15:18:07.440Z"
   },
   {
    "duration": 173,
    "start_time": "2021-07-07T15:18:07.974Z"
   },
   {
    "duration": 84,
    "start_time": "2021-07-07T15:18:08.149Z"
   },
   {
    "duration": 3,
    "start_time": "2021-07-07T15:18:08.235Z"
   },
   {
    "duration": 30,
    "start_time": "2021-07-07T15:18:08.240Z"
   },
   {
    "duration": 22,
    "start_time": "2021-07-07T15:18:08.272Z"
   },
   {
    "duration": 11,
    "start_time": "2021-07-07T15:18:08.295Z"
   },
   {
    "duration": 11,
    "start_time": "2021-07-07T15:18:08.309Z"
   },
   {
    "duration": 40,
    "start_time": "2021-07-07T15:18:08.322Z"
   },
   {
    "duration": 42,
    "start_time": "2021-07-07T15:18:08.364Z"
   },
   {
    "duration": 22,
    "start_time": "2021-07-07T15:18:08.408Z"
   },
   {
    "duration": 5,
    "start_time": "2021-07-07T15:18:08.432Z"
   },
   {
    "duration": 13,
    "start_time": "2021-07-07T15:18:08.439Z"
   },
   {
    "duration": 9,
    "start_time": "2021-07-07T15:18:08.454Z"
   },
   {
    "duration": 32,
    "start_time": "2021-07-07T15:18:08.465Z"
   },
   {
    "duration": 10,
    "start_time": "2021-07-07T15:18:08.501Z"
   },
   {
    "duration": 7,
    "start_time": "2021-07-07T15:18:08.513Z"
   },
   {
    "duration": 11,
    "start_time": "2021-07-07T15:18:08.521Z"
   },
   {
    "duration": 17,
    "start_time": "2021-07-07T15:18:08.534Z"
   },
   {
    "duration": 44,
    "start_time": "2021-07-07T15:18:08.553Z"
   },
   {
    "duration": 22,
    "start_time": "2021-07-07T15:18:08.599Z"
   },
   {
    "duration": 61,
    "start_time": "2021-07-07T15:18:08.622Z"
   },
   {
    "duration": 7,
    "start_time": "2021-07-07T15:18:39.457Z"
   },
   {
    "duration": 5,
    "start_time": "2021-07-07T16:05:17.020Z"
   },
   {
    "duration": 5,
    "start_time": "2021-07-07T16:51:28.794Z"
   },
   {
    "duration": 546,
    "start_time": "2021-07-07T16:52:26.306Z"
   },
   {
    "duration": 203,
    "start_time": "2021-07-07T16:52:27.523Z"
   },
   {
    "duration": 85,
    "start_time": "2021-07-07T16:52:27.736Z"
   },
   {
    "duration": 4,
    "start_time": "2021-07-07T16:52:27.899Z"
   },
   {
    "duration": 25,
    "start_time": "2021-07-07T16:52:28.674Z"
   },
   {
    "duration": 8,
    "start_time": "2021-07-07T16:52:32.956Z"
   },
   {
    "duration": 18,
    "start_time": "2021-07-07T16:52:35.616Z"
   },
   {
    "duration": 6,
    "start_time": "2021-07-07T16:52:36.913Z"
   },
   {
    "duration": 11,
    "start_time": "2021-07-07T16:52:40.258Z"
   },
   {
    "duration": 10,
    "start_time": "2021-07-07T16:52:46.251Z"
   },
   {
    "duration": 8,
    "start_time": "2021-07-07T16:52:47.182Z"
   },
   {
    "duration": 27,
    "start_time": "2021-07-07T16:53:20.391Z"
   },
   {
    "duration": 20,
    "start_time": "2021-07-07T16:53:22.022Z"
   },
   {
    "duration": 23,
    "start_time": "2021-07-07T16:53:23.690Z"
   },
   {
    "duration": 8,
    "start_time": "2021-07-07T16:53:24.261Z"
   },
   {
    "duration": 4,
    "start_time": "2021-07-07T16:53:38.733Z"
   },
   {
    "duration": 7,
    "start_time": "2021-07-07T16:53:40.445Z"
   },
   {
    "duration": 11,
    "start_time": "2021-07-07T16:53:41.348Z"
   },
   {
    "duration": 13,
    "start_time": "2021-07-07T16:53:45.250Z"
   },
   {
    "duration": 12,
    "start_time": "2021-07-07T16:53:45.467Z"
   },
   {
    "duration": 4,
    "start_time": "2021-07-07T16:55:32.704Z"
   },
   {
    "duration": 12,
    "start_time": "2021-07-07T16:55:49.012Z"
   },
   {
    "duration": 18,
    "start_time": "2021-07-07T16:55:49.547Z"
   },
   {
    "duration": 611,
    "start_time": "2021-07-07T16:58:35.156Z"
   },
   {
    "duration": 200,
    "start_time": "2021-07-07T16:58:35.770Z"
   },
   {
    "duration": 86,
    "start_time": "2021-07-07T16:58:35.972Z"
   },
   {
    "duration": 3,
    "start_time": "2021-07-07T16:58:36.060Z"
   },
   {
    "duration": 27,
    "start_time": "2021-07-07T16:58:36.065Z"
   },
   {
    "duration": 8,
    "start_time": "2021-07-07T16:58:36.094Z"
   },
   {
    "duration": 17,
    "start_time": "2021-07-07T16:58:36.103Z"
   },
   {
    "duration": 5,
    "start_time": "2021-07-07T16:58:36.123Z"
   },
   {
    "duration": 11,
    "start_time": "2021-07-07T16:58:36.130Z"
   },
   {
    "duration": 7,
    "start_time": "2021-07-07T16:58:36.143Z"
   },
   {
    "duration": 37,
    "start_time": "2021-07-07T16:58:36.152Z"
   },
   {
    "duration": 27,
    "start_time": "2021-07-07T16:58:36.191Z"
   },
   {
    "duration": 19,
    "start_time": "2021-07-07T16:58:36.219Z"
   },
   {
    "duration": 49,
    "start_time": "2021-07-07T16:58:36.240Z"
   },
   {
    "duration": 6,
    "start_time": "2021-07-07T16:58:36.291Z"
   },
   {
    "duration": 3,
    "start_time": "2021-07-07T16:58:36.299Z"
   },
   {
    "duration": 13,
    "start_time": "2021-07-07T16:58:36.304Z"
   },
   {
    "duration": 10,
    "start_time": "2021-07-07T16:58:36.319Z"
   },
   {
    "duration": 10,
    "start_time": "2021-07-07T16:58:36.331Z"
   },
   {
    "duration": 44,
    "start_time": "2021-07-07T16:58:36.343Z"
   },
   {
    "duration": 4,
    "start_time": "2021-07-07T16:58:36.388Z"
   },
   {
    "duration": 13,
    "start_time": "2021-07-07T16:58:36.394Z"
   },
   {
    "duration": 16,
    "start_time": "2021-07-07T16:58:36.410Z"
   },
   {
    "duration": 8,
    "start_time": "2021-07-07T17:02:31.629Z"
   },
   {
    "duration": 8,
    "start_time": "2021-07-07T17:02:34.308Z"
   },
   {
    "duration": 6,
    "start_time": "2021-07-07T17:05:13.483Z"
   },
   {
    "duration": 17,
    "start_time": "2021-07-07T17:05:20.606Z"
   },
   {
    "duration": 7,
    "start_time": "2021-07-07T17:05:34.638Z"
   },
   {
    "duration": 3,
    "start_time": "2021-07-07T17:06:31.883Z"
   },
   {
    "duration": 570,
    "start_time": "2021-07-07T17:06:37.165Z"
   },
   {
    "duration": 174,
    "start_time": "2021-07-07T17:06:37.737Z"
   },
   {
    "duration": 47,
    "start_time": "2021-07-07T17:06:37.913Z"
   },
   {
    "duration": 3,
    "start_time": "2021-07-07T17:06:37.962Z"
   },
   {
    "duration": 27,
    "start_time": "2021-07-07T17:06:37.967Z"
   },
   {
    "duration": 7,
    "start_time": "2021-07-07T17:06:37.996Z"
   },
   {
    "duration": 16,
    "start_time": "2021-07-07T17:06:38.005Z"
   },
   {
    "duration": 6,
    "start_time": "2021-07-07T17:06:38.024Z"
   },
   {
    "duration": 12,
    "start_time": "2021-07-07T17:06:38.031Z"
   },
   {
    "duration": 41,
    "start_time": "2021-07-07T17:06:38.045Z"
   },
   {
    "duration": 8,
    "start_time": "2021-07-07T17:06:38.088Z"
   },
   {
    "duration": 26,
    "start_time": "2021-07-07T17:06:38.098Z"
   },
   {
    "duration": 17,
    "start_time": "2021-07-07T17:06:38.126Z"
   },
   {
    "duration": 43,
    "start_time": "2021-07-07T17:06:38.144Z"
   },
   {
    "duration": 6,
    "start_time": "2021-07-07T17:06:38.188Z"
   },
   {
    "duration": 5,
    "start_time": "2021-07-07T17:06:38.195Z"
   },
   {
    "duration": 9,
    "start_time": "2021-07-07T17:06:38.201Z"
   },
   {
    "duration": 12,
    "start_time": "2021-07-07T17:06:38.212Z"
   },
   {
    "duration": 11,
    "start_time": "2021-07-07T17:06:38.226Z"
   },
   {
    "duration": 47,
    "start_time": "2021-07-07T17:06:38.239Z"
   },
   {
    "duration": 4,
    "start_time": "2021-07-07T17:06:38.288Z"
   },
   {
    "duration": 13,
    "start_time": "2021-07-07T17:06:38.293Z"
   },
   {
    "duration": 5,
    "start_time": "2021-07-07T17:06:38.309Z"
   },
   {
    "duration": 18,
    "start_time": "2021-07-07T17:06:38.325Z"
   },
   {
    "duration": 20,
    "start_time": "2021-07-07T17:07:02.805Z"
   },
   {
    "duration": 19,
    "start_time": "2021-07-07T17:07:08.527Z"
   },
   {
    "duration": 19,
    "start_time": "2021-07-07T17:07:12.758Z"
   },
   {
    "duration": 22,
    "start_time": "2021-07-07T17:07:17.497Z"
   },
   {
    "duration": 19,
    "start_time": "2021-07-07T17:07:19.645Z"
   },
   {
    "duration": 10,
    "start_time": "2021-07-07T17:07:34.239Z"
   },
   {
    "duration": 17,
    "start_time": "2021-07-07T17:07:54.144Z"
   },
   {
    "duration": 14,
    "start_time": "2021-07-07T17:08:14.357Z"
   },
   {
    "duration": 616,
    "start_time": "2021-07-07T17:08:45.254Z"
   },
   {
    "duration": 178,
    "start_time": "2021-07-07T17:08:45.872Z"
   },
   {
    "duration": 60,
    "start_time": "2021-07-07T17:08:46.054Z"
   },
   {
    "duration": 3,
    "start_time": "2021-07-07T17:08:46.116Z"
   },
   {
    "duration": 26,
    "start_time": "2021-07-07T17:08:46.121Z"
   },
   {
    "duration": 7,
    "start_time": "2021-07-07T17:08:46.149Z"
   },
   {
    "duration": 17,
    "start_time": "2021-07-07T17:08:46.158Z"
   },
   {
    "duration": 14,
    "start_time": "2021-07-07T17:08:46.176Z"
   },
   {
    "duration": 17,
    "start_time": "2021-07-07T17:08:46.193Z"
   },
   {
    "duration": 9,
    "start_time": "2021-07-07T17:08:46.211Z"
   },
   {
    "duration": 21,
    "start_time": "2021-07-07T17:08:46.221Z"
   },
   {
    "duration": 49,
    "start_time": "2021-07-07T17:08:46.244Z"
   },
   {
    "duration": 24,
    "start_time": "2021-07-07T17:08:46.295Z"
   },
   {
    "duration": 22,
    "start_time": "2021-07-07T17:08:46.321Z"
   },
   {
    "duration": 6,
    "start_time": "2021-07-07T17:08:46.345Z"
   },
   {
    "duration": 5,
    "start_time": "2021-07-07T17:08:46.353Z"
   },
   {
    "duration": 13,
    "start_time": "2021-07-07T17:08:46.386Z"
   },
   {
    "duration": 12,
    "start_time": "2021-07-07T17:08:46.402Z"
   },
   {
    "duration": 10,
    "start_time": "2021-07-07T17:08:46.415Z"
   },
   {
    "duration": 7,
    "start_time": "2021-07-07T17:08:46.427Z"
   },
   {
    "duration": 8,
    "start_time": "2021-07-07T17:08:46.435Z"
   },
   {
    "duration": 68,
    "start_time": "2021-07-07T17:08:46.446Z"
   },
   {
    "duration": 13,
    "start_time": "2021-07-07T17:08:46.516Z"
   },
   {
    "duration": 78,
    "start_time": "2021-07-07T17:08:46.530Z"
   },
   {
    "duration": 40,
    "start_time": "2021-07-07T17:09:08.185Z"
   },
   {
    "duration": 16,
    "start_time": "2021-07-07T17:09:19.324Z"
   },
   {
    "duration": 21,
    "start_time": "2021-07-07T17:09:23.290Z"
   },
   {
    "duration": 13,
    "start_time": "2021-07-07T17:09:54.812Z"
   },
   {
    "duration": 13,
    "start_time": "2021-07-07T17:10:02.039Z"
   },
   {
    "duration": 10,
    "start_time": "2021-07-07T17:10:29.632Z"
   },
   {
    "duration": 13,
    "start_time": "2021-07-07T17:10:52.372Z"
   },
   {
    "duration": 13,
    "start_time": "2021-07-07T17:11:17.270Z"
   },
   {
    "duration": 13,
    "start_time": "2021-07-07T17:14:59.284Z"
   },
   {
    "duration": 547,
    "start_time": "2021-07-07T17:18:52.403Z"
   },
   {
    "duration": 163,
    "start_time": "2021-07-07T17:18:52.952Z"
   },
   {
    "duration": 44,
    "start_time": "2021-07-07T17:18:53.117Z"
   },
   {
    "duration": 3,
    "start_time": "2021-07-07T17:18:53.162Z"
   },
   {
    "duration": 26,
    "start_time": "2021-07-07T17:18:53.167Z"
   },
   {
    "duration": 6,
    "start_time": "2021-07-07T17:18:53.195Z"
   },
   {
    "duration": 15,
    "start_time": "2021-07-07T17:18:53.203Z"
   },
   {
    "duration": 5,
    "start_time": "2021-07-07T17:18:53.220Z"
   },
   {
    "duration": 11,
    "start_time": "2021-07-07T17:18:53.228Z"
   },
   {
    "duration": 9,
    "start_time": "2021-07-07T17:18:53.241Z"
   },
   {
    "duration": 41,
    "start_time": "2021-07-07T17:18:53.252Z"
   },
   {
    "duration": 33,
    "start_time": "2021-07-07T17:18:53.295Z"
   },
   {
    "duration": 19,
    "start_time": "2021-07-07T17:18:53.330Z"
   },
   {
    "duration": 49,
    "start_time": "2021-07-07T17:18:53.350Z"
   },
   {
    "duration": 5,
    "start_time": "2021-07-07T17:18:53.401Z"
   },
   {
    "duration": 5,
    "start_time": "2021-07-07T17:18:53.408Z"
   },
   {
    "duration": 11,
    "start_time": "2021-07-07T17:18:53.414Z"
   },
   {
    "duration": 9,
    "start_time": "2021-07-07T17:18:53.427Z"
   },
   {
    "duration": 10,
    "start_time": "2021-07-07T17:18:53.437Z"
   },
   {
    "duration": 39,
    "start_time": "2021-07-07T17:18:53.448Z"
   },
   {
    "duration": 26,
    "start_time": "2021-07-07T17:18:55.799Z"
   },
   {
    "duration": 598,
    "start_time": "2021-07-07T17:20:17.862Z"
   },
   {
    "duration": 161,
    "start_time": "2021-07-07T17:20:18.462Z"
   },
   {
    "duration": 45,
    "start_time": "2021-07-07T17:20:18.626Z"
   },
   {
    "duration": 4,
    "start_time": "2021-07-07T17:20:18.673Z"
   },
   {
    "duration": 38,
    "start_time": "2021-07-07T17:20:26.877Z"
   },
   {
    "duration": 7,
    "start_time": "2021-07-07T17:20:37.405Z"
   },
   {
    "duration": 19,
    "start_time": "2021-07-07T17:20:51.534Z"
   },
   {
    "duration": 5,
    "start_time": "2021-07-07T17:20:57.228Z"
   },
   {
    "duration": 7,
    "start_time": "2021-07-07T17:21:08.235Z"
   },
   {
    "duration": 19,
    "start_time": "2021-07-07T17:21:42.158Z"
   },
   {
    "duration": 14,
    "start_time": "2021-07-07T17:21:50.225Z"
   },
   {
    "duration": 22,
    "start_time": "2021-07-07T17:22:54.104Z"
   },
   {
    "duration": 5,
    "start_time": "2021-07-07T17:22:56.371Z"
   },
   {
    "duration": 14,
    "start_time": "2021-07-07T17:22:58.316Z"
   },
   {
    "duration": 5,
    "start_time": "2021-07-07T17:22:58.493Z"
   },
   {
    "duration": 35,
    "start_time": "2021-07-07T17:22:59.666Z"
   },
   {
    "duration": 6,
    "start_time": "2021-07-07T17:23:02.410Z"
   },
   {
    "duration": 611,
    "start_time": "2021-07-07T17:24:59.664Z"
   },
   {
    "duration": 178,
    "start_time": "2021-07-07T17:25:01.945Z"
   },
   {
    "duration": 47,
    "start_time": "2021-07-07T17:25:02.125Z"
   },
   {
    "duration": 2,
    "start_time": "2021-07-07T17:25:07.903Z"
   },
   {
    "duration": 254,
    "start_time": "2021-07-07T17:25:08.232Z"
   },
   {
    "duration": 182,
    "start_time": "2021-07-07T17:25:08.671Z"
   },
   {
    "duration": 6,
    "start_time": "2021-07-07T17:25:13.104Z"
   },
   {
    "duration": 36,
    "start_time": "2021-07-07T17:25:13.662Z"
   },
   {
    "duration": 7,
    "start_time": "2021-07-07T17:25:14.528Z"
   },
   {
    "duration": 24,
    "start_time": "2021-07-07T17:25:27.982Z"
   },
   {
    "duration": 3,
    "start_time": "2021-07-07T17:25:48.982Z"
   },
   {
    "duration": 165,
    "start_time": "2021-07-07T17:25:48.987Z"
   },
   {
    "duration": 50,
    "start_time": "2021-07-07T17:25:49.154Z"
   },
   {
    "duration": 4,
    "start_time": "2021-07-07T17:25:49.206Z"
   },
   {
    "duration": 26,
    "start_time": "2021-07-07T17:25:49.212Z"
   },
   {
    "duration": 7,
    "start_time": "2021-07-07T17:25:49.240Z"
   },
   {
    "duration": 16,
    "start_time": "2021-07-07T17:25:49.249Z"
   },
   {
    "duration": 22,
    "start_time": "2021-07-07T17:25:49.266Z"
   },
   {
    "duration": 16,
    "start_time": "2021-07-07T17:25:49.291Z"
   },
   {
    "duration": 9,
    "start_time": "2021-07-07T17:25:49.309Z"
   },
   {
    "duration": 7,
    "start_time": "2021-07-07T17:25:49.319Z"
   },
   {
    "duration": 28,
    "start_time": "2021-07-07T17:25:49.328Z"
   },
   {
    "duration": 44,
    "start_time": "2021-07-07T17:25:49.357Z"
   },
   {
    "duration": 22,
    "start_time": "2021-07-07T17:25:49.403Z"
   },
   {
    "duration": 7,
    "start_time": "2021-07-07T17:25:49.427Z"
   },
   {
    "duration": 3,
    "start_time": "2021-07-07T17:25:49.436Z"
   },
   {
    "duration": 44,
    "start_time": "2021-07-07T17:25:49.441Z"
   },
   {
    "duration": 12,
    "start_time": "2021-07-07T17:25:49.488Z"
   },
   {
    "duration": 13,
    "start_time": "2021-07-07T17:25:49.502Z"
   },
   {
    "duration": 10,
    "start_time": "2021-07-07T17:25:49.516Z"
   },
   {
    "duration": 62,
    "start_time": "2021-07-07T17:25:49.527Z"
   },
   {
    "duration": 26,
    "start_time": "2021-07-07T17:26:51.809Z"
   },
   {
    "duration": 26,
    "start_time": "2021-07-07T17:26:55.759Z"
   },
   {
    "duration": 26,
    "start_time": "2021-07-07T17:27:04.501Z"
   },
   {
    "duration": 25,
    "start_time": "2021-07-07T17:28:24.859Z"
   },
   {
    "duration": 21,
    "start_time": "2021-07-07T17:28:55.250Z"
   },
   {
    "duration": 21,
    "start_time": "2021-07-07T17:28:58.885Z"
   },
   {
    "duration": 7,
    "start_time": "2021-07-07T17:45:40.972Z"
   },
   {
    "duration": 13,
    "start_time": "2021-07-07T17:45:42.529Z"
   },
   {
    "duration": 27,
    "start_time": "2021-07-07T17:45:51.026Z"
   },
   {
    "duration": 518,
    "start_time": "2021-07-07T17:46:15.532Z"
   },
   {
    "duration": 235,
    "start_time": "2021-07-07T17:46:16.053Z"
   },
   {
    "duration": 80,
    "start_time": "2021-07-07T17:46:16.292Z"
   },
   {
    "duration": 5,
    "start_time": "2021-07-07T17:46:16.373Z"
   },
   {
    "duration": 26,
    "start_time": "2021-07-07T17:46:16.380Z"
   },
   {
    "duration": 7,
    "start_time": "2021-07-07T17:46:16.408Z"
   },
   {
    "duration": 16,
    "start_time": "2021-07-07T17:46:16.418Z"
   },
   {
    "duration": 5,
    "start_time": "2021-07-07T17:46:16.436Z"
   },
   {
    "duration": 13,
    "start_time": "2021-07-07T17:46:16.442Z"
   },
   {
    "duration": 35,
    "start_time": "2021-07-07T17:46:16.456Z"
   },
   {
    "duration": 8,
    "start_time": "2021-07-07T17:46:16.493Z"
   },
   {
    "duration": 28,
    "start_time": "2021-07-07T17:46:16.502Z"
   },
   {
    "duration": 17,
    "start_time": "2021-07-07T17:46:16.532Z"
   },
   {
    "duration": 44,
    "start_time": "2021-07-07T17:46:16.551Z"
   },
   {
    "duration": 6,
    "start_time": "2021-07-07T17:46:16.597Z"
   },
   {
    "duration": 4,
    "start_time": "2021-07-07T17:46:16.605Z"
   },
   {
    "duration": 9,
    "start_time": "2021-07-07T17:46:16.610Z"
   },
   {
    "duration": 9,
    "start_time": "2021-07-07T17:46:16.621Z"
   },
   {
    "duration": 10,
    "start_time": "2021-07-07T17:46:16.632Z"
   },
   {
    "duration": 43,
    "start_time": "2021-07-07T17:46:16.644Z"
   },
   {
    "duration": 26,
    "start_time": "2021-07-07T17:46:16.689Z"
   },
   {
    "duration": 19,
    "start_time": "2021-07-07T17:46:16.718Z"
   },
   {
    "duration": 8,
    "start_time": "2021-07-07T17:46:16.738Z"
   },
   {
    "duration": 43,
    "start_time": "2021-07-07T17:46:16.747Z"
   },
   {
    "duration": 19,
    "start_time": "2021-07-07T17:46:16.791Z"
   },
   {
    "duration": 9,
    "start_time": "2021-07-07T17:46:16.812Z"
   },
   {
    "duration": 60,
    "start_time": "2021-07-07T17:46:16.822Z"
   },
   {
    "duration": -8,
    "start_time": "2021-07-07T17:46:16.892Z"
   },
   {
    "duration": 12,
    "start_time": "2021-07-07T17:48:47.707Z"
   },
   {
    "duration": 553,
    "start_time": "2021-07-07T18:10:09.350Z"
   },
   {
    "duration": 230,
    "start_time": "2021-07-07T18:10:09.905Z"
   },
   {
    "duration": 97,
    "start_time": "2021-07-07T18:10:10.137Z"
   },
   {
    "duration": 5,
    "start_time": "2021-07-07T18:10:10.236Z"
   },
   {
    "duration": 29,
    "start_time": "2021-07-07T18:10:10.242Z"
   },
   {
    "duration": 7,
    "start_time": "2021-07-07T18:10:10.272Z"
   },
   {
    "duration": 15,
    "start_time": "2021-07-07T18:10:10.281Z"
   },
   {
    "duration": 4,
    "start_time": "2021-07-07T18:10:10.299Z"
   },
   {
    "duration": 14,
    "start_time": "2021-07-07T18:10:10.305Z"
   },
   {
    "duration": 8,
    "start_time": "2021-07-07T18:10:10.321Z"
   },
   {
    "duration": 8,
    "start_time": "2021-07-07T18:10:10.331Z"
   },
   {
    "duration": 56,
    "start_time": "2021-07-07T18:10:10.341Z"
   },
   {
    "duration": 19,
    "start_time": "2021-07-07T18:10:10.399Z"
   },
   {
    "duration": 23,
    "start_time": "2021-07-07T18:10:10.419Z"
   },
   {
    "duration": 6,
    "start_time": "2021-07-07T18:10:10.444Z"
   },
   {
    "duration": 9,
    "start_time": "2021-07-07T18:10:10.451Z"
   },
   {
    "duration": 30,
    "start_time": "2021-07-07T18:10:10.462Z"
   },
   {
    "duration": 9,
    "start_time": "2021-07-07T18:10:10.494Z"
   },
   {
    "duration": 14,
    "start_time": "2021-07-07T18:10:10.505Z"
   },
   {
    "duration": 7,
    "start_time": "2021-07-07T18:10:10.521Z"
   },
   {
    "duration": 26,
    "start_time": "2021-07-07T18:10:10.530Z"
   },
   {
    "duration": 44,
    "start_time": "2021-07-07T18:10:10.558Z"
   },
   {
    "duration": 7,
    "start_time": "2021-07-07T18:10:10.605Z"
   },
   {
    "duration": 11,
    "start_time": "2021-07-07T18:10:10.614Z"
   },
   {
    "duration": 19,
    "start_time": "2021-07-07T18:10:10.626Z"
   },
   {
    "duration": 44,
    "start_time": "2021-07-07T18:10:10.646Z"
   },
   {
    "duration": 516,
    "start_time": "2021-07-07T18:14:00.826Z"
   },
   {
    "duration": 230,
    "start_time": "2021-07-07T18:14:01.344Z"
   },
   {
    "duration": 105,
    "start_time": "2021-07-07T18:14:01.576Z"
   },
   {
    "duration": 5,
    "start_time": "2021-07-07T18:14:01.683Z"
   },
   {
    "duration": 46,
    "start_time": "2021-07-07T18:14:01.690Z"
   },
   {
    "duration": 7,
    "start_time": "2021-07-07T18:14:01.738Z"
   },
   {
    "duration": 20,
    "start_time": "2021-07-07T18:14:01.747Z"
   },
   {
    "duration": 16,
    "start_time": "2021-07-07T18:14:01.769Z"
   },
   {
    "duration": 14,
    "start_time": "2021-07-07T18:14:01.787Z"
   },
   {
    "duration": 15,
    "start_time": "2021-07-07T18:14:01.803Z"
   },
   {
    "duration": 12,
    "start_time": "2021-07-07T18:14:01.820Z"
   },
   {
    "duration": 35,
    "start_time": "2021-07-07T18:14:01.833Z"
   },
   {
    "duration": 31,
    "start_time": "2021-07-07T18:14:01.869Z"
   },
   {
    "duration": 37,
    "start_time": "2021-07-07T18:14:01.902Z"
   },
   {
    "duration": 8,
    "start_time": "2021-07-07T18:14:01.942Z"
   },
   {
    "duration": 16,
    "start_time": "2021-07-07T18:14:01.952Z"
   },
   {
    "duration": 13,
    "start_time": "2021-07-07T18:14:01.970Z"
   },
   {
    "duration": 32,
    "start_time": "2021-07-07T18:14:01.985Z"
   },
   {
    "duration": 11,
    "start_time": "2021-07-07T18:14:02.019Z"
   },
   {
    "duration": 22,
    "start_time": "2021-07-07T18:14:02.031Z"
   },
   {
    "duration": 27,
    "start_time": "2021-07-07T18:14:02.055Z"
   },
   {
    "duration": 18,
    "start_time": "2021-07-07T18:14:02.084Z"
   },
   {
    "duration": 18,
    "start_time": "2021-07-07T18:14:02.106Z"
   },
   {
    "duration": 11,
    "start_time": "2021-07-07T18:14:02.126Z"
   },
   {
    "duration": 21,
    "start_time": "2021-07-07T18:14:02.138Z"
   },
   {
    "duration": 32,
    "start_time": "2021-07-07T18:14:02.161Z"
   },
   {
    "duration": 28,
    "start_time": "2021-07-07T18:14:44.295Z"
   },
   {
    "duration": 6,
    "start_time": "2021-07-07T18:15:05.834Z"
   },
   {
    "duration": 511,
    "start_time": "2021-07-07T18:15:41.541Z"
   },
   {
    "duration": 183,
    "start_time": "2021-07-07T18:15:42.054Z"
   },
   {
    "duration": 50,
    "start_time": "2021-07-07T18:15:42.239Z"
   },
   {
    "duration": 5,
    "start_time": "2021-07-07T18:15:42.291Z"
   },
   {
    "duration": 48,
    "start_time": "2021-07-07T18:15:42.297Z"
   },
   {
    "duration": 8,
    "start_time": "2021-07-07T18:15:42.346Z"
   },
   {
    "duration": 17,
    "start_time": "2021-07-07T18:15:42.356Z"
   },
   {
    "duration": 15,
    "start_time": "2021-07-07T18:15:42.375Z"
   },
   {
    "duration": 12,
    "start_time": "2021-07-07T18:15:42.392Z"
   },
   {
    "duration": 7,
    "start_time": "2021-07-07T18:15:42.406Z"
   },
   {
    "duration": 7,
    "start_time": "2021-07-07T18:15:42.415Z"
   },
   {
    "duration": 29,
    "start_time": "2021-07-07T18:15:42.423Z"
   },
   {
    "duration": 43,
    "start_time": "2021-07-07T18:15:42.453Z"
   },
   {
    "duration": 18,
    "start_time": "2021-07-07T18:15:42.497Z"
   },
   {
    "duration": 6,
    "start_time": "2021-07-07T18:15:42.516Z"
   },
   {
    "duration": 3,
    "start_time": "2021-07-07T18:15:42.523Z"
   },
   {
    "duration": 18,
    "start_time": "2021-07-07T18:15:42.528Z"
   },
   {
    "duration": 10,
    "start_time": "2021-07-07T18:15:42.547Z"
   },
   {
    "duration": 36,
    "start_time": "2021-07-07T18:15:42.559Z"
   },
   {
    "duration": 8,
    "start_time": "2021-07-07T18:15:42.597Z"
   },
   {
    "duration": 28,
    "start_time": "2021-07-07T18:15:42.606Z"
   },
   {
    "duration": 52,
    "start_time": "2021-07-07T18:15:42.635Z"
   },
   {
    "duration": 7,
    "start_time": "2021-07-07T18:15:42.690Z"
   },
   {
    "duration": 10,
    "start_time": "2021-07-07T18:15:42.699Z"
   },
   {
    "duration": 19,
    "start_time": "2021-07-07T18:15:42.711Z"
   },
   {
    "duration": 9,
    "start_time": "2021-07-07T18:15:42.732Z"
   },
   {
    "duration": 5,
    "start_time": "2021-07-07T18:15:42.743Z"
   },
   {
    "duration": 1450,
    "start_time": "2021-07-07T18:15:51.984Z"
   },
   {
    "duration": 161,
    "start_time": "2021-07-07T18:15:53.435Z"
   },
   {
    "duration": 124,
    "start_time": "2021-07-07T18:15:53.598Z"
   },
   {
    "duration": 5,
    "start_time": "2021-07-07T18:15:53.724Z"
   },
   {
    "duration": 34,
    "start_time": "2021-07-07T18:15:53.730Z"
   },
   {
    "duration": 7,
    "start_time": "2021-07-07T18:15:53.765Z"
   },
   {
    "duration": 15,
    "start_time": "2021-07-07T18:15:53.773Z"
   },
   {
    "duration": 5,
    "start_time": "2021-07-07T18:15:53.791Z"
   },
   {
    "duration": 19,
    "start_time": "2021-07-07T18:15:53.798Z"
   },
   {
    "duration": 9,
    "start_time": "2021-07-07T18:15:53.818Z"
   },
   {
    "duration": 19,
    "start_time": "2021-07-07T18:15:53.828Z"
   },
   {
    "duration": 27,
    "start_time": "2021-07-07T18:15:53.848Z"
   },
   {
    "duration": 16,
    "start_time": "2021-07-07T18:15:53.884Z"
   },
   {
    "duration": 29,
    "start_time": "2021-07-07T18:15:53.901Z"
   },
   {
    "duration": 5,
    "start_time": "2021-07-07T18:15:53.932Z"
   },
   {
    "duration": 15,
    "start_time": "2021-07-07T18:15:53.939Z"
   },
   {
    "duration": 13,
    "start_time": "2021-07-07T18:15:53.956Z"
   },
   {
    "duration": 20,
    "start_time": "2021-07-07T18:15:53.971Z"
   },
   {
    "duration": 14,
    "start_time": "2021-07-07T18:15:53.992Z"
   },
   {
    "duration": 9,
    "start_time": "2021-07-07T18:15:54.009Z"
   },
   {
    "duration": 28,
    "start_time": "2021-07-07T18:15:54.020Z"
   },
   {
    "duration": 50,
    "start_time": "2021-07-07T18:15:54.051Z"
   },
   {
    "duration": 8,
    "start_time": "2021-07-07T18:15:54.105Z"
   },
   {
    "duration": 11,
    "start_time": "2021-07-07T18:15:54.115Z"
   },
   {
    "duration": 20,
    "start_time": "2021-07-07T18:15:54.128Z"
   },
   {
    "duration": 13,
    "start_time": "2021-07-07T18:15:54.184Z"
   },
   {
    "duration": 7,
    "start_time": "2021-07-07T18:15:54.199Z"
   },
   {
    "duration": 7,
    "start_time": "2021-07-07T18:17:08.042Z"
   },
   {
    "duration": 8,
    "start_time": "2021-07-07T18:17:21.008Z"
   },
   {
    "duration": 7,
    "start_time": "2021-07-07T18:17:29.003Z"
   },
   {
    "duration": 8,
    "start_time": "2021-07-07T18:17:32.492Z"
   },
   {
    "duration": 9,
    "start_time": "2021-07-07T18:17:41.758Z"
   },
   {
    "duration": 255,
    "start_time": "2021-07-07T18:20:20.897Z"
   },
   {
    "duration": 173,
    "start_time": "2021-07-07T18:20:26.636Z"
   },
   {
    "duration": 7,
    "start_time": "2021-07-07T18:21:47.164Z"
   },
   {
    "duration": 254,
    "start_time": "2021-07-07T18:23:08.703Z"
   },
   {
    "duration": 21,
    "start_time": "2021-07-07T18:23:22.506Z"
   },
   {
    "duration": 315,
    "start_time": "2021-07-07T18:25:54.801Z"
   },
   {
    "duration": 34,
    "start_time": "2021-07-07T18:26:51.817Z"
   },
   {
    "duration": 327,
    "start_time": "2021-07-07T18:26:56.147Z"
   },
   {
    "duration": 342,
    "start_time": "2021-07-07T18:27:15.887Z"
   },
   {
    "duration": 302,
    "start_time": "2021-07-07T18:28:18.569Z"
   },
   {
    "duration": 226,
    "start_time": "2021-07-07T18:29:20.879Z"
   },
   {
    "duration": 207,
    "start_time": "2021-07-07T18:29:58.114Z"
   },
   {
    "duration": 140,
    "start_time": "2021-07-07T18:32:04.372Z"
   },
   {
    "duration": 158,
    "start_time": "2021-07-07T18:32:32.508Z"
   },
   {
    "duration": 145,
    "start_time": "2021-07-07T18:32:41.365Z"
   },
   {
    "duration": 132,
    "start_time": "2021-07-07T18:32:45.199Z"
   },
   {
    "duration": 11,
    "start_time": "2021-07-07T18:35:24.679Z"
   },
   {
    "duration": 268,
    "start_time": "2021-07-07T18:36:16.145Z"
   },
   {
    "duration": 227,
    "start_time": "2021-07-07T18:37:04.918Z"
   },
   {
    "duration": 3,
    "start_time": "2021-07-07T18:37:33.012Z"
   },
   {
    "duration": 671,
    "start_time": "2021-07-07T18:37:38.295Z"
   },
   {
    "duration": 54,
    "start_time": "2021-07-07T18:37:53.406Z"
   },
   {
    "duration": 631,
    "start_time": "2021-07-07T18:37:56.463Z"
   },
   {
    "duration": 19,
    "start_time": "2021-07-07T18:39:40.535Z"
   },
   {
    "duration": 20,
    "start_time": "2021-07-07T18:40:12.236Z"
   },
   {
    "duration": 633,
    "start_time": "2021-07-07T18:42:00.398Z"
   },
   {
    "duration": 218,
    "start_time": "2021-07-07T18:42:01.033Z"
   },
   {
    "duration": 49,
    "start_time": "2021-07-07T18:42:01.253Z"
   },
   {
    "duration": 5,
    "start_time": "2021-07-07T18:42:01.303Z"
   },
   {
    "duration": 27,
    "start_time": "2021-07-07T18:42:01.310Z"
   },
   {
    "duration": 8,
    "start_time": "2021-07-07T18:42:01.339Z"
   },
   {
    "duration": 20,
    "start_time": "2021-07-07T18:42:01.348Z"
   },
   {
    "duration": 6,
    "start_time": "2021-07-07T18:42:01.386Z"
   },
   {
    "duration": 16,
    "start_time": "2021-07-07T18:42:01.394Z"
   },
   {
    "duration": 9,
    "start_time": "2021-07-07T18:42:01.411Z"
   },
   {
    "duration": 11,
    "start_time": "2021-07-07T18:42:01.421Z"
   },
   {
    "duration": 31,
    "start_time": "2021-07-07T18:42:01.434Z"
   },
   {
    "duration": 18,
    "start_time": "2021-07-07T18:42:01.485Z"
   },
   {
    "duration": 23,
    "start_time": "2021-07-07T18:42:01.505Z"
   },
   {
    "duration": 6,
    "start_time": "2021-07-07T18:42:01.530Z"
   },
   {
    "duration": 10,
    "start_time": "2021-07-07T18:42:01.538Z"
   },
   {
    "duration": 13,
    "start_time": "2021-07-07T18:42:01.550Z"
   },
   {
    "duration": 24,
    "start_time": "2021-07-07T18:42:01.564Z"
   },
   {
    "duration": 20,
    "start_time": "2021-07-07T18:42:01.590Z"
   },
   {
    "duration": 8,
    "start_time": "2021-07-07T18:42:01.611Z"
   },
   {
    "duration": 31,
    "start_time": "2021-07-07T18:42:01.620Z"
   },
   {
    "duration": 39,
    "start_time": "2021-07-07T18:42:01.653Z"
   },
   {
    "duration": 8,
    "start_time": "2021-07-07T18:42:01.696Z"
   },
   {
    "duration": 13,
    "start_time": "2021-07-07T18:42:01.705Z"
   },
   {
    "duration": 20,
    "start_time": "2021-07-07T18:42:01.720Z"
   },
   {
    "duration": 12,
    "start_time": "2021-07-07T18:42:01.741Z"
   },
   {
    "duration": 35,
    "start_time": "2021-07-07T18:42:01.755Z"
   },
   {
    "duration": 14,
    "start_time": "2021-07-07T18:42:01.792Z"
   },
   {
    "duration": 188,
    "start_time": "2021-07-07T18:42:01.808Z"
   },
   {
    "duration": 19,
    "start_time": "2021-07-07T18:42:01.998Z"
   },
   {
    "duration": 175,
    "start_time": "2021-07-07T18:42:02.019Z"
   },
   {
    "duration": 134,
    "start_time": "2021-07-07T18:42:02.196Z"
   },
   {
    "duration": 10,
    "start_time": "2021-07-07T18:42:02.331Z"
   },
   {
    "duration": 19,
    "start_time": "2021-07-07T18:42:02.343Z"
   },
   {
    "duration": 628,
    "start_time": "2021-07-07T18:46:30.701Z"
   },
   {
    "duration": 183,
    "start_time": "2021-07-07T18:46:31.331Z"
   },
   {
    "duration": 48,
    "start_time": "2021-07-07T18:46:31.516Z"
   },
   {
    "duration": 5,
    "start_time": "2021-07-07T18:46:31.566Z"
   },
   {
    "duration": 28,
    "start_time": "2021-07-07T18:46:31.572Z"
   },
   {
    "duration": 8,
    "start_time": "2021-07-07T18:46:31.602Z"
   },
   {
    "duration": 19,
    "start_time": "2021-07-07T18:46:31.611Z"
   },
   {
    "duration": 6,
    "start_time": "2021-07-07T18:46:31.633Z"
   },
   {
    "duration": 17,
    "start_time": "2021-07-07T18:46:31.642Z"
   },
   {
    "duration": 10,
    "start_time": "2021-07-07T18:46:31.684Z"
   },
   {
    "duration": 9,
    "start_time": "2021-07-07T18:46:31.695Z"
   },
   {
    "duration": 28,
    "start_time": "2021-07-07T18:46:31.705Z"
   },
   {
    "duration": 18,
    "start_time": "2021-07-07T18:46:31.735Z"
   },
   {
    "duration": 48,
    "start_time": "2021-07-07T18:46:31.755Z"
   },
   {
    "duration": 6,
    "start_time": "2021-07-07T18:46:31.804Z"
   },
   {
    "duration": 4,
    "start_time": "2021-07-07T18:46:31.812Z"
   },
   {
    "duration": 9,
    "start_time": "2021-07-07T18:46:31.817Z"
   },
   {
    "duration": 10,
    "start_time": "2021-07-07T18:46:31.827Z"
   },
   {
    "duration": 12,
    "start_time": "2021-07-07T18:46:31.838Z"
   },
   {
    "duration": 39,
    "start_time": "2021-07-07T18:46:31.851Z"
   },
   {
    "duration": 24,
    "start_time": "2021-07-07T18:46:31.892Z"
   },
   {
    "duration": 15,
    "start_time": "2021-07-07T18:46:31.918Z"
   },
   {
    "duration": 7,
    "start_time": "2021-07-07T18:46:31.936Z"
   },
   {
    "duration": 8,
    "start_time": "2021-07-07T18:46:31.944Z"
   },
   {
    "duration": 19,
    "start_time": "2021-07-07T18:46:31.984Z"
   },
   {
    "duration": 10,
    "start_time": "2021-07-07T18:46:32.004Z"
   },
   {
    "duration": 5,
    "start_time": "2021-07-07T18:46:32.016Z"
   },
   {
    "duration": 9,
    "start_time": "2021-07-07T18:46:32.023Z"
   },
   {
    "duration": 199,
    "start_time": "2021-07-07T18:46:32.033Z"
   },
   {
    "duration": 19,
    "start_time": "2021-07-07T18:46:32.234Z"
   },
   {
    "duration": 159,
    "start_time": "2021-07-07T18:46:32.255Z"
   },
   {
    "duration": 134,
    "start_time": "2021-07-07T18:46:32.416Z"
   },
   {
    "duration": 10,
    "start_time": "2021-07-07T18:46:32.552Z"
   },
   {
    "duration": 34,
    "start_time": "2021-07-07T18:46:32.563Z"
   },
   {
    "duration": 1039,
    "start_time": "2021-07-08T08:41:09.419Z"
   },
   {
    "duration": 333,
    "start_time": "2021-07-08T08:41:10.459Z"
   },
   {
    "duration": 173,
    "start_time": "2021-07-08T08:41:10.794Z"
   },
   {
    "duration": 5,
    "start_time": "2021-07-08T08:41:10.968Z"
   },
   {
    "duration": 25,
    "start_time": "2021-07-08T08:41:10.975Z"
   },
   {
    "duration": 9,
    "start_time": "2021-07-08T08:41:11.002Z"
   },
   {
    "duration": 18,
    "start_time": "2021-07-08T08:41:11.013Z"
   },
   {
    "duration": 6,
    "start_time": "2021-07-08T08:41:11.033Z"
   },
   {
    "duration": 44,
    "start_time": "2021-07-08T08:41:11.042Z"
   },
   {
    "duration": 10,
    "start_time": "2021-07-08T08:41:11.088Z"
   },
   {
    "duration": 9,
    "start_time": "2021-07-08T08:41:11.100Z"
   },
   {
    "duration": 27,
    "start_time": "2021-07-08T08:41:11.111Z"
   },
   {
    "duration": 46,
    "start_time": "2021-07-08T08:41:11.140Z"
   },
   {
    "duration": 17,
    "start_time": "2021-07-08T08:41:11.187Z"
   },
   {
    "duration": 6,
    "start_time": "2021-07-08T08:41:11.206Z"
   },
   {
    "duration": 5,
    "start_time": "2021-07-08T08:41:11.213Z"
   },
   {
    "duration": 10,
    "start_time": "2021-07-08T08:41:11.219Z"
   },
   {
    "duration": 9,
    "start_time": "2021-07-08T08:41:11.230Z"
   },
   {
    "duration": 45,
    "start_time": "2021-07-08T08:41:11.241Z"
   },
   {
    "duration": 7,
    "start_time": "2021-07-08T08:41:11.287Z"
   },
   {
    "duration": 24,
    "start_time": "2021-07-08T08:41:11.296Z"
   },
   {
    "duration": 16,
    "start_time": "2021-07-08T08:41:11.322Z"
   },
   {
    "duration": 7,
    "start_time": "2021-07-08T08:41:11.341Z"
   },
   {
    "duration": 41,
    "start_time": "2021-07-08T08:41:11.349Z"
   },
   {
    "duration": 17,
    "start_time": "2021-07-08T08:41:11.391Z"
   },
   {
    "duration": 9,
    "start_time": "2021-07-08T08:41:11.410Z"
   },
   {
    "duration": 5,
    "start_time": "2021-07-08T08:41:11.421Z"
   },
   {
    "duration": 6,
    "start_time": "2021-07-08T08:41:11.428Z"
   },
   {
    "duration": 198,
    "start_time": "2021-07-08T08:41:11.435Z"
   },
   {
    "duration": 18,
    "start_time": "2021-07-08T08:41:11.635Z"
   },
   {
    "duration": 155,
    "start_time": "2021-07-08T08:41:11.655Z"
   },
   {
    "duration": 138,
    "start_time": "2021-07-08T08:41:11.811Z"
   },
   {
    "duration": 10,
    "start_time": "2021-07-08T08:41:11.950Z"
   },
   {
    "duration": 29,
    "start_time": "2021-07-08T08:41:11.961Z"
   },
   {
    "duration": 171,
    "start_time": "2021-07-08T08:47:44.522Z"
   },
   {
    "duration": 124,
    "start_time": "2021-07-08T08:47:46.872Z"
   },
   {
    "duration": 191,
    "start_time": "2021-07-08T08:47:58.148Z"
   },
   {
    "duration": 191,
    "start_time": "2021-07-08T08:48:07.412Z"
   },
   {
    "duration": 261,
    "start_time": "2021-07-08T08:48:10.385Z"
   },
   {
    "duration": 255,
    "start_time": "2021-07-08T08:48:14.494Z"
   },
   {
    "duration": 219,
    "start_time": "2021-07-08T08:48:22.752Z"
   },
   {
    "duration": 173,
    "start_time": "2021-07-08T08:49:06.395Z"
   },
   {
    "duration": 180,
    "start_time": "2021-07-08T08:49:21.011Z"
   },
   {
    "duration": 6,
    "start_time": "2021-07-08T08:50:31.697Z"
   },
   {
    "duration": 10,
    "start_time": "2021-07-08T08:50:47.394Z"
   },
   {
    "duration": 11,
    "start_time": "2021-07-08T08:53:49.332Z"
   },
   {
    "duration": 171,
    "start_time": "2021-07-08T08:54:28.408Z"
   },
   {
    "duration": 636,
    "start_time": "2021-07-08T09:02:48.385Z"
   },
   {
    "duration": 227,
    "start_time": "2021-07-08T09:02:49.023Z"
   },
   {
    "duration": 104,
    "start_time": "2021-07-08T09:02:49.252Z"
   },
   {
    "duration": 5,
    "start_time": "2021-07-08T09:02:49.358Z"
   },
   {
    "duration": 27,
    "start_time": "2021-07-08T09:02:49.365Z"
   },
   {
    "duration": 8,
    "start_time": "2021-07-08T09:02:49.394Z"
   },
   {
    "duration": 18,
    "start_time": "2021-07-08T09:02:49.404Z"
   },
   {
    "duration": 6,
    "start_time": "2021-07-08T09:02:49.424Z"
   },
   {
    "duration": 11,
    "start_time": "2021-07-08T09:02:49.433Z"
   },
   {
    "duration": 13,
    "start_time": "2021-07-08T09:02:49.485Z"
   },
   {
    "duration": 9,
    "start_time": "2021-07-08T09:02:49.500Z"
   },
   {
    "duration": 38,
    "start_time": "2021-07-08T09:02:49.511Z"
   },
   {
    "duration": 42,
    "start_time": "2021-07-08T09:02:49.551Z"
   },
   {
    "duration": 21,
    "start_time": "2021-07-08T09:02:49.594Z"
   },
   {
    "duration": 6,
    "start_time": "2021-07-08T09:02:49.616Z"
   },
   {
    "duration": 3,
    "start_time": "2021-07-08T09:02:49.623Z"
   },
   {
    "duration": 9,
    "start_time": "2021-07-08T09:02:49.628Z"
   },
   {
    "duration": 52,
    "start_time": "2021-07-08T09:02:49.638Z"
   },
   {
    "duration": 11,
    "start_time": "2021-07-08T09:02:49.692Z"
   },
   {
    "duration": 8,
    "start_time": "2021-07-08T09:02:49.704Z"
   },
   {
    "duration": 27,
    "start_time": "2021-07-08T09:02:49.713Z"
   },
   {
    "duration": 59,
    "start_time": "2021-07-08T09:02:49.741Z"
   },
   {
    "duration": 8,
    "start_time": "2021-07-08T09:02:49.803Z"
   },
   {
    "duration": 14,
    "start_time": "2021-07-08T09:02:49.813Z"
   },
   {
    "duration": 20,
    "start_time": "2021-07-08T09:02:49.829Z"
   },
   {
    "duration": 44,
    "start_time": "2021-07-08T09:02:49.851Z"
   },
   {
    "duration": 14,
    "start_time": "2021-07-08T09:02:49.896Z"
   },
   {
    "duration": 221,
    "start_time": "2021-07-08T09:02:49.912Z"
   },
   {
    "duration": 6,
    "start_time": "2021-07-08T09:02:50.134Z"
   },
   {
    "duration": 206,
    "start_time": "2021-07-08T09:02:50.142Z"
   },
   {
    "duration": 19,
    "start_time": "2021-07-08T09:02:50.350Z"
   },
   {
    "duration": 21,
    "start_time": "2021-07-08T09:02:50.370Z"
   },
   {
    "duration": 20,
    "start_time": "2021-07-08T09:02:50.393Z"
   },
   {
    "duration": 5,
    "start_time": "2021-07-08T09:02:50.414Z"
   },
   {
    "duration": 5,
    "start_time": "2021-07-08T09:03:34.173Z"
   },
   {
    "duration": 6,
    "start_time": "2021-07-08T09:04:49.062Z"
   },
   {
    "duration": 9,
    "start_time": "2021-07-08T09:04:50.118Z"
   },
   {
    "duration": 14,
    "start_time": "2021-07-08T09:04:58.512Z"
   },
   {
    "duration": 9,
    "start_time": "2021-07-08T09:05:10.988Z"
   },
   {
    "duration": 11,
    "start_time": "2021-07-08T09:05:11.743Z"
   },
   {
    "duration": 7,
    "start_time": "2021-07-08T09:05:25.677Z"
   },
   {
    "duration": 13,
    "start_time": "2021-07-08T09:05:47.189Z"
   },
   {
    "duration": 13,
    "start_time": "2021-07-08T09:05:54.755Z"
   },
   {
    "duration": 4,
    "start_time": "2021-07-08T09:06:29.189Z"
   },
   {
    "duration": 244,
    "start_time": "2021-07-08T09:06:29.195Z"
   },
   {
    "duration": 91,
    "start_time": "2021-07-08T09:06:29.441Z"
   },
   {
    "duration": 4,
    "start_time": "2021-07-08T09:06:29.534Z"
   },
   {
    "duration": 28,
    "start_time": "2021-07-08T09:06:29.540Z"
   },
   {
    "duration": 6,
    "start_time": "2021-07-08T09:06:29.570Z"
   },
   {
    "duration": 18,
    "start_time": "2021-07-08T09:06:29.578Z"
   },
   {
    "duration": 5,
    "start_time": "2021-07-08T09:06:29.597Z"
   },
   {
    "duration": 13,
    "start_time": "2021-07-08T09:06:29.605Z"
   },
   {
    "duration": 8,
    "start_time": "2021-07-08T09:06:29.620Z"
   },
   {
    "duration": 7,
    "start_time": "2021-07-08T09:06:29.630Z"
   },
   {
    "duration": 63,
    "start_time": "2021-07-08T09:06:29.639Z"
   },
   {
    "duration": 17,
    "start_time": "2021-07-08T09:06:29.704Z"
   },
   {
    "duration": 20,
    "start_time": "2021-07-08T09:06:29.723Z"
   },
   {
    "duration": 6,
    "start_time": "2021-07-08T09:06:29.745Z"
   },
   {
    "duration": 3,
    "start_time": "2021-07-08T09:06:29.752Z"
   },
   {
    "duration": 7,
    "start_time": "2021-07-08T09:06:29.785Z"
   },
   {
    "duration": 11,
    "start_time": "2021-07-08T09:06:29.794Z"
   },
   {
    "duration": 15,
    "start_time": "2021-07-08T09:06:29.807Z"
   },
   {
    "duration": 8,
    "start_time": "2021-07-08T09:06:29.823Z"
   },
   {
    "duration": 70,
    "start_time": "2021-07-08T09:06:29.832Z"
   },
   {
    "duration": 17,
    "start_time": "2021-07-08T09:06:29.903Z"
   },
   {
    "duration": 9,
    "start_time": "2021-07-08T09:06:29.921Z"
   },
   {
    "duration": 9,
    "start_time": "2021-07-08T09:06:29.932Z"
   },
   {
    "duration": 57,
    "start_time": "2021-07-08T09:06:29.942Z"
   },
   {
    "duration": 11,
    "start_time": "2021-07-08T09:06:30.001Z"
   },
   {
    "duration": 19,
    "start_time": "2021-07-08T09:06:30.016Z"
   },
   {
    "duration": 217,
    "start_time": "2021-07-08T09:06:30.037Z"
   },
   {
    "duration": 6,
    "start_time": "2021-07-08T09:06:30.255Z"
   },
   {
    "duration": 205,
    "start_time": "2021-07-08T09:06:30.263Z"
   },
   {
    "duration": 27,
    "start_time": "2021-07-08T09:06:30.470Z"
   },
   {
    "duration": 11,
    "start_time": "2021-07-08T09:06:30.500Z"
   },
   {
    "duration": 31,
    "start_time": "2021-07-08T09:06:30.513Z"
   },
   {
    "duration": 18,
    "start_time": "2021-07-08T09:06:30.546Z"
   },
   {
    "duration": 11,
    "start_time": "2021-07-08T09:06:30.566Z"
   },
   {
    "duration": 19,
    "start_time": "2021-07-08T09:06:30.579Z"
   },
   {
    "duration": 20,
    "start_time": "2021-07-08T09:06:49.466Z"
   },
   {
    "duration": 9,
    "start_time": "2021-07-08T09:06:51.994Z"
   },
   {
    "duration": 20,
    "start_time": "2021-07-08T09:06:52.273Z"
   },
   {
    "duration": 246,
    "start_time": "2021-07-08T09:10:21.272Z"
   },
   {
    "duration": 84,
    "start_time": "2021-07-08T09:10:21.436Z"
   },
   {
    "duration": 7,
    "start_time": "2021-07-08T09:10:37.608Z"
   },
   {
    "duration": 189,
    "start_time": "2021-07-08T09:10:38.573Z"
   },
   {
    "duration": 185,
    "start_time": "2021-07-08T09:10:53.181Z"
   },
   {
    "duration": 11,
    "start_time": "2021-07-08T09:10:59.549Z"
   },
   {
    "duration": 42,
    "start_time": "2021-07-08T09:10:59.709Z"
   },
   {
    "duration": 12,
    "start_time": "2021-07-08T09:11:02.857Z"
   },
   {
    "duration": 28,
    "start_time": "2021-07-08T09:11:10.062Z"
   },
   {
    "duration": 249,
    "start_time": "2021-07-08T09:11:37.388Z"
   },
   {
    "duration": 232,
    "start_time": "2021-07-08T09:11:49.485Z"
   },
   {
    "duration": 453,
    "start_time": "2021-07-08T09:12:01.546Z"
   },
   {
    "duration": 440,
    "start_time": "2021-07-08T09:12:12.347Z"
   },
   {
    "duration": 213,
    "start_time": "2021-07-08T09:13:32.196Z"
   },
   {
    "duration": 172,
    "start_time": "2021-07-08T09:14:07.400Z"
   },
   {
    "duration": 185,
    "start_time": "2021-07-08T09:14:14.905Z"
   },
   {
    "duration": 209,
    "start_time": "2021-07-08T09:14:40.109Z"
   },
   {
    "duration": 201,
    "start_time": "2021-07-08T09:14:54.506Z"
   },
   {
    "duration": 622,
    "start_time": "2021-07-08T09:18:14.497Z"
   },
   {
    "duration": 220,
    "start_time": "2021-07-08T09:18:15.121Z"
   },
   {
    "duration": 79,
    "start_time": "2021-07-08T09:18:15.343Z"
   },
   {
    "duration": 4,
    "start_time": "2021-07-08T09:18:15.425Z"
   },
   {
    "duration": 24,
    "start_time": "2021-07-08T09:18:15.431Z"
   },
   {
    "duration": 8,
    "start_time": "2021-07-08T09:18:15.457Z"
   },
   {
    "duration": 16,
    "start_time": "2021-07-08T09:18:15.466Z"
   },
   {
    "duration": 5,
    "start_time": "2021-07-08T09:18:15.484Z"
   },
   {
    "duration": 10,
    "start_time": "2021-07-08T09:18:15.493Z"
   },
   {
    "duration": 8,
    "start_time": "2021-07-08T09:18:15.504Z"
   },
   {
    "duration": 7,
    "start_time": "2021-07-08T09:18:15.513Z"
   },
   {
    "duration": 26,
    "start_time": "2021-07-08T09:18:15.522Z"
   },
   {
    "duration": 49,
    "start_time": "2021-07-08T09:18:15.550Z"
   },
   {
    "duration": 21,
    "start_time": "2021-07-08T09:18:15.601Z"
   },
   {
    "duration": 8,
    "start_time": "2021-07-08T09:18:15.624Z"
   },
   {
    "duration": 3,
    "start_time": "2021-07-08T09:18:15.634Z"
   },
   {
    "duration": 8,
    "start_time": "2021-07-08T09:18:15.639Z"
   },
   {
    "duration": 45,
    "start_time": "2021-07-08T09:18:15.649Z"
   },
   {
    "duration": 13,
    "start_time": "2021-07-08T09:18:15.696Z"
   },
   {
    "duration": 10,
    "start_time": "2021-07-08T09:18:15.711Z"
   },
   {
    "duration": 64,
    "start_time": "2021-07-08T09:18:15.722Z"
   },
   {
    "duration": 19,
    "start_time": "2021-07-08T09:18:15.788Z"
   },
   {
    "duration": 9,
    "start_time": "2021-07-08T09:18:15.809Z"
   },
   {
    "duration": 9,
    "start_time": "2021-07-08T09:18:15.820Z"
   },
   {
    "duration": 18,
    "start_time": "2021-07-08T09:18:15.831Z"
   },
   {
    "duration": 43,
    "start_time": "2021-07-08T09:18:15.851Z"
   },
   {
    "duration": 12,
    "start_time": "2021-07-08T09:18:15.897Z"
   },
   {
    "duration": 219,
    "start_time": "2021-07-08T09:18:15.911Z"
   },
   {
    "duration": 8,
    "start_time": "2021-07-08T09:18:16.132Z"
   },
   {
    "duration": 199,
    "start_time": "2021-07-08T09:18:16.141Z"
   },
   {
    "duration": 18,
    "start_time": "2021-07-08T09:18:16.341Z"
   },
   {
    "duration": 24,
    "start_time": "2021-07-08T09:18:16.361Z"
   },
   {
    "duration": 24,
    "start_time": "2021-07-08T09:18:16.387Z"
   },
   {
    "duration": 211,
    "start_time": "2021-07-08T09:18:16.413Z"
   },
   {
    "duration": 18,
    "start_time": "2021-07-08T09:18:16.626Z"
   },
   {
    "duration": 596,
    "start_time": "2021-07-08T10:06:33.623Z"
   },
   {
    "duration": 181,
    "start_time": "2021-07-08T10:06:34.221Z"
   },
   {
    "duration": 176,
    "start_time": "2021-07-08T10:06:34.635Z"
   },
   {
    "duration": 239,
    "start_time": "2021-07-08T10:06:55.572Z"
   },
   {
    "duration": 6,
    "start_time": "2021-07-08T10:06:57.687Z"
   },
   {
    "duration": 4,
    "start_time": "2021-07-08T10:07:03.956Z"
   },
   {
    "duration": 4,
    "start_time": "2021-07-08T10:07:10.376Z"
   },
   {
    "duration": 4,
    "start_time": "2021-07-08T10:17:19.889Z"
   },
   {
    "duration": 3,
    "start_time": "2021-07-08T10:19:19.407Z"
   },
   {
    "duration": 197,
    "start_time": "2021-07-08T10:19:19.412Z"
   },
   {
    "duration": 127,
    "start_time": "2021-07-08T10:19:19.611Z"
   },
   {
    "duration": 4,
    "start_time": "2021-07-08T10:19:19.740Z"
   },
   {
    "duration": 27,
    "start_time": "2021-07-08T10:19:19.746Z"
   },
   {
    "duration": 7,
    "start_time": "2021-07-08T10:19:19.775Z"
   },
   {
    "duration": 30,
    "start_time": "2021-07-08T10:19:19.784Z"
   },
   {
    "duration": 7,
    "start_time": "2021-07-08T10:19:19.817Z"
   },
   {
    "duration": 26,
    "start_time": "2021-07-08T10:19:19.826Z"
   },
   {
    "duration": 18,
    "start_time": "2021-07-08T10:19:19.854Z"
   },
   {
    "duration": 14,
    "start_time": "2021-07-08T10:19:19.874Z"
   },
   {
    "duration": 48,
    "start_time": "2021-07-08T10:19:19.890Z"
   },
   {
    "duration": 17,
    "start_time": "2021-07-08T10:19:19.940Z"
   },
   {
    "duration": 38,
    "start_time": "2021-07-08T10:19:19.959Z"
   },
   {
    "duration": 8,
    "start_time": "2021-07-08T10:19:19.999Z"
   },
   {
    "duration": 15,
    "start_time": "2021-07-08T10:19:20.009Z"
   },
   {
    "duration": 22,
    "start_time": "2021-07-08T10:19:20.026Z"
   },
   {
    "duration": 10,
    "start_time": "2021-07-08T10:19:20.050Z"
   },
   {
    "duration": 10,
    "start_time": "2021-07-08T10:19:20.062Z"
   },
   {
    "duration": 20,
    "start_time": "2021-07-08T10:19:20.073Z"
   },
   {
    "duration": 29,
    "start_time": "2021-07-08T10:19:20.095Z"
   },
   {
    "duration": 17,
    "start_time": "2021-07-08T10:19:20.126Z"
   },
   {
    "duration": 40,
    "start_time": "2021-07-08T10:19:20.146Z"
   },
   {
    "duration": 15,
    "start_time": "2021-07-08T10:19:20.189Z"
   },
   {
    "duration": 19,
    "start_time": "2021-07-08T10:19:20.206Z"
   },
   {
    "duration": 10,
    "start_time": "2021-07-08T10:19:20.226Z"
   },
   {
    "duration": 11,
    "start_time": "2021-07-08T10:19:20.238Z"
   },
   {
    "duration": 297,
    "start_time": "2021-07-08T10:19:20.250Z"
   },
   {
    "duration": 6,
    "start_time": "2021-07-08T10:19:20.549Z"
   },
   {
    "duration": 191,
    "start_time": "2021-07-08T10:19:20.557Z"
   },
   {
    "duration": 19,
    "start_time": "2021-07-08T10:19:20.750Z"
   },
   {
    "duration": 20,
    "start_time": "2021-07-08T10:19:20.771Z"
   },
   {
    "duration": 15,
    "start_time": "2021-07-08T10:19:20.793Z"
   },
   {
    "duration": 222,
    "start_time": "2021-07-08T10:19:20.809Z"
   },
   {
    "duration": 20,
    "start_time": "2021-07-08T10:19:21.033Z"
   },
   {
    "duration": 27,
    "start_time": "2021-07-08T10:45:04.055Z"
   },
   {
    "duration": 8,
    "start_time": "2021-07-08T10:45:08.478Z"
   },
   {
    "duration": 8,
    "start_time": "2021-07-08T10:45:31.982Z"
   },
   {
    "duration": 10,
    "start_time": "2021-07-08T10:46:01.221Z"
   },
   {
    "duration": 17,
    "start_time": "2021-07-08T10:46:40.011Z"
   },
   {
    "duration": 193,
    "start_time": "2021-07-08T10:48:19.471Z"
   },
   {
    "duration": 225,
    "start_time": "2021-07-08T10:49:26.480Z"
   },
   {
    "duration": 204,
    "start_time": "2021-07-08T10:49:59.992Z"
   },
   {
    "duration": 435,
    "start_time": "2021-07-08T10:50:06.779Z"
   },
   {
    "duration": 199,
    "start_time": "2021-07-08T10:50:14.891Z"
   },
   {
    "duration": 204,
    "start_time": "2021-07-08T10:50:18.501Z"
   },
   {
    "duration": 244,
    "start_time": "2021-07-08T10:50:23.359Z"
   },
   {
    "duration": 192,
    "start_time": "2021-07-08T10:50:29.135Z"
   },
   {
    "duration": 218,
    "start_time": "2021-07-08T10:50:33.092Z"
   },
   {
    "duration": 207,
    "start_time": "2021-07-08T10:52:45.381Z"
   },
   {
    "duration": 5,
    "start_time": "2021-07-08T10:53:34.641Z"
   },
   {
    "duration": 196,
    "start_time": "2021-07-08T10:53:41.478Z"
   },
   {
    "duration": 43,
    "start_time": "2021-07-08T10:53:50.335Z"
   },
   {
    "duration": 32,
    "start_time": "2021-07-08T10:53:55.294Z"
   },
   {
    "duration": 55,
    "start_time": "2021-07-08T10:54:09.675Z"
   },
   {
    "duration": 16,
    "start_time": "2021-07-08T10:54:12.260Z"
   },
   {
    "duration": 15,
    "start_time": "2021-07-08T10:54:49.150Z"
   },
   {
    "duration": 20,
    "start_time": "2021-07-08T10:56:07.596Z"
   },
   {
    "duration": 16,
    "start_time": "2021-07-08T10:58:26.276Z"
   },
   {
    "duration": 22,
    "start_time": "2021-07-08T10:59:00.486Z"
   },
   {
    "duration": 18,
    "start_time": "2021-07-08T11:02:09.653Z"
   },
   {
    "duration": 10,
    "start_time": "2021-07-08T11:03:44.331Z"
   },
   {
    "duration": 10,
    "start_time": "2021-07-08T11:03:54.055Z"
   },
   {
    "duration": 12,
    "start_time": "2021-07-08T11:04:41.967Z"
   },
   {
    "duration": 24,
    "start_time": "2021-07-08T11:07:30.732Z"
   },
   {
    "duration": 6,
    "start_time": "2021-07-08T11:07:37.364Z"
   },
   {
    "duration": 16,
    "start_time": "2021-07-08T11:08:01.819Z"
   },
   {
    "duration": 17,
    "start_time": "2021-07-08T11:09:47.488Z"
   },
   {
    "duration": 246,
    "start_time": "2021-07-08T11:10:00.830Z"
   },
   {
    "duration": 18,
    "start_time": "2021-07-08T11:13:55.195Z"
   },
   {
    "duration": 204,
    "start_time": "2021-07-08T11:14:04.951Z"
   },
   {
    "duration": 19,
    "start_time": "2021-07-08T11:15:10.613Z"
   },
   {
    "duration": 680,
    "start_time": "2021-07-08T11:16:25.793Z"
   },
   {
    "duration": 451,
    "start_time": "2021-07-08T11:16:40.313Z"
   },
   {
    "duration": 469,
    "start_time": "2021-07-08T11:17:21.286Z"
   },
   {
    "duration": 20,
    "start_time": "2021-07-08T11:19:12.554Z"
   },
   {
    "duration": 35,
    "start_time": "2021-07-08T11:20:05.484Z"
   },
   {
    "duration": 53,
    "start_time": "2021-07-08T11:21:40.050Z"
   },
   {
    "duration": 13,
    "start_time": "2021-07-08T11:22:26.059Z"
   },
   {
    "duration": 19,
    "start_time": "2021-07-08T11:22:47.419Z"
   },
   {
    "duration": 25,
    "start_time": "2021-07-08T11:23:19.958Z"
   },
   {
    "duration": 29,
    "start_time": "2021-07-08T11:23:25.415Z"
   },
   {
    "duration": 10,
    "start_time": "2021-07-08T11:24:45.138Z"
   },
   {
    "duration": 19,
    "start_time": "2021-07-08T11:24:54.498Z"
   },
   {
    "duration": 12,
    "start_time": "2021-07-08T11:25:32.225Z"
   },
   {
    "duration": 19,
    "start_time": "2021-07-08T11:25:37.092Z"
   },
   {
    "duration": 17,
    "start_time": "2021-07-08T11:25:58.116Z"
   },
   {
    "duration": 15,
    "start_time": "2021-07-08T11:26:02.258Z"
   },
   {
    "duration": 8,
    "start_time": "2021-07-08T11:26:59.682Z"
   },
   {
    "duration": 184,
    "start_time": "2021-07-08T11:27:21.894Z"
   },
   {
    "duration": 8,
    "start_time": "2021-07-08T11:27:23.824Z"
   },
   {
    "duration": 202,
    "start_time": "2021-07-08T11:27:23.962Z"
   },
   {
    "duration": 360,
    "start_time": "2021-07-08T11:28:33.215Z"
   },
   {
    "duration": 231,
    "start_time": "2021-07-08T11:32:05.542Z"
   },
   {
    "duration": 607,
    "start_time": "2021-07-08T11:36:27.854Z"
   },
   {
    "duration": 241,
    "start_time": "2021-07-08T11:36:28.463Z"
   },
   {
    "duration": 67,
    "start_time": "2021-07-08T11:36:28.709Z"
   },
   {
    "duration": 5,
    "start_time": "2021-07-08T11:36:28.778Z"
   },
   {
    "duration": 32,
    "start_time": "2021-07-08T11:36:28.784Z"
   },
   {
    "duration": 11,
    "start_time": "2021-07-08T11:36:28.819Z"
   },
   {
    "duration": 20,
    "start_time": "2021-07-08T11:36:28.834Z"
   },
   {
    "duration": 36,
    "start_time": "2021-07-08T11:36:28.857Z"
   },
   {
    "duration": 16,
    "start_time": "2021-07-08T11:36:28.895Z"
   },
   {
    "duration": 14,
    "start_time": "2021-07-08T11:36:28.913Z"
   },
   {
    "duration": 9,
    "start_time": "2021-07-08T11:36:28.930Z"
   },
   {
    "duration": 55,
    "start_time": "2021-07-08T11:36:28.941Z"
   },
   {
    "duration": 27,
    "start_time": "2021-07-08T11:36:28.999Z"
   },
   {
    "duration": 30,
    "start_time": "2021-07-08T11:36:29.028Z"
   },
   {
    "duration": 31,
    "start_time": "2021-07-08T11:36:29.060Z"
   },
   {
    "duration": 3,
    "start_time": "2021-07-08T11:36:29.093Z"
   },
   {
    "duration": 12,
    "start_time": "2021-07-08T11:36:29.099Z"
   },
   {
    "duration": 11,
    "start_time": "2021-07-08T11:36:29.112Z"
   },
   {
    "duration": 12,
    "start_time": "2021-07-08T11:36:29.125Z"
   },
   {
    "duration": 9,
    "start_time": "2021-07-08T11:36:29.139Z"
   },
   {
    "duration": 31,
    "start_time": "2021-07-08T11:36:29.191Z"
   },
   {
    "duration": 17,
    "start_time": "2021-07-08T11:36:29.226Z"
   },
   {
    "duration": 7,
    "start_time": "2021-07-08T11:36:29.245Z"
   },
   {
    "duration": 10,
    "start_time": "2021-07-08T11:36:29.254Z"
   },
   {
    "duration": 30,
    "start_time": "2021-07-08T11:36:29.292Z"
   },
   {
    "duration": 11,
    "start_time": "2021-07-08T11:36:29.324Z"
   },
   {
    "duration": 11,
    "start_time": "2021-07-08T11:36:29.337Z"
   },
   {
    "duration": 230,
    "start_time": "2021-07-08T11:36:29.349Z"
   },
   {
    "duration": 13,
    "start_time": "2021-07-08T11:36:29.588Z"
   },
   {
    "duration": 205,
    "start_time": "2021-07-08T11:36:29.603Z"
   },
   {
    "duration": 20,
    "start_time": "2021-07-08T11:36:29.810Z"
   },
   {
    "duration": 9,
    "start_time": "2021-07-08T11:36:29.832Z"
   },
   {
    "duration": 16,
    "start_time": "2021-07-08T11:36:29.843Z"
   },
   {
    "duration": 283,
    "start_time": "2021-07-08T11:36:29.861Z"
   },
   {
    "duration": 50,
    "start_time": "2021-07-08T11:36:30.146Z"
   },
   {
    "duration": 14,
    "start_time": "2021-07-08T11:36:30.198Z"
   },
   {
    "duration": 11,
    "start_time": "2021-07-08T11:36:30.214Z"
   },
   {
    "duration": 245,
    "start_time": "2021-07-08T11:36:30.227Z"
   },
   {
    "duration": 439,
    "start_time": "2021-07-08T11:36:30.474Z"
   },
   {
    "duration": 210,
    "start_time": "2021-07-08T11:36:30.915Z"
   },
   {
    "duration": 15,
    "start_time": "2021-07-08T11:36:31.127Z"
   },
   {
    "duration": 17,
    "start_time": "2021-07-08T11:38:20.451Z"
   },
   {
    "duration": 642,
    "start_time": "2021-07-08T11:46:17.881Z"
   },
   {
    "duration": 210,
    "start_time": "2021-07-08T11:46:18.525Z"
   },
   {
    "duration": 104,
    "start_time": "2021-07-08T11:46:18.741Z"
   },
   {
    "duration": 8,
    "start_time": "2021-07-08T11:46:18.847Z"
   },
   {
    "duration": 25,
    "start_time": "2021-07-08T11:46:18.857Z"
   },
   {
    "duration": 14,
    "start_time": "2021-07-08T11:46:18.884Z"
   },
   {
    "duration": 22,
    "start_time": "2021-07-08T11:46:18.900Z"
   },
   {
    "duration": 5,
    "start_time": "2021-07-08T11:46:18.924Z"
   },
   {
    "duration": 13,
    "start_time": "2021-07-08T11:46:18.931Z"
   },
   {
    "duration": 45,
    "start_time": "2021-07-08T11:46:18.946Z"
   },
   {
    "duration": 12,
    "start_time": "2021-07-08T11:46:18.993Z"
   },
   {
    "duration": 38,
    "start_time": "2021-07-08T11:46:19.006Z"
   },
   {
    "duration": 50,
    "start_time": "2021-07-08T11:46:19.046Z"
   },
   {
    "duration": 29,
    "start_time": "2021-07-08T11:46:19.099Z"
   },
   {
    "duration": 7,
    "start_time": "2021-07-08T11:46:19.130Z"
   },
   {
    "duration": 3,
    "start_time": "2021-07-08T11:46:19.139Z"
   },
   {
    "duration": 11,
    "start_time": "2021-07-08T11:46:19.144Z"
   },
   {
    "duration": 40,
    "start_time": "2021-07-08T11:46:19.157Z"
   },
   {
    "duration": 15,
    "start_time": "2021-07-08T11:46:19.199Z"
   },
   {
    "duration": 10,
    "start_time": "2021-07-08T11:46:19.217Z"
   },
   {
    "duration": 68,
    "start_time": "2021-07-08T11:46:19.230Z"
   },
   {
    "duration": 17,
    "start_time": "2021-07-08T11:46:19.301Z"
   },
   {
    "duration": 7,
    "start_time": "2021-07-08T11:46:19.321Z"
   },
   {
    "duration": 11,
    "start_time": "2021-07-08T11:46:19.330Z"
   },
   {
    "duration": 59,
    "start_time": "2021-07-08T11:46:19.343Z"
   },
   {
    "duration": 17,
    "start_time": "2021-07-08T11:46:19.405Z"
   },
   {
    "duration": 16,
    "start_time": "2021-07-08T11:46:19.424Z"
   },
   {
    "duration": 252,
    "start_time": "2021-07-08T11:46:19.443Z"
   },
   {
    "duration": 9,
    "start_time": "2021-07-08T11:46:19.697Z"
   },
   {
    "duration": 224,
    "start_time": "2021-07-08T11:46:19.708Z"
   },
   {
    "duration": 21,
    "start_time": "2021-07-08T11:46:19.934Z"
   },
   {
    "duration": 9,
    "start_time": "2021-07-08T11:46:19.956Z"
   },
   {
    "duration": 32,
    "start_time": "2021-07-08T11:46:19.967Z"
   },
   {
    "duration": 288,
    "start_time": "2021-07-08T11:46:20.004Z"
   },
   {
    "duration": 23,
    "start_time": "2021-07-08T11:46:20.300Z"
   },
   {
    "duration": 11,
    "start_time": "2021-07-08T11:46:20.325Z"
   },
   {
    "duration": 11,
    "start_time": "2021-07-08T11:46:20.339Z"
   },
   {
    "duration": 259,
    "start_time": "2021-07-08T11:46:20.352Z"
   },
   {
    "duration": 438,
    "start_time": "2021-07-08T11:46:20.613Z"
   },
   {
    "duration": 207,
    "start_time": "2021-07-08T11:46:21.054Z"
   },
   {
    "duration": 27,
    "start_time": "2021-07-08T11:46:21.262Z"
   },
   {
    "duration": 19,
    "start_time": "2021-07-08T11:46:21.291Z"
   },
   {
    "duration": 820,
    "start_time": "2021-07-08T11:49:01.655Z"
   },
   {
    "duration": 372,
    "start_time": "2021-07-08T11:49:02.478Z"
   },
   {
    "duration": 98,
    "start_time": "2021-07-08T11:49:02.853Z"
   },
   {
    "duration": 6,
    "start_time": "2021-07-08T11:49:02.953Z"
   },
   {
    "duration": 39,
    "start_time": "2021-07-08T11:49:02.960Z"
   },
   {
    "duration": 9,
    "start_time": "2021-07-08T11:49:03.003Z"
   },
   {
    "duration": 23,
    "start_time": "2021-07-08T11:49:03.014Z"
   },
   {
    "duration": 6,
    "start_time": "2021-07-08T11:49:03.041Z"
   },
   {
    "duration": 20,
    "start_time": "2021-07-08T11:49:03.049Z"
   },
   {
    "duration": 18,
    "start_time": "2021-07-08T11:49:03.084Z"
   },
   {
    "duration": 14,
    "start_time": "2021-07-08T11:49:03.104Z"
   },
   {
    "duration": 39,
    "start_time": "2021-07-08T11:49:03.119Z"
   },
   {
    "duration": 38,
    "start_time": "2021-07-08T11:49:03.160Z"
   },
   {
    "duration": 26,
    "start_time": "2021-07-08T11:49:03.200Z"
   },
   {
    "duration": 7,
    "start_time": "2021-07-08T11:49:03.227Z"
   },
   {
    "duration": 4,
    "start_time": "2021-07-08T11:49:03.236Z"
   },
   {
    "duration": 15,
    "start_time": "2021-07-08T11:49:03.243Z"
   },
   {
    "duration": 21,
    "start_time": "2021-07-08T11:49:03.285Z"
   },
   {
    "duration": 17,
    "start_time": "2021-07-08T11:49:03.309Z"
   },
   {
    "duration": 10,
    "start_time": "2021-07-08T11:49:03.328Z"
   },
   {
    "duration": 65,
    "start_time": "2021-07-08T11:49:03.340Z"
   },
   {
    "duration": 18,
    "start_time": "2021-07-08T11:49:03.407Z"
   },
   {
    "duration": 8,
    "start_time": "2021-07-08T11:49:03.428Z"
   },
   {
    "duration": 15,
    "start_time": "2021-07-08T11:49:03.438Z"
   },
   {
    "duration": 40,
    "start_time": "2021-07-08T11:49:03.455Z"
   },
   {
    "duration": 12,
    "start_time": "2021-07-08T11:49:03.497Z"
   },
   {
    "duration": 29,
    "start_time": "2021-07-08T11:49:03.511Z"
   },
   {
    "duration": 285,
    "start_time": "2021-07-08T11:49:03.542Z"
   },
   {
    "duration": 8,
    "start_time": "2021-07-08T11:49:03.829Z"
   },
   {
    "duration": 227,
    "start_time": "2021-07-08T11:49:03.838Z"
   },
   {
    "duration": 40,
    "start_time": "2021-07-08T11:49:04.066Z"
   },
   {
    "duration": 10,
    "start_time": "2021-07-08T11:49:04.108Z"
   },
   {
    "duration": 26,
    "start_time": "2021-07-08T11:49:04.121Z"
   },
   {
    "duration": 290,
    "start_time": "2021-07-08T11:49:04.149Z"
   },
   {
    "duration": 26,
    "start_time": "2021-07-08T11:49:04.441Z"
   },
   {
    "duration": 31,
    "start_time": "2021-07-08T11:49:04.470Z"
   },
   {
    "duration": 14,
    "start_time": "2021-07-08T11:49:04.503Z"
   },
   {
    "duration": 259,
    "start_time": "2021-07-08T11:49:04.521Z"
   },
   {
    "duration": 480,
    "start_time": "2021-07-08T11:49:04.782Z"
   },
   {
    "duration": 225,
    "start_time": "2021-07-08T11:49:05.264Z"
   },
   {
    "duration": 22,
    "start_time": "2021-07-08T11:49:05.491Z"
   },
   {
    "duration": 24,
    "start_time": "2021-07-08T11:49:05.515Z"
   },
   {
    "duration": 634,
    "start_time": "2021-07-08T11:52:24.960Z"
   },
   {
    "duration": 199,
    "start_time": "2021-07-08T11:52:25.599Z"
   },
   {
    "duration": 106,
    "start_time": "2021-07-08T11:52:25.803Z"
   },
   {
    "duration": 7,
    "start_time": "2021-07-08T11:52:25.911Z"
   },
   {
    "duration": 29,
    "start_time": "2021-07-08T11:52:25.920Z"
   },
   {
    "duration": 7,
    "start_time": "2021-07-08T11:52:25.951Z"
   },
   {
    "duration": 26,
    "start_time": "2021-07-08T11:52:25.961Z"
   },
   {
    "duration": 11,
    "start_time": "2021-07-08T11:52:25.990Z"
   },
   {
    "duration": 29,
    "start_time": "2021-07-08T11:52:26.005Z"
   },
   {
    "duration": 9,
    "start_time": "2021-07-08T11:52:26.036Z"
   },
   {
    "duration": 8,
    "start_time": "2021-07-08T11:52:26.047Z"
   },
   {
    "duration": 63,
    "start_time": "2021-07-08T11:52:26.057Z"
   },
   {
    "duration": 17,
    "start_time": "2021-07-08T11:52:26.122Z"
   },
   {
    "duration": 43,
    "start_time": "2021-07-08T11:52:26.142Z"
   },
   {
    "duration": 17,
    "start_time": "2021-07-08T11:52:26.187Z"
   },
   {
    "duration": 5,
    "start_time": "2021-07-08T11:52:26.206Z"
   },
   {
    "duration": 12,
    "start_time": "2021-07-08T11:52:26.212Z"
   },
   {
    "duration": 11,
    "start_time": "2021-07-08T11:52:26.226Z"
   },
   {
    "duration": 12,
    "start_time": "2021-07-08T11:52:26.238Z"
   },
   {
    "duration": 38,
    "start_time": "2021-07-08T11:52:26.252Z"
   },
   {
    "duration": 40,
    "start_time": "2021-07-08T11:52:26.292Z"
   },
   {
    "duration": 17,
    "start_time": "2021-07-08T11:52:26.336Z"
   },
   {
    "duration": 39,
    "start_time": "2021-07-08T11:52:26.355Z"
   },
   {
    "duration": 11,
    "start_time": "2021-07-08T11:52:26.395Z"
   },
   {
    "duration": 23,
    "start_time": "2021-07-08T11:52:26.408Z"
   },
   {
    "duration": 12,
    "start_time": "2021-07-08T11:52:26.432Z"
   },
   {
    "duration": 41,
    "start_time": "2021-07-08T11:52:26.446Z"
   },
   {
    "duration": 215,
    "start_time": "2021-07-08T11:52:26.493Z"
   },
   {
    "duration": 8,
    "start_time": "2021-07-08T11:52:26.710Z"
   },
   {
    "duration": 228,
    "start_time": "2021-07-08T11:52:26.720Z"
   },
   {
    "duration": 18,
    "start_time": "2021-07-08T11:52:26.950Z"
   },
   {
    "duration": 35,
    "start_time": "2021-07-08T11:52:26.969Z"
   },
   {
    "duration": 23,
    "start_time": "2021-07-08T11:52:27.006Z"
   },
   {
    "duration": 258,
    "start_time": "2021-07-08T11:52:27.030Z"
   },
   {
    "duration": 24,
    "start_time": "2021-07-08T11:52:27.290Z"
   },
   {
    "duration": 12,
    "start_time": "2021-07-08T11:52:27.316Z"
   },
   {
    "duration": 10,
    "start_time": "2021-07-08T11:52:27.329Z"
   },
   {
    "duration": 298,
    "start_time": "2021-07-08T11:52:27.341Z"
   },
   {
    "duration": 436,
    "start_time": "2021-07-08T11:52:27.641Z"
   },
   {
    "duration": 216,
    "start_time": "2021-07-08T11:52:28.079Z"
   },
   {
    "duration": 20,
    "start_time": "2021-07-08T11:52:28.297Z"
   },
   {
    "duration": 17,
    "start_time": "2021-07-08T11:52:28.319Z"
   },
   {
    "duration": 50,
    "start_time": "2024-09-03T12:58:19.445Z"
   },
   {
    "duration": 6,
    "start_time": "2024-09-03T12:58:37.229Z"
   },
   {
    "duration": 414,
    "start_time": "2024-09-03T12:58:47.808Z"
   },
   {
    "duration": 330,
    "start_time": "2024-09-03T12:58:48.224Z"
   },
   {
    "duration": 53,
    "start_time": "2024-09-03T13:00:07.482Z"
   },
   {
    "duration": 68,
    "start_time": "2024-09-03T13:00:14.427Z"
   },
   {
    "duration": 179,
    "start_time": "2024-09-03T13:01:55.197Z"
   },
   {
    "duration": 168,
    "start_time": "2024-09-03T13:02:19.244Z"
   },
   {
    "duration": 22,
    "start_time": "2024-09-03T13:02:59.869Z"
   },
   {
    "duration": 17,
    "start_time": "2024-09-03T13:06:59.018Z"
   },
   {
    "duration": 75,
    "start_time": "2024-09-03T15:54:45.625Z"
   },
   {
    "duration": 239,
    "start_time": "2024-09-03T15:58:47.581Z"
   },
   {
    "duration": 6,
    "start_time": "2024-09-03T16:00:52.792Z"
   },
   {
    "duration": 17,
    "start_time": "2024-09-03T16:01:22.610Z"
   },
   {
    "duration": 823,
    "start_time": "2024-09-03T16:03:24.664Z"
   },
   {
    "duration": 227,
    "start_time": "2024-09-03T16:05:05.584Z"
   },
   {
    "duration": 7,
    "start_time": "2024-09-03T16:05:54.351Z"
   },
   {
    "duration": 6,
    "start_time": "2024-09-03T16:05:59.187Z"
   },
   {
    "duration": 8,
    "start_time": "2024-09-03T16:06:05.216Z"
   },
   {
    "duration": 5,
    "start_time": "2024-09-03T16:06:13.552Z"
   },
   {
    "duration": 8,
    "start_time": "2024-09-03T16:06:45.847Z"
   },
   {
    "duration": 6,
    "start_time": "2024-09-03T16:06:48.806Z"
   },
   {
    "duration": 71,
    "start_time": "2024-09-03T16:06:53.325Z"
   },
   {
    "duration": 7,
    "start_time": "2024-09-03T16:06:56.263Z"
   },
   {
    "duration": 10,
    "start_time": "2024-09-03T16:07:10.714Z"
   },
   {
    "duration": 7,
    "start_time": "2024-09-03T16:07:13.535Z"
   },
   {
    "duration": 14,
    "start_time": "2024-09-03T16:10:05.748Z"
   },
   {
    "duration": 5,
    "start_time": "2024-09-03T16:10:42.965Z"
   },
   {
    "duration": 10,
    "start_time": "2024-09-03T16:10:52.169Z"
   },
   {
    "duration": 13,
    "start_time": "2024-09-03T16:12:19.475Z"
   },
   {
    "duration": 15,
    "start_time": "2024-09-03T16:12:41.744Z"
   },
   {
    "duration": 383,
    "start_time": "2024-09-03T16:13:45.117Z"
   },
   {
    "duration": 281,
    "start_time": "2024-09-03T16:13:45.502Z"
   },
   {
    "duration": 22,
    "start_time": "2024-09-03T16:13:45.784Z"
   },
   {
    "duration": 12,
    "start_time": "2024-09-03T16:13:45.808Z"
   },
   {
    "duration": 15,
    "start_time": "2024-09-03T16:13:45.822Z"
   },
   {
    "duration": 50,
    "start_time": "2024-09-04T14:28:28.470Z"
   },
   {
    "duration": 380,
    "start_time": "2024-09-04T14:28:35.138Z"
   },
   {
    "duration": 372,
    "start_time": "2024-09-04T14:28:35.519Z"
   },
   {
    "duration": 22,
    "start_time": "2024-09-04T14:28:35.895Z"
   },
   {
    "duration": 19,
    "start_time": "2024-09-04T14:28:35.919Z"
   },
   {
    "duration": 35,
    "start_time": "2024-09-04T14:28:35.940Z"
   },
   {
    "duration": 16,
    "start_time": "2024-09-04T14:28:35.976Z"
   },
   {
    "duration": 25,
    "start_time": "2024-09-04T14:30:49.604Z"
   },
   {
    "duration": 7,
    "start_time": "2024-09-04T14:31:22.093Z"
   },
   {
    "duration": 17,
    "start_time": "2024-09-04T14:31:33.586Z"
   },
   {
    "duration": 7,
    "start_time": "2024-09-04T14:35:23.908Z"
   },
   {
    "duration": 12,
    "start_time": "2024-09-04T14:35:24.634Z"
   },
   {
    "duration": 16,
    "start_time": "2024-09-04T14:35:33.051Z"
   },
   {
    "duration": 8,
    "start_time": "2024-09-04T14:35:57.506Z"
   },
   {
    "duration": 16,
    "start_time": "2024-09-04T14:35:58.811Z"
   },
   {
    "duration": 6,
    "start_time": "2024-09-04T14:36:49.051Z"
   },
   {
    "duration": 15,
    "start_time": "2024-09-04T14:36:49.836Z"
   },
   {
    "duration": 40,
    "start_time": "2024-09-04T14:36:55.963Z"
   },
   {
    "duration": 381,
    "start_time": "2024-09-04T14:37:04.332Z"
   },
   {
    "duration": 171,
    "start_time": "2024-09-04T14:37:04.715Z"
   },
   {
    "duration": 20,
    "start_time": "2024-09-04T14:37:04.887Z"
   },
   {
    "duration": 33,
    "start_time": "2024-09-04T14:37:04.909Z"
   },
   {
    "duration": 40,
    "start_time": "2024-09-04T14:37:04.943Z"
   },
   {
    "duration": 31,
    "start_time": "2024-09-04T14:37:04.985Z"
   },
   {
    "duration": 660,
    "start_time": "2024-09-04T14:37:05.017Z"
   },
   {
    "duration": 0,
    "start_time": "2024-09-04T14:37:05.679Z"
   },
   {
    "duration": 0,
    "start_time": "2024-09-04T14:37:05.680Z"
   },
   {
    "duration": 10,
    "start_time": "2024-09-04T14:37:12.053Z"
   },
   {
    "duration": 16,
    "start_time": "2024-09-04T14:37:13.141Z"
   },
   {
    "duration": 385,
    "start_time": "2024-09-04T14:38:05.862Z"
   },
   {
    "duration": 748,
    "start_time": "2024-09-04T14:39:01.881Z"
   },
   {
    "duration": 23,
    "start_time": "2024-09-04T14:39:36.888Z"
   },
   {
    "duration": 8,
    "start_time": "2024-09-04T14:39:56.671Z"
   },
   {
    "duration": 4,
    "start_time": "2024-09-04T14:45:47.465Z"
   },
   {
    "duration": 20,
    "start_time": "2024-09-04T14:45:48.702Z"
   },
   {
    "duration": 346,
    "start_time": "2024-09-04T14:46:24.257Z"
   },
   {
    "duration": 348,
    "start_time": "2024-09-04T14:47:37.425Z"
   },
   {
    "duration": 383,
    "start_time": "2024-09-04T14:47:55.053Z"
   },
   {
    "duration": 369,
    "start_time": "2024-09-04T14:51:25.341Z"
   },
   {
    "duration": 158,
    "start_time": "2024-09-04T14:51:25.711Z"
   },
   {
    "duration": 20,
    "start_time": "2024-09-04T14:51:25.871Z"
   },
   {
    "duration": 77,
    "start_time": "2024-09-04T14:51:27.869Z"
   },
   {
    "duration": 13,
    "start_time": "2024-09-04T14:51:58.680Z"
   },
   {
    "duration": 410,
    "start_time": "2024-09-04T14:52:15.074Z"
   },
   {
    "duration": 165,
    "start_time": "2024-09-04T14:52:15.486Z"
   },
   {
    "duration": 21,
    "start_time": "2024-09-04T14:52:15.653Z"
   },
   {
    "duration": 12,
    "start_time": "2024-09-04T14:52:15.676Z"
   },
   {
    "duration": 41,
    "start_time": "2024-09-04T14:52:15.690Z"
   },
   {
    "duration": 16,
    "start_time": "2024-09-04T14:52:40.490Z"
   },
   {
    "duration": 10,
    "start_time": "2024-09-04T14:52:41.898Z"
   },
   {
    "duration": 68,
    "start_time": "2024-09-04T14:54:35.590Z"
   },
   {
    "duration": 10,
    "start_time": "2024-09-04T14:56:27.459Z"
   },
   {
    "duration": 10,
    "start_time": "2024-09-04T14:58:59.450Z"
   },
   {
    "duration": 4,
    "start_time": "2024-09-04T14:59:06.489Z"
   },
   {
    "duration": 13,
    "start_time": "2024-09-04T14:59:10.512Z"
   },
   {
    "duration": 442,
    "start_time": "2024-09-04T14:59:53.797Z"
   },
   {
    "duration": 180,
    "start_time": "2024-09-04T14:59:54.241Z"
   },
   {
    "duration": 23,
    "start_time": "2024-09-04T14:59:54.423Z"
   },
   {
    "duration": 12,
    "start_time": "2024-09-04T14:59:54.448Z"
   },
   {
    "duration": 35,
    "start_time": "2024-09-04T14:59:54.462Z"
   },
   {
    "duration": 16,
    "start_time": "2024-09-04T14:59:55.561Z"
   },
   {
    "duration": 10,
    "start_time": "2024-09-04T14:59:56.769Z"
   },
   {
    "duration": 3,
    "start_time": "2024-09-04T15:03:24.920Z"
   },
   {
    "duration": 15,
    "start_time": "2024-09-04T15:03:39.378Z"
   },
   {
    "duration": 73,
    "start_time": "2024-09-04T15:04:03.946Z"
   },
   {
    "duration": 20,
    "start_time": "2024-09-04T15:04:48.250Z"
   },
   {
    "duration": 5,
    "start_time": "2024-09-04T15:05:09.597Z"
   },
   {
    "duration": 14,
    "start_time": "2024-09-04T15:05:23.133Z"
   },
   {
    "duration": 191,
    "start_time": "2024-09-04T15:05:40.408Z"
   },
   {
    "duration": 10,
    "start_time": "2024-09-04T15:05:54.895Z"
   },
   {
    "duration": 5,
    "start_time": "2024-09-04T15:06:02.767Z"
   },
   {
    "duration": 10,
    "start_time": "2024-09-04T15:06:06.598Z"
   },
   {
    "duration": 9,
    "start_time": "2024-09-04T15:06:16.713Z"
   },
   {
    "duration": 10,
    "start_time": "2024-09-04T15:06:19.552Z"
   },
   {
    "duration": 10,
    "start_time": "2024-09-04T15:06:21.785Z"
   },
   {
    "duration": 10,
    "start_time": "2024-09-04T15:06:23.591Z"
   },
   {
    "duration": 9,
    "start_time": "2024-09-04T15:06:25.712Z"
   },
   {
    "duration": 10,
    "start_time": "2024-09-04T15:06:27.728Z"
   },
   {
    "duration": 10,
    "start_time": "2024-09-04T15:06:30.265Z"
   },
   {
    "duration": 10,
    "start_time": "2024-09-04T15:06:32.943Z"
   },
   {
    "duration": 10,
    "start_time": "2024-09-04T15:06:35.424Z"
   },
   {
    "duration": 10,
    "start_time": "2024-09-04T15:06:40.257Z"
   },
   {
    "duration": 9,
    "start_time": "2024-09-04T15:06:43.406Z"
   },
   {
    "duration": 16,
    "start_time": "2024-09-04T15:06:45.921Z"
   },
   {
    "duration": 9,
    "start_time": "2024-09-04T15:06:50.107Z"
   },
   {
    "duration": 11,
    "start_time": "2024-09-04T15:07:34.846Z"
   },
   {
    "duration": 191,
    "start_time": "2024-09-04T15:07:44.068Z"
   },
   {
    "duration": 12,
    "start_time": "2024-09-04T15:07:51.765Z"
   },
   {
    "duration": 7,
    "start_time": "2024-09-04T15:10:55.257Z"
   },
   {
    "duration": 8,
    "start_time": "2024-09-04T15:12:50.704Z"
   },
   {
    "duration": 7,
    "start_time": "2024-09-04T15:13:23.284Z"
   },
   {
    "duration": 8,
    "start_time": "2024-09-04T15:13:27.508Z"
   },
   {
    "duration": 9,
    "start_time": "2024-09-04T15:13:50.117Z"
   },
   {
    "duration": 8,
    "start_time": "2024-09-04T15:13:59.235Z"
   },
   {
    "duration": 8,
    "start_time": "2024-09-04T15:14:50.782Z"
   },
   {
    "duration": 10,
    "start_time": "2024-09-04T15:14:56.164Z"
   },
   {
    "duration": 10,
    "start_time": "2024-09-04T15:20:35.315Z"
   },
   {
    "duration": 12,
    "start_time": "2024-09-04T15:20:59.495Z"
   },
   {
    "duration": 12,
    "start_time": "2024-09-04T15:21:22.750Z"
   },
   {
    "duration": 9,
    "start_time": "2024-09-04T15:21:34.600Z"
   },
   {
    "duration": 15,
    "start_time": "2024-09-04T15:21:37.880Z"
   },
   {
    "duration": 11,
    "start_time": "2024-09-04T17:56:56.629Z"
   },
   {
    "duration": 15,
    "start_time": "2024-09-04T17:57:51.772Z"
   },
   {
    "duration": 16,
    "start_time": "2024-09-04T17:58:19.764Z"
   },
   {
    "duration": 10,
    "start_time": "2024-09-04T17:58:40.785Z"
   },
   {
    "duration": 6,
    "start_time": "2024-09-04T17:58:49.328Z"
   },
   {
    "duration": 16,
    "start_time": "2024-09-04T17:58:53.980Z"
   },
   {
    "duration": 13,
    "start_time": "2024-09-04T17:59:29.257Z"
   },
   {
    "duration": 14,
    "start_time": "2024-09-04T17:59:37.200Z"
   },
   {
    "duration": 14,
    "start_time": "2024-09-04T17:59:58.507Z"
   },
   {
    "duration": 10,
    "start_time": "2024-09-04T18:00:30.065Z"
   },
   {
    "duration": 5,
    "start_time": "2024-09-04T18:00:36.784Z"
   },
   {
    "duration": 9,
    "start_time": "2024-09-04T18:00:47.388Z"
   },
   {
    "duration": 9,
    "start_time": "2024-09-04T18:00:49.628Z"
   },
   {
    "duration": 8,
    "start_time": "2024-09-04T18:00:53.683Z"
   },
   {
    "duration": 10,
    "start_time": "2024-09-04T18:00:59.490Z"
   },
   {
    "duration": 15,
    "start_time": "2024-09-04T18:01:05.858Z"
   },
   {
    "duration": 15,
    "start_time": "2024-09-04T18:03:37.744Z"
   },
   {
    "duration": 11,
    "start_time": "2024-09-04T18:04:07.838Z"
   },
   {
    "duration": 10,
    "start_time": "2024-09-04T18:04:12.023Z"
   },
   {
    "duration": 21,
    "start_time": "2024-09-04T18:04:14.231Z"
   },
   {
    "duration": 3,
    "start_time": "2024-09-04T18:04:56.307Z"
   },
   {
    "duration": 16,
    "start_time": "2024-09-04T18:06:54.371Z"
   },
   {
    "duration": 26,
    "start_time": "2024-09-04T18:08:10.722Z"
   },
   {
    "duration": 10,
    "start_time": "2024-09-04T18:09:29.169Z"
   },
   {
    "duration": 12,
    "start_time": "2024-09-04T18:09:47.427Z"
   },
   {
    "duration": 15,
    "start_time": "2024-09-04T18:09:51.331Z"
   },
   {
    "duration": 6,
    "start_time": "2024-09-04T18:10:00.068Z"
   },
   {
    "duration": 5,
    "start_time": "2024-09-04T18:10:10.171Z"
   },
   {
    "duration": 78,
    "start_time": "2024-09-04T18:12:14.494Z"
   },
   {
    "duration": 7,
    "start_time": "2024-09-04T18:12:17.605Z"
   },
   {
    "duration": 10,
    "start_time": "2024-09-04T18:12:23.783Z"
   },
   {
    "duration": 10,
    "start_time": "2024-09-04T18:12:41.094Z"
   },
   {
    "duration": 12,
    "start_time": "2024-09-04T18:12:56.872Z"
   },
   {
    "duration": 6,
    "start_time": "2024-09-04T18:13:26.440Z"
   },
   {
    "duration": 29,
    "start_time": "2024-09-04T18:15:26.796Z"
   },
   {
    "duration": 19,
    "start_time": "2024-09-04T18:15:47.587Z"
   },
   {
    "duration": 1685,
    "start_time": "2024-09-04T18:17:29.983Z"
   },
   {
    "duration": 1361,
    "start_time": "2024-09-04T18:17:45.104Z"
   },
   {
    "duration": 641,
    "start_time": "2024-09-04T18:18:10.910Z"
   },
   {
    "duration": 435,
    "start_time": "2024-09-04T18:18:19.691Z"
   },
   {
    "duration": 433,
    "start_time": "2024-09-04T18:19:24.701Z"
   },
   {
    "duration": 24,
    "start_time": "2024-09-04T18:19:36.084Z"
   },
   {
    "duration": 20,
    "start_time": "2024-09-04T18:19:59.265Z"
   },
   {
    "duration": 17,
    "start_time": "2024-09-04T18:20:09.227Z"
   },
   {
    "duration": 14622,
    "start_time": "2024-09-04T18:20:18.754Z"
   },
   {
    "duration": 588,
    "start_time": "2024-09-04T18:20:46.621Z"
   },
   {
    "duration": 14,
    "start_time": "2024-09-04T18:21:40.942Z"
   },
   {
    "duration": 18,
    "start_time": "2024-09-04T18:21:53.987Z"
   },
   {
    "duration": 26,
    "start_time": "2024-09-04T18:22:54.916Z"
   },
   {
    "duration": 30,
    "start_time": "2024-09-04T18:23:00.677Z"
   },
   {
    "duration": 16,
    "start_time": "2024-09-04T18:23:25.838Z"
   },
   {
    "duration": 12,
    "start_time": "2024-09-04T18:24:00.694Z"
   },
   {
    "duration": 10,
    "start_time": "2024-09-04T18:24:05.551Z"
   },
   {
    "duration": 19,
    "start_time": "2024-09-04T18:25:08.777Z"
   },
   {
    "duration": 12,
    "start_time": "2024-09-04T18:25:26.041Z"
   },
   {
    "duration": 8,
    "start_time": "2024-09-04T18:25:33.363Z"
   },
   {
    "duration": 14,
    "start_time": "2024-09-04T18:26:06.920Z"
   },
   {
    "duration": 8,
    "start_time": "2024-09-04T18:28:16.385Z"
   },
   {
    "duration": 347,
    "start_time": "2024-09-04T18:28:58.865Z"
   },
   {
    "duration": 8,
    "start_time": "2024-09-04T18:29:41.600Z"
   },
   {
    "duration": 13,
    "start_time": "2024-09-04T18:30:56.448Z"
   },
   {
    "duration": 11,
    "start_time": "2024-09-04T18:31:12.559Z"
   },
   {
    "duration": 11,
    "start_time": "2024-09-04T18:31:17.439Z"
   },
   {
    "duration": 12,
    "start_time": "2024-09-04T18:32:19.182Z"
   },
   {
    "duration": 566,
    "start_time": "2024-09-04T18:32:57.756Z"
   },
   {
    "duration": 23,
    "start_time": "2024-09-04T18:33:01.227Z"
   },
   {
    "duration": 11,
    "start_time": "2024-09-04T18:33:15.772Z"
   },
   {
    "duration": 40,
    "start_time": "2024-09-04T18:35:12.310Z"
   },
   {
    "duration": 11,
    "start_time": "2024-09-04T18:35:33.345Z"
   },
   {
    "duration": 29,
    "start_time": "2024-09-04T18:35:44.148Z"
   },
   {
    "duration": 26,
    "start_time": "2024-09-04T18:38:08.583Z"
   },
   {
    "duration": 9,
    "start_time": "2024-09-04T18:42:28.131Z"
   },
   {
    "duration": 8,
    "start_time": "2024-09-04T18:42:29.253Z"
   },
   {
    "duration": 333,
    "start_time": "2024-09-05T14:46:02.805Z"
   },
   {
    "duration": 365,
    "start_time": "2024-09-05T14:46:03.140Z"
   },
   {
    "duration": 17,
    "start_time": "2024-09-05T14:46:03.507Z"
   },
   {
    "duration": 30,
    "start_time": "2024-09-05T14:46:03.526Z"
   },
   {
    "duration": 14,
    "start_time": "2024-09-05T14:46:03.557Z"
   },
   {
    "duration": 10,
    "start_time": "2024-09-05T14:46:03.572Z"
   },
   {
    "duration": 9,
    "start_time": "2024-09-05T14:46:03.583Z"
   },
   {
    "duration": 11,
    "start_time": "2024-09-05T14:46:03.593Z"
   },
   {
    "duration": 6,
    "start_time": "2024-09-05T14:46:03.605Z"
   },
   {
    "duration": 40,
    "start_time": "2024-09-05T14:46:03.612Z"
   },
   {
    "duration": 7,
    "start_time": "2024-09-05T14:46:03.653Z"
   },
   {
    "duration": 4,
    "start_time": "2024-09-05T14:46:03.661Z"
   },
   {
    "duration": 6,
    "start_time": "2024-09-05T14:46:03.666Z"
   },
   {
    "duration": 7,
    "start_time": "2024-09-05T14:46:03.673Z"
   },
   {
    "duration": 4,
    "start_time": "2024-09-05T14:51:21.884Z"
   },
   {
    "duration": 22,
    "start_time": "2024-09-05T14:53:29.869Z"
   },
   {
    "duration": 13,
    "start_time": "2024-09-05T14:53:58.258Z"
   },
   {
    "duration": 9,
    "start_time": "2024-09-05T14:54:03.078Z"
   },
   {
    "duration": 8,
    "start_time": "2024-09-05T14:58:17.465Z"
   },
   {
    "duration": 10,
    "start_time": "2024-09-05T14:58:23.440Z"
   },
   {
    "duration": 10,
    "start_time": "2024-09-05T14:59:08.942Z"
   },
   {
    "duration": 11,
    "start_time": "2024-09-05T15:00:31.711Z"
   },
   {
    "duration": 10,
    "start_time": "2024-09-05T15:00:35.487Z"
   },
   {
    "duration": 14,
    "start_time": "2024-09-05T15:00:38.750Z"
   },
   {
    "duration": 3,
    "start_time": "2024-09-05T15:04:41.634Z"
   },
   {
    "duration": 4,
    "start_time": "2024-09-05T15:04:54.241Z"
   },
   {
    "duration": 3,
    "start_time": "2024-09-05T15:04:58.504Z"
   },
   {
    "duration": 6,
    "start_time": "2024-09-05T15:14:29.301Z"
   },
   {
    "duration": 3,
    "start_time": "2024-09-05T15:15:38.265Z"
   },
   {
    "duration": 4,
    "start_time": "2024-09-05T15:20:40.625Z"
   },
   {
    "duration": 4,
    "start_time": "2024-09-05T15:20:40.971Z"
   },
   {
    "duration": 5,
    "start_time": "2024-09-05T15:21:09.919Z"
   },
   {
    "duration": 4,
    "start_time": "2024-09-05T15:21:19.617Z"
   },
   {
    "duration": 4,
    "start_time": "2024-09-05T15:21:23.985Z"
   },
   {
    "duration": 7,
    "start_time": "2024-09-05T15:23:20.345Z"
   },
   {
    "duration": 4,
    "start_time": "2024-09-05T15:23:46.224Z"
   },
   {
    "duration": 11,
    "start_time": "2024-09-05T15:24:12.586Z"
   },
   {
    "duration": 9,
    "start_time": "2024-09-05T15:24:15.634Z"
   },
   {
    "duration": 4,
    "start_time": "2024-09-05T15:27:41.497Z"
   },
   {
    "duration": 4,
    "start_time": "2024-09-05T15:27:47.871Z"
   },
   {
    "duration": 25,
    "start_time": "2024-09-05T15:28:01.924Z"
   },
   {
    "duration": 12,
    "start_time": "2024-09-05T15:29:04.045Z"
   },
   {
    "duration": 3,
    "start_time": "2024-09-05T15:29:32.174Z"
   },
   {
    "duration": 723,
    "start_time": "2024-09-05T15:29:40.444Z"
   },
   {
    "duration": 27,
    "start_time": "2024-09-05T15:29:56.590Z"
   },
   {
    "duration": 13,
    "start_time": "2024-09-05T15:31:23.568Z"
   },
   {
    "duration": 8,
    "start_time": "2024-09-05T15:31:25.993Z"
   },
   {
    "duration": 13,
    "start_time": "2024-09-05T15:31:31.110Z"
   },
   {
    "duration": 21,
    "start_time": "2024-09-05T15:38:28.018Z"
   },
   {
    "duration": 22,
    "start_time": "2024-09-05T15:38:45.673Z"
   },
   {
    "duration": 21,
    "start_time": "2024-09-05T15:38:53.737Z"
   },
   {
    "duration": 24,
    "start_time": "2024-09-05T15:40:06.998Z"
   },
   {
    "duration": 8,
    "start_time": "2024-09-05T15:40:33.324Z"
   },
   {
    "duration": 9,
    "start_time": "2024-09-05T15:41:21.530Z"
   },
   {
    "duration": 8,
    "start_time": "2024-09-05T15:41:44.701Z"
   },
   {
    "duration": 10,
    "start_time": "2024-09-05T15:41:50.182Z"
   },
   {
    "duration": 24,
    "start_time": "2024-09-05T15:43:07.370Z"
   },
   {
    "duration": 5,
    "start_time": "2024-09-05T15:43:24.926Z"
   },
   {
    "duration": 7,
    "start_time": "2024-09-05T15:45:32.555Z"
   },
   {
    "duration": 8,
    "start_time": "2024-09-05T15:45:35.814Z"
   },
   {
    "duration": 8,
    "start_time": "2024-09-05T15:45:46.773Z"
   },
   {
    "duration": 7,
    "start_time": "2024-09-05T15:46:15.325Z"
   },
   {
    "duration": 14,
    "start_time": "2024-09-05T15:47:54.548Z"
   },
   {
    "duration": 14,
    "start_time": "2024-09-05T15:51:57.829Z"
   },
   {
    "duration": 18,
    "start_time": "2024-09-05T15:52:05.686Z"
   },
   {
    "duration": 23,
    "start_time": "2024-09-05T15:52:12.454Z"
   },
   {
    "duration": 34,
    "start_time": "2024-09-05T15:52:20.582Z"
   },
   {
    "duration": 18,
    "start_time": "2024-09-05T15:56:40.823Z"
   },
   {
    "duration": 17,
    "start_time": "2024-09-05T15:59:18.331Z"
   },
   {
    "duration": 351,
    "start_time": "2024-09-05T16:00:06.286Z"
   },
   {
    "duration": 184,
    "start_time": "2024-09-05T16:00:06.639Z"
   },
   {
    "duration": 16,
    "start_time": "2024-09-05T16:00:06.824Z"
   },
   {
    "duration": 13,
    "start_time": "2024-09-05T16:00:06.842Z"
   },
   {
    "duration": 13,
    "start_time": "2024-09-05T16:00:06.856Z"
   },
   {
    "duration": 24,
    "start_time": "2024-09-05T16:00:06.870Z"
   },
   {
    "duration": 8,
    "start_time": "2024-09-05T16:00:06.895Z"
   },
   {
    "duration": 10,
    "start_time": "2024-09-05T16:00:06.905Z"
   },
   {
    "duration": 6,
    "start_time": "2024-09-05T16:00:06.916Z"
   },
   {
    "duration": 11,
    "start_time": "2024-09-05T16:00:06.924Z"
   },
   {
    "duration": 20,
    "start_time": "2024-09-05T16:00:06.936Z"
   },
   {
    "duration": 4,
    "start_time": "2024-09-05T16:00:06.957Z"
   },
   {
    "duration": 7,
    "start_time": "2024-09-05T16:00:06.962Z"
   },
   {
    "duration": 10,
    "start_time": "2024-09-05T16:00:06.970Z"
   },
   {
    "duration": 24,
    "start_time": "2024-09-05T16:00:06.981Z"
   },
   {
    "duration": 28,
    "start_time": "2024-09-05T16:00:07.006Z"
   },
   {
    "duration": 13,
    "start_time": "2024-09-05T16:00:07.050Z"
   },
   {
    "duration": 15,
    "start_time": "2024-09-05T16:00:07.064Z"
   },
   {
    "duration": 20,
    "start_time": "2024-09-05T16:00:07.080Z"
   },
   {
    "duration": 35,
    "start_time": "2024-09-05T16:00:07.101Z"
   },
   {
    "duration": 15,
    "start_time": "2024-09-05T16:00:07.150Z"
   },
   {
    "duration": 23,
    "start_time": "2024-09-05T16:00:07.166Z"
   },
   {
    "duration": 13,
    "start_time": "2024-09-05T16:00:47.095Z"
   },
   {
    "duration": 17,
    "start_time": "2024-09-05T16:11:32.577Z"
   },
   {
    "duration": 60,
    "start_time": "2024-09-05T16:15:02.957Z"
   },
   {
    "duration": 10,
    "start_time": "2024-09-05T16:15:08.612Z"
   },
   {
    "duration": 9,
    "start_time": "2024-09-05T16:15:13.956Z"
   },
   {
    "duration": 12,
    "start_time": "2024-09-05T16:15:42.661Z"
   },
   {
    "duration": 12,
    "start_time": "2024-09-05T16:16:23.194Z"
   },
   {
    "duration": 14,
    "start_time": "2024-09-05T16:18:39.567Z"
   },
   {
    "duration": 367,
    "start_time": "2024-09-05T16:19:36.409Z"
   },
   {
    "duration": 139,
    "start_time": "2024-09-05T16:19:36.778Z"
   },
   {
    "duration": 15,
    "start_time": "2024-09-05T16:19:36.918Z"
   },
   {
    "duration": 16,
    "start_time": "2024-09-05T16:19:36.935Z"
   },
   {
    "duration": 13,
    "start_time": "2024-09-05T16:19:36.953Z"
   },
   {
    "duration": 19,
    "start_time": "2024-09-05T16:19:36.968Z"
   },
   {
    "duration": 8,
    "start_time": "2024-09-05T16:19:36.988Z"
   },
   {
    "duration": 17,
    "start_time": "2024-09-05T16:19:36.997Z"
   },
   {
    "duration": 5,
    "start_time": "2024-09-05T16:19:37.015Z"
   },
   {
    "duration": 23,
    "start_time": "2024-09-05T16:19:37.022Z"
   },
   {
    "duration": 6,
    "start_time": "2024-09-05T16:19:37.046Z"
   },
   {
    "duration": 5,
    "start_time": "2024-09-05T16:19:37.053Z"
   },
   {
    "duration": 8,
    "start_time": "2024-09-05T16:19:37.059Z"
   },
   {
    "duration": 9,
    "start_time": "2024-09-05T16:19:37.068Z"
   },
   {
    "duration": 12,
    "start_time": "2024-09-05T16:19:37.078Z"
   },
   {
    "duration": 30,
    "start_time": "2024-09-05T16:19:37.091Z"
   },
   {
    "duration": 33,
    "start_time": "2024-09-05T16:19:37.123Z"
   },
   {
    "duration": 18,
    "start_time": "2024-09-05T16:19:37.157Z"
   },
   {
    "duration": 13,
    "start_time": "2024-09-05T16:19:37.176Z"
   },
   {
    "duration": 33,
    "start_time": "2024-09-05T16:19:37.191Z"
   },
   {
    "duration": 38,
    "start_time": "2024-09-05T16:19:37.225Z"
   },
   {
    "duration": 15,
    "start_time": "2024-09-05T16:19:37.265Z"
   },
   {
    "duration": 25,
    "start_time": "2024-09-05T16:19:37.281Z"
   },
   {
    "duration": 15,
    "start_time": "2024-09-05T16:20:22.419Z"
   },
   {
    "duration": 59,
    "start_time": "2024-09-05T16:21:07.796Z"
   },
   {
    "duration": 6,
    "start_time": "2024-09-05T16:21:14.340Z"
   },
   {
    "duration": 336,
    "start_time": "2024-09-05T16:22:43.289Z"
   },
   {
    "duration": 139,
    "start_time": "2024-09-05T16:22:43.626Z"
   },
   {
    "duration": 16,
    "start_time": "2024-09-05T16:22:43.766Z"
   },
   {
    "duration": 13,
    "start_time": "2024-09-05T16:22:43.783Z"
   },
   {
    "duration": 12,
    "start_time": "2024-09-05T16:22:43.797Z"
   },
   {
    "duration": 9,
    "start_time": "2024-09-05T16:22:43.810Z"
   },
   {
    "duration": 10,
    "start_time": "2024-09-05T16:22:43.820Z"
   },
   {
    "duration": 42,
    "start_time": "2024-09-05T16:22:43.831Z"
   },
   {
    "duration": 6,
    "start_time": "2024-09-05T16:22:43.874Z"
   },
   {
    "duration": 17,
    "start_time": "2024-09-05T16:22:43.881Z"
   },
   {
    "duration": 5,
    "start_time": "2024-09-05T16:22:43.900Z"
   },
   {
    "duration": 4,
    "start_time": "2024-09-05T16:22:43.906Z"
   },
   {
    "duration": 6,
    "start_time": "2024-09-05T16:22:43.911Z"
   },
   {
    "duration": 5,
    "start_time": "2024-09-05T16:22:43.918Z"
   },
   {
    "duration": 11,
    "start_time": "2024-09-05T16:22:43.925Z"
   },
   {
    "duration": 39,
    "start_time": "2024-09-05T16:22:43.937Z"
   },
   {
    "duration": 11,
    "start_time": "2024-09-05T16:22:43.978Z"
   },
   {
    "duration": 18,
    "start_time": "2024-09-05T16:22:43.991Z"
   },
   {
    "duration": 13,
    "start_time": "2024-09-05T16:22:44.011Z"
   },
   {
    "duration": 55,
    "start_time": "2024-09-05T16:22:44.026Z"
   },
   {
    "duration": 17,
    "start_time": "2024-09-05T16:22:44.083Z"
   },
   {
    "duration": 16,
    "start_time": "2024-09-05T16:22:44.101Z"
   },
   {
    "duration": 34,
    "start_time": "2024-09-05T16:22:44.118Z"
   },
   {
    "duration": 29,
    "start_time": "2024-09-05T16:22:44.153Z"
   },
   {
    "duration": 402,
    "start_time": "2024-09-05T16:23:49.018Z"
   },
   {
    "duration": 149,
    "start_time": "2024-09-05T16:23:49.421Z"
   },
   {
    "duration": 16,
    "start_time": "2024-09-05T16:23:49.571Z"
   },
   {
    "duration": 9,
    "start_time": "2024-09-05T16:23:49.589Z"
   },
   {
    "duration": 12,
    "start_time": "2024-09-05T16:23:49.599Z"
   },
   {
    "duration": 10,
    "start_time": "2024-09-05T16:23:49.613Z"
   },
   {
    "duration": 8,
    "start_time": "2024-09-05T16:23:49.624Z"
   },
   {
    "duration": 14,
    "start_time": "2024-09-05T16:23:49.650Z"
   },
   {
    "duration": 6,
    "start_time": "2024-09-05T16:23:49.665Z"
   },
   {
    "duration": 11,
    "start_time": "2024-09-05T16:23:49.673Z"
   },
   {
    "duration": 6,
    "start_time": "2024-09-05T16:23:49.685Z"
   },
   {
    "duration": 6,
    "start_time": "2024-09-05T16:23:49.692Z"
   },
   {
    "duration": 9,
    "start_time": "2024-09-05T16:23:49.699Z"
   },
   {
    "duration": 42,
    "start_time": "2024-09-05T16:23:49.709Z"
   },
   {
    "duration": 11,
    "start_time": "2024-09-05T16:23:49.753Z"
   },
   {
    "duration": 35,
    "start_time": "2024-09-05T16:23:49.766Z"
   },
   {
    "duration": 13,
    "start_time": "2024-09-05T16:23:49.802Z"
   },
   {
    "duration": 13,
    "start_time": "2024-09-05T16:23:49.816Z"
   },
   {
    "duration": 31,
    "start_time": "2024-09-05T16:23:49.830Z"
   },
   {
    "duration": 60,
    "start_time": "2024-09-05T16:23:49.863Z"
   },
   {
    "duration": 17,
    "start_time": "2024-09-05T16:23:49.924Z"
   },
   {
    "duration": 14,
    "start_time": "2024-09-05T16:23:49.943Z"
   },
   {
    "duration": 7,
    "start_time": "2024-09-05T16:23:49.958Z"
   },
   {
    "duration": 23,
    "start_time": "2024-09-05T16:23:49.966Z"
   },
   {
    "duration": 355,
    "start_time": "2024-09-05T16:24:52.971Z"
   },
   {
    "duration": 141,
    "start_time": "2024-09-05T16:24:53.327Z"
   },
   {
    "duration": 15,
    "start_time": "2024-09-05T16:24:53.469Z"
   },
   {
    "duration": 9,
    "start_time": "2024-09-05T16:24:53.485Z"
   },
   {
    "duration": 31,
    "start_time": "2024-09-05T16:24:53.495Z"
   },
   {
    "duration": 14,
    "start_time": "2024-09-05T16:24:53.527Z"
   },
   {
    "duration": 10,
    "start_time": "2024-09-05T16:24:53.542Z"
   },
   {
    "duration": 12,
    "start_time": "2024-09-05T16:24:53.553Z"
   },
   {
    "duration": 6,
    "start_time": "2024-09-05T16:24:53.567Z"
   },
   {
    "duration": 14,
    "start_time": "2024-09-05T16:24:53.575Z"
   },
   {
    "duration": 6,
    "start_time": "2024-09-05T16:24:53.590Z"
   },
   {
    "duration": 4,
    "start_time": "2024-09-05T16:24:53.597Z"
   },
   {
    "duration": 6,
    "start_time": "2024-09-05T16:24:53.602Z"
   },
   {
    "duration": 12,
    "start_time": "2024-09-05T16:24:53.609Z"
   },
   {
    "duration": 31,
    "start_time": "2024-09-05T16:24:53.622Z"
   },
   {
    "duration": 28,
    "start_time": "2024-09-05T16:24:53.654Z"
   },
   {
    "duration": 13,
    "start_time": "2024-09-05T16:24:53.683Z"
   },
   {
    "duration": 12,
    "start_time": "2024-09-05T16:24:53.697Z"
   },
   {
    "duration": 15,
    "start_time": "2024-09-05T16:24:53.710Z"
   },
   {
    "duration": 54,
    "start_time": "2024-09-05T16:24:53.726Z"
   },
   {
    "duration": 41,
    "start_time": "2024-09-05T16:24:53.782Z"
   },
   {
    "duration": 11,
    "start_time": "2024-09-05T16:24:53.825Z"
   },
   {
    "duration": 35,
    "start_time": "2024-09-05T16:24:53.837Z"
   },
   {
    "duration": 43,
    "start_time": "2024-09-05T16:24:53.873Z"
   },
   {
    "duration": 59,
    "start_time": "2024-09-05T16:27:58.859Z"
   },
   {
    "duration": 6,
    "start_time": "2024-09-05T16:28:08.422Z"
   },
   {
    "duration": 12,
    "start_time": "2024-09-05T16:28:49.408Z"
   },
   {
    "duration": 13,
    "start_time": "2024-09-05T16:29:06.304Z"
   },
   {
    "duration": 11,
    "start_time": "2024-09-05T16:29:16.363Z"
   },
   {
    "duration": 12,
    "start_time": "2024-09-05T16:29:18.624Z"
   },
   {
    "duration": 11,
    "start_time": "2024-09-05T16:29:22.186Z"
   },
   {
    "duration": 20,
    "start_time": "2024-09-05T16:34:50.418Z"
   },
   {
    "duration": 381,
    "start_time": "2024-09-05T16:38:22.142Z"
   },
   {
    "duration": 139,
    "start_time": "2024-09-05T16:38:22.524Z"
   },
   {
    "duration": 17,
    "start_time": "2024-09-05T16:38:22.664Z"
   },
   {
    "duration": 25,
    "start_time": "2024-09-05T16:38:22.683Z"
   },
   {
    "duration": 28,
    "start_time": "2024-09-05T16:38:22.709Z"
   },
   {
    "duration": 12,
    "start_time": "2024-09-05T16:38:29.351Z"
   },
   {
    "duration": 9,
    "start_time": "2024-09-05T16:38:29.735Z"
   },
   {
    "duration": 11,
    "start_time": "2024-09-05T16:38:31.612Z"
   },
   {
    "duration": 6,
    "start_time": "2024-09-05T16:38:32.077Z"
   },
   {
    "duration": 11,
    "start_time": "2024-09-05T16:38:32.921Z"
   },
   {
    "duration": 22,
    "start_time": "2024-09-05T16:38:47.327Z"
   },
   {
    "duration": 8,
    "start_time": "2024-09-05T16:39:38.178Z"
   },
   {
    "duration": 4,
    "start_time": "2024-09-05T16:39:44.000Z"
   },
   {
    "duration": 6,
    "start_time": "2024-09-05T16:39:46.848Z"
   },
   {
    "duration": 6,
    "start_time": "2024-09-05T16:39:48.448Z"
   },
   {
    "duration": 11,
    "start_time": "2024-09-05T16:39:52.944Z"
   },
   {
    "duration": 27,
    "start_time": "2024-09-05T16:39:54.637Z"
   },
   {
    "duration": 12,
    "start_time": "2024-09-05T16:39:55.008Z"
   },
   {
    "duration": 12,
    "start_time": "2024-09-05T16:39:55.584Z"
   },
   {
    "duration": 14,
    "start_time": "2024-09-05T16:39:56.224Z"
   },
   {
    "duration": 31,
    "start_time": "2024-09-05T16:39:56.431Z"
   },
   {
    "duration": 12,
    "start_time": "2024-09-05T16:39:59.886Z"
   },
   {
    "duration": 12,
    "start_time": "2024-09-05T16:40:00.256Z"
   },
   {
    "duration": 19,
    "start_time": "2024-09-05T16:40:14.616Z"
   },
   {
    "duration": 23,
    "start_time": "2024-09-05T16:40:26.620Z"
   },
   {
    "duration": 20,
    "start_time": "2024-09-05T16:41:02.772Z"
   },
   {
    "duration": 16,
    "start_time": "2024-09-05T16:41:14.292Z"
   },
   {
    "duration": 3,
    "start_time": "2024-09-05T16:42:33.720Z"
   },
   {
    "duration": 55,
    "start_time": "2024-09-05T16:43:40.038Z"
   },
   {
    "duration": 4,
    "start_time": "2024-09-05T16:44:04.510Z"
   },
   {
    "duration": 10,
    "start_time": "2024-09-05T16:44:11.230Z"
   },
   {
    "duration": 10,
    "start_time": "2024-09-05T16:45:26.627Z"
   },
   {
    "duration": 328,
    "start_time": "2024-09-05T16:45:31.498Z"
   },
   {
    "duration": 145,
    "start_time": "2024-09-05T16:45:31.827Z"
   },
   {
    "duration": 17,
    "start_time": "2024-09-05T16:45:31.974Z"
   },
   {
    "duration": 11,
    "start_time": "2024-09-05T16:45:31.992Z"
   },
   {
    "duration": 12,
    "start_time": "2024-09-05T16:45:32.004Z"
   },
   {
    "duration": 13,
    "start_time": "2024-09-05T16:45:32.018Z"
   },
   {
    "duration": 8,
    "start_time": "2024-09-05T16:45:32.051Z"
   },
   {
    "duration": 15,
    "start_time": "2024-09-05T16:45:32.060Z"
   },
   {
    "duration": 7,
    "start_time": "2024-09-05T16:45:32.076Z"
   },
   {
    "duration": 11,
    "start_time": "2024-09-05T16:45:32.085Z"
   },
   {
    "duration": 7,
    "start_time": "2024-09-05T16:45:32.097Z"
   },
   {
    "duration": 3,
    "start_time": "2024-09-05T16:45:32.105Z"
   },
   {
    "duration": 6,
    "start_time": "2024-09-05T16:45:32.110Z"
   },
   {
    "duration": 36,
    "start_time": "2024-09-05T16:45:32.117Z"
   },
   {
    "duration": 13,
    "start_time": "2024-09-05T16:45:32.154Z"
   },
   {
    "duration": 27,
    "start_time": "2024-09-05T16:45:32.168Z"
   },
   {
    "duration": 12,
    "start_time": "2024-09-05T16:45:32.196Z"
   },
   {
    "duration": 13,
    "start_time": "2024-09-05T16:45:32.209Z"
   },
   {
    "duration": 34,
    "start_time": "2024-09-05T16:45:32.223Z"
   },
   {
    "duration": 37,
    "start_time": "2024-09-05T16:45:32.258Z"
   },
   {
    "duration": 12,
    "start_time": "2024-09-05T16:45:32.297Z"
   },
   {
    "duration": 11,
    "start_time": "2024-09-05T16:45:32.310Z"
   },
   {
    "duration": 20,
    "start_time": "2024-09-05T16:45:32.351Z"
   },
   {
    "duration": 7,
    "start_time": "2024-09-05T16:45:32.372Z"
   },
   {
    "duration": 3,
    "start_time": "2024-09-05T19:57:54.096Z"
   },
   {
    "duration": 13,
    "start_time": "2024-09-05T19:58:05.024Z"
   },
   {
    "duration": 5,
    "start_time": "2024-09-05T20:01:23.376Z"
   },
   {
    "duration": 3,
    "start_time": "2024-09-05T20:01:57.066Z"
   },
   {
    "duration": 2,
    "start_time": "2024-09-05T20:02:07.817Z"
   },
   {
    "duration": 3,
    "start_time": "2024-09-05T20:02:11.972Z"
   },
   {
    "duration": 3,
    "start_time": "2024-09-05T20:02:24.004Z"
   },
   {
    "duration": 59,
    "start_time": "2024-09-05T20:02:32.568Z"
   },
   {
    "duration": 48,
    "start_time": "2024-09-05T20:03:11.323Z"
   },
   {
    "duration": 60,
    "start_time": "2024-09-05T20:03:16.461Z"
   },
   {
    "duration": 349,
    "start_time": "2024-09-05T20:03:23.128Z"
   },
   {
    "duration": 12,
    "start_time": "2024-09-05T20:06:28.207Z"
   },
   {
    "duration": 6,
    "start_time": "2024-09-05T20:06:32.676Z"
   },
   {
    "duration": 6,
    "start_time": "2024-09-05T20:06:45.022Z"
   },
   {
    "duration": 4,
    "start_time": "2024-09-05T20:07:13.876Z"
   },
   {
    "duration": 5,
    "start_time": "2024-09-05T20:07:27.263Z"
   },
   {
    "duration": 4,
    "start_time": "2024-09-05T20:07:33.118Z"
   },
   {
    "duration": 7,
    "start_time": "2024-09-05T20:07:46.000Z"
   },
   {
    "duration": 4,
    "start_time": "2024-09-05T20:09:30.025Z"
   },
   {
    "duration": 29,
    "start_time": "2024-09-05T20:09:37.544Z"
   },
   {
    "duration": 5,
    "start_time": "2024-09-05T20:09:56.217Z"
   },
   {
    "duration": 7,
    "start_time": "2024-09-05T20:10:10.970Z"
   },
   {
    "duration": 5,
    "start_time": "2024-09-05T20:13:50.973Z"
   },
   {
    "duration": 2,
    "start_time": "2024-09-05T20:14:03.308Z"
   },
   {
    "duration": 5,
    "start_time": "2024-09-05T20:14:07.253Z"
   },
   {
    "duration": 2,
    "start_time": "2024-09-05T20:15:48.586Z"
   },
   {
    "duration": 5,
    "start_time": "2024-09-05T20:15:51.795Z"
   },
   {
    "duration": 5,
    "start_time": "2024-09-05T20:15:58.969Z"
   },
   {
    "duration": 5,
    "start_time": "2024-09-05T20:16:04.547Z"
   },
   {
    "duration": 7,
    "start_time": "2024-09-05T20:16:51.654Z"
   },
   {
    "duration": 5,
    "start_time": "2024-09-05T20:17:31.750Z"
   },
   {
    "duration": 11,
    "start_time": "2024-09-05T20:17:35.269Z"
   },
   {
    "duration": 12,
    "start_time": "2024-09-05T20:17:40.279Z"
   },
   {
    "duration": 12,
    "start_time": "2024-09-05T20:17:59.381Z"
   },
   {
    "duration": 12,
    "start_time": "2024-09-05T20:18:13.202Z"
   },
   {
    "duration": 12,
    "start_time": "2024-09-05T20:18:17.361Z"
   },
   {
    "duration": 14,
    "start_time": "2024-09-05T20:18:22.527Z"
   },
   {
    "duration": 7,
    "start_time": "2024-09-05T20:24:33.147Z"
   },
   {
    "duration": 3,
    "start_time": "2024-09-05T20:24:35.498Z"
   },
   {
    "duration": 183,
    "start_time": "2024-09-05T20:24:35.733Z"
   },
   {
    "duration": 3,
    "start_time": "2024-09-05T20:25:48.761Z"
   },
   {
    "duration": 172,
    "start_time": "2024-09-05T20:25:49.486Z"
   },
   {
    "duration": 4,
    "start_time": "2024-09-05T20:27:42.873Z"
   },
   {
    "duration": 13,
    "start_time": "2024-09-05T20:27:55.343Z"
   },
   {
    "duration": 31,
    "start_time": "2024-09-05T20:28:16.908Z"
   },
   {
    "duration": 6,
    "start_time": "2024-09-05T20:28:39.680Z"
   },
   {
    "duration": 8,
    "start_time": "2024-09-05T20:28:47.265Z"
   },
   {
    "duration": 3,
    "start_time": "2024-09-05T20:29:35.794Z"
   },
   {
    "duration": 197,
    "start_time": "2024-09-05T20:29:42.017Z"
   },
   {
    "duration": 3,
    "start_time": "2024-09-05T20:30:19.412Z"
   },
   {
    "duration": 173,
    "start_time": "2024-09-05T20:30:20.747Z"
   },
   {
    "duration": 3,
    "start_time": "2024-09-05T20:31:25.135Z"
   },
   {
    "duration": 171,
    "start_time": "2024-09-05T20:31:28.233Z"
   },
   {
    "duration": 2,
    "start_time": "2024-09-05T20:31:43.876Z"
   },
   {
    "duration": 184,
    "start_time": "2024-09-05T20:31:45.657Z"
   },
   {
    "duration": 8,
    "start_time": "2024-09-05T20:32:06.500Z"
   },
   {
    "duration": 8,
    "start_time": "2024-09-05T20:32:14.075Z"
   },
   {
    "duration": 9,
    "start_time": "2024-09-05T20:32:23.021Z"
   },
   {
    "duration": 7,
    "start_time": "2024-09-05T20:32:35.549Z"
   },
   {
    "duration": 8,
    "start_time": "2024-09-05T20:33:02.525Z"
   },
   {
    "duration": 642,
    "start_time": "2024-09-05T20:33:27.593Z"
   },
   {
    "duration": 657,
    "start_time": "2024-09-05T20:34:02.016Z"
   },
   {
    "duration": 15,
    "start_time": "2024-09-05T20:34:11.488Z"
   },
   {
    "duration": 651,
    "start_time": "2024-09-05T20:34:22.250Z"
   },
   {
    "duration": 3,
    "start_time": "2024-09-05T20:34:28.818Z"
   },
   {
    "duration": 14,
    "start_time": "2024-09-05T20:34:33.292Z"
   },
   {
    "duration": 1707,
    "start_time": "2024-09-05T20:34:41.791Z"
   },
   {
    "duration": 13,
    "start_time": "2024-09-05T20:34:56.656Z"
   },
   {
    "duration": 1140,
    "start_time": "2024-09-05T20:35:04.524Z"
   },
   {
    "duration": 1670,
    "start_time": "2024-09-05T20:35:34.731Z"
   },
   {
    "duration": 14,
    "start_time": "2024-09-05T20:36:15.827Z"
   },
   {
    "duration": 4,
    "start_time": "2024-09-05T20:36:29.731Z"
   },
   {
    "duration": 1702,
    "start_time": "2024-09-05T20:37:15.684Z"
   },
   {
    "duration": 1187,
    "start_time": "2024-09-05T20:37:20.874Z"
   },
   {
    "duration": 365,
    "start_time": "2024-09-05T20:38:07.752Z"
   },
   {
    "duration": 167,
    "start_time": "2024-09-05T20:38:08.118Z"
   },
   {
    "duration": 16,
    "start_time": "2024-09-05T20:38:08.287Z"
   },
   {
    "duration": 10,
    "start_time": "2024-09-05T20:38:08.304Z"
   },
   {
    "duration": 13,
    "start_time": "2024-09-05T20:38:08.315Z"
   },
   {
    "duration": 13,
    "start_time": "2024-09-05T20:38:08.330Z"
   },
   {
    "duration": 8,
    "start_time": "2024-09-05T20:38:08.351Z"
   },
   {
    "duration": 22,
    "start_time": "2024-09-05T20:38:08.361Z"
   },
   {
    "duration": 8,
    "start_time": "2024-09-05T20:38:08.384Z"
   },
   {
    "duration": 11,
    "start_time": "2024-09-05T20:38:08.395Z"
   },
   {
    "duration": 7,
    "start_time": "2024-09-05T20:38:08.408Z"
   },
   {
    "duration": 4,
    "start_time": "2024-09-05T20:38:08.416Z"
   },
   {
    "duration": 33,
    "start_time": "2024-09-05T20:38:08.421Z"
   },
   {
    "duration": 8,
    "start_time": "2024-09-05T20:38:08.455Z"
   },
   {
    "duration": 11,
    "start_time": "2024-09-05T20:38:08.464Z"
   },
   {
    "duration": 27,
    "start_time": "2024-09-05T20:38:08.476Z"
   },
   {
    "duration": 12,
    "start_time": "2024-09-05T20:38:08.504Z"
   },
   {
    "duration": 40,
    "start_time": "2024-09-05T20:38:08.517Z"
   },
   {
    "duration": 14,
    "start_time": "2024-09-05T20:38:08.558Z"
   },
   {
    "duration": 32,
    "start_time": "2024-09-05T20:38:08.573Z"
   },
   {
    "duration": 12,
    "start_time": "2024-09-05T20:38:08.606Z"
   },
   {
    "duration": 38,
    "start_time": "2024-09-05T20:38:08.619Z"
   },
   {
    "duration": 20,
    "start_time": "2024-09-05T20:38:08.658Z"
   },
   {
    "duration": 6,
    "start_time": "2024-09-05T20:38:08.679Z"
   },
   {
    "duration": 3,
    "start_time": "2024-09-05T20:38:08.686Z"
   },
   {
    "duration": 13,
    "start_time": "2024-09-05T20:38:08.690Z"
   },
   {
    "duration": 3,
    "start_time": "2024-09-05T20:38:08.704Z"
   },
   {
    "duration": 692,
    "start_time": "2024-09-05T20:38:08.709Z"
   },
   {
    "duration": 0,
    "start_time": "2024-09-05T20:38:09.402Z"
   },
   {
    "duration": 691,
    "start_time": "2024-09-05T20:38:20.871Z"
   },
   {
    "duration": 1114,
    "start_time": "2024-09-05T20:38:33.495Z"
   },
   {
    "duration": 4,
    "start_time": "2024-09-05T20:39:29.475Z"
   },
   {
    "duration": 3,
    "start_time": "2024-09-05T20:40:24.273Z"
   },
   {
    "duration": 163,
    "start_time": "2024-09-05T20:40:27.033Z"
   },
   {
    "duration": 3,
    "start_time": "2024-09-05T20:40:40.010Z"
   },
   {
    "duration": 162,
    "start_time": "2024-09-05T20:40:41.561Z"
   },
   {
    "duration": 5,
    "start_time": "2024-09-05T20:41:37.578Z"
   },
   {
    "duration": 7,
    "start_time": "2024-09-05T20:42:07.701Z"
   },
   {
    "duration": 8,
    "start_time": "2024-09-05T20:42:14.326Z"
   },
   {
    "duration": 1866,
    "start_time": "2024-09-05T20:44:52.638Z"
   },
   {
    "duration": 379,
    "start_time": "2024-09-05T20:45:17.743Z"
   },
   {
    "duration": 147,
    "start_time": "2024-09-05T20:45:18.124Z"
   },
   {
    "duration": 15,
    "start_time": "2024-09-05T20:45:18.272Z"
   },
   {
    "duration": 10,
    "start_time": "2024-09-05T20:45:18.289Z"
   },
   {
    "duration": 12,
    "start_time": "2024-09-05T20:45:18.301Z"
   },
   {
    "duration": 11,
    "start_time": "2024-09-05T20:45:18.314Z"
   },
   {
    "duration": 27,
    "start_time": "2024-09-05T20:45:18.326Z"
   },
   {
    "duration": 12,
    "start_time": "2024-09-05T20:45:18.354Z"
   },
   {
    "duration": 6,
    "start_time": "2024-09-05T20:45:18.367Z"
   },
   {
    "duration": 15,
    "start_time": "2024-09-05T20:45:18.375Z"
   },
   {
    "duration": 6,
    "start_time": "2024-09-05T20:45:18.391Z"
   },
   {
    "duration": 8,
    "start_time": "2024-09-05T20:45:18.398Z"
   },
   {
    "duration": 10,
    "start_time": "2024-09-05T20:45:18.407Z"
   },
   {
    "duration": 6,
    "start_time": "2024-09-05T20:45:18.418Z"
   },
   {
    "duration": 31,
    "start_time": "2024-09-05T20:45:18.425Z"
   },
   {
    "duration": 27,
    "start_time": "2024-09-05T20:45:18.457Z"
   },
   {
    "duration": 12,
    "start_time": "2024-09-05T20:45:18.485Z"
   },
   {
    "duration": 19,
    "start_time": "2024-09-05T20:45:18.498Z"
   },
   {
    "duration": 13,
    "start_time": "2024-09-05T20:45:18.518Z"
   },
   {
    "duration": 31,
    "start_time": "2024-09-05T20:45:18.550Z"
   },
   {
    "duration": 12,
    "start_time": "2024-09-05T20:45:18.583Z"
   },
   {
    "duration": 11,
    "start_time": "2024-09-05T20:45:18.596Z"
   },
   {
    "duration": 48,
    "start_time": "2024-09-05T20:45:18.608Z"
   },
   {
    "duration": 4,
    "start_time": "2024-09-05T20:45:18.657Z"
   },
   {
    "duration": 5,
    "start_time": "2024-09-05T20:45:18.662Z"
   },
   {
    "duration": 13,
    "start_time": "2024-09-05T20:45:18.669Z"
   },
   {
    "duration": 1787,
    "start_time": "2024-09-05T20:45:18.683Z"
   },
   {
    "duration": 0,
    "start_time": "2024-09-05T20:45:20.472Z"
   },
   {
    "duration": 14,
    "start_time": "2024-09-05T20:45:31.513Z"
   },
   {
    "duration": 1083,
    "start_time": "2024-09-05T20:45:46.192Z"
   },
   {
    "duration": 1004,
    "start_time": "2024-09-05T20:46:13.472Z"
   },
   {
    "duration": 1122,
    "start_time": "2024-09-05T20:46:35.216Z"
   },
   {
    "duration": 1119,
    "start_time": "2024-09-05T20:47:07.665Z"
   },
   {
    "duration": 391,
    "start_time": "2024-09-05T20:49:35.320Z"
   },
   {
    "duration": 143,
    "start_time": "2024-09-05T20:49:35.713Z"
   },
   {
    "duration": 16,
    "start_time": "2024-09-05T20:49:35.859Z"
   },
   {
    "duration": 10,
    "start_time": "2024-09-05T20:49:35.877Z"
   },
   {
    "duration": 12,
    "start_time": "2024-09-05T20:49:35.888Z"
   },
   {
    "duration": 15,
    "start_time": "2024-09-05T20:49:35.901Z"
   },
   {
    "duration": 37,
    "start_time": "2024-09-05T20:49:35.917Z"
   },
   {
    "duration": 11,
    "start_time": "2024-09-05T20:49:35.955Z"
   },
   {
    "duration": 6,
    "start_time": "2024-09-05T20:49:35.968Z"
   },
   {
    "duration": 9,
    "start_time": "2024-09-05T20:49:35.975Z"
   },
   {
    "duration": 6,
    "start_time": "2024-09-05T20:49:35.986Z"
   },
   {
    "duration": 4,
    "start_time": "2024-09-05T20:49:35.994Z"
   },
   {
    "duration": 7,
    "start_time": "2024-09-05T20:49:35.999Z"
   },
   {
    "duration": 7,
    "start_time": "2024-09-05T20:49:36.008Z"
   },
   {
    "duration": 36,
    "start_time": "2024-09-05T20:49:36.016Z"
   },
   {
    "duration": 16,
    "start_time": "2024-09-05T20:49:36.053Z"
   },
   {
    "duration": 24,
    "start_time": "2024-09-05T20:49:36.071Z"
   },
   {
    "duration": 11,
    "start_time": "2024-09-05T20:49:36.096Z"
   },
   {
    "duration": 26,
    "start_time": "2024-09-05T20:49:36.108Z"
   },
   {
    "duration": 18,
    "start_time": "2024-09-05T20:49:36.135Z"
   },
   {
    "duration": 29,
    "start_time": "2024-09-05T20:49:36.154Z"
   },
   {
    "duration": 12,
    "start_time": "2024-09-05T20:49:36.184Z"
   },
   {
    "duration": 12,
    "start_time": "2024-09-05T20:49:36.197Z"
   },
   {
    "duration": 48,
    "start_time": "2024-09-05T20:49:36.210Z"
   },
   {
    "duration": 4,
    "start_time": "2024-09-05T20:49:36.259Z"
   },
   {
    "duration": 5,
    "start_time": "2024-09-05T20:49:36.264Z"
   },
   {
    "duration": 13,
    "start_time": "2024-09-05T20:49:36.271Z"
   },
   {
    "duration": 18,
    "start_time": "2024-09-05T20:49:36.285Z"
   },
   {
    "duration": 2899,
    "start_time": "2024-09-05T20:49:36.304Z"
   },
   {
    "duration": 66,
    "start_time": "2024-09-05T20:49:39.204Z"
   },
   {
    "duration": 336,
    "start_time": "2024-09-05T20:50:04.906Z"
   },
   {
    "duration": 136,
    "start_time": "2024-09-05T20:50:05.244Z"
   },
   {
    "duration": 16,
    "start_time": "2024-09-05T20:50:05.381Z"
   },
   {
    "duration": 10,
    "start_time": "2024-09-05T20:50:05.398Z"
   },
   {
    "duration": 13,
    "start_time": "2024-09-05T20:50:05.409Z"
   },
   {
    "duration": 13,
    "start_time": "2024-09-05T20:50:05.423Z"
   },
   {
    "duration": 15,
    "start_time": "2024-09-05T20:50:05.437Z"
   },
   {
    "duration": 18,
    "start_time": "2024-09-05T20:50:05.454Z"
   },
   {
    "duration": 6,
    "start_time": "2024-09-05T20:50:05.473Z"
   },
   {
    "duration": 10,
    "start_time": "2024-09-05T20:50:05.482Z"
   },
   {
    "duration": 6,
    "start_time": "2024-09-05T20:50:05.494Z"
   },
   {
    "duration": 15,
    "start_time": "2024-09-05T20:50:05.501Z"
   },
   {
    "duration": 20,
    "start_time": "2024-09-05T20:50:05.517Z"
   },
   {
    "duration": 6,
    "start_time": "2024-09-05T20:50:05.539Z"
   },
   {
    "duration": 6,
    "start_time": "2024-09-05T20:50:05.547Z"
   },
   {
    "duration": 19,
    "start_time": "2024-09-05T20:50:05.554Z"
   },
   {
    "duration": 26,
    "start_time": "2024-09-05T20:50:05.574Z"
   },
   {
    "duration": 12,
    "start_time": "2024-09-05T20:50:05.601Z"
   },
   {
    "duration": 18,
    "start_time": "2024-09-05T20:50:05.615Z"
   },
   {
    "duration": 25,
    "start_time": "2024-09-05T20:50:05.635Z"
   },
   {
    "duration": 41,
    "start_time": "2024-09-05T20:50:05.661Z"
   },
   {
    "duration": 13,
    "start_time": "2024-09-05T20:50:05.704Z"
   },
   {
    "duration": 11,
    "start_time": "2024-09-05T20:50:05.718Z"
   },
   {
    "duration": 37,
    "start_time": "2024-09-05T20:50:05.730Z"
   },
   {
    "duration": 4,
    "start_time": "2024-09-05T20:50:05.768Z"
   },
   {
    "duration": 9,
    "start_time": "2024-09-05T20:50:05.773Z"
   },
   {
    "duration": 16,
    "start_time": "2024-09-05T20:50:05.783Z"
   },
   {
    "duration": 13,
    "start_time": "2024-09-05T20:50:05.801Z"
   },
   {
    "duration": 1975,
    "start_time": "2024-09-05T20:50:05.815Z"
   },
   {
    "duration": 17,
    "start_time": "2024-09-05T20:53:13.677Z"
   },
   {
    "duration": 19,
    "start_time": "2024-09-05T20:54:18.537Z"
   },
   {
    "duration": 23,
    "start_time": "2024-09-05T20:54:25.661Z"
   },
   {
    "duration": 24,
    "start_time": "2024-09-05T20:54:34.285Z"
   },
   {
    "duration": 3,
    "start_time": "2024-09-05T20:54:57.885Z"
   },
   {
    "duration": 25,
    "start_time": "2024-09-05T20:55:01.958Z"
   },
   {
    "duration": 27,
    "start_time": "2024-09-05T20:55:39.855Z"
   },
   {
    "duration": 58,
    "start_time": "2024-09-05T20:56:18.040Z"
   },
   {
    "duration": 6,
    "start_time": "2024-09-05T20:56:25.726Z"
   },
   {
    "duration": 23,
    "start_time": "2024-09-05T20:57:03.130Z"
   },
   {
    "duration": 24,
    "start_time": "2024-09-05T20:57:18.776Z"
   },
   {
    "duration": 23,
    "start_time": "2024-09-05T20:57:27.584Z"
   },
   {
    "duration": 25,
    "start_time": "2024-09-05T20:58:00.011Z"
   },
   {
    "duration": 50,
    "start_time": "2024-09-05T20:58:23.756Z"
   },
   {
    "duration": 23,
    "start_time": "2024-09-05T20:58:33.132Z"
   },
   {
    "duration": 38,
    "start_time": "2024-09-05T20:59:05.667Z"
   },
   {
    "duration": 25,
    "start_time": "2024-09-05T20:59:27.084Z"
   },
   {
    "duration": 24,
    "start_time": "2024-09-05T21:00:29.517Z"
   },
   {
    "duration": 23,
    "start_time": "2024-09-05T21:00:38.499Z"
   },
   {
    "duration": 25,
    "start_time": "2024-09-05T21:00:54.963Z"
   },
   {
    "duration": 25,
    "start_time": "2024-09-05T21:01:13.523Z"
   },
   {
    "duration": 26,
    "start_time": "2024-09-05T21:01:20.465Z"
   },
   {
    "duration": 14,
    "start_time": "2024-09-05T21:01:33.052Z"
   },
   {
    "duration": 26,
    "start_time": "2024-09-05T21:02:32.514Z"
   },
   {
    "duration": 24,
    "start_time": "2024-09-05T21:02:53.410Z"
   },
   {
    "duration": 17,
    "start_time": "2024-09-05T21:03:11.074Z"
   },
   {
    "duration": 390,
    "start_time": "2024-09-06T09:27:17.359Z"
   },
   {
    "duration": 452,
    "start_time": "2024-09-06T09:27:17.751Z"
   },
   {
    "duration": 22,
    "start_time": "2024-09-06T09:27:18.204Z"
   },
   {
    "duration": 41,
    "start_time": "2024-09-06T09:27:18.228Z"
   },
   {
    "duration": 14,
    "start_time": "2024-09-06T09:27:18.271Z"
   },
   {
    "duration": 14,
    "start_time": "2024-09-06T09:27:18.287Z"
   },
   {
    "duration": 9,
    "start_time": "2024-09-06T09:27:18.302Z"
   },
   {
    "duration": 14,
    "start_time": "2024-09-06T09:27:18.312Z"
   },
   {
    "duration": 7,
    "start_time": "2024-09-06T09:27:18.327Z"
   },
   {
    "duration": 27,
    "start_time": "2024-09-06T09:27:18.337Z"
   },
   {
    "duration": 8,
    "start_time": "2024-09-06T09:27:18.366Z"
   },
   {
    "duration": 9,
    "start_time": "2024-09-06T09:27:18.375Z"
   },
   {
    "duration": 7,
    "start_time": "2024-09-06T09:27:18.386Z"
   },
   {
    "duration": 5,
    "start_time": "2024-09-06T09:27:18.395Z"
   },
   {
    "duration": 25,
    "start_time": "2024-09-06T09:27:18.401Z"
   },
   {
    "duration": 16,
    "start_time": "2024-09-06T09:27:18.428Z"
   },
   {
    "duration": 32,
    "start_time": "2024-09-06T09:27:18.445Z"
   },
   {
    "duration": 16,
    "start_time": "2024-09-06T09:27:18.479Z"
   },
   {
    "duration": 80,
    "start_time": "2024-09-06T09:27:18.497Z"
   },
   {
    "duration": 16,
    "start_time": "2024-09-06T09:27:18.579Z"
   },
   {
    "duration": 41,
    "start_time": "2024-09-06T09:27:18.596Z"
   },
   {
    "duration": 16,
    "start_time": "2024-09-06T09:27:18.638Z"
   },
   {
    "duration": 14,
    "start_time": "2024-09-06T09:27:18.655Z"
   },
   {
    "duration": 25,
    "start_time": "2024-09-06T09:27:18.671Z"
   },
   {
    "duration": 5,
    "start_time": "2024-09-06T09:27:18.726Z"
   },
   {
    "duration": 8,
    "start_time": "2024-09-06T09:27:18.733Z"
   },
   {
    "duration": 18,
    "start_time": "2024-09-06T09:27:18.742Z"
   },
   {
    "duration": 2722,
    "start_time": "2024-09-06T09:27:18.762Z"
   },
   {
    "duration": 21,
    "start_time": "2024-09-06T09:27:21.485Z"
   },
   {
    "duration": 434,
    "start_time": "2024-09-06T09:39:59.613Z"
   },
   {
    "duration": 213,
    "start_time": "2024-09-06T09:40:00.049Z"
   },
   {
    "duration": 22,
    "start_time": "2024-09-06T09:40:00.264Z"
   },
   {
    "duration": 24,
    "start_time": "2024-09-06T09:40:00.288Z"
   },
   {
    "duration": 28,
    "start_time": "2024-09-06T09:40:00.314Z"
   },
   {
    "duration": 24,
    "start_time": "2024-09-06T09:40:00.343Z"
   },
   {
    "duration": 22,
    "start_time": "2024-09-06T09:40:00.368Z"
   },
   {
    "duration": 28,
    "start_time": "2024-09-06T09:40:00.391Z"
   },
   {
    "duration": 16,
    "start_time": "2024-09-06T09:40:00.421Z"
   },
   {
    "duration": 26,
    "start_time": "2024-09-06T09:40:00.440Z"
   },
   {
    "duration": 11,
    "start_time": "2024-09-06T09:40:00.468Z"
   },
   {
    "duration": 132,
    "start_time": "2024-09-06T09:40:00.481Z"
   },
   {
    "duration": 26,
    "start_time": "2024-09-06T09:40:00.615Z"
   },
   {
    "duration": 22,
    "start_time": "2024-09-06T09:40:00.643Z"
   },
   {
    "duration": 30,
    "start_time": "2024-09-06T09:40:00.667Z"
   },
   {
    "duration": 16,
    "start_time": "2024-09-06T09:40:00.699Z"
   },
   {
    "duration": 33,
    "start_time": "2024-09-06T09:40:00.717Z"
   },
   {
    "duration": 15,
    "start_time": "2024-09-06T09:40:00.752Z"
   },
   {
    "duration": 24,
    "start_time": "2024-09-06T09:40:00.769Z"
   },
   {
    "duration": 31,
    "start_time": "2024-09-06T09:40:00.795Z"
   },
   {
    "duration": 46,
    "start_time": "2024-09-06T09:40:00.827Z"
   },
   {
    "duration": 15,
    "start_time": "2024-09-06T09:40:00.874Z"
   },
   {
    "duration": 38,
    "start_time": "2024-09-06T09:40:00.891Z"
   },
   {
    "duration": 24,
    "start_time": "2024-09-06T09:40:00.930Z"
   },
   {
    "duration": 6,
    "start_time": "2024-09-06T09:40:00.956Z"
   },
   {
    "duration": 15,
    "start_time": "2024-09-06T09:40:00.963Z"
   },
   {
    "duration": 15,
    "start_time": "2024-09-06T09:40:00.980Z"
   },
   {
    "duration": 2731,
    "start_time": "2024-09-06T09:40:00.998Z"
   },
   {
    "duration": 21,
    "start_time": "2024-09-06T09:40:03.730Z"
   },
   {
    "duration": 4,
    "start_time": "2024-09-06T09:40:52.582Z"
   },
   {
    "duration": 4,
    "start_time": "2024-09-06T09:42:09.318Z"
   },
   {
    "duration": 4,
    "start_time": "2024-09-06T09:42:16.424Z"
   },
   {
    "duration": 4,
    "start_time": "2024-09-06T09:43:58.437Z"
   },
   {
    "duration": 4,
    "start_time": "2024-09-06T09:46:13.343Z"
   },
   {
    "duration": 392,
    "start_time": "2024-09-06T09:46:42.046Z"
   },
   {
    "duration": 458,
    "start_time": "2024-09-06T09:46:42.440Z"
   },
   {
    "duration": 20,
    "start_time": "2024-09-06T09:46:44.905Z"
   },
   {
    "duration": 15,
    "start_time": "2024-09-06T09:46:50.118Z"
   },
   {
    "duration": 16,
    "start_time": "2024-09-06T09:46:57.283Z"
   },
   {
    "duration": 5,
    "start_time": "2024-09-06T09:47:07.756Z"
   },
   {
    "duration": 6,
    "start_time": "2024-09-06T09:47:14.303Z"
   },
   {
    "duration": 358,
    "start_time": "2024-09-06T09:47:56.683Z"
   },
   {
    "duration": 166,
    "start_time": "2024-09-06T09:47:57.043Z"
   },
   {
    "duration": 22,
    "start_time": "2024-09-06T09:47:57.211Z"
   },
   {
    "duration": 76,
    "start_time": "2024-09-06T09:47:58.846Z"
   },
   {
    "duration": 14,
    "start_time": "2024-09-06T09:48:15.182Z"
   },
   {
    "duration": 413,
    "start_time": "2024-09-06T09:48:39.243Z"
   },
   {
    "duration": 168,
    "start_time": "2024-09-06T09:48:39.658Z"
   },
   {
    "duration": 19,
    "start_time": "2024-09-06T09:48:39.828Z"
   },
   {
    "duration": 14,
    "start_time": "2024-09-06T09:48:43.076Z"
   },
   {
    "duration": 51,
    "start_time": "2024-09-06T09:49:00.702Z"
   },
   {
    "duration": 438,
    "start_time": "2024-09-06T09:49:17.305Z"
   },
   {
    "duration": 159,
    "start_time": "2024-09-06T09:49:17.745Z"
   },
   {
    "duration": 21,
    "start_time": "2024-09-06T09:49:17.906Z"
   },
   {
    "duration": 15,
    "start_time": "2024-09-06T09:49:18.856Z"
   },
   {
    "duration": 3,
    "start_time": "2024-09-06T09:49:39.085Z"
   },
   {
    "duration": 57,
    "start_time": "2024-09-06T09:49:41.431Z"
   },
   {
    "duration": 5,
    "start_time": "2024-09-06T09:49:48.006Z"
   },
   {
    "duration": 414,
    "start_time": "2024-09-06T09:51:15.625Z"
   },
   {
    "duration": 168,
    "start_time": "2024-09-06T09:51:16.041Z"
   },
   {
    "duration": 22,
    "start_time": "2024-09-06T09:51:16.211Z"
   },
   {
    "duration": 17,
    "start_time": "2024-09-06T09:51:17.650Z"
   },
   {
    "duration": 6,
    "start_time": "2024-09-06T09:51:19.023Z"
   },
   {
    "duration": 14,
    "start_time": "2024-09-06T09:51:35.065Z"
   },
   {
    "duration": 4,
    "start_time": "2024-09-06T09:51:36.817Z"
   },
   {
    "duration": 17,
    "start_time": "2024-09-06T09:52:04.522Z"
   },
   {
    "duration": 14,
    "start_time": "2024-09-06T09:52:36.824Z"
   },
   {
    "duration": 16,
    "start_time": "2024-09-06T09:52:44.186Z"
   },
   {
    "duration": 22,
    "start_time": "2024-09-06T09:53:00.214Z"
   },
   {
    "duration": 11,
    "start_time": "2024-09-06T09:53:09.684Z"
   },
   {
    "duration": 15,
    "start_time": "2024-09-06T09:53:10.264Z"
   },
   {
    "duration": 12,
    "start_time": "2024-09-06T09:53:29.658Z"
   },
   {
    "duration": 10,
    "start_time": "2024-09-06T09:58:00.403Z"
   },
   {
    "duration": 8,
    "start_time": "2024-09-06T09:58:03.579Z"
   },
   {
    "duration": 12,
    "start_time": "2024-09-06T09:58:08.046Z"
   },
   {
    "duration": 6,
    "start_time": "2024-09-06T10:02:00.716Z"
   },
   {
    "duration": 10,
    "start_time": "2024-09-06T10:02:08.323Z"
   },
   {
    "duration": 25,
    "start_time": "2024-09-06T10:02:36.027Z"
   },
   {
    "duration": 31,
    "start_time": "2024-09-06T10:02:38.829Z"
   },
   {
    "duration": 29,
    "start_time": "2024-09-06T10:03:20.329Z"
   },
   {
    "duration": 4,
    "start_time": "2024-09-06T10:04:01.024Z"
   },
   {
    "duration": 15,
    "start_time": "2024-09-06T10:04:51.808Z"
   },
   {
    "duration": 6,
    "start_time": "2024-09-06T10:08:35.449Z"
   },
   {
    "duration": 15,
    "start_time": "2024-09-06T10:08:46.572Z"
   },
   {
    "duration": 14,
    "start_time": "2024-09-06T10:09:23.827Z"
   },
   {
    "duration": 9,
    "start_time": "2024-09-06T10:09:45.207Z"
   },
   {
    "duration": 16,
    "start_time": "2024-09-06T10:09:56.107Z"
   },
   {
    "duration": 30,
    "start_time": "2024-09-06T10:10:42.339Z"
   },
   {
    "duration": 16,
    "start_time": "2024-09-06T10:18:34.131Z"
   },
   {
    "duration": 17,
    "start_time": "2024-09-06T10:18:57.098Z"
   },
   {
    "duration": 29,
    "start_time": "2024-09-06T10:19:45.588Z"
   },
   {
    "duration": 6,
    "start_time": "2024-09-06T10:19:57.506Z"
   },
   {
    "duration": 9,
    "start_time": "2024-09-06T10:20:08.247Z"
   },
   {
    "duration": 19,
    "start_time": "2024-09-06T10:50:56.096Z"
   },
   {
    "duration": 33,
    "start_time": "2024-09-06T10:51:50.990Z"
   },
   {
    "duration": 26,
    "start_time": "2024-09-06T10:52:15.950Z"
   },
   {
    "duration": 5,
    "start_time": "2024-09-06T10:52:25.972Z"
   },
   {
    "duration": 4,
    "start_time": "2024-09-06T10:52:31.750Z"
   },
   {
    "duration": 17,
    "start_time": "2024-09-06T10:52:34.279Z"
   },
   {
    "duration": 6613,
    "start_time": "2024-09-06T10:53:03.670Z"
   },
   {
    "duration": 28,
    "start_time": "2024-09-06T10:53:32.381Z"
   },
   {
    "duration": 52,
    "start_time": "2024-09-06T13:23:46.049Z"
   },
   {
    "duration": 448,
    "start_time": "2024-09-06T13:23:50.032Z"
   },
   {
    "duration": 660,
    "start_time": "2024-09-06T13:23:50.482Z"
   },
   {
    "duration": 22,
    "start_time": "2024-09-06T13:23:51.143Z"
   },
   {
    "duration": 16,
    "start_time": "2024-09-06T13:23:51.166Z"
   },
   {
    "duration": 15,
    "start_time": "2024-09-06T13:23:51.185Z"
   },
   {
    "duration": 16,
    "start_time": "2024-09-06T13:23:51.202Z"
   },
   {
    "duration": 37,
    "start_time": "2024-09-06T13:23:51.219Z"
   },
   {
    "duration": 18,
    "start_time": "2024-09-06T13:23:51.257Z"
   },
   {
    "duration": 9,
    "start_time": "2024-09-06T13:23:51.277Z"
   },
   {
    "duration": 18,
    "start_time": "2024-09-06T13:23:51.288Z"
   },
   {
    "duration": 9,
    "start_time": "2024-09-06T13:23:51.308Z"
   },
   {
    "duration": 9,
    "start_time": "2024-09-06T13:23:51.319Z"
   },
   {
    "duration": 9,
    "start_time": "2024-09-06T13:23:51.352Z"
   },
   {
    "duration": 7,
    "start_time": "2024-09-06T13:23:51.364Z"
   },
   {
    "duration": 16,
    "start_time": "2024-09-06T13:23:51.372Z"
   },
   {
    "duration": 5,
    "start_time": "2024-09-06T13:23:51.391Z"
   },
   {
    "duration": 15,
    "start_time": "2024-09-06T13:23:51.397Z"
   },
   {
    "duration": 46,
    "start_time": "2024-09-06T13:23:51.414Z"
   },
   {
    "duration": 28,
    "start_time": "2024-09-06T13:23:51.461Z"
   },
   {
    "duration": 26,
    "start_time": "2024-09-06T13:23:51.490Z"
   },
   {
    "duration": 25,
    "start_time": "2024-09-06T13:23:51.519Z"
   },
   {
    "duration": 29,
    "start_time": "2024-09-06T13:23:51.551Z"
   },
   {
    "duration": 28,
    "start_time": "2024-09-06T13:23:51.582Z"
   },
   {
    "duration": 5,
    "start_time": "2024-09-06T13:23:51.612Z"
   },
   {
    "duration": 49,
    "start_time": "2024-09-06T13:23:51.619Z"
   },
   {
    "duration": 22,
    "start_time": "2024-09-06T13:23:51.670Z"
   },
   {
    "duration": 29,
    "start_time": "2024-09-06T13:23:51.694Z"
   },
   {
    "duration": 30,
    "start_time": "2024-09-06T13:23:51.724Z"
   },
   {
    "duration": 9,
    "start_time": "2024-09-06T13:23:51.756Z"
   },
   {
    "duration": 17,
    "start_time": "2024-09-06T13:23:51.766Z"
   },
   {
    "duration": 6552,
    "start_time": "2024-09-06T13:23:51.785Z"
   },
   {
    "duration": 82,
    "start_time": "2024-09-06T13:23:58.338Z"
   },
   {
    "duration": 0,
    "start_time": "2024-09-06T13:23:58.421Z"
   },
   {
    "duration": 6,
    "start_time": "2024-09-06T13:25:04.607Z"
   },
   {
    "duration": 440,
    "start_time": "2024-09-06T13:25:42.425Z"
   },
   {
    "duration": 162,
    "start_time": "2024-09-06T13:25:42.867Z"
   },
   {
    "duration": 22,
    "start_time": "2024-09-06T13:25:43.031Z"
   },
   {
    "duration": 15,
    "start_time": "2024-09-06T13:25:43.056Z"
   },
   {
    "duration": 17,
    "start_time": "2024-09-06T13:25:43.073Z"
   },
   {
    "duration": 17,
    "start_time": "2024-09-06T13:25:43.091Z"
   },
   {
    "duration": 16,
    "start_time": "2024-09-06T13:25:43.110Z"
   },
   {
    "duration": 40,
    "start_time": "2024-09-06T13:25:43.128Z"
   },
   {
    "duration": 11,
    "start_time": "2024-09-06T13:25:43.170Z"
   },
   {
    "duration": 17,
    "start_time": "2024-09-06T13:25:43.184Z"
   },
   {
    "duration": 20,
    "start_time": "2024-09-06T13:25:43.203Z"
   },
   {
    "duration": 12,
    "start_time": "2024-09-06T13:25:43.225Z"
   },
   {
    "duration": 19,
    "start_time": "2024-09-06T13:25:43.239Z"
   },
   {
    "duration": 9,
    "start_time": "2024-09-06T13:25:43.259Z"
   },
   {
    "duration": 12,
    "start_time": "2024-09-06T13:25:43.269Z"
   },
   {
    "duration": 5,
    "start_time": "2024-09-06T13:25:43.283Z"
   },
   {
    "duration": 25,
    "start_time": "2024-09-06T13:25:43.289Z"
   },
   {
    "duration": 42,
    "start_time": "2024-09-06T13:25:43.316Z"
   },
   {
    "duration": 28,
    "start_time": "2024-09-06T13:25:43.360Z"
   },
   {
    "duration": 16,
    "start_time": "2024-09-06T13:25:43.390Z"
   },
   {
    "duration": 38,
    "start_time": "2024-09-06T13:25:43.408Z"
   },
   {
    "duration": 82,
    "start_time": "2024-09-06T13:25:43.447Z"
   },
   {
    "duration": 32,
    "start_time": "2024-09-06T13:25:43.530Z"
   },
   {
    "duration": 6,
    "start_time": "2024-09-06T13:25:43.563Z"
   },
   {
    "duration": 21,
    "start_time": "2024-09-06T13:25:43.570Z"
   },
   {
    "duration": 21,
    "start_time": "2024-09-06T13:25:43.592Z"
   },
   {
    "duration": 54,
    "start_time": "2024-09-06T13:25:43.614Z"
   },
   {
    "duration": 5,
    "start_time": "2024-09-06T13:25:43.671Z"
   },
   {
    "duration": 4,
    "start_time": "2024-09-06T13:25:43.677Z"
   },
   {
    "duration": 17,
    "start_time": "2024-09-06T13:25:43.683Z"
   },
   {
    "duration": 6878,
    "start_time": "2024-09-06T13:25:43.702Z"
   },
   {
    "duration": 7,
    "start_time": "2024-09-06T13:25:50.581Z"
   },
   {
    "duration": 7,
    "start_time": "2024-09-06T13:25:50.589Z"
   },
   {
    "duration": 25,
    "start_time": "2024-09-06T13:26:10.644Z"
   },
   {
    "duration": 4,
    "start_time": "2024-09-06T13:26:20.373Z"
   },
   {
    "duration": 58,
    "start_time": "2024-09-07T11:59:36.256Z"
   },
   {
    "duration": 472,
    "start_time": "2024-09-07T11:59:46.826Z"
   },
   {
    "duration": 284,
    "start_time": "2024-09-07T11:59:47.299Z"
   },
   {
    "duration": 21,
    "start_time": "2024-09-07T11:59:47.585Z"
   },
   {
    "duration": 39,
    "start_time": "2024-09-07T11:59:47.608Z"
   },
   {
    "duration": 17,
    "start_time": "2024-09-07T11:59:47.649Z"
   },
   {
    "duration": 46,
    "start_time": "2024-09-07T11:59:47.668Z"
   },
   {
    "duration": 32,
    "start_time": "2024-09-07T11:59:47.716Z"
   },
   {
    "duration": 19,
    "start_time": "2024-09-07T11:59:47.750Z"
   },
   {
    "duration": 14,
    "start_time": "2024-09-07T11:59:47.770Z"
   },
   {
    "duration": 17,
    "start_time": "2024-09-07T11:59:47.787Z"
   },
   {
    "duration": 30,
    "start_time": "2024-09-07T11:59:47.805Z"
   },
   {
    "duration": 8,
    "start_time": "2024-09-07T11:59:47.838Z"
   },
   {
    "duration": 11,
    "start_time": "2024-09-07T11:59:47.848Z"
   },
   {
    "duration": 13,
    "start_time": "2024-09-07T11:59:47.860Z"
   },
   {
    "duration": 24,
    "start_time": "2024-09-07T11:59:47.875Z"
   },
   {
    "duration": 9,
    "start_time": "2024-09-07T11:59:47.921Z"
   },
   {
    "duration": 31,
    "start_time": "2024-09-07T11:59:47.932Z"
   },
   {
    "duration": 34,
    "start_time": "2024-09-07T11:59:47.966Z"
   },
   {
    "duration": 58,
    "start_time": "2024-09-07T11:59:48.002Z"
   },
   {
    "duration": 74,
    "start_time": "2024-09-07T11:59:48.061Z"
   },
   {
    "duration": 22,
    "start_time": "2024-09-07T11:59:48.138Z"
   },
   {
    "duration": 29,
    "start_time": "2024-09-07T11:59:48.161Z"
   },
   {
    "duration": 60,
    "start_time": "2024-09-07T11:59:48.192Z"
   },
   {
    "duration": 5,
    "start_time": "2024-09-07T11:59:48.254Z"
   },
   {
    "duration": 21,
    "start_time": "2024-09-07T11:59:48.260Z"
   },
   {
    "duration": 65,
    "start_time": "2024-09-07T11:59:48.283Z"
   },
   {
    "duration": 26,
    "start_time": "2024-09-07T11:59:48.349Z"
   },
   {
    "duration": 10,
    "start_time": "2024-09-07T11:59:48.378Z"
   },
   {
    "duration": 5,
    "start_time": "2024-09-07T11:59:48.389Z"
   },
   {
    "duration": 27,
    "start_time": "2024-09-07T11:59:48.420Z"
   },
   {
    "duration": 7376,
    "start_time": "2024-09-07T11:59:48.449Z"
   },
   {
    "duration": 34,
    "start_time": "2024-09-07T11:59:55.828Z"
   },
   {
    "duration": 5,
    "start_time": "2024-09-07T11:59:55.863Z"
   },
   {
    "duration": 13,
    "start_time": "2024-09-07T11:59:55.870Z"
   },
   {
    "duration": 7,
    "start_time": "2024-09-07T12:00:21.588Z"
   },
   {
    "duration": 28,
    "start_time": "2024-09-07T12:01:37.323Z"
   },
   {
    "duration": 32,
    "start_time": "2024-09-07T12:04:49.332Z"
   },
   {
    "duration": 14,
    "start_time": "2024-09-07T12:05:03.722Z"
   },
   {
    "duration": 30,
    "start_time": "2024-09-07T12:10:41.063Z"
   },
   {
    "duration": 9,
    "start_time": "2024-09-07T12:10:56.574Z"
   },
   {
    "duration": 5,
    "start_time": "2024-09-07T12:14:02.635Z"
   },
   {
    "duration": 5,
    "start_time": "2024-09-07T12:14:32.469Z"
   },
   {
    "duration": 75,
    "start_time": "2024-09-07T12:16:50.227Z"
   },
   {
    "duration": 21,
    "start_time": "2024-09-07T12:18:52.441Z"
   },
   {
    "duration": 8,
    "start_time": "2024-09-07T12:19:06.274Z"
   },
   {
    "duration": 13,
    "start_time": "2024-09-07T12:19:36.249Z"
   },
   {
    "duration": 7,
    "start_time": "2024-09-07T12:20:08.549Z"
   },
   {
    "duration": 65,
    "start_time": "2024-09-07T12:20:59.821Z"
   },
   {
    "duration": 31,
    "start_time": "2024-09-07T12:22:43.070Z"
   },
   {
    "duration": 58,
    "start_time": "2024-09-07T12:22:52.236Z"
   },
   {
    "duration": 24,
    "start_time": "2024-09-07T12:23:13.254Z"
   },
   {
    "duration": 15,
    "start_time": "2024-09-07T12:23:24.764Z"
   },
   {
    "duration": 15,
    "start_time": "2024-09-07T12:23:56.263Z"
   },
   {
    "duration": 15,
    "start_time": "2024-09-07T12:24:25.271Z"
   },
   {
    "duration": 75,
    "start_time": "2024-09-07T12:25:29.744Z"
   },
   {
    "duration": 64,
    "start_time": "2024-09-07T12:26:23.391Z"
   },
   {
    "duration": 23,
    "start_time": "2024-09-07T12:26:36.143Z"
   },
   {
    "duration": 18,
    "start_time": "2024-09-07T12:27:08.875Z"
   },
   {
    "duration": 20,
    "start_time": "2024-09-07T12:27:44.674Z"
   },
   {
    "duration": 401,
    "start_time": "2024-09-07T14:43:24.642Z"
   },
   {
    "duration": 204,
    "start_time": "2024-09-07T14:43:25.045Z"
   },
   {
    "duration": 21,
    "start_time": "2024-09-07T14:43:25.251Z"
   },
   {
    "duration": 36,
    "start_time": "2024-09-07T14:43:25.274Z"
   },
   {
    "duration": 18,
    "start_time": "2024-09-07T14:43:25.311Z"
   },
   {
    "duration": 15,
    "start_time": "2024-09-07T14:43:25.331Z"
   },
   {
    "duration": 13,
    "start_time": "2024-09-07T14:43:25.348Z"
   },
   {
    "duration": 17,
    "start_time": "2024-09-07T14:43:25.363Z"
   },
   {
    "duration": 10,
    "start_time": "2024-09-07T14:43:25.381Z"
   },
   {
    "duration": 17,
    "start_time": "2024-09-07T14:43:25.420Z"
   },
   {
    "duration": 11,
    "start_time": "2024-09-07T14:43:25.439Z"
   },
   {
    "duration": 17,
    "start_time": "2024-09-07T14:43:25.452Z"
   },
   {
    "duration": 12,
    "start_time": "2024-09-07T14:43:25.470Z"
   },
   {
    "duration": 18,
    "start_time": "2024-09-07T14:43:25.484Z"
   },
   {
    "duration": 24,
    "start_time": "2024-09-07T14:43:25.503Z"
   },
   {
    "duration": 34,
    "start_time": "2024-09-07T14:43:25.529Z"
   },
   {
    "duration": 13,
    "start_time": "2024-09-07T14:43:25.565Z"
   },
   {
    "duration": 32,
    "start_time": "2024-09-07T14:43:25.580Z"
   },
   {
    "duration": 93,
    "start_time": "2024-09-07T14:43:25.614Z"
   },
   {
    "duration": 17,
    "start_time": "2024-09-07T14:43:25.708Z"
   },
   {
    "duration": 40,
    "start_time": "2024-09-07T14:43:25.728Z"
   },
   {
    "duration": 36,
    "start_time": "2024-09-07T14:43:25.770Z"
   },
   {
    "duration": 45,
    "start_time": "2024-09-07T14:43:25.807Z"
   },
   {
    "duration": 5,
    "start_time": "2024-09-07T14:43:25.854Z"
   },
   {
    "duration": 23,
    "start_time": "2024-09-07T14:43:25.861Z"
   },
   {
    "duration": 40,
    "start_time": "2024-09-07T14:43:25.885Z"
   },
   {
    "duration": 27,
    "start_time": "2024-09-07T14:43:25.927Z"
   },
   {
    "duration": 30,
    "start_time": "2024-09-07T14:43:25.957Z"
   },
   {
    "duration": 34,
    "start_time": "2024-09-07T14:43:25.988Z"
   },
   {
    "duration": 27,
    "start_time": "2024-09-07T14:43:26.023Z"
   },
   {
    "duration": 6680,
    "start_time": "2024-09-07T14:43:26.051Z"
   },
   {
    "duration": 29,
    "start_time": "2024-09-07T14:43:32.733Z"
   },
   {
    "duration": 10,
    "start_time": "2024-09-07T14:43:32.763Z"
   },
   {
    "duration": 5,
    "start_time": "2024-09-07T14:43:32.775Z"
   },
   {
    "duration": 46,
    "start_time": "2024-09-07T14:43:32.782Z"
   },
   {
    "duration": 70,
    "start_time": "2024-09-07T14:46:46.680Z"
   },
   {
    "duration": 10,
    "start_time": "2024-09-07T14:47:00.230Z"
   },
   {
    "duration": 425,
    "start_time": "2024-09-07T14:49:30.902Z"
   },
   {
    "duration": 157,
    "start_time": "2024-09-07T14:49:31.329Z"
   },
   {
    "duration": 21,
    "start_time": "2024-09-07T14:49:31.487Z"
   },
   {
    "duration": 16,
    "start_time": "2024-09-07T14:49:33.672Z"
   },
   {
    "duration": 15,
    "start_time": "2024-09-07T14:49:34.434Z"
   },
   {
    "duration": 18,
    "start_time": "2024-09-07T14:49:35.495Z"
   },
   {
    "duration": 14,
    "start_time": "2024-09-07T14:49:35.974Z"
   },
   {
    "duration": 18,
    "start_time": "2024-09-07T14:49:36.279Z"
   },
   {
    "duration": 10,
    "start_time": "2024-09-07T14:49:36.439Z"
   },
   {
    "duration": 17,
    "start_time": "2024-09-07T14:49:36.689Z"
   },
   {
    "duration": 10,
    "start_time": "2024-09-07T14:49:38.244Z"
   },
   {
    "duration": 6,
    "start_time": "2024-09-07T14:49:38.720Z"
   },
   {
    "duration": 10,
    "start_time": "2024-09-07T14:49:41.527Z"
   },
   {
    "duration": 8,
    "start_time": "2024-09-07T14:49:41.967Z"
   },
   {
    "duration": 12,
    "start_time": "2024-09-07T14:49:43.782Z"
   },
   {
    "duration": 5,
    "start_time": "2024-09-07T14:49:48.103Z"
   },
   {
    "duration": 11,
    "start_time": "2024-09-07T14:49:48.597Z"
   },
   {
    "duration": 26,
    "start_time": "2024-09-07T14:49:50.887Z"
   },
   {
    "duration": 31,
    "start_time": "2024-09-07T14:49:51.359Z"
   },
   {
    "duration": 17,
    "start_time": "2024-09-07T14:49:51.656Z"
   },
   {
    "duration": 27,
    "start_time": "2024-09-07T14:49:51.720Z"
   },
   {
    "duration": 30,
    "start_time": "2024-09-07T14:49:51.753Z"
   },
   {
    "duration": 29,
    "start_time": "2024-09-07T14:49:51.821Z"
   },
   {
    "duration": 5,
    "start_time": "2024-09-07T14:49:51.852Z"
   },
   {
    "duration": 23,
    "start_time": "2024-09-07T14:49:51.987Z"
   },
   {
    "duration": 22,
    "start_time": "2024-09-07T14:49:52.535Z"
   },
   {
    "duration": 26,
    "start_time": "2024-09-07T14:49:52.674Z"
   },
   {
    "duration": 9,
    "start_time": "2024-09-07T14:49:52.728Z"
   },
   {
    "duration": 4,
    "start_time": "2024-09-07T14:49:53.702Z"
   },
   {
    "duration": 17,
    "start_time": "2024-09-07T14:49:54.807Z"
   },
   {
    "duration": 6762,
    "start_time": "2024-09-07T14:49:55.430Z"
   },
   {
    "duration": 41,
    "start_time": "2024-09-07T14:50:02.194Z"
   },
   {
    "duration": 6,
    "start_time": "2024-09-07T14:50:22.614Z"
   },
   {
    "duration": 71,
    "start_time": "2024-09-07T14:50:33.966Z"
   },
   {
    "duration": 7,
    "start_time": "2024-09-07T14:50:50.517Z"
   },
   {
    "duration": 5,
    "start_time": "2024-09-07T14:51:50.659Z"
   },
   {
    "duration": 6,
    "start_time": "2024-09-07T14:52:03.412Z"
   },
   {
    "duration": 16,
    "start_time": "2024-09-07T14:54:20.248Z"
   },
   {
    "duration": 13,
    "start_time": "2024-09-07T14:54:45.480Z"
   },
   {
    "duration": 560,
    "start_time": "2024-09-07T14:54:48.920Z"
   },
   {
    "duration": 161,
    "start_time": "2024-09-07T14:55:40.629Z"
   },
   {
    "duration": 214,
    "start_time": "2024-09-07T14:56:03.996Z"
   },
   {
    "duration": 151,
    "start_time": "2024-09-07T14:56:16.909Z"
   },
   {
    "duration": 144,
    "start_time": "2024-09-07T14:56:38.843Z"
   },
   {
    "duration": 155,
    "start_time": "2024-09-07T14:57:21.370Z"
   },
   {
    "duration": 6,
    "start_time": "2024-09-07T14:58:02.552Z"
   },
   {
    "duration": 7,
    "start_time": "2024-09-07T14:58:30.280Z"
   },
   {
    "duration": 9,
    "start_time": "2024-09-07T14:58:36.593Z"
   },
   {
    "duration": 150,
    "start_time": "2024-09-07T14:59:02.853Z"
   },
   {
    "duration": 153,
    "start_time": "2024-09-07T14:59:12.071Z"
   },
   {
    "duration": 142,
    "start_time": "2024-09-07T15:01:03.280Z"
   },
   {
    "duration": 145,
    "start_time": "2024-09-07T15:01:17.376Z"
   },
   {
    "duration": 159,
    "start_time": "2024-09-07T15:02:39.484Z"
   },
   {
    "duration": 146,
    "start_time": "2024-09-07T15:02:42.895Z"
   },
   {
    "duration": 151,
    "start_time": "2024-09-07T15:02:45.127Z"
   },
   {
    "duration": 213,
    "start_time": "2024-09-07T15:02:48.888Z"
   },
   {
    "duration": 143,
    "start_time": "2024-09-07T15:02:57.837Z"
   },
   {
    "duration": 21,
    "start_time": "2024-09-07T15:08:03.204Z"
   },
   {
    "duration": 25,
    "start_time": "2024-09-07T15:08:19.763Z"
   },
   {
    "duration": 21,
    "start_time": "2024-09-07T15:17:16.913Z"
   },
   {
    "duration": 25,
    "start_time": "2024-09-07T15:17:59.936Z"
   },
   {
    "duration": 178,
    "start_time": "2024-09-07T15:18:28.654Z"
   },
   {
    "duration": 3,
    "start_time": "2024-09-07T15:18:55.078Z"
   },
   {
    "duration": 186,
    "start_time": "2024-09-07T15:19:04.236Z"
   },
   {
    "duration": 2,
    "start_time": "2024-09-07T15:19:22.286Z"
   },
   {
    "duration": 147,
    "start_time": "2024-09-07T15:19:24.412Z"
   },
   {
    "duration": 690,
    "start_time": "2024-09-07T15:19:35.095Z"
   },
   {
    "duration": 164,
    "start_time": "2024-09-07T15:19:35.787Z"
   },
   {
    "duration": 22,
    "start_time": "2024-09-07T15:19:35.953Z"
   },
   {
    "duration": 31,
    "start_time": "2024-09-07T15:19:35.977Z"
   },
   {
    "duration": 39,
    "start_time": "2024-09-07T15:19:36.010Z"
   },
   {
    "duration": 38,
    "start_time": "2024-09-07T15:19:36.051Z"
   },
   {
    "duration": 25,
    "start_time": "2024-09-07T15:19:36.091Z"
   },
   {
    "duration": 18,
    "start_time": "2024-09-07T15:19:36.118Z"
   },
   {
    "duration": 13,
    "start_time": "2024-09-07T15:19:36.137Z"
   },
   {
    "duration": 27,
    "start_time": "2024-09-07T15:19:36.153Z"
   },
   {
    "duration": 18,
    "start_time": "2024-09-07T15:19:36.182Z"
   },
   {
    "duration": 9,
    "start_time": "2024-09-07T15:19:36.202Z"
   },
   {
    "duration": 33,
    "start_time": "2024-09-07T15:19:36.220Z"
   },
   {
    "duration": 20,
    "start_time": "2024-09-07T15:19:36.255Z"
   },
   {
    "duration": 18,
    "start_time": "2024-09-07T15:19:36.276Z"
   },
   {
    "duration": 16,
    "start_time": "2024-09-07T15:19:36.296Z"
   },
   {
    "duration": 21,
    "start_time": "2024-09-07T15:19:36.314Z"
   },
   {
    "duration": 97,
    "start_time": "2024-09-07T15:19:36.337Z"
   },
   {
    "duration": 30,
    "start_time": "2024-09-07T15:19:36.436Z"
   },
   {
    "duration": 18,
    "start_time": "2024-09-07T15:19:36.468Z"
   },
   {
    "duration": 44,
    "start_time": "2024-09-07T15:19:36.488Z"
   },
   {
    "duration": 51,
    "start_time": "2024-09-07T15:19:36.534Z"
   },
   {
    "duration": 53,
    "start_time": "2024-09-07T15:19:36.587Z"
   },
   {
    "duration": 9,
    "start_time": "2024-09-07T15:19:36.641Z"
   },
   {
    "duration": 23,
    "start_time": "2024-09-07T15:19:36.651Z"
   },
   {
    "duration": 49,
    "start_time": "2024-09-07T15:19:36.675Z"
   },
   {
    "duration": 27,
    "start_time": "2024-09-07T15:19:36.725Z"
   },
   {
    "duration": 68,
    "start_time": "2024-09-07T15:19:36.757Z"
   },
   {
    "duration": 27,
    "start_time": "2024-09-07T15:19:36.827Z"
   },
   {
    "duration": 23,
    "start_time": "2024-09-07T15:19:36.856Z"
   },
   {
    "duration": 7001,
    "start_time": "2024-09-07T15:19:36.881Z"
   },
   {
    "duration": 39,
    "start_time": "2024-09-07T15:19:43.884Z"
   },
   {
    "duration": 6,
    "start_time": "2024-09-07T15:19:43.925Z"
   },
   {
    "duration": 17,
    "start_time": "2024-09-07T15:19:43.933Z"
   },
   {
    "duration": 54,
    "start_time": "2024-09-07T15:19:43.951Z"
   },
   {
    "duration": 163,
    "start_time": "2024-09-07T15:19:44.007Z"
   },
   {
    "duration": 24,
    "start_time": "2024-09-07T15:19:44.171Z"
   },
   {
    "duration": 907,
    "start_time": "2024-09-07T15:19:44.197Z"
   },
   {
    "duration": 93,
    "start_time": "2024-09-07T15:20:55.109Z"
   },
   {
    "duration": 755,
    "start_time": "2024-09-07T15:21:01.610Z"
   },
   {
    "duration": 879,
    "start_time": "2024-09-07T15:22:43.252Z"
   },
   {
    "duration": 13,
    "start_time": "2024-09-07T15:24:11.774Z"
   },
   {
    "duration": 754,
    "start_time": "2024-09-07T15:24:35.074Z"
   },
   {
    "duration": 156,
    "start_time": "2024-09-07T15:24:44.987Z"
   },
   {
    "duration": 794,
    "start_time": "2024-09-07T15:24:57.314Z"
   },
   {
    "duration": 621,
    "start_time": "2024-09-07T15:25:44.480Z"
   },
   {
    "duration": 778,
    "start_time": "2024-09-07T15:25:58.735Z"
   },
   {
    "duration": 887,
    "start_time": "2024-09-07T15:26:33.021Z"
   },
   {
    "duration": 807,
    "start_time": "2024-09-07T15:29:14.185Z"
   },
   {
    "duration": 870,
    "start_time": "2024-09-07T15:29:19.949Z"
   },
   {
    "duration": 810,
    "start_time": "2024-09-07T15:30:17.115Z"
   },
   {
    "duration": 830,
    "start_time": "2024-09-07T15:30:23.833Z"
   },
   {
    "duration": 852,
    "start_time": "2024-09-07T15:31:55.268Z"
   },
   {
    "duration": 746,
    "start_time": "2024-09-07T15:31:59.524Z"
   },
   {
    "duration": 811,
    "start_time": "2024-09-07T15:32:06.291Z"
   },
   {
    "duration": 743,
    "start_time": "2024-09-07T15:32:11.444Z"
   },
   {
    "duration": 814,
    "start_time": "2024-09-07T15:32:17.530Z"
   },
   {
    "duration": 742,
    "start_time": "2024-09-07T15:33:20.675Z"
   },
   {
    "duration": 756,
    "start_time": "2024-09-07T15:33:28.345Z"
   },
   {
    "duration": 791,
    "start_time": "2024-09-07T15:33:32.147Z"
   },
   {
    "duration": 787,
    "start_time": "2024-09-07T15:33:38.787Z"
   },
   {
    "duration": 915,
    "start_time": "2024-09-07T15:34:11.144Z"
   },
   {
    "duration": 950,
    "start_time": "2024-09-07T15:34:19.960Z"
   },
   {
    "duration": 886,
    "start_time": "2024-09-07T15:34:28.761Z"
   },
   {
    "duration": 20,
    "start_time": "2024-09-07T15:51:27.979Z"
   },
   {
    "duration": 17,
    "start_time": "2024-09-07T15:52:08.931Z"
   },
   {
    "duration": 16,
    "start_time": "2024-09-07T15:52:16.904Z"
   },
   {
    "duration": 16,
    "start_time": "2024-09-07T15:52:24.466Z"
   },
   {
    "duration": 15,
    "start_time": "2024-09-07T15:52:33.651Z"
   },
   {
    "duration": 17,
    "start_time": "2024-09-07T15:52:39.400Z"
   },
   {
    "duration": 18,
    "start_time": "2024-09-07T15:52:43.153Z"
   },
   {
    "duration": 19,
    "start_time": "2024-09-07T15:52:46.328Z"
   },
   {
    "duration": 17,
    "start_time": "2024-09-07T15:52:49.399Z"
   },
   {
    "duration": 12,
    "start_time": "2024-09-07T15:53:23.479Z"
   },
   {
    "duration": 13,
    "start_time": "2024-09-07T15:53:51.880Z"
   },
   {
    "duration": 141,
    "start_time": "2024-09-07T15:54:53.815Z"
   },
   {
    "duration": 14,
    "start_time": "2024-09-07T15:54:57.055Z"
   },
   {
    "duration": 11,
    "start_time": "2024-09-07T15:55:03.968Z"
   },
   {
    "duration": 136,
    "start_time": "2024-09-07T15:55:06.304Z"
   },
   {
    "duration": 15,
    "start_time": "2024-09-07T15:55:17.327Z"
   },
   {
    "duration": 156,
    "start_time": "2024-09-07T15:55:31.925Z"
   },
   {
    "duration": 151,
    "start_time": "2024-09-07T15:55:43.279Z"
   },
   {
    "duration": 166,
    "start_time": "2024-09-07T15:58:14.976Z"
   },
   {
    "duration": 19,
    "start_time": "2024-09-07T16:01:46.217Z"
   },
   {
    "duration": 17,
    "start_time": "2024-09-07T16:02:09.646Z"
   },
   {
    "duration": 644,
    "start_time": "2024-09-07T16:02:55.469Z"
   },
   {
    "duration": 201,
    "start_time": "2024-09-07T16:02:56.115Z"
   },
   {
    "duration": 31,
    "start_time": "2024-09-07T16:02:56.317Z"
   },
   {
    "duration": 16,
    "start_time": "2024-09-07T16:02:56.539Z"
   },
   {
    "duration": 17,
    "start_time": "2024-09-07T16:02:57.462Z"
   },
   {
    "duration": 22,
    "start_time": "2024-09-07T16:02:58.411Z"
   },
   {
    "duration": 15,
    "start_time": "2024-09-07T16:03:01.739Z"
   },
   {
    "duration": 16,
    "start_time": "2024-09-07T16:03:02.268Z"
   },
   {
    "duration": 10,
    "start_time": "2024-09-07T16:03:02.474Z"
   },
   {
    "duration": 15,
    "start_time": "2024-09-07T16:03:03.159Z"
   },
   {
    "duration": 11,
    "start_time": "2024-09-07T16:03:06.535Z"
   },
   {
    "duration": 5,
    "start_time": "2024-09-07T16:03:06.564Z"
   },
   {
    "duration": 10,
    "start_time": "2024-09-07T16:03:06.645Z"
   },
   {
    "duration": 8,
    "start_time": "2024-09-07T16:03:06.674Z"
   },
   {
    "duration": 11,
    "start_time": "2024-09-07T16:03:06.708Z"
   },
   {
    "duration": 6,
    "start_time": "2024-09-07T16:03:06.777Z"
   },
   {
    "duration": 11,
    "start_time": "2024-09-07T16:03:06.801Z"
   },
   {
    "duration": 26,
    "start_time": "2024-09-07T16:03:07.340Z"
   },
   {
    "duration": 18,
    "start_time": "2024-09-07T16:03:13.595Z"
   },
   {
    "duration": 716,
    "start_time": "2024-09-07T16:03:36.707Z"
   },
   {
    "duration": 156,
    "start_time": "2024-09-07T16:03:37.425Z"
   },
   {
    "duration": 21,
    "start_time": "2024-09-07T16:03:37.583Z"
   },
   {
    "duration": 17,
    "start_time": "2024-09-07T16:03:37.606Z"
   },
   {
    "duration": 17,
    "start_time": "2024-09-07T16:03:37.625Z"
   },
   {
    "duration": 16,
    "start_time": "2024-09-07T16:03:37.644Z"
   },
   {
    "duration": 14,
    "start_time": "2024-09-07T16:03:37.734Z"
   },
   {
    "duration": 25,
    "start_time": "2024-09-07T16:03:38.820Z"
   },
   {
    "duration": 10,
    "start_time": "2024-09-07T16:03:38.996Z"
   },
   {
    "duration": 16,
    "start_time": "2024-09-07T16:03:39.188Z"
   },
   {
    "duration": 12,
    "start_time": "2024-09-07T16:03:51.786Z"
   },
   {
    "duration": 12,
    "start_time": "2024-09-07T16:05:29.959Z"
   },
   {
    "duration": 5,
    "start_time": "2024-09-07T16:05:30.167Z"
   },
   {
    "duration": 9,
    "start_time": "2024-09-07T16:05:31.473Z"
   },
   {
    "duration": 14,
    "start_time": "2024-09-07T16:05:31.719Z"
   },
   {
    "duration": 15,
    "start_time": "2024-09-07T16:05:31.985Z"
   },
   {
    "duration": 15,
    "start_time": "2024-09-07T16:05:33.879Z"
   },
   {
    "duration": 7,
    "start_time": "2024-09-07T16:05:41.816Z"
   },
   {
    "duration": 12,
    "start_time": "2024-09-07T16:05:42.514Z"
   },
   {
    "duration": 635,
    "start_time": "2024-09-07T16:06:28.977Z"
   },
   {
    "duration": 166,
    "start_time": "2024-09-07T16:06:29.614Z"
   },
   {
    "duration": 23,
    "start_time": "2024-09-07T16:06:29.784Z"
   },
   {
    "duration": 21,
    "start_time": "2024-09-07T16:06:29.809Z"
   },
   {
    "duration": 17,
    "start_time": "2024-09-07T16:06:29.832Z"
   },
   {
    "duration": 18,
    "start_time": "2024-09-07T16:06:29.851Z"
   },
   {
    "duration": 12,
    "start_time": "2024-09-07T16:06:29.871Z"
   },
   {
    "duration": 58,
    "start_time": "2024-09-07T16:06:29.885Z"
   },
   {
    "duration": 11,
    "start_time": "2024-09-07T16:06:29.944Z"
   },
   {
    "duration": 60,
    "start_time": "2024-09-07T16:06:29.958Z"
   },
   {
    "duration": 39,
    "start_time": "2024-09-07T16:06:30.020Z"
   },
   {
    "duration": 46,
    "start_time": "2024-09-07T16:06:30.061Z"
   },
   {
    "duration": 48,
    "start_time": "2024-09-07T16:06:30.109Z"
   },
   {
    "duration": 28,
    "start_time": "2024-09-07T16:06:30.159Z"
   },
   {
    "duration": 46,
    "start_time": "2024-09-07T16:06:30.189Z"
   },
   {
    "duration": 17,
    "start_time": "2024-09-07T16:06:30.237Z"
   },
   {
    "duration": 39,
    "start_time": "2024-09-07T16:06:30.255Z"
   },
   {
    "duration": 68,
    "start_time": "2024-09-07T16:06:30.295Z"
   },
   {
    "duration": 48,
    "start_time": "2024-09-07T16:06:30.364Z"
   },
   {
    "duration": 23,
    "start_time": "2024-09-07T16:06:30.413Z"
   },
   {
    "duration": 32,
    "start_time": "2024-09-07T16:06:30.438Z"
   },
   {
    "duration": 29,
    "start_time": "2024-09-07T16:06:30.472Z"
   },
   {
    "duration": 61,
    "start_time": "2024-09-07T16:06:30.503Z"
   },
   {
    "duration": 6,
    "start_time": "2024-09-07T16:06:30.565Z"
   },
   {
    "duration": 32,
    "start_time": "2024-09-07T16:06:30.572Z"
   },
   {
    "duration": 29,
    "start_time": "2024-09-07T16:06:30.606Z"
   },
   {
    "duration": 31,
    "start_time": "2024-09-07T16:06:30.637Z"
   },
   {
    "duration": 13,
    "start_time": "2024-09-07T16:06:30.672Z"
   },
   {
    "duration": 12,
    "start_time": "2024-09-07T16:06:30.686Z"
   },
   {
    "duration": 26,
    "start_time": "2024-09-07T16:06:30.699Z"
   },
   {
    "duration": 7276,
    "start_time": "2024-09-07T16:06:30.727Z"
   },
   {
    "duration": 38,
    "start_time": "2024-09-07T16:06:38.005Z"
   },
   {
    "duration": 6,
    "start_time": "2024-09-07T16:06:38.044Z"
   },
   {
    "duration": 34,
    "start_time": "2024-09-07T16:06:38.051Z"
   },
   {
    "duration": 52,
    "start_time": "2024-09-07T16:06:38.086Z"
   },
   {
    "duration": 197,
    "start_time": "2024-09-07T16:06:38.140Z"
   },
   {
    "duration": 24,
    "start_time": "2024-09-07T16:06:38.339Z"
   },
   {
    "duration": 900,
    "start_time": "2024-09-07T16:06:38.364Z"
   },
   {
    "duration": 138,
    "start_time": "2024-09-07T16:06:39.265Z"
   },
   {
    "duration": 149,
    "start_time": "2024-09-07T16:06:39.405Z"
   },
   {
    "duration": 17,
    "start_time": "2024-09-07T16:06:39.555Z"
   },
   {
    "duration": 173,
    "start_time": "2024-09-07T16:06:39.574Z"
   },
   {
    "duration": 301,
    "start_time": "2024-09-07T16:07:58.207Z"
   },
   {
    "duration": 71,
    "start_time": "2024-09-07T16:12:08.149Z"
   },
   {
    "duration": 17,
    "start_time": "2024-09-07T16:14:53.649Z"
   },
   {
    "duration": 18,
    "start_time": "2024-09-07T16:15:00.885Z"
   },
   {
    "duration": 14,
    "start_time": "2024-09-07T16:15:48.278Z"
   },
   {
    "duration": 23,
    "start_time": "2024-09-07T16:16:40.051Z"
   },
   {
    "duration": 18,
    "start_time": "2024-09-07T16:21:55.471Z"
   },
   {
    "duration": 18,
    "start_time": "2024-09-07T16:22:23.141Z"
   },
   {
    "duration": 19,
    "start_time": "2024-09-07T16:22:42.027Z"
   },
   {
    "duration": 15,
    "start_time": "2024-09-07T16:23:00.004Z"
   },
   {
    "duration": 23,
    "start_time": "2024-09-07T16:23:04.419Z"
   },
   {
    "duration": 26,
    "start_time": "2024-09-07T16:23:25.408Z"
   },
   {
    "duration": 20,
    "start_time": "2024-09-07T16:23:35.732Z"
   },
   {
    "duration": 23,
    "start_time": "2024-09-07T16:23:39.245Z"
   },
   {
    "duration": 316,
    "start_time": "2024-09-07T16:32:18.256Z"
   },
   {
    "duration": 86,
    "start_time": "2024-09-07T16:33:25.773Z"
   },
   {
    "duration": 309,
    "start_time": "2024-09-07T16:33:40.142Z"
   },
   {
    "duration": 139,
    "start_time": "2024-09-07T16:50:31.157Z"
   },
   {
    "duration": 142,
    "start_time": "2024-09-07T16:50:50.069Z"
   },
   {
    "duration": 137,
    "start_time": "2024-09-07T16:50:57.758Z"
   },
   {
    "duration": 133,
    "start_time": "2024-09-07T16:51:19.989Z"
   },
   {
    "duration": 152,
    "start_time": "2024-09-07T16:52:00.420Z"
   },
   {
    "duration": 277,
    "start_time": "2024-09-07T17:06:37.034Z"
   },
   {
    "duration": 334,
    "start_time": "2024-09-07T17:07:27.128Z"
   },
   {
    "duration": 301,
    "start_time": "2024-09-07T17:07:33.698Z"
   },
   {
    "duration": 153,
    "start_time": "2024-09-07T17:09:59.778Z"
   },
   {
    "duration": 372,
    "start_time": "2024-09-07T17:12:58.863Z"
   },
   {
    "duration": 657,
    "start_time": "2024-09-07T17:13:46.676Z"
   },
   {
    "duration": 164,
    "start_time": "2024-09-07T17:13:47.335Z"
   },
   {
    "duration": 22,
    "start_time": "2024-09-07T17:13:47.501Z"
   },
   {
    "duration": 38,
    "start_time": "2024-09-07T17:13:47.526Z"
   },
   {
    "duration": 20,
    "start_time": "2024-09-07T17:13:47.565Z"
   },
   {
    "duration": 38,
    "start_time": "2024-09-07T17:13:47.587Z"
   },
   {
    "duration": 24,
    "start_time": "2024-09-07T17:13:47.627Z"
   },
   {
    "duration": 36,
    "start_time": "2024-09-07T17:13:47.652Z"
   },
   {
    "duration": 9,
    "start_time": "2024-09-07T17:13:47.690Z"
   },
   {
    "duration": 19,
    "start_time": "2024-09-07T17:13:47.701Z"
   },
   {
    "duration": 10,
    "start_time": "2024-09-07T17:13:47.721Z"
   },
   {
    "duration": 11,
    "start_time": "2024-09-07T17:13:47.732Z"
   },
   {
    "duration": 9,
    "start_time": "2024-09-07T17:13:47.745Z"
   },
   {
    "duration": 24,
    "start_time": "2024-09-07T17:13:47.756Z"
   },
   {
    "duration": 18,
    "start_time": "2024-09-07T17:13:47.783Z"
   },
   {
    "duration": 7,
    "start_time": "2024-09-07T17:13:47.803Z"
   },
   {
    "duration": 44,
    "start_time": "2024-09-07T17:13:47.812Z"
   },
   {
    "duration": 51,
    "start_time": "2024-09-07T17:13:47.858Z"
   },
   {
    "duration": 32,
    "start_time": "2024-09-07T17:13:47.911Z"
   },
   {
    "duration": 18,
    "start_time": "2024-09-07T17:13:47.944Z"
   },
   {
    "duration": 19,
    "start_time": "2024-09-07T17:13:47.964Z"
   },
   {
    "duration": 48,
    "start_time": "2024-09-07T17:13:47.984Z"
   },
   {
    "duration": 30,
    "start_time": "2024-09-07T17:13:48.034Z"
   },
   {
    "duration": 6,
    "start_time": "2024-09-07T17:13:48.066Z"
   },
   {
    "duration": 54,
    "start_time": "2024-09-07T17:13:48.074Z"
   },
   {
    "duration": 22,
    "start_time": "2024-09-07T17:13:48.130Z"
   },
   {
    "duration": 82,
    "start_time": "2024-09-07T17:13:48.153Z"
   },
   {
    "duration": 6,
    "start_time": "2024-09-07T17:13:48.238Z"
   },
   {
    "duration": 16,
    "start_time": "2024-09-07T17:13:48.245Z"
   },
   {
    "duration": 26,
    "start_time": "2024-09-07T17:13:48.263Z"
   },
   {
    "duration": 6718,
    "start_time": "2024-09-07T17:13:48.290Z"
   },
   {
    "duration": 43,
    "start_time": "2024-09-07T17:13:55.010Z"
   },
   {
    "duration": 6,
    "start_time": "2024-09-07T17:13:55.055Z"
   },
   {
    "duration": 7,
    "start_time": "2024-09-07T17:13:55.062Z"
   },
   {
    "duration": 22,
    "start_time": "2024-09-07T17:13:55.070Z"
   },
   {
    "duration": 212,
    "start_time": "2024-09-07T17:13:55.093Z"
   },
   {
    "duration": 31,
    "start_time": "2024-09-07T17:13:55.306Z"
   },
   {
    "duration": 896,
    "start_time": "2024-09-07T17:13:55.339Z"
   },
   {
    "duration": 162,
    "start_time": "2024-09-07T17:13:56.237Z"
   },
   {
    "duration": 149,
    "start_time": "2024-09-07T17:13:56.400Z"
   },
   {
    "duration": 316,
    "start_time": "2024-09-07T17:13:56.551Z"
   },
   {
    "duration": 17,
    "start_time": "2024-09-07T17:13:56.869Z"
   },
   {
    "duration": 19,
    "start_time": "2024-09-07T17:13:56.887Z"
   },
   {
    "duration": 531,
    "start_time": "2024-09-08T10:45:41.083Z"
   },
   {
    "duration": 135,
    "start_time": "2024-09-08T10:45:41.616Z"
   },
   {
    "duration": 16,
    "start_time": "2024-09-08T10:45:41.753Z"
   },
   {
    "duration": 12,
    "start_time": "2024-09-08T10:45:41.770Z"
   },
   {
    "duration": 11,
    "start_time": "2024-09-08T10:45:41.783Z"
   },
   {
    "duration": 12,
    "start_time": "2024-09-08T10:45:41.795Z"
   },
   {
    "duration": 11,
    "start_time": "2024-09-08T10:45:41.808Z"
   },
   {
    "duration": 33,
    "start_time": "2024-09-08T10:45:41.820Z"
   },
   {
    "duration": 7,
    "start_time": "2024-09-08T10:45:41.854Z"
   },
   {
    "duration": 15,
    "start_time": "2024-09-08T10:45:41.863Z"
   },
   {
    "duration": 6,
    "start_time": "2024-09-08T10:45:41.879Z"
   },
   {
    "duration": 4,
    "start_time": "2024-09-08T10:45:41.886Z"
   },
   {
    "duration": 7,
    "start_time": "2024-09-08T10:45:41.891Z"
   },
   {
    "duration": 6,
    "start_time": "2024-09-08T10:45:41.899Z"
   },
   {
    "duration": 7,
    "start_time": "2024-09-08T10:45:41.906Z"
   },
   {
    "duration": 4,
    "start_time": "2024-09-08T10:45:41.914Z"
   },
   {
    "duration": 36,
    "start_time": "2024-09-08T10:45:41.919Z"
   },
   {
    "duration": 21,
    "start_time": "2024-09-08T10:45:41.956Z"
   },
   {
    "duration": 23,
    "start_time": "2024-09-08T10:45:41.978Z"
   },
   {
    "duration": 12,
    "start_time": "2024-09-08T10:45:42.002Z"
   },
   {
    "duration": 11,
    "start_time": "2024-09-08T10:45:42.015Z"
   },
   {
    "duration": 42,
    "start_time": "2024-09-08T10:45:42.028Z"
   },
   {
    "duration": 21,
    "start_time": "2024-09-08T10:45:42.072Z"
   },
   {
    "duration": 20,
    "start_time": "2024-09-08T10:45:42.095Z"
   },
   {
    "duration": 16,
    "start_time": "2024-09-08T10:45:42.116Z"
   },
   {
    "duration": 27,
    "start_time": "2024-09-08T10:45:42.133Z"
   },
   {
    "duration": 20,
    "start_time": "2024-09-08T10:45:42.161Z"
   },
   {
    "duration": 3,
    "start_time": "2024-09-08T10:45:42.184Z"
   },
   {
    "duration": 6,
    "start_time": "2024-09-08T10:45:42.189Z"
   },
   {
    "duration": 12,
    "start_time": "2024-09-08T10:45:42.197Z"
   },
   {
    "duration": 5159,
    "start_time": "2024-09-08T10:45:42.210Z"
   },
   {
    "duration": 20,
    "start_time": "2024-09-08T10:45:47.370Z"
   },
   {
    "duration": 4,
    "start_time": "2024-09-08T10:45:47.391Z"
   },
   {
    "duration": 3,
    "start_time": "2024-09-08T10:45:47.397Z"
   },
   {
    "duration": 13,
    "start_time": "2024-09-08T10:45:47.401Z"
   },
   {
    "duration": 148,
    "start_time": "2024-09-08T10:45:47.416Z"
   },
   {
    "duration": 20,
    "start_time": "2024-09-08T10:45:47.565Z"
   },
   {
    "duration": 707,
    "start_time": "2024-09-08T10:45:47.587Z"
   },
   {
    "duration": 125,
    "start_time": "2024-09-08T10:45:48.295Z"
   },
   {
    "duration": 115,
    "start_time": "2024-09-08T10:45:48.421Z"
   },
   {
    "duration": 246,
    "start_time": "2024-09-08T10:45:48.538Z"
   },
   {
    "duration": 14,
    "start_time": "2024-09-08T10:45:48.786Z"
   },
   {
    "duration": 13,
    "start_time": "2024-09-08T10:45:48.802Z"
   },
   {
    "duration": 586,
    "start_time": "2024-09-08T10:55:56.020Z"
   },
   {
    "duration": 124,
    "start_time": "2024-09-08T10:55:56.607Z"
   },
   {
    "duration": 17,
    "start_time": "2024-09-08T10:55:56.732Z"
   },
   {
    "duration": 11,
    "start_time": "2024-09-08T10:55:56.750Z"
   },
   {
    "duration": 12,
    "start_time": "2024-09-08T10:55:56.763Z"
   },
   {
    "duration": 11,
    "start_time": "2024-09-08T10:55:56.776Z"
   },
   {
    "duration": 10,
    "start_time": "2024-09-08T10:55:56.788Z"
   },
   {
    "duration": 12,
    "start_time": "2024-09-08T10:55:56.799Z"
   },
   {
    "duration": 7,
    "start_time": "2024-09-08T10:55:56.812Z"
   },
   {
    "duration": 37,
    "start_time": "2024-09-08T10:55:56.820Z"
   },
   {
    "duration": 7,
    "start_time": "2024-09-08T10:55:56.858Z"
   },
   {
    "duration": 3,
    "start_time": "2024-09-08T10:55:56.866Z"
   },
   {
    "duration": 16,
    "start_time": "2024-09-08T10:55:56.870Z"
   },
   {
    "duration": 4,
    "start_time": "2024-09-08T10:55:56.888Z"
   },
   {
    "duration": 7,
    "start_time": "2024-09-08T10:55:56.893Z"
   },
   {
    "duration": 3,
    "start_time": "2024-09-08T10:55:56.901Z"
   },
   {
    "duration": 7,
    "start_time": "2024-09-08T10:55:56.905Z"
   },
   {
    "duration": 45,
    "start_time": "2024-09-08T10:55:56.913Z"
   },
   {
    "duration": 23,
    "start_time": "2024-09-08T10:55:56.959Z"
   },
   {
    "duration": 12,
    "start_time": "2024-09-08T10:55:56.983Z"
   },
   {
    "duration": 12,
    "start_time": "2024-09-08T10:55:56.996Z"
   },
   {
    "duration": 46,
    "start_time": "2024-09-08T10:55:57.009Z"
   },
   {
    "duration": 22,
    "start_time": "2024-09-08T10:55:57.056Z"
   },
   {
    "duration": 4,
    "start_time": "2024-09-08T10:55:57.080Z"
   },
   {
    "duration": 16,
    "start_time": "2024-09-08T10:55:57.085Z"
   },
   {
    "duration": 17,
    "start_time": "2024-09-08T10:55:57.102Z"
   },
   {
    "duration": 49,
    "start_time": "2024-09-08T10:55:57.120Z"
   },
   {
    "duration": 4,
    "start_time": "2024-09-08T10:55:57.170Z"
   },
   {
    "duration": 4,
    "start_time": "2024-09-08T10:55:57.175Z"
   },
   {
    "duration": 14,
    "start_time": "2024-09-08T10:55:57.180Z"
   },
   {
    "duration": 5005,
    "start_time": "2024-09-08T10:55:57.195Z"
   },
   {
    "duration": 19,
    "start_time": "2024-09-08T10:56:02.202Z"
   },
   {
    "duration": 4,
    "start_time": "2024-09-08T10:56:02.222Z"
   },
   {
    "duration": 5,
    "start_time": "2024-09-08T10:56:02.227Z"
   },
   {
    "duration": 11,
    "start_time": "2024-09-08T10:56:02.250Z"
   },
   {
    "duration": 137,
    "start_time": "2024-09-08T10:56:02.262Z"
   },
   {
    "duration": 19,
    "start_time": "2024-09-08T10:56:02.401Z"
   },
   {
    "duration": 672,
    "start_time": "2024-09-08T10:56:02.421Z"
   },
   {
    "duration": 130,
    "start_time": "2024-09-08T10:56:03.095Z"
   },
   {
    "duration": 115,
    "start_time": "2024-09-08T10:56:03.227Z"
   },
   {
    "duration": 231,
    "start_time": "2024-09-08T10:56:03.350Z"
   },
   {
    "duration": 14,
    "start_time": "2024-09-08T10:56:03.582Z"
   },
   {
    "duration": 12,
    "start_time": "2024-09-08T10:56:03.597Z"
   },
   {
    "duration": 56,
    "start_time": "2024-09-08T13:29:49.490Z"
   },
   {
    "duration": 877,
    "start_time": "2024-09-08T13:29:58.778Z"
   },
   {
    "duration": 218,
    "start_time": "2024-09-08T13:29:59.657Z"
   },
   {
    "duration": 22,
    "start_time": "2024-09-08T13:29:59.877Z"
   },
   {
    "duration": 15,
    "start_time": "2024-09-08T13:29:59.900Z"
   },
   {
    "duration": 15,
    "start_time": "2024-09-08T13:29:59.918Z"
   },
   {
    "duration": 19,
    "start_time": "2024-09-08T13:29:59.935Z"
   },
   {
    "duration": 15,
    "start_time": "2024-09-08T13:29:59.955Z"
   },
   {
    "duration": 34,
    "start_time": "2024-09-08T13:29:59.971Z"
   },
   {
    "duration": 17,
    "start_time": "2024-09-08T13:30:00.007Z"
   },
   {
    "duration": 19,
    "start_time": "2024-09-08T13:30:00.026Z"
   },
   {
    "duration": 32,
    "start_time": "2024-09-08T13:30:00.047Z"
   },
   {
    "duration": 25,
    "start_time": "2024-09-08T13:30:00.081Z"
   },
   {
    "duration": 6,
    "start_time": "2024-09-08T13:30:00.108Z"
   },
   {
    "duration": 47,
    "start_time": "2024-09-08T13:30:00.117Z"
   },
   {
    "duration": 65,
    "start_time": "2024-09-08T13:30:00.166Z"
   },
   {
    "duration": 29,
    "start_time": "2024-09-08T13:30:00.233Z"
   },
   {
    "duration": 31,
    "start_time": "2024-09-08T13:30:00.264Z"
   },
   {
    "duration": 33,
    "start_time": "2024-09-08T13:30:00.297Z"
   },
   {
    "duration": 27,
    "start_time": "2024-09-08T13:30:00.332Z"
   },
   {
    "duration": 30,
    "start_time": "2024-09-08T13:30:00.361Z"
   },
   {
    "duration": 18,
    "start_time": "2024-09-08T13:30:00.393Z"
   },
   {
    "duration": 52,
    "start_time": "2024-09-08T13:30:00.412Z"
   },
   {
    "duration": 56,
    "start_time": "2024-09-08T13:30:00.465Z"
   },
   {
    "duration": 46,
    "start_time": "2024-09-08T13:30:00.523Z"
   },
   {
    "duration": 23,
    "start_time": "2024-09-08T13:30:00.571Z"
   },
   {
    "duration": 45,
    "start_time": "2024-09-08T13:30:00.596Z"
   },
   {
    "duration": 24,
    "start_time": "2024-09-08T13:30:00.642Z"
   },
   {
    "duration": 39,
    "start_time": "2024-09-08T13:30:00.667Z"
   },
   {
    "duration": 6,
    "start_time": "2024-09-08T13:30:00.708Z"
   },
   {
    "duration": 50,
    "start_time": "2024-09-08T13:30:00.716Z"
   },
   {
    "duration": 44,
    "start_time": "2024-09-08T13:30:00.768Z"
   },
   {
    "duration": 6906,
    "start_time": "2024-09-08T13:30:00.813Z"
   },
   {
    "duration": 25,
    "start_time": "2024-09-08T13:30:07.720Z"
   },
   {
    "duration": 70,
    "start_time": "2024-09-08T13:30:07.747Z"
   },
   {
    "duration": 87,
    "start_time": "2024-09-08T13:30:07.818Z"
   },
   {
    "duration": 17,
    "start_time": "2024-09-08T13:30:07.906Z"
   },
   {
    "duration": 164,
    "start_time": "2024-09-08T13:30:07.925Z"
   },
   {
    "duration": 35,
    "start_time": "2024-09-08T13:30:08.091Z"
   },
   {
    "duration": 901,
    "start_time": "2024-09-08T13:30:08.127Z"
   },
   {
    "duration": 167,
    "start_time": "2024-09-08T13:30:09.029Z"
   },
   {
    "duration": 145,
    "start_time": "2024-09-08T13:30:09.200Z"
   },
   {
    "duration": 305,
    "start_time": "2024-09-08T13:30:09.346Z"
   },
   {
    "duration": 17,
    "start_time": "2024-09-08T13:30:09.653Z"
   },
   {
    "duration": 14,
    "start_time": "2024-09-08T13:30:09.672Z"
   },
   {
    "duration": 1313,
    "start_time": "2024-09-08T13:46:42.497Z"
   },
   {
    "duration": 155,
    "start_time": "2024-09-08T13:46:48.747Z"
   },
   {
    "duration": 162,
    "start_time": "2024-09-08T13:49:10.105Z"
   },
   {
    "duration": 146,
    "start_time": "2024-09-08T13:51:36.736Z"
   },
   {
    "duration": 212,
    "start_time": "2024-09-08T13:52:17.615Z"
   },
   {
    "duration": 168,
    "start_time": "2024-09-08T13:53:52.623Z"
   },
   {
    "duration": 153,
    "start_time": "2024-09-08T13:54:56.319Z"
   },
   {
    "duration": 131,
    "start_time": "2024-09-08T13:55:53.918Z"
   },
   {
    "duration": 845,
    "start_time": "2024-09-08T13:56:08.400Z"
   },
   {
    "duration": 936,
    "start_time": "2024-09-08T13:57:38.838Z"
   },
   {
    "duration": 69,
    "start_time": "2024-09-08T13:59:31.144Z"
   },
   {
    "duration": 185,
    "start_time": "2024-09-08T13:59:40.791Z"
   },
   {
    "duration": 196,
    "start_time": "2024-09-08T14:00:29.088Z"
   },
   {
    "duration": 208,
    "start_time": "2024-09-08T14:00:36.406Z"
   },
   {
    "duration": 917,
    "start_time": "2024-09-08T14:00:48.806Z"
   },
   {
    "duration": 945,
    "start_time": "2024-09-08T14:04:25.241Z"
   },
   {
    "duration": 900,
    "start_time": "2024-09-08T14:04:32.986Z"
   },
   {
    "duration": 821,
    "start_time": "2024-09-08T14:05:15.281Z"
   },
   {
    "duration": 787,
    "start_time": "2024-09-08T14:05:26.384Z"
   },
   {
    "duration": 808,
    "start_time": "2024-09-08T14:05:31.488Z"
   },
   {
    "duration": 883,
    "start_time": "2024-09-08T14:05:38.286Z"
   },
   {
    "duration": 865,
    "start_time": "2024-09-08T14:05:44.198Z"
   },
   {
    "duration": 616,
    "start_time": "2024-09-08T14:06:57.035Z"
   },
   {
    "duration": 240,
    "start_time": "2024-09-08T14:06:57.653Z"
   },
   {
    "duration": 21,
    "start_time": "2024-09-08T14:06:57.896Z"
   },
   {
    "duration": 41,
    "start_time": "2024-09-08T14:06:57.918Z"
   },
   {
    "duration": 51,
    "start_time": "2024-09-08T14:06:57.961Z"
   },
   {
    "duration": 44,
    "start_time": "2024-09-08T14:06:58.014Z"
   },
   {
    "duration": 15,
    "start_time": "2024-09-08T14:06:58.060Z"
   },
   {
    "duration": 12,
    "start_time": "2024-09-08T14:06:58.077Z"
   },
   {
    "duration": 17,
    "start_time": "2024-09-08T14:06:58.091Z"
   },
   {
    "duration": 10,
    "start_time": "2024-09-08T14:06:58.109Z"
   },
   {
    "duration": 27,
    "start_time": "2024-09-08T14:06:58.120Z"
   },
   {
    "duration": 9,
    "start_time": "2024-09-08T14:06:58.149Z"
   },
   {
    "duration": 5,
    "start_time": "2024-09-08T14:06:58.160Z"
   },
   {
    "duration": 8,
    "start_time": "2024-09-08T14:06:58.169Z"
   },
   {
    "duration": 11,
    "start_time": "2024-09-08T14:06:58.179Z"
   },
   {
    "duration": 22,
    "start_time": "2024-09-08T14:06:58.192Z"
   },
   {
    "duration": 6,
    "start_time": "2024-09-08T14:06:58.215Z"
   },
   {
    "duration": 10,
    "start_time": "2024-09-08T14:06:58.222Z"
   },
   {
    "duration": 28,
    "start_time": "2024-09-08T14:06:58.234Z"
   },
   {
    "duration": 72,
    "start_time": "2024-09-08T14:06:58.264Z"
   },
   {
    "duration": 17,
    "start_time": "2024-09-08T14:06:58.338Z"
   },
   {
    "duration": 22,
    "start_time": "2024-09-08T14:06:58.356Z"
   },
   {
    "duration": 47,
    "start_time": "2024-09-08T14:06:58.380Z"
   },
   {
    "duration": 29,
    "start_time": "2024-09-08T14:06:58.428Z"
   },
   {
    "duration": 11,
    "start_time": "2024-09-08T14:06:58.459Z"
   },
   {
    "duration": 43,
    "start_time": "2024-09-08T14:06:58.472Z"
   },
   {
    "duration": 23,
    "start_time": "2024-09-08T14:06:58.517Z"
   },
   {
    "duration": 28,
    "start_time": "2024-09-08T14:06:58.541Z"
   },
   {
    "duration": 37,
    "start_time": "2024-09-08T14:06:58.571Z"
   },
   {
    "duration": 4,
    "start_time": "2024-09-08T14:06:58.610Z"
   },
   {
    "duration": 35,
    "start_time": "2024-09-08T14:06:58.616Z"
   },
   {
    "duration": 7000,
    "start_time": "2024-09-08T14:06:58.653Z"
   },
   {
    "duration": 28,
    "start_time": "2024-09-08T14:07:05.655Z"
   },
   {
    "duration": 24,
    "start_time": "2024-09-08T14:07:05.685Z"
   },
   {
    "duration": 6,
    "start_time": "2024-09-08T14:07:05.711Z"
   },
   {
    "duration": 37,
    "start_time": "2024-09-08T14:07:05.719Z"
   },
   {
    "duration": 176,
    "start_time": "2024-09-08T14:07:05.757Z"
   },
   {
    "duration": 25,
    "start_time": "2024-09-08T14:07:05.935Z"
   },
   {
    "duration": 930,
    "start_time": "2024-09-08T14:07:05.962Z"
   },
   {
    "duration": 152,
    "start_time": "2024-09-08T14:07:06.893Z"
   },
   {
    "duration": 150,
    "start_time": "2024-09-08T14:07:07.048Z"
   },
   {
    "duration": 319,
    "start_time": "2024-09-08T14:07:07.199Z"
   },
   {
    "duration": 19,
    "start_time": "2024-09-08T14:07:07.520Z"
   },
   {
    "duration": 28,
    "start_time": "2024-09-08T14:07:07.540Z"
   },
   {
    "duration": 677,
    "start_time": "2024-09-08T14:09:08.216Z"
   },
   {
    "duration": 172,
    "start_time": "2024-09-08T14:09:08.894Z"
   },
   {
    "duration": 24,
    "start_time": "2024-09-08T14:09:09.067Z"
   },
   {
    "duration": 35,
    "start_time": "2024-09-08T14:09:09.093Z"
   },
   {
    "duration": 63,
    "start_time": "2024-09-08T14:09:09.130Z"
   },
   {
    "duration": 22,
    "start_time": "2024-09-08T14:09:09.195Z"
   },
   {
    "duration": 42,
    "start_time": "2024-09-08T14:09:09.219Z"
   },
   {
    "duration": 66,
    "start_time": "2024-09-08T14:09:09.263Z"
   },
   {
    "duration": 53,
    "start_time": "2024-09-08T14:09:09.331Z"
   },
   {
    "duration": 32,
    "start_time": "2024-09-08T14:09:09.386Z"
   },
   {
    "duration": 27,
    "start_time": "2024-09-08T14:09:09.420Z"
   },
   {
    "duration": 16,
    "start_time": "2024-09-08T14:09:09.449Z"
   },
   {
    "duration": 57,
    "start_time": "2024-09-08T14:09:09.467Z"
   },
   {
    "duration": 44,
    "start_time": "2024-09-08T14:09:09.527Z"
   },
   {
    "duration": 27,
    "start_time": "2024-09-08T14:09:09.573Z"
   },
   {
    "duration": 25,
    "start_time": "2024-09-08T14:09:09.602Z"
   },
   {
    "duration": 21,
    "start_time": "2024-09-08T14:09:09.628Z"
   },
   {
    "duration": 44,
    "start_time": "2024-09-08T14:09:09.651Z"
   },
   {
    "duration": 31,
    "start_time": "2024-09-08T14:09:09.697Z"
   },
   {
    "duration": 38,
    "start_time": "2024-09-08T14:09:09.730Z"
   },
   {
    "duration": 18,
    "start_time": "2024-09-08T14:09:09.769Z"
   },
   {
    "duration": 31,
    "start_time": "2024-09-08T14:09:09.789Z"
   },
   {
    "duration": 45,
    "start_time": "2024-09-08T14:09:09.821Z"
   },
   {
    "duration": 38,
    "start_time": "2024-09-08T14:09:09.868Z"
   },
   {
    "duration": 6,
    "start_time": "2024-09-08T14:09:09.907Z"
   },
   {
    "duration": 190,
    "start_time": "2024-09-08T14:09:09.915Z"
   },
   {
    "duration": 24,
    "start_time": "2024-09-08T14:09:10.106Z"
   },
   {
    "duration": 35,
    "start_time": "2024-09-08T14:09:10.132Z"
   },
   {
    "duration": 5,
    "start_time": "2024-09-08T14:09:10.169Z"
   },
   {
    "duration": 10,
    "start_time": "2024-09-08T14:09:10.176Z"
   },
   {
    "duration": 34,
    "start_time": "2024-09-08T14:09:10.187Z"
   },
   {
    "duration": 6868,
    "start_time": "2024-09-08T14:09:10.223Z"
   },
   {
    "duration": 45,
    "start_time": "2024-09-08T14:09:17.092Z"
   },
   {
    "duration": 7,
    "start_time": "2024-09-08T14:09:17.139Z"
   },
   {
    "duration": 18,
    "start_time": "2024-09-08T14:09:17.148Z"
   },
   {
    "duration": 18,
    "start_time": "2024-09-08T14:09:17.167Z"
   },
   {
    "duration": 205,
    "start_time": "2024-09-08T14:09:17.186Z"
   },
   {
    "duration": 28,
    "start_time": "2024-09-08T14:09:17.393Z"
   },
   {
    "duration": 824,
    "start_time": "2024-09-08T14:09:17.423Z"
   },
   {
    "duration": 158,
    "start_time": "2024-09-08T14:09:18.249Z"
   },
   {
    "duration": 158,
    "start_time": "2024-09-08T14:09:18.411Z"
   },
   {
    "duration": 330,
    "start_time": "2024-09-08T14:09:18.571Z"
   },
   {
    "duration": 19,
    "start_time": "2024-09-08T14:09:18.903Z"
   },
   {
    "duration": 16,
    "start_time": "2024-09-08T14:09:18.924Z"
   },
   {
    "duration": 636,
    "start_time": "2024-09-08T14:13:00.352Z"
   },
   {
    "duration": 226,
    "start_time": "2024-09-08T14:13:00.990Z"
   },
   {
    "duration": 23,
    "start_time": "2024-09-08T14:13:01.218Z"
   },
   {
    "duration": 16,
    "start_time": "2024-09-08T14:13:01.243Z"
   },
   {
    "duration": 19,
    "start_time": "2024-09-08T14:13:01.260Z"
   },
   {
    "duration": 38,
    "start_time": "2024-09-08T14:13:01.281Z"
   },
   {
    "duration": 65,
    "start_time": "2024-09-08T14:13:01.321Z"
   },
   {
    "duration": 25,
    "start_time": "2024-09-08T14:13:01.388Z"
   },
   {
    "duration": 17,
    "start_time": "2024-09-08T14:13:01.415Z"
   },
   {
    "duration": 11,
    "start_time": "2024-09-08T14:13:01.435Z"
   },
   {
    "duration": 54,
    "start_time": "2024-09-08T14:13:01.447Z"
   },
   {
    "duration": 97,
    "start_time": "2024-09-08T14:13:01.504Z"
   },
   {
    "duration": 12,
    "start_time": "2024-09-08T14:13:01.603Z"
   },
   {
    "duration": 26,
    "start_time": "2024-09-08T14:13:01.618Z"
   },
   {
    "duration": 33,
    "start_time": "2024-09-08T14:13:01.646Z"
   },
   {
    "duration": 12,
    "start_time": "2024-09-08T14:13:01.681Z"
   },
   {
    "duration": 25,
    "start_time": "2024-09-08T14:13:01.694Z"
   },
   {
    "duration": 39,
    "start_time": "2024-09-08T14:13:01.720Z"
   },
   {
    "duration": 32,
    "start_time": "2024-09-08T14:13:01.760Z"
   },
   {
    "duration": 31,
    "start_time": "2024-09-08T14:13:01.793Z"
   },
   {
    "duration": 17,
    "start_time": "2024-09-08T14:13:01.825Z"
   },
   {
    "duration": 26,
    "start_time": "2024-09-08T14:13:01.844Z"
   },
   {
    "duration": 38,
    "start_time": "2024-09-08T14:13:01.872Z"
   },
   {
    "duration": 40,
    "start_time": "2024-09-08T14:13:01.911Z"
   },
   {
    "duration": 118,
    "start_time": "2024-09-08T14:13:01.953Z"
   },
   {
    "duration": 39,
    "start_time": "2024-09-08T14:13:02.073Z"
   },
   {
    "duration": 21,
    "start_time": "2024-09-08T14:13:02.113Z"
   },
   {
    "duration": 79,
    "start_time": "2024-09-08T14:13:02.138Z"
   },
   {
    "duration": 5,
    "start_time": "2024-09-08T14:13:02.219Z"
   },
   {
    "duration": 43,
    "start_time": "2024-09-08T14:13:02.225Z"
   },
   {
    "duration": 21,
    "start_time": "2024-09-08T14:13:02.269Z"
   },
   {
    "duration": 7043,
    "start_time": "2024-09-08T14:13:02.291Z"
   },
   {
    "duration": 28,
    "start_time": "2024-09-08T14:13:09.336Z"
   },
   {
    "duration": 8,
    "start_time": "2024-09-08T14:13:09.366Z"
   },
   {
    "duration": 7,
    "start_time": "2024-09-08T14:13:09.376Z"
   },
   {
    "duration": 17,
    "start_time": "2024-09-08T14:13:09.406Z"
   },
   {
    "duration": 184,
    "start_time": "2024-09-08T14:13:09.425Z"
   },
   {
    "duration": 22,
    "start_time": "2024-09-08T14:13:09.610Z"
   },
   {
    "duration": 840,
    "start_time": "2024-09-08T14:13:09.634Z"
   },
   {
    "duration": 156,
    "start_time": "2024-09-08T14:13:10.475Z"
   },
   {
    "duration": 144,
    "start_time": "2024-09-08T14:13:10.633Z"
   },
   {
    "duration": 310,
    "start_time": "2024-09-08T14:13:10.779Z"
   },
   {
    "duration": 28,
    "start_time": "2024-09-08T14:13:11.091Z"
   },
   {
    "duration": 42,
    "start_time": "2024-09-08T14:13:11.120Z"
   },
   {
    "duration": 667,
    "start_time": "2024-09-09T09:47:43.739Z"
   },
   {
    "duration": 411,
    "start_time": "2024-09-09T09:47:44.408Z"
   },
   {
    "duration": 21,
    "start_time": "2024-09-09T09:47:44.820Z"
   },
   {
    "duration": 14,
    "start_time": "2024-09-09T09:47:44.843Z"
   },
   {
    "duration": 15,
    "start_time": "2024-09-09T09:47:44.858Z"
   },
   {
    "duration": 29,
    "start_time": "2024-09-09T09:47:44.875Z"
   },
   {
    "duration": 18,
    "start_time": "2024-09-09T09:47:44.906Z"
   },
   {
    "duration": 15,
    "start_time": "2024-09-09T09:47:44.925Z"
   },
   {
    "duration": 32,
    "start_time": "2024-09-09T09:47:44.941Z"
   },
   {
    "duration": 10,
    "start_time": "2024-09-09T09:47:44.975Z"
   },
   {
    "duration": 37,
    "start_time": "2024-09-09T09:47:44.986Z"
   },
   {
    "duration": 35,
    "start_time": "2024-09-09T09:47:45.025Z"
   },
   {
    "duration": 14,
    "start_time": "2024-09-09T09:47:45.061Z"
   },
   {
    "duration": 29,
    "start_time": "2024-09-09T09:47:45.076Z"
   },
   {
    "duration": 39,
    "start_time": "2024-09-09T09:47:45.106Z"
   },
   {
    "duration": 87,
    "start_time": "2024-09-09T09:47:45.147Z"
   },
   {
    "duration": 33,
    "start_time": "2024-09-09T09:47:45.235Z"
   },
   {
    "duration": 111,
    "start_time": "2024-09-09T09:47:45.270Z"
   },
   {
    "duration": 133,
    "start_time": "2024-09-09T09:47:45.382Z"
   },
   {
    "duration": 40,
    "start_time": "2024-09-09T09:47:45.516Z"
   },
   {
    "duration": 51,
    "start_time": "2024-09-09T09:47:45.557Z"
   },
   {
    "duration": 37,
    "start_time": "2024-09-09T09:47:45.610Z"
   },
   {
    "duration": 29,
    "start_time": "2024-09-09T09:47:45.649Z"
   },
   {
    "duration": 28,
    "start_time": "2024-09-09T09:47:45.680Z"
   },
   {
    "duration": 5,
    "start_time": "2024-09-09T09:47:45.710Z"
   },
   {
    "duration": 46,
    "start_time": "2024-09-09T09:47:45.716Z"
   },
   {
    "duration": 22,
    "start_time": "2024-09-09T09:47:45.764Z"
   },
   {
    "duration": 61,
    "start_time": "2024-09-09T09:47:45.789Z"
   },
   {
    "duration": 5,
    "start_time": "2024-09-09T09:47:45.852Z"
   },
   {
    "duration": 7,
    "start_time": "2024-09-09T09:47:45.858Z"
   },
   {
    "duration": 39,
    "start_time": "2024-09-09T09:47:45.867Z"
   },
   {
    "duration": 7229,
    "start_time": "2024-09-09T09:47:45.908Z"
   },
   {
    "duration": 33,
    "start_time": "2024-09-09T09:47:53.138Z"
   },
   {
    "duration": 6,
    "start_time": "2024-09-09T09:47:53.172Z"
   },
   {
    "duration": 5,
    "start_time": "2024-09-09T09:47:53.179Z"
   },
   {
    "duration": 25,
    "start_time": "2024-09-09T09:47:53.186Z"
   },
   {
    "duration": 180,
    "start_time": "2024-09-09T09:47:53.213Z"
   },
   {
    "duration": 22,
    "start_time": "2024-09-09T09:47:53.395Z"
   },
   {
    "duration": 845,
    "start_time": "2024-09-09T09:47:53.418Z"
   },
   {
    "duration": 140,
    "start_time": "2024-09-09T09:47:54.264Z"
   },
   {
    "duration": 141,
    "start_time": "2024-09-09T09:47:54.405Z"
   },
   {
    "duration": 291,
    "start_time": "2024-09-09T09:47:54.551Z"
   },
   {
    "duration": 21,
    "start_time": "2024-09-09T09:47:54.844Z"
   },
   {
    "duration": 20,
    "start_time": "2024-09-09T09:47:54.866Z"
   }
  ],
  "colab": {
   "name": "DA+. Сборный проект 1. Шаблон (1).ipynb",
   "provenance": []
  },
  "kernelspec": {
   "display_name": "Python 3 (ipykernel)",
   "language": "python",
   "name": "python3"
  },
  "language_info": {
   "codemirror_mode": {
    "name": "ipython",
    "version": 3
   },
   "file_extension": ".py",
   "mimetype": "text/x-python",
   "name": "python",
   "nbconvert_exporter": "python",
   "pygments_lexer": "ipython3",
   "version": "3.9.19"
  },
  "toc": {
   "base_numbering": 1,
   "nav_menu": {},
   "number_sections": true,
   "sideBar": true,
   "skip_h1_title": true,
   "title_cell": "Table of Contents",
   "title_sidebar": "Contents",
   "toc_cell": false,
   "toc_position": {
    "height": "calc(100% - 180px)",
    "left": "10px",
    "top": "150px",
    "width": "375.391px"
   },
   "toc_section_display": true,
   "toc_window_display": false
  }
 },
 "nbformat": 4,
 "nbformat_minor": 1
}
