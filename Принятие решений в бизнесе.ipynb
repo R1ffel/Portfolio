{
 "cells": [
  {
   "cell_type": "markdown",
   "metadata": {},
   "source": [
    "# Принятие решений в бизнесе"
   ]
  },
  {
   "cell_type": "markdown",
   "metadata": {},
   "source": [
    "Приоритизируем гипотезы крупного интернет-магазина, анализируем результаты A/B-теста.\n",
    "\n",
    "В ходе работы изучим выручку, средний чек и число заказов на посетителя по группам, найдем аномалии, сравним группы по основным показателям и другое."
   ]
  },
  {
   "cell_type": "markdown",
   "metadata": {},
   "source": [
    "## Часть 1. Приоритизация гипотез."
   ]
  },
  {
   "cell_type": "markdown",
   "metadata": {},
   "source": [
    "Откроем файл с гипотезами и проверим типы данных."
   ]
  },
  {
   "cell_type": "code",
   "execution_count": 1,
   "metadata": {},
   "outputs": [],
   "source": [
    "import pandas as pd"
   ]
  },
  {
   "cell_type": "code",
   "execution_count": 2,
   "metadata": {},
   "outputs": [],
   "source": [
    "pd.options.display.max_colwidth = 150"
   ]
  },
  {
   "cell_type": "code",
   "execution_count": 3,
   "metadata": {},
   "outputs": [
    {
     "data": {
      "text/html": [
       "<div>\n",
       "<style scoped>\n",
       "    .dataframe tbody tr th:only-of-type {\n",
       "        vertical-align: middle;\n",
       "    }\n",
       "\n",
       "    .dataframe tbody tr th {\n",
       "        vertical-align: top;\n",
       "    }\n",
       "\n",
       "    .dataframe thead th {\n",
       "        text-align: right;\n",
       "    }\n",
       "</style>\n",
       "<table border=\"1\" class=\"dataframe\">\n",
       "  <thead>\n",
       "    <tr style=\"text-align: right;\">\n",
       "      <th></th>\n",
       "      <th>Hypothesis</th>\n",
       "      <th>Reach</th>\n",
       "      <th>Impact</th>\n",
       "      <th>Confidence</th>\n",
       "      <th>Efforts</th>\n",
       "    </tr>\n",
       "  </thead>\n",
       "  <tbody>\n",
       "    <tr>\n",
       "      <th>0</th>\n",
       "      <td>Добавить два новых канала привлечения трафика, что позволит привлекать на 30% больше пользователей</td>\n",
       "      <td>3</td>\n",
       "      <td>10</td>\n",
       "      <td>8</td>\n",
       "      <td>6</td>\n",
       "    </tr>\n",
       "    <tr>\n",
       "      <th>1</th>\n",
       "      <td>Запустить собственную службу доставки, что сократит срок доставки заказов</td>\n",
       "      <td>2</td>\n",
       "      <td>5</td>\n",
       "      <td>4</td>\n",
       "      <td>10</td>\n",
       "    </tr>\n",
       "    <tr>\n",
       "      <th>2</th>\n",
       "      <td>Добавить блоки рекомендаций товаров на сайт интернет магазина, чтобы повысить конверсию и средний чек заказа</td>\n",
       "      <td>8</td>\n",
       "      <td>3</td>\n",
       "      <td>7</td>\n",
       "      <td>3</td>\n",
       "    </tr>\n",
       "    <tr>\n",
       "      <th>3</th>\n",
       "      <td>Изменить структура категорий, что увеличит конверсию, т.к. пользователи быстрее найдут нужный товар</td>\n",
       "      <td>8</td>\n",
       "      <td>3</td>\n",
       "      <td>3</td>\n",
       "      <td>8</td>\n",
       "    </tr>\n",
       "    <tr>\n",
       "      <th>4</th>\n",
       "      <td>Изменить цвет фона главной страницы, чтобы увеличить вовлеченность пользователей</td>\n",
       "      <td>3</td>\n",
       "      <td>1</td>\n",
       "      <td>1</td>\n",
       "      <td>1</td>\n",
       "    </tr>\n",
       "    <tr>\n",
       "      <th>5</th>\n",
       "      <td>Добавить страницу отзывов клиентов о магазине, что позволит увеличить количество заказов</td>\n",
       "      <td>3</td>\n",
       "      <td>2</td>\n",
       "      <td>2</td>\n",
       "      <td>3</td>\n",
       "    </tr>\n",
       "    <tr>\n",
       "      <th>6</th>\n",
       "      <td>Показать на главной странице баннеры с актуальными акциями и распродажами, чтобы увеличить конверсию</td>\n",
       "      <td>5</td>\n",
       "      <td>3</td>\n",
       "      <td>8</td>\n",
       "      <td>3</td>\n",
       "    </tr>\n",
       "    <tr>\n",
       "      <th>7</th>\n",
       "      <td>Добавить форму подписки на все основные страницы, чтобы собрать базу клиентов для email-рассылок</td>\n",
       "      <td>10</td>\n",
       "      <td>7</td>\n",
       "      <td>8</td>\n",
       "      <td>5</td>\n",
       "    </tr>\n",
       "    <tr>\n",
       "      <th>8</th>\n",
       "      <td>Запустить акцию, дающую скидку на товар в день рождения</td>\n",
       "      <td>1</td>\n",
       "      <td>9</td>\n",
       "      <td>9</td>\n",
       "      <td>5</td>\n",
       "    </tr>\n",
       "  </tbody>\n",
       "</table>\n",
       "</div>"
      ],
      "text/plain": [
       "                                                                                                     Hypothesis  \\\n",
       "0            Добавить два новых канала привлечения трафика, что позволит привлекать на 30% больше пользователей   \n",
       "1                                     Запустить собственную службу доставки, что сократит срок доставки заказов   \n",
       "2  Добавить блоки рекомендаций товаров на сайт интернет магазина, чтобы повысить конверсию и средний чек заказа   \n",
       "3           Изменить структура категорий, что увеличит конверсию, т.к. пользователи быстрее найдут нужный товар   \n",
       "4                              Изменить цвет фона главной страницы, чтобы увеличить вовлеченность пользователей   \n",
       "5                      Добавить страницу отзывов клиентов о магазине, что позволит увеличить количество заказов   \n",
       "6          Показать на главной странице баннеры с актуальными акциями и распродажами, чтобы увеличить конверсию   \n",
       "7              Добавить форму подписки на все основные страницы, чтобы собрать базу клиентов для email-рассылок   \n",
       "8                                                       Запустить акцию, дающую скидку на товар в день рождения   \n",
       "\n",
       "   Reach  Impact  Confidence  Efforts  \n",
       "0      3      10           8        6  \n",
       "1      2       5           4       10  \n",
       "2      8       3           7        3  \n",
       "3      8       3           3        8  \n",
       "4      3       1           1        1  \n",
       "5      3       2           2        3  \n",
       "6      5       3           8        3  \n",
       "7     10       7           8        5  \n",
       "8      1       9           9        5  "
      ]
     },
     "execution_count": 3,
     "metadata": {},
     "output_type": "execute_result"
    }
   ],
   "source": [
    "hypothesis = pd.read_csv('/datasets/hypothesis.csv')\n",
    "hypothesis"
   ]
  },
  {
   "cell_type": "code",
   "execution_count": 4,
   "metadata": {},
   "outputs": [
    {
     "name": "stdout",
     "output_type": "stream",
     "text": [
      "<class 'pandas.core.frame.DataFrame'>\n",
      "RangeIndex: 9 entries, 0 to 8\n",
      "Data columns (total 5 columns):\n",
      " #   Column      Non-Null Count  Dtype \n",
      "---  ------      --------------  ----- \n",
      " 0   Hypothesis  9 non-null      object\n",
      " 1   Reach       9 non-null      int64 \n",
      " 2   Impact      9 non-null      int64 \n",
      " 3   Confidence  9 non-null      int64 \n",
      " 4   Efforts     9 non-null      int64 \n",
      "dtypes: int64(4), object(1)\n",
      "memory usage: 488.0+ bytes\n"
     ]
    }
   ],
   "source": [
    "hypothesis.info()"
   ]
  },
  {
   "cell_type": "markdown",
   "metadata": {},
   "source": [
    "С типами данных всё в порядке. Теперь приоретизируем гипотезы двумя методами - ICE и RICE"
   ]
  },
  {
   "cell_type": "code",
   "execution_count": 5,
   "metadata": {},
   "outputs": [
    {
     "data": {
      "text/html": [
       "<div>\n",
       "<style scoped>\n",
       "    .dataframe tbody tr th:only-of-type {\n",
       "        vertical-align: middle;\n",
       "    }\n",
       "\n",
       "    .dataframe tbody tr th {\n",
       "        vertical-align: top;\n",
       "    }\n",
       "\n",
       "    .dataframe thead th {\n",
       "        text-align: right;\n",
       "    }\n",
       "</style>\n",
       "<table border=\"1\" class=\"dataframe\">\n",
       "  <thead>\n",
       "    <tr style=\"text-align: right;\">\n",
       "      <th></th>\n",
       "      <th>Hypothesis</th>\n",
       "      <th>Reach</th>\n",
       "      <th>Impact</th>\n",
       "      <th>Confidence</th>\n",
       "      <th>Efforts</th>\n",
       "      <th>ice</th>\n",
       "    </tr>\n",
       "  </thead>\n",
       "  <tbody>\n",
       "    <tr>\n",
       "      <th>8</th>\n",
       "      <td>Запустить акцию, дающую скидку на товар в день рождения</td>\n",
       "      <td>1</td>\n",
       "      <td>9</td>\n",
       "      <td>9</td>\n",
       "      <td>5</td>\n",
       "      <td>16.20</td>\n",
       "    </tr>\n",
       "    <tr>\n",
       "      <th>0</th>\n",
       "      <td>Добавить два новых канала привлечения трафика, что позволит привлекать на 30% больше пользователей</td>\n",
       "      <td>3</td>\n",
       "      <td>10</td>\n",
       "      <td>8</td>\n",
       "      <td>6</td>\n",
       "      <td>13.33</td>\n",
       "    </tr>\n",
       "    <tr>\n",
       "      <th>7</th>\n",
       "      <td>Добавить форму подписки на все основные страницы, чтобы собрать базу клиентов для email-рассылок</td>\n",
       "      <td>10</td>\n",
       "      <td>7</td>\n",
       "      <td>8</td>\n",
       "      <td>5</td>\n",
       "      <td>11.20</td>\n",
       "    </tr>\n",
       "    <tr>\n",
       "      <th>6</th>\n",
       "      <td>Показать на главной странице баннеры с актуальными акциями и распродажами, чтобы увеличить конверсию</td>\n",
       "      <td>5</td>\n",
       "      <td>3</td>\n",
       "      <td>8</td>\n",
       "      <td>3</td>\n",
       "      <td>8.00</td>\n",
       "    </tr>\n",
       "    <tr>\n",
       "      <th>2</th>\n",
       "      <td>Добавить блоки рекомендаций товаров на сайт интернет магазина, чтобы повысить конверсию и средний чек заказа</td>\n",
       "      <td>8</td>\n",
       "      <td>3</td>\n",
       "      <td>7</td>\n",
       "      <td>3</td>\n",
       "      <td>7.00</td>\n",
       "    </tr>\n",
       "    <tr>\n",
       "      <th>1</th>\n",
       "      <td>Запустить собственную службу доставки, что сократит срок доставки заказов</td>\n",
       "      <td>2</td>\n",
       "      <td>5</td>\n",
       "      <td>4</td>\n",
       "      <td>10</td>\n",
       "      <td>2.00</td>\n",
       "    </tr>\n",
       "    <tr>\n",
       "      <th>5</th>\n",
       "      <td>Добавить страницу отзывов клиентов о магазине, что позволит увеличить количество заказов</td>\n",
       "      <td>3</td>\n",
       "      <td>2</td>\n",
       "      <td>2</td>\n",
       "      <td>3</td>\n",
       "      <td>1.33</td>\n",
       "    </tr>\n",
       "    <tr>\n",
       "      <th>3</th>\n",
       "      <td>Изменить структура категорий, что увеличит конверсию, т.к. пользователи быстрее найдут нужный товар</td>\n",
       "      <td>8</td>\n",
       "      <td>3</td>\n",
       "      <td>3</td>\n",
       "      <td>8</td>\n",
       "      <td>1.12</td>\n",
       "    </tr>\n",
       "    <tr>\n",
       "      <th>4</th>\n",
       "      <td>Изменить цвет фона главной страницы, чтобы увеличить вовлеченность пользователей</td>\n",
       "      <td>3</td>\n",
       "      <td>1</td>\n",
       "      <td>1</td>\n",
       "      <td>1</td>\n",
       "      <td>1.00</td>\n",
       "    </tr>\n",
       "  </tbody>\n",
       "</table>\n",
       "</div>"
      ],
      "text/plain": [
       "                                                                                                     Hypothesis  \\\n",
       "8                                                       Запустить акцию, дающую скидку на товар в день рождения   \n",
       "0            Добавить два новых канала привлечения трафика, что позволит привлекать на 30% больше пользователей   \n",
       "7              Добавить форму подписки на все основные страницы, чтобы собрать базу клиентов для email-рассылок   \n",
       "6          Показать на главной странице баннеры с актуальными акциями и распродажами, чтобы увеличить конверсию   \n",
       "2  Добавить блоки рекомендаций товаров на сайт интернет магазина, чтобы повысить конверсию и средний чек заказа   \n",
       "1                                     Запустить собственную службу доставки, что сократит срок доставки заказов   \n",
       "5                      Добавить страницу отзывов клиентов о магазине, что позволит увеличить количество заказов   \n",
       "3           Изменить структура категорий, что увеличит конверсию, т.к. пользователи быстрее найдут нужный товар   \n",
       "4                              Изменить цвет фона главной страницы, чтобы увеличить вовлеченность пользователей   \n",
       "\n",
       "   Reach  Impact  Confidence  Efforts    ice  \n",
       "8      1       9           9        5  16.20  \n",
       "0      3      10           8        6  13.33  \n",
       "7     10       7           8        5  11.20  \n",
       "6      5       3           8        3   8.00  \n",
       "2      8       3           7        3   7.00  \n",
       "1      2       5           4       10   2.00  \n",
       "5      3       2           2        3   1.33  \n",
       "3      8       3           3        8   1.12  \n",
       "4      3       1           1        1   1.00  "
      ]
     },
     "execution_count": 5,
     "metadata": {},
     "output_type": "execute_result"
    }
   ],
   "source": [
    "hypothesis['ice'] = round(hypothesis['Impact'] * hypothesis['Confidence'] / hypothesis['Efforts'], 2)\n",
    "hypothesis.sort_values('ice', ascending=False)"
   ]
  },
  {
   "cell_type": "code",
   "execution_count": 6,
   "metadata": {},
   "outputs": [
    {
     "data": {
      "text/html": [
       "<div>\n",
       "<style scoped>\n",
       "    .dataframe tbody tr th:only-of-type {\n",
       "        vertical-align: middle;\n",
       "    }\n",
       "\n",
       "    .dataframe tbody tr th {\n",
       "        vertical-align: top;\n",
       "    }\n",
       "\n",
       "    .dataframe thead th {\n",
       "        text-align: right;\n",
       "    }\n",
       "</style>\n",
       "<table border=\"1\" class=\"dataframe\">\n",
       "  <thead>\n",
       "    <tr style=\"text-align: right;\">\n",
       "      <th></th>\n",
       "      <th>Hypothesis</th>\n",
       "      <th>Reach</th>\n",
       "      <th>Impact</th>\n",
       "      <th>Confidence</th>\n",
       "      <th>Efforts</th>\n",
       "      <th>ice</th>\n",
       "      <th>rice</th>\n",
       "    </tr>\n",
       "  </thead>\n",
       "  <tbody>\n",
       "    <tr>\n",
       "      <th>7</th>\n",
       "      <td>Добавить форму подписки на все основные страницы, чтобы собрать базу клиентов для email-рассылок</td>\n",
       "      <td>10</td>\n",
       "      <td>7</td>\n",
       "      <td>8</td>\n",
       "      <td>5</td>\n",
       "      <td>11.20</td>\n",
       "      <td>112.0</td>\n",
       "    </tr>\n",
       "    <tr>\n",
       "      <th>2</th>\n",
       "      <td>Добавить блоки рекомендаций товаров на сайт интернет магазина, чтобы повысить конверсию и средний чек заказа</td>\n",
       "      <td>8</td>\n",
       "      <td>3</td>\n",
       "      <td>7</td>\n",
       "      <td>3</td>\n",
       "      <td>7.00</td>\n",
       "      <td>56.0</td>\n",
       "    </tr>\n",
       "    <tr>\n",
       "      <th>0</th>\n",
       "      <td>Добавить два новых канала привлечения трафика, что позволит привлекать на 30% больше пользователей</td>\n",
       "      <td>3</td>\n",
       "      <td>10</td>\n",
       "      <td>8</td>\n",
       "      <td>6</td>\n",
       "      <td>13.33</td>\n",
       "      <td>40.0</td>\n",
       "    </tr>\n",
       "    <tr>\n",
       "      <th>6</th>\n",
       "      <td>Показать на главной странице баннеры с актуальными акциями и распродажами, чтобы увеличить конверсию</td>\n",
       "      <td>5</td>\n",
       "      <td>3</td>\n",
       "      <td>8</td>\n",
       "      <td>3</td>\n",
       "      <td>8.00</td>\n",
       "      <td>40.0</td>\n",
       "    </tr>\n",
       "    <tr>\n",
       "      <th>8</th>\n",
       "      <td>Запустить акцию, дающую скидку на товар в день рождения</td>\n",
       "      <td>1</td>\n",
       "      <td>9</td>\n",
       "      <td>9</td>\n",
       "      <td>5</td>\n",
       "      <td>16.20</td>\n",
       "      <td>16.2</td>\n",
       "    </tr>\n",
       "    <tr>\n",
       "      <th>3</th>\n",
       "      <td>Изменить структура категорий, что увеличит конверсию, т.к. пользователи быстрее найдут нужный товар</td>\n",
       "      <td>8</td>\n",
       "      <td>3</td>\n",
       "      <td>3</td>\n",
       "      <td>8</td>\n",
       "      <td>1.12</td>\n",
       "      <td>9.0</td>\n",
       "    </tr>\n",
       "    <tr>\n",
       "      <th>1</th>\n",
       "      <td>Запустить собственную службу доставки, что сократит срок доставки заказов</td>\n",
       "      <td>2</td>\n",
       "      <td>5</td>\n",
       "      <td>4</td>\n",
       "      <td>10</td>\n",
       "      <td>2.00</td>\n",
       "      <td>4.0</td>\n",
       "    </tr>\n",
       "    <tr>\n",
       "      <th>5</th>\n",
       "      <td>Добавить страницу отзывов клиентов о магазине, что позволит увеличить количество заказов</td>\n",
       "      <td>3</td>\n",
       "      <td>2</td>\n",
       "      <td>2</td>\n",
       "      <td>3</td>\n",
       "      <td>1.33</td>\n",
       "      <td>4.0</td>\n",
       "    </tr>\n",
       "    <tr>\n",
       "      <th>4</th>\n",
       "      <td>Изменить цвет фона главной страницы, чтобы увеличить вовлеченность пользователей</td>\n",
       "      <td>3</td>\n",
       "      <td>1</td>\n",
       "      <td>1</td>\n",
       "      <td>1</td>\n",
       "      <td>1.00</td>\n",
       "      <td>3.0</td>\n",
       "    </tr>\n",
       "  </tbody>\n",
       "</table>\n",
       "</div>"
      ],
      "text/plain": [
       "                                                                                                     Hypothesis  \\\n",
       "7              Добавить форму подписки на все основные страницы, чтобы собрать базу клиентов для email-рассылок   \n",
       "2  Добавить блоки рекомендаций товаров на сайт интернет магазина, чтобы повысить конверсию и средний чек заказа   \n",
       "0            Добавить два новых канала привлечения трафика, что позволит привлекать на 30% больше пользователей   \n",
       "6          Показать на главной странице баннеры с актуальными акциями и распродажами, чтобы увеличить конверсию   \n",
       "8                                                       Запустить акцию, дающую скидку на товар в день рождения   \n",
       "3           Изменить структура категорий, что увеличит конверсию, т.к. пользователи быстрее найдут нужный товар   \n",
       "1                                     Запустить собственную службу доставки, что сократит срок доставки заказов   \n",
       "5                      Добавить страницу отзывов клиентов о магазине, что позволит увеличить количество заказов   \n",
       "4                              Изменить цвет фона главной страницы, чтобы увеличить вовлеченность пользователей   \n",
       "\n",
       "   Reach  Impact  Confidence  Efforts    ice   rice  \n",
       "7     10       7           8        5  11.20  112.0  \n",
       "2      8       3           7        3   7.00   56.0  \n",
       "0      3      10           8        6  13.33   40.0  \n",
       "6      5       3           8        3   8.00   40.0  \n",
       "8      1       9           9        5  16.20   16.2  \n",
       "3      8       3           3        8   1.12    9.0  \n",
       "1      2       5           4       10   2.00    4.0  \n",
       "5      3       2           2        3   1.33    4.0  \n",
       "4      3       1           1        1   1.00    3.0  "
      ]
     },
     "execution_count": 6,
     "metadata": {},
     "output_type": "execute_result"
    }
   ],
   "source": [
    "hypothesis['rice'] = hypothesis['Reach'] * hypothesis['Impact'] * hypothesis['Confidence'] / hypothesis['Efforts']\n",
    "hypothesis.sort_values('rice', ascending=False)"
   ]
  },
  {
   "cell_type": "markdown",
   "metadata": {},
   "source": [
    "В ICE охват изменений никак не влияет, а в RICE влияет, поэтому гипотезы с низким охватом спустились на несколько мест вниз, а гипотезы с высоким охватом поднялись вверх. Топ-5 гипотез из ICE и RICE одинаковые и отличаются только местами."
   ]
  },
  {
   "cell_type": "markdown",
   "metadata": {},
   "source": [
    "## Часть 2. Анализ A/B-теста"
   ]
  },
  {
   "cell_type": "markdown",
   "metadata": {},
   "source": [
    "Откроем файлы с результатами A/B-теста и проверим типы данных."
   ]
  },
  {
   "cell_type": "code",
   "execution_count": 7,
   "metadata": {},
   "outputs": [],
   "source": [
    "import matplotlib.pyplot as plt\n",
    "import numpy as np\n",
    "import datetime as dt\n",
    "import scipy.stats as st"
   ]
  },
  {
   "cell_type": "code",
   "execution_count": 8,
   "metadata": {},
   "outputs": [],
   "source": [
    "orders = pd.read_csv('/datasets/orders.csv')\n",
    "visitors = pd.read_csv('/datasets/visitors.csv')"
   ]
  },
  {
   "cell_type": "code",
   "execution_count": 9,
   "metadata": {},
   "outputs": [
    {
     "data": {
      "text/html": [
       "<div>\n",
       "<style scoped>\n",
       "    .dataframe tbody tr th:only-of-type {\n",
       "        vertical-align: middle;\n",
       "    }\n",
       "\n",
       "    .dataframe tbody tr th {\n",
       "        vertical-align: top;\n",
       "    }\n",
       "\n",
       "    .dataframe thead th {\n",
       "        text-align: right;\n",
       "    }\n",
       "</style>\n",
       "<table border=\"1\" class=\"dataframe\">\n",
       "  <thead>\n",
       "    <tr style=\"text-align: right;\">\n",
       "      <th></th>\n",
       "      <th>transactionId</th>\n",
       "      <th>visitorId</th>\n",
       "      <th>date</th>\n",
       "      <th>revenue</th>\n",
       "      <th>group</th>\n",
       "    </tr>\n",
       "  </thead>\n",
       "  <tbody>\n",
       "    <tr>\n",
       "      <th>0</th>\n",
       "      <td>3667963787</td>\n",
       "      <td>3312258926</td>\n",
       "      <td>2019-08-15</td>\n",
       "      <td>1650</td>\n",
       "      <td>B</td>\n",
       "    </tr>\n",
       "    <tr>\n",
       "      <th>1</th>\n",
       "      <td>2804400009</td>\n",
       "      <td>3642806036</td>\n",
       "      <td>2019-08-15</td>\n",
       "      <td>730</td>\n",
       "      <td>B</td>\n",
       "    </tr>\n",
       "    <tr>\n",
       "      <th>2</th>\n",
       "      <td>2961555356</td>\n",
       "      <td>4069496402</td>\n",
       "      <td>2019-08-15</td>\n",
       "      <td>400</td>\n",
       "      <td>A</td>\n",
       "    </tr>\n",
       "    <tr>\n",
       "      <th>3</th>\n",
       "      <td>3797467345</td>\n",
       "      <td>1196621759</td>\n",
       "      <td>2019-08-15</td>\n",
       "      <td>9759</td>\n",
       "      <td>B</td>\n",
       "    </tr>\n",
       "    <tr>\n",
       "      <th>4</th>\n",
       "      <td>2282983706</td>\n",
       "      <td>2322279887</td>\n",
       "      <td>2019-08-15</td>\n",
       "      <td>2308</td>\n",
       "      <td>B</td>\n",
       "    </tr>\n",
       "  </tbody>\n",
       "</table>\n",
       "</div>"
      ],
      "text/plain": [
       "   transactionId   visitorId        date  revenue group\n",
       "0     3667963787  3312258926  2019-08-15     1650     B\n",
       "1     2804400009  3642806036  2019-08-15      730     B\n",
       "2     2961555356  4069496402  2019-08-15      400     A\n",
       "3     3797467345  1196621759  2019-08-15     9759     B\n",
       "4     2282983706  2322279887  2019-08-15     2308     B"
      ]
     },
     "execution_count": 9,
     "metadata": {},
     "output_type": "execute_result"
    }
   ],
   "source": [
    "orders.head()"
   ]
  },
  {
   "cell_type": "code",
   "execution_count": 10,
   "metadata": {},
   "outputs": [
    {
     "name": "stdout",
     "output_type": "stream",
     "text": [
      "<class 'pandas.core.frame.DataFrame'>\n",
      "RangeIndex: 1197 entries, 0 to 1196\n",
      "Data columns (total 5 columns):\n",
      " #   Column         Non-Null Count  Dtype \n",
      "---  ------         --------------  ----- \n",
      " 0   transactionId  1197 non-null   int64 \n",
      " 1   visitorId      1197 non-null   int64 \n",
      " 2   date           1197 non-null   object\n",
      " 3   revenue        1197 non-null   int64 \n",
      " 4   group          1197 non-null   object\n",
      "dtypes: int64(3), object(2)\n",
      "memory usage: 46.9+ KB\n"
     ]
    }
   ],
   "source": [
    "orders.info()"
   ]
  },
  {
   "cell_type": "code",
   "execution_count": 11,
   "metadata": {},
   "outputs": [
    {
     "name": "stdout",
     "output_type": "stream",
     "text": [
      "<class 'pandas.core.frame.DataFrame'>\n",
      "RangeIndex: 62 entries, 0 to 61\n",
      "Data columns (total 3 columns):\n",
      " #   Column    Non-Null Count  Dtype \n",
      "---  ------    --------------  ----- \n",
      " 0   date      62 non-null     object\n",
      " 1   group     62 non-null     object\n",
      " 2   visitors  62 non-null     int64 \n",
      "dtypes: int64(1), object(2)\n",
      "memory usage: 1.6+ KB\n"
     ]
    }
   ],
   "source": [
    "visitors.info()"
   ]
  },
  {
   "cell_type": "markdown",
   "metadata": {},
   "source": [
    "Изменим типы данных в столбцах с датами."
   ]
  },
  {
   "cell_type": "code",
   "execution_count": 12,
   "metadata": {},
   "outputs": [],
   "source": [
    "orders['date'] = pd.to_datetime(orders['date'])\n",
    "visitors['date'] = pd.to_datetime(visitors['date'])"
   ]
  },
  {
   "cell_type": "code",
   "execution_count": 13,
   "metadata": {},
   "outputs": [
    {
     "name": "stdout",
     "output_type": "stream",
     "text": [
      "<class 'pandas.core.frame.DataFrame'>\n",
      "RangeIndex: 1197 entries, 0 to 1196\n",
      "Data columns (total 5 columns):\n",
      " #   Column         Non-Null Count  Dtype         \n",
      "---  ------         --------------  -----         \n",
      " 0   transactionId  1197 non-null   int64         \n",
      " 1   visitorId      1197 non-null   int64         \n",
      " 2   date           1197 non-null   datetime64[ns]\n",
      " 3   revenue        1197 non-null   int64         \n",
      " 4   group          1197 non-null   object        \n",
      "dtypes: datetime64[ns](1), int64(3), object(1)\n",
      "memory usage: 46.9+ KB\n"
     ]
    }
   ],
   "source": [
    "orders.info()"
   ]
  },
  {
   "cell_type": "code",
   "execution_count": 14,
   "metadata": {},
   "outputs": [
    {
     "name": "stdout",
     "output_type": "stream",
     "text": [
      "<class 'pandas.core.frame.DataFrame'>\n",
      "RangeIndex: 62 entries, 0 to 61\n",
      "Data columns (total 3 columns):\n",
      " #   Column    Non-Null Count  Dtype         \n",
      "---  ------    --------------  -----         \n",
      " 0   date      62 non-null     datetime64[ns]\n",
      " 1   group     62 non-null     object        \n",
      " 2   visitors  62 non-null     int64         \n",
      "dtypes: datetime64[ns](1), int64(1), object(1)\n",
      "memory usage: 1.6+ KB\n"
     ]
    }
   ],
   "source": [
    "visitors.info()"
   ]
  },
  {
   "cell_type": "markdown",
   "metadata": {},
   "source": [
    "Типы данных изменили. Проверим есть ли заказы с одинаковыми transactionId"
   ]
  },
  {
   "cell_type": "code",
   "execution_count": 15,
   "metadata": {},
   "outputs": [
    {
     "data": {
      "text/plain": [
       "0"
      ]
     },
     "execution_count": 15,
     "metadata": {},
     "output_type": "execute_result"
    }
   ],
   "source": [
    "orders['transactionId'].duplicated().sum()"
   ]
  },
  {
   "cell_type": "markdown",
   "metadata": {},
   "source": [
    "Дубликатов нет. Теперь построим график кумулятивной выручки по группам."
   ]
  },
  {
   "cell_type": "markdown",
   "metadata": {},
   "source": [
    "Создадим датафрейм с кумулятивным числом заказов, покупателей и выручки."
   ]
  },
  {
   "cell_type": "code",
   "execution_count": 16,
   "metadata": {},
   "outputs": [
    {
     "data": {
      "text/html": [
       "<div>\n",
       "<style scoped>\n",
       "    .dataframe tbody tr th:only-of-type {\n",
       "        vertical-align: middle;\n",
       "    }\n",
       "\n",
       "    .dataframe tbody tr th {\n",
       "        vertical-align: top;\n",
       "    }\n",
       "\n",
       "    .dataframe thead th {\n",
       "        text-align: right;\n",
       "    }\n",
       "</style>\n",
       "<table border=\"1\" class=\"dataframe\">\n",
       "  <thead>\n",
       "    <tr style=\"text-align: right;\">\n",
       "      <th></th>\n",
       "      <th>date</th>\n",
       "      <th>group</th>\n",
       "      <th>orders</th>\n",
       "      <th>buyers</th>\n",
       "      <th>revenue</th>\n",
       "    </tr>\n",
       "  </thead>\n",
       "  <tbody>\n",
       "    <tr>\n",
       "      <th>55</th>\n",
       "      <td>2019-08-01</td>\n",
       "      <td>A</td>\n",
       "      <td>24</td>\n",
       "      <td>20</td>\n",
       "      <td>148579</td>\n",
       "    </tr>\n",
       "    <tr>\n",
       "      <th>66</th>\n",
       "      <td>2019-08-01</td>\n",
       "      <td>B</td>\n",
       "      <td>21</td>\n",
       "      <td>20</td>\n",
       "      <td>101217</td>\n",
       "    </tr>\n",
       "    <tr>\n",
       "      <th>175</th>\n",
       "      <td>2019-08-02</td>\n",
       "      <td>A</td>\n",
       "      <td>44</td>\n",
       "      <td>38</td>\n",
       "      <td>242401</td>\n",
       "    </tr>\n",
       "    <tr>\n",
       "      <th>173</th>\n",
       "      <td>2019-08-02</td>\n",
       "      <td>B</td>\n",
       "      <td>45</td>\n",
       "      <td>43</td>\n",
       "      <td>266748</td>\n",
       "    </tr>\n",
       "    <tr>\n",
       "      <th>291</th>\n",
       "      <td>2019-08-03</td>\n",
       "      <td>A</td>\n",
       "      <td>68</td>\n",
       "      <td>62</td>\n",
       "      <td>354874</td>\n",
       "    </tr>\n",
       "  </tbody>\n",
       "</table>\n",
       "</div>"
      ],
      "text/plain": [
       "          date group  orders  buyers  revenue\n",
       "55  2019-08-01     A      24      20   148579\n",
       "66  2019-08-01     B      21      20   101217\n",
       "175 2019-08-02     A      44      38   242401\n",
       "173 2019-08-02     B      45      43   266748\n",
       "291 2019-08-03     A      68      62   354874"
      ]
     },
     "execution_count": 16,
     "metadata": {},
     "output_type": "execute_result"
    }
   ],
   "source": [
    "datesGroups = orders[['date', 'group']].drop_duplicates()\n",
    "\n",
    "ordersAggregated = datesGroups.apply(\n",
    "    lambda x: orders[np.logical_and(orders['date'] <= x['date'], orders['group'] == x['group'])]\n",
    "    .agg({'date': 'max', 'group': 'max', 'transactionId': 'nunique', 'visitorId': 'nunique', 'revenue': 'sum'}),\n",
    "    axis=1).sort_values(by=['date', 'group'])\n",
    "\n",
    "ordersAggregated.columns = ['date', 'group', 'orders', 'buyers', 'revenue']\n",
    "ordersAggregated.head()"
   ]
  },
  {
   "cell_type": "markdown",
   "metadata": {},
   "source": [
    "Датафрейм с кумулятивным числом заказов, покупателей и выручки разделим по группам и построим график"
   ]
  },
  {
   "cell_type": "code",
   "execution_count": 17,
   "metadata": {},
   "outputs": [],
   "source": [
    "cumulativeRevenueA = ordersAggregated[ordersAggregated['group'] == 'A'][['date', 'revenue', 'orders']]\n",
    "cumulativeRevenueB = ordersAggregated[ordersAggregated['group'] == 'B'][['date', 'revenue', 'orders']]"
   ]
  },
  {
   "cell_type": "code",
   "execution_count": 18,
   "metadata": {},
   "outputs": [
    {
     "data": {
      "image/png": "[encoded data removed]",
      "text/plain": [
       "<Figure size 864x432 with 1 Axes>"
      ]
     },
     "metadata": {
      "needs_background": "light"
     },
     "output_type": "display_data"
    }
   ],
   "source": [
    "plt.figure(figsize=(12, 6))\n",
    "plt.plot(cumulativeRevenueA['date'], cumulativeRevenueA['revenue'], label='A')\n",
    "plt.plot(cumulativeRevenueB['date'], cumulativeRevenueB['revenue'], label='B')\n",
    "plt.title('Кумулятивная выручка по группам')\n",
    "plt.xlabel('Дата')\n",
    "plt.ylabel('Кумулятивная выручка, млн. руб.')\n",
    "plt.legend()\n",
    "plt.grid()\n",
    "plt.show()"
   ]
  },
  {
   "cell_type": "markdown",
   "metadata": {},
   "source": [
    "У группы B на протяжении практически всего теста выручка была больше. 18-19 августа выручка группы B выросла сразу в 1.5 раза. Скорей всего в данных есть аномалии.\n",
    "\n",
    "Построим график кумулятивного среднего чека по группам."
   ]
  },
  {
   "cell_type": "code",
   "execution_count": 19,
   "metadata": {},
   "outputs": [
    {
     "data": {
      "image/png": "[encoded data removed]",
      "text/plain": [
       "<Figure size 864x432 with 1 Axes>"
      ]
     },
     "metadata": {
      "needs_background": "light"
     },
     "output_type": "display_data"
    }
   ],
   "source": [
    "plt.figure(figsize=(12, 6))\n",
    "plt.plot(cumulativeRevenueA['date'], cumulativeRevenueA['revenue'] / cumulativeRevenueA['orders'], label='A')\n",
    "plt.plot(cumulativeRevenueB['date'], cumulativeRevenueB['revenue'] / cumulativeRevenueB['orders'], label='B')\n",
    "plt.title('Кумулятивный средний чек по группам')\n",
    "plt.xlabel('Дата')\n",
    "plt.ylabel('Средний чек')\n",
    "plt.legend()\n",
    "plt.grid()\n",
    "plt.show()"
   ]
  },
  {
   "cell_type": "markdown",
   "metadata": {},
   "source": [
    "У группы B средний чек практически всё время был выше. 18-19 августа средний чек группы B вырос сразу в 1.5 раза, а после этого снижался. \n",
    "\n",
    "Построим график относительного изменения кумулятивного среднего чека группы B к группе A"
   ]
  },
  {
   "cell_type": "code",
   "execution_count": 20,
   "metadata": {},
   "outputs": [
    {
     "data": {
      "image/png": "[encoded data removed]",
      "text/plain": [
       "<Figure size 864x432 with 1 Axes>"
      ]
     },
     "metadata": {
      "needs_background": "light"
     },
     "output_type": "display_data"
    }
   ],
   "source": [
    "plt.figure(figsize=(12, 6))\n",
    "mergedCumulativeRevenue = cumulativeRevenueA.merge(cumulativeRevenueB, on='date', suffixes=['A', 'B'])\n",
    "plt.plot(mergedCumulativeRevenue['date'], (mergedCumulativeRevenue['revenueB'] / mergedCumulativeRevenue['ordersB'])\n",
    "         / (mergedCumulativeRevenue['revenueA'] / mergedCumulativeRevenue['ordersA']) - 1)\n",
    "plt.axhline(y=0, color='black', linestyle='--')\n",
    "plt.title('Относительное изменение кумулятивного среднего чека группы B к группе A')\n",
    "plt.xlabel('Дата')\n",
    "plt.ylabel('Относительное изменение')\n",
    "plt.show()"
   ]
  },
  {
   "cell_type": "markdown",
   "metadata": {},
   "source": [
    "Результаты теста значительно и резко менялись 9-13 августа и 18-19 августа. Видимо, именно тогда были совершены аномальные заказы.\n",
    "\n",
    "Построим график кумулятивного среднего количества заказов на посетителя по группам."
   ]
  },
  {
   "cell_type": "markdown",
   "metadata": {},
   "source": [
    "Добавим в датафрейм с кумулятивными данными новый столбец с кумулятивным количеством посетителей и сохраним в новый датафрейм."
   ]
  },
  {
   "cell_type": "code",
   "execution_count": 21,
   "metadata": {},
   "outputs": [
    {
     "data": {
      "text/html": [
       "<div>\n",
       "<style scoped>\n",
       "    .dataframe tbody tr th:only-of-type {\n",
       "        vertical-align: middle;\n",
       "    }\n",
       "\n",
       "    .dataframe tbody tr th {\n",
       "        vertical-align: top;\n",
       "    }\n",
       "\n",
       "    .dataframe thead th {\n",
       "        text-align: right;\n",
       "    }\n",
       "</style>\n",
       "<table border=\"1\" class=\"dataframe\">\n",
       "  <thead>\n",
       "    <tr style=\"text-align: right;\">\n",
       "      <th></th>\n",
       "      <th>date</th>\n",
       "      <th>group</th>\n",
       "      <th>orders</th>\n",
       "      <th>buyers</th>\n",
       "      <th>revenue</th>\n",
       "      <th>visitors</th>\n",
       "    </tr>\n",
       "  </thead>\n",
       "  <tbody>\n",
       "    <tr>\n",
       "      <th>0</th>\n",
       "      <td>2019-08-01</td>\n",
       "      <td>A</td>\n",
       "      <td>24</td>\n",
       "      <td>20</td>\n",
       "      <td>148579</td>\n",
       "      <td>719</td>\n",
       "    </tr>\n",
       "    <tr>\n",
       "      <th>1</th>\n",
       "      <td>2019-08-01</td>\n",
       "      <td>B</td>\n",
       "      <td>21</td>\n",
       "      <td>20</td>\n",
       "      <td>101217</td>\n",
       "      <td>713</td>\n",
       "    </tr>\n",
       "    <tr>\n",
       "      <th>2</th>\n",
       "      <td>2019-08-02</td>\n",
       "      <td>A</td>\n",
       "      <td>44</td>\n",
       "      <td>38</td>\n",
       "      <td>242401</td>\n",
       "      <td>1338</td>\n",
       "    </tr>\n",
       "    <tr>\n",
       "      <th>3</th>\n",
       "      <td>2019-08-02</td>\n",
       "      <td>B</td>\n",
       "      <td>45</td>\n",
       "      <td>43</td>\n",
       "      <td>266748</td>\n",
       "      <td>1294</td>\n",
       "    </tr>\n",
       "    <tr>\n",
       "      <th>4</th>\n",
       "      <td>2019-08-03</td>\n",
       "      <td>A</td>\n",
       "      <td>68</td>\n",
       "      <td>62</td>\n",
       "      <td>354874</td>\n",
       "      <td>1845</td>\n",
       "    </tr>\n",
       "  </tbody>\n",
       "</table>\n",
       "</div>"
      ],
      "text/plain": [
       "        date group  orders  buyers  revenue  visitors\n",
       "0 2019-08-01     A      24      20   148579       719\n",
       "1 2019-08-01     B      21      20   101217       713\n",
       "2 2019-08-02     A      44      38   242401      1338\n",
       "3 2019-08-02     B      45      43   266748      1294\n",
       "4 2019-08-03     A      68      62   354874      1845"
      ]
     },
     "execution_count": 21,
     "metadata": {},
     "output_type": "execute_result"
    }
   ],
   "source": [
    "visitorsAggregated = datesGroups.apply(\n",
    "    lambda x: visitors[np.logical_and(visitors['date'] <= x['date'], visitors['group'] == x['group'])]\n",
    "    .agg({'date': 'max', 'group': 'max', 'visitors': 'sum'}), axis=1)\n",
    "\n",
    "cumulativeData = ordersAggregated.merge(visitorsAggregated, on=['date', 'group'])\n",
    "cumulativeData.head()"
   ]
  },
  {
   "cell_type": "markdown",
   "metadata": {},
   "source": [
    "Посчитаем конверсию посетителей в заказы и построим график."
   ]
  },
  {
   "cell_type": "code",
   "execution_count": 22,
   "metadata": {},
   "outputs": [
    {
     "data": {
      "text/html": [
       "<div>\n",
       "<style scoped>\n",
       "    .dataframe tbody tr th:only-of-type {\n",
       "        vertical-align: middle;\n",
       "    }\n",
       "\n",
       "    .dataframe tbody tr th {\n",
       "        vertical-align: top;\n",
       "    }\n",
       "\n",
       "    .dataframe thead th {\n",
       "        text-align: right;\n",
       "    }\n",
       "</style>\n",
       "<table border=\"1\" class=\"dataframe\">\n",
       "  <thead>\n",
       "    <tr style=\"text-align: right;\">\n",
       "      <th></th>\n",
       "      <th>date</th>\n",
       "      <th>group</th>\n",
       "      <th>orders</th>\n",
       "      <th>buyers</th>\n",
       "      <th>revenue</th>\n",
       "      <th>visitors</th>\n",
       "      <th>conversion</th>\n",
       "    </tr>\n",
       "  </thead>\n",
       "  <tbody>\n",
       "    <tr>\n",
       "      <th>0</th>\n",
       "      <td>2019-08-01</td>\n",
       "      <td>A</td>\n",
       "      <td>24</td>\n",
       "      <td>20</td>\n",
       "      <td>148579</td>\n",
       "      <td>719</td>\n",
       "      <td>0.033380</td>\n",
       "    </tr>\n",
       "    <tr>\n",
       "      <th>1</th>\n",
       "      <td>2019-08-01</td>\n",
       "      <td>B</td>\n",
       "      <td>21</td>\n",
       "      <td>20</td>\n",
       "      <td>101217</td>\n",
       "      <td>713</td>\n",
       "      <td>0.029453</td>\n",
       "    </tr>\n",
       "    <tr>\n",
       "      <th>2</th>\n",
       "      <td>2019-08-02</td>\n",
       "      <td>A</td>\n",
       "      <td>44</td>\n",
       "      <td>38</td>\n",
       "      <td>242401</td>\n",
       "      <td>1338</td>\n",
       "      <td>0.032885</td>\n",
       "    </tr>\n",
       "    <tr>\n",
       "      <th>3</th>\n",
       "      <td>2019-08-02</td>\n",
       "      <td>B</td>\n",
       "      <td>45</td>\n",
       "      <td>43</td>\n",
       "      <td>266748</td>\n",
       "      <td>1294</td>\n",
       "      <td>0.034776</td>\n",
       "    </tr>\n",
       "    <tr>\n",
       "      <th>4</th>\n",
       "      <td>2019-08-03</td>\n",
       "      <td>A</td>\n",
       "      <td>68</td>\n",
       "      <td>62</td>\n",
       "      <td>354874</td>\n",
       "      <td>1845</td>\n",
       "      <td>0.036856</td>\n",
       "    </tr>\n",
       "  </tbody>\n",
       "</table>\n",
       "</div>"
      ],
      "text/plain": [
       "        date group  orders  buyers  revenue  visitors  conversion\n",
       "0 2019-08-01     A      24      20   148579       719    0.033380\n",
       "1 2019-08-01     B      21      20   101217       713    0.029453\n",
       "2 2019-08-02     A      44      38   242401      1338    0.032885\n",
       "3 2019-08-02     B      45      43   266748      1294    0.034776\n",
       "4 2019-08-03     A      68      62   354874      1845    0.036856"
      ]
     },
     "execution_count": 22,
     "metadata": {},
     "output_type": "execute_result"
    }
   ],
   "source": [
    "cumulativeData['conversion'] = cumulativeData['orders'] / cumulativeData['visitors']\n",
    "cumulativeData.head()"
   ]
  },
  {
   "cell_type": "code",
   "execution_count": 23,
   "metadata": {},
   "outputs": [],
   "source": [
    "cumulativeDataA = cumulativeData[cumulativeData['group'] == 'A']\n",
    "cumulativeDataB = cumulativeData[cumulativeData['group'] == 'B']"
   ]
  },
  {
   "cell_type": "code",
   "execution_count": 24,
   "metadata": {},
   "outputs": [
    {
     "data": {
      "image/png": "[encoded data removed]",
      "text/plain": [
       "<Figure size 864x432 with 1 Axes>"
      ]
     },
     "metadata": {
      "needs_background": "light"
     },
     "output_type": "display_data"
    }
   ],
   "source": [
    "plt.figure(figsize=(12, 6))\n",
    "plt.plot(cumulativeDataA['date'], cumulativeDataA['conversion'], label='A')\n",
    "plt.plot(cumulativeDataB['date'], cumulativeDataB['conversion'], label='B')\n",
    "plt.title('Среднее количество заказов на посетителя по группам')\n",
    "plt.xlabel('Дата')\n",
    "plt.ylabel('Среднее количество заказов на посетителя')\n",
    "plt.axis([dt.datetime(2019, 7, 31), dt.datetime(2019, 9, 1), 0, 0.05])\n",
    "plt.legend()\n",
    "plt.show()"
   ]
  },
  {
   "cell_type": "markdown",
   "metadata": {},
   "source": [
    "В начале теста среднее количество заказов на посетителя группы A было немного выше, чем у группы B, но группа B выровнялась и зафиксировалась примерно около одного значения, большего группы A, а среднее количество заказов на посетителя группы A немного упало с начала теста.\n",
    "\n",
    "Построим график относительного изменения кумулятивного среднего количества заказов на посетителя группы B к группе A."
   ]
  },
  {
   "cell_type": "markdown",
   "metadata": {},
   "source": [
    "Объединим датафреймы с конверсиями по датам и построим график."
   ]
  },
  {
   "cell_type": "code",
   "execution_count": 25,
   "metadata": {},
   "outputs": [
    {
     "data": {
      "text/html": [
       "<div>\n",
       "<style scoped>\n",
       "    .dataframe tbody tr th:only-of-type {\n",
       "        vertical-align: middle;\n",
       "    }\n",
       "\n",
       "    .dataframe tbody tr th {\n",
       "        vertical-align: top;\n",
       "    }\n",
       "\n",
       "    .dataframe thead th {\n",
       "        text-align: right;\n",
       "    }\n",
       "</style>\n",
       "<table border=\"1\" class=\"dataframe\">\n",
       "  <thead>\n",
       "    <tr style=\"text-align: right;\">\n",
       "      <th></th>\n",
       "      <th>date</th>\n",
       "      <th>conversionA</th>\n",
       "      <th>conversionB</th>\n",
       "    </tr>\n",
       "  </thead>\n",
       "  <tbody>\n",
       "    <tr>\n",
       "      <th>0</th>\n",
       "      <td>2019-08-01</td>\n",
       "      <td>0.033380</td>\n",
       "      <td>0.029453</td>\n",
       "    </tr>\n",
       "    <tr>\n",
       "      <th>1</th>\n",
       "      <td>2019-08-02</td>\n",
       "      <td>0.032885</td>\n",
       "      <td>0.034776</td>\n",
       "    </tr>\n",
       "    <tr>\n",
       "      <th>2</th>\n",
       "      <td>2019-08-03</td>\n",
       "      <td>0.036856</td>\n",
       "      <td>0.033833</td>\n",
       "    </tr>\n",
       "    <tr>\n",
       "      <th>3</th>\n",
       "      <td>2019-08-04</td>\n",
       "      <td>0.032787</td>\n",
       "      <td>0.030315</td>\n",
       "    </tr>\n",
       "    <tr>\n",
       "      <th>4</th>\n",
       "      <td>2019-08-05</td>\n",
       "      <td>0.032851</td>\n",
       "      <td>0.030793</td>\n",
       "    </tr>\n",
       "  </tbody>\n",
       "</table>\n",
       "</div>"
      ],
      "text/plain": [
       "        date  conversionA  conversionB\n",
       "0 2019-08-01     0.033380     0.029453\n",
       "1 2019-08-02     0.032885     0.034776\n",
       "2 2019-08-03     0.036856     0.033833\n",
       "3 2019-08-04     0.032787     0.030315\n",
       "4 2019-08-05     0.032851     0.030793"
      ]
     },
     "execution_count": 25,
     "metadata": {},
     "output_type": "execute_result"
    }
   ],
   "source": [
    "mergedCumulativeConversions = (cumulativeDataA.merge(cumulativeDataB, on='date', suffixes=['A', 'B'])\n",
    "    [['date', 'conversionA', 'conversionB']])\n",
    "mergedCumulativeConversions.head()"
   ]
  },
  {
   "cell_type": "code",
   "execution_count": 26,
   "metadata": {},
   "outputs": [
    {
     "data": {
      "image/png": "[encoded data removed]",
      "text/plain": [
       "<Figure size 864x432 with 1 Axes>"
      ]
     },
     "metadata": {
      "needs_background": "light"
     },
     "output_type": "display_data"
    }
   ],
   "source": [
    "plt.figure(figsize=(12, 6))\n",
    "plt.plot(mergedCumulativeConversions['date'], mergedCumulativeConversions['conversionB'] \n",
    "         / mergedCumulativeConversions['conversionA'] - 1)\n",
    "plt.title('Относительное изменения кумулятивного среднего количества заказов на посетителя группы B к группе A')\n",
    "plt.xlabel('Дата')\n",
    "plt.ylabel('Относительное изменения')\n",
    "plt.axhline(y=0, color='black', linestyle='--')\n",
    "plt.axhline(y=0.15, color='grey', linestyle='--')\n",
    "plt.show()"
   ]
  },
  {
   "cell_type": "markdown",
   "metadata": {},
   "source": [
    "Почти с самого начала теста группа B лидирует по метрике. Относительное изменение стабильно держится на уровне 10-20% прироста относительно группы A.\n",
    "\n",
    "Построим точечный график количества заказов по пользователям."
   ]
  },
  {
   "cell_type": "markdown",
   "metadata": {},
   "source": [
    "Посчитаем количество заказов каждого покупателя и построим график."
   ]
  },
  {
   "cell_type": "code",
   "execution_count": 27,
   "metadata": {},
   "outputs": [
    {
     "data": {
      "text/html": [
       "<div>\n",
       "<style scoped>\n",
       "    .dataframe tbody tr th:only-of-type {\n",
       "        vertical-align: middle;\n",
       "    }\n",
       "\n",
       "    .dataframe tbody tr th {\n",
       "        vertical-align: top;\n",
       "    }\n",
       "\n",
       "    .dataframe thead th {\n",
       "        text-align: right;\n",
       "    }\n",
       "</style>\n",
       "<table border=\"1\" class=\"dataframe\">\n",
       "  <thead>\n",
       "    <tr style=\"text-align: right;\">\n",
       "      <th></th>\n",
       "      <th>visitorId</th>\n",
       "      <th>orders</th>\n",
       "    </tr>\n",
       "  </thead>\n",
       "  <tbody>\n",
       "    <tr>\n",
       "      <th>1023</th>\n",
       "      <td>4256040402</td>\n",
       "      <td>11</td>\n",
       "    </tr>\n",
       "    <tr>\n",
       "      <th>591</th>\n",
       "      <td>2458001652</td>\n",
       "      <td>11</td>\n",
       "    </tr>\n",
       "    <tr>\n",
       "      <th>569</th>\n",
       "      <td>2378935119</td>\n",
       "      <td>9</td>\n",
       "    </tr>\n",
       "    <tr>\n",
       "      <th>487</th>\n",
       "      <td>2038680547</td>\n",
       "      <td>8</td>\n",
       "    </tr>\n",
       "    <tr>\n",
       "      <th>44</th>\n",
       "      <td>199603092</td>\n",
       "      <td>5</td>\n",
       "    </tr>\n",
       "  </tbody>\n",
       "</table>\n",
       "</div>"
      ],
      "text/plain": [
       "       visitorId  orders\n",
       "1023  4256040402      11\n",
       "591   2458001652      11\n",
       "569   2378935119       9\n",
       "487   2038680547       8\n",
       "44     199603092       5"
      ]
     },
     "execution_count": 27,
     "metadata": {},
     "output_type": "execute_result"
    }
   ],
   "source": [
    "ordersByUsers = (orders.groupby('visitorId', as_index=False)\n",
    "                 .agg({'transactionId': 'nunique'}))\n",
    "ordersByUsers.columns = ['visitorId', 'orders']\n",
    "ordersByUsers.sort_values('orders', ascending=False).head()"
   ]
  },
  {
   "cell_type": "code",
   "execution_count": 28,
   "metadata": {},
   "outputs": [
    {
     "data": {
      "image/png": "[encoded data removed]",
      "text/plain": [
       "<Figure size 432x288 with 1 Axes>"
      ]
     },
     "metadata": {
      "needs_background": "light"
     },
     "output_type": "display_data"
    }
   ],
   "source": [
    "x_values = pd.Series(range(0, len(ordersByUsers)))\n",
    "\n",
    "plt.scatter(x_values, ordersByUsers['orders'])\n",
    "plt.title('Количество заказов по покупателям')\n",
    "plt.xlabel('Покупатели')\n",
    "plt.ylabel('Количество заказов')\n",
    "plt.show()"
   ]
  },
  {
   "cell_type": "markdown",
   "metadata": {},
   "source": [
    "Очень много пользователей, заказавших 1 раз. Пользователей, заказавших больше 2 раз совсем мало.\n",
    "\n",
    "Посчитаем 95-й и 99-й перцентили количества заказов на пользователя и выберем границу для определения аномальных пользователей."
   ]
  },
  {
   "cell_type": "code",
   "execution_count": 29,
   "metadata": {},
   "outputs": [
    {
     "name": "stdout",
     "output_type": "stream",
     "text": [
      "[2. 4.]\n"
     ]
    }
   ],
   "source": [
    "print(np.percentile(ordersByUsers['orders'], [95, 99]))"
   ]
  },
  {
   "cell_type": "markdown",
   "metadata": {},
   "source": [
    "Не более 5% пользователей совершали больше двух заказов и не более 1% - больше четырех заказов. Будем считать пользователей совершивших 3 и более заказов аномальными.\n",
    "\n",
    "Построим точечный график стоимостей заказов."
   ]
  },
  {
   "cell_type": "code",
   "execution_count": 30,
   "metadata": {},
   "outputs": [
    {
     "data": {
      "image/png": "[encoded data removed]",
      "text/plain": [
       "<Figure size 432x288 with 1 Axes>"
      ]
     },
     "metadata": {
      "needs_background": "light"
     },
     "output_type": "display_data"
    }
   ],
   "source": [
    "x_values = pd.Series(range(0, len(orders['revenue'])))\n",
    "plt.scatter(x_values, orders['revenue'])\n",
    "plt.title('Стоимость заказов')\n",
    "plt.xlabel('Заказы')\n",
    "plt.ylabel('Стоимость заказов')\n",
    "plt.show()"
   ]
  },
  {
   "cell_type": "markdown",
   "metadata": {},
   "source": [
    "Большинство заказов стоят дешевле 100 000 рублей. Есть выбросы в районе 1 300 000 рублей и 200 000 рублей.\n",
    "\n",
    "Найдем 95-й и 99-й перцентили стоимости заказов."
   ]
  },
  {
   "cell_type": "code",
   "execution_count": 31,
   "metadata": {},
   "outputs": [
    {
     "name": "stdout",
     "output_type": "stream",
     "text": [
      "[28000.  58233.2]\n"
     ]
    }
   ],
   "source": [
    "print(np.percentile(orders['revenue'], [95, 99]))"
   ]
  },
  {
   "cell_type": "markdown",
   "metadata": {},
   "source": [
    "Заказов дороже 28 000 рублей не более 5%, заказов дороже 58 233.2 не более 1%. Будем считать за аномальную стоимость заказа 50 000 рублей и более.\n",
    "\n",
    "Посчитаем статистическую значимость различий в среднем количестве заказов на посетителя между группами по «сырым» данным."
   ]
  },
  {
   "cell_type": "markdown",
   "metadata": {},
   "source": [
    "Создадим датафреймы с количеством уникальных заказов всех посетителей."
   ]
  },
  {
   "cell_type": "markdown",
   "metadata": {},
   "source": [
    "Нулевая гипотеза - равенство среднего количества заказов в обеих группах по сырым данным, альтернативная - неравенство."
   ]
  },
  {
   "cell_type": "code",
   "execution_count": 32,
   "metadata": {},
   "outputs": [],
   "source": [
    "ordersByUsersA = orders[orders['group'] == 'A'].groupby('visitorId', as_index=False).agg({'transactionId': pd.Series.nunique})\n",
    "ordersByUsersB = orders[orders['group'] == 'B'].groupby('visitorId', as_index=False).agg({'transactionId': pd.Series.nunique})\n",
    "ordersByUsersA.columns = ['visitorId', 'orders']\n",
    "ordersByUsersB.columns = ['visitorId', 'orders'] \n",
    "sampleA = pd.concat([ordersByUsersA['orders'],pd.Series(0, index=np.arange(visitors[visitors['group'] == 'A']['visitors'].sum()\n",
    "                                                        - len(ordersByUsersA['orders'])), name='orders')],axis=0)\n",
    "sampleB = pd.concat([ordersByUsersB['orders'],pd.Series(0, index=np.arange(visitors[visitors['group'] == 'B']['visitors'].sum()\n",
    "                                                        - len(ordersByUsersB['orders'])), name='orders')],axis=0)"
   ]
  },
  {
   "cell_type": "code",
   "execution_count": 33,
   "metadata": {},
   "outputs": [
    {
     "name": "stdout",
     "output_type": "stream",
     "text": [
      "0.01679\n"
     ]
    }
   ],
   "source": [
    "print(\"{0:.5f}\".format(st.mannwhitneyu(sampleA, sampleB)[1]))"
   ]
  },
  {
   "cell_type": "code",
   "execution_count": 34,
   "metadata": {},
   "outputs": [
    {
     "name": "stdout",
     "output_type": "stream",
     "text": [
      "Относительный прирост количества заказов - 0.138\n"
     ]
    }
   ],
   "source": [
    "print('Относительный прирост количества заказов -', round(sampleB.mean()/sampleA.mean()-1, 3)) "
   ]
  },
  {
   "cell_type": "markdown",
   "metadata": {},
   "source": [
    "P-value меньше 0.05. Отвергаем нулевую гипотезу о равенсте среднего количества заказов на посетителя между группами.\n",
    "\n",
    "Посчитаем статистическую значимость различий в среднем чеке заказа между группами по «сырым» данным."
   ]
  },
  {
   "cell_type": "markdown",
   "metadata": {},
   "source": [
    "Нулевая гипотеза - равенство среднего чека в обеих группах по сырым данным, альтернативная - неравенство."
   ]
  },
  {
   "cell_type": "code",
   "execution_count": 35,
   "metadata": {},
   "outputs": [
    {
     "name": "stdout",
     "output_type": "stream",
     "text": [
      "0.72929\n"
     ]
    }
   ],
   "source": [
    "print('{0:.5f}'.format(st.mannwhitneyu(orders[orders['group']=='A']['revenue'], orders[orders['group']=='B']['revenue'])[1]))"
   ]
  },
  {
   "cell_type": "markdown",
   "metadata": {},
   "source": [
    "P-value больше 0.05. Статистически значимых отличий в среднем чеке между группами нет, нулевую гипотезу не отвергаем.\n",
    "\n",
    "Посчитаем статистическую значимость различий в среднем количестве заказов на посетителя между группами по «очищенным» данным."
   ]
  },
  {
   "cell_type": "markdown",
   "metadata": {},
   "source": [
    "Найдем пользователей с аномальным количеством заказов и аномальной стоимостью заказа."
   ]
  },
  {
   "cell_type": "code",
   "execution_count": 36,
   "metadata": {},
   "outputs": [
    {
     "data": {
      "text/plain": [
       "18      199603092\n",
       "23      237748145\n",
       "68      611059232\n",
       "146    1230306981\n",
       "189    1614305549\n",
       "Name: visitorId, dtype: int64"
      ]
     },
     "execution_count": 36,
     "metadata": {},
     "output_type": "execute_result"
    }
   ],
   "source": [
    "visitorsWithManyOrders = pd.concat([ordersByUsersA[ordersByUsersA['orders'] > 2]['visitorId'],\n",
    "                                    ordersByUsersB[ordersByUsersB['orders'] > 2]['visitorId']])\n",
    "visitorsWithExpensiveOrders = orders[orders['revenue'] >= 50000]['visitorId']\n",
    "abnormalUsers = (pd.concat([visitorsWithManyOrders, visitorsWithExpensiveOrders]).drop_duplicates())\n",
    "abnormalUsers.head()"
   ]
  },
  {
   "cell_type": "markdown",
   "metadata": {},
   "source": [
    "Создадим отфильтрованные датафреймы."
   ]
  },
  {
   "cell_type": "code",
   "execution_count": 37,
   "metadata": {},
   "outputs": [
    {
     "data": {
      "text/plain": [
       "0    1\n",
       "1    1\n",
       "2    1\n",
       "3    1\n",
       "4    1\n",
       "Name: orders, dtype: int64"
      ]
     },
     "metadata": {},
     "output_type": "display_data"
    },
    {
     "data": {
      "text/plain": [
       "0    1\n",
       "1    1\n",
       "2    1\n",
       "3    1\n",
       "4    1\n",
       "Name: orders, dtype: int64"
      ]
     },
     "execution_count": 37,
     "metadata": {},
     "output_type": "execute_result"
    }
   ],
   "source": [
    "sampleAFiltered = pd.concat([ordersByUsersA[np.logical_not(ordersByUsersA['visitorId'].isin(abnormalUsers))]['orders'],\n",
    "                             pd.Series(0, index=np.arange(visitors[visitors['group'] == 'A']['visitors'].sum()\n",
    "                                     - len(ordersByUsersA['orders'])), name='orders')])\n",
    "\n",
    "sampleBFiltered = pd.concat([ordersByUsersB[np.logical_not(ordersByUsersB['visitorId'].isin(abnormalUsers))]['orders'],\n",
    "                             pd.Series(0, index=np.arange(visitors[visitors['group'] == 'B']['visitors'].sum()\n",
    "                                     - len(ordersByUsersB['orders'])), name='orders')])\n",
    "display(sampleAFiltered.head())\n",
    "sampleBFiltered.head()"
   ]
  },
  {
   "cell_type": "markdown",
   "metadata": {},
   "source": [
    "Нулевая гипотеза - равенство среднего количества заказов в обеих группах по очищенным данным, альтернативная - неравенство."
   ]
  },
  {
   "cell_type": "code",
   "execution_count": 38,
   "metadata": {},
   "outputs": [
    {
     "name": "stdout",
     "output_type": "stream",
     "text": [
      "0.00821\n"
     ]
    }
   ],
   "source": [
    "print(round(st.mannwhitneyu(sampleAFiltered, sampleBFiltered)[1], 5))"
   ]
  },
  {
   "cell_type": "code",
   "execution_count": 39,
   "metadata": {},
   "outputs": [
    {
     "name": "stdout",
     "output_type": "stream",
     "text": [
      "Относительный прирост количества заказов - 0.182\n"
     ]
    }
   ],
   "source": [
    "print('Относительный прирост количества заказов -', round(sampleBFiltered.mean()/sampleAFiltered.mean()-1, 3)) "
   ]
  },
  {
   "cell_type": "markdown",
   "metadata": {},
   "source": [
    "По очищенным данным P-value стал еще меньше. Отвергаем нулевую гипотезу о равенсте среднего количества заказов на посетителя между группами.\n",
    "\n",
    "Посчитаем статистическую значимость различий в среднем чеке заказа между группами по «очищенным» данным."
   ]
  },
  {
   "cell_type": "markdown",
   "metadata": {},
   "source": [
    "Нулевая гипотеза - равенство среднего чека в обеих группах по очищенным данным, альтернативная - неравенство."
   ]
  },
  {
   "cell_type": "code",
   "execution_count": 40,
   "metadata": {},
   "outputs": [
    {
     "name": "stdout",
     "output_type": "stream",
     "text": [
      "0.94002\n"
     ]
    }
   ],
   "source": [
    "print('{0:.5f}'.format(st.mannwhitneyu(orders[np.logical_and(orders['group'] == 'A', \n",
    "        np.logical_not(orders['visitorId'].isin(abnormalUsers)))]['revenue'], orders[np.logical_and(orders['group'] == 'B',\n",
    "        np.logical_not(orders['visitorId'].isin(abnormalUsers)))]['revenue'])[1]))"
   ]
  },
  {
   "cell_type": "markdown",
   "metadata": {},
   "source": [
    "P-value по очищенные данным стал еще больше. Статистически значимых отличий в среднем чеке между группами нет, нулевую гипотезу не отвергаем."
   ]
  },
  {
   "cell_type": "markdown",
   "metadata": {},
   "source": [
    "## Выводы"
   ]
  },
  {
   "cell_type": "markdown",
   "metadata": {},
   "source": [
    "Среднее количество заказов на посетителя в группе B *больше* чем в группе A как по очищенным, так и по сырым данным на 13.8-18.2%.\n",
    "\n",
    "Средний чек заказа между группами как по сырым данным, так и по очищенным *не отличается*."
   ]
  },
  {
   "cell_type": "markdown",
   "metadata": {},
   "source": [
    "Решение по результатам теста: остановить тест, зафиксировать победу группы B.\n",
    "\n",
    "Хоть средний чек не отличается, но количество заказов на посетителя в группе B больше чем в группе A на 13.8-18.2%. Соответственно раз средний чек не отличается, а заказов больше, то и выручка больше на 13.8-18.2%, что подтверждает график кумулятивной выручки по группам.\n",
    "\n",
    "Продолжать тест нет смысла так, как данные уже зафиксировались."
   ]
  }
 ],
 "metadata": {
  "ExecuteTimeLog": [
   {
    "duration": 438,
    "start_time": "2025-04-10T14:48:33.640Z"
   },
   {
    "duration": 78,
    "start_time": "2025-04-10T14:50:11.559Z"
   },
   {
    "duration": 11,
    "start_time": "2025-04-10T14:50:32.777Z"
   },
   {
    "duration": 19,
    "start_time": "2025-04-10T14:51:07.111Z"
   },
   {
    "duration": 22,
    "start_time": "2025-04-10T14:51:25.412Z"
   },
   {
    "duration": 71,
    "start_time": "2025-04-10T15:51:33.153Z"
   },
   {
    "duration": 12,
    "start_time": "2025-04-10T15:51:38.607Z"
   },
   {
    "duration": 14,
    "start_time": "2025-04-10T15:52:19.230Z"
   },
   {
    "duration": 12,
    "start_time": "2025-04-10T16:30:48.745Z"
   },
   {
    "duration": 433,
    "start_time": "2025-04-11T12:09:48.765Z"
   },
   {
    "duration": 77,
    "start_time": "2025-04-11T12:09:49.200Z"
   },
   {
    "duration": 14,
    "start_time": "2025-04-11T12:09:49.279Z"
   },
   {
    "duration": 15,
    "start_time": "2025-04-11T12:09:49.295Z"
   },
   {
    "duration": 13,
    "start_time": "2025-04-11T12:09:49.312Z"
   },
   {
    "duration": 179,
    "start_time": "2025-04-11T12:09:49.326Z"
   },
   {
    "duration": 8,
    "start_time": "2025-04-11T12:09:49.507Z"
   },
   {
    "duration": 7,
    "start_time": "2025-04-11T12:09:49.517Z"
   },
   {
    "duration": 11,
    "start_time": "2025-04-11T12:09:49.525Z"
   },
   {
    "duration": 9,
    "start_time": "2025-04-11T12:09:49.539Z"
   },
   {
    "duration": 396,
    "start_time": "2025-04-11T12:11:52.709Z"
   },
   {
    "duration": 84,
    "start_time": "2025-04-11T12:13:17.139Z"
   },
   {
    "duration": 7,
    "start_time": "2025-04-11T12:13:27.298Z"
   },
   {
    "duration": 10,
    "start_time": "2025-04-11T12:13:28.681Z"
   },
   {
    "duration": 7,
    "start_time": "2025-04-11T12:13:48.216Z"
   },
   {
    "duration": 12,
    "start_time": "2025-04-11T12:13:56.152Z"
   },
   {
    "duration": 7,
    "start_time": "2025-04-11T12:14:01.601Z"
   },
   {
    "duration": 11,
    "start_time": "2025-04-11T12:14:06.330Z"
   },
   {
    "duration": 12,
    "start_time": "2025-04-11T12:14:06.752Z"
   },
   {
    "duration": 254,
    "start_time": "2025-04-11T12:19:16.583Z"
   },
   {
    "duration": 144,
    "start_time": "2025-04-11T12:19:27.933Z"
   },
   {
    "duration": 23,
    "start_time": "2025-04-11T12:22:21.719Z"
   },
   {
    "duration": 2,
    "start_time": "2025-04-11T12:22:33.857Z"
   },
   {
    "duration": 23,
    "start_time": "2025-04-11T12:22:37.958Z"
   },
   {
    "duration": 154,
    "start_time": "2025-04-11T12:23:08.982Z"
   },
   {
    "duration": 141,
    "start_time": "2025-04-11T12:24:20.004Z"
   },
   {
    "duration": 143,
    "start_time": "2025-04-11T12:24:29.197Z"
   },
   {
    "duration": 187,
    "start_time": "2025-04-11T12:25:34.353Z"
   },
   {
    "duration": 169,
    "start_time": "2025-04-11T12:27:39.294Z"
   },
   {
    "duration": 11,
    "start_time": "2025-04-11T12:29:48.972Z"
   },
   {
    "duration": 8,
    "start_time": "2025-04-11T12:29:54.284Z"
   },
   {
    "duration": 9,
    "start_time": "2025-04-11T12:29:54.493Z"
   },
   {
    "duration": 6,
    "start_time": "2025-04-11T12:30:23.405Z"
   },
   {
    "duration": 179,
    "start_time": "2025-04-11T12:30:24.279Z"
   },
   {
    "duration": 206,
    "start_time": "2025-04-11T12:31:34.104Z"
   },
   {
    "duration": 192,
    "start_time": "2025-04-11T12:31:39.678Z"
   },
   {
    "duration": 4,
    "start_time": "2025-04-11T12:32:22.694Z"
   },
   {
    "duration": 197,
    "start_time": "2025-04-11T12:32:40.006Z"
   },
   {
    "duration": 237,
    "start_time": "2025-04-11T12:33:01.500Z"
   },
   {
    "duration": 161,
    "start_time": "2025-04-11T12:34:51.906Z"
   },
   {
    "duration": 157,
    "start_time": "2025-04-11T12:34:56.297Z"
   },
   {
    "duration": 575,
    "start_time": "2025-04-11T12:34:58.900Z"
   },
   {
    "duration": 220,
    "start_time": "2025-04-11T12:35:06.857Z"
   },
   {
    "duration": 82,
    "start_time": "2025-04-11T12:36:15.047Z"
   },
   {
    "duration": 10,
    "start_time": "2025-04-11T12:36:18.854Z"
   },
   {
    "duration": 9,
    "start_time": "2025-04-11T12:36:29.254Z"
   },
   {
    "duration": 427,
    "start_time": "2025-04-11T12:37:49.762Z"
   },
   {
    "duration": 40,
    "start_time": "2025-04-11T12:37:50.191Z"
   },
   {
    "duration": 11,
    "start_time": "2025-04-11T12:37:50.233Z"
   },
   {
    "duration": 14,
    "start_time": "2025-04-11T12:37:50.246Z"
   },
   {
    "duration": 12,
    "start_time": "2025-04-11T12:37:50.261Z"
   },
   {
    "duration": 243,
    "start_time": "2025-04-11T12:37:50.275Z"
   },
   {
    "duration": 53,
    "start_time": "2025-04-11T12:37:50.520Z"
   },
   {
    "duration": 8,
    "start_time": "2025-04-11T12:37:50.575Z"
   },
   {
    "duration": 8,
    "start_time": "2025-04-11T12:37:50.584Z"
   },
   {
    "duration": 10,
    "start_time": "2025-04-11T12:37:50.594Z"
   },
   {
    "duration": 14,
    "start_time": "2025-04-11T12:37:50.605Z"
   },
   {
    "duration": 10,
    "start_time": "2025-04-11T12:37:50.620Z"
   },
   {
    "duration": 13,
    "start_time": "2025-04-11T12:37:50.631Z"
   },
   {
    "duration": 23,
    "start_time": "2025-04-11T12:37:50.645Z"
   },
   {
    "duration": 177,
    "start_time": "2025-04-11T12:37:50.670Z"
   },
   {
    "duration": 13,
    "start_time": "2025-04-11T12:37:50.848Z"
   },
   {
    "duration": 6,
    "start_time": "2025-04-11T12:37:50.863Z"
   },
   {
    "duration": 309,
    "start_time": "2025-04-11T12:37:50.870Z"
   },
   {
    "duration": 442,
    "start_time": "2025-04-11T17:51:07.443Z"
   },
   {
    "duration": 40,
    "start_time": "2025-04-11T17:51:07.886Z"
   },
   {
    "duration": 11,
    "start_time": "2025-04-11T17:51:07.928Z"
   },
   {
    "duration": 13,
    "start_time": "2025-04-11T17:51:07.941Z"
   },
   {
    "duration": 12,
    "start_time": "2025-04-11T17:51:07.960Z"
   },
   {
    "duration": 411,
    "start_time": "2025-04-11T17:51:07.974Z"
   },
   {
    "duration": 54,
    "start_time": "2025-04-11T17:51:08.387Z"
   },
   {
    "duration": 10,
    "start_time": "2025-04-11T17:51:08.443Z"
   },
   {
    "duration": 26,
    "start_time": "2025-04-11T17:51:08.454Z"
   },
   {
    "duration": 18,
    "start_time": "2025-04-11T17:51:08.482Z"
   },
   {
    "duration": 11,
    "start_time": "2025-04-11T17:51:08.502Z"
   },
   {
    "duration": 6,
    "start_time": "2025-04-11T17:51:08.514Z"
   },
   {
    "duration": 15,
    "start_time": "2025-04-11T17:51:08.521Z"
   },
   {
    "duration": 29,
    "start_time": "2025-04-11T17:51:08.538Z"
   },
   {
    "duration": 176,
    "start_time": "2025-04-11T17:51:08.568Z"
   },
   {
    "duration": 5,
    "start_time": "2025-04-11T17:51:08.745Z"
   },
   {
    "duration": 12,
    "start_time": "2025-04-11T17:51:08.752Z"
   },
   {
    "duration": 331,
    "start_time": "2025-04-11T17:51:08.766Z"
   },
   {
    "duration": 9,
    "start_time": "2025-04-11T17:54:57.444Z"
   },
   {
    "duration": 229,
    "start_time": "2025-04-11T17:55:38.936Z"
   },
   {
    "duration": 242,
    "start_time": "2025-04-11T18:00:27.450Z"
   },
   {
    "duration": 154,
    "start_time": "2025-04-11T18:01:12.519Z"
   },
   {
    "duration": 142,
    "start_time": "2025-04-11T18:01:18.029Z"
   },
   {
    "duration": 137,
    "start_time": "2025-04-11T18:01:19.718Z"
   },
   {
    "duration": 145,
    "start_time": "2025-04-11T18:01:48.054Z"
   },
   {
    "duration": 158,
    "start_time": "2025-04-11T18:01:58.965Z"
   },
   {
    "duration": 7,
    "start_time": "2025-04-11T18:02:29.668Z"
   },
   {
    "duration": 12,
    "start_time": "2025-04-11T18:02:45.242Z"
   },
   {
    "duration": 11,
    "start_time": "2025-04-11T18:02:54.594Z"
   },
   {
    "duration": 154,
    "start_time": "2025-04-11T18:03:43.953Z"
   },
   {
    "duration": 176,
    "start_time": "2025-04-11T18:03:47.062Z"
   },
   {
    "duration": 452,
    "start_time": "2025-04-11T18:03:51.239Z"
   },
   {
    "duration": 72,
    "start_time": "2025-04-11T18:04:17.535Z"
   },
   {
    "duration": 297,
    "start_time": "2025-04-11T18:04:20.063Z"
   },
   {
    "duration": 283,
    "start_time": "2025-04-11T18:04:23.381Z"
   },
   {
    "duration": 303,
    "start_time": "2025-04-11T18:05:27.874Z"
   },
   {
    "duration": 7,
    "start_time": "2025-04-11T18:09:48.264Z"
   },
   {
    "duration": 67,
    "start_time": "2025-04-11T18:12:28.578Z"
   },
   {
    "duration": 89,
    "start_time": "2025-04-11T18:12:44.385Z"
   },
   {
    "duration": 123,
    "start_time": "2025-04-11T18:12:54.371Z"
   },
   {
    "duration": 151,
    "start_time": "2025-04-11T18:13:01.665Z"
   },
   {
    "duration": 120,
    "start_time": "2025-04-11T18:13:19.569Z"
   },
   {
    "duration": 10,
    "start_time": "2025-04-11T18:13:25.915Z"
   },
   {
    "duration": 5,
    "start_time": "2025-04-11T18:14:15.823Z"
   },
   {
    "duration": 174,
    "start_time": "2025-04-11T18:14:16.461Z"
   },
   {
    "duration": 174,
    "start_time": "2025-04-11T18:14:28.574Z"
   },
   {
    "duration": 204,
    "start_time": "2025-04-11T18:14:37.119Z"
   },
   {
    "duration": 214,
    "start_time": "2025-04-11T18:15:41.628Z"
   },
   {
    "duration": 205,
    "start_time": "2025-04-11T18:17:49.767Z"
   },
   {
    "duration": 409,
    "start_time": "2025-04-11T18:17:55.771Z"
   },
   {
    "duration": 28,
    "start_time": "2025-04-11T18:17:56.182Z"
   },
   {
    "duration": 11,
    "start_time": "2025-04-11T18:17:56.211Z"
   },
   {
    "duration": 12,
    "start_time": "2025-04-11T18:17:56.224Z"
   },
   {
    "duration": 25,
    "start_time": "2025-04-11T18:17:56.237Z"
   },
   {
    "duration": 231,
    "start_time": "2025-04-11T18:17:56.264Z"
   },
   {
    "duration": 54,
    "start_time": "2025-04-11T18:17:56.497Z"
   },
   {
    "duration": 9,
    "start_time": "2025-04-11T18:17:56.553Z"
   },
   {
    "duration": 7,
    "start_time": "2025-04-11T18:17:56.563Z"
   },
   {
    "duration": 10,
    "start_time": "2025-04-11T18:17:56.573Z"
   },
   {
    "duration": 11,
    "start_time": "2025-04-11T18:17:56.585Z"
   },
   {
    "duration": 10,
    "start_time": "2025-04-11T18:17:56.598Z"
   },
   {
    "duration": 12,
    "start_time": "2025-04-11T18:17:56.609Z"
   },
   {
    "duration": 40,
    "start_time": "2025-04-11T18:17:56.623Z"
   },
   {
    "duration": 180,
    "start_time": "2025-04-11T18:17:56.665Z"
   },
   {
    "duration": 5,
    "start_time": "2025-04-11T18:17:56.846Z"
   },
   {
    "duration": 6,
    "start_time": "2025-04-11T18:17:56.861Z"
   },
   {
    "duration": 306,
    "start_time": "2025-04-11T18:17:56.869Z"
   },
   {
    "duration": 228,
    "start_time": "2025-04-11T18:17:57.177Z"
   },
   {
    "duration": 296,
    "start_time": "2025-04-11T18:17:57.407Z"
   },
   {
    "duration": 145,
    "start_time": "2025-04-11T18:17:57.705Z"
   },
   {
    "duration": 19,
    "start_time": "2025-04-11T18:17:57.851Z"
   },
   {
    "duration": 37,
    "start_time": "2025-04-11T18:17:57.872Z"
   },
   {
    "duration": 175,
    "start_time": "2025-04-11T18:17:57.911Z"
   },
   {
    "duration": 255,
    "start_time": "2025-04-11T18:18:16.131Z"
   },
   {
    "duration": 191,
    "start_time": "2025-04-11T18:18:24.014Z"
   },
   {
    "duration": 278,
    "start_time": "2025-04-11T18:18:26.878Z"
   },
   {
    "duration": 198,
    "start_time": "2025-04-11T18:18:32.462Z"
   },
   {
    "duration": 196,
    "start_time": "2025-04-11T18:18:42.531Z"
   },
   {
    "duration": 204,
    "start_time": "2025-04-11T18:19:12.820Z"
   },
   {
    "duration": 199,
    "start_time": "2025-04-11T18:19:17.826Z"
   },
   {
    "duration": 194,
    "start_time": "2025-04-11T18:19:22.604Z"
   },
   {
    "duration": 190,
    "start_time": "2025-04-11T18:23:44.714Z"
   },
   {
    "duration": 11,
    "start_time": "2025-04-11T18:25:14.950Z"
   },
   {
    "duration": 8,
    "start_time": "2025-04-11T18:25:44.229Z"
   },
   {
    "duration": 14,
    "start_time": "2025-04-11T18:25:49.726Z"
   },
   {
    "duration": 204,
    "start_time": "2025-04-11T18:26:46.204Z"
   },
   {
    "duration": 153,
    "start_time": "2025-04-11T18:28:27.257Z"
   },
   {
    "duration": 264,
    "start_time": "2025-04-11T18:28:41.097Z"
   },
   {
    "duration": 315,
    "start_time": "2025-04-11T18:29:32.133Z"
   },
   {
    "duration": 323,
    "start_time": "2025-04-11T18:31:26.937Z"
   },
   {
    "duration": 308,
    "start_time": "2025-04-11T18:31:32.393Z"
   },
   {
    "duration": 326,
    "start_time": "2025-04-11T18:31:37.865Z"
   },
   {
    "duration": 333,
    "start_time": "2025-04-11T18:33:17.254Z"
   },
   {
    "duration": 12,
    "start_time": "2025-04-11T18:34:37.235Z"
   },
   {
    "duration": 12,
    "start_time": "2025-04-11T18:35:07.426Z"
   },
   {
    "duration": 78,
    "start_time": "2025-04-11T18:35:49.178Z"
   },
   {
    "duration": 10,
    "start_time": "2025-04-11T18:36:01.565Z"
   },
   {
    "duration": 12,
    "start_time": "2025-04-11T18:36:08.057Z"
   },
   {
    "duration": 11,
    "start_time": "2025-04-11T18:36:29.642Z"
   },
   {
    "duration": 125,
    "start_time": "2025-04-11T18:37:45.293Z"
   },
   {
    "duration": 134,
    "start_time": "2025-04-11T18:37:49.692Z"
   },
   {
    "duration": 122,
    "start_time": "2025-04-11T18:38:02.780Z"
   },
   {
    "duration": 124,
    "start_time": "2025-04-11T18:38:50.938Z"
   },
   {
    "duration": 6,
    "start_time": "2025-04-11T18:39:56.280Z"
   },
   {
    "duration": 133,
    "start_time": "2025-04-11T18:40:46.453Z"
   },
   {
    "duration": 126,
    "start_time": "2025-04-11T18:40:56.945Z"
   },
   {
    "duration": 5,
    "start_time": "2025-04-11T18:41:37.776Z"
   },
   {
    "duration": 433,
    "start_time": "2025-04-11T18:43:04.945Z"
   },
   {
    "duration": 41,
    "start_time": "2025-04-11T18:43:05.380Z"
   },
   {
    "duration": 13,
    "start_time": "2025-04-11T18:43:05.423Z"
   },
   {
    "duration": 20,
    "start_time": "2025-04-11T18:43:05.437Z"
   },
   {
    "duration": 13,
    "start_time": "2025-04-11T18:43:05.459Z"
   },
   {
    "duration": 251,
    "start_time": "2025-04-11T18:43:05.474Z"
   },
   {
    "duration": 56,
    "start_time": "2025-04-11T18:43:05.728Z"
   },
   {
    "duration": 12,
    "start_time": "2025-04-11T18:43:05.786Z"
   },
   {
    "duration": 22,
    "start_time": "2025-04-11T18:43:05.799Z"
   },
   {
    "duration": 23,
    "start_time": "2025-04-11T18:43:05.823Z"
   },
   {
    "duration": 14,
    "start_time": "2025-04-11T18:43:05.847Z"
   },
   {
    "duration": 6,
    "start_time": "2025-04-11T18:43:05.863Z"
   },
   {
    "duration": 14,
    "start_time": "2025-04-11T18:43:05.871Z"
   },
   {
    "duration": 103,
    "start_time": "2025-04-11T18:43:05.888Z"
   },
   {
    "duration": 173,
    "start_time": "2025-04-11T18:43:05.993Z"
   },
   {
    "duration": 4,
    "start_time": "2025-04-11T18:43:06.167Z"
   },
   {
    "duration": 6,
    "start_time": "2025-04-11T18:43:06.173Z"
   },
   {
    "duration": 325,
    "start_time": "2025-04-11T18:43:06.181Z"
   },
   {
    "duration": 231,
    "start_time": "2025-04-11T18:43:06.508Z"
   },
   {
    "duration": 340,
    "start_time": "2025-04-11T18:43:06.741Z"
   },
   {
    "duration": 143,
    "start_time": "2025-04-11T18:43:07.082Z"
   },
   {
    "duration": 11,
    "start_time": "2025-04-11T18:43:07.227Z"
   },
   {
    "duration": 49,
    "start_time": "2025-04-11T18:43:07.239Z"
   },
   {
    "duration": 204,
    "start_time": "2025-04-11T18:43:07.290Z"
   },
   {
    "duration": 13,
    "start_time": "2025-04-11T18:43:07.496Z"
   },
   {
    "duration": 369,
    "start_time": "2025-04-11T18:43:07.511Z"
   },
   {
    "duration": 11,
    "start_time": "2025-04-11T18:43:07.881Z"
   },
   {
    "duration": 192,
    "start_time": "2025-04-11T18:43:07.894Z"
   },
   {
    "duration": 4,
    "start_time": "2025-04-11T18:50:08.338Z"
   },
   {
    "duration": 4,
    "start_time": "2025-04-11T18:50:31.319Z"
   },
   {
    "duration": 5,
    "start_time": "2025-04-11T18:50:37.285Z"
   },
   {
    "duration": 4,
    "start_time": "2025-04-11T18:50:40.438Z"
   },
   {
    "duration": 4,
    "start_time": "2025-04-11T18:50:43.159Z"
   },
   {
    "duration": 4,
    "start_time": "2025-04-11T18:50:47.776Z"
   },
   {
    "duration": 414,
    "start_time": "2025-04-12T12:17:19.969Z"
   },
   {
    "duration": 40,
    "start_time": "2025-04-12T12:17:20.385Z"
   },
   {
    "duration": 13,
    "start_time": "2025-04-12T12:17:20.427Z"
   },
   {
    "duration": 83,
    "start_time": "2025-04-12T12:17:20.442Z"
   },
   {
    "duration": 22,
    "start_time": "2025-04-12T12:17:20.526Z"
   },
   {
    "duration": 467,
    "start_time": "2025-04-12T12:17:20.549Z"
   },
   {
    "duration": 54,
    "start_time": "2025-04-12T12:17:21.018Z"
   },
   {
    "duration": 9,
    "start_time": "2025-04-12T12:17:21.073Z"
   },
   {
    "duration": 16,
    "start_time": "2025-04-12T12:17:21.083Z"
   },
   {
    "duration": 19,
    "start_time": "2025-04-12T12:17:21.101Z"
   },
   {
    "duration": 28,
    "start_time": "2025-04-12T12:17:21.121Z"
   },
   {
    "duration": 17,
    "start_time": "2025-04-12T12:17:21.151Z"
   },
   {
    "duration": 22,
    "start_time": "2025-04-12T12:17:21.170Z"
   },
   {
    "duration": 25,
    "start_time": "2025-04-12T12:17:21.193Z"
   },
   {
    "duration": 194,
    "start_time": "2025-04-12T12:17:21.220Z"
   },
   {
    "duration": 5,
    "start_time": "2025-04-12T12:17:21.415Z"
   },
   {
    "duration": 18,
    "start_time": "2025-04-12T12:17:21.421Z"
   },
   {
    "duration": 306,
    "start_time": "2025-04-12T12:17:21.441Z"
   },
   {
    "duration": 218,
    "start_time": "2025-04-12T12:17:21.749Z"
   },
   {
    "duration": 391,
    "start_time": "2025-04-12T12:17:21.968Z"
   },
   {
    "duration": 191,
    "start_time": "2025-04-12T12:17:22.360Z"
   },
   {
    "duration": 11,
    "start_time": "2025-04-12T12:17:22.553Z"
   },
   {
    "duration": 37,
    "start_time": "2025-04-12T12:17:22.566Z"
   },
   {
    "duration": 209,
    "start_time": "2025-04-12T12:17:22.605Z"
   },
   {
    "duration": 21,
    "start_time": "2025-04-12T12:17:22.816Z"
   },
   {
    "duration": 401,
    "start_time": "2025-04-12T12:17:22.838Z"
   },
   {
    "duration": 12,
    "start_time": "2025-04-12T12:17:23.241Z"
   },
   {
    "duration": 142,
    "start_time": "2025-04-12T12:17:23.257Z"
   },
   {
    "duration": 4,
    "start_time": "2025-04-12T12:17:23.401Z"
   },
   {
    "duration": 13,
    "start_time": "2025-04-12T12:18:22.427Z"
   },
   {
    "duration": 134,
    "start_time": "2025-04-12T12:19:01.413Z"
   },
   {
    "duration": 4,
    "start_time": "2025-04-12T12:23:14.815Z"
   },
   {
    "duration": 4,
    "start_time": "2025-04-12T12:24:43.552Z"
   },
   {
    "duration": 5,
    "start_time": "2025-04-12T12:24:48.318Z"
   },
   {
    "duration": 4,
    "start_time": "2025-04-12T12:24:51.775Z"
   },
   {
    "duration": 74,
    "start_time": "2025-04-12T12:27:35.627Z"
   },
   {
    "duration": 443,
    "start_time": "2025-04-12T12:27:59.354Z"
   },
   {
    "duration": 9,
    "start_time": "2025-04-12T12:28:06.458Z"
   },
   {
    "duration": 8,
    "start_time": "2025-04-12T12:30:35.367Z"
   },
   {
    "duration": 11,
    "start_time": "2025-04-12T12:32:43.523Z"
   },
   {
    "duration": 170,
    "start_time": "2025-04-12T12:34:09.786Z"
   },
   {
    "duration": 150,
    "start_time": "2025-04-12T12:34:14.258Z"
   },
   {
    "duration": 107,
    "start_time": "2025-04-12T12:35:02.123Z"
   },
   {
    "duration": 122,
    "start_time": "2025-04-12T12:35:10.332Z"
   },
   {
    "duration": 361,
    "start_time": "2025-04-12T12:36:28.098Z"
   },
   {
    "duration": 84,
    "start_time": "2025-04-12T12:36:49.721Z"
   },
   {
    "duration": 88,
    "start_time": "2025-04-12T12:36:55.185Z"
   },
   {
    "duration": 8,
    "start_time": "2025-04-12T12:41:34.687Z"
   },
   {
    "duration": 8,
    "start_time": "2025-04-12T12:44:21.109Z"
   },
   {
    "duration": 7,
    "start_time": "2025-04-12T12:44:43.913Z"
   },
   {
    "duration": 123,
    "start_time": "2025-04-12T12:44:44.373Z"
   },
   {
    "duration": 9,
    "start_time": "2025-04-12T12:44:45.722Z"
   },
   {
    "duration": 40,
    "start_time": "2025-04-12T12:44:49.525Z"
   },
   {
    "duration": 8,
    "start_time": "2025-04-12T12:45:23.188Z"
   },
   {
    "duration": 80,
    "start_time": "2025-04-12T12:46:21.445Z"
   },
   {
    "duration": 42,
    "start_time": "2025-04-12T12:46:25.128Z"
   },
   {
    "duration": 417,
    "start_time": "2025-04-12T12:46:36.211Z"
   },
   {
    "duration": 39,
    "start_time": "2025-04-12T12:46:36.630Z"
   },
   {
    "duration": 10,
    "start_time": "2025-04-12T12:46:36.671Z"
   },
   {
    "duration": 29,
    "start_time": "2025-04-12T12:46:36.683Z"
   },
   {
    "duration": 12,
    "start_time": "2025-04-12T12:46:36.714Z"
   },
   {
    "duration": 701,
    "start_time": "2025-04-12T12:46:36.728Z"
   },
   {
    "duration": 54,
    "start_time": "2025-04-12T12:46:37.431Z"
   },
   {
    "duration": 9,
    "start_time": "2025-04-12T12:46:37.486Z"
   },
   {
    "duration": 10,
    "start_time": "2025-04-12T12:46:37.496Z"
   },
   {
    "duration": 11,
    "start_time": "2025-04-12T12:46:37.509Z"
   },
   {
    "duration": 11,
    "start_time": "2025-04-12T12:46:37.521Z"
   },
   {
    "duration": 15,
    "start_time": "2025-04-12T12:46:37.534Z"
   },
   {
    "duration": 16,
    "start_time": "2025-04-12T12:46:37.553Z"
   },
   {
    "duration": 8,
    "start_time": "2025-04-12T12:46:37.571Z"
   },
   {
    "duration": 202,
    "start_time": "2025-04-12T12:46:37.581Z"
   },
   {
    "duration": 5,
    "start_time": "2025-04-12T12:46:37.784Z"
   },
   {
    "duration": 13,
    "start_time": "2025-04-12T12:46:37.790Z"
   },
   {
    "duration": 336,
    "start_time": "2025-04-12T12:46:37.804Z"
   },
   {
    "duration": 241,
    "start_time": "2025-04-12T12:46:38.147Z"
   },
   {
    "duration": 312,
    "start_time": "2025-04-12T12:46:38.390Z"
   },
   {
    "duration": 156,
    "start_time": "2025-04-12T12:46:38.704Z"
   },
   {
    "duration": 11,
    "start_time": "2025-04-12T12:46:38.862Z"
   },
   {
    "duration": 6,
    "start_time": "2025-04-12T12:46:38.874Z"
   },
   {
    "duration": 246,
    "start_time": "2025-04-12T12:46:38.881Z"
   },
   {
    "duration": 26,
    "start_time": "2025-04-12T12:46:39.128Z"
   },
   {
    "duration": 351,
    "start_time": "2025-04-12T12:46:39.156Z"
   },
   {
    "duration": 11,
    "start_time": "2025-04-12T12:46:39.509Z"
   },
   {
    "duration": 152,
    "start_time": "2025-04-12T12:46:39.523Z"
   },
   {
    "duration": 4,
    "start_time": "2025-04-12T12:46:39.676Z"
   },
   {
    "duration": 152,
    "start_time": "2025-04-12T12:46:39.682Z"
   },
   {
    "duration": 10,
    "start_time": "2025-04-12T12:46:39.836Z"
   },
   {
    "duration": 82,
    "start_time": "2025-04-12T12:46:39.851Z"
   },
   {
    "duration": 95,
    "start_time": "2025-04-12T12:46:39.934Z"
   },
   {
    "duration": 44,
    "start_time": "2025-04-12T12:46:40.030Z"
   },
   {
    "duration": 89,
    "start_time": "2025-04-12T12:46:40.076Z"
   },
   {
    "duration": 163,
    "start_time": "2025-04-12T12:47:09.040Z"
   },
   {
    "duration": 24,
    "start_time": "2025-04-12T12:47:09.304Z"
   },
   {
    "duration": 156,
    "start_time": "2025-04-12T12:47:36.609Z"
   },
   {
    "duration": 8,
    "start_time": "2025-04-12T12:47:59.758Z"
   },
   {
    "duration": 5,
    "start_time": "2025-04-12T12:48:41.204Z"
   },
   {
    "duration": 136,
    "start_time": "2025-04-12T12:49:25.541Z"
   },
   {
    "duration": 24,
    "start_time": "2025-04-12T12:49:25.934Z"
   },
   {
    "duration": 388,
    "start_time": "2025-04-12T12:51:41.672Z"
   },
   {
    "duration": 28,
    "start_time": "2025-04-12T12:51:42.061Z"
   },
   {
    "duration": 10,
    "start_time": "2025-04-12T12:51:42.091Z"
   },
   {
    "duration": 14,
    "start_time": "2025-04-12T12:51:42.103Z"
   },
   {
    "duration": 11,
    "start_time": "2025-04-12T12:51:42.118Z"
   },
   {
    "duration": 757,
    "start_time": "2025-04-12T12:51:42.136Z"
   },
   {
    "duration": 53,
    "start_time": "2025-04-12T12:51:42.895Z"
   },
   {
    "duration": 8,
    "start_time": "2025-04-12T12:51:42.950Z"
   },
   {
    "duration": 11,
    "start_time": "2025-04-12T12:51:42.959Z"
   },
   {
    "duration": 11,
    "start_time": "2025-04-12T12:51:42.973Z"
   },
   {
    "duration": 17,
    "start_time": "2025-04-12T12:51:42.986Z"
   },
   {
    "duration": 9,
    "start_time": "2025-04-12T12:51:43.005Z"
   },
   {
    "duration": 9,
    "start_time": "2025-04-12T12:51:43.016Z"
   },
   {
    "duration": 13,
    "start_time": "2025-04-12T12:51:43.026Z"
   },
   {
    "duration": 176,
    "start_time": "2025-04-12T12:51:43.041Z"
   },
   {
    "duration": 4,
    "start_time": "2025-04-12T12:51:43.219Z"
   },
   {
    "duration": 6,
    "start_time": "2025-04-12T12:51:43.236Z"
   },
   {
    "duration": 296,
    "start_time": "2025-04-12T12:51:43.243Z"
   },
   {
    "duration": 219,
    "start_time": "2025-04-12T12:51:43.541Z"
   },
   {
    "duration": 314,
    "start_time": "2025-04-12T12:51:43.761Z"
   },
   {
    "duration": 134,
    "start_time": "2025-04-12T12:51:44.076Z"
   },
   {
    "duration": 11,
    "start_time": "2025-04-12T12:51:44.211Z"
   },
   {
    "duration": 18,
    "start_time": "2025-04-12T12:51:44.236Z"
   },
   {
    "duration": 218,
    "start_time": "2025-04-12T12:51:44.255Z"
   },
   {
    "duration": 14,
    "start_time": "2025-04-12T12:51:44.475Z"
   },
   {
    "duration": 295,
    "start_time": "2025-04-12T12:51:44.491Z"
   },
   {
    "duration": 11,
    "start_time": "2025-04-12T12:51:44.788Z"
   },
   {
    "duration": 240,
    "start_time": "2025-04-12T12:51:44.803Z"
   },
   {
    "duration": 5,
    "start_time": "2025-04-12T12:51:45.045Z"
   },
   {
    "duration": 178,
    "start_time": "2025-04-12T12:51:45.052Z"
   },
   {
    "duration": 5,
    "start_time": "2025-04-12T12:51:45.232Z"
   },
   {
    "duration": 152,
    "start_time": "2025-04-12T12:51:45.239Z"
   },
   {
    "duration": 25,
    "start_time": "2025-04-12T12:51:45.393Z"
   },
   {
    "duration": 20,
    "start_time": "2025-04-12T12:51:45.419Z"
   },
   {
    "duration": 14,
    "start_time": "2025-04-12T15:02:40.658Z"
   },
   {
    "duration": 10,
    "start_time": "2025-04-12T15:04:41.923Z"
   },
   {
    "duration": 10,
    "start_time": "2025-04-12T15:05:04.120Z"
   },
   {
    "duration": 122,
    "start_time": "2025-04-12T15:07:09.163Z"
   },
   {
    "duration": 1426,
    "start_time": "2025-04-12T15:07:18.757Z"
   },
   {
    "duration": 12,
    "start_time": "2025-04-12T15:07:54.108Z"
   },
   {
    "duration": 9,
    "start_time": "2025-04-12T15:08:15.412Z"
   },
   {
    "duration": 13,
    "start_time": "2025-04-12T15:09:28.826Z"
   },
   {
    "duration": 14,
    "start_time": "2025-04-12T15:09:40.186Z"
   },
   {
    "duration": 8,
    "start_time": "2025-04-12T15:10:21.011Z"
   },
   {
    "duration": 8,
    "start_time": "2025-04-12T15:11:00.417Z"
   },
   {
    "duration": 24,
    "start_time": "2025-04-12T15:11:04.248Z"
   },
   {
    "duration": 5,
    "start_time": "2025-04-12T15:12:45.806Z"
   },
   {
    "duration": 81,
    "start_time": "2025-04-12T15:15:20.768Z"
   },
   {
    "duration": 11,
    "start_time": "2025-04-12T15:15:23.564Z"
   },
   {
    "duration": 1445,
    "start_time": "2025-04-12T15:15:28.672Z"
   },
   {
    "duration": 10,
    "start_time": "2025-04-12T15:16:09.908Z"
   },
   {
    "duration": 1495,
    "start_time": "2025-04-12T15:16:59.491Z"
   },
   {
    "duration": 7,
    "start_time": "2025-04-12T15:17:10.861Z"
   },
   {
    "duration": 4,
    "start_time": "2025-04-12T15:17:37.261Z"
   },
   {
    "duration": 436,
    "start_time": "2025-04-12T15:34:00.915Z"
   },
   {
    "duration": 29,
    "start_time": "2025-04-12T15:34:01.353Z"
   },
   {
    "duration": 11,
    "start_time": "2025-04-12T15:34:01.384Z"
   },
   {
    "duration": 19,
    "start_time": "2025-04-12T15:34:01.397Z"
   },
   {
    "duration": 19,
    "start_time": "2025-04-12T15:34:01.417Z"
   },
   {
    "duration": 738,
    "start_time": "2025-04-12T15:34:01.438Z"
   },
   {
    "duration": 53,
    "start_time": "2025-04-12T15:34:02.178Z"
   },
   {
    "duration": 13,
    "start_time": "2025-04-12T15:34:02.232Z"
   },
   {
    "duration": 29,
    "start_time": "2025-04-12T15:34:02.247Z"
   },
   {
    "duration": 26,
    "start_time": "2025-04-12T15:34:02.279Z"
   },
   {
    "duration": 21,
    "start_time": "2025-04-12T15:34:02.306Z"
   },
   {
    "duration": 23,
    "start_time": "2025-04-12T15:34:02.329Z"
   },
   {
    "duration": 11,
    "start_time": "2025-04-12T15:34:02.353Z"
   },
   {
    "duration": 20,
    "start_time": "2025-04-12T15:34:02.366Z"
   },
   {
    "duration": 189,
    "start_time": "2025-04-12T15:34:02.388Z"
   },
   {
    "duration": 5,
    "start_time": "2025-04-12T15:34:02.578Z"
   },
   {
    "duration": 333,
    "start_time": "2025-04-12T15:34:02.585Z"
   },
   {
    "duration": 252,
    "start_time": "2025-04-12T15:34:02.920Z"
   },
   {
    "duration": 295,
    "start_time": "2025-04-12T15:34:03.173Z"
   },
   {
    "duration": 145,
    "start_time": "2025-04-12T15:34:03.471Z"
   },
   {
    "duration": 9,
    "start_time": "2025-04-12T15:34:03.618Z"
   },
   {
    "duration": 92,
    "start_time": "2025-04-12T15:34:03.636Z"
   },
   {
    "duration": 222,
    "start_time": "2025-04-12T15:34:03.730Z"
   },
   {
    "duration": 15,
    "start_time": "2025-04-12T15:34:03.953Z"
   },
   {
    "duration": 313,
    "start_time": "2025-04-12T15:34:03.970Z"
   },
   {
    "duration": 11,
    "start_time": "2025-04-12T15:34:04.284Z"
   },
   {
    "duration": 167,
    "start_time": "2025-04-12T15:34:04.297Z"
   },
   {
    "duration": 5,
    "start_time": "2025-04-12T15:34:04.468Z"
   },
   {
    "duration": 153,
    "start_time": "2025-04-12T15:34:04.474Z"
   },
   {
    "duration": 9,
    "start_time": "2025-04-12T15:34:04.628Z"
   },
   {
    "duration": 215,
    "start_time": "2025-04-12T15:34:04.639Z"
   },
   {
    "duration": 25,
    "start_time": "2025-04-12T15:34:04.856Z"
   },
   {
    "duration": 69,
    "start_time": "2025-04-12T15:34:04.883Z"
   },
   {
    "duration": 75,
    "start_time": "2025-04-12T15:34:04.953Z"
   },
   {
    "duration": 21,
    "start_time": "2025-04-12T15:34:05.029Z"
   },
   {
    "duration": 70,
    "start_time": "2025-04-12T15:34:05.051Z"
   },
   {
    "duration": 5,
    "start_time": "2025-04-12T15:34:05.123Z"
   },
   {
    "duration": 21,
    "start_time": "2025-04-12T15:34:05.129Z"
   },
   {
    "duration": 5,
    "start_time": "2025-04-12T15:51:30.518Z"
   },
   {
    "duration": 7,
    "start_time": "2025-04-12T15:51:41.115Z"
   },
   {
    "duration": 98,
    "start_time": "2025-04-12T15:51:44.747Z"
   },
   {
    "duration": 6,
    "start_time": "2025-04-12T15:51:47.622Z"
   },
   {
    "duration": 6,
    "start_time": "2025-04-12T15:52:11.716Z"
   },
   {
    "duration": 7,
    "start_time": "2025-04-12T15:52:19.483Z"
   },
   {
    "duration": 5,
    "start_time": "2025-04-12T15:52:24.886Z"
   },
   {
    "duration": 12,
    "start_time": "2025-04-12T15:53:24.982Z"
   },
   {
    "duration": 132,
    "start_time": "2025-04-12T15:53:48.726Z"
   },
   {
    "duration": 115,
    "start_time": "2025-04-12T15:54:13.429Z"
   },
   {
    "duration": 117,
    "start_time": "2025-04-12T15:54:17.725Z"
   },
   {
    "duration": 10,
    "start_time": "2025-04-12T15:54:44.556Z"
   },
   {
    "duration": 7,
    "start_time": "2025-04-12T15:56:44.657Z"
   },
   {
    "duration": 5,
    "start_time": "2025-04-12T15:56:49.525Z"
   },
   {
    "duration": 8,
    "start_time": "2025-04-12T15:57:05.432Z"
   },
   {
    "duration": 4,
    "start_time": "2025-04-12T15:57:17.817Z"
   },
   {
    "duration": 11,
    "start_time": "2025-04-12T15:57:27.944Z"
   },
   {
    "duration": 10,
    "start_time": "2025-04-12T15:57:59.479Z"
   },
   {
    "duration": 7,
    "start_time": "2025-04-12T15:58:47.188Z"
   },
   {
    "duration": 4,
    "start_time": "2025-04-12T15:59:21.500Z"
   },
   {
    "duration": 393,
    "start_time": "2025-04-12T16:00:08.475Z"
   },
   {
    "duration": 38,
    "start_time": "2025-04-12T16:00:08.870Z"
   },
   {
    "duration": 183,
    "start_time": "2025-04-12T16:00:08.910Z"
   },
   {
    "duration": 41,
    "start_time": "2025-04-12T16:00:09.095Z"
   },
   {
    "duration": 13,
    "start_time": "2025-04-12T16:00:09.140Z"
   },
   {
    "duration": 752,
    "start_time": "2025-04-12T16:00:09.154Z"
   },
   {
    "duration": 54,
    "start_time": "2025-04-12T16:00:09.908Z"
   },
   {
    "duration": 9,
    "start_time": "2025-04-12T16:00:09.964Z"
   },
   {
    "duration": 33,
    "start_time": "2025-04-12T16:00:09.975Z"
   },
   {
    "duration": 57,
    "start_time": "2025-04-12T16:00:10.010Z"
   },
   {
    "duration": 24,
    "start_time": "2025-04-12T16:00:10.069Z"
   },
   {
    "duration": 38,
    "start_time": "2025-04-12T16:00:10.094Z"
   },
   {
    "duration": 18,
    "start_time": "2025-04-12T16:00:10.134Z"
   },
   {
    "duration": 11,
    "start_time": "2025-04-12T16:00:10.155Z"
   },
   {
    "duration": 189,
    "start_time": "2025-04-12T16:00:10.168Z"
   },
   {
    "duration": 7,
    "start_time": "2025-04-12T16:00:10.359Z"
   },
   {
    "duration": 309,
    "start_time": "2025-04-12T16:00:10.367Z"
   },
   {
    "duration": 224,
    "start_time": "2025-04-12T16:00:10.678Z"
   },
   {
    "duration": 349,
    "start_time": "2025-04-12T16:00:10.904Z"
   },
   {
    "duration": 139,
    "start_time": "2025-04-12T16:00:11.255Z"
   },
   {
    "duration": 10,
    "start_time": "2025-04-12T16:00:11.396Z"
   },
   {
    "duration": 25,
    "start_time": "2025-04-12T16:00:11.408Z"
   },
   {
    "duration": 207,
    "start_time": "2025-04-12T16:00:11.435Z"
   },
   {
    "duration": 14,
    "start_time": "2025-04-12T16:00:11.644Z"
   },
   {
    "duration": 324,
    "start_time": "2025-04-12T16:00:11.660Z"
   },
   {
    "duration": 13,
    "start_time": "2025-04-12T16:00:11.986Z"
   },
   {
    "duration": 147,
    "start_time": "2025-04-12T16:00:12.000Z"
   },
   {
    "duration": 5,
    "start_time": "2025-04-12T16:00:12.149Z"
   },
   {
    "duration": 154,
    "start_time": "2025-04-12T16:00:12.156Z"
   },
   {
    "duration": 4,
    "start_time": "2025-04-12T16:00:12.312Z"
   },
   {
    "duration": 164,
    "start_time": "2025-04-12T16:00:12.317Z"
   },
   {
    "duration": 6,
    "start_time": "2025-04-12T16:00:12.483Z"
   },
   {
    "duration": 25,
    "start_time": "2025-04-12T16:00:12.491Z"
   },
   {
    "duration": 24,
    "start_time": "2025-04-12T16:00:12.517Z"
   },
   {
    "duration": 14,
    "start_time": "2025-04-12T16:00:12.543Z"
   },
   {
    "duration": 13,
    "start_time": "2025-04-12T16:00:12.558Z"
   },
   {
    "duration": 42,
    "start_time": "2025-04-12T16:00:12.573Z"
   },
   {
    "duration": 4,
    "start_time": "2025-04-12T16:00:12.617Z"
   },
   {
    "duration": 20,
    "start_time": "2025-04-12T16:00:12.622Z"
   },
   {
    "duration": 71,
    "start_time": "2025-04-12T16:03:06.565Z"
   },
   {
    "duration": 5,
    "start_time": "2025-04-12T16:03:13.926Z"
   },
   {
    "duration": 4,
    "start_time": "2025-04-12T16:05:31.612Z"
   },
   {
    "duration": 128,
    "start_time": "2025-04-12T16:12:22.967Z"
   },
   {
    "duration": 8,
    "start_time": "2025-04-12T16:13:45.750Z"
   },
   {
    "duration": 14,
    "start_time": "2025-04-12T16:13:48.894Z"
   },
   {
    "duration": 25,
    "start_time": "2025-04-12T16:13:51.042Z"
   },
   {
    "duration": 4,
    "start_time": "2025-04-12T16:13:52.917Z"
   },
   {
    "duration": 10,
    "start_time": "2025-04-12T16:13:58.884Z"
   },
   {
    "duration": 380,
    "start_time": "2025-04-12T16:14:53.565Z"
   },
   {
    "duration": 28,
    "start_time": "2025-04-12T16:14:53.948Z"
   },
   {
    "duration": 11,
    "start_time": "2025-04-12T16:14:53.977Z"
   },
   {
    "duration": 20,
    "start_time": "2025-04-12T16:14:53.990Z"
   },
   {
    "duration": 12,
    "start_time": "2025-04-12T16:14:54.012Z"
   },
   {
    "duration": 757,
    "start_time": "2025-04-12T16:14:54.037Z"
   },
   {
    "duration": 54,
    "start_time": "2025-04-12T16:14:54.796Z"
   },
   {
    "duration": 8,
    "start_time": "2025-04-12T16:14:54.852Z"
   },
   {
    "duration": 27,
    "start_time": "2025-04-12T16:14:54.862Z"
   },
   {
    "duration": 228,
    "start_time": "2025-04-12T16:14:54.892Z"
   },
   {
    "duration": 8,
    "start_time": "2025-04-12T16:14:55.122Z"
   },
   {
    "duration": 19,
    "start_time": "2025-04-12T16:14:55.132Z"
   },
   {
    "duration": 15,
    "start_time": "2025-04-12T16:14:55.153Z"
   },
   {
    "duration": 4,
    "start_time": "2025-04-12T16:14:55.170Z"
   },
   {
    "duration": 190,
    "start_time": "2025-04-12T16:14:55.176Z"
   },
   {
    "duration": 6,
    "start_time": "2025-04-12T16:14:55.367Z"
   },
   {
    "duration": 317,
    "start_time": "2025-04-12T16:14:55.375Z"
   },
   {
    "duration": 231,
    "start_time": "2025-04-12T16:14:55.693Z"
   },
   {
    "duration": 338,
    "start_time": "2025-04-12T16:14:55.926Z"
   },
   {
    "duration": 139,
    "start_time": "2025-04-12T16:14:56.266Z"
   },
   {
    "duration": 10,
    "start_time": "2025-04-12T16:14:56.407Z"
   },
   {
    "duration": 6,
    "start_time": "2025-04-12T16:14:56.437Z"
   },
   {
    "duration": 232,
    "start_time": "2025-04-12T16:14:56.445Z"
   },
   {
    "duration": 17,
    "start_time": "2025-04-12T16:14:56.680Z"
   },
   {
    "duration": 382,
    "start_time": "2025-04-12T16:14:56.699Z"
   },
   {
    "duration": 11,
    "start_time": "2025-04-12T16:14:57.083Z"
   },
   {
    "duration": 187,
    "start_time": "2025-04-12T16:14:57.095Z"
   },
   {
    "duration": 9,
    "start_time": "2025-04-12T16:14:57.286Z"
   },
   {
    "duration": 180,
    "start_time": "2025-04-12T16:14:57.297Z"
   },
   {
    "duration": 5,
    "start_time": "2025-04-12T16:14:57.480Z"
   },
   {
    "duration": 226,
    "start_time": "2025-04-12T16:14:57.487Z"
   },
   {
    "duration": 37,
    "start_time": "2025-04-12T16:14:57.714Z"
   },
   {
    "duration": 5,
    "start_time": "2025-04-12T16:14:57.754Z"
   },
   {
    "duration": 19,
    "start_time": "2025-04-12T16:14:57.761Z"
   },
   {
    "duration": 109,
    "start_time": "2025-04-12T16:14:57.782Z"
   },
   {
    "duration": 48,
    "start_time": "2025-04-12T16:14:57.892Z"
   },
   {
    "duration": 26,
    "start_time": "2025-04-12T16:14:57.942Z"
   },
   {
    "duration": 4,
    "start_time": "2025-04-12T16:14:57.970Z"
   },
   {
    "duration": 20,
    "start_time": "2025-04-12T16:14:57.976Z"
   },
   {
    "duration": 385,
    "start_time": "2025-04-12T16:16:43.896Z"
   },
   {
    "duration": 40,
    "start_time": "2025-04-12T16:16:44.282Z"
   },
   {
    "duration": 10,
    "start_time": "2025-04-12T16:16:44.324Z"
   },
   {
    "duration": 13,
    "start_time": "2025-04-12T16:16:44.336Z"
   },
   {
    "duration": 33,
    "start_time": "2025-04-12T16:16:44.350Z"
   },
   {
    "duration": 732,
    "start_time": "2025-04-12T16:16:44.385Z"
   },
   {
    "duration": 54,
    "start_time": "2025-04-12T16:16:45.118Z"
   },
   {
    "duration": 9,
    "start_time": "2025-04-12T16:16:45.174Z"
   },
   {
    "duration": 67,
    "start_time": "2025-04-12T16:16:45.184Z"
   },
   {
    "duration": 33,
    "start_time": "2025-04-12T16:16:45.254Z"
   },
   {
    "duration": 43,
    "start_time": "2025-04-12T16:16:45.289Z"
   },
   {
    "duration": 36,
    "start_time": "2025-04-12T16:16:45.334Z"
   },
   {
    "duration": 22,
    "start_time": "2025-04-12T16:16:45.372Z"
   },
   {
    "duration": 8,
    "start_time": "2025-04-12T16:16:45.396Z"
   },
   {
    "duration": 169,
    "start_time": "2025-04-12T16:16:45.406Z"
   },
   {
    "duration": 5,
    "start_time": "2025-04-12T16:16:45.577Z"
   },
   {
    "duration": 305,
    "start_time": "2025-04-12T16:16:45.583Z"
   },
   {
    "duration": 218,
    "start_time": "2025-04-12T16:16:45.890Z"
   },
   {
    "duration": 341,
    "start_time": "2025-04-12T16:16:46.110Z"
   },
   {
    "duration": 161,
    "start_time": "2025-04-12T16:16:46.453Z"
   },
   {
    "duration": 23,
    "start_time": "2025-04-12T16:16:46.616Z"
   },
   {
    "duration": 6,
    "start_time": "2025-04-12T16:16:46.641Z"
   },
   {
    "duration": 219,
    "start_time": "2025-04-12T16:16:46.648Z"
   },
   {
    "duration": 14,
    "start_time": "2025-04-12T16:16:46.869Z"
   },
   {
    "duration": 296,
    "start_time": "2025-04-12T16:16:46.884Z"
   },
   {
    "duration": 10,
    "start_time": "2025-04-12T16:16:47.182Z"
   },
   {
    "duration": 144,
    "start_time": "2025-04-12T16:16:47.194Z"
   },
   {
    "duration": 5,
    "start_time": "2025-04-12T16:16:47.341Z"
   },
   {
    "duration": 152,
    "start_time": "2025-04-12T16:16:47.347Z"
   },
   {
    "duration": 4,
    "start_time": "2025-04-12T16:16:47.501Z"
   },
   {
    "duration": 191,
    "start_time": "2025-04-12T16:16:47.507Z"
   },
   {
    "duration": 25,
    "start_time": "2025-04-12T16:16:47.700Z"
   },
   {
    "duration": 5,
    "start_time": "2025-04-12T16:16:47.737Z"
   },
   {
    "duration": 12,
    "start_time": "2025-04-12T16:16:47.744Z"
   },
   {
    "duration": 10,
    "start_time": "2025-04-12T16:16:47.758Z"
   },
   {
    "duration": 20,
    "start_time": "2025-04-12T16:16:47.769Z"
   },
   {
    "duration": 46,
    "start_time": "2025-04-12T16:16:47.791Z"
   },
   {
    "duration": 67,
    "start_time": "2025-04-12T16:16:47.838Z"
   },
   {
    "duration": 18,
    "start_time": "2025-04-12T16:16:47.907Z"
   },
   {
    "duration": 379,
    "start_time": "2025-04-12T16:17:16.472Z"
   },
   {
    "duration": 27,
    "start_time": "2025-04-12T16:17:16.853Z"
   },
   {
    "duration": 11,
    "start_time": "2025-04-12T16:17:16.882Z"
   },
   {
    "duration": 115,
    "start_time": "2025-04-12T16:17:16.896Z"
   },
   {
    "duration": 12,
    "start_time": "2025-04-12T16:17:17.013Z"
   },
   {
    "duration": 863,
    "start_time": "2025-04-12T16:17:17.027Z"
   },
   {
    "duration": 53,
    "start_time": "2025-04-12T16:17:17.891Z"
   },
   {
    "duration": 8,
    "start_time": "2025-04-12T16:17:17.946Z"
   },
   {
    "duration": 15,
    "start_time": "2025-04-12T16:17:17.956Z"
   },
   {
    "duration": 17,
    "start_time": "2025-04-12T16:17:17.974Z"
   },
   {
    "duration": 18,
    "start_time": "2025-04-12T16:17:17.993Z"
   },
   {
    "duration": 38,
    "start_time": "2025-04-12T16:17:18.013Z"
   },
   {
    "duration": 11,
    "start_time": "2025-04-12T16:17:18.053Z"
   },
   {
    "duration": 15,
    "start_time": "2025-04-12T16:17:18.066Z"
   },
   {
    "duration": 187,
    "start_time": "2025-04-12T16:17:18.082Z"
   },
   {
    "duration": 7,
    "start_time": "2025-04-12T16:17:18.271Z"
   },
   {
    "duration": 319,
    "start_time": "2025-04-12T16:17:18.280Z"
   },
   {
    "duration": 220,
    "start_time": "2025-04-12T16:17:18.601Z"
   },
   {
    "duration": 346,
    "start_time": "2025-04-12T16:17:18.823Z"
   },
   {
    "duration": 142,
    "start_time": "2025-04-12T16:17:19.171Z"
   },
   {
    "duration": 29,
    "start_time": "2025-04-12T16:17:19.315Z"
   },
   {
    "duration": 4,
    "start_time": "2025-04-12T16:17:19.346Z"
   },
   {
    "duration": 223,
    "start_time": "2025-04-12T16:17:19.352Z"
   },
   {
    "duration": 14,
    "start_time": "2025-04-12T16:17:19.576Z"
   },
   {
    "duration": 332,
    "start_time": "2025-04-12T16:17:19.591Z"
   },
   {
    "duration": 20,
    "start_time": "2025-04-12T16:17:19.926Z"
   },
   {
    "duration": 131,
    "start_time": "2025-04-12T16:17:19.948Z"
   },
   {
    "duration": 6,
    "start_time": "2025-04-12T16:17:20.083Z"
   },
   {
    "duration": 155,
    "start_time": "2025-04-12T16:17:20.090Z"
   },
   {
    "duration": 4,
    "start_time": "2025-04-12T16:17:20.247Z"
   },
   {
    "duration": 158,
    "start_time": "2025-04-12T16:17:20.253Z"
   },
   {
    "duration": 33,
    "start_time": "2025-04-12T16:17:20.413Z"
   },
   {
    "duration": 5,
    "start_time": "2025-04-12T16:17:20.447Z"
   },
   {
    "duration": 7,
    "start_time": "2025-04-12T16:17:20.453Z"
   },
   {
    "duration": 9,
    "start_time": "2025-04-12T16:17:20.462Z"
   },
   {
    "duration": 14,
    "start_time": "2025-04-12T16:17:20.472Z"
   },
   {
    "duration": 57,
    "start_time": "2025-04-12T16:17:20.487Z"
   },
   {
    "duration": 4,
    "start_time": "2025-04-12T16:17:20.545Z"
   },
   {
    "duration": 33,
    "start_time": "2025-04-12T16:17:20.551Z"
   },
   {
    "duration": 3,
    "start_time": "2025-04-12T17:22:09.842Z"
   },
   {
    "duration": 33,
    "start_time": "2025-04-12T17:22:10.443Z"
   },
   {
    "duration": 3,
    "start_time": "2025-04-12T17:22:15.080Z"
   },
   {
    "duration": 3,
    "start_time": "2025-04-12T17:22:20.064Z"
   },
   {
    "duration": 422,
    "start_time": "2025-04-12T17:22:49.825Z"
   },
   {
    "duration": 3,
    "start_time": "2025-04-12T17:22:50.248Z"
   },
   {
    "duration": 38,
    "start_time": "2025-04-12T17:22:50.252Z"
   },
   {
    "duration": 11,
    "start_time": "2025-04-12T17:22:50.292Z"
   },
   {
    "duration": 19,
    "start_time": "2025-04-12T17:22:50.304Z"
   },
   {
    "duration": 12,
    "start_time": "2025-04-12T17:22:50.325Z"
   },
   {
    "duration": 701,
    "start_time": "2025-04-12T17:22:50.339Z"
   },
   {
    "duration": 54,
    "start_time": "2025-04-12T17:22:51.042Z"
   },
   {
    "duration": 9,
    "start_time": "2025-04-12T17:22:51.098Z"
   },
   {
    "duration": 32,
    "start_time": "2025-04-12T17:22:51.109Z"
   },
   {
    "duration": 29,
    "start_time": "2025-04-12T17:22:51.142Z"
   },
   {
    "duration": 20,
    "start_time": "2025-04-12T17:22:51.172Z"
   },
   {
    "duration": 21,
    "start_time": "2025-04-12T17:22:51.193Z"
   },
   {
    "duration": 182,
    "start_time": "2025-04-12T17:22:51.216Z"
   },
   {
    "duration": 14,
    "start_time": "2025-04-12T17:22:51.399Z"
   },
   {
    "duration": 199,
    "start_time": "2025-04-12T17:22:51.414Z"
   },
   {
    "duration": 5,
    "start_time": "2025-04-12T17:22:51.615Z"
   },
   {
    "duration": 299,
    "start_time": "2025-04-12T17:22:51.621Z"
   },
   {
    "duration": 209,
    "start_time": "2025-04-12T17:22:51.922Z"
   },
   {
    "duration": 323,
    "start_time": "2025-04-12T17:22:52.132Z"
   },
   {
    "duration": 140,
    "start_time": "2025-04-12T17:22:52.457Z"
   },
   {
    "duration": 9,
    "start_time": "2025-04-12T17:22:52.600Z"
   },
   {
    "duration": 12,
    "start_time": "2025-04-12T17:22:52.611Z"
   },
   {
    "duration": 209,
    "start_time": "2025-04-12T17:22:52.636Z"
   },
   {
    "duration": 15,
    "start_time": "2025-04-12T17:22:52.846Z"
   },
   {
    "duration": 303,
    "start_time": "2025-04-12T17:22:52.862Z"
   },
   {
    "duration": 12,
    "start_time": "2025-04-12T17:22:53.168Z"
   },
   {
    "duration": 141,
    "start_time": "2025-04-12T17:22:53.184Z"
   },
   {
    "duration": 12,
    "start_time": "2025-04-12T17:22:53.326Z"
   },
   {
    "duration": 221,
    "start_time": "2025-04-12T17:22:53.340Z"
   },
   {
    "duration": 4,
    "start_time": "2025-04-12T17:22:53.563Z"
   },
   {
    "duration": 151,
    "start_time": "2025-04-12T17:22:53.569Z"
   },
   {
    "duration": 39,
    "start_time": "2025-04-12T17:22:53.722Z"
   },
   {
    "duration": 4,
    "start_time": "2025-04-12T17:22:53.763Z"
   },
   {
    "duration": 8,
    "start_time": "2025-04-12T17:22:53.768Z"
   },
   {
    "duration": 9,
    "start_time": "2025-04-12T17:22:53.778Z"
   },
   {
    "duration": 12,
    "start_time": "2025-04-12T17:22:53.789Z"
   },
   {
    "duration": 57,
    "start_time": "2025-04-12T17:22:53.803Z"
   },
   {
    "duration": 3,
    "start_time": "2025-04-12T17:22:53.862Z"
   },
   {
    "duration": 10,
    "start_time": "2025-04-12T17:22:53.867Z"
   },
   {
    "duration": 3,
    "start_time": "2025-04-12T17:23:19.290Z"
   },
   {
    "duration": 22,
    "start_time": "2025-04-12T17:23:26.411Z"
   },
   {
    "duration": 3,
    "start_time": "2025-04-12T17:23:29.929Z"
   },
   {
    "duration": 26,
    "start_time": "2025-04-12T17:23:30.863Z"
   },
   {
    "duration": 12,
    "start_time": "2025-04-12T17:23:59.697Z"
   },
   {
    "duration": 14,
    "start_time": "2025-04-12T17:24:10.457Z"
   },
   {
    "duration": 417,
    "start_time": "2025-04-12T17:29:50.734Z"
   },
   {
    "duration": 3,
    "start_time": "2025-04-12T17:29:51.152Z"
   },
   {
    "duration": 49,
    "start_time": "2025-04-12T17:29:51.156Z"
   },
   {
    "duration": 15,
    "start_time": "2025-04-12T17:29:51.208Z"
   },
   {
    "duration": 197,
    "start_time": "2025-04-12T17:29:51.225Z"
   },
   {
    "duration": 51,
    "start_time": "2025-04-12T17:29:51.424Z"
   },
   {
    "duration": 889,
    "start_time": "2025-04-12T17:29:51.477Z"
   },
   {
    "duration": 53,
    "start_time": "2025-04-12T17:29:52.368Z"
   },
   {
    "duration": 9,
    "start_time": "2025-04-12T17:29:52.423Z"
   },
   {
    "duration": 12,
    "start_time": "2025-04-12T17:29:52.435Z"
   },
   {
    "duration": 31,
    "start_time": "2025-04-12T17:29:52.449Z"
   },
   {
    "duration": 11,
    "start_time": "2025-04-12T17:29:52.482Z"
   },
   {
    "duration": 29,
    "start_time": "2025-04-12T17:29:52.495Z"
   },
   {
    "duration": 35,
    "start_time": "2025-04-12T17:29:52.526Z"
   },
   {
    "duration": 6,
    "start_time": "2025-04-12T17:29:52.563Z"
   },
   {
    "duration": 196,
    "start_time": "2025-04-12T17:29:52.570Z"
   },
   {
    "duration": 5,
    "start_time": "2025-04-12T17:29:52.768Z"
   },
   {
    "duration": 313,
    "start_time": "2025-04-12T17:29:52.775Z"
   },
   {
    "duration": 231,
    "start_time": "2025-04-12T17:29:53.089Z"
   },
   {
    "duration": 345,
    "start_time": "2025-04-12T17:29:53.322Z"
   },
   {
    "duration": 147,
    "start_time": "2025-04-12T17:29:53.669Z"
   },
   {
    "duration": 24,
    "start_time": "2025-04-12T17:29:53.818Z"
   },
   {
    "duration": 6,
    "start_time": "2025-04-12T17:29:53.843Z"
   },
   {
    "duration": 213,
    "start_time": "2025-04-12T17:29:53.851Z"
   },
   {
    "duration": 14,
    "start_time": "2025-04-12T17:29:54.066Z"
   },
   {
    "duration": 297,
    "start_time": "2025-04-12T17:29:54.082Z"
   },
   {
    "duration": 15,
    "start_time": "2025-04-12T17:29:54.381Z"
   },
   {
    "duration": 161,
    "start_time": "2025-04-12T17:29:54.402Z"
   },
   {
    "duration": 4,
    "start_time": "2025-04-12T17:29:54.565Z"
   },
   {
    "duration": 158,
    "start_time": "2025-04-12T17:29:54.571Z"
   },
   {
    "duration": 9,
    "start_time": "2025-04-12T17:29:54.730Z"
   },
   {
    "duration": 157,
    "start_time": "2025-04-12T17:29:54.740Z"
   },
   {
    "duration": 26,
    "start_time": "2025-04-12T17:29:54.898Z"
   },
   {
    "duration": 12,
    "start_time": "2025-04-12T17:29:54.926Z"
   },
   {
    "duration": 35,
    "start_time": "2025-04-12T17:29:54.940Z"
   },
   {
    "duration": 10,
    "start_time": "2025-04-12T17:29:54.976Z"
   },
   {
    "duration": 13,
    "start_time": "2025-04-12T17:29:54.988Z"
   },
   {
    "duration": 65,
    "start_time": "2025-04-12T17:29:55.002Z"
   },
   {
    "duration": 12,
    "start_time": "2025-04-12T17:29:55.069Z"
   },
   {
    "duration": 14,
    "start_time": "2025-04-12T17:29:55.082Z"
   },
   {
    "duration": 480,
    "start_time": "2025-04-15T18:39:56.957Z"
   },
   {
    "duration": 3,
    "start_time": "2025-04-15T18:39:57.439Z"
   },
   {
    "duration": 32,
    "start_time": "2025-04-15T18:39:57.444Z"
   },
   {
    "duration": 13,
    "start_time": "2025-04-15T18:39:57.478Z"
   },
   {
    "duration": 22,
    "start_time": "2025-04-15T18:39:57.495Z"
   },
   {
    "duration": 26,
    "start_time": "2025-04-15T18:39:57.519Z"
   },
   {
    "duration": 1027,
    "start_time": "2025-04-15T18:39:57.547Z"
   },
   {
    "duration": 51,
    "start_time": "2025-04-15T18:39:58.576Z"
   },
   {
    "duration": 11,
    "start_time": "2025-04-15T18:39:58.629Z"
   },
   {
    "duration": 13,
    "start_time": "2025-04-15T18:39:58.642Z"
   },
   {
    "duration": 11,
    "start_time": "2025-04-15T18:39:58.657Z"
   },
   {
    "duration": 12,
    "start_time": "2025-04-15T18:39:58.671Z"
   },
   {
    "duration": 16,
    "start_time": "2025-04-15T18:39:58.685Z"
   },
   {
    "duration": 12,
    "start_time": "2025-04-15T18:39:58.705Z"
   },
   {
    "duration": 6,
    "start_time": "2025-04-15T18:39:58.719Z"
   },
   {
    "duration": 267,
    "start_time": "2025-04-15T18:39:58.727Z"
   },
   {
    "duration": 7,
    "start_time": "2025-04-15T18:39:58.996Z"
   },
   {
    "duration": 374,
    "start_time": "2025-04-15T18:39:59.005Z"
   },
   {
    "duration": 260,
    "start_time": "2025-04-15T18:39:59.381Z"
   },
   {
    "duration": 395,
    "start_time": "2025-04-15T18:39:59.642Z"
   },
   {
    "duration": 162,
    "start_time": "2025-04-15T18:40:00.039Z"
   },
   {
    "duration": 14,
    "start_time": "2025-04-15T18:40:00.203Z"
   },
   {
    "duration": 28,
    "start_time": "2025-04-15T18:40:00.218Z"
   },
   {
    "duration": 247,
    "start_time": "2025-04-15T18:40:00.248Z"
   },
   {
    "duration": 15,
    "start_time": "2025-04-15T18:40:00.497Z"
   },
   {
    "duration": 340,
    "start_time": "2025-04-15T18:40:00.514Z"
   },
   {
    "duration": 25,
    "start_time": "2025-04-15T18:40:00.856Z"
   },
   {
    "duration": 177,
    "start_time": "2025-04-15T18:40:00.883Z"
   },
   {
    "duration": 11,
    "start_time": "2025-04-15T18:40:01.063Z"
   },
   {
    "duration": 210,
    "start_time": "2025-04-15T18:40:01.076Z"
   },
   {
    "duration": 5,
    "start_time": "2025-04-15T18:40:01.288Z"
   },
   {
    "duration": 180,
    "start_time": "2025-04-15T18:40:01.294Z"
   },
   {
    "duration": 28,
    "start_time": "2025-04-15T18:40:01.477Z"
   },
   {
    "duration": 5,
    "start_time": "2025-04-15T18:40:01.507Z"
   },
   {
    "duration": 17,
    "start_time": "2025-04-15T18:40:01.514Z"
   },
   {
    "duration": 18,
    "start_time": "2025-04-15T18:40:01.533Z"
   },
   {
    "duration": 19,
    "start_time": "2025-04-15T18:40:01.569Z"
   },
   {
    "duration": 38,
    "start_time": "2025-04-15T18:40:01.590Z"
   },
   {
    "duration": 6,
    "start_time": "2025-04-15T18:40:01.630Z"
   },
   {
    "duration": 18,
    "start_time": "2025-04-15T18:40:01.670Z"
   },
   {
    "duration": 7,
    "start_time": "2025-04-15T18:40:02.217Z"
   },
   {
    "duration": 193,
    "start_time": "2025-04-15T18:40:21.539Z"
   },
   {
    "duration": 215,
    "start_time": "2025-04-15T18:40:27.539Z"
   },
   {
    "duration": 196,
    "start_time": "2025-04-15T18:40:31.762Z"
   },
   {
    "duration": 189,
    "start_time": "2025-04-15T18:40:34.407Z"
   },
   {
    "duration": 198,
    "start_time": "2025-04-15T18:40:37.282Z"
   }
  ],
  "kernelspec": {
   "display_name": "Python 3 (ipykernel)",
   "language": "python",
   "name": "python3"
  },
  "language_info": {
   "codemirror_mode": {
    "name": "ipython",
    "version": 3
   },
   "file_extension": ".py",
   "mimetype": "text/x-python",
   "name": "python",
   "nbconvert_exporter": "python",
   "pygments_lexer": "ipython3",
   "version": "3.9.5"
  },
  "toc": {
   "base_numbering": 1,
   "nav_menu": {},
   "number_sections": true,
   "sideBar": true,
   "skip_h1_title": true,
   "title_cell": "Table of Contents",
   "title_sidebar": "Contents",
   "toc_cell": false,
   "toc_position": {},
   "toc_section_display": true,
   "toc_window_display": false
  }
 },
 "nbformat": 4,
 "nbformat_minor": 2
}
