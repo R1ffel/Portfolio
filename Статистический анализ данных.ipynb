{
 "cells": [
  {
   "cell_type": "markdown",
   "id": "1b0eeb3b",
   "metadata": {},
   "source": [
    "# Статистический анализ данных"
   ]
  },
  {
   "cell_type": "markdown",
   "id": "2e233ff8",
   "metadata": {},
   "source": [
    "Сервис аренды самокатов GoFast передал данные о некоторых пользователях из разных городов, а также об их поездках. В ходе исследования изучим данные, проанализируем их и проверим некоторые гипотезы, которые помогут бизнесу вырасти.\n",
    "\n",
    "Чтобы совершать поездки по городу, пользователи сервиса GoFast пользуются мобильным приложением. Сервисом можно пользоваться:\n",
    "\n",
    "без подписки\n",
    "- абонентская плата отсутствует;\n",
    "- стоимость одной минуты поездки — 8 рублей;\n",
    "- стоимость старта (начала поездки) — 50 рублей;\n",
    "\n",
    "с подпиской Ultra\n",
    "- абонентская плата — 199 рублей в месяц;\n",
    "- стоимость одной минуты поездки — 6 рублей;\n",
    "- стоимость старта — бесплатно."
   ]
  },
  {
   "cell_type": "code",
   "execution_count": 1,
   "id": "72576667",
   "metadata": {},
   "outputs": [],
   "source": [
    "import pandas as pd\n",
    "import matplotlib.pyplot as plt\n",
    "import numpy as np\n",
    "import scipy.stats as st"
   ]
  },
  {
   "cell_type": "markdown",
   "id": "c42cbe00",
   "metadata": {},
   "source": [
    "## Загрузка данных"
   ]
  },
  {
   "cell_type": "markdown",
   "id": "f4d794d2",
   "metadata": {},
   "source": [
    "Загрузим данные и проверим типы данных."
   ]
  },
  {
   "cell_type": "code",
   "execution_count": 2,
   "id": "eff9f206",
   "metadata": {},
   "outputs": [],
   "source": [
    "users = pd.read_csv('/datasets/users_go.csv')\n",
    "rides = pd.read_csv('/datasets/rides_go.csv')\n",
    "subscriptions = pd.read_csv('/datasets/subscriptions_go.csv')"
   ]
  },
  {
   "cell_type": "code",
   "execution_count": 3,
   "id": "ea470b8d",
   "metadata": {},
   "outputs": [
    {
     "name": "stdout",
     "output_type": "stream",
     "text": [
      "<class 'pandas.core.frame.DataFrame'>\n",
      "RangeIndex: 1565 entries, 0 to 1564\n",
      "Data columns (total 5 columns):\n",
      " #   Column             Non-Null Count  Dtype \n",
      "---  ------             --------------  ----- \n",
      " 0   user_id            1565 non-null   int64 \n",
      " 1   name               1565 non-null   object\n",
      " 2   age                1565 non-null   int64 \n",
      " 3   city               1565 non-null   object\n",
      " 4   subscription_type  1565 non-null   object\n",
      "dtypes: int64(2), object(3)\n",
      "memory usage: 61.3+ KB\n"
     ]
    },
    {
     "data": {
      "text/html": [
       "<div>\n",
       "<style scoped>\n",
       "    .dataframe tbody tr th:only-of-type {\n",
       "        vertical-align: middle;\n",
       "    }\n",
       "\n",
       "    .dataframe tbody tr th {\n",
       "        vertical-align: top;\n",
       "    }\n",
       "\n",
       "    .dataframe thead th {\n",
       "        text-align: right;\n",
       "    }\n",
       "</style>\n",
       "<table border=\"1\" class=\"dataframe\">\n",
       "  <thead>\n",
       "    <tr style=\"text-align: right;\">\n",
       "      <th></th>\n",
       "      <th>user_id</th>\n",
       "      <th>name</th>\n",
       "      <th>age</th>\n",
       "      <th>city</th>\n",
       "      <th>subscription_type</th>\n",
       "    </tr>\n",
       "  </thead>\n",
       "  <tbody>\n",
       "    <tr>\n",
       "      <th>0</th>\n",
       "      <td>1</td>\n",
       "      <td>Кира</td>\n",
       "      <td>22</td>\n",
       "      <td>Тюмень</td>\n",
       "      <td>ultra</td>\n",
       "    </tr>\n",
       "    <tr>\n",
       "      <th>1</th>\n",
       "      <td>2</td>\n",
       "      <td>Станислав</td>\n",
       "      <td>31</td>\n",
       "      <td>Омск</td>\n",
       "      <td>ultra</td>\n",
       "    </tr>\n",
       "    <tr>\n",
       "      <th>2</th>\n",
       "      <td>3</td>\n",
       "      <td>Алексей</td>\n",
       "      <td>20</td>\n",
       "      <td>Москва</td>\n",
       "      <td>ultra</td>\n",
       "    </tr>\n",
       "    <tr>\n",
       "      <th>3</th>\n",
       "      <td>4</td>\n",
       "      <td>Константин</td>\n",
       "      <td>26</td>\n",
       "      <td>Ростов-на-Дону</td>\n",
       "      <td>ultra</td>\n",
       "    </tr>\n",
       "    <tr>\n",
       "      <th>4</th>\n",
       "      <td>5</td>\n",
       "      <td>Адель</td>\n",
       "      <td>28</td>\n",
       "      <td>Омск</td>\n",
       "      <td>ultra</td>\n",
       "    </tr>\n",
       "  </tbody>\n",
       "</table>\n",
       "</div>"
      ],
      "text/plain": [
       "   user_id        name  age            city subscription_type\n",
       "0        1        Кира   22          Тюмень             ultra\n",
       "1        2   Станислав   31            Омск             ultra\n",
       "2        3     Алексей   20          Москва             ultra\n",
       "3        4  Константин   26  Ростов-на-Дону             ultra\n",
       "4        5       Адель   28            Омск             ultra"
      ]
     },
     "execution_count": 3,
     "metadata": {},
     "output_type": "execute_result"
    }
   ],
   "source": [
    "users.info()\n",
    "users.head()"
   ]
  },
  {
   "cell_type": "markdown",
   "id": "7571869a",
   "metadata": {},
   "source": [
    "В таблице users с типами данных всё в порядке."
   ]
  },
  {
   "cell_type": "code",
   "execution_count": 4,
   "id": "725ad37f",
   "metadata": {},
   "outputs": [
    {
     "name": "stdout",
     "output_type": "stream",
     "text": [
      "<class 'pandas.core.frame.DataFrame'>\n",
      "RangeIndex: 18068 entries, 0 to 18067\n",
      "Data columns (total 4 columns):\n",
      " #   Column    Non-Null Count  Dtype  \n",
      "---  ------    --------------  -----  \n",
      " 0   user_id   18068 non-null  int64  \n",
      " 1   distance  18068 non-null  float64\n",
      " 2   duration  18068 non-null  float64\n",
      " 3   date      18068 non-null  object \n",
      "dtypes: float64(2), int64(1), object(1)\n",
      "memory usage: 564.8+ KB\n"
     ]
    },
    {
     "data": {
      "text/html": [
       "<div>\n",
       "<style scoped>\n",
       "    .dataframe tbody tr th:only-of-type {\n",
       "        vertical-align: middle;\n",
       "    }\n",
       "\n",
       "    .dataframe tbody tr th {\n",
       "        vertical-align: top;\n",
       "    }\n",
       "\n",
       "    .dataframe thead th {\n",
       "        text-align: right;\n",
       "    }\n",
       "</style>\n",
       "<table border=\"1\" class=\"dataframe\">\n",
       "  <thead>\n",
       "    <tr style=\"text-align: right;\">\n",
       "      <th></th>\n",
       "      <th>user_id</th>\n",
       "      <th>distance</th>\n",
       "      <th>duration</th>\n",
       "      <th>date</th>\n",
       "    </tr>\n",
       "  </thead>\n",
       "  <tbody>\n",
       "    <tr>\n",
       "      <th>0</th>\n",
       "      <td>1</td>\n",
       "      <td>4409.919140</td>\n",
       "      <td>25.599769</td>\n",
       "      <td>2021-01-01</td>\n",
       "    </tr>\n",
       "    <tr>\n",
       "      <th>1</th>\n",
       "      <td>1</td>\n",
       "      <td>2617.592153</td>\n",
       "      <td>15.816871</td>\n",
       "      <td>2021-01-18</td>\n",
       "    </tr>\n",
       "    <tr>\n",
       "      <th>2</th>\n",
       "      <td>1</td>\n",
       "      <td>754.159807</td>\n",
       "      <td>6.232113</td>\n",
       "      <td>2021-04-20</td>\n",
       "    </tr>\n",
       "    <tr>\n",
       "      <th>3</th>\n",
       "      <td>1</td>\n",
       "      <td>2694.783254</td>\n",
       "      <td>18.511000</td>\n",
       "      <td>2021-08-11</td>\n",
       "    </tr>\n",
       "    <tr>\n",
       "      <th>4</th>\n",
       "      <td>1</td>\n",
       "      <td>4028.687306</td>\n",
       "      <td>26.265803</td>\n",
       "      <td>2021-08-28</td>\n",
       "    </tr>\n",
       "  </tbody>\n",
       "</table>\n",
       "</div>"
      ],
      "text/plain": [
       "   user_id     distance   duration        date\n",
       "0        1  4409.919140  25.599769  2021-01-01\n",
       "1        1  2617.592153  15.816871  2021-01-18\n",
       "2        1   754.159807   6.232113  2021-04-20\n",
       "3        1  2694.783254  18.511000  2021-08-11\n",
       "4        1  4028.687306  26.265803  2021-08-28"
      ]
     },
     "execution_count": 4,
     "metadata": {},
     "output_type": "execute_result"
    }
   ],
   "source": [
    "rides.info()\n",
    "rides.head()"
   ]
  },
  {
   "cell_type": "markdown",
   "id": "8626de45",
   "metadata": {},
   "source": [
    "В таблице rides необходимо изменить тип данных в столбце date."
   ]
  },
  {
   "cell_type": "code",
   "execution_count": 5,
   "id": "1751bc91",
   "metadata": {},
   "outputs": [
    {
     "name": "stdout",
     "output_type": "stream",
     "text": [
      "<class 'pandas.core.frame.DataFrame'>\n",
      "RangeIndex: 2 entries, 0 to 1\n",
      "Data columns (total 4 columns):\n",
      " #   Column             Non-Null Count  Dtype \n",
      "---  ------             --------------  ----- \n",
      " 0   subscription_type  2 non-null      object\n",
      " 1   minute_price       2 non-null      int64 \n",
      " 2   start_ride_price   2 non-null      int64 \n",
      " 3   subscription_fee   2 non-null      int64 \n",
      "dtypes: int64(3), object(1)\n",
      "memory usage: 192.0+ bytes\n"
     ]
    },
    {
     "data": {
      "text/html": [
       "<div>\n",
       "<style scoped>\n",
       "    .dataframe tbody tr th:only-of-type {\n",
       "        vertical-align: middle;\n",
       "    }\n",
       "\n",
       "    .dataframe tbody tr th {\n",
       "        vertical-align: top;\n",
       "    }\n",
       "\n",
       "    .dataframe thead th {\n",
       "        text-align: right;\n",
       "    }\n",
       "</style>\n",
       "<table border=\"1\" class=\"dataframe\">\n",
       "  <thead>\n",
       "    <tr style=\"text-align: right;\">\n",
       "      <th></th>\n",
       "      <th>subscription_type</th>\n",
       "      <th>minute_price</th>\n",
       "      <th>start_ride_price</th>\n",
       "      <th>subscription_fee</th>\n",
       "    </tr>\n",
       "  </thead>\n",
       "  <tbody>\n",
       "    <tr>\n",
       "      <th>0</th>\n",
       "      <td>free</td>\n",
       "      <td>8</td>\n",
       "      <td>50</td>\n",
       "      <td>0</td>\n",
       "    </tr>\n",
       "    <tr>\n",
       "      <th>1</th>\n",
       "      <td>ultra</td>\n",
       "      <td>6</td>\n",
       "      <td>0</td>\n",
       "      <td>199</td>\n",
       "    </tr>\n",
       "  </tbody>\n",
       "</table>\n",
       "</div>"
      ],
      "text/plain": [
       "  subscription_type  minute_price  start_ride_price  subscription_fee\n",
       "0              free             8                50                 0\n",
       "1             ultra             6                 0               199"
      ]
     },
     "execution_count": 5,
     "metadata": {},
     "output_type": "execute_result"
    }
   ],
   "source": [
    "subscriptions.info()\n",
    "subscriptions.head()"
   ]
  },
  {
   "cell_type": "markdown",
   "id": "25bdaf63",
   "metadata": {},
   "source": [
    "В таблице subscriptions с типами данных всё в порядке."
   ]
  },
  {
   "cell_type": "markdown",
   "id": "571d5be2",
   "metadata": {},
   "source": [
    "Ознакомились с данными и выявили проблемы с типами данных. Переходим к предобработке."
   ]
  },
  {
   "cell_type": "markdown",
   "id": "e95ebca7",
   "metadata": {},
   "source": [
    "## Предобработка данных"
   ]
  },
  {
   "cell_type": "markdown",
   "id": "25fa1df3",
   "metadata": {},
   "source": [
    "Для начала приведем столбец date в таблице rides к типу даты."
   ]
  },
  {
   "cell_type": "code",
   "execution_count": 6,
   "id": "e52c898f",
   "metadata": {},
   "outputs": [
    {
     "name": "stdout",
     "output_type": "stream",
     "text": [
      "<class 'pandas.core.frame.DataFrame'>\n",
      "RangeIndex: 18068 entries, 0 to 18067\n",
      "Data columns (total 4 columns):\n",
      " #   Column    Non-Null Count  Dtype         \n",
      "---  ------    --------------  -----         \n",
      " 0   user_id   18068 non-null  int64         \n",
      " 1   distance  18068 non-null  float64       \n",
      " 2   duration  18068 non-null  float64       \n",
      " 3   date      18068 non-null  datetime64[ns]\n",
      "dtypes: datetime64[ns](1), float64(2), int64(1)\n",
      "memory usage: 564.8 KB\n"
     ]
    }
   ],
   "source": [
    "rides['date'] = pd.to_datetime(rides['date'])\n",
    "rides.info()"
   ]
  },
  {
   "cell_type": "markdown",
   "id": "118e3475",
   "metadata": {},
   "source": [
    "Проверим минимальную и максимальную дату."
   ]
  },
  {
   "cell_type": "code",
   "execution_count": 7,
   "id": "b13e8a8d",
   "metadata": {},
   "outputs": [
    {
     "name": "stdout",
     "output_type": "stream",
     "text": [
      "Минимальная дата: 2021-01-01 00:00:00\n",
      "Максимальная дата: 2021-12-30 00:00:00\n"
     ]
    }
   ],
   "source": [
    "print('Минимальная дата:', rides['date'].min())\n",
    "print('Максимальная дата:', rides['date'].max())"
   ]
  },
  {
   "cell_type": "markdown",
   "id": "5d8a013b",
   "metadata": {},
   "source": [
    "У нас есть данные с 1 января 2021 года по 30 декабря 2021 года.\n",
    "\n",
    "Теперь добавим столбец с номером месяца. "
   ]
  },
  {
   "cell_type": "code",
   "execution_count": 8,
   "id": "931e886c",
   "metadata": {},
   "outputs": [
    {
     "data": {
      "text/html": [
       "<div>\n",
       "<style scoped>\n",
       "    .dataframe tbody tr th:only-of-type {\n",
       "        vertical-align: middle;\n",
       "    }\n",
       "\n",
       "    .dataframe tbody tr th {\n",
       "        vertical-align: top;\n",
       "    }\n",
       "\n",
       "    .dataframe thead th {\n",
       "        text-align: right;\n",
       "    }\n",
       "</style>\n",
       "<table border=\"1\" class=\"dataframe\">\n",
       "  <thead>\n",
       "    <tr style=\"text-align: right;\">\n",
       "      <th></th>\n",
       "      <th>user_id</th>\n",
       "      <th>distance</th>\n",
       "      <th>duration</th>\n",
       "      <th>date</th>\n",
       "      <th>month</th>\n",
       "    </tr>\n",
       "  </thead>\n",
       "  <tbody>\n",
       "    <tr>\n",
       "      <th>0</th>\n",
       "      <td>1</td>\n",
       "      <td>4409.919140</td>\n",
       "      <td>25.599769</td>\n",
       "      <td>2021-01-01</td>\n",
       "      <td>1</td>\n",
       "    </tr>\n",
       "    <tr>\n",
       "      <th>1</th>\n",
       "      <td>1</td>\n",
       "      <td>2617.592153</td>\n",
       "      <td>15.816871</td>\n",
       "      <td>2021-01-18</td>\n",
       "      <td>1</td>\n",
       "    </tr>\n",
       "    <tr>\n",
       "      <th>2</th>\n",
       "      <td>1</td>\n",
       "      <td>754.159807</td>\n",
       "      <td>6.232113</td>\n",
       "      <td>2021-04-20</td>\n",
       "      <td>4</td>\n",
       "    </tr>\n",
       "    <tr>\n",
       "      <th>3</th>\n",
       "      <td>1</td>\n",
       "      <td>2694.783254</td>\n",
       "      <td>18.511000</td>\n",
       "      <td>2021-08-11</td>\n",
       "      <td>8</td>\n",
       "    </tr>\n",
       "    <tr>\n",
       "      <th>4</th>\n",
       "      <td>1</td>\n",
       "      <td>4028.687306</td>\n",
       "      <td>26.265803</td>\n",
       "      <td>2021-08-28</td>\n",
       "      <td>8</td>\n",
       "    </tr>\n",
       "  </tbody>\n",
       "</table>\n",
       "</div>"
      ],
      "text/plain": [
       "   user_id     distance   duration       date  month\n",
       "0        1  4409.919140  25.599769 2021-01-01      1\n",
       "1        1  2617.592153  15.816871 2021-01-18      1\n",
       "2        1   754.159807   6.232113 2021-04-20      4\n",
       "3        1  2694.783254  18.511000 2021-08-11      8\n",
       "4        1  4028.687306  26.265803 2021-08-28      8"
      ]
     },
     "execution_count": 8,
     "metadata": {},
     "output_type": "execute_result"
    }
   ],
   "source": [
    "rides['month'] = rides['date'].dt.month\n",
    "rides.head()"
   ]
  },
  {
   "cell_type": "markdown",
   "id": "6e0c53d4",
   "metadata": {},
   "source": [
    "Проверим пропуски и дубликаты во всех таблицах."
   ]
  },
  {
   "cell_type": "code",
   "execution_count": 9,
   "id": "ae163542",
   "metadata": {},
   "outputs": [
    {
     "data": {
      "text/plain": [
       "31"
      ]
     },
     "execution_count": 9,
     "metadata": {},
     "output_type": "execute_result"
    }
   ],
   "source": [
    "users.duplicated().sum()"
   ]
  },
  {
   "cell_type": "code",
   "execution_count": 10,
   "id": "ed9bd72c",
   "metadata": {},
   "outputs": [
    {
     "data": {
      "text/plain": [
       "31"
      ]
     },
     "execution_count": 10,
     "metadata": {},
     "output_type": "execute_result"
    }
   ],
   "source": [
    "users['user_id'].duplicated().sum()"
   ]
  },
  {
   "cell_type": "markdown",
   "id": "978477c2",
   "metadata": {},
   "source": [
    "В таблице users 31 полный дубликат и 31 повторяющихся значений в user_id, что значит что дубликатов всего 31. Удалим их."
   ]
  },
  {
   "cell_type": "code",
   "execution_count": 11,
   "id": "6e41e1b3",
   "metadata": {},
   "outputs": [
    {
     "data": {
      "text/plain": [
       "0"
      ]
     },
     "execution_count": 11,
     "metadata": {},
     "output_type": "execute_result"
    }
   ],
   "source": [
    "users = users.drop_duplicates()\n",
    "users.duplicated().sum()"
   ]
  },
  {
   "cell_type": "code",
   "execution_count": 12,
   "id": "3d9e438a",
   "metadata": {},
   "outputs": [
    {
     "name": "stdout",
     "output_type": "stream",
     "text": [
      "<class 'pandas.core.frame.DataFrame'>\n",
      "Int64Index: 1534 entries, 0 to 1533\n",
      "Data columns (total 5 columns):\n",
      " #   Column             Non-Null Count  Dtype \n",
      "---  ------             --------------  ----- \n",
      " 0   user_id            1534 non-null   int64 \n",
      " 1   name               1534 non-null   object\n",
      " 2   age                1534 non-null   int64 \n",
      " 3   city               1534 non-null   object\n",
      " 4   subscription_type  1534 non-null   object\n",
      "dtypes: int64(2), object(3)\n",
      "memory usage: 71.9+ KB\n"
     ]
    }
   ],
   "source": [
    "users.info()"
   ]
  },
  {
   "cell_type": "code",
   "execution_count": 13,
   "id": "896da5b0",
   "metadata": {},
   "outputs": [
    {
     "data": {
      "text/plain": [
       "free     835\n",
       "ultra    699\n",
       "Name: subscription_type, dtype: int64"
      ]
     },
     "execution_count": 13,
     "metadata": {},
     "output_type": "execute_result"
    }
   ],
   "source": [
    "users['subscription_type'].value_counts()"
   ]
  },
  {
   "cell_type": "markdown",
   "id": "7e067952",
   "metadata": {},
   "source": [
    "В таблице users было 31 дубликат и 0 пропусков, переходим к таблице rides."
   ]
  },
  {
   "cell_type": "code",
   "execution_count": 14,
   "id": "2e5d53ec",
   "metadata": {},
   "outputs": [
    {
     "data": {
      "text/plain": [
       "0"
      ]
     },
     "execution_count": 14,
     "metadata": {},
     "output_type": "execute_result"
    }
   ],
   "source": [
    "rides.duplicated().sum()"
   ]
  },
  {
   "cell_type": "code",
   "execution_count": 15,
   "id": "25e1cd29",
   "metadata": {},
   "outputs": [
    {
     "name": "stdout",
     "output_type": "stream",
     "text": [
      "<class 'pandas.core.frame.DataFrame'>\n",
      "RangeIndex: 18068 entries, 0 to 18067\n",
      "Data columns (total 5 columns):\n",
      " #   Column    Non-Null Count  Dtype         \n",
      "---  ------    --------------  -----         \n",
      " 0   user_id   18068 non-null  int64         \n",
      " 1   distance  18068 non-null  float64       \n",
      " 2   duration  18068 non-null  float64       \n",
      " 3   date      18068 non-null  datetime64[ns]\n",
      " 4   month     18068 non-null  int64         \n",
      "dtypes: datetime64[ns](1), float64(2), int64(2)\n",
      "memory usage: 705.9 KB\n"
     ]
    }
   ],
   "source": [
    "rides.info()"
   ]
  },
  {
   "cell_type": "markdown",
   "id": "d7582f68",
   "metadata": {},
   "source": [
    "В таблице rides нет ни дубликатов, ни пропусков. Переходим к таблице subscriptions."
   ]
  },
  {
   "cell_type": "code",
   "execution_count": 16,
   "id": "8339b6b0",
   "metadata": {},
   "outputs": [
    {
     "data": {
      "text/html": [
       "<div>\n",
       "<style scoped>\n",
       "    .dataframe tbody tr th:only-of-type {\n",
       "        vertical-align: middle;\n",
       "    }\n",
       "\n",
       "    .dataframe tbody tr th {\n",
       "        vertical-align: top;\n",
       "    }\n",
       "\n",
       "    .dataframe thead th {\n",
       "        text-align: right;\n",
       "    }\n",
       "</style>\n",
       "<table border=\"1\" class=\"dataframe\">\n",
       "  <thead>\n",
       "    <tr style=\"text-align: right;\">\n",
       "      <th></th>\n",
       "      <th>subscription_type</th>\n",
       "      <th>minute_price</th>\n",
       "      <th>start_ride_price</th>\n",
       "      <th>subscription_fee</th>\n",
       "    </tr>\n",
       "  </thead>\n",
       "  <tbody>\n",
       "    <tr>\n",
       "      <th>0</th>\n",
       "      <td>free</td>\n",
       "      <td>8</td>\n",
       "      <td>50</td>\n",
       "      <td>0</td>\n",
       "    </tr>\n",
       "    <tr>\n",
       "      <th>1</th>\n",
       "      <td>ultra</td>\n",
       "      <td>6</td>\n",
       "      <td>0</td>\n",
       "      <td>199</td>\n",
       "    </tr>\n",
       "  </tbody>\n",
       "</table>\n",
       "</div>"
      ],
      "text/plain": [
       "  subscription_type  minute_price  start_ride_price  subscription_fee\n",
       "0              free             8                50                 0\n",
       "1             ultra             6                 0               199"
      ]
     },
     "execution_count": 16,
     "metadata": {},
     "output_type": "execute_result"
    }
   ],
   "source": [
    "subscriptions"
   ]
  },
  {
   "cell_type": "markdown",
   "id": "194d2283",
   "metadata": {},
   "source": [
    "В таблице subscriptions нет ни пропусков, ни дубликатов."
   ]
  },
  {
   "cell_type": "markdown",
   "id": "3fa9d7c4",
   "metadata": {},
   "source": [
    "Данные во всех таблицах готовы к работе."
   ]
  },
  {
   "cell_type": "markdown",
   "id": "212593c7",
   "metadata": {},
   "source": [
    "## Исследовательский анализ данных"
   ]
  },
  {
   "cell_type": "markdown",
   "id": "668a3848",
   "metadata": {},
   "source": [
    "Посмотрим распределение пользователей по городам."
   ]
  },
  {
   "cell_type": "code",
   "execution_count": 17,
   "id": "e52ebfb1",
   "metadata": {},
   "outputs": [
    {
     "data": {
      "text/html": [
       "<div>\n",
       "<style scoped>\n",
       "    .dataframe tbody tr th:only-of-type {\n",
       "        vertical-align: middle;\n",
       "    }\n",
       "\n",
       "    .dataframe tbody tr th {\n",
       "        vertical-align: top;\n",
       "    }\n",
       "\n",
       "    .dataframe thead th {\n",
       "        text-align: right;\n",
       "    }\n",
       "</style>\n",
       "<table border=\"1\" class=\"dataframe\">\n",
       "  <thead>\n",
       "    <tr style=\"text-align: right;\">\n",
       "      <th></th>\n",
       "      <th>index</th>\n",
       "      <th>city</th>\n",
       "      <th>% of total</th>\n",
       "    </tr>\n",
       "  </thead>\n",
       "  <tbody>\n",
       "    <tr>\n",
       "      <th>0</th>\n",
       "      <td>Пятигорск</td>\n",
       "      <td>219</td>\n",
       "      <td>14.28</td>\n",
       "    </tr>\n",
       "    <tr>\n",
       "      <th>1</th>\n",
       "      <td>Екатеринбург</td>\n",
       "      <td>204</td>\n",
       "      <td>13.30</td>\n",
       "    </tr>\n",
       "    <tr>\n",
       "      <th>2</th>\n",
       "      <td>Ростов-на-Дону</td>\n",
       "      <td>198</td>\n",
       "      <td>12.91</td>\n",
       "    </tr>\n",
       "    <tr>\n",
       "      <th>3</th>\n",
       "      <td>Краснодар</td>\n",
       "      <td>193</td>\n",
       "      <td>12.58</td>\n",
       "    </tr>\n",
       "    <tr>\n",
       "      <th>4</th>\n",
       "      <td>Сочи</td>\n",
       "      <td>189</td>\n",
       "      <td>12.32</td>\n",
       "    </tr>\n",
       "    <tr>\n",
       "      <th>5</th>\n",
       "      <td>Омск</td>\n",
       "      <td>183</td>\n",
       "      <td>11.93</td>\n",
       "    </tr>\n",
       "    <tr>\n",
       "      <th>6</th>\n",
       "      <td>Тюмень</td>\n",
       "      <td>180</td>\n",
       "      <td>11.73</td>\n",
       "    </tr>\n",
       "    <tr>\n",
       "      <th>7</th>\n",
       "      <td>Москва</td>\n",
       "      <td>168</td>\n",
       "      <td>10.95</td>\n",
       "    </tr>\n",
       "  </tbody>\n",
       "</table>\n",
       "</div>"
      ],
      "text/plain": [
       "            index  city  % of total\n",
       "0       Пятигорск   219       14.28\n",
       "1    Екатеринбург   204       13.30\n",
       "2  Ростов-на-Дону   198       12.91\n",
       "3       Краснодар   193       12.58\n",
       "4            Сочи   189       12.32\n",
       "5            Омск   183       11.93\n",
       "6          Тюмень   180       11.73\n",
       "7          Москва   168       10.95"
      ]
     },
     "execution_count": 17,
     "metadata": {},
     "output_type": "execute_result"
    }
   ],
   "source": [
    "users_city = users['city'].value_counts().reset_index()\n",
    "users_city['% of total'] = round(users_city['city'] / users_city['city'].sum() * 100, 2)\n",
    "users_city"
   ]
  },
  {
   "cell_type": "code",
   "execution_count": 18,
   "id": "2237f124",
   "metadata": {},
   "outputs": [
    {
     "data": {
      "image/png": "[encoded data removed]",
      "text/plain": [
       "<Figure size 432x288 with 1 Axes>"
      ]
     },
     "metadata": {
      "needs_background": "light"
     },
     "output_type": "display_data"
    }
   ],
   "source": [
    "plt.bar(users_city['index'], users_city['city'])\n",
    "plt.title('Распределение пользователей по городам')\n",
    "plt.xlabel('Города')\n",
    "plt.ylabel('Количество пользователей')\n",
    "plt.xticks(rotation=30)\n",
    "plt.show()"
   ]
  },
  {
   "cell_type": "markdown",
   "id": "8bf73e98",
   "metadata": {},
   "source": [
    "Во всех городах примерно одинаково пользователей. Больше всего пользователей в Пятигорске.\n",
    "\n",
    "Теперь сравним количество пользователей с подпиской и без неё."
   ]
  },
  {
   "cell_type": "code",
   "execution_count": 19,
   "id": "1c4b8b7b",
   "metadata": {},
   "outputs": [
    {
     "data": {
      "text/html": [
       "<div>\n",
       "<style scoped>\n",
       "    .dataframe tbody tr th:only-of-type {\n",
       "        vertical-align: middle;\n",
       "    }\n",
       "\n",
       "    .dataframe tbody tr th {\n",
       "        vertical-align: top;\n",
       "    }\n",
       "\n",
       "    .dataframe thead th {\n",
       "        text-align: right;\n",
       "    }\n",
       "</style>\n",
       "<table border=\"1\" class=\"dataframe\">\n",
       "  <thead>\n",
       "    <tr style=\"text-align: right;\">\n",
       "      <th></th>\n",
       "      <th>index</th>\n",
       "      <th>subscription_type</th>\n",
       "      <th>% of total</th>\n",
       "    </tr>\n",
       "  </thead>\n",
       "  <tbody>\n",
       "    <tr>\n",
       "      <th>0</th>\n",
       "      <td>free</td>\n",
       "      <td>835</td>\n",
       "      <td>54.43</td>\n",
       "    </tr>\n",
       "    <tr>\n",
       "      <th>1</th>\n",
       "      <td>ultra</td>\n",
       "      <td>699</td>\n",
       "      <td>45.57</td>\n",
       "    </tr>\n",
       "  </tbody>\n",
       "</table>\n",
       "</div>"
      ],
      "text/plain": [
       "   index  subscription_type  % of total\n",
       "0   free                835       54.43\n",
       "1  ultra                699       45.57"
      ]
     },
     "execution_count": 19,
     "metadata": {},
     "output_type": "execute_result"
    }
   ],
   "source": [
    "users_sub = users['subscription_type'].value_counts().reset_index()\n",
    "users_sub['% of total'] = round(users_sub['subscription_type'] / users_sub['subscription_type'].sum() * 100, 2)\n",
    "users_sub"
   ]
  },
  {
   "cell_type": "code",
   "execution_count": 20,
   "id": "6ed0220b",
   "metadata": {},
   "outputs": [
    {
     "data": {
      "image/png": "[encoded data removed]",
      "text/plain": [
       "<Figure size 432x288 with 1 Axes>"
      ]
     },
     "metadata": {
      "needs_background": "light"
     },
     "output_type": "display_data"
    }
   ],
   "source": [
    "plt.bar(users_sub['index'], users_sub['subscription_type'])\n",
    "plt.title('Распределение пользователей с подпиской и без неё')\n",
    "plt.xlabel('Тип подписки')\n",
    "plt.ylabel('Количество пользователей')\n",
    "plt.show()"
   ]
  },
  {
   "cell_type": "markdown",
   "id": "3a17c887",
   "metadata": {},
   "source": [
    "Пользователей без подписки немного больше, чем пользователей с подпиской.\n",
    "\n",
    "Теперь посмотрим распределение возрастов пользователей."
   ]
  },
  {
   "cell_type": "code",
   "execution_count": 21,
   "id": "35334c9c",
   "metadata": {},
   "outputs": [
    {
     "name": "stdout",
     "output_type": "stream",
     "text": [
      "Минимальный возраст -  664    12\n",
      "Name: age, dtype: int64\n",
      "Максимальный возраст - 1201    43\n",
      "Name: age, dtype: int64\n"
     ]
    }
   ],
   "source": [
    "print('Минимальный возраст - ', users['age'].sort_values().head(1))\n",
    "print('Максимальный возраст -', users['age'].sort_values().tail(1))"
   ]
  },
  {
   "cell_type": "markdown",
   "id": "bf64989c",
   "metadata": {},
   "source": [
    "В датафрейме встречаются пользователи от 12 до 43 лет."
   ]
  },
  {
   "cell_type": "code",
   "execution_count": 22,
   "id": "c430bb65",
   "metadata": {},
   "outputs": [
    {
     "data": {
      "image/png": "[encoded data removed]",
      "text/plain": [
       "<Figure size 432x288 with 1 Axes>"
      ]
     },
     "metadata": {
      "needs_background": "light"
     },
     "output_type": "display_data"
    }
   ],
   "source": [
    "users['age'].hist(bins=10)\n",
    "plt.title('Распределение возраста пользователей')\n",
    "plt.xlabel('Возраст')\n",
    "plt.ylabel('Количество пользователей')\n",
    "plt.show()"
   ]
  },
  {
   "cell_type": "markdown",
   "id": "65753e33",
   "metadata": {},
   "source": [
    "Больше всего пользователей с возрастом 21 - 27 год.\n",
    "\n",
    "Найдем среднее расстояние поездки."
   ]
  },
  {
   "cell_type": "code",
   "execution_count": 23,
   "id": "faabf736",
   "metadata": {},
   "outputs": [
    {
     "data": {
      "text/plain": [
       "3133.6"
      ]
     },
     "execution_count": 23,
     "metadata": {},
     "output_type": "execute_result"
    }
   ],
   "source": [
    "round(rides['distance'].median(),1)"
   ]
  },
  {
   "cell_type": "code",
   "execution_count": 24,
   "id": "df76c6b5",
   "metadata": {},
   "outputs": [
    {
     "data": {
      "image/png": "[encoded data removed]",
      "text/plain": [
       "<Figure size 432x288 with 1 Axes>"
      ]
     },
     "metadata": {
      "needs_background": "light"
     },
     "output_type": "display_data"
    }
   ],
   "source": [
    "rides['distance'].hist(bins=20)\n",
    "plt.title('Распределение расстояния поездки')\n",
    "plt.xlabel('Расстояние поездки')\n",
    "plt.ylabel('Количество поездок')\n",
    "plt.show()"
   ]
  },
  {
   "cell_type": "markdown",
   "id": "249996ea",
   "metadata": {},
   "source": [
    "Больше всего поездок с длиной 2.5 - 3.5 км. Среднее расстояние поездки 3 км 133.6 метра.\n",
    "\n",
    "Найдем среднюю продолжительность поездки."
   ]
  },
  {
   "cell_type": "code",
   "execution_count": 25,
   "id": "38bbd491",
   "metadata": {},
   "outputs": [
    {
     "data": {
      "text/plain": [
       "17.7"
      ]
     },
     "execution_count": 25,
     "metadata": {},
     "output_type": "execute_result"
    }
   ],
   "source": [
    "round(rides['duration'].median(), 1)"
   ]
  },
  {
   "cell_type": "code",
   "execution_count": 26,
   "id": "0cdd7bed",
   "metadata": {},
   "outputs": [
    {
     "data": {
      "image/png": "[encoded data removed]",
      "text/plain": [
       "<Figure size 432x288 with 1 Axes>"
      ]
     },
     "metadata": {
      "needs_background": "light"
     },
     "output_type": "display_data"
    }
   ],
   "source": [
    "rides['duration'].hist()\n",
    "plt.title('Распределение длительности поездки')\n",
    "plt.xlabel('Длительность поездки')\n",
    "plt.ylabel('Количество поездок')\n",
    "plt.show()"
   ]
  },
  {
   "cell_type": "markdown",
   "id": "9db40b84",
   "metadata": {},
   "source": [
    "Больше всего поездок с продолжительностью поездки от 13 до 21 минуты. Средняя продолжительность поездки 17.7 минут."
   ]
  },
  {
   "cell_type": "markdown",
   "id": "110630cf",
   "metadata": {},
   "source": [
    "Типичная поездка - пользователь возрастом от 21 до 27 лет проезжает 2.5 - 3.5 км за 13 - 21 минуту."
   ]
  },
  {
   "cell_type": "markdown",
   "id": "4ef51331",
   "metadata": {},
   "source": [
    "## Объединение данных"
   ]
  },
  {
   "cell_type": "markdown",
   "id": "277b139b",
   "metadata": {},
   "source": [
    "Объединим датафреймы."
   ]
  },
  {
   "cell_type": "code",
   "execution_count": 27,
   "id": "7af43cab",
   "metadata": {},
   "outputs": [
    {
     "data": {
      "text/html": [
       "<div>\n",
       "<style scoped>\n",
       "    .dataframe tbody tr th:only-of-type {\n",
       "        vertical-align: middle;\n",
       "    }\n",
       "\n",
       "    .dataframe tbody tr th {\n",
       "        vertical-align: top;\n",
       "    }\n",
       "\n",
       "    .dataframe thead th {\n",
       "        text-align: right;\n",
       "    }\n",
       "</style>\n",
       "<table border=\"1\" class=\"dataframe\">\n",
       "  <thead>\n",
       "    <tr style=\"text-align: right;\">\n",
       "      <th></th>\n",
       "      <th>user_id</th>\n",
       "      <th>name</th>\n",
       "      <th>age</th>\n",
       "      <th>city</th>\n",
       "      <th>subscription_type</th>\n",
       "      <th>distance</th>\n",
       "      <th>duration</th>\n",
       "      <th>date</th>\n",
       "      <th>month</th>\n",
       "      <th>minute_price</th>\n",
       "      <th>start_ride_price</th>\n",
       "      <th>subscription_fee</th>\n",
       "    </tr>\n",
       "  </thead>\n",
       "  <tbody>\n",
       "    <tr>\n",
       "      <th>0</th>\n",
       "      <td>1</td>\n",
       "      <td>Кира</td>\n",
       "      <td>22</td>\n",
       "      <td>Тюмень</td>\n",
       "      <td>ultra</td>\n",
       "      <td>4409.919140</td>\n",
       "      <td>25.599769</td>\n",
       "      <td>2021-01-01</td>\n",
       "      <td>1</td>\n",
       "      <td>6</td>\n",
       "      <td>0</td>\n",
       "      <td>199</td>\n",
       "    </tr>\n",
       "    <tr>\n",
       "      <th>1</th>\n",
       "      <td>1</td>\n",
       "      <td>Кира</td>\n",
       "      <td>22</td>\n",
       "      <td>Тюмень</td>\n",
       "      <td>ultra</td>\n",
       "      <td>2617.592153</td>\n",
       "      <td>15.816871</td>\n",
       "      <td>2021-01-18</td>\n",
       "      <td>1</td>\n",
       "      <td>6</td>\n",
       "      <td>0</td>\n",
       "      <td>199</td>\n",
       "    </tr>\n",
       "    <tr>\n",
       "      <th>2</th>\n",
       "      <td>1</td>\n",
       "      <td>Кира</td>\n",
       "      <td>22</td>\n",
       "      <td>Тюмень</td>\n",
       "      <td>ultra</td>\n",
       "      <td>754.159807</td>\n",
       "      <td>6.232113</td>\n",
       "      <td>2021-04-20</td>\n",
       "      <td>4</td>\n",
       "      <td>6</td>\n",
       "      <td>0</td>\n",
       "      <td>199</td>\n",
       "    </tr>\n",
       "    <tr>\n",
       "      <th>3</th>\n",
       "      <td>1</td>\n",
       "      <td>Кира</td>\n",
       "      <td>22</td>\n",
       "      <td>Тюмень</td>\n",
       "      <td>ultra</td>\n",
       "      <td>2694.783254</td>\n",
       "      <td>18.511000</td>\n",
       "      <td>2021-08-11</td>\n",
       "      <td>8</td>\n",
       "      <td>6</td>\n",
       "      <td>0</td>\n",
       "      <td>199</td>\n",
       "    </tr>\n",
       "    <tr>\n",
       "      <th>4</th>\n",
       "      <td>1</td>\n",
       "      <td>Кира</td>\n",
       "      <td>22</td>\n",
       "      <td>Тюмень</td>\n",
       "      <td>ultra</td>\n",
       "      <td>4028.687306</td>\n",
       "      <td>26.265803</td>\n",
       "      <td>2021-08-28</td>\n",
       "      <td>8</td>\n",
       "      <td>6</td>\n",
       "      <td>0</td>\n",
       "      <td>199</td>\n",
       "    </tr>\n",
       "  </tbody>\n",
       "</table>\n",
       "</div>"
      ],
      "text/plain": [
       "   user_id  name  age    city subscription_type     distance   duration  \\\n",
       "0        1  Кира   22  Тюмень             ultra  4409.919140  25.599769   \n",
       "1        1  Кира   22  Тюмень             ultra  2617.592153  15.816871   \n",
       "2        1  Кира   22  Тюмень             ultra   754.159807   6.232113   \n",
       "3        1  Кира   22  Тюмень             ultra  2694.783254  18.511000   \n",
       "4        1  Кира   22  Тюмень             ultra  4028.687306  26.265803   \n",
       "\n",
       "        date  month  minute_price  start_ride_price  subscription_fee  \n",
       "0 2021-01-01      1             6                 0               199  \n",
       "1 2021-01-18      1             6                 0               199  \n",
       "2 2021-04-20      4             6                 0               199  \n",
       "3 2021-08-11      8             6                 0               199  \n",
       "4 2021-08-28      8             6                 0               199  "
      ]
     },
     "execution_count": 27,
     "metadata": {},
     "output_type": "execute_result"
    }
   ],
   "source": [
    "data = users.merge(rides, on='user_id').merge(subscriptions, on='subscription_type')\n",
    "data.head()"
   ]
  },
  {
   "cell_type": "markdown",
   "id": "15ec45a2",
   "metadata": {},
   "source": [
    "Создадим еще два датафрейма. В одном будут лежать все данные о пользователях с подпиской, в другом - без подписки."
   ]
  },
  {
   "cell_type": "code",
   "execution_count": 28,
   "id": "5cc06147",
   "metadata": {},
   "outputs": [
    {
     "data": {
      "text/html": [
       "<div>\n",
       "<style scoped>\n",
       "    .dataframe tbody tr th:only-of-type {\n",
       "        vertical-align: middle;\n",
       "    }\n",
       "\n",
       "    .dataframe tbody tr th {\n",
       "        vertical-align: top;\n",
       "    }\n",
       "\n",
       "    .dataframe thead th {\n",
       "        text-align: right;\n",
       "    }\n",
       "</style>\n",
       "<table border=\"1\" class=\"dataframe\">\n",
       "  <thead>\n",
       "    <tr style=\"text-align: right;\">\n",
       "      <th></th>\n",
       "      <th>user_id</th>\n",
       "      <th>name</th>\n",
       "      <th>age</th>\n",
       "      <th>city</th>\n",
       "      <th>subscription_type</th>\n",
       "      <th>distance</th>\n",
       "      <th>duration</th>\n",
       "      <th>date</th>\n",
       "      <th>month</th>\n",
       "      <th>minute_price</th>\n",
       "      <th>start_ride_price</th>\n",
       "      <th>subscription_fee</th>\n",
       "    </tr>\n",
       "  </thead>\n",
       "  <tbody>\n",
       "    <tr>\n",
       "      <th>0</th>\n",
       "      <td>1</td>\n",
       "      <td>Кира</td>\n",
       "      <td>22</td>\n",
       "      <td>Тюмень</td>\n",
       "      <td>ultra</td>\n",
       "      <td>4409.919140</td>\n",
       "      <td>25.599769</td>\n",
       "      <td>2021-01-01</td>\n",
       "      <td>1</td>\n",
       "      <td>6</td>\n",
       "      <td>0</td>\n",
       "      <td>199</td>\n",
       "    </tr>\n",
       "    <tr>\n",
       "      <th>1</th>\n",
       "      <td>1</td>\n",
       "      <td>Кира</td>\n",
       "      <td>22</td>\n",
       "      <td>Тюмень</td>\n",
       "      <td>ultra</td>\n",
       "      <td>2617.592153</td>\n",
       "      <td>15.816871</td>\n",
       "      <td>2021-01-18</td>\n",
       "      <td>1</td>\n",
       "      <td>6</td>\n",
       "      <td>0</td>\n",
       "      <td>199</td>\n",
       "    </tr>\n",
       "    <tr>\n",
       "      <th>2</th>\n",
       "      <td>1</td>\n",
       "      <td>Кира</td>\n",
       "      <td>22</td>\n",
       "      <td>Тюмень</td>\n",
       "      <td>ultra</td>\n",
       "      <td>754.159807</td>\n",
       "      <td>6.232113</td>\n",
       "      <td>2021-04-20</td>\n",
       "      <td>4</td>\n",
       "      <td>6</td>\n",
       "      <td>0</td>\n",
       "      <td>199</td>\n",
       "    </tr>\n",
       "    <tr>\n",
       "      <th>3</th>\n",
       "      <td>1</td>\n",
       "      <td>Кира</td>\n",
       "      <td>22</td>\n",
       "      <td>Тюмень</td>\n",
       "      <td>ultra</td>\n",
       "      <td>2694.783254</td>\n",
       "      <td>18.511000</td>\n",
       "      <td>2021-08-11</td>\n",
       "      <td>8</td>\n",
       "      <td>6</td>\n",
       "      <td>0</td>\n",
       "      <td>199</td>\n",
       "    </tr>\n",
       "    <tr>\n",
       "      <th>4</th>\n",
       "      <td>1</td>\n",
       "      <td>Кира</td>\n",
       "      <td>22</td>\n",
       "      <td>Тюмень</td>\n",
       "      <td>ultra</td>\n",
       "      <td>4028.687306</td>\n",
       "      <td>26.265803</td>\n",
       "      <td>2021-08-28</td>\n",
       "      <td>8</td>\n",
       "      <td>6</td>\n",
       "      <td>0</td>\n",
       "      <td>199</td>\n",
       "    </tr>\n",
       "  </tbody>\n",
       "</table>\n",
       "</div>"
      ],
      "text/plain": [
       "   user_id  name  age    city subscription_type     distance   duration  \\\n",
       "0        1  Кира   22  Тюмень             ultra  4409.919140  25.599769   \n",
       "1        1  Кира   22  Тюмень             ultra  2617.592153  15.816871   \n",
       "2        1  Кира   22  Тюмень             ultra   754.159807   6.232113   \n",
       "3        1  Кира   22  Тюмень             ultra  2694.783254  18.511000   \n",
       "4        1  Кира   22  Тюмень             ultra  4028.687306  26.265803   \n",
       "\n",
       "        date  month  minute_price  start_ride_price  subscription_fee  \n",
       "0 2021-01-01      1             6                 0               199  \n",
       "1 2021-01-18      1             6                 0               199  \n",
       "2 2021-04-20      4             6                 0               199  \n",
       "3 2021-08-11      8             6                 0               199  \n",
       "4 2021-08-28      8             6                 0               199  "
      ]
     },
     "execution_count": 28,
     "metadata": {},
     "output_type": "execute_result"
    }
   ],
   "source": [
    "data_sub = data[data['subscription_type'] == 'ultra']\n",
    "data_sub.head()"
   ]
  },
  {
   "cell_type": "code",
   "execution_count": 29,
   "id": "b6710887",
   "metadata": {},
   "outputs": [
    {
     "data": {
      "text/html": [
       "<div>\n",
       "<style scoped>\n",
       "    .dataframe tbody tr th:only-of-type {\n",
       "        vertical-align: middle;\n",
       "    }\n",
       "\n",
       "    .dataframe tbody tr th {\n",
       "        vertical-align: top;\n",
       "    }\n",
       "\n",
       "    .dataframe thead th {\n",
       "        text-align: right;\n",
       "    }\n",
       "</style>\n",
       "<table border=\"1\" class=\"dataframe\">\n",
       "  <thead>\n",
       "    <tr style=\"text-align: right;\">\n",
       "      <th></th>\n",
       "      <th>user_id</th>\n",
       "      <th>name</th>\n",
       "      <th>age</th>\n",
       "      <th>city</th>\n",
       "      <th>subscription_type</th>\n",
       "      <th>distance</th>\n",
       "      <th>duration</th>\n",
       "      <th>date</th>\n",
       "      <th>month</th>\n",
       "      <th>minute_price</th>\n",
       "      <th>start_ride_price</th>\n",
       "      <th>subscription_fee</th>\n",
       "    </tr>\n",
       "  </thead>\n",
       "  <tbody>\n",
       "    <tr>\n",
       "      <th>6500</th>\n",
       "      <td>700</td>\n",
       "      <td>Айдар</td>\n",
       "      <td>22</td>\n",
       "      <td>Омск</td>\n",
       "      <td>free</td>\n",
       "      <td>2515.690719</td>\n",
       "      <td>14.944286</td>\n",
       "      <td>2021-01-02</td>\n",
       "      <td>1</td>\n",
       "      <td>8</td>\n",
       "      <td>50</td>\n",
       "      <td>0</td>\n",
       "    </tr>\n",
       "    <tr>\n",
       "      <th>6501</th>\n",
       "      <td>700</td>\n",
       "      <td>Айдар</td>\n",
       "      <td>22</td>\n",
       "      <td>Омск</td>\n",
       "      <td>free</td>\n",
       "      <td>846.932642</td>\n",
       "      <td>16.234663</td>\n",
       "      <td>2021-02-01</td>\n",
       "      <td>2</td>\n",
       "      <td>8</td>\n",
       "      <td>50</td>\n",
       "      <td>0</td>\n",
       "    </tr>\n",
       "    <tr>\n",
       "      <th>6502</th>\n",
       "      <td>700</td>\n",
       "      <td>Айдар</td>\n",
       "      <td>22</td>\n",
       "      <td>Омск</td>\n",
       "      <td>free</td>\n",
       "      <td>4004.434142</td>\n",
       "      <td>20.016628</td>\n",
       "      <td>2021-02-04</td>\n",
       "      <td>2</td>\n",
       "      <td>8</td>\n",
       "      <td>50</td>\n",
       "      <td>0</td>\n",
       "    </tr>\n",
       "    <tr>\n",
       "      <th>6503</th>\n",
       "      <td>700</td>\n",
       "      <td>Айдар</td>\n",
       "      <td>22</td>\n",
       "      <td>Омск</td>\n",
       "      <td>free</td>\n",
       "      <td>1205.911290</td>\n",
       "      <td>9.782872</td>\n",
       "      <td>2021-02-10</td>\n",
       "      <td>2</td>\n",
       "      <td>8</td>\n",
       "      <td>50</td>\n",
       "      <td>0</td>\n",
       "    </tr>\n",
       "    <tr>\n",
       "      <th>6504</th>\n",
       "      <td>700</td>\n",
       "      <td>Айдар</td>\n",
       "      <td>22</td>\n",
       "      <td>Омск</td>\n",
       "      <td>free</td>\n",
       "      <td>3047.379435</td>\n",
       "      <td>17.427673</td>\n",
       "      <td>2021-02-14</td>\n",
       "      <td>2</td>\n",
       "      <td>8</td>\n",
       "      <td>50</td>\n",
       "      <td>0</td>\n",
       "    </tr>\n",
       "  </tbody>\n",
       "</table>\n",
       "</div>"
      ],
      "text/plain": [
       "      user_id   name  age  city subscription_type     distance   duration  \\\n",
       "6500      700  Айдар   22  Омск              free  2515.690719  14.944286   \n",
       "6501      700  Айдар   22  Омск              free   846.932642  16.234663   \n",
       "6502      700  Айдар   22  Омск              free  4004.434142  20.016628   \n",
       "6503      700  Айдар   22  Омск              free  1205.911290   9.782872   \n",
       "6504      700  Айдар   22  Омск              free  3047.379435  17.427673   \n",
       "\n",
       "           date  month  minute_price  start_ride_price  subscription_fee  \n",
       "6500 2021-01-02      1             8                50                 0  \n",
       "6501 2021-02-01      2             8                50                 0  \n",
       "6502 2021-02-04      2             8                50                 0  \n",
       "6503 2021-02-10      2             8                50                 0  \n",
       "6504 2021-02-14      2             8                50                 0  "
      ]
     },
     "execution_count": 29,
     "metadata": {},
     "output_type": "execute_result"
    }
   ],
   "source": [
    "data_no_sub = data[data['subscription_type'] == 'free']\n",
    "data_no_sub.head()"
   ]
  },
  {
   "cell_type": "markdown",
   "id": "078df0eb",
   "metadata": {},
   "source": [
    "Посмотрим на рапределение расстояния и времени поездок этих двух групп."
   ]
  },
  {
   "cell_type": "code",
   "execution_count": 30,
   "id": "8fba7879",
   "metadata": {},
   "outputs": [
    {
     "data": {
      "image/png": "[encoded data removed]",
      "text/plain": [
       "<Figure size 1080x432 with 2 Axes>"
      ]
     },
     "metadata": {
      "needs_background": "light"
     },
     "output_type": "display_data"
    }
   ],
   "source": [
    "plt.figure(figsize=(15, 6))\n",
    "\n",
    "ax1 = plt.subplot(1, 2, 1)\n",
    "data_sub.plot('distance', 'duration', kind='scatter', alpha=0.5, ax=ax1)\n",
    "plt.title('Подписка ultra')\n",
    "plt.xlabel('Расстояние')\n",
    "plt.ylabel('Длительность')\n",
    "\n",
    "ax2 = plt.subplot(1, 2, 2, sharey=ax1)\n",
    "data_no_sub.plot('distance', 'duration', kind='scatter', alpha=0.5, ax=ax2)\n",
    "plt.title('Подписка free')\n",
    "plt.xlabel('Расстояние')\n",
    "plt.ylabel('Длительность')\n",
    "\n",
    "plt.show()"
   ]
  },
  {
   "cell_type": "code",
   "execution_count": 31,
   "id": "7ea1f902",
   "metadata": {},
   "outputs": [
    {
     "data": {
      "image/png": "[encoded data removed]",
      "text/plain": [
       "<Figure size 1080x720 with 4 Axes>"
      ]
     },
     "metadata": {
      "needs_background": "light"
     },
     "output_type": "display_data"
    }
   ],
   "source": [
    "plt.figure(figsize=(15, 10))\n",
    "\n",
    "ax1 = plt.subplot(2, 2, 1)\n",
    "data_sub.boxplot('distance', ax=ax1)\n",
    "plt.title('Распределение расстояния поездки пользователей с подпиской')\n",
    "plt.xlabel('')\n",
    "plt.ylabel('Расстояние поездки')\n",
    "\n",
    "ax2 = plt.subplot(2, 2, 2)\n",
    "data_sub.boxplot('duration', ax=ax2)\n",
    "plt.title('Распределение длительности поездки пользователей с подпиской')\n",
    "plt.xlabel('')\n",
    "plt.ylabel('Длительность поездки')\n",
    "\n",
    "ax3 = plt.subplot(2, 2, 3, sharey=ax1)\n",
    "data_no_sub.boxplot('distance', ax=ax3)\n",
    "plt.title('Распределение расстояния поездки пользователей без подписки')\n",
    "plt.xlabel('')\n",
    "plt.ylabel('Расстояние поездки')\n",
    "\n",
    "ax4 = plt.subplot(2, 2, 4, sharey=ax2)\n",
    "data_no_sub.boxplot('duration', ax=ax4)\n",
    "plt.title('Распределение длительности поездки пользователей без подписки')\n",
    "plt.xlabel('')\n",
    "plt.ylabel('Длительность поездки')\n",
    "\n",
    "plt.show()"
   ]
  },
  {
   "cell_type": "markdown",
   "id": "f0c77137",
   "metadata": {},
   "source": [
    "Распределение поездок по продолжительности и дистанции по типу подписки в целом схожи. У пользователей с бесплатной подпиской встречаются большие расстояния при этом время поезки увеличивается не сильно или не увеличивается. Также у пользователей с бесплатной подпиской встречаются поездки с достаточно большой дистанцией, но длительностью близкой к нулю, посмотрим на них."
   ]
  },
  {
   "cell_type": "code",
   "execution_count": 32,
   "id": "454b18c9",
   "metadata": {},
   "outputs": [
    {
     "data": {
      "text/html": [
       "<div>\n",
       "<style scoped>\n",
       "    .dataframe tbody tr th:only-of-type {\n",
       "        vertical-align: middle;\n",
       "    }\n",
       "\n",
       "    .dataframe tbody tr th {\n",
       "        vertical-align: top;\n",
       "    }\n",
       "\n",
       "    .dataframe thead th {\n",
       "        text-align: right;\n",
       "    }\n",
       "</style>\n",
       "<table border=\"1\" class=\"dataframe\">\n",
       "  <thead>\n",
       "    <tr style=\"text-align: right;\">\n",
       "      <th></th>\n",
       "      <th>user_id</th>\n",
       "      <th>name</th>\n",
       "      <th>age</th>\n",
       "      <th>city</th>\n",
       "      <th>subscription_type</th>\n",
       "      <th>distance</th>\n",
       "      <th>duration</th>\n",
       "      <th>date</th>\n",
       "      <th>month</th>\n",
       "      <th>minute_price</th>\n",
       "      <th>start_ride_price</th>\n",
       "      <th>subscription_fee</th>\n",
       "    </tr>\n",
       "  </thead>\n",
       "  <tbody>\n",
       "    <tr>\n",
       "      <th>12028</th>\n",
       "      <td>1104</td>\n",
       "      <td>Ольга</td>\n",
       "      <td>24</td>\n",
       "      <td>Краснодар</td>\n",
       "      <td>free</td>\n",
       "      <td>4807.103751</td>\n",
       "      <td>0.5</td>\n",
       "      <td>2021-01-06</td>\n",
       "      <td>1</td>\n",
       "      <td>8</td>\n",
       "      <td>50</td>\n",
       "      <td>0</td>\n",
       "    </tr>\n",
       "    <tr>\n",
       "      <th>7364</th>\n",
       "      <td>760</td>\n",
       "      <td>Иван</td>\n",
       "      <td>22</td>\n",
       "      <td>Ростов-на-Дону</td>\n",
       "      <td>free</td>\n",
       "      <td>4881.391865</td>\n",
       "      <td>0.5</td>\n",
       "      <td>2021-08-29</td>\n",
       "      <td>8</td>\n",
       "      <td>8</td>\n",
       "      <td>50</td>\n",
       "      <td>0</td>\n",
       "    </tr>\n",
       "    <tr>\n",
       "      <th>15112</th>\n",
       "      <td>1324</td>\n",
       "      <td>Давид</td>\n",
       "      <td>21</td>\n",
       "      <td>Ростов-на-Дону</td>\n",
       "      <td>free</td>\n",
       "      <td>5537.095264</td>\n",
       "      <td>0.5</td>\n",
       "      <td>2021-09-16</td>\n",
       "      <td>9</td>\n",
       "      <td>8</td>\n",
       "      <td>50</td>\n",
       "      <td>0</td>\n",
       "    </tr>\n",
       "    <tr>\n",
       "      <th>7612</th>\n",
       "      <td>780</td>\n",
       "      <td>Семен</td>\n",
       "      <td>13</td>\n",
       "      <td>Тюмень</td>\n",
       "      <td>free</td>\n",
       "      <td>6112.644835</td>\n",
       "      <td>0.5</td>\n",
       "      <td>2021-11-23</td>\n",
       "      <td>11</td>\n",
       "      <td>8</td>\n",
       "      <td>50</td>\n",
       "      <td>0</td>\n",
       "    </tr>\n",
       "    <tr>\n",
       "      <th>17242</th>\n",
       "      <td>1477</td>\n",
       "      <td>Ян</td>\n",
       "      <td>17</td>\n",
       "      <td>Сочи</td>\n",
       "      <td>free</td>\n",
       "      <td>6724.932981</td>\n",
       "      <td>0.5</td>\n",
       "      <td>2021-01-12</td>\n",
       "      <td>1</td>\n",
       "      <td>8</td>\n",
       "      <td>50</td>\n",
       "      <td>0</td>\n",
       "    </tr>\n",
       "  </tbody>\n",
       "</table>\n",
       "</div>"
      ],
      "text/plain": [
       "       user_id   name  age            city subscription_type     distance  \\\n",
       "12028     1104  Ольга   24       Краснодар              free  4807.103751   \n",
       "7364       760   Иван   22  Ростов-на-Дону              free  4881.391865   \n",
       "15112     1324  Давид   21  Ростов-на-Дону              free  5537.095264   \n",
       "7612       780  Семен   13          Тюмень              free  6112.644835   \n",
       "17242     1477     Ян   17            Сочи              free  6724.932981   \n",
       "\n",
       "       duration       date  month  minute_price  start_ride_price  \\\n",
       "12028       0.5 2021-01-06      1             8                50   \n",
       "7364        0.5 2021-08-29      8             8                50   \n",
       "15112       0.5 2021-09-16      9             8                50   \n",
       "7612        0.5 2021-11-23     11             8                50   \n",
       "17242       0.5 2021-01-12      1             8                50   \n",
       "\n",
       "       subscription_fee  \n",
       "12028                 0  \n",
       "7364                  0  \n",
       "15112                 0  \n",
       "7612                  0  \n",
       "17242                 0  "
      ]
     },
     "execution_count": 32,
     "metadata": {},
     "output_type": "execute_result"
    }
   ],
   "source": [
    "data_no_sub[data_no_sub['duration'] < 1].sample(5)"
   ]
  },
  {
   "cell_type": "markdown",
   "id": "5d806dc1",
   "metadata": {},
   "source": [
    "Такие поездки встречаются в разных городах, у разных пользователей. Невозможно проехать за 30 секунд 4-7 км, скорей всего единица измерения здесь часы, а не минуты. Исправим."
   ]
  },
  {
   "cell_type": "code",
   "execution_count": 33,
   "id": "2d15bb4f",
   "metadata": {},
   "outputs": [
    {
     "name": "stderr",
     "output_type": "stream",
     "text": [
      "/opt/conda/lib/python3.9/site-packages/pandas/core/indexing.py:1676: SettingWithCopyWarning: \n",
      "A value is trying to be set on a copy of a slice from a DataFrame.\n",
      "Try using .loc[row_indexer,col_indexer] = value instead\n",
      "\n",
      "See the caveats in the documentation: https://pandas.pydata.org/pandas-docs/stable/user_guide/indexing.html#returning-a-view-versus-a-copy\n",
      "  self._setitem_single_column(ilocs[0], value, pi)\n"
     ]
    },
    {
     "data": {
      "image/png": "[encoded data removed]",
      "text/plain": [
       "<Figure size 432x288 with 1 Axes>"
      ]
     },
     "metadata": {
      "needs_background": "light"
     },
     "output_type": "display_data"
    }
   ],
   "source": [
    "data_no_sub.loc[data_no_sub['duration'] < 1, 'duration'] = (\n",
    "    data_no_sub.loc[data_no_sub['duration'] < 1, 'duration'] * 60)\n",
    "#Также исправим в объединенном датафрейме\n",
    "data.loc[data['duration'] < 1, 'duration'] = (data.loc[data['duration'] < 1, 'duration'] * 60)\n",
    "data_no_sub.plot('distance', 'duration', kind='scatter', alpha=0.5)\n",
    "plt.title('Подписка free')\n",
    "plt.xlabel('Расстояние')\n",
    "plt.ylabel('Длительность')\n",
    "plt.show()"
   ]
  },
  {
   "cell_type": "markdown",
   "id": "2e100db3",
   "metadata": {},
   "source": [
    "Теперь такие поездки выглядят более реально."
   ]
  },
  {
   "cell_type": "markdown",
   "id": "a1056540",
   "metadata": {},
   "source": [
    "Мы объединили данные о пользователях, поездках и подписках в один датафрейм, создали еще два датафрейма с данными о пользователях с подпиской и без неё, выяснили, что продолжительность и длина поездок пользователей с подпиской и без неё в целом схожи и, что у пользователей с бесплатной подпиской встречаются большие расстояния при этом время поезки увеличивается не сильно или не увеличивается."
   ]
  },
  {
   "cell_type": "markdown",
   "id": "402d620f",
   "metadata": {},
   "source": [
    "## Подсчёт выручки"
   ]
  },
  {
   "cell_type": "markdown",
   "id": "ef560630",
   "metadata": {},
   "source": [
    "Создадим датафрейм с агрегированными данными о поездках на основе датафрейма с объединенными данными. Найдем суммарное расстояние, количество поездок и суммарное время для каждого пользователя за месяц."
   ]
  },
  {
   "cell_type": "code",
   "execution_count": 34,
   "id": "5531325d",
   "metadata": {
    "scrolled": false
   },
   "outputs": [
    {
     "data": {
      "text/html": [
       "<div>\n",
       "<style scoped>\n",
       "    .dataframe tbody tr th:only-of-type {\n",
       "        vertical-align: middle;\n",
       "    }\n",
       "\n",
       "    .dataframe tbody tr th {\n",
       "        vertical-align: top;\n",
       "    }\n",
       "\n",
       "    .dataframe thead th {\n",
       "        text-align: right;\n",
       "    }\n",
       "</style>\n",
       "<table border=\"1\" class=\"dataframe\">\n",
       "  <thead>\n",
       "    <tr style=\"text-align: right;\">\n",
       "      <th></th>\n",
       "      <th>user_id</th>\n",
       "      <th>month</th>\n",
       "      <th>sum_distance</th>\n",
       "      <th>trips</th>\n",
       "      <th>sum_duration</th>\n",
       "    </tr>\n",
       "  </thead>\n",
       "  <tbody>\n",
       "    <tr>\n",
       "      <th>0</th>\n",
       "      <td>1</td>\n",
       "      <td>1</td>\n",
       "      <td>7027.511294</td>\n",
       "      <td>2</td>\n",
       "      <td>41.416640</td>\n",
       "    </tr>\n",
       "    <tr>\n",
       "      <th>1</th>\n",
       "      <td>1</td>\n",
       "      <td>4</td>\n",
       "      <td>754.159807</td>\n",
       "      <td>1</td>\n",
       "      <td>6.232113</td>\n",
       "    </tr>\n",
       "    <tr>\n",
       "      <th>2</th>\n",
       "      <td>1</td>\n",
       "      <td>8</td>\n",
       "      <td>6723.470560</td>\n",
       "      <td>2</td>\n",
       "      <td>44.776802</td>\n",
       "    </tr>\n",
       "    <tr>\n",
       "      <th>3</th>\n",
       "      <td>1</td>\n",
       "      <td>10</td>\n",
       "      <td>5809.911100</td>\n",
       "      <td>2</td>\n",
       "      <td>31.578017</td>\n",
       "    </tr>\n",
       "    <tr>\n",
       "      <th>4</th>\n",
       "      <td>1</td>\n",
       "      <td>11</td>\n",
       "      <td>7003.499363</td>\n",
       "      <td>3</td>\n",
       "      <td>53.397424</td>\n",
       "    </tr>\n",
       "  </tbody>\n",
       "</table>\n",
       "</div>"
      ],
      "text/plain": [
       "   user_id  month  sum_distance  trips  sum_duration\n",
       "0        1      1   7027.511294      2     41.416640\n",
       "1        1      4    754.159807      1      6.232113\n",
       "2        1      8   6723.470560      2     44.776802\n",
       "3        1     10   5809.911100      2     31.578017\n",
       "4        1     11   7003.499363      3     53.397424"
      ]
     },
     "execution_count": 34,
     "metadata": {},
     "output_type": "execute_result"
    }
   ],
   "source": [
    "df = data.groupby(['user_id','month'])['distance'].sum().reset_index()\n",
    "user_month_trips = data.groupby(['user_id','month'])['name'].count().reset_index()\n",
    "user_month_duration = data.groupby(['user_id','month'])['duration'].sum().reset_index()\n",
    "df = df.merge(user_month_trips, on=['user_id', 'month'])\n",
    "df = df.merge(user_month_duration, on=['user_id', 'month'])\n",
    "df.columns = ['user_id', 'month', 'sum_distance', 'trips', 'sum_duration']\n",
    "df.head()"
   ]
  },
  {
   "cell_type": "code",
   "execution_count": 35,
   "id": "4215fa70",
   "metadata": {},
   "outputs": [
    {
     "name": "stdout",
     "output_type": "stream",
     "text": [
      "<class 'pandas.core.frame.DataFrame'>\n",
      "Int64Index: 11331 entries, 0 to 11330\n",
      "Data columns (total 5 columns):\n",
      " #   Column        Non-Null Count  Dtype  \n",
      "---  ------        --------------  -----  \n",
      " 0   user_id       11331 non-null  int64  \n",
      " 1   month         11331 non-null  int64  \n",
      " 2   sum_distance  11331 non-null  float64\n",
      " 3   trips         11331 non-null  int64  \n",
      " 4   sum_duration  11331 non-null  float64\n",
      "dtypes: float64(2), int64(3)\n",
      "memory usage: 531.1 KB\n"
     ]
    }
   ],
   "source": [
    "df.info()"
   ]
  },
  {
   "cell_type": "markdown",
   "id": "413f59e0",
   "metadata": {},
   "source": [
    "Пропусков в данных нет. Теперь добавим в датафрейм остальные столбцы."
   ]
  },
  {
   "cell_type": "code",
   "execution_count": 36,
   "id": "b47525c0",
   "metadata": {},
   "outputs": [
    {
     "data": {
      "text/html": [
       "<div>\n",
       "<style scoped>\n",
       "    .dataframe tbody tr th:only-of-type {\n",
       "        vertical-align: middle;\n",
       "    }\n",
       "\n",
       "    .dataframe tbody tr th {\n",
       "        vertical-align: top;\n",
       "    }\n",
       "\n",
       "    .dataframe thead th {\n",
       "        text-align: right;\n",
       "    }\n",
       "</style>\n",
       "<table border=\"1\" class=\"dataframe\">\n",
       "  <thead>\n",
       "    <tr style=\"text-align: right;\">\n",
       "      <th></th>\n",
       "      <th>user_id</th>\n",
       "      <th>month</th>\n",
       "      <th>sum_distance</th>\n",
       "      <th>trips</th>\n",
       "      <th>sum_duration</th>\n",
       "      <th>name</th>\n",
       "      <th>age</th>\n",
       "      <th>city</th>\n",
       "      <th>subscription_type</th>\n",
       "      <th>minute_price</th>\n",
       "      <th>start_ride_price</th>\n",
       "      <th>subscription_fee</th>\n",
       "    </tr>\n",
       "  </thead>\n",
       "  <tbody>\n",
       "    <tr>\n",
       "      <th>0</th>\n",
       "      <td>1</td>\n",
       "      <td>1</td>\n",
       "      <td>7027.511294</td>\n",
       "      <td>2</td>\n",
       "      <td>41.416640</td>\n",
       "      <td>Кира</td>\n",
       "      <td>22</td>\n",
       "      <td>Тюмень</td>\n",
       "      <td>ultra</td>\n",
       "      <td>6</td>\n",
       "      <td>0</td>\n",
       "      <td>199</td>\n",
       "    </tr>\n",
       "    <tr>\n",
       "      <th>1</th>\n",
       "      <td>1</td>\n",
       "      <td>4</td>\n",
       "      <td>754.159807</td>\n",
       "      <td>1</td>\n",
       "      <td>6.232113</td>\n",
       "      <td>Кира</td>\n",
       "      <td>22</td>\n",
       "      <td>Тюмень</td>\n",
       "      <td>ultra</td>\n",
       "      <td>6</td>\n",
       "      <td>0</td>\n",
       "      <td>199</td>\n",
       "    </tr>\n",
       "    <tr>\n",
       "      <th>2</th>\n",
       "      <td>1</td>\n",
       "      <td>8</td>\n",
       "      <td>6723.470560</td>\n",
       "      <td>2</td>\n",
       "      <td>44.776802</td>\n",
       "      <td>Кира</td>\n",
       "      <td>22</td>\n",
       "      <td>Тюмень</td>\n",
       "      <td>ultra</td>\n",
       "      <td>6</td>\n",
       "      <td>0</td>\n",
       "      <td>199</td>\n",
       "    </tr>\n",
       "    <tr>\n",
       "      <th>3</th>\n",
       "      <td>1</td>\n",
       "      <td>10</td>\n",
       "      <td>5809.911100</td>\n",
       "      <td>2</td>\n",
       "      <td>31.578017</td>\n",
       "      <td>Кира</td>\n",
       "      <td>22</td>\n",
       "      <td>Тюмень</td>\n",
       "      <td>ultra</td>\n",
       "      <td>6</td>\n",
       "      <td>0</td>\n",
       "      <td>199</td>\n",
       "    </tr>\n",
       "    <tr>\n",
       "      <th>4</th>\n",
       "      <td>1</td>\n",
       "      <td>11</td>\n",
       "      <td>7003.499363</td>\n",
       "      <td>3</td>\n",
       "      <td>53.397424</td>\n",
       "      <td>Кира</td>\n",
       "      <td>22</td>\n",
       "      <td>Тюмень</td>\n",
       "      <td>ultra</td>\n",
       "      <td>6</td>\n",
       "      <td>0</td>\n",
       "      <td>199</td>\n",
       "    </tr>\n",
       "  </tbody>\n",
       "</table>\n",
       "</div>"
      ],
      "text/plain": [
       "   user_id  month  sum_distance  trips  sum_duration  name  age    city  \\\n",
       "0        1      1   7027.511294      2     41.416640  Кира   22  Тюмень   \n",
       "1        1      4    754.159807      1      6.232113  Кира   22  Тюмень   \n",
       "2        1      8   6723.470560      2     44.776802  Кира   22  Тюмень   \n",
       "3        1     10   5809.911100      2     31.578017  Кира   22  Тюмень   \n",
       "4        1     11   7003.499363      3     53.397424  Кира   22  Тюмень   \n",
       "\n",
       "  subscription_type  minute_price  start_ride_price  subscription_fee  \n",
       "0             ultra             6                 0               199  \n",
       "1             ultra             6                 0               199  \n",
       "2             ultra             6                 0               199  \n",
       "3             ultra             6                 0               199  \n",
       "4             ultra             6                 0               199  "
      ]
     },
     "execution_count": 36,
     "metadata": {},
     "output_type": "execute_result"
    }
   ],
   "source": [
    "df = df.merge(data[['user_id', 'month', 'name', 'age', 'city', 'subscription_type', 'minute_price',\n",
    "                    'start_ride_price', 'subscription_fee']],on=['user_id', 'month'], how='left')\n",
    "df = df.drop_duplicates().reset_index(drop=True)\n",
    "df.head()"
   ]
  },
  {
   "cell_type": "markdown",
   "id": "eb00174b",
   "metadata": {},
   "source": [
    "Теперь добавим в датафрейм столбец с помесячной выручкой, которую принес каждый пользователь. Для начала округлим вверх продолжительность поездок."
   ]
  },
  {
   "cell_type": "code",
   "execution_count": 37,
   "id": "153095ca",
   "metadata": {},
   "outputs": [
    {
     "data": {
      "text/html": [
       "<div>\n",
       "<style scoped>\n",
       "    .dataframe tbody tr th:only-of-type {\n",
       "        vertical-align: middle;\n",
       "    }\n",
       "\n",
       "    .dataframe tbody tr th {\n",
       "        vertical-align: top;\n",
       "    }\n",
       "\n",
       "    .dataframe thead th {\n",
       "        text-align: right;\n",
       "    }\n",
       "</style>\n",
       "<table border=\"1\" class=\"dataframe\">\n",
       "  <thead>\n",
       "    <tr style=\"text-align: right;\">\n",
       "      <th></th>\n",
       "      <th>user_id</th>\n",
       "      <th>month</th>\n",
       "      <th>sum_distance</th>\n",
       "      <th>trips</th>\n",
       "      <th>sum_duration</th>\n",
       "      <th>name</th>\n",
       "      <th>age</th>\n",
       "      <th>city</th>\n",
       "      <th>subscription_type</th>\n",
       "      <th>minute_price</th>\n",
       "      <th>start_ride_price</th>\n",
       "      <th>subscription_fee</th>\n",
       "    </tr>\n",
       "  </thead>\n",
       "  <tbody>\n",
       "    <tr>\n",
       "      <th>0</th>\n",
       "      <td>1</td>\n",
       "      <td>1</td>\n",
       "      <td>7027.511294</td>\n",
       "      <td>2</td>\n",
       "      <td>42</td>\n",
       "      <td>Кира</td>\n",
       "      <td>22</td>\n",
       "      <td>Тюмень</td>\n",
       "      <td>ultra</td>\n",
       "      <td>6</td>\n",
       "      <td>0</td>\n",
       "      <td>199</td>\n",
       "    </tr>\n",
       "    <tr>\n",
       "      <th>1</th>\n",
       "      <td>1</td>\n",
       "      <td>4</td>\n",
       "      <td>754.159807</td>\n",
       "      <td>1</td>\n",
       "      <td>7</td>\n",
       "      <td>Кира</td>\n",
       "      <td>22</td>\n",
       "      <td>Тюмень</td>\n",
       "      <td>ultra</td>\n",
       "      <td>6</td>\n",
       "      <td>0</td>\n",
       "      <td>199</td>\n",
       "    </tr>\n",
       "    <tr>\n",
       "      <th>2</th>\n",
       "      <td>1</td>\n",
       "      <td>8</td>\n",
       "      <td>6723.470560</td>\n",
       "      <td>2</td>\n",
       "      <td>45</td>\n",
       "      <td>Кира</td>\n",
       "      <td>22</td>\n",
       "      <td>Тюмень</td>\n",
       "      <td>ultra</td>\n",
       "      <td>6</td>\n",
       "      <td>0</td>\n",
       "      <td>199</td>\n",
       "    </tr>\n",
       "    <tr>\n",
       "      <th>3</th>\n",
       "      <td>1</td>\n",
       "      <td>10</td>\n",
       "      <td>5809.911100</td>\n",
       "      <td>2</td>\n",
       "      <td>32</td>\n",
       "      <td>Кира</td>\n",
       "      <td>22</td>\n",
       "      <td>Тюмень</td>\n",
       "      <td>ultra</td>\n",
       "      <td>6</td>\n",
       "      <td>0</td>\n",
       "      <td>199</td>\n",
       "    </tr>\n",
       "    <tr>\n",
       "      <th>4</th>\n",
       "      <td>1</td>\n",
       "      <td>11</td>\n",
       "      <td>7003.499363</td>\n",
       "      <td>3</td>\n",
       "      <td>54</td>\n",
       "      <td>Кира</td>\n",
       "      <td>22</td>\n",
       "      <td>Тюмень</td>\n",
       "      <td>ultra</td>\n",
       "      <td>6</td>\n",
       "      <td>0</td>\n",
       "      <td>199</td>\n",
       "    </tr>\n",
       "  </tbody>\n",
       "</table>\n",
       "</div>"
      ],
      "text/plain": [
       "   user_id  month  sum_distance  trips  sum_duration  name  age    city  \\\n",
       "0        1      1   7027.511294      2            42  Кира   22  Тюмень   \n",
       "1        1      4    754.159807      1             7  Кира   22  Тюмень   \n",
       "2        1      8   6723.470560      2            45  Кира   22  Тюмень   \n",
       "3        1     10   5809.911100      2            32  Кира   22  Тюмень   \n",
       "4        1     11   7003.499363      3            54  Кира   22  Тюмень   \n",
       "\n",
       "  subscription_type  minute_price  start_ride_price  subscription_fee  \n",
       "0             ultra             6                 0               199  \n",
       "1             ultra             6                 0               199  \n",
       "2             ultra             6                 0               199  \n",
       "3             ultra             6                 0               199  \n",
       "4             ultra             6                 0               199  "
      ]
     },
     "execution_count": 37,
     "metadata": {},
     "output_type": "execute_result"
    }
   ],
   "source": [
    "df['sum_duration'] = np.ceil(df['sum_duration']).astype('int')\n",
    "df.head()"
   ]
  },
  {
   "cell_type": "code",
   "execution_count": 38,
   "id": "419a1704",
   "metadata": {},
   "outputs": [
    {
     "data": {
      "text/html": [
       "<div>\n",
       "<style scoped>\n",
       "    .dataframe tbody tr th:only-of-type {\n",
       "        vertical-align: middle;\n",
       "    }\n",
       "\n",
       "    .dataframe tbody tr th {\n",
       "        vertical-align: top;\n",
       "    }\n",
       "\n",
       "    .dataframe thead th {\n",
       "        text-align: right;\n",
       "    }\n",
       "</style>\n",
       "<table border=\"1\" class=\"dataframe\">\n",
       "  <thead>\n",
       "    <tr style=\"text-align: right;\">\n",
       "      <th></th>\n",
       "      <th>user_id</th>\n",
       "      <th>month</th>\n",
       "      <th>sum_distance</th>\n",
       "      <th>trips</th>\n",
       "      <th>sum_duration</th>\n",
       "      <th>name</th>\n",
       "      <th>age</th>\n",
       "      <th>city</th>\n",
       "      <th>subscription_type</th>\n",
       "      <th>minute_price</th>\n",
       "      <th>start_ride_price</th>\n",
       "      <th>subscription_fee</th>\n",
       "      <th>revenue</th>\n",
       "    </tr>\n",
       "  </thead>\n",
       "  <tbody>\n",
       "    <tr>\n",
       "      <th>0</th>\n",
       "      <td>1</td>\n",
       "      <td>1</td>\n",
       "      <td>7027.511294</td>\n",
       "      <td>2</td>\n",
       "      <td>42</td>\n",
       "      <td>Кира</td>\n",
       "      <td>22</td>\n",
       "      <td>Тюмень</td>\n",
       "      <td>ultra</td>\n",
       "      <td>6</td>\n",
       "      <td>0</td>\n",
       "      <td>199</td>\n",
       "      <td>451</td>\n",
       "    </tr>\n",
       "    <tr>\n",
       "      <th>1</th>\n",
       "      <td>1</td>\n",
       "      <td>4</td>\n",
       "      <td>754.159807</td>\n",
       "      <td>1</td>\n",
       "      <td>7</td>\n",
       "      <td>Кира</td>\n",
       "      <td>22</td>\n",
       "      <td>Тюмень</td>\n",
       "      <td>ultra</td>\n",
       "      <td>6</td>\n",
       "      <td>0</td>\n",
       "      <td>199</td>\n",
       "      <td>241</td>\n",
       "    </tr>\n",
       "    <tr>\n",
       "      <th>2</th>\n",
       "      <td>1</td>\n",
       "      <td>8</td>\n",
       "      <td>6723.470560</td>\n",
       "      <td>2</td>\n",
       "      <td>45</td>\n",
       "      <td>Кира</td>\n",
       "      <td>22</td>\n",
       "      <td>Тюмень</td>\n",
       "      <td>ultra</td>\n",
       "      <td>6</td>\n",
       "      <td>0</td>\n",
       "      <td>199</td>\n",
       "      <td>469</td>\n",
       "    </tr>\n",
       "    <tr>\n",
       "      <th>3</th>\n",
       "      <td>1</td>\n",
       "      <td>10</td>\n",
       "      <td>5809.911100</td>\n",
       "      <td>2</td>\n",
       "      <td>32</td>\n",
       "      <td>Кира</td>\n",
       "      <td>22</td>\n",
       "      <td>Тюмень</td>\n",
       "      <td>ultra</td>\n",
       "      <td>6</td>\n",
       "      <td>0</td>\n",
       "      <td>199</td>\n",
       "      <td>391</td>\n",
       "    </tr>\n",
       "    <tr>\n",
       "      <th>4</th>\n",
       "      <td>1</td>\n",
       "      <td>11</td>\n",
       "      <td>7003.499363</td>\n",
       "      <td>3</td>\n",
       "      <td>54</td>\n",
       "      <td>Кира</td>\n",
       "      <td>22</td>\n",
       "      <td>Тюмень</td>\n",
       "      <td>ultra</td>\n",
       "      <td>6</td>\n",
       "      <td>0</td>\n",
       "      <td>199</td>\n",
       "      <td>523</td>\n",
       "    </tr>\n",
       "  </tbody>\n",
       "</table>\n",
       "</div>"
      ],
      "text/plain": [
       "   user_id  month  sum_distance  trips  sum_duration  name  age    city  \\\n",
       "0        1      1   7027.511294      2            42  Кира   22  Тюмень   \n",
       "1        1      4    754.159807      1             7  Кира   22  Тюмень   \n",
       "2        1      8   6723.470560      2            45  Кира   22  Тюмень   \n",
       "3        1     10   5809.911100      2            32  Кира   22  Тюмень   \n",
       "4        1     11   7003.499363      3            54  Кира   22  Тюмень   \n",
       "\n",
       "  subscription_type  minute_price  start_ride_price  subscription_fee  revenue  \n",
       "0             ultra             6                 0               199      451  \n",
       "1             ultra             6                 0               199      241  \n",
       "2             ultra             6                 0               199      469  \n",
       "3             ultra             6                 0               199      391  \n",
       "4             ultra             6                 0               199      523  "
      ]
     },
     "execution_count": 38,
     "metadata": {},
     "output_type": "execute_result"
    }
   ],
   "source": [
    "df['revenue'] = df['trips'] * df['start_ride_price'] + df['minute_price'] * df['sum_duration'] + df['subscription_fee']\n",
    "df.head()"
   ]
  },
  {
   "cell_type": "markdown",
   "id": "2c05cb49",
   "metadata": {},
   "source": [
    "Мы создали датафрейм в котором посчитали суммарное расстояние, количество поездок и суммарное время для каждого пользователя за каждый месяц, добавили в датафрейм столбец с выручкой для каждого пользователя за месяц."
   ]
  },
  {
   "cell_type": "markdown",
   "id": "41545ac0",
   "metadata": {},
   "source": [
    "## Проверка гипотез"
   ]
  },
  {
   "cell_type": "markdown",
   "id": "168cf433",
   "metadata": {},
   "source": [
    "Продакт-менеджеры сервиса хотят увеличить количество пользователей с подпиской. Для этого они будут проводить различные акции, но сначала нужно выяснить несколько важных моментов."
   ]
  },
  {
   "cell_type": "markdown",
   "id": "12a1e58d",
   "metadata": {},
   "source": [
    "Проверим тратят ли пользователи с подпиской больше времени на поездки. Если да, то пользователи с подпиской могут быть «выгоднее» для компании.\n",
    "\n",
    "Для начала посчитаем среднее время поездок пользователей с подпиской и без неё."
   ]
  },
  {
   "cell_type": "code",
   "execution_count": 39,
   "id": "aa923624",
   "metadata": {},
   "outputs": [
    {
     "data": {
      "text/html": [
       "<div>\n",
       "<style scoped>\n",
       "    .dataframe tbody tr th:only-of-type {\n",
       "        vertical-align: middle;\n",
       "    }\n",
       "\n",
       "    .dataframe tbody tr th {\n",
       "        vertical-align: top;\n",
       "    }\n",
       "\n",
       "    .dataframe thead th {\n",
       "        text-align: right;\n",
       "    }\n",
       "</style>\n",
       "<table border=\"1\" class=\"dataframe\">\n",
       "  <thead>\n",
       "    <tr style=\"text-align: right;\">\n",
       "      <th></th>\n",
       "      <th>sum_duration</th>\n",
       "    </tr>\n",
       "    <tr>\n",
       "      <th>subscription_type</th>\n",
       "      <th></th>\n",
       "    </tr>\n",
       "  </thead>\n",
       "  <tbody>\n",
       "    <tr>\n",
       "      <th>free</th>\n",
       "      <td>30.504266</td>\n",
       "    </tr>\n",
       "    <tr>\n",
       "      <th>ultra</th>\n",
       "      <td>27.080300</td>\n",
       "    </tr>\n",
       "  </tbody>\n",
       "</table>\n",
       "</div>"
      ],
      "text/plain": [
       "                   sum_duration\n",
       "subscription_type              \n",
       "free                  30.504266\n",
       "ultra                 27.080300"
      ]
     },
     "execution_count": 39,
     "metadata": {},
     "output_type": "execute_result"
    }
   ],
   "source": [
    "df.pivot_table(index='subscription_type', values='sum_duration', aggfunc='mean')"
   ]
  },
  {
   "cell_type": "markdown",
   "id": "c239f950",
   "metadata": {},
   "source": [
    "В среднем в этой выборке у пользователей без подписки длина поездок на 3 минуты дольше, чем у пользователей с подпиской. Проведем t-тест."
   ]
  },
  {
   "cell_type": "markdown",
   "id": "0062da22",
   "metadata": {},
   "source": [
    "Возьмем за нулевую гипотезу равенство времени на поездки пользователей с подпиской и без нее, а за альтернативную, что время поездок пользователей с подпиской меньше чем пользователей без подписки."
   ]
  },
  {
   "cell_type": "code",
   "execution_count": 40,
   "id": "724c9660",
   "metadata": {
    "scrolled": false
   },
   "outputs": [
    {
     "name": "stdout",
     "output_type": "stream",
     "text": [
      "p-значение: 9.512146845550163e-28\n",
      "Отвергаем нулевую гипотезу\n"
     ]
    }
   ],
   "source": [
    "alpha = 0.025\n",
    "results = st.ttest_ind(df[df['subscription_type'] == 'ultra']['sum_duration'],\n",
    "                       df[df['subscription_type'] == 'free']['sum_duration'], alternative='less')\n",
    "print('p-значение:', results.pvalue)\n",
    "if results.pvalue < alpha:\n",
    "    print('Отвергаем нулевую гипотезу')\n",
    "else: \n",
    "    print('Не отвергаем нулевую гипотезу')"
   ]
  },
  {
   "cell_type": "markdown",
   "id": "5b1f1305",
   "metadata": {},
   "source": [
    "Мы отвергли нулевую гипотезу. Это значит, что время на поездки пользователей с подпиской меньше, чем без нее."
   ]
  },
  {
   "cell_type": "markdown",
   "id": "a8cf5013",
   "metadata": {},
   "source": [
    "Расстояние одной поездки в 3130 метров — оптимальное с точки зрения износа самоката. Проверим можно ли сказать, что среднее расстояние, которое проезжают пользователи с подпиской за одну поездку, не превышает 3130 метров?."
   ]
  },
  {
   "cell_type": "markdown",
   "id": "b85b9974",
   "metadata": {},
   "source": [
    "Возьмем за нулевую гипотезу, что средняя длина поездки пользователей с подпиской равна 3130, а за альтернативную, что больше, тогда, если мы не отвегаем нулевую гипотезу, то можно сказать, что среднее расстояние не превышает 3130 метров."
   ]
  },
  {
   "cell_type": "code",
   "execution_count": 41,
   "id": "2f923fc6",
   "metadata": {},
   "outputs": [
    {
     "name": "stdout",
     "output_type": "stream",
     "text": [
      "Средняя длина поездки пользователей с подпиской в выборке: 3115.4\n"
     ]
    }
   ],
   "source": [
    "print('Средняя длина поездки пользователей с подпиской в выборке:',\n",
    "      round(data[data['subscription_type'] == 'ultra']['distance'].mean(),1))"
   ]
  },
  {
   "cell_type": "code",
   "execution_count": 42,
   "id": "db4f713e",
   "metadata": {},
   "outputs": [
    {
     "name": "stdout",
     "output_type": "stream",
     "text": [
      "p-значение: 0.9195368847849785\n",
      "Не отвергаем нулевую гипотезу\n"
     ]
    }
   ],
   "source": [
    "value = 3130\n",
    "alpha = 0.025\n",
    "results = st.ttest_1samp(data[data['subscription_type'] == 'ultra']['distance'], value, alternative='greater')\n",
    "print('p-значение:', results.pvalue)\n",
    "if results.pvalue < alpha:\n",
    "    print('Отвергаем нулевую гипотезу')\n",
    "else: \n",
    "    print('Не отвергаем нулевую гипотезу')"
   ]
  },
  {
   "cell_type": "markdown",
   "id": "844fce5e",
   "metadata": {},
   "source": [
    "Мы не отвергли нулевую гипотезу. Это значит, что среднее расстояние поездок пользователей с подпиской не превышает 3130 метров."
   ]
  },
  {
   "cell_type": "markdown",
   "id": "b889a4d8",
   "metadata": {},
   "source": [
    "Проверим гипотезу о том, будет ли помесячная выручка от пользователей с подпиской по месяцам выше, чем выручка от пользователей без подписки. "
   ]
  },
  {
   "cell_type": "markdown",
   "id": "d9b0a59e",
   "metadata": {},
   "source": [
    "Возьмем за нулевую гипотезу равенство выручки с пользователей с подпиской и без нее, а за альтернативную, что пользователи с подпиской приносят больше выручки."
   ]
  },
  {
   "cell_type": "code",
   "execution_count": 43,
   "id": "c5aac630",
   "metadata": {},
   "outputs": [
    {
     "name": "stdout",
     "output_type": "stream",
     "text": [
      "Выручка с пользователей без подписки в выборке: 329.1\n",
      "Выручка с пользователей с подпиской в выборке: 361.5\n"
     ]
    }
   ],
   "source": [
    "print('Выручка с пользователей без подписки в выборке:', round(df[df['subscription_type'] == 'free']['revenue'].mean(), 1))\n",
    "print('Выручка с пользователей с подпиской в выборке:', round(df[df['subscription_type'] == 'ultra']['revenue'].mean(), 1))"
   ]
  },
  {
   "cell_type": "code",
   "execution_count": 44,
   "id": "9f173e03",
   "metadata": {},
   "outputs": [
    {
     "name": "stdout",
     "output_type": "stream",
     "text": [
      "p-значение: 3.959332867057917e-29\n",
      "Отвергаем нулевую гипотезу\n"
     ]
    }
   ],
   "source": [
    "alpha = 0.025\n",
    "results = st.ttest_ind(df[df['subscription_type'] == 'ultra']['revenue'],\n",
    "                       df[df['subscription_type'] == 'free']['revenue'], alternative='greater')\n",
    "print('p-значение:', results.pvalue)\n",
    "if results.pvalue < alpha:\n",
    "    print('Отвергаем нулевую гипотезу')\n",
    "else: \n",
    "    print('Не отвергаем нулевую гипотезу')"
   ]
  },
  {
   "cell_type": "markdown",
   "id": "690439b2",
   "metadata": {},
   "source": [
    "Мы отвегли нулевую гипотезу в пользу альтернативной. Это значит, что пользователи с подпиской приносят большую помесячную выручку"
   ]
  },
  {
   "cell_type": "markdown",
   "id": "e9366555",
   "metadata": {},
   "source": [
    "Результаты проверки гипотез:\n",
    "- Время на поездки пользователей с подпиской меньше, чем без нее.\n",
    "- Среднее расстояние поездок пользователей с подпиской не превышает 3130 метров.\n",
    "- Пользователи с подпиской приносят большую помесячную выручку."
   ]
  },
  {
   "cell_type": "markdown",
   "id": "526358aa",
   "metadata": {},
   "source": [
    "## Выводы"
   ]
  },
  {
   "cell_type": "markdown",
   "id": "e6d98f1b",
   "metadata": {},
   "source": [
    "- Пользователей без подписки немного больше, чем пользователей с подпиской.\n",
    "- Типичная поездка - пользователь возрастом от 21 до 27 лет проезжает 2.5 - 3.5 км за 13 - 21 минуту.\n",
    "- Продолжительность и длина поездок пользователей с подпиской и без неё схожи.\n",
    "- У пользователей с бесплатной подпиской встречаются большие расстояния при этом время поезки увеличивается не сильно или не увеличивается.\n",
    "- Время на поездки пользователей с подпиской меньше, чем без нее.\n",
    "- Среднее расстояние поездок пользователей с подпиской не превышает 3130 метров.\n",
    "- Пользователи с подпиской приносят большую помесячную выручку."
   ]
  }
 ],
 "metadata": {
  "ExecuteTimeLog": [
   {
    "duration": 141,
    "start_time": "2025-03-18T13:15:38.651Z"
   },
   {
    "duration": 44,
    "start_time": "2025-03-18T13:15:43.473Z"
   },
   {
    "duration": 423,
    "start_time": "2025-03-18T13:15:45.692Z"
   },
   {
    "duration": 97,
    "start_time": "2025-03-18T13:15:46.559Z"
   },
   {
    "duration": 68,
    "start_time": "2025-03-18T13:16:10.993Z"
   },
   {
    "duration": 15,
    "start_time": "2025-03-18T13:16:32.652Z"
   },
   {
    "duration": 12,
    "start_time": "2025-03-18T13:16:51.299Z"
   },
   {
    "duration": 17,
    "start_time": "2025-03-18T13:16:57.883Z"
   },
   {
    "duration": 17,
    "start_time": "2025-03-18T13:16:59.419Z"
   },
   {
    "duration": 14,
    "start_time": "2025-03-18T13:17:13.631Z"
   },
   {
    "duration": 13,
    "start_time": "2025-03-18T13:23:25.195Z"
   },
   {
    "duration": 8,
    "start_time": "2025-03-18T13:23:34.013Z"
   },
   {
    "duration": 9,
    "start_time": "2025-03-18T13:23:39.240Z"
   },
   {
    "duration": 58,
    "start_time": "2025-03-18T13:24:28.249Z"
   },
   {
    "duration": 7,
    "start_time": "2025-03-18T13:25:01.222Z"
   },
   {
    "duration": 12,
    "start_time": "2025-03-18T13:25:02.902Z"
   },
   {
    "duration": 19,
    "start_time": "2025-03-18T13:25:15.276Z"
   },
   {
    "duration": 8,
    "start_time": "2025-03-18T13:25:50.571Z"
   },
   {
    "duration": 9,
    "start_time": "2025-03-18T13:26:11.311Z"
   },
   {
    "duration": 6,
    "start_time": "2025-03-18T13:26:18.482Z"
   },
   {
    "duration": 12,
    "start_time": "2025-03-18T13:26:36.191Z"
   },
   {
    "duration": 9,
    "start_time": "2025-03-18T13:27:21.862Z"
   },
   {
    "duration": 188,
    "start_time": "2025-03-18T13:27:37.748Z"
   },
   {
    "duration": 6,
    "start_time": "2025-03-18T13:27:42.619Z"
   },
   {
    "duration": 5,
    "start_time": "2025-03-18T13:27:46.993Z"
   },
   {
    "duration": 6,
    "start_time": "2025-03-18T13:27:55.900Z"
   },
   {
    "duration": 6,
    "start_time": "2025-03-18T13:28:43.347Z"
   },
   {
    "duration": 5,
    "start_time": "2025-03-18T13:28:43.530Z"
   },
   {
    "duration": 12,
    "start_time": "2025-03-18T13:29:51.768Z"
   },
   {
    "duration": 10,
    "start_time": "2025-03-18T13:30:09.532Z"
   },
   {
    "duration": 7,
    "start_time": "2025-03-18T13:30:18.148Z"
   },
   {
    "duration": 121,
    "start_time": "2025-03-18T13:30:28.432Z"
   },
   {
    "duration": 124,
    "start_time": "2025-03-18T13:30:31.979Z"
   },
   {
    "duration": 3,
    "start_time": "2025-03-18T13:30:35.071Z"
   },
   {
    "duration": 4,
    "start_time": "2025-03-18T13:30:40.546Z"
   },
   {
    "duration": 127,
    "start_time": "2025-03-18T13:30:44.641Z"
   },
   {
    "duration": 8,
    "start_time": "2025-03-18T13:32:02.333Z"
   },
   {
    "duration": 394,
    "start_time": "2025-03-18T13:32:19.181Z"
   },
   {
    "duration": 70,
    "start_time": "2025-03-18T13:32:19.577Z"
   },
   {
    "duration": 174,
    "start_time": "2025-03-18T13:32:19.649Z"
   },
   {
    "duration": 23,
    "start_time": "2025-03-18T13:32:19.825Z"
   },
   {
    "duration": 15,
    "start_time": "2025-03-18T13:32:19.850Z"
   },
   {
    "duration": 121,
    "start_time": "2025-03-18T13:32:19.867Z"
   },
   {
    "duration": 10,
    "start_time": "2025-03-18T13:32:19.990Z"
   },
   {
    "duration": 6,
    "start_time": "2025-03-18T13:32:20.002Z"
   },
   {
    "duration": 4,
    "start_time": "2025-03-18T13:32:20.010Z"
   },
   {
    "duration": 26,
    "start_time": "2025-03-18T13:32:20.016Z"
   },
   {
    "duration": 18,
    "start_time": "2025-03-18T13:32:20.044Z"
   },
   {
    "duration": 53,
    "start_time": "2025-03-18T13:32:32.443Z"
   },
   {
    "duration": 19,
    "start_time": "2025-03-18T13:32:54.850Z"
   },
   {
    "duration": 6,
    "start_time": "2025-03-18T13:33:07.759Z"
   },
   {
    "duration": 15,
    "start_time": "2025-03-18T13:33:15.269Z"
   },
   {
    "duration": 7,
    "start_time": "2025-03-18T13:33:17.130Z"
   },
   {
    "duration": 10,
    "start_time": "2025-03-18T13:34:24.543Z"
   },
   {
    "duration": 5,
    "start_time": "2025-03-18T13:34:58.378Z"
   },
   {
    "duration": 14,
    "start_time": "2025-03-18T13:35:36.820Z"
   },
   {
    "duration": 9,
    "start_time": "2025-03-18T13:36:16.651Z"
   },
   {
    "duration": 11,
    "start_time": "2025-03-18T13:36:22.440Z"
   },
   {
    "duration": 20,
    "start_time": "2025-03-18T13:36:27.358Z"
   },
   {
    "duration": 6,
    "start_time": "2025-03-18T13:36:43.993Z"
   },
   {
    "duration": 8,
    "start_time": "2025-03-18T13:37:25.492Z"
   },
   {
    "duration": 14,
    "start_time": "2025-03-18T13:40:48.657Z"
   },
   {
    "duration": 6,
    "start_time": "2025-03-18T13:41:00.147Z"
   },
   {
    "duration": 577,
    "start_time": "2025-03-18T13:41:09.691Z"
   },
   {
    "duration": 8,
    "start_time": "2025-03-18T13:41:20.392Z"
   },
   {
    "duration": 78,
    "start_time": "2025-03-18T13:41:36.540Z"
   },
   {
    "duration": 2,
    "start_time": "2025-03-18T13:41:56.786Z"
   },
   {
    "duration": 10,
    "start_time": "2025-03-18T13:42:07.831Z"
   },
   {
    "duration": 14,
    "start_time": "2025-03-18T13:42:16.619Z"
   },
   {
    "duration": 10,
    "start_time": "2025-03-18T13:42:28.311Z"
   },
   {
    "duration": 12,
    "start_time": "2025-03-18T13:42:33.739Z"
   },
   {
    "duration": 13,
    "start_time": "2025-03-18T13:43:25.586Z"
   },
   {
    "duration": 8,
    "start_time": "2025-03-18T13:43:41.611Z"
   },
   {
    "duration": 126,
    "start_time": "2025-03-18T13:43:53.466Z"
   },
   {
    "duration": 129,
    "start_time": "2025-03-18T13:44:24.356Z"
   },
   {
    "duration": 129,
    "start_time": "2025-03-18T13:44:40.530Z"
   },
   {
    "duration": 127,
    "start_time": "2025-03-18T13:44:44.390Z"
   },
   {
    "duration": 130,
    "start_time": "2025-03-18T13:44:48.542Z"
   },
   {
    "duration": 9,
    "start_time": "2025-03-18T13:45:16.464Z"
   },
   {
    "duration": 9,
    "start_time": "2025-03-18T13:45:17.945Z"
   },
   {
    "duration": 129,
    "start_time": "2025-03-18T13:45:18.129Z"
   },
   {
    "duration": 15,
    "start_time": "2025-03-18T13:45:40.529Z"
   },
   {
    "duration": 18,
    "start_time": "2025-03-18T13:46:52.140Z"
   },
   {
    "duration": 16,
    "start_time": "2025-03-18T13:46:57.844Z"
   },
   {
    "duration": 9,
    "start_time": "2025-03-18T13:47:41.798Z"
   },
   {
    "duration": 143,
    "start_time": "2025-03-18T13:48:04.198Z"
   },
   {
    "duration": 128,
    "start_time": "2025-03-18T13:48:22.893Z"
   },
   {
    "duration": 8,
    "start_time": "2025-03-18T13:49:35.648Z"
   },
   {
    "duration": 14,
    "start_time": "2025-03-18T13:49:44.539Z"
   },
   {
    "duration": 9,
    "start_time": "2025-03-18T13:51:14.508Z"
   },
   {
    "duration": 12,
    "start_time": "2025-03-18T13:51:50.953Z"
   },
   {
    "duration": 12,
    "start_time": "2025-03-18T13:52:09.023Z"
   },
   {
    "duration": 11,
    "start_time": "2025-03-18T13:52:19.158Z"
   },
   {
    "duration": 95,
    "start_time": "2025-03-18T13:52:53.159Z"
   },
   {
    "duration": 7,
    "start_time": "2025-03-18T13:52:59.814Z"
   },
   {
    "duration": 93,
    "start_time": "2025-03-18T13:53:21.453Z"
   },
   {
    "duration": 100,
    "start_time": "2025-03-18T13:53:36.968Z"
   },
   {
    "duration": 105,
    "start_time": "2025-03-18T13:54:20.683Z"
   },
   {
    "duration": 698,
    "start_time": "2025-03-18T13:54:36.442Z"
   },
   {
    "duration": 70,
    "start_time": "2025-03-18T13:54:37.143Z"
   },
   {
    "duration": 20,
    "start_time": "2025-03-18T13:54:37.214Z"
   },
   {
    "duration": 17,
    "start_time": "2025-03-18T13:54:37.236Z"
   },
   {
    "duration": 14,
    "start_time": "2025-03-18T13:54:37.255Z"
   },
   {
    "duration": 28,
    "start_time": "2025-03-18T13:54:37.271Z"
   },
   {
    "duration": 43,
    "start_time": "2025-03-18T13:54:37.301Z"
   },
   {
    "duration": 7,
    "start_time": "2025-03-18T13:54:37.346Z"
   },
   {
    "duration": 5,
    "start_time": "2025-03-18T13:54:37.355Z"
   },
   {
    "duration": 10,
    "start_time": "2025-03-18T13:54:37.361Z"
   },
   {
    "duration": 54,
    "start_time": "2025-03-18T13:54:37.373Z"
   },
   {
    "duration": 33,
    "start_time": "2025-03-18T13:54:37.428Z"
   },
   {
    "duration": 18,
    "start_time": "2025-03-18T13:54:37.464Z"
   },
   {
    "duration": 39,
    "start_time": "2025-03-18T13:54:37.487Z"
   },
   {
    "duration": 10,
    "start_time": "2025-03-18T13:54:37.527Z"
   },
   {
    "duration": 9,
    "start_time": "2025-03-18T13:54:37.538Z"
   },
   {
    "duration": 18,
    "start_time": "2025-03-18T13:54:37.548Z"
   },
   {
    "duration": 147,
    "start_time": "2025-03-18T13:54:37.567Z"
   },
   {
    "duration": 11,
    "start_time": "2025-03-18T13:54:37.715Z"
   },
   {
    "duration": 171,
    "start_time": "2025-03-18T13:54:37.728Z"
   },
   {
    "duration": 826,
    "start_time": "2025-03-19T09:26:10.251Z"
   },
   {
    "duration": 82,
    "start_time": "2025-03-19T09:26:11.079Z"
   },
   {
    "duration": 20,
    "start_time": "2025-03-19T09:26:11.163Z"
   },
   {
    "duration": 15,
    "start_time": "2025-03-19T09:26:11.185Z"
   },
   {
    "duration": 22,
    "start_time": "2025-03-19T09:26:11.202Z"
   },
   {
    "duration": 33,
    "start_time": "2025-03-19T09:26:11.225Z"
   },
   {
    "duration": 24,
    "start_time": "2025-03-19T09:26:11.260Z"
   },
   {
    "duration": 48,
    "start_time": "2025-03-19T09:26:11.286Z"
   },
   {
    "duration": 42,
    "start_time": "2025-03-19T09:26:11.336Z"
   },
   {
    "duration": 25,
    "start_time": "2025-03-19T09:26:11.379Z"
   },
   {
    "duration": 22,
    "start_time": "2025-03-19T09:26:11.405Z"
   },
   {
    "duration": 21,
    "start_time": "2025-03-19T09:26:11.429Z"
   },
   {
    "duration": 23,
    "start_time": "2025-03-19T09:26:11.452Z"
   },
   {
    "duration": 19,
    "start_time": "2025-03-19T09:26:11.478Z"
   },
   {
    "duration": 27,
    "start_time": "2025-03-19T09:26:11.499Z"
   },
   {
    "duration": 14,
    "start_time": "2025-03-19T09:26:11.528Z"
   },
   {
    "duration": 36,
    "start_time": "2025-03-19T09:26:11.544Z"
   },
   {
    "duration": 144,
    "start_time": "2025-03-19T09:26:11.583Z"
   },
   {
    "duration": 12,
    "start_time": "2025-03-19T09:26:11.729Z"
   },
   {
    "duration": 121,
    "start_time": "2025-03-19T09:26:11.742Z"
   },
   {
    "duration": 12,
    "start_time": "2025-03-19T09:28:07.773Z"
   },
   {
    "duration": 131,
    "start_time": "2025-03-19T09:28:21.908Z"
   },
   {
    "duration": 125,
    "start_time": "2025-03-19T09:28:33.164Z"
   },
   {
    "duration": 175,
    "start_time": "2025-03-19T09:28:37.804Z"
   },
   {
    "duration": 147,
    "start_time": "2025-03-19T09:28:43.625Z"
   },
   {
    "duration": 151,
    "start_time": "2025-03-19T09:28:47.223Z"
   },
   {
    "duration": 123,
    "start_time": "2025-03-19T09:28:53.526Z"
   },
   {
    "duration": 129,
    "start_time": "2025-03-19T09:29:27.048Z"
   },
   {
    "duration": 6,
    "start_time": "2025-03-19T09:29:58.436Z"
   },
   {
    "duration": 9,
    "start_time": "2025-03-19T09:30:20.897Z"
   },
   {
    "duration": 6,
    "start_time": "2025-03-19T09:31:05.155Z"
   },
   {
    "duration": 121,
    "start_time": "2025-03-19T09:32:34.376Z"
   },
   {
    "duration": 99,
    "start_time": "2025-03-19T09:32:47.976Z"
   },
   {
    "duration": 129,
    "start_time": "2025-03-19T09:32:54.645Z"
   },
   {
    "duration": 14,
    "start_time": "2025-03-19T09:34:06.035Z"
   },
   {
    "duration": 5,
    "start_time": "2025-03-19T09:34:17.695Z"
   },
   {
    "duration": 5,
    "start_time": "2025-03-19T09:34:21.333Z"
   },
   {
    "duration": 6,
    "start_time": "2025-03-19T09:34:34.678Z"
   },
   {
    "duration": 14,
    "start_time": "2025-03-19T09:35:31.845Z"
   },
   {
    "duration": 5,
    "start_time": "2025-03-19T09:35:50.184Z"
   },
   {
    "duration": 5,
    "start_time": "2025-03-19T09:35:53.867Z"
   },
   {
    "duration": 6,
    "start_time": "2025-03-19T09:35:56.855Z"
   },
   {
    "duration": 5,
    "start_time": "2025-03-19T09:36:05.245Z"
   },
   {
    "duration": 205,
    "start_time": "2025-03-19T09:38:22.808Z"
   },
   {
    "duration": 68,
    "start_time": "2025-03-19T09:38:31.226Z"
   },
   {
    "duration": 8,
    "start_time": "2025-03-19T09:38:46.166Z"
   },
   {
    "duration": 8,
    "start_time": "2025-03-19T09:38:47.847Z"
   },
   {
    "duration": 138,
    "start_time": "2025-03-19T09:39:45.708Z"
   },
   {
    "duration": 130,
    "start_time": "2025-03-19T09:40:18.727Z"
   },
   {
    "duration": 136,
    "start_time": "2025-03-19T09:40:48.266Z"
   },
   {
    "duration": 155,
    "start_time": "2025-03-19T09:40:53.399Z"
   },
   {
    "duration": 163,
    "start_time": "2025-03-19T09:40:56.985Z"
   },
   {
    "duration": 147,
    "start_time": "2025-03-19T09:40:59.639Z"
   },
   {
    "duration": 139,
    "start_time": "2025-03-19T09:41:03.846Z"
   },
   {
    "duration": 137,
    "start_time": "2025-03-19T09:41:07.626Z"
   },
   {
    "duration": 128,
    "start_time": "2025-03-19T09:43:00.624Z"
   },
   {
    "duration": 710,
    "start_time": "2025-03-20T11:10:27.160Z"
   },
   {
    "duration": 168,
    "start_time": "2025-03-20T11:10:27.872Z"
   },
   {
    "duration": 17,
    "start_time": "2025-03-20T11:10:28.042Z"
   },
   {
    "duration": 18,
    "start_time": "2025-03-20T11:10:28.061Z"
   },
   {
    "duration": 17,
    "start_time": "2025-03-20T11:10:28.080Z"
   },
   {
    "duration": 21,
    "start_time": "2025-03-20T11:10:28.098Z"
   },
   {
    "duration": 9,
    "start_time": "2025-03-20T11:10:28.120Z"
   },
   {
    "duration": 4,
    "start_time": "2025-03-20T11:10:28.130Z"
   },
   {
    "duration": 28,
    "start_time": "2025-03-20T11:10:28.135Z"
   },
   {
    "duration": 32,
    "start_time": "2025-03-20T11:10:28.165Z"
   },
   {
    "duration": 40,
    "start_time": "2025-03-20T11:10:28.198Z"
   },
   {
    "duration": 10,
    "start_time": "2025-03-20T11:10:28.239Z"
   },
   {
    "duration": 14,
    "start_time": "2025-03-20T11:10:28.251Z"
   },
   {
    "duration": 28,
    "start_time": "2025-03-20T11:10:28.266Z"
   },
   {
    "duration": 5,
    "start_time": "2025-03-20T11:10:28.295Z"
   },
   {
    "duration": 7,
    "start_time": "2025-03-20T11:10:28.301Z"
   },
   {
    "duration": 24,
    "start_time": "2025-03-20T11:10:28.309Z"
   },
   {
    "duration": 109,
    "start_time": "2025-03-20T11:10:28.334Z"
   },
   {
    "duration": 15,
    "start_time": "2025-03-20T11:10:28.444Z"
   },
   {
    "duration": 83,
    "start_time": "2025-03-20T11:10:28.461Z"
   },
   {
    "duration": 12,
    "start_time": "2025-03-20T11:10:28.545Z"
   },
   {
    "duration": 113,
    "start_time": "2025-03-20T11:10:28.558Z"
   },
   {
    "duration": 4,
    "start_time": "2025-03-20T11:10:28.673Z"
   },
   {
    "duration": 129,
    "start_time": "2025-03-20T11:10:28.678Z"
   },
   {
    "duration": 4,
    "start_time": "2025-03-20T11:10:28.809Z"
   },
   {
    "duration": 153,
    "start_time": "2025-03-20T11:10:28.814Z"
   },
   {
    "duration": 63,
    "start_time": "2025-03-20T11:11:20.982Z"
   },
   {
    "duration": 11,
    "start_time": "2025-03-20T11:11:31.865Z"
   },
   {
    "duration": 12,
    "start_time": "2025-03-20T11:11:39.888Z"
   },
   {
    "duration": 40,
    "start_time": "2025-03-20T11:12:44.009Z"
   },
   {
    "duration": 20,
    "start_time": "2025-03-20T11:13:01.711Z"
   },
   {
    "duration": 20,
    "start_time": "2025-03-20T11:13:07.102Z"
   },
   {
    "duration": 20,
    "start_time": "2025-03-20T11:13:11.460Z"
   },
   {
    "duration": 21,
    "start_time": "2025-03-20T11:13:14.811Z"
   },
   {
    "duration": 7,
    "start_time": "2025-03-20T11:13:24.611Z"
   },
   {
    "duration": 24,
    "start_time": "2025-03-20T11:13:59.251Z"
   },
   {
    "duration": 19,
    "start_time": "2025-03-20T11:14:19.370Z"
   },
   {
    "duration": 23,
    "start_time": "2025-03-20T11:16:06.964Z"
   },
   {
    "duration": 18,
    "start_time": "2025-03-20T11:16:09.225Z"
   },
   {
    "duration": 15,
    "start_time": "2025-03-20T11:16:36.062Z"
   },
   {
    "duration": 7,
    "start_time": "2025-03-20T11:20:13.873Z"
   },
   {
    "duration": 7,
    "start_time": "2025-03-20T11:20:23.542Z"
   },
   {
    "duration": 343,
    "start_time": "2025-03-20T11:20:29.502Z"
   },
   {
    "duration": 0,
    "start_time": "2025-03-20T11:22:13.791Z"
   },
   {
    "duration": 126,
    "start_time": "2025-03-20T11:22:15.781Z"
   },
   {
    "duration": 125,
    "start_time": "2025-03-20T11:22:47.270Z"
   },
   {
    "duration": 168,
    "start_time": "2025-03-20T11:23:52.702Z"
   },
   {
    "duration": 278,
    "start_time": "2025-03-20T11:24:05.818Z"
   },
   {
    "duration": 277,
    "start_time": "2025-03-20T11:24:38.028Z"
   },
   {
    "duration": 254,
    "start_time": "2025-03-20T11:24:45.347Z"
   },
   {
    "duration": 255,
    "start_time": "2025-03-20T11:24:49.917Z"
   },
   {
    "duration": 258,
    "start_time": "2025-03-20T11:25:19.337Z"
   },
   {
    "duration": 8,
    "start_time": "2025-03-20T11:25:44.568Z"
   },
   {
    "duration": 15,
    "start_time": "2025-03-20T11:25:50.251Z"
   },
   {
    "duration": 11,
    "start_time": "2025-03-20T11:26:13.733Z"
   },
   {
    "duration": 101,
    "start_time": "2025-03-20T11:35:01.561Z"
   },
   {
    "duration": 16,
    "start_time": "2025-03-20T11:35:20.054Z"
   },
   {
    "duration": 7,
    "start_time": "2025-03-20T11:35:29.320Z"
   },
   {
    "duration": 6,
    "start_time": "2025-03-20T11:35:41.082Z"
   },
   {
    "duration": 5,
    "start_time": "2025-03-20T11:36:35.132Z"
   },
   {
    "duration": 10,
    "start_time": "2025-03-20T11:37:08.589Z"
   },
   {
    "duration": 7,
    "start_time": "2025-03-20T11:37:18.848Z"
   },
   {
    "duration": 162,
    "start_time": "2025-03-20T11:38:09.019Z"
   },
   {
    "duration": 522,
    "start_time": "2025-03-20T11:38:50.403Z"
   },
   {
    "duration": 53,
    "start_time": "2025-03-20T11:38:50.926Z"
   },
   {
    "duration": 16,
    "start_time": "2025-03-20T11:38:50.980Z"
   },
   {
    "duration": 39,
    "start_time": "2025-03-20T11:38:50.997Z"
   },
   {
    "duration": 92,
    "start_time": "2025-03-20T11:38:51.038Z"
   },
   {
    "duration": 12,
    "start_time": "2025-03-20T11:38:51.131Z"
   },
   {
    "duration": 14,
    "start_time": "2025-03-20T11:38:51.144Z"
   },
   {
    "duration": 5,
    "start_time": "2025-03-20T11:38:51.159Z"
   },
   {
    "duration": 5,
    "start_time": "2025-03-20T11:38:51.165Z"
   },
   {
    "duration": 26,
    "start_time": "2025-03-20T11:38:51.171Z"
   },
   {
    "duration": 38,
    "start_time": "2025-03-20T11:38:51.198Z"
   },
   {
    "duration": 13,
    "start_time": "2025-03-20T11:38:51.237Z"
   },
   {
    "duration": 12,
    "start_time": "2025-03-20T11:38:51.252Z"
   },
   {
    "duration": 14,
    "start_time": "2025-03-20T11:38:51.267Z"
   },
   {
    "duration": 14,
    "start_time": "2025-03-20T11:38:51.282Z"
   },
   {
    "duration": 111,
    "start_time": "2025-03-20T11:38:51.297Z"
   },
   {
    "duration": 19,
    "start_time": "2025-03-20T11:38:51.410Z"
   },
   {
    "duration": 118,
    "start_time": "2025-03-20T11:38:51.430Z"
   },
   {
    "duration": 8,
    "start_time": "2025-03-20T11:38:51.549Z"
   },
   {
    "duration": 93,
    "start_time": "2025-03-20T11:38:51.559Z"
   },
   {
    "duration": 4,
    "start_time": "2025-03-20T11:38:51.653Z"
   },
   {
    "duration": 118,
    "start_time": "2025-03-20T11:38:51.658Z"
   },
   {
    "duration": 4,
    "start_time": "2025-03-20T11:38:51.777Z"
   },
   {
    "duration": 178,
    "start_time": "2025-03-20T11:38:51.782Z"
   },
   {
    "duration": 5,
    "start_time": "2025-03-20T11:38:51.962Z"
   },
   {
    "duration": 177,
    "start_time": "2025-03-20T11:38:51.968Z"
   },
   {
    "duration": 27,
    "start_time": "2025-03-20T11:38:52.146Z"
   },
   {
    "duration": 57,
    "start_time": "2025-03-20T11:38:52.174Z"
   },
   {
    "duration": 15,
    "start_time": "2025-03-20T11:38:52.233Z"
   },
   {
    "duration": 279,
    "start_time": "2025-03-20T11:38:52.249Z"
   },
   {
    "duration": 11,
    "start_time": "2025-03-20T11:38:52.529Z"
   },
   {
    "duration": 141,
    "start_time": "2025-03-20T11:38:52.541Z"
   },
   {
    "duration": 859,
    "start_time": "2025-03-22T12:08:48.564Z"
   },
   {
    "duration": 74,
    "start_time": "2025-03-22T12:08:49.425Z"
   },
   {
    "duration": 22,
    "start_time": "2025-03-22T12:08:49.501Z"
   },
   {
    "duration": 17,
    "start_time": "2025-03-22T12:08:49.525Z"
   },
   {
    "duration": 14,
    "start_time": "2025-03-22T12:08:49.544Z"
   },
   {
    "duration": 16,
    "start_time": "2025-03-22T12:08:49.560Z"
   },
   {
    "duration": 11,
    "start_time": "2025-03-22T12:08:49.604Z"
   },
   {
    "duration": 6,
    "start_time": "2025-03-22T12:08:49.616Z"
   },
   {
    "duration": 4,
    "start_time": "2025-03-22T12:08:49.624Z"
   },
   {
    "duration": 8,
    "start_time": "2025-03-22T12:08:49.630Z"
   },
   {
    "duration": 9,
    "start_time": "2025-03-22T12:08:49.640Z"
   },
   {
    "duration": 6,
    "start_time": "2025-03-22T12:08:49.651Z"
   },
   {
    "duration": 49,
    "start_time": "2025-03-22T12:08:49.658Z"
   },
   {
    "duration": 10,
    "start_time": "2025-03-22T12:08:49.710Z"
   },
   {
    "duration": 9,
    "start_time": "2025-03-22T12:08:49.722Z"
   },
   {
    "duration": 8,
    "start_time": "2025-03-22T12:08:49.733Z"
   },
   {
    "duration": 25,
    "start_time": "2025-03-22T12:08:49.742Z"
   },
   {
    "duration": 187,
    "start_time": "2025-03-22T12:08:49.769Z"
   },
   {
    "duration": 11,
    "start_time": "2025-03-22T12:08:49.957Z"
   },
   {
    "duration": 125,
    "start_time": "2025-03-22T12:08:49.970Z"
   },
   {
    "duration": 11,
    "start_time": "2025-03-22T12:08:50.097Z"
   },
   {
    "duration": 171,
    "start_time": "2025-03-22T12:08:50.110Z"
   },
   {
    "duration": 5,
    "start_time": "2025-03-22T12:08:50.283Z"
   },
   {
    "duration": 177,
    "start_time": "2025-03-22T12:08:50.290Z"
   },
   {
    "duration": 5,
    "start_time": "2025-03-22T12:08:50.468Z"
   },
   {
    "duration": 215,
    "start_time": "2025-03-22T12:08:50.474Z"
   },
   {
    "duration": 37,
    "start_time": "2025-03-22T12:08:50.691Z"
   },
   {
    "duration": 21,
    "start_time": "2025-03-22T12:08:50.730Z"
   },
   {
    "duration": 19,
    "start_time": "2025-03-22T12:08:50.753Z"
   },
   {
    "duration": 366,
    "start_time": "2025-03-22T12:08:50.774Z"
   },
   {
    "duration": 14,
    "start_time": "2025-03-22T12:08:51.142Z"
   },
   {
    "duration": 189,
    "start_time": "2025-03-22T12:08:51.157Z"
   },
   {
    "duration": 19,
    "start_time": "2025-03-22T12:10:02.906Z"
   },
   {
    "duration": 75,
    "start_time": "2025-03-22T12:10:24.564Z"
   },
   {
    "duration": 5,
    "start_time": "2025-03-22T12:11:28.040Z"
   },
   {
    "duration": 5,
    "start_time": "2025-03-22T12:11:33.711Z"
   },
   {
    "duration": 14,
    "start_time": "2025-03-22T12:13:06.598Z"
   },
   {
    "duration": 14,
    "start_time": "2025-03-22T12:13:19.446Z"
   },
   {
    "duration": 22,
    "start_time": "2025-03-22T12:14:33.732Z"
   },
   {
    "duration": 13,
    "start_time": "2025-03-22T12:14:52.109Z"
   },
   {
    "duration": 15,
    "start_time": "2025-03-22T12:16:55.280Z"
   },
   {
    "duration": 84,
    "start_time": "2025-03-22T12:17:02.010Z"
   },
   {
    "duration": 28,
    "start_time": "2025-03-22T12:17:06.040Z"
   },
   {
    "duration": 15,
    "start_time": "2025-03-22T12:18:00.973Z"
   },
   {
    "duration": 8,
    "start_time": "2025-03-22T12:18:44.429Z"
   },
   {
    "duration": 10,
    "start_time": "2025-03-22T12:19:05.333Z"
   },
   {
    "duration": 16,
    "start_time": "2025-03-22T12:20:19.065Z"
   },
   {
    "duration": 83,
    "start_time": "2025-03-22T12:20:57.970Z"
   },
   {
    "duration": 15,
    "start_time": "2025-03-22T12:21:00.675Z"
   },
   {
    "duration": 15,
    "start_time": "2025-03-22T12:21:27.660Z"
   },
   {
    "duration": 24,
    "start_time": "2025-03-22T12:24:29.634Z"
   },
   {
    "duration": 35,
    "start_time": "2025-03-22T12:24:34.113Z"
   },
   {
    "duration": 10,
    "start_time": "2025-03-22T12:24:46.465Z"
   },
   {
    "duration": 26,
    "start_time": "2025-03-22T12:25:08.042Z"
   },
   {
    "duration": 17,
    "start_time": "2025-03-22T12:25:14.201Z"
   },
   {
    "duration": 38,
    "start_time": "2025-03-22T12:25:55.661Z"
   },
   {
    "duration": 35,
    "start_time": "2025-03-22T12:26:59.804Z"
   },
   {
    "duration": 61,
    "start_time": "2025-03-22T12:27:23.228Z"
   },
   {
    "duration": 168,
    "start_time": "2025-03-22T12:27:37.133Z"
   },
   {
    "duration": 593,
    "start_time": "2025-03-22T12:27:53.784Z"
   },
   {
    "duration": 3564,
    "start_time": "2025-03-22T12:28:04.348Z"
   },
   {
    "duration": 69,
    "start_time": "2025-03-22T12:28:16.474Z"
   },
   {
    "duration": 46,
    "start_time": "2025-03-22T12:28:17.524Z"
   },
   {
    "duration": 38,
    "start_time": "2025-03-22T12:28:27.271Z"
   },
   {
    "duration": 36,
    "start_time": "2025-03-22T12:28:27.556Z"
   },
   {
    "duration": 37,
    "start_time": "2025-03-22T12:30:19.015Z"
   },
   {
    "duration": 17,
    "start_time": "2025-03-22T12:30:19.248Z"
   },
   {
    "duration": 14,
    "start_time": "2025-03-22T12:30:48.118Z"
   },
   {
    "duration": 25,
    "start_time": "2025-03-22T12:31:05.470Z"
   },
   {
    "duration": 37,
    "start_time": "2025-03-22T12:31:12.516Z"
   },
   {
    "duration": 29,
    "start_time": "2025-03-22T12:31:13.013Z"
   },
   {
    "duration": 34,
    "start_time": "2025-03-22T12:31:31.413Z"
   },
   {
    "duration": 32,
    "start_time": "2025-03-22T12:31:38.644Z"
   },
   {
    "duration": 25,
    "start_time": "2025-03-22T12:31:39.428Z"
   },
   {
    "duration": 28,
    "start_time": "2025-03-22T12:31:56.640Z"
   },
   {
    "duration": 92,
    "start_time": "2025-03-22T12:31:59.732Z"
   },
   {
    "duration": 36,
    "start_time": "2025-03-22T12:32:03.789Z"
   },
   {
    "duration": 19,
    "start_time": "2025-03-22T12:32:03.988Z"
   },
   {
    "duration": 38,
    "start_time": "2025-03-22T12:32:27.838Z"
   },
   {
    "duration": 38,
    "start_time": "2025-03-22T12:32:28.413Z"
   },
   {
    "duration": 4,
    "start_time": "2025-03-22T13:33:39.223Z"
   },
   {
    "duration": 723,
    "start_time": "2025-03-22T18:10:50.921Z"
   },
   {
    "duration": 66,
    "start_time": "2025-03-22T18:10:51.646Z"
   },
   {
    "duration": 22,
    "start_time": "2025-03-22T18:10:51.714Z"
   },
   {
    "duration": 18,
    "start_time": "2025-03-22T18:10:51.738Z"
   },
   {
    "duration": 15,
    "start_time": "2025-03-22T18:10:51.758Z"
   },
   {
    "duration": 36,
    "start_time": "2025-03-22T18:10:51.775Z"
   },
   {
    "duration": 12,
    "start_time": "2025-03-22T18:10:51.812Z"
   },
   {
    "duration": 6,
    "start_time": "2025-03-22T18:10:51.826Z"
   },
   {
    "duration": 8,
    "start_time": "2025-03-22T18:10:51.834Z"
   },
   {
    "duration": 9,
    "start_time": "2025-03-22T18:10:51.844Z"
   },
   {
    "duration": 55,
    "start_time": "2025-03-22T18:10:51.855Z"
   },
   {
    "duration": 5,
    "start_time": "2025-03-22T18:10:51.912Z"
   },
   {
    "duration": 47,
    "start_time": "2025-03-22T18:10:51.919Z"
   },
   {
    "duration": 10,
    "start_time": "2025-03-22T18:10:51.968Z"
   },
   {
    "duration": 9,
    "start_time": "2025-03-22T18:10:51.979Z"
   },
   {
    "duration": 7,
    "start_time": "2025-03-22T18:10:51.990Z"
   },
   {
    "duration": 27,
    "start_time": "2025-03-22T18:10:51.999Z"
   },
   {
    "duration": 147,
    "start_time": "2025-03-22T18:10:52.028Z"
   },
   {
    "duration": 12,
    "start_time": "2025-03-22T18:10:52.176Z"
   },
   {
    "duration": 111,
    "start_time": "2025-03-22T18:10:52.203Z"
   },
   {
    "duration": 8,
    "start_time": "2025-03-22T18:10:52.317Z"
   },
   {
    "duration": 169,
    "start_time": "2025-03-22T18:10:52.327Z"
   },
   {
    "duration": 5,
    "start_time": "2025-03-22T18:10:52.504Z"
   },
   {
    "duration": 174,
    "start_time": "2025-03-22T18:10:52.510Z"
   },
   {
    "duration": 5,
    "start_time": "2025-03-22T18:10:52.685Z"
   },
   {
    "duration": 223,
    "start_time": "2025-03-22T18:10:52.691Z"
   },
   {
    "duration": 33,
    "start_time": "2025-03-22T18:10:52.916Z"
   },
   {
    "duration": 22,
    "start_time": "2025-03-22T18:10:52.952Z"
   },
   {
    "duration": 47,
    "start_time": "2025-03-22T18:10:52.976Z"
   },
   {
    "duration": 375,
    "start_time": "2025-03-22T18:10:53.025Z"
   },
   {
    "duration": 16,
    "start_time": "2025-03-22T18:10:53.402Z"
   },
   {
    "duration": 197,
    "start_time": "2025-03-22T18:10:53.419Z"
   },
   {
    "duration": 39,
    "start_time": "2025-03-22T18:10:53.617Z"
   },
   {
    "duration": 71,
    "start_time": "2025-03-22T18:10:53.658Z"
   },
   {
    "duration": 28,
    "start_time": "2025-03-22T18:12:49.550Z"
   },
   {
    "duration": 94,
    "start_time": "2025-03-22T18:12:58.797Z"
   },
   {
    "duration": 22,
    "start_time": "2025-03-22T18:13:14.791Z"
   },
   {
    "duration": 22,
    "start_time": "2025-03-22T18:13:18.649Z"
   },
   {
    "duration": 4,
    "start_time": "2025-03-22T18:14:19.436Z"
   },
   {
    "duration": 113,
    "start_time": "2025-03-22T18:14:23.909Z"
   },
   {
    "duration": 4,
    "start_time": "2025-03-22T18:14:35.642Z"
   },
   {
    "duration": 16,
    "start_time": "2025-03-22T18:15:45.709Z"
   },
   {
    "duration": 4,
    "start_time": "2025-03-22T18:16:05.049Z"
   },
   {
    "duration": 6,
    "start_time": "2025-03-22T18:16:08.855Z"
   },
   {
    "duration": 21,
    "start_time": "2025-03-22T18:16:20.035Z"
   },
   {
    "duration": 25,
    "start_time": "2025-03-22T18:17:54.180Z"
   },
   {
    "duration": 28,
    "start_time": "2025-03-22T18:18:48.790Z"
   },
   {
    "duration": 698,
    "start_time": "2025-03-22T18:19:10.712Z"
   },
   {
    "duration": 78,
    "start_time": "2025-03-22T18:19:11.412Z"
   },
   {
    "duration": 23,
    "start_time": "2025-03-22T18:19:11.492Z"
   },
   {
    "duration": 18,
    "start_time": "2025-03-22T18:19:11.518Z"
   },
   {
    "duration": 15,
    "start_time": "2025-03-22T18:19:11.538Z"
   },
   {
    "duration": 48,
    "start_time": "2025-03-22T18:19:11.555Z"
   },
   {
    "duration": 12,
    "start_time": "2025-03-22T18:19:11.605Z"
   },
   {
    "duration": 7,
    "start_time": "2025-03-22T18:19:11.619Z"
   },
   {
    "duration": 19,
    "start_time": "2025-03-22T18:19:11.627Z"
   },
   {
    "duration": 12,
    "start_time": "2025-03-22T18:19:11.650Z"
   },
   {
    "duration": 10,
    "start_time": "2025-03-22T18:19:11.664Z"
   },
   {
    "duration": 31,
    "start_time": "2025-03-22T18:19:11.676Z"
   },
   {
    "duration": 17,
    "start_time": "2025-03-22T18:19:11.709Z"
   },
   {
    "duration": 12,
    "start_time": "2025-03-22T18:19:11.728Z"
   },
   {
    "duration": 7,
    "start_time": "2025-03-22T18:19:11.742Z"
   },
   {
    "duration": 13,
    "start_time": "2025-03-22T18:19:11.751Z"
   },
   {
    "duration": 41,
    "start_time": "2025-03-22T18:19:11.766Z"
   },
   {
    "duration": 151,
    "start_time": "2025-03-22T18:19:11.810Z"
   },
   {
    "duration": 11,
    "start_time": "2025-03-22T18:19:11.964Z"
   },
   {
    "duration": 169,
    "start_time": "2025-03-22T18:19:11.976Z"
   },
   {
    "duration": 7,
    "start_time": "2025-03-22T18:19:12.146Z"
   },
   {
    "duration": 182,
    "start_time": "2025-03-22T18:19:12.155Z"
   },
   {
    "duration": 7,
    "start_time": "2025-03-22T18:19:12.339Z"
   },
   {
    "duration": 188,
    "start_time": "2025-03-22T18:19:12.348Z"
   },
   {
    "duration": 5,
    "start_time": "2025-03-22T18:19:12.537Z"
   },
   {
    "duration": 210,
    "start_time": "2025-03-22T18:19:12.544Z"
   },
   {
    "duration": 32,
    "start_time": "2025-03-22T18:19:12.756Z"
   },
   {
    "duration": 23,
    "start_time": "2025-03-22T18:19:12.803Z"
   },
   {
    "duration": 22,
    "start_time": "2025-03-22T18:19:12.827Z"
   },
   {
    "duration": 394,
    "start_time": "2025-03-22T18:19:12.850Z"
   },
   {
    "duration": 15,
    "start_time": "2025-03-22T18:19:13.246Z"
   },
   {
    "duration": 179,
    "start_time": "2025-03-22T18:19:13.262Z"
   },
   {
    "duration": 37,
    "start_time": "2025-03-22T18:19:13.443Z"
   },
   {
    "duration": 69,
    "start_time": "2025-03-22T18:19:13.482Z"
   },
   {
    "duration": 19,
    "start_time": "2025-03-22T18:19:13.552Z"
   },
   {
    "duration": 38,
    "start_time": "2025-03-22T18:19:13.573Z"
   },
   {
    "duration": 66,
    "start_time": "2025-03-22T18:19:32.050Z"
   },
   {
    "duration": 661,
    "start_time": "2025-03-22T18:19:37.056Z"
   },
   {
    "duration": 60,
    "start_time": "2025-03-22T18:19:37.719Z"
   },
   {
    "duration": 21,
    "start_time": "2025-03-22T18:19:37.780Z"
   },
   {
    "duration": 16,
    "start_time": "2025-03-22T18:19:37.803Z"
   },
   {
    "duration": 14,
    "start_time": "2025-03-22T18:19:37.821Z"
   },
   {
    "duration": 24,
    "start_time": "2025-03-22T18:19:37.836Z"
   },
   {
    "duration": 43,
    "start_time": "2025-03-22T18:19:37.861Z"
   },
   {
    "duration": 6,
    "start_time": "2025-03-22T18:19:37.906Z"
   },
   {
    "duration": 6,
    "start_time": "2025-03-22T18:19:37.914Z"
   },
   {
    "duration": 11,
    "start_time": "2025-03-22T18:19:37.922Z"
   },
   {
    "duration": 9,
    "start_time": "2025-03-22T18:19:37.935Z"
   },
   {
    "duration": 5,
    "start_time": "2025-03-22T18:19:37.946Z"
   },
   {
    "duration": 55,
    "start_time": "2025-03-22T18:19:37.952Z"
   },
   {
    "duration": 13,
    "start_time": "2025-03-22T18:19:38.009Z"
   },
   {
    "duration": 6,
    "start_time": "2025-03-22T18:19:38.023Z"
   },
   {
    "duration": 7,
    "start_time": "2025-03-22T18:19:38.030Z"
   },
   {
    "duration": 16,
    "start_time": "2025-03-22T18:19:38.039Z"
   },
   {
    "duration": 191,
    "start_time": "2025-03-22T18:19:38.057Z"
   },
   {
    "duration": 11,
    "start_time": "2025-03-22T18:19:38.250Z"
   },
   {
    "duration": 118,
    "start_time": "2025-03-22T18:19:38.264Z"
   },
   {
    "duration": 6,
    "start_time": "2025-03-22T18:19:38.384Z"
   },
   {
    "duration": 162,
    "start_time": "2025-03-22T18:19:38.403Z"
   },
   {
    "duration": 6,
    "start_time": "2025-03-22T18:19:38.567Z"
   },
   {
    "duration": 169,
    "start_time": "2025-03-22T18:19:38.575Z"
   },
   {
    "duration": 6,
    "start_time": "2025-03-22T18:19:38.746Z"
   },
   {
    "duration": 210,
    "start_time": "2025-03-22T18:19:38.753Z"
   },
   {
    "duration": 46,
    "start_time": "2025-03-22T18:19:38.964Z"
   },
   {
    "duration": 20,
    "start_time": "2025-03-22T18:19:39.015Z"
   },
   {
    "duration": 20,
    "start_time": "2025-03-22T18:19:39.037Z"
   },
   {
    "duration": 369,
    "start_time": "2025-03-22T18:19:39.059Z"
   },
   {
    "duration": 16,
    "start_time": "2025-03-22T18:19:39.431Z"
   },
   {
    "duration": 179,
    "start_time": "2025-03-22T18:19:39.450Z"
   },
   {
    "duration": 39,
    "start_time": "2025-03-22T18:19:39.631Z"
   },
   {
    "duration": 61,
    "start_time": "2025-03-22T18:19:39.672Z"
   },
   {
    "duration": 18,
    "start_time": "2025-03-22T18:19:39.735Z"
   },
   {
    "duration": 51,
    "start_time": "2025-03-22T18:19:39.754Z"
   },
   {
    "duration": 34,
    "start_time": "2025-03-22T18:26:20.492Z"
   },
   {
    "duration": 33,
    "start_time": "2025-03-22T18:27:09.433Z"
   },
   {
    "duration": 35,
    "start_time": "2025-03-22T18:27:46.528Z"
   },
   {
    "duration": 26,
    "start_time": "2025-03-22T18:27:51.260Z"
   },
   {
    "duration": 36,
    "start_time": "2025-03-22T18:28:42.085Z"
   },
   {
    "duration": 21,
    "start_time": "2025-03-22T18:29:41.943Z"
   },
   {
    "duration": 25,
    "start_time": "2025-03-22T18:30:50.394Z"
   },
   {
    "duration": 10,
    "start_time": "2025-03-22T18:30:59.038Z"
   },
   {
    "duration": 39,
    "start_time": "2025-03-22T18:32:02.754Z"
   },
   {
    "duration": 133,
    "start_time": "2025-03-22T18:32:32.312Z"
   },
   {
    "duration": 292,
    "start_time": "2025-03-22T18:34:30.470Z"
   },
   {
    "duration": 516,
    "start_time": "2025-03-22T18:34:30.764Z"
   },
   {
    "duration": 13,
    "start_time": "2025-03-22T18:36:54.523Z"
   },
   {
    "duration": 90,
    "start_time": "2025-03-22T18:37:04.360Z"
   },
   {
    "duration": 6,
    "start_time": "2025-03-22T18:37:07.511Z"
   },
   {
    "duration": 12,
    "start_time": "2025-03-22T18:37:20.029Z"
   },
   {
    "duration": 24,
    "start_time": "2025-03-22T18:39:00.919Z"
   },
   {
    "duration": 92,
    "start_time": "2025-03-22T18:39:31.245Z"
   },
   {
    "duration": 19,
    "start_time": "2025-03-22T18:39:34.663Z"
   },
   {
    "duration": 13,
    "start_time": "2025-03-22T18:39:43.012Z"
   },
   {
    "duration": 17,
    "start_time": "2025-03-22T18:39:48.001Z"
   },
   {
    "duration": 16,
    "start_time": "2025-03-22T18:40:02.536Z"
   },
   {
    "duration": 24,
    "start_time": "2025-03-22T18:40:25.790Z"
   },
   {
    "duration": 17,
    "start_time": "2025-03-22T18:41:06.848Z"
   },
   {
    "duration": 6,
    "start_time": "2025-03-22T18:41:10.865Z"
   },
   {
    "duration": 9,
    "start_time": "2025-03-22T18:41:14.732Z"
   },
   {
    "duration": 6,
    "start_time": "2025-03-22T18:41:16.961Z"
   },
   {
    "duration": 6,
    "start_time": "2025-03-22T18:41:21.142Z"
   },
   {
    "duration": 10,
    "start_time": "2025-03-22T18:41:42.371Z"
   },
   {
    "duration": 9,
    "start_time": "2025-03-22T18:41:56.744Z"
   },
   {
    "duration": 10,
    "start_time": "2025-03-22T18:42:04.410Z"
   },
   {
    "duration": 28,
    "start_time": "2025-03-22T18:43:16.023Z"
   },
   {
    "duration": 17,
    "start_time": "2025-03-22T18:44:15.556Z"
   },
   {
    "duration": 28,
    "start_time": "2025-03-22T18:44:43.030Z"
   },
   {
    "duration": 94,
    "start_time": "2025-03-22T18:45:36.013Z"
   },
   {
    "duration": 61,
    "start_time": "2025-03-22T18:45:39.563Z"
   },
   {
    "duration": 28764,
    "start_time": "2025-03-22T18:46:05.448Z"
   },
   {
    "duration": 2977,
    "start_time": "2025-03-22T18:46:41.041Z"
   },
   {
    "duration": 167,
    "start_time": "2025-03-22T18:46:51.039Z"
   },
   {
    "duration": 180,
    "start_time": "2025-03-22T18:46:54.273Z"
   },
   {
    "duration": 205,
    "start_time": "2025-03-22T18:46:58.684Z"
   },
   {
    "duration": 15,
    "start_time": "2025-03-22T18:49:33.920Z"
   },
   {
    "duration": 15,
    "start_time": "2025-03-22T18:51:36.338Z"
   },
   {
    "duration": 23,
    "start_time": "2025-03-22T18:52:24.163Z"
   },
   {
    "duration": 21,
    "start_time": "2025-03-22T18:52:39.380Z"
   },
   {
    "duration": 24,
    "start_time": "2025-03-22T18:53:33.735Z"
   },
   {
    "duration": 9,
    "start_time": "2025-03-22T18:53:38.423Z"
   },
   {
    "duration": 15,
    "start_time": "2025-03-22T18:53:50.065Z"
   },
   {
    "duration": 21,
    "start_time": "2025-03-22T18:56:49.425Z"
   },
   {
    "duration": 10,
    "start_time": "2025-03-22T18:57:01.052Z"
   },
   {
    "duration": 15,
    "start_time": "2025-03-22T18:57:27.714Z"
   },
   {
    "duration": 16,
    "start_time": "2025-03-22T18:57:43.106Z"
   },
   {
    "duration": 7,
    "start_time": "2025-03-22T18:57:47.674Z"
   },
   {
    "duration": 16,
    "start_time": "2025-03-22T18:58:03.011Z"
   },
   {
    "duration": 32,
    "start_time": "2025-03-22T18:59:03.832Z"
   },
   {
    "duration": 24,
    "start_time": "2025-03-22T18:59:50.265Z"
   },
   {
    "duration": 16,
    "start_time": "2025-03-22T19:00:14.119Z"
   },
   {
    "duration": 14,
    "start_time": "2025-03-22T19:00:18.680Z"
   },
   {
    "duration": 36,
    "start_time": "2025-03-22T19:01:12.456Z"
   },
   {
    "duration": 15,
    "start_time": "2025-03-22T19:01:13.061Z"
   },
   {
    "duration": 11,
    "start_time": "2025-03-22T19:01:17.104Z"
   },
   {
    "duration": 9,
    "start_time": "2025-03-22T19:01:17.661Z"
   },
   {
    "duration": 99,
    "start_time": "2025-03-22T19:01:35.083Z"
   },
   {
    "duration": 15,
    "start_time": "2025-03-22T19:01:45.296Z"
   },
   {
    "duration": 22,
    "start_time": "2025-03-22T19:01:59.515Z"
   },
   {
    "duration": 10,
    "start_time": "2025-03-22T19:02:04.067Z"
   },
   {
    "duration": 23,
    "start_time": "2025-03-22T19:03:21.285Z"
   },
   {
    "duration": 22,
    "start_time": "2025-03-22T19:04:02.740Z"
   },
   {
    "duration": 14,
    "start_time": "2025-03-22T19:04:16.652Z"
   },
   {
    "duration": 21,
    "start_time": "2025-03-22T19:04:36.575Z"
   },
   {
    "duration": 1334,
    "start_time": "2025-03-22T19:04:59.300Z"
   },
   {
    "duration": 82,
    "start_time": "2025-03-22T19:05:00.637Z"
   },
   {
    "duration": 23,
    "start_time": "2025-03-22T19:05:00.720Z"
   },
   {
    "duration": 19,
    "start_time": "2025-03-22T19:05:00.745Z"
   },
   {
    "duration": 22,
    "start_time": "2025-03-22T19:05:00.766Z"
   },
   {
    "duration": 51,
    "start_time": "2025-03-22T19:05:00.789Z"
   },
   {
    "duration": 11,
    "start_time": "2025-03-22T19:05:00.842Z"
   },
   {
    "duration": 6,
    "start_time": "2025-03-22T19:05:00.855Z"
   },
   {
    "duration": 10,
    "start_time": "2025-03-22T19:05:00.862Z"
   },
   {
    "duration": 9,
    "start_time": "2025-03-22T19:05:00.875Z"
   },
   {
    "duration": 16,
    "start_time": "2025-03-22T19:05:00.885Z"
   },
   {
    "duration": 14,
    "start_time": "2025-03-22T19:05:00.902Z"
   },
   {
    "duration": 15,
    "start_time": "2025-03-22T19:05:00.918Z"
   },
   {
    "duration": 10,
    "start_time": "2025-03-22T19:05:00.935Z"
   },
   {
    "duration": 6,
    "start_time": "2025-03-22T19:05:00.947Z"
   },
   {
    "duration": 34,
    "start_time": "2025-03-22T19:05:00.954Z"
   },
   {
    "duration": 28,
    "start_time": "2025-03-22T19:05:00.990Z"
   },
   {
    "duration": 157,
    "start_time": "2025-03-22T19:05:01.019Z"
   },
   {
    "duration": 13,
    "start_time": "2025-03-22T19:05:01.178Z"
   },
   {
    "duration": 139,
    "start_time": "2025-03-22T19:05:01.205Z"
   },
   {
    "duration": 6,
    "start_time": "2025-03-22T19:05:01.345Z"
   },
   {
    "duration": 175,
    "start_time": "2025-03-22T19:05:01.352Z"
   },
   {
    "duration": 5,
    "start_time": "2025-03-22T19:05:01.529Z"
   },
   {
    "duration": 185,
    "start_time": "2025-03-22T19:05:01.536Z"
   },
   {
    "duration": 6,
    "start_time": "2025-03-22T19:05:01.724Z"
   },
   {
    "duration": 211,
    "start_time": "2025-03-22T19:05:01.732Z"
   },
   {
    "duration": 39,
    "start_time": "2025-03-22T19:05:01.945Z"
   },
   {
    "duration": 40,
    "start_time": "2025-03-22T19:05:01.987Z"
   },
   {
    "duration": 22,
    "start_time": "2025-03-22T19:05:02.029Z"
   },
   {
    "duration": 401,
    "start_time": "2025-03-22T19:05:02.052Z"
   },
   {
    "duration": 18,
    "start_time": "2025-03-22T19:05:02.455Z"
   },
   {
    "duration": 240,
    "start_time": "2025-03-22T19:05:02.475Z"
   },
   {
    "duration": 39,
    "start_time": "2025-03-22T19:05:02.717Z"
   },
   {
    "duration": 74,
    "start_time": "2025-03-22T19:05:02.759Z"
   },
   {
    "duration": 20,
    "start_time": "2025-03-22T19:05:02.834Z"
   },
   {
    "duration": 36,
    "start_time": "2025-03-22T19:05:02.856Z"
   },
   {
    "duration": 35,
    "start_time": "2025-03-22T19:05:02.894Z"
   },
   {
    "duration": 19,
    "start_time": "2025-03-22T19:05:02.931Z"
   },
   {
    "duration": 19,
    "start_time": "2025-03-22T19:05:02.951Z"
   },
   {
    "duration": 8,
    "start_time": "2025-03-22T19:05:02.971Z"
   },
   {
    "duration": 8,
    "start_time": "2025-03-22T19:05:02.981Z"
   },
   {
    "duration": 34,
    "start_time": "2025-03-22T19:05:02.990Z"
   },
   {
    "duration": 1227,
    "start_time": "2025-03-23T13:13:54.920Z"
   },
   {
    "duration": 71,
    "start_time": "2025-03-23T13:13:56.149Z"
   },
   {
    "duration": 23,
    "start_time": "2025-03-23T13:13:56.221Z"
   },
   {
    "duration": 17,
    "start_time": "2025-03-23T13:13:56.245Z"
   },
   {
    "duration": 14,
    "start_time": "2025-03-23T13:13:56.263Z"
   },
   {
    "duration": 16,
    "start_time": "2025-03-23T13:13:56.278Z"
   },
   {
    "duration": 10,
    "start_time": "2025-03-23T13:13:56.296Z"
   },
   {
    "duration": 5,
    "start_time": "2025-03-23T13:13:56.308Z"
   },
   {
    "duration": 6,
    "start_time": "2025-03-23T13:13:56.315Z"
   },
   {
    "duration": 8,
    "start_time": "2025-03-23T13:13:56.323Z"
   },
   {
    "duration": 47,
    "start_time": "2025-03-23T13:13:56.332Z"
   },
   {
    "duration": 5,
    "start_time": "2025-03-23T13:13:56.381Z"
   },
   {
    "duration": 14,
    "start_time": "2025-03-23T13:13:56.387Z"
   },
   {
    "duration": 10,
    "start_time": "2025-03-23T13:13:56.402Z"
   },
   {
    "duration": 5,
    "start_time": "2025-03-23T13:13:56.414Z"
   },
   {
    "duration": 7,
    "start_time": "2025-03-23T13:13:56.420Z"
   },
   {
    "duration": 18,
    "start_time": "2025-03-23T13:13:56.429Z"
   },
   {
    "duration": 159,
    "start_time": "2025-03-23T13:13:56.448Z"
   },
   {
    "duration": 12,
    "start_time": "2025-03-23T13:13:56.608Z"
   },
   {
    "duration": 113,
    "start_time": "2025-03-23T13:13:56.621Z"
   },
   {
    "duration": 6,
    "start_time": "2025-03-23T13:13:56.736Z"
   },
   {
    "duration": 148,
    "start_time": "2025-03-23T13:13:56.744Z"
   },
   {
    "duration": 6,
    "start_time": "2025-03-23T13:13:56.893Z"
   },
   {
    "duration": 172,
    "start_time": "2025-03-23T13:13:56.901Z"
   },
   {
    "duration": 5,
    "start_time": "2025-03-23T13:13:57.075Z"
   },
   {
    "duration": 183,
    "start_time": "2025-03-23T13:13:57.081Z"
   },
   {
    "duration": 46,
    "start_time": "2025-03-23T13:13:57.266Z"
   },
   {
    "duration": 19,
    "start_time": "2025-03-23T13:13:57.315Z"
   },
   {
    "duration": 39,
    "start_time": "2025-03-23T13:13:57.336Z"
   },
   {
    "duration": 329,
    "start_time": "2025-03-23T13:13:57.377Z"
   },
   {
    "duration": 13,
    "start_time": "2025-03-23T13:13:57.708Z"
   },
   {
    "duration": 159,
    "start_time": "2025-03-23T13:13:57.723Z"
   },
   {
    "duration": 34,
    "start_time": "2025-03-23T13:13:57.884Z"
   },
   {
    "duration": 35,
    "start_time": "2025-03-23T13:13:57.920Z"
   },
   {
    "duration": 17,
    "start_time": "2025-03-23T13:13:57.973Z"
   },
   {
    "duration": 18,
    "start_time": "2025-03-23T13:13:57.991Z"
   },
   {
    "duration": 13,
    "start_time": "2025-03-23T13:13:58.010Z"
   },
   {
    "duration": 8,
    "start_time": "2025-03-23T13:13:58.024Z"
   },
   {
    "duration": 6,
    "start_time": "2025-03-23T13:13:58.033Z"
   },
   {
    "duration": 7,
    "start_time": "2025-03-23T13:13:58.074Z"
   },
   {
    "duration": 8,
    "start_time": "2025-03-23T13:13:58.084Z"
   },
   {
    "duration": 8,
    "start_time": "2025-03-23T13:13:58.093Z"
   },
   {
    "duration": 95,
    "start_time": "2025-03-23T13:29:52.306Z"
   },
   {
    "duration": 4,
    "start_time": "2025-03-23T13:30:01.784Z"
   },
   {
    "duration": 10,
    "start_time": "2025-03-23T13:30:04.439Z"
   },
   {
    "duration": 9,
    "start_time": "2025-03-23T13:30:21.545Z"
   },
   {
    "duration": 1408,
    "start_time": "2025-03-23T13:30:26.679Z"
   },
   {
    "duration": 9,
    "start_time": "2025-03-23T13:30:58.457Z"
   },
   {
    "duration": 8,
    "start_time": "2025-03-23T13:32:11.107Z"
   },
   {
    "duration": 8,
    "start_time": "2025-03-23T13:32:36.718Z"
   },
   {
    "duration": 2564,
    "start_time": "2025-03-23T13:33:30.611Z"
   },
   {
    "duration": 1661,
    "start_time": "2025-03-23T13:33:44.307Z"
   },
   {
    "duration": 1566,
    "start_time": "2025-03-23T13:33:55.522Z"
   },
   {
    "duration": 68,
    "start_time": "2025-03-23T13:34:28.504Z"
   },
   {
    "duration": 4,
    "start_time": "2025-03-23T13:35:32.476Z"
   },
   {
    "duration": 9,
    "start_time": "2025-03-23T13:35:37.489Z"
   },
   {
    "duration": 10,
    "start_time": "2025-03-23T13:35:51.376Z"
   },
   {
    "duration": 109,
    "start_time": "2025-03-23T13:36:02.850Z"
   },
   {
    "duration": 106,
    "start_time": "2025-03-23T13:36:15.036Z"
   },
   {
    "duration": 5,
    "start_time": "2025-03-23T13:36:34.512Z"
   },
   {
    "duration": 5,
    "start_time": "2025-03-23T13:36:42.210Z"
   },
   {
    "duration": 5,
    "start_time": "2025-03-23T13:36:46.172Z"
   },
   {
    "duration": 11,
    "start_time": "2025-03-23T13:38:26.941Z"
   },
   {
    "duration": 5,
    "start_time": "2025-03-23T13:38:40.110Z"
   },
   {
    "duration": 4,
    "start_time": "2025-03-23T13:38:47.421Z"
   },
   {
    "duration": 6,
    "start_time": "2025-03-23T13:38:55.550Z"
   },
   {
    "duration": 5,
    "start_time": "2025-03-23T13:39:06.326Z"
   },
   {
    "duration": 5,
    "start_time": "2025-03-23T13:39:29.898Z"
   },
   {
    "duration": 5,
    "start_time": "2025-03-23T13:39:39.846Z"
   },
   {
    "duration": 5,
    "start_time": "2025-03-23T13:39:42.346Z"
   },
   {
    "duration": 5,
    "start_time": "2025-03-23T13:39:45.609Z"
   },
   {
    "duration": 5,
    "start_time": "2025-03-23T13:40:07.786Z"
   },
   {
    "duration": 6,
    "start_time": "2025-03-23T13:40:10.565Z"
   },
   {
    "duration": 1606,
    "start_time": "2025-03-23T13:42:26.069Z"
   },
   {
    "duration": 11,
    "start_time": "2025-03-23T13:42:42.933Z"
   },
   {
    "duration": 32,
    "start_time": "2025-03-23T13:42:46.775Z"
   },
   {
    "duration": 9,
    "start_time": "2025-03-23T13:42:52.838Z"
   },
   {
    "duration": 10,
    "start_time": "2025-03-23T13:48:58.970Z"
   },
   {
    "duration": 1474,
    "start_time": "2025-03-23T13:49:16.936Z"
   },
   {
    "duration": 1405,
    "start_time": "2025-03-23T13:49:55.019Z"
   },
   {
    "duration": 1516,
    "start_time": "2025-03-23T13:50:20.026Z"
   },
   {
    "duration": 4,
    "start_time": "2025-03-23T13:52:24.931Z"
   },
   {
    "duration": 4,
    "start_time": "2025-03-23T13:52:33.622Z"
   },
   {
    "duration": 5,
    "start_time": "2025-03-23T13:52:37.967Z"
   },
   {
    "duration": 5,
    "start_time": "2025-03-23T13:52:46.703Z"
   },
   {
    "duration": 1166,
    "start_time": "2025-03-23T13:54:44.843Z"
   },
   {
    "duration": 60,
    "start_time": "2025-03-23T13:54:46.010Z"
   },
   {
    "duration": 20,
    "start_time": "2025-03-23T13:54:46.071Z"
   },
   {
    "duration": 17,
    "start_time": "2025-03-23T13:54:46.093Z"
   },
   {
    "duration": 13,
    "start_time": "2025-03-23T13:54:46.113Z"
   },
   {
    "duration": 46,
    "start_time": "2025-03-23T13:54:46.127Z"
   },
   {
    "duration": 12,
    "start_time": "2025-03-23T13:54:46.175Z"
   },
   {
    "duration": 6,
    "start_time": "2025-03-23T13:54:46.189Z"
   },
   {
    "duration": 5,
    "start_time": "2025-03-23T13:54:46.197Z"
   },
   {
    "duration": 8,
    "start_time": "2025-03-23T13:54:46.203Z"
   },
   {
    "duration": 9,
    "start_time": "2025-03-23T13:54:46.213Z"
   },
   {
    "duration": 50,
    "start_time": "2025-03-23T13:54:46.224Z"
   },
   {
    "duration": 8,
    "start_time": "2025-03-23T13:54:46.276Z"
   },
   {
    "duration": 10,
    "start_time": "2025-03-23T13:54:46.288Z"
   },
   {
    "duration": 5,
    "start_time": "2025-03-23T13:54:46.300Z"
   },
   {
    "duration": 9,
    "start_time": "2025-03-23T13:54:46.307Z"
   },
   {
    "duration": 13,
    "start_time": "2025-03-23T13:54:46.317Z"
   },
   {
    "duration": 166,
    "start_time": "2025-03-23T13:54:46.332Z"
   },
   {
    "duration": 10,
    "start_time": "2025-03-23T13:54:46.500Z"
   },
   {
    "duration": 114,
    "start_time": "2025-03-23T13:54:46.512Z"
   },
   {
    "duration": 7,
    "start_time": "2025-03-23T13:54:46.628Z"
   },
   {
    "duration": 150,
    "start_time": "2025-03-23T13:54:46.636Z"
   },
   {
    "duration": 6,
    "start_time": "2025-03-23T13:54:46.788Z"
   },
   {
    "duration": 164,
    "start_time": "2025-03-23T13:54:46.795Z"
   },
   {
    "duration": 14,
    "start_time": "2025-03-23T13:54:46.961Z"
   },
   {
    "duration": 149,
    "start_time": "2025-03-23T13:54:46.976Z"
   },
   {
    "duration": 31,
    "start_time": "2025-03-23T13:54:47.127Z"
   },
   {
    "duration": 32,
    "start_time": "2025-03-23T13:54:47.159Z"
   },
   {
    "duration": 19,
    "start_time": "2025-03-23T13:54:47.192Z"
   },
   {
    "duration": 338,
    "start_time": "2025-03-23T13:54:47.212Z"
   },
   {
    "duration": 14,
    "start_time": "2025-03-23T13:54:47.551Z"
   },
   {
    "duration": 162,
    "start_time": "2025-03-23T13:54:47.567Z"
   },
   {
    "duration": 47,
    "start_time": "2025-03-23T13:54:47.730Z"
   },
   {
    "duration": 37,
    "start_time": "2025-03-23T13:54:47.779Z"
   },
   {
    "duration": 17,
    "start_time": "2025-03-23T13:54:47.818Z"
   },
   {
    "duration": 39,
    "start_time": "2025-03-23T13:54:47.836Z"
   },
   {
    "duration": 14,
    "start_time": "2025-03-23T13:54:47.877Z"
   },
   {
    "duration": 8,
    "start_time": "2025-03-23T13:54:47.893Z"
   },
   {
    "duration": 6,
    "start_time": "2025-03-23T13:54:47.902Z"
   },
   {
    "duration": 7,
    "start_time": "2025-03-23T13:54:47.909Z"
   },
   {
    "duration": 8,
    "start_time": "2025-03-23T13:54:47.919Z"
   },
   {
    "duration": 48,
    "start_time": "2025-03-23T13:54:47.928Z"
   },
   {
    "duration": 10,
    "start_time": "2025-03-23T13:55:00.336Z"
   },
   {
    "duration": 7,
    "start_time": "2025-03-23T13:55:06.384Z"
   },
   {
    "duration": 9,
    "start_time": "2025-03-23T13:55:10.331Z"
   },
   {
    "duration": 1116,
    "start_time": "2025-03-23T13:55:23.772Z"
   },
   {
    "duration": 59,
    "start_time": "2025-03-23T13:55:24.890Z"
   },
   {
    "duration": 18,
    "start_time": "2025-03-23T13:55:24.951Z"
   },
   {
    "duration": 15,
    "start_time": "2025-03-23T13:55:24.970Z"
   },
   {
    "duration": 13,
    "start_time": "2025-03-23T13:55:24.987Z"
   },
   {
    "duration": 12,
    "start_time": "2025-03-23T13:55:25.001Z"
   },
   {
    "duration": 10,
    "start_time": "2025-03-23T13:55:25.014Z"
   },
   {
    "duration": 6,
    "start_time": "2025-03-23T13:55:25.025Z"
   },
   {
    "duration": 9,
    "start_time": "2025-03-23T13:55:25.032Z"
   },
   {
    "duration": 37,
    "start_time": "2025-03-23T13:55:25.042Z"
   },
   {
    "duration": 10,
    "start_time": "2025-03-23T13:55:25.081Z"
   },
   {
    "duration": 4,
    "start_time": "2025-03-23T13:55:25.093Z"
   },
   {
    "duration": 8,
    "start_time": "2025-03-23T13:55:25.099Z"
   },
   {
    "duration": 9,
    "start_time": "2025-03-23T13:55:25.110Z"
   },
   {
    "duration": 5,
    "start_time": "2025-03-23T13:55:25.121Z"
   },
   {
    "duration": 47,
    "start_time": "2025-03-23T13:55:25.127Z"
   },
   {
    "duration": 12,
    "start_time": "2025-03-23T13:55:25.176Z"
   },
   {
    "duration": 139,
    "start_time": "2025-03-23T13:55:25.190Z"
   },
   {
    "duration": 11,
    "start_time": "2025-03-23T13:55:25.330Z"
   },
   {
    "duration": 118,
    "start_time": "2025-03-23T13:55:25.342Z"
   },
   {
    "duration": 15,
    "start_time": "2025-03-23T13:55:25.462Z"
   },
   {
    "duration": 144,
    "start_time": "2025-03-23T13:55:25.479Z"
   },
   {
    "duration": 6,
    "start_time": "2025-03-23T13:55:25.625Z"
   },
   {
    "duration": 157,
    "start_time": "2025-03-23T13:55:25.632Z"
   },
   {
    "duration": 6,
    "start_time": "2025-03-23T13:55:25.791Z"
   },
   {
    "duration": 143,
    "start_time": "2025-03-23T13:55:25.798Z"
   },
   {
    "duration": 39,
    "start_time": "2025-03-23T13:55:25.944Z"
   },
   {
    "duration": 22,
    "start_time": "2025-03-23T13:55:25.985Z"
   },
   {
    "duration": 19,
    "start_time": "2025-03-23T13:55:26.009Z"
   },
   {
    "duration": 352,
    "start_time": "2025-03-23T13:55:26.030Z"
   },
   {
    "duration": 15,
    "start_time": "2025-03-23T13:55:26.383Z"
   },
   {
    "duration": 163,
    "start_time": "2025-03-23T13:55:26.399Z"
   },
   {
    "duration": 40,
    "start_time": "2025-03-23T13:55:26.563Z"
   },
   {
    "duration": 37,
    "start_time": "2025-03-23T13:55:26.605Z"
   },
   {
    "duration": 34,
    "start_time": "2025-03-23T13:55:26.643Z"
   },
   {
    "duration": 17,
    "start_time": "2025-03-23T13:55:26.678Z"
   },
   {
    "duration": 12,
    "start_time": "2025-03-23T13:55:26.696Z"
   },
   {
    "duration": 10,
    "start_time": "2025-03-23T13:55:26.709Z"
   },
   {
    "duration": 12,
    "start_time": "2025-03-23T13:55:26.721Z"
   },
   {
    "duration": 8,
    "start_time": "2025-03-23T13:55:26.734Z"
   },
   {
    "duration": 30,
    "start_time": "2025-03-23T13:55:26.745Z"
   },
   {
    "duration": 7,
    "start_time": "2025-03-23T13:55:26.777Z"
   },
   {
    "duration": 7,
    "start_time": "2025-03-23T13:56:10.253Z"
   },
   {
    "duration": 7,
    "start_time": "2025-03-23T13:56:18.458Z"
   },
   {
    "duration": 7,
    "start_time": "2025-03-23T13:56:50.151Z"
   },
   {
    "duration": 6,
    "start_time": "2025-03-23T13:56:57.097Z"
   },
   {
    "duration": 8,
    "start_time": "2025-03-23T13:57:03.742Z"
   },
   {
    "duration": 15,
    "start_time": "2025-03-23T14:52:16.944Z"
   },
   {
    "duration": 6,
    "start_time": "2025-03-23T14:52:23.285Z"
   },
   {
    "duration": 5,
    "start_time": "2025-03-23T14:53:02.411Z"
   },
   {
    "duration": 148,
    "start_time": "2025-03-23T14:55:43.995Z"
   },
   {
    "duration": 257,
    "start_time": "2025-03-23T14:55:49.747Z"
   },
   {
    "duration": 145,
    "start_time": "2025-03-23T14:56:04.877Z"
   },
   {
    "duration": 178,
    "start_time": "2025-03-23T15:09:03.172Z"
   },
   {
    "duration": 179,
    "start_time": "2025-03-23T15:09:42.371Z"
   },
   {
    "duration": 159,
    "start_time": "2025-03-23T15:10:27.000Z"
   },
   {
    "duration": 37,
    "start_time": "2025-03-23T15:11:20.419Z"
   },
   {
    "duration": 1624,
    "start_time": "2025-03-23T15:20:57.528Z"
   },
   {
    "duration": 1088,
    "start_time": "2025-03-23T15:21:36.133Z"
   },
   {
    "duration": 71,
    "start_time": "2025-03-23T15:21:37.223Z"
   },
   {
    "duration": 21,
    "start_time": "2025-03-23T15:21:37.296Z"
   },
   {
    "duration": 26,
    "start_time": "2025-03-23T15:21:37.319Z"
   },
   {
    "duration": 14,
    "start_time": "2025-03-23T15:21:37.347Z"
   },
   {
    "duration": 19,
    "start_time": "2025-03-23T15:21:37.363Z"
   },
   {
    "duration": 10,
    "start_time": "2025-03-23T15:21:37.384Z"
   },
   {
    "duration": 33,
    "start_time": "2025-03-23T15:21:37.396Z"
   },
   {
    "duration": 5,
    "start_time": "2025-03-23T15:21:37.431Z"
   },
   {
    "duration": 8,
    "start_time": "2025-03-23T15:21:37.439Z"
   },
   {
    "duration": 10,
    "start_time": "2025-03-23T15:21:37.449Z"
   },
   {
    "duration": 5,
    "start_time": "2025-03-23T15:21:37.473Z"
   },
   {
    "duration": 10,
    "start_time": "2025-03-23T15:21:37.479Z"
   },
   {
    "duration": 19,
    "start_time": "2025-03-23T15:21:37.490Z"
   },
   {
    "duration": 6,
    "start_time": "2025-03-23T15:21:37.510Z"
   },
   {
    "duration": 7,
    "start_time": "2025-03-23T15:21:37.518Z"
   },
   {
    "duration": 28,
    "start_time": "2025-03-23T15:21:37.526Z"
   },
   {
    "duration": 145,
    "start_time": "2025-03-23T15:21:37.555Z"
   },
   {
    "duration": 10,
    "start_time": "2025-03-23T15:21:38.832Z"
   },
   {
    "duration": 95,
    "start_time": "2025-03-23T15:21:39.084Z"
   },
   {
    "duration": 5,
    "start_time": "2025-03-23T15:21:39.181Z"
   },
   {
    "duration": 136,
    "start_time": "2025-03-23T15:21:39.226Z"
   },
   {
    "duration": 13,
    "start_time": "2025-03-23T15:21:39.363Z"
   },
   {
    "duration": 159,
    "start_time": "2025-03-23T15:21:39.378Z"
   },
   {
    "duration": 5,
    "start_time": "2025-03-23T15:21:39.539Z"
   },
   {
    "duration": 141,
    "start_time": "2025-03-23T15:21:39.545Z"
   },
   {
    "duration": 30,
    "start_time": "2025-03-23T15:21:40.220Z"
   },
   {
    "duration": 21,
    "start_time": "2025-03-23T15:21:40.509Z"
   },
   {
    "duration": 19,
    "start_time": "2025-03-23T15:21:40.539Z"
   },
   {
    "duration": 336,
    "start_time": "2025-03-23T15:21:40.622Z"
   },
   {
    "duration": 13,
    "start_time": "2025-03-23T15:21:40.960Z"
   },
   {
    "duration": 163,
    "start_time": "2025-03-23T15:21:40.975Z"
   },
   {
    "duration": 35,
    "start_time": "2025-03-23T15:21:44.749Z"
   },
   {
    "duration": 39,
    "start_time": "2025-03-23T15:21:45.113Z"
   },
   {
    "duration": 18,
    "start_time": "2025-03-23T15:21:45.661Z"
   },
   {
    "duration": 21,
    "start_time": "2025-03-23T15:21:45.935Z"
   },
   {
    "duration": 14,
    "start_time": "2025-03-23T15:21:49.614Z"
   },
   {
    "duration": 8,
    "start_time": "2025-03-23T15:21:55.821Z"
   },
   {
    "duration": 10,
    "start_time": "2025-03-23T15:22:05.431Z"
   },
   {
    "duration": 7,
    "start_time": "2025-03-23T15:25:53.526Z"
   },
   {
    "duration": 8,
    "start_time": "2025-03-23T15:26:18.292Z"
   },
   {
    "duration": 8,
    "start_time": "2025-03-23T15:27:59.128Z"
   },
   {
    "duration": 8,
    "start_time": "2025-03-23T15:27:59.575Z"
   },
   {
    "duration": 6,
    "start_time": "2025-03-23T15:37:48.838Z"
   },
   {
    "duration": 8,
    "start_time": "2025-03-23T15:38:33.990Z"
   },
   {
    "duration": 1027,
    "start_time": "2025-03-23T15:40:33.205Z"
   },
   {
    "duration": 71,
    "start_time": "2025-03-23T15:40:34.233Z"
   },
   {
    "duration": 20,
    "start_time": "2025-03-23T15:40:34.306Z"
   },
   {
    "duration": 17,
    "start_time": "2025-03-23T15:40:34.329Z"
   },
   {
    "duration": 14,
    "start_time": "2025-03-23T15:40:34.347Z"
   },
   {
    "duration": 13,
    "start_time": "2025-03-23T15:40:34.374Z"
   },
   {
    "duration": 14,
    "start_time": "2025-03-23T15:40:34.389Z"
   },
   {
    "duration": 6,
    "start_time": "2025-03-23T15:40:34.404Z"
   },
   {
    "duration": 4,
    "start_time": "2025-03-23T15:40:34.411Z"
   },
   {
    "duration": 19,
    "start_time": "2025-03-23T15:40:34.418Z"
   },
   {
    "duration": 20,
    "start_time": "2025-03-23T15:40:34.439Z"
   },
   {
    "duration": 6,
    "start_time": "2025-03-23T15:40:34.473Z"
   },
   {
    "duration": 9,
    "start_time": "2025-03-23T15:40:34.480Z"
   },
   {
    "duration": 14,
    "start_time": "2025-03-23T15:40:34.490Z"
   },
   {
    "duration": 7,
    "start_time": "2025-03-23T15:40:34.505Z"
   },
   {
    "duration": 5,
    "start_time": "2025-03-23T15:40:34.513Z"
   },
   {
    "duration": 11,
    "start_time": "2025-03-23T15:40:34.519Z"
   },
   {
    "duration": 184,
    "start_time": "2025-03-23T15:40:34.532Z"
   },
   {
    "duration": 12,
    "start_time": "2025-03-23T15:40:34.717Z"
   },
   {
    "duration": 129,
    "start_time": "2025-03-23T15:40:34.730Z"
   },
   {
    "duration": 13,
    "start_time": "2025-03-23T15:40:34.862Z"
   },
   {
    "duration": 146,
    "start_time": "2025-03-23T15:40:34.876Z"
   },
   {
    "duration": 6,
    "start_time": "2025-03-23T15:40:35.024Z"
   },
   {
    "duration": 163,
    "start_time": "2025-03-23T15:40:35.032Z"
   },
   {
    "duration": 5,
    "start_time": "2025-03-23T15:40:35.197Z"
   },
   {
    "duration": 147,
    "start_time": "2025-03-23T15:40:35.204Z"
   },
   {
    "duration": 41,
    "start_time": "2025-03-23T15:40:35.353Z"
   },
   {
    "duration": 21,
    "start_time": "2025-03-23T15:40:35.398Z"
   },
   {
    "duration": 20,
    "start_time": "2025-03-23T15:40:35.421Z"
   },
   {
    "duration": 347,
    "start_time": "2025-03-23T15:40:35.443Z"
   },
   {
    "duration": 15,
    "start_time": "2025-03-23T15:40:35.792Z"
   },
   {
    "duration": 168,
    "start_time": "2025-03-23T15:40:35.809Z"
   },
   {
    "duration": 35,
    "start_time": "2025-03-23T15:40:35.980Z"
   },
   {
    "duration": 59,
    "start_time": "2025-03-23T15:40:36.016Z"
   },
   {
    "duration": 16,
    "start_time": "2025-03-23T15:40:36.077Z"
   },
   {
    "duration": 18,
    "start_time": "2025-03-23T15:40:36.094Z"
   },
   {
    "duration": 12,
    "start_time": "2025-03-23T15:40:36.114Z"
   },
   {
    "duration": 19,
    "start_time": "2025-03-23T15:40:36.127Z"
   },
   {
    "duration": 5,
    "start_time": "2025-03-23T15:40:36.147Z"
   },
   {
    "duration": 8,
    "start_time": "2025-03-23T15:40:36.172Z"
   },
   {
    "duration": 8,
    "start_time": "2025-03-23T15:40:36.181Z"
   },
   {
    "duration": 15,
    "start_time": "2025-03-23T15:40:36.190Z"
   },
   {
    "duration": 1104,
    "start_time": "2025-03-23T15:48:03.312Z"
   },
   {
    "duration": 72,
    "start_time": "2025-03-23T15:48:04.417Z"
   },
   {
    "duration": 20,
    "start_time": "2025-03-23T15:48:04.491Z"
   },
   {
    "duration": 29,
    "start_time": "2025-03-23T15:48:04.513Z"
   },
   {
    "duration": 21,
    "start_time": "2025-03-23T15:48:04.544Z"
   },
   {
    "duration": 27,
    "start_time": "2025-03-23T15:48:04.567Z"
   },
   {
    "duration": 11,
    "start_time": "2025-03-23T15:48:04.595Z"
   },
   {
    "duration": 17,
    "start_time": "2025-03-23T15:48:04.607Z"
   },
   {
    "duration": 18,
    "start_time": "2025-03-23T15:48:04.626Z"
   },
   {
    "duration": 15,
    "start_time": "2025-03-23T15:48:04.646Z"
   },
   {
    "duration": 20,
    "start_time": "2025-03-23T15:48:04.662Z"
   },
   {
    "duration": 26,
    "start_time": "2025-03-23T15:48:04.684Z"
   },
   {
    "duration": 27,
    "start_time": "2025-03-23T15:48:04.712Z"
   },
   {
    "duration": 13,
    "start_time": "2025-03-23T15:48:04.740Z"
   },
   {
    "duration": 7,
    "start_time": "2025-03-23T15:48:04.755Z"
   },
   {
    "duration": 15,
    "start_time": "2025-03-23T15:48:04.763Z"
   },
   {
    "duration": 13,
    "start_time": "2025-03-23T15:48:04.780Z"
   },
   {
    "duration": 144,
    "start_time": "2025-03-23T15:48:04.794Z"
   },
   {
    "duration": 11,
    "start_time": "2025-03-23T15:48:04.940Z"
   },
   {
    "duration": 126,
    "start_time": "2025-03-23T15:48:04.953Z"
   },
   {
    "duration": 6,
    "start_time": "2025-03-23T15:48:05.081Z"
   },
   {
    "duration": 158,
    "start_time": "2025-03-23T15:48:05.088Z"
   },
   {
    "duration": 6,
    "start_time": "2025-03-23T15:48:05.248Z"
   },
   {
    "duration": 176,
    "start_time": "2025-03-23T15:48:05.256Z"
   },
   {
    "duration": 5,
    "start_time": "2025-03-23T15:48:05.434Z"
   },
   {
    "duration": 152,
    "start_time": "2025-03-23T15:48:05.440Z"
   },
   {
    "duration": 31,
    "start_time": "2025-03-23T15:48:05.594Z"
   },
   {
    "duration": 28,
    "start_time": "2025-03-23T15:48:05.628Z"
   },
   {
    "duration": 32,
    "start_time": "2025-03-23T15:48:05.658Z"
   },
   {
    "duration": 342,
    "start_time": "2025-03-23T15:48:05.692Z"
   },
   {
    "duration": 14,
    "start_time": "2025-03-23T15:48:06.036Z"
   },
   {
    "duration": 214,
    "start_time": "2025-03-23T15:48:06.051Z"
   },
   {
    "duration": 42,
    "start_time": "2025-03-23T15:48:06.267Z"
   },
   {
    "duration": 40,
    "start_time": "2025-03-23T15:48:06.311Z"
   },
   {
    "duration": 20,
    "start_time": "2025-03-23T15:48:06.372Z"
   },
   {
    "duration": 19,
    "start_time": "2025-03-23T15:48:06.394Z"
   },
   {
    "duration": 15,
    "start_time": "2025-03-23T15:48:06.414Z"
   },
   {
    "duration": 13,
    "start_time": "2025-03-23T15:48:06.431Z"
   },
   {
    "duration": 40,
    "start_time": "2025-03-23T15:48:06.445Z"
   },
   {
    "duration": 14,
    "start_time": "2025-03-23T15:48:06.487Z"
   },
   {
    "duration": 30,
    "start_time": "2025-03-23T15:48:06.503Z"
   },
   {
    "duration": 16,
    "start_time": "2025-03-23T15:48:06.535Z"
   },
   {
    "duration": 1053,
    "start_time": "2025-03-23T16:21:24.808Z"
   },
   {
    "duration": 59,
    "start_time": "2025-03-23T16:21:25.863Z"
   },
   {
    "duration": 19,
    "start_time": "2025-03-23T16:21:25.923Z"
   },
   {
    "duration": 15,
    "start_time": "2025-03-23T16:21:25.944Z"
   },
   {
    "duration": 12,
    "start_time": "2025-03-23T16:21:25.960Z"
   },
   {
    "duration": 12,
    "start_time": "2025-03-23T16:21:25.974Z"
   },
   {
    "duration": 26,
    "start_time": "2025-03-23T16:21:25.988Z"
   },
   {
    "duration": 6,
    "start_time": "2025-03-23T16:21:26.015Z"
   },
   {
    "duration": 4,
    "start_time": "2025-03-23T16:21:26.022Z"
   },
   {
    "duration": 9,
    "start_time": "2025-03-23T16:21:26.028Z"
   },
   {
    "duration": 9,
    "start_time": "2025-03-23T16:21:26.038Z"
   },
   {
    "duration": 5,
    "start_time": "2025-03-23T16:21:26.049Z"
   },
   {
    "duration": 8,
    "start_time": "2025-03-23T16:21:26.055Z"
   },
   {
    "duration": 46,
    "start_time": "2025-03-23T16:21:26.064Z"
   },
   {
    "duration": 6,
    "start_time": "2025-03-23T16:21:26.112Z"
   },
   {
    "duration": 7,
    "start_time": "2025-03-23T16:21:26.119Z"
   },
   {
    "duration": 16,
    "start_time": "2025-03-23T16:21:26.127Z"
   },
   {
    "duration": 136,
    "start_time": "2025-03-23T16:21:26.144Z"
   },
   {
    "duration": 10,
    "start_time": "2025-03-23T16:21:26.282Z"
   },
   {
    "duration": 107,
    "start_time": "2025-03-23T16:21:26.293Z"
   },
   {
    "duration": 6,
    "start_time": "2025-03-23T16:21:26.406Z"
   },
   {
    "duration": 162,
    "start_time": "2025-03-23T16:21:26.413Z"
   },
   {
    "duration": 4,
    "start_time": "2025-03-23T16:21:26.577Z"
   },
   {
    "duration": 200,
    "start_time": "2025-03-23T16:21:26.583Z"
   },
   {
    "duration": 6,
    "start_time": "2025-03-23T16:21:26.784Z"
   },
   {
    "duration": 128,
    "start_time": "2025-03-23T16:21:26.791Z"
   },
   {
    "duration": 30,
    "start_time": "2025-03-23T16:21:26.921Z"
   },
   {
    "duration": 29,
    "start_time": "2025-03-23T16:21:26.954Z"
   },
   {
    "duration": 30,
    "start_time": "2025-03-23T16:21:26.985Z"
   },
   {
    "duration": 324,
    "start_time": "2025-03-23T16:21:27.016Z"
   },
   {
    "duration": 13,
    "start_time": "2025-03-23T16:21:27.342Z"
   },
   {
    "duration": 174,
    "start_time": "2025-03-23T16:21:27.356Z"
   },
   {
    "duration": 34,
    "start_time": "2025-03-23T16:21:27.531Z"
   },
   {
    "duration": 56,
    "start_time": "2025-03-23T16:21:27.567Z"
   },
   {
    "duration": 19,
    "start_time": "2025-03-23T16:21:27.624Z"
   },
   {
    "duration": 18,
    "start_time": "2025-03-23T16:21:27.644Z"
   },
   {
    "duration": 13,
    "start_time": "2025-03-23T16:21:27.664Z"
   },
   {
    "duration": 33,
    "start_time": "2025-03-23T16:21:27.679Z"
   },
   {
    "duration": 8,
    "start_time": "2025-03-23T16:21:27.713Z"
   },
   {
    "duration": 7,
    "start_time": "2025-03-23T16:21:27.723Z"
   },
   {
    "duration": 11,
    "start_time": "2025-03-23T16:21:27.731Z"
   },
   {
    "duration": 33,
    "start_time": "2025-03-23T16:21:27.743Z"
   },
   {
    "duration": 142,
    "start_time": "2025-03-23T16:35:41.783Z"
   },
   {
    "duration": 128,
    "start_time": "2025-03-23T16:36:13.040Z"
   },
   {
    "duration": 209,
    "start_time": "2025-03-23T16:36:17.990Z"
   },
   {
    "duration": 126,
    "start_time": "2025-03-23T16:36:21.126Z"
   },
   {
    "duration": 124,
    "start_time": "2025-03-23T16:36:23.594Z"
   },
   {
    "duration": 126,
    "start_time": "2025-03-23T16:36:26.048Z"
   },
   {
    "duration": 117,
    "start_time": "2025-03-23T16:36:37.109Z"
   },
   {
    "duration": 6,
    "start_time": "2025-03-23T16:42:03.839Z"
   },
   {
    "duration": 90,
    "start_time": "2025-03-23T16:42:22.087Z"
   },
   {
    "duration": 6,
    "start_time": "2025-03-23T16:42:24.616Z"
   },
   {
    "duration": 8,
    "start_time": "2025-03-23T16:44:15.517Z"
   },
   {
    "duration": 8,
    "start_time": "2025-03-23T16:44:35.329Z"
   },
   {
    "duration": 49,
    "start_time": "2025-03-23T17:42:10.204Z"
   },
   {
    "duration": 1316,
    "start_time": "2025-03-23T17:42:13.534Z"
   },
   {
    "duration": 71,
    "start_time": "2025-03-23T17:42:14.852Z"
   },
   {
    "duration": 22,
    "start_time": "2025-03-23T17:42:14.924Z"
   },
   {
    "duration": 17,
    "start_time": "2025-03-23T17:42:14.948Z"
   },
   {
    "duration": 14,
    "start_time": "2025-03-23T17:42:15.628Z"
   },
   {
    "duration": 59,
    "start_time": "2025-03-23T17:42:20.638Z"
   },
   {
    "duration": 8,
    "start_time": "2025-03-23T17:42:24.365Z"
   },
   {
    "duration": 2,
    "start_time": "2025-03-23T17:44:27.530Z"
   },
   {
    "duration": 58,
    "start_time": "2025-03-23T17:44:28.168Z"
   },
   {
    "duration": 17,
    "start_time": "2025-03-23T17:44:28.338Z"
   },
   {
    "duration": 16,
    "start_time": "2025-03-23T17:44:28.680Z"
   },
   {
    "duration": 13,
    "start_time": "2025-03-23T17:44:29.042Z"
   },
   {
    "duration": 5,
    "start_time": "2025-03-23T17:44:32.644Z"
   },
   {
    "duration": 15,
    "start_time": "2025-03-23T17:44:43.634Z"
   },
   {
    "duration": 1038,
    "start_time": "2025-03-23T17:44:48.994Z"
   },
   {
    "duration": 61,
    "start_time": "2025-03-23T17:44:50.034Z"
   },
   {
    "duration": 21,
    "start_time": "2025-03-23T17:44:50.096Z"
   },
   {
    "duration": 15,
    "start_time": "2025-03-23T17:44:50.119Z"
   },
   {
    "duration": 13,
    "start_time": "2025-03-23T17:44:50.136Z"
   },
   {
    "duration": 27,
    "start_time": "2025-03-23T17:44:50.151Z"
   },
   {
    "duration": 10,
    "start_time": "2025-03-23T17:44:50.180Z"
   },
   {
    "duration": 5,
    "start_time": "2025-03-23T17:44:50.192Z"
   },
   {
    "duration": 7,
    "start_time": "2025-03-23T17:44:50.198Z"
   },
   {
    "duration": 26,
    "start_time": "2025-03-23T17:44:50.207Z"
   },
   {
    "duration": 13,
    "start_time": "2025-03-23T17:44:50.235Z"
   },
   {
    "duration": 9,
    "start_time": "2025-03-23T17:44:50.249Z"
   },
   {
    "duration": 17,
    "start_time": "2025-03-23T17:44:50.259Z"
   },
   {
    "duration": 9,
    "start_time": "2025-03-23T17:44:50.277Z"
   },
   {
    "duration": 6,
    "start_time": "2025-03-23T17:44:50.287Z"
   },
   {
    "duration": 4,
    "start_time": "2025-03-23T17:44:50.294Z"
   },
   {
    "duration": 10,
    "start_time": "2025-03-23T17:44:50.300Z"
   },
   {
    "duration": 172,
    "start_time": "2025-03-23T17:44:50.312Z"
   },
   {
    "duration": 11,
    "start_time": "2025-03-23T17:44:50.485Z"
   },
   {
    "duration": 122,
    "start_time": "2025-03-23T17:44:50.498Z"
   },
   {
    "duration": 6,
    "start_time": "2025-03-23T17:44:50.622Z"
   },
   {
    "duration": 171,
    "start_time": "2025-03-23T17:44:50.630Z"
   },
   {
    "duration": 6,
    "start_time": "2025-03-23T17:44:50.803Z"
   },
   {
    "duration": 164,
    "start_time": "2025-03-23T17:44:50.811Z"
   },
   {
    "duration": 6,
    "start_time": "2025-03-23T17:44:50.978Z"
   },
   {
    "duration": 147,
    "start_time": "2025-03-23T17:44:50.986Z"
   },
   {
    "duration": 29,
    "start_time": "2025-03-23T17:44:51.135Z"
   },
   {
    "duration": 19,
    "start_time": "2025-03-23T17:44:51.176Z"
   },
   {
    "duration": 22,
    "start_time": "2025-03-23T17:44:51.197Z"
   },
   {
    "duration": 329,
    "start_time": "2025-03-23T17:44:51.221Z"
   },
   {
    "duration": 14,
    "start_time": "2025-03-23T17:44:51.551Z"
   },
   {
    "duration": 192,
    "start_time": "2025-03-23T17:44:51.567Z"
   },
   {
    "duration": 44,
    "start_time": "2025-03-23T17:44:51.761Z"
   },
   {
    "duration": 42,
    "start_time": "2025-03-23T17:44:51.807Z"
   },
   {
    "duration": 34,
    "start_time": "2025-03-23T17:44:51.850Z"
   },
   {
    "duration": 19,
    "start_time": "2025-03-23T17:44:51.886Z"
   },
   {
    "duration": 20,
    "start_time": "2025-03-23T17:44:51.907Z"
   },
   {
    "duration": 8,
    "start_time": "2025-03-23T17:44:51.928Z"
   },
   {
    "duration": 19,
    "start_time": "2025-03-23T17:44:51.937Z"
   },
   {
    "duration": 25,
    "start_time": "2025-03-23T17:44:51.958Z"
   },
   {
    "duration": 26,
    "start_time": "2025-03-23T17:44:51.985Z"
   },
   {
    "duration": 12,
    "start_time": "2025-03-23T17:44:52.013Z"
   },
   {
    "duration": 6,
    "start_time": "2025-03-23T17:47:05.422Z"
   },
   {
    "duration": 12,
    "start_time": "2025-03-23T17:47:10.275Z"
   },
   {
    "duration": 1141,
    "start_time": "2025-03-23T17:47:15.682Z"
   },
   {
    "duration": 58,
    "start_time": "2025-03-23T17:47:16.825Z"
   },
   {
    "duration": 20,
    "start_time": "2025-03-23T17:47:16.885Z"
   },
   {
    "duration": 15,
    "start_time": "2025-03-23T17:47:16.907Z"
   },
   {
    "duration": 17,
    "start_time": "2025-03-23T17:47:16.924Z"
   },
   {
    "duration": 18,
    "start_time": "2025-03-23T17:47:16.942Z"
   },
   {
    "duration": 14,
    "start_time": "2025-03-23T17:47:16.961Z"
   },
   {
    "duration": 10,
    "start_time": "2025-03-23T17:47:16.976Z"
   },
   {
    "duration": 6,
    "start_time": "2025-03-23T17:47:16.987Z"
   },
   {
    "duration": 8,
    "start_time": "2025-03-23T17:47:16.995Z"
   },
   {
    "duration": 14,
    "start_time": "2025-03-23T17:47:17.004Z"
   },
   {
    "duration": 10,
    "start_time": "2025-03-23T17:47:17.019Z"
   },
   {
    "duration": 5,
    "start_time": "2025-03-23T17:47:17.030Z"
   },
   {
    "duration": 36,
    "start_time": "2025-03-23T17:47:17.037Z"
   },
   {
    "duration": 10,
    "start_time": "2025-03-23T17:47:17.075Z"
   },
   {
    "duration": 6,
    "start_time": "2025-03-23T17:47:17.086Z"
   },
   {
    "duration": 13,
    "start_time": "2025-03-23T17:47:17.094Z"
   },
   {
    "duration": 156,
    "start_time": "2025-03-23T17:47:17.109Z"
   },
   {
    "duration": 15,
    "start_time": "2025-03-23T17:47:17.266Z"
   },
   {
    "duration": 109,
    "start_time": "2025-03-23T17:47:17.283Z"
   },
   {
    "duration": 6,
    "start_time": "2025-03-23T17:47:17.393Z"
   },
   {
    "duration": 168,
    "start_time": "2025-03-23T17:47:17.401Z"
   },
   {
    "duration": 5,
    "start_time": "2025-03-23T17:47:17.571Z"
   },
   {
    "duration": 158,
    "start_time": "2025-03-23T17:47:17.577Z"
   },
   {
    "duration": 4,
    "start_time": "2025-03-23T17:47:17.737Z"
   },
   {
    "duration": 135,
    "start_time": "2025-03-23T17:47:17.743Z"
   },
   {
    "duration": 30,
    "start_time": "2025-03-23T17:47:17.880Z"
   },
   {
    "duration": 21,
    "start_time": "2025-03-23T17:47:17.913Z"
   },
   {
    "duration": 39,
    "start_time": "2025-03-23T17:47:17.935Z"
   },
   {
    "duration": 327,
    "start_time": "2025-03-23T17:47:17.975Z"
   },
   {
    "duration": 14,
    "start_time": "2025-03-23T17:47:18.303Z"
   },
   {
    "duration": 176,
    "start_time": "2025-03-23T17:47:18.319Z"
   },
   {
    "duration": 37,
    "start_time": "2025-03-23T17:47:18.496Z"
   },
   {
    "duration": 61,
    "start_time": "2025-03-23T17:47:18.535Z"
   },
   {
    "duration": 19,
    "start_time": "2025-03-23T17:47:18.598Z"
   },
   {
    "duration": 19,
    "start_time": "2025-03-23T17:47:18.619Z"
   },
   {
    "duration": 43,
    "start_time": "2025-03-23T17:47:18.640Z"
   },
   {
    "duration": 9,
    "start_time": "2025-03-23T17:47:18.685Z"
   },
   {
    "duration": 7,
    "start_time": "2025-03-23T17:47:18.696Z"
   },
   {
    "duration": 8,
    "start_time": "2025-03-23T17:47:18.705Z"
   },
   {
    "duration": 9,
    "start_time": "2025-03-23T17:47:18.714Z"
   },
   {
    "duration": 50,
    "start_time": "2025-03-23T17:47:18.725Z"
   },
   {
    "duration": 122,
    "start_time": "2025-03-23T17:49:13.404Z"
   },
   {
    "duration": 134,
    "start_time": "2025-03-23T17:49:39.756Z"
   },
   {
    "duration": 190,
    "start_time": "2025-03-23T17:50:31.490Z"
   },
   {
    "duration": 143,
    "start_time": "2025-03-23T17:51:20.819Z"
   },
   {
    "duration": 159,
    "start_time": "2025-03-23T17:51:47.822Z"
   },
   {
    "duration": 142,
    "start_time": "2025-03-23T17:52:10.486Z"
   },
   {
    "duration": 239,
    "start_time": "2025-03-23T17:52:42.968Z"
   },
   {
    "duration": 213,
    "start_time": "2025-03-23T17:52:54.790Z"
   },
   {
    "duration": 375,
    "start_time": "2025-03-23T17:53:12.934Z"
   },
   {
    "duration": 14,
    "start_time": "2025-03-23T17:54:53.977Z"
   },
   {
    "duration": 13,
    "start_time": "2025-03-23T17:54:57.891Z"
   },
   {
    "duration": 295,
    "start_time": "2025-03-23T17:55:43.099Z"
   },
   {
    "duration": 165,
    "start_time": "2025-03-23T17:56:14.080Z"
   },
   {
    "duration": 192,
    "start_time": "2025-03-23T17:57:18.252Z"
   },
   {
    "duration": 380,
    "start_time": "2025-03-23T17:58:01.977Z"
   },
   {
    "duration": 357,
    "start_time": "2025-03-23T17:58:10.537Z"
   },
   {
    "duration": 293,
    "start_time": "2025-03-23T17:58:24.475Z"
   },
   {
    "duration": 299,
    "start_time": "2025-03-23T17:58:28.227Z"
   },
   {
    "duration": 299,
    "start_time": "2025-03-23T17:58:34.680Z"
   },
   {
    "duration": 359,
    "start_time": "2025-03-23T17:58:42.867Z"
   },
   {
    "duration": 350,
    "start_time": "2025-03-23T17:58:51.283Z"
   },
   {
    "duration": 313,
    "start_time": "2025-03-23T17:58:55.720Z"
   },
   {
    "duration": 310,
    "start_time": "2025-03-23T17:59:02.200Z"
   },
   {
    "duration": 278,
    "start_time": "2025-03-23T18:01:01.310Z"
   },
   {
    "duration": 103,
    "start_time": "2025-03-23T18:02:08.291Z"
   },
   {
    "duration": 116,
    "start_time": "2025-03-23T18:02:17.065Z"
   },
   {
    "duration": 106,
    "start_time": "2025-03-23T18:02:38.136Z"
   },
   {
    "duration": 188,
    "start_time": "2025-03-23T18:02:56.666Z"
   },
   {
    "duration": 305,
    "start_time": "2025-03-23T18:03:05.730Z"
   },
   {
    "duration": 51,
    "start_time": "2025-03-23T18:03:20.039Z"
   },
   {
    "duration": 310,
    "start_time": "2025-03-23T18:03:58.830Z"
   },
   {
    "duration": 526,
    "start_time": "2025-03-23T18:05:01.422Z"
   },
   {
    "duration": 302,
    "start_time": "2025-03-23T18:05:07.477Z"
   },
   {
    "duration": 288,
    "start_time": "2025-03-23T18:05:11.365Z"
   },
   {
    "duration": 122,
    "start_time": "2025-03-23T18:05:15.365Z"
   },
   {
    "duration": 303,
    "start_time": "2025-03-23T18:05:17.440Z"
   },
   {
    "duration": 315,
    "start_time": "2025-03-23T18:05:42.814Z"
   },
   {
    "duration": 295,
    "start_time": "2025-03-23T18:05:50.020Z"
   },
   {
    "duration": 300,
    "start_time": "2025-03-23T18:05:57.668Z"
   },
   {
    "duration": 105,
    "start_time": "2025-03-23T18:06:02.070Z"
   },
   {
    "duration": 305,
    "start_time": "2025-03-23T18:06:04.739Z"
   },
   {
    "duration": 517,
    "start_time": "2025-03-23T18:06:12.933Z"
   },
   {
    "duration": 295,
    "start_time": "2025-03-23T18:06:44.907Z"
   },
   {
    "duration": 301,
    "start_time": "2025-03-23T18:06:51.276Z"
   },
   {
    "duration": 371,
    "start_time": "2025-03-23T18:07:21.810Z"
   },
   {
    "duration": 376,
    "start_time": "2025-03-23T18:07:59.727Z"
   },
   {
    "duration": 447,
    "start_time": "2025-03-23T18:11:29.715Z"
   },
   {
    "duration": 12,
    "start_time": "2025-03-23T18:13:35.605Z"
   },
   {
    "duration": 41,
    "start_time": "2025-03-23T18:14:24.019Z"
   },
   {
    "duration": 15,
    "start_time": "2025-03-23T18:14:28.928Z"
   },
   {
    "duration": 1488,
    "start_time": "2025-03-23T18:14:32.196Z"
   },
   {
    "duration": 1030,
    "start_time": "2025-03-23T18:14:57.631Z"
   },
   {
    "duration": 71,
    "start_time": "2025-03-23T18:14:58.663Z"
   },
   {
    "duration": 21,
    "start_time": "2025-03-23T18:14:58.736Z"
   },
   {
    "duration": 15,
    "start_time": "2025-03-23T18:14:58.759Z"
   },
   {
    "duration": 12,
    "start_time": "2025-03-23T18:14:58.776Z"
   },
   {
    "duration": 13,
    "start_time": "2025-03-23T18:14:58.789Z"
   },
   {
    "duration": 11,
    "start_time": "2025-03-23T18:14:58.803Z"
   },
   {
    "duration": 13,
    "start_time": "2025-03-23T18:14:58.815Z"
   },
   {
    "duration": 5,
    "start_time": "2025-03-23T18:14:58.829Z"
   },
   {
    "duration": 13,
    "start_time": "2025-03-23T18:14:58.836Z"
   },
   {
    "duration": 8,
    "start_time": "2025-03-23T18:14:58.851Z"
   },
   {
    "duration": 9,
    "start_time": "2025-03-23T18:14:58.873Z"
   },
   {
    "duration": 5,
    "start_time": "2025-03-23T18:14:58.883Z"
   },
   {
    "duration": 14,
    "start_time": "2025-03-23T18:14:58.889Z"
   },
   {
    "duration": 9,
    "start_time": "2025-03-23T18:14:58.905Z"
   },
   {
    "duration": 6,
    "start_time": "2025-03-23T18:14:58.915Z"
   },
   {
    "duration": 12,
    "start_time": "2025-03-23T18:14:58.923Z"
   },
   {
    "duration": 179,
    "start_time": "2025-03-23T18:14:58.936Z"
   },
   {
    "duration": 11,
    "start_time": "2025-03-23T18:14:59.116Z"
   },
   {
    "duration": 121,
    "start_time": "2025-03-23T18:14:59.129Z"
   },
   {
    "duration": 5,
    "start_time": "2025-03-23T18:14:59.252Z"
   },
   {
    "duration": 167,
    "start_time": "2025-03-23T18:14:59.259Z"
   },
   {
    "duration": 5,
    "start_time": "2025-03-23T18:14:59.428Z"
   },
   {
    "duration": 166,
    "start_time": "2025-03-23T18:14:59.434Z"
   },
   {
    "duration": 5,
    "start_time": "2025-03-23T18:14:59.601Z"
   },
   {
    "duration": 148,
    "start_time": "2025-03-23T18:14:59.607Z"
   },
   {
    "duration": 33,
    "start_time": "2025-03-23T18:14:59.757Z"
   },
   {
    "duration": 14,
    "start_time": "2025-03-23T18:14:59.793Z"
   },
   {
    "duration": 14,
    "start_time": "2025-03-23T18:14:59.809Z"
   },
   {
    "duration": 357,
    "start_time": "2025-03-23T18:14:59.825Z"
   },
   {
    "duration": 16,
    "start_time": "2025-03-23T18:15:00.184Z"
   },
   {
    "duration": 189,
    "start_time": "2025-03-23T18:15:00.202Z"
   },
   {
    "duration": 455,
    "start_time": "2025-03-23T18:15:00.393Z"
   },
   {
    "duration": 129,
    "start_time": "2025-03-23T18:15:00.850Z"
   },
   {
    "duration": 10,
    "start_time": "2025-03-23T18:15:00.981Z"
   },
   {
    "duration": 30,
    "start_time": "2025-03-23T18:15:00.993Z"
   },
   {
    "duration": 11,
    "start_time": "2025-03-23T18:15:01.024Z"
   },
   {
    "duration": 37,
    "start_time": "2025-03-23T18:15:01.037Z"
   },
   {
    "duration": 14,
    "start_time": "2025-03-23T18:15:01.076Z"
   },
   {
    "duration": 8,
    "start_time": "2025-03-23T18:15:01.092Z"
   },
   {
    "duration": 11,
    "start_time": "2025-03-23T18:15:01.102Z"
   },
   {
    "duration": 7,
    "start_time": "2025-03-23T18:15:01.115Z"
   },
   {
    "duration": 14,
    "start_time": "2025-03-23T18:15:01.124Z"
   },
   {
    "duration": 33,
    "start_time": "2025-03-23T18:15:01.140Z"
   },
   {
    "duration": 9,
    "start_time": "2025-03-23T18:16:13.135Z"
   },
   {
    "duration": 10,
    "start_time": "2025-03-23T18:21:37.504Z"
   },
   {
    "duration": 9,
    "start_time": "2025-03-23T18:21:42.311Z"
   },
   {
    "duration": 9,
    "start_time": "2025-03-23T18:30:27.654Z"
   },
   {
    "duration": 9,
    "start_time": "2025-03-23T18:38:27.642Z"
   },
   {
    "duration": 1091,
    "start_time": "2025-03-23T18:39:30.744Z"
   },
   {
    "duration": 70,
    "start_time": "2025-03-23T18:39:31.836Z"
   },
   {
    "duration": 20,
    "start_time": "2025-03-23T18:39:31.908Z"
   },
   {
    "duration": 18,
    "start_time": "2025-03-23T18:39:31.930Z"
   },
   {
    "duration": 14,
    "start_time": "2025-03-23T18:39:31.949Z"
   },
   {
    "duration": 14,
    "start_time": "2025-03-23T18:39:31.973Z"
   },
   {
    "duration": 4,
    "start_time": "2025-03-23T18:39:31.989Z"
   },
   {
    "duration": 10,
    "start_time": "2025-03-23T18:39:31.995Z"
   },
   {
    "duration": 5,
    "start_time": "2025-03-23T18:39:32.007Z"
   },
   {
    "duration": 23,
    "start_time": "2025-03-23T18:39:32.014Z"
   },
   {
    "duration": 18,
    "start_time": "2025-03-23T18:39:32.039Z"
   },
   {
    "duration": 17,
    "start_time": "2025-03-23T18:39:32.058Z"
   },
   {
    "duration": 13,
    "start_time": "2025-03-23T18:39:32.077Z"
   },
   {
    "duration": 8,
    "start_time": "2025-03-23T18:39:32.092Z"
   },
   {
    "duration": 11,
    "start_time": "2025-03-23T18:39:32.101Z"
   },
   {
    "duration": 26,
    "start_time": "2025-03-23T18:39:32.114Z"
   },
   {
    "duration": 22,
    "start_time": "2025-03-23T18:39:32.142Z"
   },
   {
    "duration": 152,
    "start_time": "2025-03-23T18:39:32.166Z"
   },
   {
    "duration": 10,
    "start_time": "2025-03-23T18:39:32.320Z"
   },
   {
    "duration": 121,
    "start_time": "2025-03-23T18:39:32.332Z"
   },
   {
    "duration": 7,
    "start_time": "2025-03-23T18:39:32.454Z"
   },
   {
    "duration": 150,
    "start_time": "2025-03-23T18:39:32.472Z"
   },
   {
    "duration": 5,
    "start_time": "2025-03-23T18:39:32.623Z"
   },
   {
    "duration": 177,
    "start_time": "2025-03-23T18:39:32.629Z"
   },
   {
    "duration": 7,
    "start_time": "2025-03-23T18:39:32.808Z"
   },
   {
    "duration": 158,
    "start_time": "2025-03-23T18:39:32.817Z"
   },
   {
    "duration": 31,
    "start_time": "2025-03-23T18:39:32.977Z"
   },
   {
    "duration": 15,
    "start_time": "2025-03-23T18:39:33.013Z"
   },
   {
    "duration": 26,
    "start_time": "2025-03-23T18:39:33.030Z"
   },
   {
    "duration": 370,
    "start_time": "2025-03-23T18:39:33.072Z"
   },
   {
    "duration": 15,
    "start_time": "2025-03-23T18:39:33.444Z"
   },
   {
    "duration": 165,
    "start_time": "2025-03-23T18:39:33.461Z"
   },
   {
    "duration": 468,
    "start_time": "2025-03-23T18:39:33.627Z"
   },
   {
    "duration": 114,
    "start_time": "2025-03-23T18:39:34.096Z"
   },
   {
    "duration": 9,
    "start_time": "2025-03-23T18:39:34.212Z"
   },
   {
    "duration": 35,
    "start_time": "2025-03-23T18:39:34.223Z"
   },
   {
    "duration": 24,
    "start_time": "2025-03-23T18:39:34.259Z"
   },
   {
    "duration": 12,
    "start_time": "2025-03-23T18:39:34.284Z"
   },
   {
    "duration": 16,
    "start_time": "2025-03-23T18:39:34.297Z"
   },
   {
    "duration": 7,
    "start_time": "2025-03-23T18:39:34.315Z"
   },
   {
    "duration": 7,
    "start_time": "2025-03-23T18:39:34.324Z"
   },
   {
    "duration": 16,
    "start_time": "2025-03-23T18:39:34.333Z"
   },
   {
    "duration": 28,
    "start_time": "2025-03-23T18:39:34.350Z"
   },
   {
    "duration": 11,
    "start_time": "2025-03-23T18:39:34.380Z"
   },
   {
    "duration": 427,
    "start_time": "2025-03-23T18:42:50.421Z"
   },
   {
    "duration": 33,
    "start_time": "2025-03-23T18:45:39.472Z"
   },
   {
    "duration": 1108,
    "start_time": "2025-03-23T18:48:52.443Z"
   },
   {
    "duration": 61,
    "start_time": "2025-03-23T18:48:53.552Z"
   },
   {
    "duration": 20,
    "start_time": "2025-03-23T18:48:53.614Z"
   },
   {
    "duration": 17,
    "start_time": "2025-03-23T18:48:53.636Z"
   },
   {
    "duration": 13,
    "start_time": "2025-03-23T18:48:53.654Z"
   },
   {
    "duration": 15,
    "start_time": "2025-03-23T18:48:53.669Z"
   },
   {
    "duration": 4,
    "start_time": "2025-03-23T18:48:53.686Z"
   },
   {
    "duration": 10,
    "start_time": "2025-03-23T18:48:53.692Z"
   },
   {
    "duration": 5,
    "start_time": "2025-03-23T18:48:53.703Z"
   },
   {
    "duration": 7,
    "start_time": "2025-03-23T18:48:53.711Z"
   },
   {
    "duration": 15,
    "start_time": "2025-03-23T18:48:53.719Z"
   },
   {
    "duration": 9,
    "start_time": "2025-03-23T18:48:53.735Z"
   },
   {
    "duration": 5,
    "start_time": "2025-03-23T18:48:53.774Z"
   },
   {
    "duration": 10,
    "start_time": "2025-03-23T18:48:53.781Z"
   },
   {
    "duration": 9,
    "start_time": "2025-03-23T18:48:53.793Z"
   },
   {
    "duration": 6,
    "start_time": "2025-03-23T18:48:53.804Z"
   },
   {
    "duration": 21,
    "start_time": "2025-03-23T18:48:53.811Z"
   },
   {
    "duration": 185,
    "start_time": "2025-03-23T18:48:53.833Z"
   },
   {
    "duration": 10,
    "start_time": "2025-03-23T18:48:54.020Z"
   },
   {
    "duration": 122,
    "start_time": "2025-03-23T18:48:54.031Z"
   },
   {
    "duration": 6,
    "start_time": "2025-03-23T18:48:54.155Z"
   },
   {
    "duration": 161,
    "start_time": "2025-03-23T18:48:54.162Z"
   },
   {
    "duration": 5,
    "start_time": "2025-03-23T18:48:54.324Z"
   },
   {
    "duration": 169,
    "start_time": "2025-03-23T18:48:54.331Z"
   },
   {
    "duration": 5,
    "start_time": "2025-03-23T18:48:54.501Z"
   },
   {
    "duration": 147,
    "start_time": "2025-03-23T18:48:54.507Z"
   },
   {
    "duration": 32,
    "start_time": "2025-03-23T18:48:54.656Z"
   },
   {
    "duration": 15,
    "start_time": "2025-03-23T18:48:54.691Z"
   },
   {
    "duration": 13,
    "start_time": "2025-03-23T18:48:54.707Z"
   },
   {
    "duration": 365,
    "start_time": "2025-03-23T18:48:54.721Z"
   },
   {
    "duration": 436,
    "start_time": "2025-03-23T18:48:55.087Z"
   },
   {
    "duration": 14,
    "start_time": "2025-03-23T18:48:55.524Z"
   },
   {
    "duration": 182,
    "start_time": "2025-03-23T18:48:55.540Z"
   },
   {
    "duration": 120,
    "start_time": "2025-03-23T18:48:55.724Z"
   },
   {
    "duration": 11,
    "start_time": "2025-03-23T18:48:55.846Z"
   },
   {
    "duration": 44,
    "start_time": "2025-03-23T18:48:55.858Z"
   },
   {
    "duration": 11,
    "start_time": "2025-03-23T18:48:55.905Z"
   },
   {
    "duration": 13,
    "start_time": "2025-03-23T18:48:55.918Z"
   },
   {
    "duration": 43,
    "start_time": "2025-03-23T18:48:55.933Z"
   },
   {
    "duration": 9,
    "start_time": "2025-03-23T18:48:55.977Z"
   },
   {
    "duration": 6,
    "start_time": "2025-03-23T18:48:55.987Z"
   },
   {
    "duration": 7,
    "start_time": "2025-03-23T18:48:55.994Z"
   },
   {
    "duration": 8,
    "start_time": "2025-03-23T18:48:56.002Z"
   },
   {
    "duration": 7,
    "start_time": "2025-03-23T18:48:56.011Z"
   },
   {
    "duration": 1058,
    "start_time": "2025-03-23T18:51:08.033Z"
   },
   {
    "duration": 59,
    "start_time": "2025-03-23T18:51:09.093Z"
   },
   {
    "duration": 19,
    "start_time": "2025-03-23T18:51:09.156Z"
   },
   {
    "duration": 17,
    "start_time": "2025-03-23T18:51:09.176Z"
   },
   {
    "duration": 13,
    "start_time": "2025-03-23T18:51:09.194Z"
   },
   {
    "duration": 15,
    "start_time": "2025-03-23T18:51:09.208Z"
   },
   {
    "duration": 4,
    "start_time": "2025-03-23T18:51:09.224Z"
   },
   {
    "duration": 45,
    "start_time": "2025-03-23T18:51:09.230Z"
   },
   {
    "duration": 5,
    "start_time": "2025-03-23T18:51:09.278Z"
   },
   {
    "duration": 5,
    "start_time": "2025-03-23T18:51:09.285Z"
   },
   {
    "duration": 12,
    "start_time": "2025-03-23T18:51:09.291Z"
   },
   {
    "duration": 10,
    "start_time": "2025-03-23T18:51:09.305Z"
   },
   {
    "duration": 7,
    "start_time": "2025-03-23T18:51:09.316Z"
   },
   {
    "duration": 8,
    "start_time": "2025-03-23T18:51:09.324Z"
   },
   {
    "duration": 43,
    "start_time": "2025-03-23T18:51:09.334Z"
   },
   {
    "duration": 6,
    "start_time": "2025-03-23T18:51:09.379Z"
   },
   {
    "duration": 12,
    "start_time": "2025-03-23T18:51:09.387Z"
   },
   {
    "duration": 175,
    "start_time": "2025-03-23T18:51:09.400Z"
   },
   {
    "duration": 11,
    "start_time": "2025-03-23T18:51:09.576Z"
   },
   {
    "duration": 128,
    "start_time": "2025-03-23T18:51:09.588Z"
   },
   {
    "duration": 6,
    "start_time": "2025-03-23T18:51:09.717Z"
   },
   {
    "duration": 154,
    "start_time": "2025-03-23T18:51:09.725Z"
   },
   {
    "duration": 5,
    "start_time": "2025-03-23T18:51:09.881Z"
   },
   {
    "duration": 171,
    "start_time": "2025-03-23T18:51:09.887Z"
   },
   {
    "duration": 4,
    "start_time": "2025-03-23T18:51:10.060Z"
   },
   {
    "duration": 147,
    "start_time": "2025-03-23T18:51:10.073Z"
   },
   {
    "duration": 24,
    "start_time": "2025-03-23T18:51:10.224Z"
   },
   {
    "duration": 28,
    "start_time": "2025-03-23T18:51:10.250Z"
   },
   {
    "duration": 14,
    "start_time": "2025-03-23T18:51:10.280Z"
   },
   {
    "duration": 363,
    "start_time": "2025-03-23T18:51:10.295Z"
   },
   {
    "duration": 441,
    "start_time": "2025-03-23T18:51:10.659Z"
   },
   {
    "duration": 14,
    "start_time": "2025-03-23T18:51:11.101Z"
   },
   {
    "duration": 254,
    "start_time": "2025-03-23T18:51:11.116Z"
   },
   {
    "duration": 34,
    "start_time": "2025-03-23T18:51:11.371Z"
   },
   {
    "duration": 10,
    "start_time": "2025-03-23T18:51:11.407Z"
   },
   {
    "duration": 54,
    "start_time": "2025-03-23T18:51:11.419Z"
   },
   {
    "duration": 12,
    "start_time": "2025-03-23T18:51:11.475Z"
   },
   {
    "duration": 12,
    "start_time": "2025-03-23T18:51:11.488Z"
   },
   {
    "duration": 13,
    "start_time": "2025-03-23T18:51:11.501Z"
   },
   {
    "duration": 8,
    "start_time": "2025-03-23T18:51:11.515Z"
   },
   {
    "duration": 6,
    "start_time": "2025-03-23T18:51:11.525Z"
   },
   {
    "duration": 43,
    "start_time": "2025-03-23T18:51:11.532Z"
   },
   {
    "duration": 12,
    "start_time": "2025-03-23T18:51:11.576Z"
   },
   {
    "duration": 9,
    "start_time": "2025-03-23T18:51:11.589Z"
   },
   {
    "duration": 1031,
    "start_time": "2025-03-23T18:59:05.501Z"
   },
   {
    "duration": 62,
    "start_time": "2025-03-23T18:59:06.534Z"
   },
   {
    "duration": 19,
    "start_time": "2025-03-23T18:59:06.598Z"
   },
   {
    "duration": 16,
    "start_time": "2025-03-23T18:59:06.619Z"
   },
   {
    "duration": 15,
    "start_time": "2025-03-23T18:59:06.637Z"
   },
   {
    "duration": 31,
    "start_time": "2025-03-23T18:59:06.653Z"
   },
   {
    "duration": 4,
    "start_time": "2025-03-23T18:59:06.686Z"
   },
   {
    "duration": 23,
    "start_time": "2025-03-23T18:59:06.691Z"
   },
   {
    "duration": 6,
    "start_time": "2025-03-23T18:59:06.716Z"
   },
   {
    "duration": 11,
    "start_time": "2025-03-23T18:59:06.724Z"
   },
   {
    "duration": 12,
    "start_time": "2025-03-23T18:59:06.736Z"
   },
   {
    "duration": 24,
    "start_time": "2025-03-23T18:59:06.749Z"
   },
   {
    "duration": 15,
    "start_time": "2025-03-23T18:59:06.774Z"
   },
   {
    "duration": 13,
    "start_time": "2025-03-23T18:59:06.790Z"
   },
   {
    "duration": 10,
    "start_time": "2025-03-23T18:59:06.804Z"
   },
   {
    "duration": 6,
    "start_time": "2025-03-23T18:59:06.815Z"
   },
   {
    "duration": 11,
    "start_time": "2025-03-23T18:59:06.823Z"
   },
   {
    "duration": 176,
    "start_time": "2025-03-23T18:59:06.836Z"
   },
   {
    "duration": 11,
    "start_time": "2025-03-23T18:59:07.013Z"
   },
   {
    "duration": 126,
    "start_time": "2025-03-23T18:59:07.025Z"
   },
   {
    "duration": 6,
    "start_time": "2025-03-23T18:59:07.152Z"
   },
   {
    "duration": 161,
    "start_time": "2025-03-23T18:59:07.159Z"
   },
   {
    "duration": 4,
    "start_time": "2025-03-23T18:59:07.322Z"
   },
   {
    "duration": 163,
    "start_time": "2025-03-23T18:59:07.328Z"
   },
   {
    "duration": 4,
    "start_time": "2025-03-23T18:59:07.492Z"
   },
   {
    "duration": 149,
    "start_time": "2025-03-23T18:59:07.498Z"
   },
   {
    "duration": 28,
    "start_time": "2025-03-23T18:59:07.649Z"
   },
   {
    "duration": 15,
    "start_time": "2025-03-23T18:59:07.680Z"
   },
   {
    "duration": 13,
    "start_time": "2025-03-23T18:59:07.696Z"
   },
   {
    "duration": 384,
    "start_time": "2025-03-23T18:59:07.710Z"
   },
   {
    "duration": 444,
    "start_time": "2025-03-23T18:59:08.096Z"
   },
   {
    "duration": 14,
    "start_time": "2025-03-23T18:59:08.541Z"
   },
   {
    "duration": 262,
    "start_time": "2025-03-23T18:59:08.556Z"
   },
   {
    "duration": 32,
    "start_time": "2025-03-23T18:59:08.819Z"
   },
   {
    "duration": 23,
    "start_time": "2025-03-23T18:59:08.852Z"
   },
   {
    "duration": 35,
    "start_time": "2025-03-23T18:59:08.877Z"
   },
   {
    "duration": 11,
    "start_time": "2025-03-23T18:59:08.914Z"
   },
   {
    "duration": 13,
    "start_time": "2025-03-23T18:59:08.926Z"
   },
   {
    "duration": 44,
    "start_time": "2025-03-23T18:59:08.940Z"
   },
   {
    "duration": 8,
    "start_time": "2025-03-23T18:59:08.985Z"
   },
   {
    "duration": 6,
    "start_time": "2025-03-23T18:59:08.994Z"
   },
   {
    "duration": 7,
    "start_time": "2025-03-23T18:59:09.001Z"
   },
   {
    "duration": 12,
    "start_time": "2025-03-23T18:59:09.009Z"
   },
   {
    "duration": 18,
    "start_time": "2025-03-23T18:59:09.022Z"
   },
   {
    "duration": 1080,
    "start_time": "2025-03-23T20:18:41.773Z"
   },
   {
    "duration": 59,
    "start_time": "2025-03-23T20:18:42.855Z"
   },
   {
    "duration": 18,
    "start_time": "2025-03-23T20:18:42.915Z"
   },
   {
    "duration": 40,
    "start_time": "2025-03-23T20:18:42.934Z"
   },
   {
    "duration": 13,
    "start_time": "2025-03-23T20:18:42.976Z"
   },
   {
    "duration": 14,
    "start_time": "2025-03-23T20:18:42.990Z"
   },
   {
    "duration": 3,
    "start_time": "2025-03-23T20:18:43.005Z"
   },
   {
    "duration": 17,
    "start_time": "2025-03-23T20:18:43.010Z"
   },
   {
    "duration": 5,
    "start_time": "2025-03-23T20:18:43.028Z"
   },
   {
    "duration": 4,
    "start_time": "2025-03-23T20:18:43.035Z"
   },
   {
    "duration": 13,
    "start_time": "2025-03-23T20:18:43.040Z"
   },
   {
    "duration": 8,
    "start_time": "2025-03-23T20:18:43.055Z"
   },
   {
    "duration": 17,
    "start_time": "2025-03-23T20:18:43.064Z"
   },
   {
    "duration": 9,
    "start_time": "2025-03-23T20:18:43.082Z"
   },
   {
    "duration": 22,
    "start_time": "2025-03-23T20:18:43.092Z"
   },
   {
    "duration": 74,
    "start_time": "2025-03-23T20:18:43.115Z"
   },
   {
    "duration": 17,
    "start_time": "2025-03-23T20:18:43.191Z"
   },
   {
    "duration": 132,
    "start_time": "2025-03-23T20:18:43.209Z"
   },
   {
    "duration": 10,
    "start_time": "2025-03-23T20:18:43.342Z"
   },
   {
    "duration": 115,
    "start_time": "2025-03-23T20:18:43.354Z"
   },
   {
    "duration": 5,
    "start_time": "2025-03-23T20:18:43.471Z"
   },
   {
    "duration": 148,
    "start_time": "2025-03-23T20:18:43.477Z"
   },
   {
    "duration": 5,
    "start_time": "2025-03-23T20:18:43.626Z"
   },
   {
    "duration": 161,
    "start_time": "2025-03-23T20:18:43.632Z"
   },
   {
    "duration": 14,
    "start_time": "2025-03-23T20:18:43.794Z"
   },
   {
    "duration": 140,
    "start_time": "2025-03-23T20:18:43.809Z"
   },
   {
    "duration": 22,
    "start_time": "2025-03-23T20:18:43.950Z"
   },
   {
    "duration": 14,
    "start_time": "2025-03-23T20:18:43.976Z"
   },
   {
    "duration": 14,
    "start_time": "2025-03-23T20:18:44.006Z"
   },
   {
    "duration": 330,
    "start_time": "2025-03-23T20:18:44.021Z"
   },
   {
    "duration": 398,
    "start_time": "2025-03-23T20:18:44.353Z"
   },
   {
    "duration": 13,
    "start_time": "2025-03-23T20:18:44.753Z"
   },
   {
    "duration": 233,
    "start_time": "2025-03-23T20:18:44.767Z"
   },
   {
    "duration": 29,
    "start_time": "2025-03-23T20:18:45.007Z"
   },
   {
    "duration": 19,
    "start_time": "2025-03-23T20:18:45.038Z"
   },
   {
    "duration": 28,
    "start_time": "2025-03-23T20:18:45.059Z"
   },
   {
    "duration": 23,
    "start_time": "2025-03-23T20:18:45.088Z"
   },
   {
    "duration": 94,
    "start_time": "2025-03-23T20:18:45.112Z"
   },
   {
    "duration": 13,
    "start_time": "2025-03-23T20:18:45.207Z"
   },
   {
    "duration": 23,
    "start_time": "2025-03-23T20:18:45.221Z"
   },
   {
    "duration": 13,
    "start_time": "2025-03-23T20:18:45.245Z"
   },
   {
    "duration": 14,
    "start_time": "2025-03-23T20:18:45.259Z"
   },
   {
    "duration": 7,
    "start_time": "2025-03-23T20:18:45.274Z"
   },
   {
    "duration": 9,
    "start_time": "2025-03-23T20:18:45.282Z"
   },
   {
    "duration": 1205,
    "start_time": "2025-04-02T12:11:28.433Z"
   },
   {
    "duration": 67,
    "start_time": "2025-04-02T12:11:29.640Z"
   },
   {
    "duration": 21,
    "start_time": "2025-04-02T12:11:29.709Z"
   },
   {
    "duration": 16,
    "start_time": "2025-04-02T12:11:29.732Z"
   },
   {
    "duration": 26,
    "start_time": "2025-04-02T12:11:29.749Z"
   },
   {
    "duration": 15,
    "start_time": "2025-04-02T12:11:29.777Z"
   },
   {
    "duration": 5,
    "start_time": "2025-04-02T12:11:29.793Z"
   },
   {
    "duration": 13,
    "start_time": "2025-04-02T12:11:29.799Z"
   },
   {
    "duration": 90,
    "start_time": "2025-04-02T12:11:29.814Z"
   },
   {
    "duration": 4,
    "start_time": "2025-04-02T12:11:29.906Z"
   },
   {
    "duration": 11,
    "start_time": "2025-04-02T12:11:29.912Z"
   },
   {
    "duration": 9,
    "start_time": "2025-04-02T12:11:29.925Z"
   },
   {
    "duration": 8,
    "start_time": "2025-04-02T12:11:29.936Z"
   },
   {
    "duration": 8,
    "start_time": "2025-04-02T12:11:29.947Z"
   },
   {
    "duration": 10,
    "start_time": "2025-04-02T12:11:29.956Z"
   },
   {
    "duration": 11,
    "start_time": "2025-04-02T12:11:29.967Z"
   },
   {
    "duration": 134,
    "start_time": "2025-04-02T12:11:29.980Z"
   },
   {
    "duration": 236,
    "start_time": "2025-04-02T12:11:30.116Z"
   },
   {
    "duration": 12,
    "start_time": "2025-04-02T12:11:30.353Z"
   },
   {
    "duration": 138,
    "start_time": "2025-04-02T12:11:30.376Z"
   },
   {
    "duration": 5,
    "start_time": "2025-04-02T12:11:30.515Z"
   },
   {
    "duration": 160,
    "start_time": "2025-04-02T12:11:30.522Z"
   },
   {
    "duration": 4,
    "start_time": "2025-04-02T12:11:30.684Z"
   },
   {
    "duration": 174,
    "start_time": "2025-04-02T12:11:30.690Z"
   },
   {
    "duration": 13,
    "start_time": "2025-04-02T12:11:30.866Z"
   },
   {
    "duration": 151,
    "start_time": "2025-04-02T12:11:30.880Z"
   },
   {
    "duration": 25,
    "start_time": "2025-04-02T12:11:31.032Z"
   },
   {
    "duration": 29,
    "start_time": "2025-04-02T12:11:31.059Z"
   },
   {
    "duration": 97,
    "start_time": "2025-04-02T12:11:31.090Z"
   },
   {
    "duration": 365,
    "start_time": "2025-04-02T12:11:31.188Z"
   },
   {
    "duration": 465,
    "start_time": "2025-04-02T12:11:31.555Z"
   },
   {
    "duration": 20,
    "start_time": "2025-04-02T12:11:32.022Z"
   },
   {
    "duration": 380,
    "start_time": "2025-04-02T12:11:32.044Z"
   },
   {
    "duration": 50,
    "start_time": "2025-04-02T12:11:32.426Z"
   },
   {
    "duration": 12,
    "start_time": "2025-04-02T12:11:32.478Z"
   },
   {
    "duration": 61,
    "start_time": "2025-04-02T12:11:32.492Z"
   },
   {
    "duration": 13,
    "start_time": "2025-04-02T12:11:32.555Z"
   },
   {
    "duration": 35,
    "start_time": "2025-04-02T12:11:32.569Z"
   },
   {
    "duration": 13,
    "start_time": "2025-04-02T12:11:32.606Z"
   },
   {
    "duration": 14,
    "start_time": "2025-04-02T12:11:32.620Z"
   },
   {
    "duration": 18,
    "start_time": "2025-04-02T12:11:32.638Z"
   },
   {
    "duration": 14,
    "start_time": "2025-04-02T12:11:32.658Z"
   },
   {
    "duration": 13,
    "start_time": "2025-04-02T12:11:32.674Z"
   },
   {
    "duration": 14,
    "start_time": "2025-04-02T12:11:32.688Z"
   }
  ],
  "kernelspec": {
   "display_name": "Python 3 (ipykernel)",
   "language": "python",
   "name": "python3"
  },
  "language_info": {
   "codemirror_mode": {
    "name": "ipython",
    "version": 3
   },
   "file_extension": ".py",
   "mimetype": "text/x-python",
   "name": "python",
   "nbconvert_exporter": "python",
   "pygments_lexer": "ipython3",
   "version": "3.9.5"
  },
  "toc": {
   "base_numbering": 1,
   "nav_menu": {},
   "number_sections": true,
   "sideBar": true,
   "skip_h1_title": true,
   "title_cell": "Table of Contents",
   "title_sidebar": "Contents",
   "toc_cell": false,
   "toc_position": {},
   "toc_section_display": true,
   "toc_window_display": false
  }
 },
 "nbformat": 4,
 "nbformat_minor": 5
}
